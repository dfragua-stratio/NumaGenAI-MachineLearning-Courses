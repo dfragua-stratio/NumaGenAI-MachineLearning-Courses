{
 "cells": [
  {
   "cell_type": "markdown",
   "metadata": {
    "id": "9Z-u0asqSJS9"
   },
   "source": [
    "# **Modelado estadístico con *Python***\n",
    "---\n",
    "En este notebook presentaremos los conceptos fundamentales y las herramientas para realizar **análisis de correlaciones** y **análisis de regresiones** con *Python*.\n",
    "\n",
    "Para realizar este tipo de análisis estadísticos usando *Python* usaremos principalmente dos librerías especializadas: **`scipy`** y **`statsmodels`**.\n",
    "\n",
    "<img src=\"https://www.statsmodels.org/stable/_images/statsmodels-logo-v2-horizontal.svg\" alt=\"statsmodels\" width=\"45%\">"
   ]
  },
  {
   "cell_type": "code",
   "execution_count": 1,
   "metadata": {
    "colab": {
     "base_uri": "https://localhost:8080/"
    },
    "executionInfo": {
     "elapsed": 2060,
     "status": "ok",
     "timestamp": 1615645949163,
     "user": {
      "displayName": "Daniel Felipe Fragua Rengifo",
      "photoUrl": "",
      "userId": "09845551813303536248"
     },
     "user_tz": 300
    },
    "id": "V3wRdctX8zjR",
    "outputId": "7e7e5582-99ec-40a4-ddf6-c85adef9c458"
   },
   "outputs": [],
   "source": [
    "from scipy import stats\n",
    "import scipy\n",
    "import statsmodels.api as sm\n",
    "import statsmodels.formula.api as smf"
   ]
  },
  {
   "cell_type": "code",
   "execution_count": 2,
   "metadata": {
    "id": "b4XQA3OMRiGj"
   },
   "outputs": [],
   "source": [
    "# Otras librerías de utilidad.\n",
    "\n",
    "import numpy as np\n",
    "import pandas as pd\n",
    "\n",
    "# Matplotlib se verá en los recursos de la Unidad 4.\n",
    "import matplotlib  \n",
    "import matplotlib.pyplot as plt\n",
    "%matplotlib inline"
   ]
  },
  {
   "cell_type": "markdown",
   "metadata": {
    "id": "kyyYqzShjxwL"
   },
   "source": [
    "# **1. Análisis de correlación**\n",
    "---\n",
    "El análisis de correlación es el proceso estadístico en el que se busca identificar asociaciones (relaciones o dependencias) entre dos variables. Estas relaciones se cuantifican con coeficientes de correlación, que representan numéricamente el grado de relación entre las variables analizadas."
   ]
  },
  {
   "cell_type": "markdown",
   "metadata": {
    "id": "lybakBRGIve2",
    "tags": []
   },
   "source": [
    "## **1.1 Coeficientes de correlación**\n",
    "---\n",
    "\n",
    "Los **coeficientes de correlación** pueden tener valores de entre $-1.0$ y $1.0$. Una correlación positiva significa que las variables tienen una relación directa, mientras que una correlación negativa indica que las variables tienen una relación inversa entre sí. Mientras más cerca está de los extremos $-1.0$ y $1.0$, mayor es la fuerza de la correlación. Los valores cercanos a $0.0$ manifiestan una correlación lineal nula entre las variables.\n",
    "\n",
    "Existen 3 tipos de coeficientes de correlación:\n",
    "* **Coeficiente de correlación $r$ de Pearson**: Es el coeficiente de correlación **más utilizado**, y de especial utilidad con **variables cuantitativas**. Es un método paramétrico, y por lo tanto, depende del supuesto de que los datos tienen una **distribución normal y varianzas homogéneas**. Es especialmente sensible a valores atípicos, por lo que se recomienda limpiar adecuadamente los datos.\n",
    "* **Coeficiente de correlación $\\rho$ de Spearman**: Es un método no-paramétrico, de utilidad con **variables categóricas ordinales** o **variables numéricas**. Su cálculo es muy similar al coeficiente de Pearson, agregando consideraciones adicionales en el uso de variables de rango. Los datos pueden ser no normalmente distribuidos y no haber homogeneidad de varianzas.\n",
    "* **Coeficiente de correlación $\\tau$ de Kendall**: Es un método no-paramétrico usado en **variables categóricas ordinales**. Se basa en la correspondencia entre el orden de cada pareja de observaciones. Debido a esto es más costoso a nivel computacional, pero más robusto en algunos casos. No realiza ninguna suposición sobre la distribución de los datos. La única suposición es que existe una relación monotónica entre las variables probadas.\n",
    "\n"
   ]
  },
  {
   "cell_type": "markdown",
   "metadata": {
    "id": "5aditTjnEocN"
   },
   "source": [
    "### **1.1.1. Usando `Pandas`**\n",
    "---\n",
    "\n",
    "En *Python* es posible hacer análisis de correlación usando *NumPy*, *pandas* y *SciPy*, principalmente. Usando ***pandas*** se pueden llevar acabo análisis básicos por medio de las siguientes funciones, vistas en la unidad anterior:\n",
    "\n",
    "* [**`pd.Series.corr`**](https://pandas.pydata.org/pandas-docs/stable/reference/api/pandas.Series.corr.html): Calcula el coeficiente de correlación con otra **`Series`** de *pandas*, excluyendo los valores faltantes. Recibe como parámetro el método usado (**`'pearson', 'kendall', 'spearman'`**).\n",
    "\n",
    "* [**`pd.DataFrame.corrwith`**](https://pandas.pydata.org/pandas-docs/stable/reference/api/pandas.DataFrame.corrwith.html): Calcula la correlación uno a uno entre las filas o columnas de un **`DataFrame`** de *pandas* con las filas o columnas de otra **`Series`** u otro **`DataFrame`**. Recibe como parámetro el método usado (**`'pearson', 'kendall', 'spearman'`**).\n",
    "\n",
    "* [**`pd.DataFrame.corr`**](https://pandas.pydata.org/pandas-docs/stable/reference/api/pandas.DataFrame.corr.html): Calcula la matriz de correlación entre las columnas de un **`DataFrame`** de *pandas*, excluyendo los valores nulos o faltantes. Recibe como parámetro el método usado (**`'pearson', 'kendall', 'spearman'`**).\n",
    "\n",
    "Más adelante en este Notebook veremos otros análisis más avanzados usando *SciPy*. Por el momento, veamos algunos ejemplos usando *pandas*.\n"
   ]
  },
  {
   "cell_type": "markdown",
   "metadata": {
    "id": "ImcG6OzbIfLC"
   },
   "source": [
    "Inicialmente vamos a trabajar con los siguientes datos de ejemplo:"
   ]
  },
  {
   "cell_type": "code",
   "execution_count": 3,
   "metadata": {
    "colab": {
     "base_uri": "https://localhost:8080/",
     "height": 359
    },
    "executionInfo": {
     "elapsed": 465,
     "status": "ok",
     "timestamp": 1615645951955,
     "user": {
      "displayName": "Daniel Felipe Fragua Rengifo",
      "photoUrl": "",
      "userId": "09845551813303536248"
     },
     "user_tz": 300
    },
    "id": "XRWUtg2PE3u1",
    "outputId": "6ba6054b-9587-4bc1-ae18-95fef5c731dc"
   },
   "outputs": [
    {
     "data": {
      "text/html": [
       "<div>\n",
       "<style scoped>\n",
       "    .dataframe tbody tr th:only-of-type {\n",
       "        vertical-align: middle;\n",
       "    }\n",
       "\n",
       "    .dataframe tbody tr th {\n",
       "        vertical-align: top;\n",
       "    }\n",
       "\n",
       "    .dataframe thead th {\n",
       "        text-align: right;\n",
       "    }\n",
       "</style>\n",
       "<table border=\"1\" class=\"dataframe\">\n",
       "  <thead>\n",
       "    <tr style=\"text-align: right;\">\n",
       "      <th></th>\n",
       "      <th>var1</th>\n",
       "      <th>var2</th>\n",
       "      <th>var3</th>\n",
       "      <th>var4</th>\n",
       "    </tr>\n",
       "  </thead>\n",
       "  <tbody>\n",
       "    <tr>\n",
       "      <th>0</th>\n",
       "      <td>0</td>\n",
       "      <td>10</td>\n",
       "      <td>5</td>\n",
       "      <td>2</td>\n",
       "    </tr>\n",
       "    <tr>\n",
       "      <th>1</th>\n",
       "      <td>1</td>\n",
       "      <td>9</td>\n",
       "      <td>8</td>\n",
       "      <td>4</td>\n",
       "    </tr>\n",
       "    <tr>\n",
       "      <th>2</th>\n",
       "      <td>2</td>\n",
       "      <td>8</td>\n",
       "      <td>9</td>\n",
       "      <td>5</td>\n",
       "    </tr>\n",
       "    <tr>\n",
       "      <th>3</th>\n",
       "      <td>3</td>\n",
       "      <td>7</td>\n",
       "      <td>5</td>\n",
       "      <td>2</td>\n",
       "    </tr>\n",
       "    <tr>\n",
       "      <th>4</th>\n",
       "      <td>4</td>\n",
       "      <td>6</td>\n",
       "      <td>0</td>\n",
       "      <td>4</td>\n",
       "    </tr>\n",
       "    <tr>\n",
       "      <th>5</th>\n",
       "      <td>5</td>\n",
       "      <td>5</td>\n",
       "      <td>0</td>\n",
       "      <td>2</td>\n",
       "    </tr>\n",
       "    <tr>\n",
       "      <th>6</th>\n",
       "      <td>6</td>\n",
       "      <td>4</td>\n",
       "      <td>1</td>\n",
       "      <td>4</td>\n",
       "    </tr>\n",
       "    <tr>\n",
       "      <th>7</th>\n",
       "      <td>7</td>\n",
       "      <td>3</td>\n",
       "      <td>7</td>\n",
       "      <td>7</td>\n",
       "    </tr>\n",
       "    <tr>\n",
       "      <th>8</th>\n",
       "      <td>8</td>\n",
       "      <td>2</td>\n",
       "      <td>6</td>\n",
       "      <td>7</td>\n",
       "    </tr>\n",
       "    <tr>\n",
       "      <th>9</th>\n",
       "      <td>9</td>\n",
       "      <td>1</td>\n",
       "      <td>9</td>\n",
       "      <td>9</td>\n",
       "    </tr>\n",
       "  </tbody>\n",
       "</table>\n",
       "</div>"
      ],
      "text/plain": [
       "   var1  var2  var3  var4\n",
       "0     0    10     5     2\n",
       "1     1     9     8     4\n",
       "2     2     8     9     5\n",
       "3     3     7     5     2\n",
       "4     4     6     0     4\n",
       "5     5     5     0     2\n",
       "6     6     4     1     4\n",
       "7     7     3     7     7\n",
       "8     8     2     6     7\n",
       "9     9     1     9     9"
      ]
     },
     "execution_count": 3,
     "metadata": {},
     "output_type": "execute_result"
    }
   ],
   "source": [
    "np.random.seed(1) # Para que siempre genere los mismos números aleatorios\n",
    "\n",
    "var1 = pd.Series(range(10))\n",
    "var2 = pd.Series(range(10,0,-1))\n",
    "var3 = pd.Series(np.random.randint(0,10,10))\n",
    "var4 = pd.Series(np.random.randint(0,10,10))\n",
    "\n",
    "df = pd.DataFrame(data={'var1':var1, 'var2':var2, \n",
    "                        'var3':var3, 'var4':var4, })\n",
    "df"
   ]
  },
  {
   "cell_type": "markdown",
   "metadata": {
    "id": "E7_3EOEtIbZ5"
   },
   "source": [
    "**Correlación positiva perfecta**: Cuando una variable se incrementa la otra también, en la misma medida."
   ]
  },
  {
   "cell_type": "code",
   "execution_count": 4,
   "metadata": {
    "colab": {
     "base_uri": "https://localhost:8080/"
    },
    "executionInfo": {
     "elapsed": 391,
     "status": "ok",
     "timestamp": 1615645956936,
     "user": {
      "displayName": "Daniel Felipe Fragua Rengifo",
      "photoUrl": "",
      "userId": "09845551813303536248"
     },
     "user_tz": 300
    },
    "id": "iPGu4-ivIydd",
    "outputId": "413470b8-1e9f-4aa1-9ef6-15ee9b4f6e1a"
   },
   "outputs": [
    {
     "data": {
      "text/plain": [
       "0.9999999999999999"
      ]
     },
     "execution_count": 4,
     "metadata": {},
     "output_type": "execute_result"
    }
   ],
   "source": [
    "# Correlación de var1 con ella misma = 1.0\n",
    "\n",
    "r = var1.corr(var1) # Método Pearson por defecto\n",
    "r"
   ]
  },
  {
   "cell_type": "markdown",
   "metadata": {
    "id": "r9Aag_0MJa2E"
   },
   "source": [
    "Se recomienda siempre visualizar los datos para poder interpretar los resultados de las correlaciones:"
   ]
  },
  {
   "cell_type": "code",
   "execution_count": 5,
   "metadata": {
    "id": "cmO17tGpJig8"
   },
   "outputs": [],
   "source": [
    "def graficar_correlación(df, var_a, var_b):\n",
    "\n",
    "    r = df[var_a].corr(df[var_b]);\n",
    "    fig, ax = plt.subplots(dpi = 110);\n",
    "    df.plot.scatter(var_a, var_b, title=f\"Coeficiente de correlación: {r :.2}\", ax = ax,\n",
    "                marker='o', linestyle='None', s = 70, alpha = 0.5, grid=True # Parámetros de estilo (Más información en la Unidad 4 y 5)\n",
    "                ); "
   ]
  },
  {
   "cell_type": "code",
   "execution_count": 6,
   "metadata": {
    "colab": {
     "base_uri": "https://localhost:8080/",
     "height": 441
    },
    "executionInfo": {
     "elapsed": 620,
     "status": "ok",
     "timestamp": 1615645985179,
     "user": {
      "displayName": "Daniel Felipe Fragua Rengifo",
      "photoUrl": "",
      "userId": "09845551813303536248"
     },
     "user_tz": 300
    },
    "id": "IRSSLsS1UVbQ",
    "outputId": "71ad5478-e45b-4108-c1f0-3f23ef93909d"
   },
   "outputs": [
    {
     "data": {
      "image/png": "[encoded data removed]",
      "text/plain": [
       "<Figure size 660x440 with 1 Axes>"
      ]
     },
     "metadata": {
      "needs_background": "light"
     },
     "output_type": "display_data"
    }
   ],
   "source": [
    "graficar_correlación(df, 'var1', 'var1');"
   ]
  },
  {
   "cell_type": "markdown",
   "metadata": {
    "id": "XCc_fYP8KTco"
   },
   "source": [
    "**Correlación negativa perfecta**: Cuando una variable se incrementa la otra disminuye, en la misma medida."
   ]
  },
  {
   "cell_type": "code",
   "execution_count": 7,
   "metadata": {
    "colab": {
     "base_uri": "https://localhost:8080/"
    },
    "executionInfo": {
     "elapsed": 379,
     "status": "ok",
     "timestamp": 1615646025952,
     "user": {
      "displayName": "Daniel Felipe Fragua Rengifo",
      "photoUrl": "",
      "userId": "09845551813303536248"
     },
     "user_tz": 300
    },
    "id": "3lSWOiiyJZLt",
    "outputId": "58e211d7-d0cb-4fbc-de90-5176ceb1df70"
   },
   "outputs": [
    {
     "data": {
      "text/plain": [
       "-0.9999999999999999"
      ]
     },
     "execution_count": 7,
     "metadata": {},
     "output_type": "execute_result"
    }
   ],
   "source": [
    "# Correlación de var1 con respecto a var2 = -1.0 (aprox)\n",
    "r = var1.corr(var2) # Método Pearson por defecto\n",
    "\n",
    "r"
   ]
  },
  {
   "cell_type": "code",
   "execution_count": 8,
   "metadata": {
    "colab": {
     "base_uri": "https://localhost:8080/",
     "height": 441
    },
    "executionInfo": {
     "elapsed": 606,
     "status": "ok",
     "timestamp": 1615646028466,
     "user": {
      "displayName": "Daniel Felipe Fragua Rengifo",
      "photoUrl": "",
      "userId": "09845551813303536248"
     },
     "user_tz": 300
    },
    "id": "XBtRos-rJTJs",
    "outputId": "378fe07f-1336-468b-b8e6-3b806d3dfeee"
   },
   "outputs": [
    {
     "data": {
      "image/png": "[encoded data removed]",
      "text/plain": [
       "<Figure size 660x440 with 1 Axes>"
      ]
     },
     "metadata": {
      "needs_background": "light"
     },
     "output_type": "display_data"
    }
   ],
   "source": [
    "graficar_correlación(df, 'var1', 'var2');"
   ]
  },
  {
   "cell_type": "markdown",
   "metadata": {
    "id": "FhtcXfaHMF9z"
   },
   "source": [
    "**Correlación nula**: Las variables no presentan una correlación lineal entre sí."
   ]
  },
  {
   "cell_type": "code",
   "execution_count": 9,
   "metadata": {
    "colab": {
     "base_uri": "https://localhost:8080/"
    },
    "executionInfo": {
     "elapsed": 353,
     "status": "ok",
     "timestamp": 1615646030654,
     "user": {
      "displayName": "Daniel Felipe Fragua Rengifo",
      "photoUrl": "",
      "userId": "09845551813303536248"
     },
     "user_tz": 300
    },
    "id": "CPlo5g73MF93",
    "outputId": "d95687de-87e5-4ce7-be03-e8b401ad32b3"
   },
   "outputs": [
    {
     "data": {
      "text/plain": [
       "0.0"
      ]
     },
     "execution_count": 9,
     "metadata": {},
     "output_type": "execute_result"
    }
   ],
   "source": [
    "# Correlación de var1 con respecto a var3 = 0.0 (aprox)\n",
    "r = var1.corr(var3) # Método Pearson por defecto\n",
    "r"
   ]
  },
  {
   "cell_type": "code",
   "execution_count": 10,
   "metadata": {
    "colab": {
     "base_uri": "https://localhost:8080/",
     "height": 441
    },
    "executionInfo": {
     "elapsed": 676,
     "status": "ok",
     "timestamp": 1615646032337,
     "user": {
      "displayName": "Daniel Felipe Fragua Rengifo",
      "photoUrl": "",
      "userId": "09845551813303536248"
     },
     "user_tz": 300
    },
    "id": "jNratlIvMF96",
    "outputId": "62db4546-7f1b-446f-a226-9fd2b62f659f"
   },
   "outputs": [
    {
     "data": {
      "image/png": "[encoded data removed]",
      "text/plain": [
       "<Figure size 660x440 with 1 Axes>"
      ]
     },
     "metadata": {
      "needs_background": "light"
     },
     "output_type": "display_data"
    }
   ],
   "source": [
    "graficar_correlación(df, 'var1', 'var3');"
   ]
  },
  {
   "cell_type": "markdown",
   "metadata": {
    "id": "BwDlux9wQkH8"
   },
   "source": [
    "**Correlación positiva alta**: Cuando una variable se incrementa la otra también, no necesariamente la misma medida."
   ]
  },
  {
   "cell_type": "code",
   "execution_count": 11,
   "metadata": {
    "colab": {
     "base_uri": "https://localhost:8080/"
    },
    "executionInfo": {
     "elapsed": 381,
     "status": "ok",
     "timestamp": 1615646035865,
     "user": {
      "displayName": "Daniel Felipe Fragua Rengifo",
      "photoUrl": "",
      "userId": "09845551813303536248"
     },
     "user_tz": 300
    },
    "id": "FEuholxPQZVE",
    "outputId": "a8fb6434-c16a-4566-dc68-f4f2de786811"
   },
   "outputs": [
    {
     "data": {
      "text/plain": [
       "0.7452525354944346"
      ]
     },
     "execution_count": 11,
     "metadata": {},
     "output_type": "execute_result"
    }
   ],
   "source": [
    "# Correlación de var1 con respecto a var4 = 0.75 (aprox)\n",
    "r = var1.corr(var4) # Método Pearson por defecto\n",
    "r"
   ]
  },
  {
   "cell_type": "code",
   "execution_count": 12,
   "metadata": {
    "colab": {
     "base_uri": "https://localhost:8080/",
     "height": 441
    },
    "executionInfo": {
     "elapsed": 604,
     "status": "ok",
     "timestamp": 1615646042553,
     "user": {
      "displayName": "Daniel Felipe Fragua Rengifo",
      "photoUrl": "",
      "userId": "09845551813303536248"
     },
     "user_tz": 300
    },
    "id": "JuWA5N8KQZVH",
    "outputId": "ec34b55b-86c0-4916-e319-d3b8e5841449"
   },
   "outputs": [
    {
     "data": {
      "image/png": "[encoded data removed]",
      "text/plain": [
       "<Figure size 660x440 with 1 Axes>"
      ]
     },
     "metadata": {
      "needs_background": "light"
     },
     "output_type": "display_data"
    }
   ],
   "source": [
    "graficar_correlación(df, 'var1', 'var4');"
   ]
  },
  {
   "cell_type": "markdown",
   "metadata": {
    "id": "_oeukrhAVZT1"
   },
   "source": [
    "**Análisis de correlación entre múltiples variables**\n",
    "\n",
    "---\n",
    "\n",
    "Muchas veces es necesario analizar las correlaciones existentes entre múltiples variables al mismo tiempo. Para esto podemos hacer lo siguiente:"
   ]
  },
  {
   "cell_type": "code",
   "execution_count": 13,
   "metadata": {
    "colab": {
     "base_uri": "https://localhost:8080/"
    },
    "executionInfo": {
     "elapsed": 365,
     "status": "ok",
     "timestamp": 1615646100778,
     "user": {
      "displayName": "Daniel Felipe Fragua Rengifo",
      "photoUrl": "",
      "userId": "09845551813303536248"
     },
     "user_tz": 300
    },
    "id": "xsnDaQ7nK5M-",
    "outputId": "6dada289-c498-442f-dded-bd30b95306b6"
   },
   "outputs": [
    {
     "data": {
      "text/plain": [
       "var1    1.000000\n",
       "var2   -1.000000\n",
       "var3    0.000000\n",
       "var4    0.745253\n",
       "dtype: float64"
      ]
     },
     "execution_count": 13,
     "metadata": {},
     "output_type": "execute_result"
    }
   ],
   "source": [
    "# Correlación de cada columna de \"df\" con respecto a la Serie \"var1\"\n",
    "\n",
    "df.corrwith(var1) # Método Pearson por defecto"
   ]
  },
  {
   "cell_type": "code",
   "execution_count": 14,
   "metadata": {
    "colab": {
     "base_uri": "https://localhost:8080/"
    },
    "executionInfo": {
     "elapsed": 372,
     "status": "ok",
     "timestamp": 1615646102326,
     "user": {
      "displayName": "Daniel Felipe Fragua Rengifo",
      "photoUrl": "",
      "userId": "09845551813303536248"
     },
     "user_tz": 300
    },
    "id": "9cUlRs1nWAxc",
    "outputId": "cfb4b0d0-5be9-4fe5-ccf1-a2fb444568b7"
   },
   "outputs": [
    {
     "data": {
      "text/plain": [
       "var1    0.745253\n",
       "var2   -0.745253\n",
       "var3    0.561298\n",
       "var4    1.000000\n",
       "dtype: float64"
      ]
     },
     "execution_count": 14,
     "metadata": {},
     "output_type": "execute_result"
    }
   ],
   "source": [
    "# Correlación de cada columna de \"df\" con respecto a la Serie \"var4\"\n",
    "df.corrwith(var4) # Método Pearson por defecto"
   ]
  },
  {
   "cell_type": "markdown",
   "metadata": {
    "id": "QFfdau2SWHM_"
   },
   "source": [
    "También, es posible calcular la matriz de correlación de un **`DataFrame`**. De esta forma podemos explorar todas las posibles correlaciones entre las variables numéricas que componen el conjunto de datos. Esto es muy útil para hacer análisis de asociaciones en *datasets* reales: "
   ]
  },
  {
   "cell_type": "code",
   "execution_count": 15,
   "metadata": {
    "colab": {
     "base_uri": "https://localhost:8080/",
     "height": 173
    },
    "executionInfo": {
     "elapsed": 388,
     "status": "ok",
     "timestamp": 1615646105067,
     "user": {
      "displayName": "Daniel Felipe Fragua Rengifo",
      "photoUrl": "",
      "userId": "09845551813303536248"
     },
     "user_tz": 300
    },
    "id": "h7DW8eONIr9s",
    "outputId": "683a3b0c-7370-4f6d-9424-5517cd6d346a"
   },
   "outputs": [
    {
     "data": {
      "text/html": [
       "<div>\n",
       "<style scoped>\n",
       "    .dataframe tbody tr th:only-of-type {\n",
       "        vertical-align: middle;\n",
       "    }\n",
       "\n",
       "    .dataframe tbody tr th {\n",
       "        vertical-align: top;\n",
       "    }\n",
       "\n",
       "    .dataframe thead th {\n",
       "        text-align: right;\n",
       "    }\n",
       "</style>\n",
       "<table border=\"1\" class=\"dataframe\">\n",
       "  <thead>\n",
       "    <tr style=\"text-align: right;\">\n",
       "      <th></th>\n",
       "      <th>var1</th>\n",
       "      <th>var2</th>\n",
       "      <th>var3</th>\n",
       "      <th>var4</th>\n",
       "    </tr>\n",
       "  </thead>\n",
       "  <tbody>\n",
       "    <tr>\n",
       "      <th>var1</th>\n",
       "      <td>1.000000</td>\n",
       "      <td>-1.000000</td>\n",
       "      <td>0.000000</td>\n",
       "      <td>0.745253</td>\n",
       "    </tr>\n",
       "    <tr>\n",
       "      <th>var2</th>\n",
       "      <td>-1.000000</td>\n",
       "      <td>1.000000</td>\n",
       "      <td>0.000000</td>\n",
       "      <td>-0.745253</td>\n",
       "    </tr>\n",
       "    <tr>\n",
       "      <th>var3</th>\n",
       "      <td>0.000000</td>\n",
       "      <td>0.000000</td>\n",
       "      <td>1.000000</td>\n",
       "      <td>0.561298</td>\n",
       "    </tr>\n",
       "    <tr>\n",
       "      <th>var4</th>\n",
       "      <td>0.745253</td>\n",
       "      <td>-0.745253</td>\n",
       "      <td>0.561298</td>\n",
       "      <td>1.000000</td>\n",
       "    </tr>\n",
       "  </tbody>\n",
       "</table>\n",
       "</div>"
      ],
      "text/plain": [
       "          var1      var2      var3      var4\n",
       "var1  1.000000 -1.000000  0.000000  0.745253\n",
       "var2 -1.000000  1.000000  0.000000 -0.745253\n",
       "var3  0.000000  0.000000  1.000000  0.561298\n",
       "var4  0.745253 -0.745253  0.561298  1.000000"
      ]
     },
     "execution_count": 15,
     "metadata": {},
     "output_type": "execute_result"
    }
   ],
   "source": [
    "df.corr()"
   ]
  },
  {
   "cell_type": "markdown",
   "metadata": {
    "id": "cBRxQcvMW64R"
   },
   "source": [
    "En cada celda nos informa cuál es el coeficiente de correlación de la combinación de variables dada por las fila y columna seleccionada. Además, note que el resultado es otro *DataFrame* que podemos manipular, por ejemplo:"
   ]
  },
  {
   "cell_type": "code",
   "execution_count": 16,
   "metadata": {
    "colab": {
     "base_uri": "https://localhost:8080/"
    },
    "executionInfo": {
     "elapsed": 360,
     "status": "ok",
     "timestamp": 1615646116646,
     "user": {
      "displayName": "Daniel Felipe Fragua Rengifo",
      "photoUrl": "",
      "userId": "09845551813303536248"
     },
     "user_tz": 300
    },
    "id": "NYLso89LWrsE",
    "outputId": "304837ee-2613-41bb-b8e3-8cfd53ad80d3"
   },
   "outputs": [
    {
     "data": {
      "text/plain": [
       "var1    0.745253\n",
       "var2   -0.745253\n",
       "var3    0.561298\n",
       "var4    1.000000\n",
       "Name: var4, dtype: float64"
      ]
     },
     "execution_count": 16,
     "metadata": {},
     "output_type": "execute_result"
    }
   ],
   "source": [
    "matriz_corr = df.corr()\n",
    "matriz_corr['var4']"
   ]
  },
  {
   "cell_type": "code",
   "execution_count": 17,
   "metadata": {
    "colab": {
     "base_uri": "https://localhost:8080/"
    },
    "executionInfo": {
     "elapsed": 373,
     "status": "ok",
     "timestamp": 1615646120677,
     "user": {
      "displayName": "Daniel Felipe Fragua Rengifo",
      "photoUrl": "",
      "userId": "09845551813303536248"
     },
     "user_tz": 300
    },
    "id": "MoJ4UWGCXZVD",
    "outputId": "6e4d87af-75ad-4e12-cbcd-18c95f4f6749"
   },
   "outputs": [
    {
     "data": {
      "text/plain": [
       "-0.7452525354944346"
      ]
     },
     "execution_count": 17,
     "metadata": {},
     "output_type": "execute_result"
    }
   ],
   "source": [
    "matriz_corr.loc['var2','var4']"
   ]
  },
  {
   "cell_type": "markdown",
   "metadata": {
    "id": "EQES4VVUZDH3"
   },
   "source": [
    "### **1.1.2. Usando `NumPy`**\n",
    "---\n",
    "En caso que nuestros datos estén en forma de arreglos de *NumPy*, podemos hacer el mismo análisis anterior usando la función **`np.corrcoef`**:\n",
    "\n",
    "* [**`np.corrcoef`**](https://numpy.org/doc/stable/reference/generated/numpy.corrcoef.html): Retorna la matriz de correlación entre las variables (coeficiente de correlación de *Pearson*).\n"
   ]
  },
  {
   "cell_type": "code",
   "execution_count": 18,
   "metadata": {
    "id": "sUQlS87-X1gG"
   },
   "outputs": [],
   "source": [
    "np.random.seed(1) # Para que siempre genere los mismos números aleatorios y/o reiniciar la semilla\n",
    "\n",
    "arr1 = np.array(range(10))\n",
    "arr2 = np.array(range(10,0,-1))\n",
    "arr3 = np.array(np.random.randint(0,10,10))\n",
    "arr4 = np.array(np.random.randint(0,10,10))"
   ]
  },
  {
   "cell_type": "code",
   "execution_count": 19,
   "metadata": {
    "colab": {
     "base_uri": "https://localhost:8080/"
    },
    "executionInfo": {
     "elapsed": 376,
     "status": "ok",
     "timestamp": 1615646143288,
     "user": {
      "displayName": "Daniel Felipe Fragua Rengifo",
      "photoUrl": "",
      "userId": "09845551813303536248"
     },
     "user_tz": 300
    },
    "id": "r38ID1hGYDeE",
    "outputId": "d57c0fdf-7c40-4f38-fc1c-61699f1f81ae"
   },
   "outputs": [
    {
     "data": {
      "text/plain": [
       "array([[ 1., -1.],\n",
       "       [-1.,  1.]])"
      ]
     },
     "execution_count": 19,
     "metadata": {},
     "output_type": "execute_result"
    }
   ],
   "source": [
    "np.corrcoef(arr1, arr2)"
   ]
  },
  {
   "cell_type": "code",
   "execution_count": 20,
   "metadata": {
    "colab": {
     "base_uri": "https://localhost:8080/"
    },
    "executionInfo": {
     "elapsed": 245,
     "status": "ok",
     "timestamp": 1615646143466,
     "user": {
      "displayName": "Daniel Felipe Fragua Rengifo",
      "photoUrl": "",
      "userId": "09845551813303536248"
     },
     "user_tz": 300
    },
    "id": "zFyr2kn5ZYor",
    "outputId": "a9de6ca5-2572-4ac8-efc4-527c45d546c3"
   },
   "outputs": [
    {
     "data": {
      "text/plain": [
       "array([[ 1.        , -1.        ,  0.        ,  0.74525254],\n",
       "       [-1.        ,  1.        ,  0.        , -0.74525254],\n",
       "       [ 0.        ,  0.        ,  1.        ,  0.5612984 ],\n",
       "       [ 0.74525254, -0.74525254,  0.5612984 ,  1.        ]])"
      ]
     },
     "execution_count": 20,
     "metadata": {},
     "output_type": "execute_result"
    }
   ],
   "source": [
    "np.corrcoef(arr1, [arr2, arr3, arr4],)"
   ]
  },
  {
   "cell_type": "markdown",
   "metadata": {
    "id": "TtyrgAIl5RSm"
   },
   "source": [
    "## **1.2. Valores atípicos**\n",
    "---\n",
    "\n",
    "El coeficiente de correlación es muy sensible a valores de datos atípicos o outliers. Es muy importante realizar una correcta limpieza de los datos antes de hacer este tipo de análisis.\n",
    "\n",
    "Por ejemplo, suponga que tenemos dos variables con los siguientes datos y queremos conocer su correlación:\n"
   ]
  },
  {
   "cell_type": "code",
   "execution_count": 21,
   "metadata": {
    "colab": {
     "base_uri": "https://localhost:8080/",
     "height": 204
    },
    "executionInfo": {
     "elapsed": 391,
     "status": "ok",
     "timestamp": 1615646213098,
     "user": {
      "displayName": "Daniel Felipe Fragua Rengifo",
      "photoUrl": "",
      "userId": "09845551813303536248"
     },
     "user_tz": 300
    },
    "id": "vZNuLtN8c5BD",
    "outputId": "7072cc3d-51a2-4f92-d51b-6a343dd1bca0"
   },
   "outputs": [
    {
     "data": {
      "text/html": [
       "<div>\n",
       "<style scoped>\n",
       "    .dataframe tbody tr th:only-of-type {\n",
       "        vertical-align: middle;\n",
       "    }\n",
       "\n",
       "    .dataframe tbody tr th {\n",
       "        vertical-align: top;\n",
       "    }\n",
       "\n",
       "    .dataframe thead th {\n",
       "        text-align: right;\n",
       "    }\n",
       "</style>\n",
       "<table border=\"1\" class=\"dataframe\">\n",
       "  <thead>\n",
       "    <tr style=\"text-align: right;\">\n",
       "      <th></th>\n",
       "      <th>var1</th>\n",
       "      <th>var2</th>\n",
       "    </tr>\n",
       "  </thead>\n",
       "  <tbody>\n",
       "    <tr>\n",
       "      <th>0</th>\n",
       "      <td>-4.6</td>\n",
       "      <td>-4.6</td>\n",
       "    </tr>\n",
       "    <tr>\n",
       "      <th>1</th>\n",
       "      <td>-7.0</td>\n",
       "      <td>-8.9</td>\n",
       "    </tr>\n",
       "    <tr>\n",
       "      <th>2</th>\n",
       "      <td>2.0</td>\n",
       "      <td>1.4</td>\n",
       "    </tr>\n",
       "    <tr>\n",
       "      <th>3</th>\n",
       "      <td>-3.4</td>\n",
       "      <td>-1.1</td>\n",
       "    </tr>\n",
       "    <tr>\n",
       "      <th>4</th>\n",
       "      <td>1.1</td>\n",
       "      <td>0.9</td>\n",
       "    </tr>\n",
       "  </tbody>\n",
       "</table>\n",
       "</div>"
      ],
      "text/plain": [
       "   var1  var2\n",
       "0  -4.6  -4.6\n",
       "1  -7.0  -8.9\n",
       "2   2.0   1.4\n",
       "3  -3.4  -1.1\n",
       "4   1.1   0.9"
      ]
     },
     "execution_count": 21,
     "metadata": {},
     "output_type": "execute_result"
    }
   ],
   "source": [
    "var1 = np.array([ -4.6,  -7. ,   2. ,  -3.4,   1.1,  -5.9,   2.2,   1.8,  -8.9, 1.5,   1.4,   2.5,   3.9,   8.4,  -8. ,   2.3,  -2.8,   0.6,\n",
    "        -2.8,   3.3,   4.3,  -1.3,  -3.9,   0.5,   3.5,   2. ,   8.5, -7.6,   1.1,   5.8,  -2.4,  -3.8,   3.8,   0.5,  -3.5,  -7.7,\n",
    "        -2.1,  -9.7,   1.3,   3.7,   3.1,   0.7,   2.1,  -3.6,   5.8, -10.5,   5.6,  -2.2,  -0.9,   0.8,   3.4,  -6.2,  -5.3,   1.9,\n",
    "         2.1,   0.6,   3.2,   4.5,  -4.1,  -4.1,   4. ,  -2.2,  -2.5, -4.3,  -0.3,  -5.2,  -4.3,  -5.4,  -5.3,   2.7,   1.2,   4.2,\n",
    "        -3.4,   1.8,  -1.6,  -5.3,   3.7,  -0.7,   6.3,  -0.9,   2.2, -7.1,  -2.4,   1.1, -13.3,  -6.1,   6.6,  -0.1,  -0.3,   0.1,\n",
    "        -1.6,   3. ,   7.1,  -7. ,   7.6,  -0.6,  -3.1,  -9.6,   4.2, 4.9,   9. ,  10.1,  10.5,  10.2])\n",
    "var2 = np.array([ -4.6,  -8.9,   1.4,  -1.1,   0.9,  -5.9,   1.9,   2.1,  -8.1, 2.1,   0.6,   3.9,   3.1,   7.6,  -7.1,   4.9,  -3.2,  -1.1,\n",
    "        -1.9,   5.8,   4.1,  -1.8,  -5.1,  -1.2,   3. ,   2.4,   8.4, -5.9,   2. ,   4.5,  -2.9,  -3.9,   4.5,  -0.8,  -2.8,  -7.9,\n",
    "        -1.5,  -9.6,   2.6,   3.1,   3.8,   1.6,   3.2,  -3.3,   4.6, -11.7,   4.3,  -3.7,  -1.2,   0.7,   0.9,  -6.7,  -4.9,   0.8,\n",
    "         3. ,   0.2,   1.6,   3.7,  -2.9,  -2.9,   5.2,  -2.1,  -2.4, -4.6,  -1.7,  -5.3,  -3.6,  -6.3,  -4.7,   3.2,   1.4,   4.9,\n",
    "        -2.2,  -0.4,  -1.5,  -5.4,   2.8,   0.7,   6.2,  -0.3,   2.4, -7. ,  -1.6,   0.2, -11.3,  -8.1,   6.8,   0.1,  -1. ,   0.8,\n",
    "        -1. ,   2.8,   7.6,  -5.5,   6.3,  -0.3,  -4.5,  -9.1,   4.5, 4.3, -11.4, -12.3, -11.4, -11.9])\n",
    "df = pd.DataFrame(data={'var1':var1, 'var2':var2})\n",
    "df.head()"
   ]
  },
  {
   "cell_type": "markdown",
   "metadata": {
    "id": "6j3_J9C3eiLS"
   },
   "source": [
    "Vamos a calcular el coeficiente de correlación entre las dos variables:"
   ]
  },
  {
   "cell_type": "code",
   "execution_count": 22,
   "metadata": {
    "colab": {
     "base_uri": "https://localhost:8080/"
    },
    "executionInfo": {
     "elapsed": 469,
     "status": "ok",
     "timestamp": 1615646216731,
     "user": {
      "displayName": "Daniel Felipe Fragua Rengifo",
      "photoUrl": "",
      "userId": "09845551813303536248"
     },
     "user_tz": 300
    },
    "id": "cRgaa28Cemku",
    "outputId": "e598541c-7f88-4970-a205-ce735e94a4ea"
   },
   "outputs": [
    {
     "name": "stdout",
     "output_type": "stream",
     "text": [
      "0.616197281910772\n"
     ]
    }
   ],
   "source": [
    "r = df['var1'].corr(df['var2']) # Método Pearson por defecto\n",
    "print(r)"
   ]
  },
  {
   "cell_type": "markdown",
   "metadata": {
    "id": "cP7dkfOxfWQJ"
   },
   "source": [
    "Obtenemos una correlación moderada entre las variables ($r = 0.62$). Sin embargo, queremos verificar este resultado por medio de un diagrama de dispersión entre las variables:"
   ]
  },
  {
   "cell_type": "code",
   "execution_count": 23,
   "metadata": {
    "colab": {
     "base_uri": "https://localhost:8080/",
     "height": 350
    },
    "executionInfo": {
     "elapsed": 575,
     "status": "ok",
     "timestamp": 1615646224247,
     "user": {
      "displayName": "Daniel Felipe Fragua Rengifo",
      "photoUrl": "",
      "userId": "09845551813303536248"
     },
     "user_tz": 300
    },
    "id": "ERI2I3NBdU6s",
    "outputId": "d43f8f33-add0-42a7-ffbc-cc42e31e48b9"
   },
   "outputs": [
    {
     "data": {
      "image/png": "[encoded data removed]",
      "text/plain": [
       "<Figure size 504x360 with 1 Axes>"
      ]
     },
     "metadata": {
      "needs_background": "light"
     },
     "output_type": "display_data"
    }
   ],
   "source": [
    "df.plot.scatter('var1', 'var2', title=f'Correlación con outliers: {r:.2}',\n",
    "                     s = 70, alpha = 0.6, color = '#35bacc', figsize = (7,5));"
   ]
  },
  {
   "cell_type": "markdown",
   "metadata": {
    "id": "aKuE4oLhgA9F"
   },
   "source": [
    "Como se puede apreciar, existen valores atípicos en la equina inferior derecha. Primero, vamos a localizar los puntos problemáticos para volverlos a visualizar:"
   ]
  },
  {
   "cell_type": "code",
   "execution_count": 24,
   "metadata": {
    "colab": {
     "base_uri": "https://localhost:8080/",
     "height": 173
    },
    "executionInfo": {
     "elapsed": 371,
     "status": "ok",
     "timestamp": 1615646230690,
     "user": {
      "displayName": "Daniel Felipe Fragua Rengifo",
      "photoUrl": "",
      "userId": "09845551813303536248"
     },
     "user_tz": 300
    },
    "id": "xnKOQrGkgd8s",
    "outputId": "c88ce02e-dceb-437c-c916-589ddf6e4366"
   },
   "outputs": [
    {
     "data": {
      "text/html": [
       "<div>\n",
       "<style scoped>\n",
       "    .dataframe tbody tr th:only-of-type {\n",
       "        vertical-align: middle;\n",
       "    }\n",
       "\n",
       "    .dataframe tbody tr th {\n",
       "        vertical-align: top;\n",
       "    }\n",
       "\n",
       "    .dataframe thead th {\n",
       "        text-align: right;\n",
       "    }\n",
       "</style>\n",
       "<table border=\"1\" class=\"dataframe\">\n",
       "  <thead>\n",
       "    <tr style=\"text-align: right;\">\n",
       "      <th></th>\n",
       "      <th>var1</th>\n",
       "      <th>var2</th>\n",
       "    </tr>\n",
       "  </thead>\n",
       "  <tbody>\n",
       "    <tr>\n",
       "      <th>100</th>\n",
       "      <td>9.0</td>\n",
       "      <td>-11.4</td>\n",
       "    </tr>\n",
       "    <tr>\n",
       "      <th>101</th>\n",
       "      <td>10.1</td>\n",
       "      <td>-12.3</td>\n",
       "    </tr>\n",
       "    <tr>\n",
       "      <th>102</th>\n",
       "      <td>10.5</td>\n",
       "      <td>-11.4</td>\n",
       "    </tr>\n",
       "    <tr>\n",
       "      <th>103</th>\n",
       "      <td>10.2</td>\n",
       "      <td>-11.9</td>\n",
       "    </tr>\n",
       "  </tbody>\n",
       "</table>\n",
       "</div>"
      ],
      "text/plain": [
       "     var1  var2\n",
       "100   9.0 -11.4\n",
       "101  10.1 -12.3\n",
       "102  10.5 -11.4\n",
       "103  10.2 -11.9"
      ]
     },
     "execution_count": 24,
     "metadata": {},
     "output_type": "execute_result"
    }
   ],
   "source": [
    "outliers = df[(df['var1'] >= 9.0) & (df['var2'] < -11)]\n",
    "outliers"
   ]
  },
  {
   "cell_type": "code",
   "execution_count": 25,
   "metadata": {
    "colab": {
     "base_uri": "https://localhost:8080/",
     "height": 350
    },
    "executionInfo": {
     "elapsed": 579,
     "status": "ok",
     "timestamp": 1615646237233,
     "user": {
      "displayName": "Daniel Felipe Fragua Rengifo",
      "photoUrl": "",
      "userId": "09845551813303536248"
     },
     "user_tz": 300
    },
    "id": "Gf5UTrswgNcD",
    "outputId": "f38df46a-c97c-4573-e83d-7a8f76649fb3"
   },
   "outputs": [
    {
     "data": {
      "image/png": "[encoded data removed]",
      "text/plain": [
       "<Figure size 504x360 with 1 Axes>"
      ]
     },
     "metadata": {
      "needs_background": "light"
     },
     "output_type": "display_data"
    }
   ],
   "source": [
    "# Usamos ax para hacer las dos figuras en la misma gráfica\n",
    "ax = df.plot.scatter('var1', 'var2', title= f'Correlación con outliers: {r:.2}',\n",
    "                     s = 70, alpha = 0.6, color = '#35bacc', figsize = (7,5))\n",
    "outliers.plot.scatter('var1', 'var2', s = 70, alpha = 0.8, color = '#f96340', ax = ax);"
   ]
  },
  {
   "cell_type": "markdown",
   "metadata": {
    "id": "yapG-GqGhwfw"
   },
   "source": [
    "Si la naturaleza de los datos lo permite, vamos a limpiar estos datos atípicos de nuestro conjunto de datos para hacer el análisis de correlación nuevamente sin estos datos: "
   ]
  },
  {
   "cell_type": "code",
   "execution_count": 26,
   "metadata": {
    "id": "z-n_ad01iKHb"
   },
   "outputs": [],
   "source": [
    "# Construimos una máscara para filtrar los valores atípicos\n",
    "mask = df.isin(outliers)\n",
    "df_limpio = df.mask(mask).dropna() "
   ]
  },
  {
   "cell_type": "markdown",
   "metadata": {
    "id": "V9FgqRjbklek"
   },
   "source": [
    "Nuevamente, calculamos el coeficiente de correlación entre las dos variables:"
   ]
  },
  {
   "cell_type": "code",
   "execution_count": 27,
   "metadata": {
    "colab": {
     "base_uri": "https://localhost:8080/"
    },
    "executionInfo": {
     "elapsed": 410,
     "status": "ok",
     "timestamp": 1615646272949,
     "user": {
      "displayName": "Daniel Felipe Fragua Rengifo",
      "photoUrl": "",
      "userId": "09845551813303536248"
     },
     "user_tz": 300
    },
    "id": "swN-rEjdklel",
    "outputId": "5982c932-ab07-477b-a629-8cfbaf32aeee"
   },
   "outputs": [
    {
     "name": "stdout",
     "output_type": "stream",
     "text": [
      "0.9742929117596348\n"
     ]
    }
   ],
   "source": [
    "r = df_limpio['var1'].corr(df_limpio['var2']) # Método Pearson por defecto\n",
    "print(r)"
   ]
  },
  {
   "cell_type": "markdown",
   "metadata": {
    "id": "A1DBNB03klep"
   },
   "source": [
    "Observe que el coeficiente se incrementó considerablemente ($r = 0.97$). Veamos el nuevo diagrama de dispersión entre las variables:"
   ]
  },
  {
   "cell_type": "code",
   "execution_count": 28,
   "metadata": {
    "colab": {
     "base_uri": "https://localhost:8080/",
     "height": 350
    },
    "executionInfo": {
     "elapsed": 657,
     "status": "ok",
     "timestamp": 1615646282728,
     "user": {
      "displayName": "Daniel Felipe Fragua Rengifo",
      "photoUrl": "",
      "userId": "09845551813303536248"
     },
     "user_tz": 300
    },
    "id": "9qltfMs_kleq",
    "outputId": "001d3631-81af-48c5-f818-30d155bcf585"
   },
   "outputs": [
    {
     "data": {
      "image/png": "[encoded data removed]",
      "text/plain": [
       "<Figure size 504x360 with 1 Axes>"
      ]
     },
     "metadata": {
      "needs_background": "light"
     },
     "output_type": "display_data"
    }
   ],
   "source": [
    "df_limpio.plot.scatter('var1', 'var2', title= f'Correlación sin outliers: {r:.2}',\n",
    "                     s = 70, alpha = 0.6, color = '#35bacc', figsize = (7,5));"
   ]
  },
  {
   "cell_type": "markdown",
   "metadata": {
    "id": "eI9J7AbBlpx_"
   },
   "source": [
    "> **Nota:** De esta forma, podemos identificar una relación mucho más directa que la que habíamos podido identificar antes de limpiar el conjunto de datos. No obstante, tenga en cuenta que la posibilidad de limpiar los valores atípicos depende del entendimiento que tengamos de los datos. Debemos estar seguros de estar haciendo lo correcto al manipular los datos, en este caso, eliminando *outliers*. De lo contrario, podríamos estar manipulando los resultados de manera indeseada, sin reflejar la naturaleza real de la relación entre las variables."
   ]
  },
  {
   "cell_type": "markdown",
   "metadata": {
    "id": "Q9sZYQ6B1U0J"
   },
   "source": [
    "## **1.3. Significancia estadística**\n",
    "---\n",
    "\n",
    "Como hemos visto, los coeficientes de correlación permiten cuantificar la relación entre variables. Al igual que con otras estimaciones, el cálculo de los coeficientes de correlación se apoya en la estadística inferencial para establecer los niveles de significancia de estas relaciones. Al realizar análisis de correlaciones es muy importante reportar los **p-valores** de las correlaciones para evitar señalar relaciones que puedan haberse producido por la aleatoriedad de los datos."
   ]
  },
  {
   "cell_type": "markdown",
   "metadata": {
    "id": "LnM9WVDDEtHx"
   },
   "source": [
    "**Usando `SciPy`**\n",
    "***\n",
    "\n",
    "Si deseamos conocer el **p-valor** de una correlación usando *Python* debemos utilizar las siguientes funciones de la librería *SciPy*:\n",
    "\n",
    "* [**`stats.pearsonr`**](https://docs.scipy.org/doc/scipy/reference/generated/scipy.stats.pearsonr.html): coeficiente de correlación $r$ de Pearson.\n",
    "* [**`stats.spearmanr`**](https://docs.scipy.org/doc/scipy/reference/generated/scipy.stats.spearmanr.html): coeficiente de correlación $\\rho$ de Spearman.\n",
    "* [**`stats.kendalltau`**](https://docs.scipy.org/doc/scipy/reference/generated/scipy.stats.kendalltau.html): coeficiente de correlación $\\tau$ de Kendall.\n",
    "\n",
    "Estas funciones reciben como parámetros los arreglos **`x`** y **`y`**, y retornan:\n",
    "* El coeficiente de correlación correspondiente.\n",
    "* El **p-valor** para un test de hipótesis cuya hipótesis nula es que los datos no están correlacionados. Por lo tanto, si el **p-valor $\\lt \\alpha$** (nivel de significancia), esto quiere decir que la correlación es significativa. De lo contrario, la correlación puede deberse a la aleatoriedad de los datos, independientemente de su valor."
   ]
  },
  {
   "cell_type": "markdown",
   "metadata": {
    "id": "RSraMoiidV2g"
   },
   "source": [
    "#### **1.3.1. Coeficiente de correlación de Pearson**\n",
    "---\n",
    "\n",
    "Suponga que queremos calcular el coeficiente de correlación y el **p-valor** de la relación para los datos del primer ejemplo de este notebook."
   ]
  },
  {
   "cell_type": "code",
   "execution_count": 29,
   "metadata": {
    "colab": {
     "base_uri": "https://localhost:8080/",
     "height": 359
    },
    "executionInfo": {
     "elapsed": 515,
     "status": "ok",
     "timestamp": 1615646364982,
     "user": {
      "displayName": "Daniel Felipe Fragua Rengifo",
      "photoUrl": "",
      "userId": "09845551813303536248"
     },
     "user_tz": 300
    },
    "id": "UD4CtEpNdbiR",
    "outputId": "656a4aba-8ceb-45a1-e249-e41cbf0852c5"
   },
   "outputs": [
    {
     "data": {
      "text/html": [
       "<div>\n",
       "<style scoped>\n",
       "    .dataframe tbody tr th:only-of-type {\n",
       "        vertical-align: middle;\n",
       "    }\n",
       "\n",
       "    .dataframe tbody tr th {\n",
       "        vertical-align: top;\n",
       "    }\n",
       "\n",
       "    .dataframe thead th {\n",
       "        text-align: right;\n",
       "    }\n",
       "</style>\n",
       "<table border=\"1\" class=\"dataframe\">\n",
       "  <thead>\n",
       "    <tr style=\"text-align: right;\">\n",
       "      <th></th>\n",
       "      <th>var1</th>\n",
       "      <th>var2</th>\n",
       "      <th>var3</th>\n",
       "      <th>var4</th>\n",
       "    </tr>\n",
       "  </thead>\n",
       "  <tbody>\n",
       "    <tr>\n",
       "      <th>0</th>\n",
       "      <td>0</td>\n",
       "      <td>10</td>\n",
       "      <td>5</td>\n",
       "      <td>2</td>\n",
       "    </tr>\n",
       "    <tr>\n",
       "      <th>1</th>\n",
       "      <td>1</td>\n",
       "      <td>9</td>\n",
       "      <td>8</td>\n",
       "      <td>4</td>\n",
       "    </tr>\n",
       "    <tr>\n",
       "      <th>2</th>\n",
       "      <td>2</td>\n",
       "      <td>8</td>\n",
       "      <td>9</td>\n",
       "      <td>5</td>\n",
       "    </tr>\n",
       "    <tr>\n",
       "      <th>3</th>\n",
       "      <td>3</td>\n",
       "      <td>7</td>\n",
       "      <td>5</td>\n",
       "      <td>2</td>\n",
       "    </tr>\n",
       "    <tr>\n",
       "      <th>4</th>\n",
       "      <td>4</td>\n",
       "      <td>6</td>\n",
       "      <td>0</td>\n",
       "      <td>4</td>\n",
       "    </tr>\n",
       "    <tr>\n",
       "      <th>5</th>\n",
       "      <td>5</td>\n",
       "      <td>5</td>\n",
       "      <td>0</td>\n",
       "      <td>2</td>\n",
       "    </tr>\n",
       "    <tr>\n",
       "      <th>6</th>\n",
       "      <td>6</td>\n",
       "      <td>4</td>\n",
       "      <td>1</td>\n",
       "      <td>4</td>\n",
       "    </tr>\n",
       "    <tr>\n",
       "      <th>7</th>\n",
       "      <td>7</td>\n",
       "      <td>3</td>\n",
       "      <td>7</td>\n",
       "      <td>7</td>\n",
       "    </tr>\n",
       "    <tr>\n",
       "      <th>8</th>\n",
       "      <td>8</td>\n",
       "      <td>2</td>\n",
       "      <td>6</td>\n",
       "      <td>7</td>\n",
       "    </tr>\n",
       "    <tr>\n",
       "      <th>9</th>\n",
       "      <td>9</td>\n",
       "      <td>1</td>\n",
       "      <td>9</td>\n",
       "      <td>9</td>\n",
       "    </tr>\n",
       "  </tbody>\n",
       "</table>\n",
       "</div>"
      ],
      "text/plain": [
       "   var1  var2  var3  var4\n",
       "0     0    10     5     2\n",
       "1     1     9     8     4\n",
       "2     2     8     9     5\n",
       "3     3     7     5     2\n",
       "4     4     6     0     4\n",
       "5     5     5     0     2\n",
       "6     6     4     1     4\n",
       "7     7     3     7     7\n",
       "8     8     2     6     7\n",
       "9     9     1     9     9"
      ]
     },
     "execution_count": 29,
     "metadata": {},
     "output_type": "execute_result"
    }
   ],
   "source": [
    "np.random.seed(1) # Para que siempre genere los mismos números aleatorios y/o reiniciar la seed.\n",
    "\n",
    "var1 = pd.Series(range(10))\n",
    "var2 = pd.Series(range(10,0,-1))\n",
    "var3 = pd.Series(np.random.randint(0,10,10))\n",
    "var4 = pd.Series(np.random.randint(0,10,10))\n",
    "\n",
    "df = pd.DataFrame(data={'var1':var1, 'var2':var2, \n",
    "                        'var3':var3, 'var4':var4, })\n",
    "df"
   ]
  },
  {
   "cell_type": "markdown",
   "metadata": {
    "id": "-dN6Y5YJeWlP"
   },
   "source": [
    "Vamos a declarar una función que calcula la correlación de Pearson y, además, interpreta el resultado del p-valor:"
   ]
  },
  {
   "cell_type": "code",
   "execution_count": 30,
   "metadata": {
    "id": "9yf6YP6vefeK"
   },
   "outputs": [],
   "source": [
    "def correlacion_pearson_con_significancia(x, y, alfa=0.05):\n",
    "    coef, p = stats.pearsonr(x, y)\n",
    "\n",
    "    if p > alfa:\n",
    "        print(f'Las muestras no están correlacionadas (no rechazar H0) (p = {p:.2f})')\n",
    "    else:\n",
    "        print(f'Las muestras están correlacionadas (rechazar H0) (p = {p:.2f})')"
   ]
  },
  {
   "cell_type": "code",
   "execution_count": 31,
   "metadata": {
    "colab": {
     "base_uri": "https://localhost:8080/"
    },
    "executionInfo": {
     "elapsed": 515,
     "status": "ok",
     "timestamp": 1615646374370,
     "user": {
      "displayName": "Daniel Felipe Fragua Rengifo",
      "photoUrl": "",
      "userId": "09845551813303536248"
     },
     "user_tz": 300
    },
    "id": "LSlsyUtSfLR7",
    "outputId": "a3a9f3cc-d20e-47b4-a402-bd39f093511e"
   },
   "outputs": [
    {
     "name": "stdout",
     "output_type": "stream",
     "text": [
      "Las muestras están correlacionadas (rechazar H0) (p = 0.00)\n"
     ]
    }
   ],
   "source": [
    "correlacion_pearson_con_significancia(df['var1'], df['var2'])"
   ]
  },
  {
   "cell_type": "code",
   "execution_count": 32,
   "metadata": {
    "colab": {
     "base_uri": "https://localhost:8080/"
    },
    "executionInfo": {
     "elapsed": 465,
     "status": "ok",
     "timestamp": 1615646374907,
     "user": {
      "displayName": "Daniel Felipe Fragua Rengifo",
      "photoUrl": "",
      "userId": "09845551813303536248"
     },
     "user_tz": 300
    },
    "id": "yg036bbDfTKD",
    "outputId": "7bb1f873-07f0-46df-e570-ebb21b0abd81"
   },
   "outputs": [
    {
     "name": "stdout",
     "output_type": "stream",
     "text": [
      "Las muestras no están correlacionadas (no rechazar H0) (p = 1.00)\n"
     ]
    }
   ],
   "source": [
    "correlacion_pearson_con_significancia(df['var1'], df['var3'])"
   ]
  },
  {
   "cell_type": "code",
   "execution_count": 33,
   "metadata": {
    "colab": {
     "base_uri": "https://localhost:8080/"
    },
    "executionInfo": {
     "elapsed": 393,
     "status": "ok",
     "timestamp": 1615646377672,
     "user": {
      "displayName": "Daniel Felipe Fragua Rengifo",
      "photoUrl": "",
      "userId": "09845551813303536248"
     },
     "user_tz": 300
    },
    "id": "tJJV6FmLfViq",
    "outputId": "21f9b0d1-a85c-4b56-dbac-ca99ff709bd4"
   },
   "outputs": [
    {
     "name": "stdout",
     "output_type": "stream",
     "text": [
      "Las muestras no están correlacionadas (no rechazar H0) (p = 1.00)\n"
     ]
    }
   ],
   "source": [
    "correlacion_pearson_con_significancia(df['var1'], df['var3'])"
   ]
  },
  {
   "cell_type": "code",
   "execution_count": 34,
   "metadata": {
    "colab": {
     "base_uri": "https://localhost:8080/"
    },
    "executionInfo": {
     "elapsed": 362,
     "status": "ok",
     "timestamp": 1615646380172,
     "user": {
      "displayName": "Daniel Felipe Fragua Rengifo",
      "photoUrl": "",
      "userId": "09845551813303536248"
     },
     "user_tz": 300
    },
    "id": "lN9k2e-vfYdb",
    "outputId": "cf9ab4e2-e047-40b4-dcc5-cef0e31863e9"
   },
   "outputs": [
    {
     "name": "stdout",
     "output_type": "stream",
     "text": [
      "Las muestras están correlacionadas (rechazar H0) (p = 0.01)\n"
     ]
    }
   ],
   "source": [
    "correlacion_pearson_con_significancia(df['var1'], df['var4'])"
   ]
  },
  {
   "cell_type": "code",
   "execution_count": 35,
   "metadata": {
    "colab": {
     "base_uri": "https://localhost:8080/"
    },
    "executionInfo": {
     "elapsed": 499,
     "status": "ok",
     "timestamp": 1615646387071,
     "user": {
      "displayName": "Daniel Felipe Fragua Rengifo",
      "photoUrl": "",
      "userId": "09845551813303536248"
     },
     "user_tz": 300
    },
    "id": "_djusxi0dnW8",
    "outputId": "aa35f2cc-d831-4768-b384-9c5e01ec9781"
   },
   "outputs": [
    {
     "name": "stdout",
     "output_type": "stream",
     "text": [
      "Las muestras no están correlacionadas (no rechazar H0) (p = 0.09)\n"
     ]
    }
   ],
   "source": [
    "correlacion_pearson_con_significancia(df['var3'], df['var4'])\n"
   ]
  },
  {
   "cell_type": "markdown",
   "metadata": {
    "id": "eZ1JnyAAfkqg"
   },
   "source": [
    "Observe que en este último caso, aunque el coeficiente de correlación era $r=0.56$, lo cual indica una relación moderada aparente entre `var3` y `var4` , el **p-valor** $= 0.091$ está por encima del nivel de significancia. Por lo tanto, podemos afirmar que la correlación NO es significativa, es decir, que no se rechaza la hipótesis nula. En otras palabras, esta correlación puede estar causada por la aleatoriedad de los datos, y no por una relación entre ambas variables."
   ]
  },
  {
   "cell_type": "markdown",
   "metadata": {
    "id": "xBl-pppTqBr_"
   },
   "source": [
    "#### **1.3.2. Coeficiente de correlación de Spearman**\n",
    "---\n",
    "\n",
    "Para este ejemplo, vamos a generar los siguientes datos artificiales:"
   ]
  },
  {
   "cell_type": "code",
   "execution_count": 36,
   "metadata": {
    "colab": {
     "base_uri": "https://localhost:8080/",
     "height": 279
    },
    "executionInfo": {
     "elapsed": 602,
     "status": "ok",
     "timestamp": 1615646444081,
     "user": {
      "displayName": "Daniel Felipe Fragua Rengifo",
      "photoUrl": "",
      "userId": "09845551813303536248"
     },
     "user_tz": 300
    },
    "id": "fUTtAChDZcI9",
    "outputId": "538d0110-aa64-43e7-f329-295b55f053a8"
   },
   "outputs": [
    {
     "data": {
      "image/png": "[encoded data removed]",
      "text/plain": [
       "<Figure size 432x288 with 1 Axes>"
      ]
     },
     "metadata": {
      "needs_background": "light"
     },
     "output_type": "display_data"
    }
   ],
   "source": [
    "data1 = np.linspace(0, 2*np.pi, 20)\n",
    "data2 = 10*np.sin(data1) + np.pi*np.arange(20)\n",
    "\n",
    "df = pd.DataFrame(data={'var1':data1, 'var2':data2})\n",
    "\n",
    "# Graficamos los datos\n",
    "df.plot.scatter('var1', 'var2', s = 50, alpha = 0.6);"
   ]
  },
  {
   "cell_type": "markdown",
   "metadata": {
    "id": "8H4srzTaqihG"
   },
   "source": [
    "Si calculamos el coeficiente de correlación de Pearson:"
   ]
  },
  {
   "cell_type": "code",
   "execution_count": 37,
   "metadata": {
    "colab": {
     "base_uri": "https://localhost:8080/"
    },
    "executionInfo": {
     "elapsed": 393,
     "status": "ok",
     "timestamp": 1615646453143,
     "user": {
      "displayName": "Daniel Felipe Fragua Rengifo",
      "photoUrl": "",
      "userId": "09845551813303536248"
     },
     "user_tz": 300
    },
    "id": "1AmBRlxwcfSd",
    "outputId": "01385b1f-3b5d-4074-daff-b4c4c60ae204"
   },
   "outputs": [
    {
     "name": "stdout",
     "output_type": "stream",
     "text": [
      "Las muestras están correlacionadas (rechazar H0) (p = 0.00)\n"
     ]
    }
   ],
   "source": [
    "correlacion_pearson_con_significancia(df['var1'], df['var2'])"
   ]
  },
  {
   "cell_type": "markdown",
   "metadata": {
    "id": "8dobovCzqzdx"
   },
   "source": [
    "Obtenemos un coeficiente de correlación muy alto ($r = 0.94$) y un **p-valor** $=0$, indicando un alto nivel de significancia estadística. Sin embargo, estas variables no cumplen el supuesto de homocedasticidad, es decir, las muestras no tienen varianzas homogéneas. Esto se puede comprobar con la prueba de **`Levene`** que tiene como hipótesis nula que las muestras tienen varianza homogéneas, y es una prueba de una sola cola:\n"
   ]
  },
  {
   "cell_type": "code",
   "execution_count": 38,
   "metadata": {
    "colab": {
     "base_uri": "https://localhost:8080/"
    },
    "executionInfo": {
     "elapsed": 398,
     "status": "ok",
     "timestamp": 1615646472558,
     "user": {
      "displayName": "Daniel Felipe Fragua Rengifo",
      "photoUrl": "",
      "userId": "09845551813303536248"
     },
     "user_tz": 300
    },
    "id": "I7Ql3MyVrdwz",
    "outputId": "15742bdd-798d-4960-a37c-e2714b521fb3"
   },
   "outputs": [
    {
     "name": "stdout",
     "output_type": "stream",
     "text": [
      "Las muestras no tienen varianzas homogéneas (rechazar H0) p = 0.001\n"
     ]
    }
   ],
   "source": [
    "stat, pvalor = stats.levene(df['var1'], df['var2'])\n",
    "if pvalor < 0.05:  \n",
    "    print(f'Las muestras no tienen varianzas homogéneas (rechazar H0) p = {pvalor:.3f}')\n",
    "else:\n",
    "    print(f'Las muestras tienen varianza homogéneas (no rechazar H0) p = {pvalor:.3f}')"
   ]
  },
  {
   "cell_type": "markdown",
   "metadata": {
    "id": "uyjc-6qLsytM"
   },
   "source": [
    "En este caso, entonces, lo más adecuado será utilizar el coeficiente de correlación de **Spearman**. Esto también ocurre **cuando una de las muestras no está distribuida normalmente**. Además, este método es capaz de capturar de mejor manera la [relación monótona](https://es.wikipedia.org/wiki/Funci%C3%B3n_mon%C3%B3tona) entre las dos variables de este ejemplo, veamos:"
   ]
  },
  {
   "cell_type": "code",
   "execution_count": 39,
   "metadata": {
    "id": "_1n0ug5od782"
   },
   "outputs": [],
   "source": [
    "def correlacion_spearmanr_con_significancia(a, b):\n",
    "    coef, p = stats.spearmanr(a, b)\n",
    "    print(f'Coeficiente de correlación de Spearman: {coef:.2f}')\n",
    "\n",
    "    if p > 0.05:\n",
    "        print(f'Las muestras no están correlacionadas (no rechazar H0) p = {p:.3f}')\n",
    "    else:\n",
    "        print(f'Las muestras están correlacionadas (rechazar H0) p = {p:.3f}')"
   ]
  },
  {
   "cell_type": "code",
   "execution_count": 40,
   "metadata": {
    "colab": {
     "base_uri": "https://localhost:8080/"
    },
    "executionInfo": {
     "elapsed": 264,
     "status": "ok",
     "timestamp": 1615646519812,
     "user": {
      "displayName": "Daniel Felipe Fragua Rengifo",
      "photoUrl": "",
      "userId": "09845551813303536248"
     },
     "user_tz": 300
    },
    "id": "aufZfAU1cfSj",
    "outputId": "5dfd3ec1-d3e1-4a0f-80be-2747699119fd"
   },
   "outputs": [
    {
     "name": "stdout",
     "output_type": "stream",
     "text": [
      "Coeficiente de correlación de Spearman: 0.99\n",
      "Las muestras están correlacionadas (rechazar H0) p = 0.000\n"
     ]
    }
   ],
   "source": [
    "correlacion_spearmanr_con_significancia(df['var1'], df['var2'])"
   ]
  },
  {
   "cell_type": "markdown",
   "metadata": {
    "id": "uc-BUhB_t3BM"
   },
   "source": [
    "Observe que en este caso la correlación no sólo es significativa, sino que el coeficiente $\\rho$ de Spearman alcanzó un valor de $0.99$."
   ]
  },
  {
   "cell_type": "markdown",
   "metadata": {
    "id": "t65qiaY_uLx8"
   },
   "source": [
    "#### **1.3.3. Coeficiente de correlación de Kendall**\n",
    "---\n",
    "\n",
    "Por último, recordemos que el coeficiente de *Kendall* es un método no-paramétrico usado en variables categóricas ordinales. Se basa en la correspondencia entre el orden de cada pareja de observaciones. No realiza ninguna suposición sobre la distribución de los datos. La única suposición es que existe una relación monótona entre las variables probadas. Esta prueba es de dos colas, por lo que la significancia se debe dividir entre dos para compararlo contra el p-valor. Por lo tanto, podemos utilizar este método para establecer relaciones entre rankings.\n",
    "\n",
    "> **Ejemplo:** Suponga que una empresa contrata a dos expertos para evaluar la calidad de un conjunto de piezas publicitarias que ha desarrollado y desea seleccionar las mejores. Para esto, a cada experto se le presenta cada una de las piezas publicitarias en el mismo orden y ellos deben seleccionar una única opción con respeto a qué tan de acuerdo o qué tan desacuerdo están con la siguiente afirmación:\n",
    ">\n",
    "> \"*Esta pieza publicitaria es efectiva para conseguir el objetivo de la campaña.*\"\n",
    "\n",
    "Las opciones disponibles están dadas en una [escala Likert](https://es.wikipedia.org/wiki/Escala_Likert), de la siguiente manera: \n",
    "\n",
    "1. Totalmente en desacuerdo\n",
    "2. En desacuerdo\n",
    "3. Ni de acuerdo ni en desacuerdo\n",
    "4. De acuerdo\n",
    "5. Totalmente de acuerdo\n",
    "\n",
    "Nótese que las respuestas de cada uno de los expertos pueden ser consideradas como **variables categóricas ordinales**. \n",
    "\n",
    "> **Pregunta**: Antes de elegir la mejor pieza publicitaria, la empresa está interesada en conocer: ¿en qué medida coincidió el criterio de ambos expertos en las puntuaciones seleccionadas? Al tratarse de valores ordinales, no existe un punto de comparación absoluto entre ambas variables, pero sí en el orden en que están organizadas. Por ejemplo, a lo que el experto 1 pudo haber contestado con la opción 4, quizás el experto 2 generalmente contestaba con la opción 5.\n",
    "\n",
    "Supongamos que los resultados de la evaluación de los expertos son los siguientes:"
   ]
  },
  {
   "cell_type": "code",
   "execution_count": 41,
   "metadata": {
    "colab": {
     "base_uri": "https://localhost:8080/",
     "height": 359
    },
    "executionInfo": {
     "elapsed": 428,
     "status": "ok",
     "timestamp": 1615646697694,
     "user": {
      "displayName": "Daniel Felipe Fragua Rengifo",
      "photoUrl": "",
      "userId": "09845551813303536248"
     },
     "user_tz": 300
    },
    "id": "-QK-88xyz_mv",
    "outputId": "916479aa-f101-4c0e-e548-a60132c4a911"
   },
   "outputs": [
    {
     "data": {
      "text/html": [
       "<div>\n",
       "<style scoped>\n",
       "    .dataframe tbody tr th:only-of-type {\n",
       "        vertical-align: middle;\n",
       "    }\n",
       "\n",
       "    .dataframe tbody tr th {\n",
       "        vertical-align: top;\n",
       "    }\n",
       "\n",
       "    .dataframe thead th {\n",
       "        text-align: right;\n",
       "    }\n",
       "</style>\n",
       "<table border=\"1\" class=\"dataframe\">\n",
       "  <thead>\n",
       "    <tr style=\"text-align: right;\">\n",
       "      <th></th>\n",
       "      <th>item</th>\n",
       "      <th>experto1</th>\n",
       "      <th>experto2</th>\n",
       "    </tr>\n",
       "  </thead>\n",
       "  <tbody>\n",
       "    <tr>\n",
       "      <th>0</th>\n",
       "      <td>1</td>\n",
       "      <td>5</td>\n",
       "      <td>4</td>\n",
       "    </tr>\n",
       "    <tr>\n",
       "      <th>1</th>\n",
       "      <td>2</td>\n",
       "      <td>3</td>\n",
       "      <td>3</td>\n",
       "    </tr>\n",
       "    <tr>\n",
       "      <th>2</th>\n",
       "      <td>3</td>\n",
       "      <td>4</td>\n",
       "      <td>5</td>\n",
       "    </tr>\n",
       "    <tr>\n",
       "      <th>3</th>\n",
       "      <td>4</td>\n",
       "      <td>1</td>\n",
       "      <td>2</td>\n",
       "    </tr>\n",
       "    <tr>\n",
       "      <th>4</th>\n",
       "      <td>5</td>\n",
       "      <td>1</td>\n",
       "      <td>3</td>\n",
       "    </tr>\n",
       "    <tr>\n",
       "      <th>5</th>\n",
       "      <td>6</td>\n",
       "      <td>2</td>\n",
       "      <td>4</td>\n",
       "    </tr>\n",
       "    <tr>\n",
       "      <th>6</th>\n",
       "      <td>7</td>\n",
       "      <td>3</td>\n",
       "      <td>4</td>\n",
       "    </tr>\n",
       "    <tr>\n",
       "      <th>7</th>\n",
       "      <td>8</td>\n",
       "      <td>5</td>\n",
       "      <td>5</td>\n",
       "    </tr>\n",
       "    <tr>\n",
       "      <th>8</th>\n",
       "      <td>9</td>\n",
       "      <td>1</td>\n",
       "      <td>2</td>\n",
       "    </tr>\n",
       "    <tr>\n",
       "      <th>9</th>\n",
       "      <td>10</td>\n",
       "      <td>4</td>\n",
       "      <td>4</td>\n",
       "    </tr>\n",
       "  </tbody>\n",
       "</table>\n",
       "</div>"
      ],
      "text/plain": [
       "   item  experto1  experto2\n",
       "0     1         5         4\n",
       "1     2         3         3\n",
       "2     3         4         5\n",
       "3     4         1         2\n",
       "4     5         1         3\n",
       "5     6         2         4\n",
       "6     7         3         4\n",
       "7     8         5         5\n",
       "8     9         1         2\n",
       "9    10         4         4"
      ]
     },
     "execution_count": 41,
     "metadata": {},
     "output_type": "execute_result"
    }
   ],
   "source": [
    "items = pd.Series(range(1,11))\n",
    "\n",
    "experto1 = pd.Series([5, 3, 4, 1, 1, 2, 3, 5, 1, 4])\n",
    "experto2 = pd.Series([4, 3, 5, 2, 3, 4, 4, 5, 2, 4])\n",
    "\n",
    "df = pd.DataFrame(data={'item':items, 'experto1':experto1, 'experto2':experto2})\n",
    "df"
   ]
  },
  {
   "cell_type": "markdown",
   "metadata": {
    "id": "A_eNo9Wi4rVF"
   },
   "source": [
    "Calculamos el coeficiente de correlación $\\tau$ de Kendall:"
   ]
  },
  {
   "cell_type": "code",
   "execution_count": 42,
   "metadata": {
    "colab": {
     "base_uri": "https://localhost:8080/"
    },
    "executionInfo": {
     "elapsed": 424,
     "status": "ok",
     "timestamp": 1615646707149,
     "user": {
      "displayName": "Daniel Felipe Fragua Rengifo",
      "photoUrl": "",
      "userId": "09845551813303536248"
     },
     "user_tz": 300
    },
    "id": "iB7ams-6cfSn",
    "outputId": "f61dccaa-bb13-48d7-e02e-1a781d127889"
   },
   "outputs": [
    {
     "name": "stdout",
     "output_type": "stream",
     "text": [
      "Coeficiente de correlación de Kendall: 0.72\n",
      "Las muestras están correlacionadas (rechazar H0) p = 0.009\n"
     ]
    }
   ],
   "source": [
    "coef, p = stats.kendalltau(df['experto1'], df['experto2'])\n",
    "\n",
    "print(f'Coeficiente de correlación de Kendall: {coef:.2f}')\n",
    "if p > 0.05/2.0:\n",
    "    print(f'Las muestras no están correlacionadas (no rechazar H0) p = {p:.3f}')\n",
    "else:\n",
    "    print(f'Las muestras están correlacionadas (rechazar H0) p = {p:.3f}')"
   ]
  },
  {
   "cell_type": "markdown",
   "metadata": {
    "id": "zUA1HXWm1elg"
   },
   "source": [
    "Esto quiere decir que, con un $95\\%$ de confianza (como se dijo anteriormente, es una prueba de dos colas), podemos afirmar que el criterio de evaluación de los expertos coincidió con un coeficiente de correlación moderado alto ($0.72$), y se puede proceder a seleccionar la campaña mejor punteada por los expertos. "
   ]
  },
  {
   "cell_type": "markdown",
   "metadata": {
    "id": "oL-U5NO57Xqs"
   },
   "source": [
    "## **1.4. Correlaciones no lineales**\n",
    "---\n",
    "Un coeficiente de correlación bajo no implica que no exista relación entre las variables. Las variables pueden tener una relación no lineal que no sea detectada con los coeficientes de correlación típicos. Se recomienda que siempre verifique por medio de gráficos de dispersión o de líneas. \n",
    "\n",
    "Por ejemplo, si los datos tuvieran la siguiente relación:\n",
    "\n"
   ]
  },
  {
   "cell_type": "code",
   "execution_count": 43,
   "metadata": {
    "colab": {
     "base_uri": "https://localhost:8080/",
     "height": 279
    },
    "executionInfo": {
     "elapsed": 632,
     "status": "ok",
     "timestamp": 1615646752043,
     "user": {
      "displayName": "Daniel Felipe Fragua Rengifo",
      "photoUrl": "",
      "userId": "09845551813303536248"
     },
     "user_tz": 300
    },
    "id": "NaKa7ZCz4yHj",
    "outputId": "4abe506f-3cc8-40a8-f876-f97544624e2e"
   },
   "outputs": [
    {
     "data": {
      "image/png": "[encoded data removed]",
      "text/plain": [
       "<Figure size 432x288 with 1 Axes>"
      ]
     },
     "metadata": {
      "needs_background": "light"
     },
     "output_type": "display_data"
    }
   ],
   "source": [
    "x = np.arange(-100,101)\n",
    "y = x**2 - x  # Función cuadrática\n",
    "df = pd.DataFrame(data={'x':x, 'y':y})\n",
    "\n",
    "# Graficamos los datos\n",
    "df.plot.scatter('x', 'y', s = 20, alpha = 0.6);"
   ]
  },
  {
   "cell_type": "markdown",
   "metadata": {
    "id": "wwUQQEWS4yHo"
   },
   "source": [
    "Si calculamos el coeficiente de correlación de Pearson:"
   ]
  },
  {
   "cell_type": "code",
   "execution_count": 44,
   "metadata": {
    "colab": {
     "base_uri": "https://localhost:8080/"
    },
    "executionInfo": {
     "elapsed": 393,
     "status": "ok",
     "timestamp": 1615646761470,
     "user": {
      "displayName": "Daniel Felipe Fragua Rengifo",
      "photoUrl": "",
      "userId": "09845551813303536248"
     },
     "user_tz": 300
    },
    "id": "kRB-w-8W4yHo",
    "outputId": "d7cd332f-4c25-4f24-cf23-f171a6fb0f95"
   },
   "outputs": [
    {
     "name": "stdout",
     "output_type": "stream",
     "text": [
      "Las muestras no están correlacionadas (no rechazar H0) (p = 0.79)\n"
     ]
    }
   ],
   "source": [
    "correlacion_pearson_con_significancia(df['x'], df['y'])"
   ]
  },
  {
   "cell_type": "markdown",
   "metadata": {
    "id": "ksLMmpMU5PAZ"
   },
   "source": [
    "Si calculamos el coeficiente de correlación de *Spearman*:"
   ]
  },
  {
   "cell_type": "code",
   "execution_count": 45,
   "metadata": {
    "colab": {
     "base_uri": "https://localhost:8080/"
    },
    "executionInfo": {
     "elapsed": 472,
     "status": "ok",
     "timestamp": 1615646764900,
     "user": {
      "displayName": "Daniel Felipe Fragua Rengifo",
      "photoUrl": "",
      "userId": "09845551813303536248"
     },
     "user_tz": 300
    },
    "id": "aqV0V80g5MDJ",
    "outputId": "68aa26ce-2e34-410b-f4e4-6e7394e2e059"
   },
   "outputs": [
    {
     "name": "stdout",
     "output_type": "stream",
     "text": [
      "Coeficiente de correlación de Spearman: -0.01\n",
      "Las muestras no están correlacionadas (no rechazar H0) p = 0.834\n"
     ]
    }
   ],
   "source": [
    "correlacion_spearmanr_con_significancia(df['x'], df['y'])"
   ]
  },
  {
   "cell_type": "markdown",
   "metadata": {
    "id": "NgwfMOgN5X_T"
   },
   "source": [
    "En ambos casos el resultado muestra un coeficiente de correlación cercano a $0.0$ y su p-valor indica que las muestras no están correlacionadas. Sin embargo, como se puede apreciar, aunque la relación entre las variables no es lineal, si hay una clara relación entre ellas dada por la ecuación: $y = x^2 - x$. "
   ]
  },
  {
   "cell_type": "markdown",
   "metadata": {
    "id": "-Tb9cBeU6dHI"
   },
   "source": [
    "Veamos otro ejemplo:"
   ]
  },
  {
   "cell_type": "code",
   "execution_count": 46,
   "metadata": {
    "colab": {
     "base_uri": "https://localhost:8080/",
     "height": 279
    },
    "executionInfo": {
     "elapsed": 621,
     "status": "ok",
     "timestamp": 1615646787829,
     "user": {
      "displayName": "Daniel Felipe Fragua Rengifo",
      "photoUrl": "",
      "userId": "09845551813303536248"
     },
     "user_tz": 300
    },
    "id": "Qgx9o5FN6bay",
    "outputId": "56d90212-259d-4a1c-eeb2-0c91a580c8c4"
   },
   "outputs": [
    {
     "data": {
      "image/png": "[encoded data removed]",
      "text/plain": [
       "<Figure size 432x288 with 1 Axes>"
      ]
     },
     "metadata": {
      "needs_background": "light"
     },
     "output_type": "display_data"
    }
   ],
   "source": [
    "x = np.arange(-3.5, 3.5, 0.01)\n",
    "y = x**4 - 10*x**2 - 2 # Función polinómica\n",
    "df = pd.DataFrame(data={'x':x, 'y':y})\n",
    "\n",
    "# Graficamos los datos\n",
    "df.plot.scatter('x', 'y', s = 2);"
   ]
  },
  {
   "cell_type": "markdown",
   "metadata": {
    "id": "aHqoHIOh7soQ"
   },
   "source": [
    "Si calculamos el coeficiente de correlación de *Pearson*:"
   ]
  },
  {
   "cell_type": "code",
   "execution_count": 47,
   "metadata": {
    "colab": {
     "base_uri": "https://localhost:8080/"
    },
    "executionInfo": {
     "elapsed": 405,
     "status": "ok",
     "timestamp": 1615646795242,
     "user": {
      "displayName": "Daniel Felipe Fragua Rengifo",
      "photoUrl": "",
      "userId": "09845551813303536248"
     },
     "user_tz": 300
    },
    "id": "i3OzoUhc7soS",
    "outputId": "d29c5b15-281d-4c2f-f9a7-e6fe0217ca2a"
   },
   "outputs": [
    {
     "name": "stdout",
     "output_type": "stream",
     "text": [
      "Las muestras no están correlacionadas (no rechazar H0) (p = 0.83)\n"
     ]
    }
   ],
   "source": [
    "correlacion_pearson_con_significancia(df['x'], df['y'])"
   ]
  },
  {
   "cell_type": "markdown",
   "metadata": {
    "id": "AYUZCvOa7sog"
   },
   "source": [
    "Si calculamos el coeficiente de correlación de Spearman:"
   ]
  },
  {
   "cell_type": "code",
   "execution_count": 48,
   "metadata": {
    "colab": {
     "base_uri": "https://localhost:8080/"
    },
    "executionInfo": {
     "elapsed": 395,
     "status": "ok",
     "timestamp": 1615646799036,
     "user": {
      "displayName": "Daniel Felipe Fragua Rengifo",
      "photoUrl": "",
      "userId": "09845551813303536248"
     },
     "user_tz": 300
    },
    "id": "Ngt5AnD_7sog",
    "outputId": "40282ee0-7a83-4ea4-b0a9-95ec7777bd22"
   },
   "outputs": [
    {
     "name": "stdout",
     "output_type": "stream",
     "text": [
      "Coeficiente de correlación de Spearman: -0.00\n",
      "Las muestras no están correlacionadas (no rechazar H0) p = 0.901\n"
     ]
    }
   ],
   "source": [
    "correlacion_spearmanr_con_significancia(df['x'], df['y'])"
   ]
  },
  {
   "cell_type": "markdown",
   "metadata": {
    "id": "g_iEhq_u7soh"
   },
   "source": [
    "En ambos casos el resultado es que el coeficiente de correlación es $0.0$ y su p-valor indica que las muestras no están correlacionadas. Sin embargo, como se puede apreciar, aunque la relación entre las variables no es lineal, si hay una clara relación entre ellas dada por la ecuación: $y = x^4 - 10x^2-2$. "
   ]
  },
  {
   "cell_type": "markdown",
   "metadata": {
    "id": "eTJEul2yazGO"
   },
   "source": [
    "# **2. Análisis de regresión**\n",
    "---\n",
    "El análisis de regresión es el proceso estadístico en el que se busca modelar o definir relaciones y asociaciones específicas entre variables. A diferencia del análisis de correlación, con la regresión se definen funciones matemáticas que permiten predecir el valor de una variable dependiente a partir de una o varias variables independientes.  \n",
    "\n",
    "En la regresión se define una variable dependiente de una o más variables distintas, entre las que pudo haber algún tipo de control en la medición. En muchos casos, el análisis de regresión lineal pasa por un análisis previo de correlación.\n",
    "\n",
    "En este Notebook veremos cómo hacer regresiones de los siguientes tipos:\n",
    "\n",
    "* Regresión lineal.\n",
    "* Regresión multilineal.\n",
    "* Regresión logística.\n",
    "\n"
   ]
  },
  {
   "cell_type": "markdown",
   "metadata": {
    "id": "7XYsDbT4-aig"
   },
   "source": [
    "## **2.1. Datos**\n",
    "---\n",
    "\n",
    "Para los siguientes ejemplos trabajaremos con el dataset **`Framingham`**. Este conjunto de datos está disponible públicamente en el sitio web de [Kaggle](https://www.kaggle.com/dileep070/heart-disease-prediction-using-logistic-regression), y es de un estudio de riesgo cardiovascular sobre los residentes de la ciudad de Framingham, Massachusetts en Estados Unidos. El objetivo de la clasificación es predecir si el paciente tiene un riesgo de 10 años de padecer una futura enfermedad coronaria (CHD). El conjunto de datos proporciona la información de los pacientes con más de 3.000 registros y 15 atributos. Se incluyen diferentes variables con factores de riesgo potenciales a nivel demográficos, comportamentales y médicos.\n",
    "\n",
    "**Demográficos:**\n",
    "* **`male`**: Masculino o femenino (Nominal).\n",
    "* **`age`**: Edad del paciente (aunque las edades registradas han sido truncadas a números enteros, el concepto de edad es continuo).\n",
    "\n",
    "**Comportamiento:**\n",
    "* **`currentSmoker`**: Si el paciente es o no fumador actualmente (nominal).\n",
    "* **`cigsPerDay`**: El número de cigarrillos que la persona fuma en promedio en un día (puede considerarse continuo, ya que se puede tener cualquier número de cigarrillos, incluso medio cigarrillo).\n",
    "\n",
    "**Historia médica:**\n",
    "* **`BPMeds`**: Si el paciente estaba o no tomando medicamentos para la presión sanguínea (nominal).\n",
    "* **`prevalentStroke`**: Si el paciente ha tenido previamente una apoplejía o no (nominal).\n",
    "* **`prevalentHyp`**: Si el paciente era o no hipertenso (nominal).\n",
    "* **`diabetes`**: Si el paciente tenía o no diabetes (nominal).\n",
    "* **`totChol`**: Nivel de colesterol total (continuo).\n",
    "* **`sysBP`**: Presión sanguínea sistólica (continua).\n",
    "* **`diaBP`**: Presión arterial diastólica (continua).\n",
    "* **`BMI`**: Índice de Masa Corporal - IMC (continuo).\n",
    "* **`heartRate`**: Ritmo cardíaco (continuo).\n",
    "* **`glucose`**: Nivel de glucosa (continuo).\n",
    "\n",
    "**Variable objetivo deseada:**\n",
    "* **`TenYearCHD`**: Riesgo de enfermedad coronaria CHD a 10 años (binario: \"1\", significa \"Sí\", \"0\" significa \"No\")."
   ]
  },
  {
   "cell_type": "markdown",
   "metadata": {
    "id": "nsca2VI8CkL6"
   },
   "source": [
    "Primero, descargamos los datos y limpiamos el dataset:"
   ]
  },
  {
   "cell_type": "code",
   "execution_count": 49,
   "metadata": {
    "colab": {
     "base_uri": "https://localhost:8080/"
    },
    "executionInfo": {
     "elapsed": 1118,
     "status": "ok",
     "timestamp": 1615647007529,
     "user": {
      "displayName": "Daniel Felipe Fragua Rengifo",
      "photoUrl": "",
      "userId": "09845551813303536248"
     },
     "user_tz": 300
    },
    "id": "uEmNvSdRiPBV",
    "outputId": "3888adc7-d120-4833-86eb-8d584c7b5db3"
   },
   "outputs": [
    {
     "name": "stdout",
     "output_type": "stream",
     "text": [
      "<class 'pandas.core.frame.DataFrame'>\n",
      "Int64Index: 3656 entries, 0 to 4237\n",
      "Data columns (total 16 columns):\n",
      " #   Column           Non-Null Count  Dtype  \n",
      "---  ------           --------------  -----  \n",
      " 0   male             3656 non-null   int64  \n",
      " 1   age              3656 non-null   int64  \n",
      " 2   education        3656 non-null   float64\n",
      " 3   currentSmoker    3656 non-null   int64  \n",
      " 4   cigsPerDay       3656 non-null   float64\n",
      " 5   BPMeds           3656 non-null   float64\n",
      " 6   prevalentStroke  3656 non-null   int64  \n",
      " 7   prevalentHyp     3656 non-null   int64  \n",
      " 8   diabetes         3656 non-null   int64  \n",
      " 9   totChol          3656 non-null   float64\n",
      " 10  sysBP            3656 non-null   float64\n",
      " 11  diaBP            3656 non-null   float64\n",
      " 12  BMI              3656 non-null   float64\n",
      " 13  heartRate        3656 non-null   float64\n",
      " 14  glucose          3656 non-null   float64\n",
      " 15  TenYearCHD       3656 non-null   int64  \n",
      "dtypes: float64(9), int64(7)\n",
      "memory usage: 485.6 KB\n"
     ]
    }
   ],
   "source": [
    "df_cardio=pd.read_csv(\"data/cardio.csv\")\n",
    "df_cardio.dropna(axis=0, inplace=True) # Se eliminan registros con valores faltantes\n",
    "df_cardio.info()"
   ]
  },
  {
   "cell_type": "code",
   "execution_count": 50,
   "metadata": {
    "colab": {
     "base_uri": "https://localhost:8080/",
     "height": 224
    },
    "executionInfo": {
     "elapsed": 415,
     "status": "ok",
     "timestamp": 1615647007699,
     "user": {
      "displayName": "Daniel Felipe Fragua Rengifo",
      "photoUrl": "",
      "userId": "09845551813303536248"
     },
     "user_tz": 300
    },
    "id": "bWD2m7OsoZrQ",
    "outputId": "f738771a-2d06-4017-efd9-66832d90a6e7"
   },
   "outputs": [
    {
     "data": {
      "text/html": [
       "<div>\n",
       "<style scoped>\n",
       "    .dataframe tbody tr th:only-of-type {\n",
       "        vertical-align: middle;\n",
       "    }\n",
       "\n",
       "    .dataframe tbody tr th {\n",
       "        vertical-align: top;\n",
       "    }\n",
       "\n",
       "    .dataframe thead th {\n",
       "        text-align: right;\n",
       "    }\n",
       "</style>\n",
       "<table border=\"1\" class=\"dataframe\">\n",
       "  <thead>\n",
       "    <tr style=\"text-align: right;\">\n",
       "      <th></th>\n",
       "      <th>male</th>\n",
       "      <th>age</th>\n",
       "      <th>education</th>\n",
       "      <th>currentSmoker</th>\n",
       "      <th>cigsPerDay</th>\n",
       "      <th>BPMeds</th>\n",
       "      <th>prevalentStroke</th>\n",
       "      <th>prevalentHyp</th>\n",
       "      <th>diabetes</th>\n",
       "      <th>totChol</th>\n",
       "      <th>sysBP</th>\n",
       "      <th>diaBP</th>\n",
       "      <th>BMI</th>\n",
       "      <th>heartRate</th>\n",
       "      <th>glucose</th>\n",
       "      <th>TenYearCHD</th>\n",
       "    </tr>\n",
       "  </thead>\n",
       "  <tbody>\n",
       "    <tr>\n",
       "      <th>0</th>\n",
       "      <td>1</td>\n",
       "      <td>39</td>\n",
       "      <td>4.0</td>\n",
       "      <td>0</td>\n",
       "      <td>0.0</td>\n",
       "      <td>0.0</td>\n",
       "      <td>0</td>\n",
       "      <td>0</td>\n",
       "      <td>0</td>\n",
       "      <td>195.0</td>\n",
       "      <td>106.0</td>\n",
       "      <td>70.0</td>\n",
       "      <td>26.97</td>\n",
       "      <td>80.0</td>\n",
       "      <td>77.0</td>\n",
       "      <td>0</td>\n",
       "    </tr>\n",
       "    <tr>\n",
       "      <th>1</th>\n",
       "      <td>0</td>\n",
       "      <td>46</td>\n",
       "      <td>2.0</td>\n",
       "      <td>0</td>\n",
       "      <td>0.0</td>\n",
       "      <td>0.0</td>\n",
       "      <td>0</td>\n",
       "      <td>0</td>\n",
       "      <td>0</td>\n",
       "      <td>250.0</td>\n",
       "      <td>121.0</td>\n",
       "      <td>81.0</td>\n",
       "      <td>28.73</td>\n",
       "      <td>95.0</td>\n",
       "      <td>76.0</td>\n",
       "      <td>0</td>\n",
       "    </tr>\n",
       "    <tr>\n",
       "      <th>2</th>\n",
       "      <td>1</td>\n",
       "      <td>48</td>\n",
       "      <td>1.0</td>\n",
       "      <td>1</td>\n",
       "      <td>20.0</td>\n",
       "      <td>0.0</td>\n",
       "      <td>0</td>\n",
       "      <td>0</td>\n",
       "      <td>0</td>\n",
       "      <td>245.0</td>\n",
       "      <td>127.5</td>\n",
       "      <td>80.0</td>\n",
       "      <td>25.34</td>\n",
       "      <td>75.0</td>\n",
       "      <td>70.0</td>\n",
       "      <td>0</td>\n",
       "    </tr>\n",
       "    <tr>\n",
       "      <th>3</th>\n",
       "      <td>0</td>\n",
       "      <td>61</td>\n",
       "      <td>3.0</td>\n",
       "      <td>1</td>\n",
       "      <td>30.0</td>\n",
       "      <td>0.0</td>\n",
       "      <td>0</td>\n",
       "      <td>1</td>\n",
       "      <td>0</td>\n",
       "      <td>225.0</td>\n",
       "      <td>150.0</td>\n",
       "      <td>95.0</td>\n",
       "      <td>28.58</td>\n",
       "      <td>65.0</td>\n",
       "      <td>103.0</td>\n",
       "      <td>1</td>\n",
       "    </tr>\n",
       "    <tr>\n",
       "      <th>4</th>\n",
       "      <td>0</td>\n",
       "      <td>46</td>\n",
       "      <td>3.0</td>\n",
       "      <td>1</td>\n",
       "      <td>23.0</td>\n",
       "      <td>0.0</td>\n",
       "      <td>0</td>\n",
       "      <td>0</td>\n",
       "      <td>0</td>\n",
       "      <td>285.0</td>\n",
       "      <td>130.0</td>\n",
       "      <td>84.0</td>\n",
       "      <td>23.10</td>\n",
       "      <td>85.0</td>\n",
       "      <td>85.0</td>\n",
       "      <td>0</td>\n",
       "    </tr>\n",
       "  </tbody>\n",
       "</table>\n",
       "</div>"
      ],
      "text/plain": [
       "   male  age  education  currentSmoker  cigsPerDay  BPMeds  prevalentStroke  \\\n",
       "0     1   39        4.0              0         0.0     0.0                0   \n",
       "1     0   46        2.0              0         0.0     0.0                0   \n",
       "2     1   48        1.0              1        20.0     0.0                0   \n",
       "3     0   61        3.0              1        30.0     0.0                0   \n",
       "4     0   46        3.0              1        23.0     0.0                0   \n",
       "\n",
       "   prevalentHyp  diabetes  totChol  sysBP  diaBP    BMI  heartRate  glucose  \\\n",
       "0             0         0    195.0  106.0   70.0  26.97       80.0     77.0   \n",
       "1             0         0    250.0  121.0   81.0  28.73       95.0     76.0   \n",
       "2             0         0    245.0  127.5   80.0  25.34       75.0     70.0   \n",
       "3             1         0    225.0  150.0   95.0  28.58       65.0    103.0   \n",
       "4             0         0    285.0  130.0   84.0  23.10       85.0     85.0   \n",
       "\n",
       "   TenYearCHD  \n",
       "0           0  \n",
       "1           0  \n",
       "2           0  \n",
       "3           1  \n",
       "4           0  "
      ]
     },
     "execution_count": 50,
     "metadata": {},
     "output_type": "execute_result"
    }
   ],
   "source": [
    "df_cardio.head()"
   ]
  },
  {
   "cell_type": "markdown",
   "metadata": {
    "id": "DUpMXFuk-1kP"
   },
   "source": [
    "## **2.2. Regresión lineal**\n",
    "---\n",
    "\n",
    "La regresión lineal es un modelo estadístico que examina la relación lineal entre dos variables. Este modelo plantea una relación lineal proporcional, en la que si una variable aumenta o disminuye, la otra también varía. El objetivo es entonces encontrar la función matemática que más se ajuste a los datos y minimice el error entre las observaciones iniciales y las predicciones. Uno de los métodos más utilizados en la regresión lineal es el método de mínimos cuadrados ordinarios. \n",
    "\n",
    "<img src = \"images/lin_reg.jpg\" alt = \"Regresión lineal\" width = \"65%\">  </img>\n",
    "\n",
    "En el siguiente ejemplo queremos modelar la relación existente entre la presión sistólica de los pacientes y su edad.\n",
    "\n",
    "Exploremos la relación entre las variables de forma gráfica:"
   ]
  },
  {
   "cell_type": "code",
   "execution_count": 51,
   "metadata": {
    "colab": {
     "base_uri": "https://localhost:8080/",
     "height": 295
    },
    "executionInfo": {
     "elapsed": 661,
     "status": "ok",
     "timestamp": 1615647024658,
     "user": {
      "displayName": "Daniel Felipe Fragua Rengifo",
      "photoUrl": "",
      "userId": "09845551813303536248"
     },
     "user_tz": 300
    },
    "id": "OmVB1CK3o0jY",
    "outputId": "26a7f97c-cd15-45e8-ced6-49f21ff53d12"
   },
   "outputs": [
    {
     "data": {
      "image/png": "[encoded data removed]",
      "text/plain": [
       "<Figure size 432x288 with 1 Axes>"
      ]
     },
     "metadata": {
      "needs_background": "light"
     },
     "output_type": "display_data"
    }
   ],
   "source": [
    "df_cardio.plot.scatter('age', 'sysBP', title=\"Presión arterial sistólica vs. Edad\",\n",
    "                s = 10, alpha = 0.3, grid=True);"
   ]
  },
  {
   "cell_type": "markdown",
   "metadata": {
    "id": "Vc47Z-HhFRhX"
   },
   "source": [
    "Antes de modelar la relación entre estas dos variables, inspeccionemos la correlación entre ellas:"
   ]
  },
  {
   "cell_type": "code",
   "execution_count": 52,
   "metadata": {
    "colab": {
     "base_uri": "https://localhost:8080/"
    },
    "executionInfo": {
     "elapsed": 392,
     "status": "ok",
     "timestamp": 1615647026164,
     "user": {
      "displayName": "Daniel Felipe Fragua Rengifo",
      "photoUrl": "",
      "userId": "09845551813303536248"
     },
     "user_tz": 300
    },
    "id": "ODg6JqVNpTag",
    "outputId": "613a6df6-c924-40b0-900e-0cf1cc3c7f24"
   },
   "outputs": [
    {
     "name": "stdout",
     "output_type": "stream",
     "text": [
      "Las muestras están correlacionadas (rechazar H0) (p = 0.00)\n"
     ]
    }
   ],
   "source": [
    "correlacion_pearson_con_significancia(df_cardio['age'], df_cardio['sysBP'])"
   ]
  },
  {
   "cell_type": "markdown",
   "metadata": {
    "id": "dxaDdrSoFbHZ"
   },
   "source": [
    "Como se puede ver, existe una correlación leve entre ellas (coeficiente Pearson: $0.39$). Además esta relación es estadísticamente significativa (p-valor $=0$). "
   ]
  },
  {
   "cell_type": "markdown",
   "metadata": {
    "id": "HLZDnI71E79P"
   },
   "source": [
    "**I. Usando `SciPy`**\n",
    "***\n",
    "\n",
    "La librería *SciPy* permite modelar la regresión lineal mediante la función  **`linregress`**:\n",
    "\n",
    "* [**`scipy.stats.linregress`**](https://docs.scipy.org/doc/scipy/reference/generated/scipy.stats.linregress.html)\n",
    "\n",
    "Esta función recibe las dos variables como parámetro (deben tener la misma longitud) y retorna 5 valores:\n",
    "* Pendiente de la línea de regresión.\n",
    "* Intercepción de la línea de regresión.\n",
    "* Coeficiente de correlación.\n",
    "* p-valor de dos colas para una prueba de hipótesis cuya hipótesis nula es que la pendiente es cero.\n",
    "* Error estándar del gradiente estimado."
   ]
  },
  {
   "cell_type": "code",
   "execution_count": 53,
   "metadata": {
    "colab": {
     "base_uri": "https://localhost:8080/"
    },
    "executionInfo": {
     "elapsed": 468,
     "status": "ok",
     "timestamp": 1615647040446,
     "user": {
      "displayName": "Daniel Felipe Fragua Rengifo",
      "photoUrl": "",
      "userId": "09845551813303536248"
     },
     "user_tz": 300
    },
    "id": "mQgtm-qepkOg",
    "outputId": "5b02e1cc-b716-4ddc-aea4-df590319d275"
   },
   "outputs": [
    {
     "name": "stdout",
     "output_type": "stream",
     "text": [
      "pend =   1.002675\n",
      "interc =  82.678032\n",
      "corr =   0.388551\n",
      "p_valor =   0.000000\n",
      "error_std =   0.039336\n"
     ]
    }
   ],
   "source": [
    "pend, interc, corr, p_valor, error_std = stats.linregress(df_cardio['age'], df_cardio['sysBP'])\n",
    "\n",
    "print(f\"pend = {pend:10f}\")\n",
    "print(f\"interc = {interc:10f}\")\n",
    "print(f\"corr = {corr:10f}\")\n",
    "print(f\"p_valor = {p_valor:10f}\")\n",
    "print(f\"error_std = {error_std:10f}\")"
   ]
  },
  {
   "cell_type": "markdown",
   "metadata": {
    "id": "Z_a0yppwGDiu"
   },
   "source": [
    "Como se puede apreciar el p-valor es igual a $0$ aproximadamente, por lo que se puede decir que el modelo obtenido es estadísticamente significativo.\n",
    "\n",
    "La **pendiente** y el **intercepto** de la regresión nos permiten construir la ecuación general de la recta que mejor describe la relación entre las dos variables:\n",
    "\n",
    "$y = mx + b$\n",
    "\n",
    "Donde: \n",
    "\n",
    "* $m$ = **pendiente**.\n",
    "* $b$ = **intercepto**.\n",
    "\n",
    "Por lo tanto, en nuestro caso:\n",
    "\n",
    "$sysBP = pend * age + interc$\n",
    "\n",
    "A continuación, vamos a añadir este modelo como una nueva columna (**`modeloPresionSis`**) al *DataFrame*:"
   ]
  },
  {
   "cell_type": "code",
   "execution_count": 54,
   "metadata": {
    "id": "3m318VTEwQxQ"
   },
   "outputs": [],
   "source": [
    "df_cardio['modeloPresionSis'] =  pend * df_cardio['age'] + interc"
   ]
  },
  {
   "cell_type": "markdown",
   "metadata": {
    "id": "uvCdX8IuImI1"
   },
   "source": [
    "Ahora vamos a visualizar nuevamente las variables, pero esta vez incluyendo la recta de la regresión lineal entre ellas:"
   ]
  },
  {
   "cell_type": "code",
   "execution_count": 55,
   "metadata": {
    "colab": {
     "base_uri": "https://localhost:8080/",
     "height": 295
    },
    "executionInfo": {
     "elapsed": 661,
     "status": "ok",
     "timestamp": 1615647113001,
     "user": {
      "displayName": "Daniel Felipe Fragua Rengifo",
      "photoUrl": "",
      "userId": "09845551813303536248"
     },
     "user_tz": 300
    },
    "id": "ZocZYmFlrBC_",
    "outputId": "d52fec23-36ae-44e5-8bce-e2ea5ba83c67"
   },
   "outputs": [
    {
     "data": {
      "image/png": "[encoded data removed]",
      "text/plain": [
       "<Figure size 432x288 with 1 Axes>"
      ]
     },
     "metadata": {
      "needs_background": "light"
     },
     "output_type": "display_data"
    }
   ],
   "source": [
    "ax = df_cardio.plot.scatter('age', 'sysBP', title=\"Presión arterial sistólica vs. Edad\",\n",
    "                s = 10, alpha = 0.3, grid=True)\n",
    "df_cardio.plot.line('age', 'modeloPresionSis', \n",
    "                   c='r', label='Regresión lineal', ax=ax);  "
   ]
  },
  {
   "cell_type": "markdown",
   "metadata": {
    "id": "MuwsPV01I2f4"
   },
   "source": [
    "Por último, para interpretar este resultado calcularemos el [**coeficiente de determinación $R^2$**](https://es.wikipedia.org/wiki/Coeficiente_de_determinaci%C3%B3n), que es igual al coeficiente de correlación elevado al cuadrado. El coeficiente de determinación determina la calidad del modelo para replicar los resultados, y la proporción de variación de los resultados que puede explicarse por el modelo. El $R^2$ toma valores entre 0.0 y 1.0. Mientras mejor sea el modelo, el valor de $R^2$ será mayor."
   ]
  },
  {
   "cell_type": "code",
   "execution_count": 56,
   "metadata": {
    "colab": {
     "base_uri": "https://localhost:8080/"
    },
    "executionInfo": {
     "elapsed": 372,
     "status": "ok",
     "timestamp": 1615647170288,
     "user": {
      "displayName": "Daniel Felipe Fragua Rengifo",
      "photoUrl": "",
      "userId": "09845551813303536248"
     },
     "user_tz": 300
    },
    "id": "QW_cluxltmVC",
    "outputId": "44b6b222-4cc2-4afe-a935-832ab823f62a"
   },
   "outputs": [
    {
     "name": "stdout",
     "output_type": "stream",
     "text": [
      "R^2 = 0.15097156788122737\n"
     ]
    }
   ],
   "source": [
    "print(f\"R^2 = {corr**2}\")"
   ]
  },
  {
   "cell_type": "markdown",
   "metadata": {
    "id": "pZFbKsJ3KDnw"
   },
   "source": [
    "En este caso vemos que el $R^2$ es bajo."
   ]
  },
  {
   "cell_type": "markdown",
   "metadata": {
    "id": "NzxvJzCWFF0y"
   },
   "source": [
    "**II. Usando `statsmodels`**\n",
    "***\n",
    "\n",
    "La librería **`statsmodels`** no solo permite replicar el resultado anterior al modelar la relación entre dos variables, sino que permite construir modelos más generales donde se involucren más variables. A continuación usaremos las siguientes funciones:\n",
    "\n",
    "* [**`statsmodels.regression.linear_model.OLS.from_formula`**](https://www.statsmodels.org/stable/generated/statsmodels.regression.linear_model.OLS.from_formula.html): Crea un modelo a partir de una fórmula y un *DataDrame*.\n",
    "* [**`statsmodels.formula.api.ols`**](https://www.statsmodels.org/stable/generated/statsmodels.formula.api.ols.html): Crea un modelo a partir de una fórmula y un *DataDrame* (otra forma).\n",
    "* [**`statsmodels.regression.linear_model.OLS.fit`**](https://www.statsmodels.org/stable/generated/statsmodels.regression.linear_model.OLS.fit.html): Calcula los parámetros del modelo.\n",
    "* [**`statsmodels.regression.linear_model.OLSResults.summary`**](https://www.statsmodels.org/stable/generated/statsmodels.regression.linear_model.OLSResults.summary.html): Presenta los resultados del modelo.\n",
    "* [**`statsmodels.regression.linear_model.OLS.predict`**](https://www.statsmodels.org/stable/generated/statsmodels.regression.linear_model.OLS.predict.html): Calcula las predicciones del modelo.\n",
    "\n",
    "A continuación vamos a recrear los resultados que habíamos obtenido con **`SciPy`** anteriormente:\n"
   ]
  },
  {
   "cell_type": "code",
   "execution_count": 57,
   "metadata": {
    "colab": {
     "base_uri": "https://localhost:8080/",
     "height": 444
    },
    "executionInfo": {
     "elapsed": 414,
     "status": "ok",
     "timestamp": 1615647611710,
     "user": {
      "displayName": "Daniel Felipe Fragua Rengifo",
      "photoUrl": "",
      "userId": "09845551813303536248"
     },
     "user_tz": 300
    },
    "id": "PyQyaIqPFOSt",
    "outputId": "a1d6b0d3-f434-4d68-e286-41c37e81fa42"
   },
   "outputs": [
    {
     "data": {
      "text/html": [
       "<table class=\"simpletable\">\n",
       "<caption>OLS Regression Results</caption>\n",
       "<tr>\n",
       "  <th>Dep. Variable:</th>          <td>sysBP</td>      <th>  R-squared:         </th> <td>   0.151</td> \n",
       "</tr>\n",
       "<tr>\n",
       "  <th>Model:</th>                   <td>OLS</td>       <th>  Adj. R-squared:    </th> <td>   0.151</td> \n",
       "</tr>\n",
       "<tr>\n",
       "  <th>Method:</th>             <td>Least Squares</td>  <th>  F-statistic:       </th> <td>   649.7</td> \n",
       "</tr>\n",
       "<tr>\n",
       "  <th>Date:</th>             <td>Tue, 03 Oct 2023</td> <th>  Prob (F-statistic):</th> <td>4.69e-132</td>\n",
       "</tr>\n",
       "<tr>\n",
       "  <th>Time:</th>                 <td>14:27:21</td>     <th>  Log-Likelihood:    </th> <td> -16204.</td> \n",
       "</tr>\n",
       "<tr>\n",
       "  <th>No. Observations:</th>      <td>  3656</td>      <th>  AIC:               </th> <td>3.241e+04</td>\n",
       "</tr>\n",
       "<tr>\n",
       "  <th>Df Residuals:</th>          <td>  3654</td>      <th>  BIC:               </th> <td>3.242e+04</td>\n",
       "</tr>\n",
       "<tr>\n",
       "  <th>Df Model:</th>              <td>     1</td>      <th>                     </th>     <td> </td>    \n",
       "</tr>\n",
       "<tr>\n",
       "  <th>Covariance Type:</th>      <td>nonrobust</td>    <th>                     </th>     <td> </td>    \n",
       "</tr>\n",
       "</table>\n",
       "<table class=\"simpletable\">\n",
       "<tr>\n",
       "      <td></td>         <th>coef</th>     <th>std err</th>      <th>t</th>      <th>P>|t|</th>  <th>[0.025</th>    <th>0.975]</th>  \n",
       "</tr>\n",
       "<tr>\n",
       "  <th>Intercept</th> <td>   82.6780</td> <td>    1.978</td> <td>   41.793</td> <td> 0.000</td> <td>   78.799</td> <td>   86.557</td>\n",
       "</tr>\n",
       "<tr>\n",
       "  <th>age</th>       <td>    1.0027</td> <td>    0.039</td> <td>   25.490</td> <td> 0.000</td> <td>    0.926</td> <td>    1.080</td>\n",
       "</tr>\n",
       "</table>\n",
       "<table class=\"simpletable\">\n",
       "<tr>\n",
       "  <th>Omnibus:</th>       <td>601.047</td> <th>  Durbin-Watson:     </th> <td>   1.993</td> \n",
       "</tr>\n",
       "<tr>\n",
       "  <th>Prob(Omnibus):</th> <td> 0.000</td>  <th>  Jarque-Bera (JB):  </th> <td>1296.811</td> \n",
       "</tr>\n",
       "<tr>\n",
       "  <th>Skew:</th>          <td> 0.962</td>  <th>  Prob(JB):          </th> <td>2.52e-282</td>\n",
       "</tr>\n",
       "<tr>\n",
       "  <th>Kurtosis:</th>      <td> 5.193</td>  <th>  Cond. No.          </th> <td>    296.</td> \n",
       "</tr>\n",
       "</table><br/><br/>Notes:<br/>[1] Standard Errors assume that the covariance matrix of the errors is correctly specified."
      ],
      "text/plain": [
       "<class 'statsmodels.iolib.summary.Summary'>\n",
       "\"\"\"\n",
       "                            OLS Regression Results                            \n",
       "==============================================================================\n",
       "Dep. Variable:                  sysBP   R-squared:                       0.151\n",
       "Model:                            OLS   Adj. R-squared:                  0.151\n",
       "Method:                 Least Squares   F-statistic:                     649.7\n",
       "Date:                Tue, 03 Oct 2023   Prob (F-statistic):          4.69e-132\n",
       "Time:                        14:27:21   Log-Likelihood:                -16204.\n",
       "No. Observations:                3656   AIC:                         3.241e+04\n",
       "Df Residuals:                    3654   BIC:                         3.242e+04\n",
       "Df Model:                           1                                         \n",
       "Covariance Type:            nonrobust                                         \n",
       "==============================================================================\n",
       "                 coef    std err          t      P>|t|      [0.025      0.975]\n",
       "------------------------------------------------------------------------------\n",
       "Intercept     82.6780      1.978     41.793      0.000      78.799      86.557\n",
       "age            1.0027      0.039     25.490      0.000       0.926       1.080\n",
       "==============================================================================\n",
       "Omnibus:                      601.047   Durbin-Watson:                   1.993\n",
       "Prob(Omnibus):                  0.000   Jarque-Bera (JB):             1296.811\n",
       "Skew:                           0.962   Prob(JB):                    2.52e-282\n",
       "Kurtosis:                       5.193   Cond. No.                         296.\n",
       "==============================================================================\n",
       "\n",
       "Notes:\n",
       "[1] Standard Errors assume that the covariance matrix of the errors is correctly specified.\n",
       "\"\"\""
      ]
     },
     "execution_count": 57,
     "metadata": {},
     "output_type": "execute_result"
    }
   ],
   "source": [
    "# La fórmula se pone de la forma: VARIABLE_DEPENDIENTE ~ VARIABLE_INDEPENDIENTE \n",
    "model = sm.OLS.from_formula(\"sysBP ~ age\", data=df_cardio)\n",
    "\n",
    "result = model.fit()\n",
    "result.summary()"
   ]
  },
  {
   "cell_type": "markdown",
   "metadata": {
    "id": "Q_bTJ54HSJiM"
   },
   "source": [
    "De todos estos resultados los más interesantes son:\n",
    "* **`R-squared`** (en la parte superior derecha): Coeficiente de determinación.\n",
    "* **`Intercept`:** Intercepto de la recta.\n",
    "* **`age`**: Pendiente de la recta.\n",
    "\n",
    "Además, observe que por cada uno de los coeficientes se calcula su error estándar, estadístico **`t`**, **p-valor** (dos colas) y el intervalo de confianza del parámetro."
   ]
  },
  {
   "cell_type": "markdown",
   "metadata": {
    "id": "-ClSkVl2TXo6"
   },
   "source": [
    "Podemos obtener el mismo resultado usando **`statsmodels.formula.api` (`smf`)**:"
   ]
  },
  {
   "cell_type": "code",
   "execution_count": 58,
   "metadata": {
    "colab": {
     "base_uri": "https://localhost:8080/",
     "height": 444
    },
    "executionInfo": {
     "elapsed": 408,
     "status": "ok",
     "timestamp": 1615647640760,
     "user": {
      "displayName": "Daniel Felipe Fragua Rengifo",
      "photoUrl": "",
      "userId": "09845551813303536248"
     },
     "user_tz": 300
    },
    "id": "Yuy2BJXUThiQ",
    "outputId": "7db16c9b-366e-4a20-cdb3-2c904dc17528"
   },
   "outputs": [
    {
     "data": {
      "text/html": [
       "<table class=\"simpletable\">\n",
       "<caption>OLS Regression Results</caption>\n",
       "<tr>\n",
       "  <th>Dep. Variable:</th>          <td>sysBP</td>      <th>  R-squared:         </th> <td>   0.151</td> \n",
       "</tr>\n",
       "<tr>\n",
       "  <th>Model:</th>                   <td>OLS</td>       <th>  Adj. R-squared:    </th> <td>   0.151</td> \n",
       "</tr>\n",
       "<tr>\n",
       "  <th>Method:</th>             <td>Least Squares</td>  <th>  F-statistic:       </th> <td>   649.7</td> \n",
       "</tr>\n",
       "<tr>\n",
       "  <th>Date:</th>             <td>Tue, 03 Oct 2023</td> <th>  Prob (F-statistic):</th> <td>4.69e-132</td>\n",
       "</tr>\n",
       "<tr>\n",
       "  <th>Time:</th>                 <td>14:27:21</td>     <th>  Log-Likelihood:    </th> <td> -16204.</td> \n",
       "</tr>\n",
       "<tr>\n",
       "  <th>No. Observations:</th>      <td>  3656</td>      <th>  AIC:               </th> <td>3.241e+04</td>\n",
       "</tr>\n",
       "<tr>\n",
       "  <th>Df Residuals:</th>          <td>  3654</td>      <th>  BIC:               </th> <td>3.242e+04</td>\n",
       "</tr>\n",
       "<tr>\n",
       "  <th>Df Model:</th>              <td>     1</td>      <th>                     </th>     <td> </td>    \n",
       "</tr>\n",
       "<tr>\n",
       "  <th>Covariance Type:</th>      <td>nonrobust</td>    <th>                     </th>     <td> </td>    \n",
       "</tr>\n",
       "</table>\n",
       "<table class=\"simpletable\">\n",
       "<tr>\n",
       "      <td></td>         <th>coef</th>     <th>std err</th>      <th>t</th>      <th>P>|t|</th>  <th>[0.025</th>    <th>0.975]</th>  \n",
       "</tr>\n",
       "<tr>\n",
       "  <th>Intercept</th> <td>   82.6780</td> <td>    1.978</td> <td>   41.793</td> <td> 0.000</td> <td>   78.799</td> <td>   86.557</td>\n",
       "</tr>\n",
       "<tr>\n",
       "  <th>age</th>       <td>    1.0027</td> <td>    0.039</td> <td>   25.490</td> <td> 0.000</td> <td>    0.926</td> <td>    1.080</td>\n",
       "</tr>\n",
       "</table>\n",
       "<table class=\"simpletable\">\n",
       "<tr>\n",
       "  <th>Omnibus:</th>       <td>601.047</td> <th>  Durbin-Watson:     </th> <td>   1.993</td> \n",
       "</tr>\n",
       "<tr>\n",
       "  <th>Prob(Omnibus):</th> <td> 0.000</td>  <th>  Jarque-Bera (JB):  </th> <td>1296.811</td> \n",
       "</tr>\n",
       "<tr>\n",
       "  <th>Skew:</th>          <td> 0.962</td>  <th>  Prob(JB):          </th> <td>2.52e-282</td>\n",
       "</tr>\n",
       "<tr>\n",
       "  <th>Kurtosis:</th>      <td> 5.193</td>  <th>  Cond. No.          </th> <td>    296.</td> \n",
       "</tr>\n",
       "</table><br/><br/>Notes:<br/>[1] Standard Errors assume that the covariance matrix of the errors is correctly specified."
      ],
      "text/plain": [
       "<class 'statsmodels.iolib.summary.Summary'>\n",
       "\"\"\"\n",
       "                            OLS Regression Results                            \n",
       "==============================================================================\n",
       "Dep. Variable:                  sysBP   R-squared:                       0.151\n",
       "Model:                            OLS   Adj. R-squared:                  0.151\n",
       "Method:                 Least Squares   F-statistic:                     649.7\n",
       "Date:                Tue, 03 Oct 2023   Prob (F-statistic):          4.69e-132\n",
       "Time:                        14:27:21   Log-Likelihood:                -16204.\n",
       "No. Observations:                3656   AIC:                         3.241e+04\n",
       "Df Residuals:                    3654   BIC:                         3.242e+04\n",
       "Df Model:                           1                                         \n",
       "Covariance Type:            nonrobust                                         \n",
       "==============================================================================\n",
       "                 coef    std err          t      P>|t|      [0.025      0.975]\n",
       "------------------------------------------------------------------------------\n",
       "Intercept     82.6780      1.978     41.793      0.000      78.799      86.557\n",
       "age            1.0027      0.039     25.490      0.000       0.926       1.080\n",
       "==============================================================================\n",
       "Omnibus:                      601.047   Durbin-Watson:                   1.993\n",
       "Prob(Omnibus):                  0.000   Jarque-Bera (JB):             1296.811\n",
       "Skew:                           0.962   Prob(JB):                    2.52e-282\n",
       "Kurtosis:                       5.193   Cond. No.                         296.\n",
       "==============================================================================\n",
       "\n",
       "Notes:\n",
       "[1] Standard Errors assume that the covariance matrix of the errors is correctly specified.\n",
       "\"\"\""
      ]
     },
     "execution_count": 58,
     "metadata": {},
     "output_type": "execute_result"
    }
   ],
   "source": [
    "# La fórmula se pone de la forma: VARIABLE_DEPENDIENTE ~ VARIABLE_INDEPENDIENTE \n",
    "model = smf.ols(\"sysBP ~ age\", data=df_cardio).fit() # Aquí creamos el modelo y calculamos sus parámetros directamente con fit()\n",
    "model.summary()"
   ]
  },
  {
   "cell_type": "markdown",
   "metadata": {
    "id": "6Kuc3hsU-rje"
   },
   "source": [
    "## **2.3. Regresión multilineal**\n",
    "---\n",
    "\n",
    "Hasta ahora hemos modelado la relación de una única variable independiente con una variable dependiente. Sin embargo, normalmente en las relaciones entre variables se involucran otros aspectos que hacen que dichas relaciones no sean tan directas. La **regresión lineal múltiple** es un modelo estadístico que examina la relación lineal entre más de dos variables, donde una es la variable dependiente o de respuesta, y las otras son variables independientes de predicción continuas o categóricas. La función del modelo de regresión lineal múltiple es muy similar a la función del modelo de regresión lineal de dos variables, con un coeficiente y una variable en la fórmula por cada variable predictora adicional. Así, el modelo general podría ser formulado de la siguiente manera:\n",
    "\n",
    "$y = {\\beta}_{0} +{\\beta}_{1} x_1  + {\\beta}_{2} x_2 + ... + {\\beta}_{i} x_i + ... + u$\n",
    "\n",
    "Por ejemplo, la presión arterial sistólica además de la edad, puede estar relacionada con otras variables tales como: el sexo, si es fumador o no, su índice de masa corporal (BMI), etc.\n",
    "\n",
    "Veamos las correlacciones de las demás variables con respecto a la variable **`sysBP`** (presión sistólica):"
   ]
  },
  {
   "cell_type": "code",
   "execution_count": 59,
   "metadata": {
    "colab": {
     "base_uri": "https://localhost:8080/"
    },
    "executionInfo": {
     "elapsed": 412,
     "status": "ok",
     "timestamp": 1615647695266,
     "user": {
      "displayName": "Daniel Felipe Fragua Rengifo",
      "photoUrl": "",
      "userId": "09845551813303536248"
     },
     "user_tz": 300
    },
    "id": "wkL587uYb2_N",
    "outputId": "619abe33-10fd-4d66-f471-5ee54966ae24"
   },
   "outputs": [
    {
     "data": {
      "text/plain": [
       "sysBP               1.000000\n",
       "diaBP               0.786727\n",
       "prevalentHyp        0.697790\n",
       "modeloPresionSis    0.388551\n",
       "age                 0.388551\n",
       "BMI                 0.331004\n",
       "BPMeds              0.271291\n",
       "TenYearCHD          0.222885\n",
       "totChol             0.220130\n",
       "heartRate           0.184901\n",
       "glucose             0.134702\n",
       "diabetes            0.102574\n",
       "prevalentStroke     0.061080\n",
       "male               -0.045484\n",
       "cigsPerDay         -0.094764\n",
       "education          -0.124511\n",
       "currentSmoker      -0.134371\n",
       "Name: sysBP, dtype: float64"
      ]
     },
     "execution_count": 59,
     "metadata": {},
     "output_type": "execute_result"
    }
   ],
   "source": [
    "# Obtenemos la matriz de correlacion, seleccionamos la variable de interés 'sysBP',\n",
    "# Después, ordenamos los valores, y los presentamos en orden ascendente\n",
    "\n",
    "df_cardio.corr()['sysBP'].sort_values()[::-1] "
   ]
  },
  {
   "cell_type": "markdown",
   "metadata": {
    "id": "HTLT_wIScl-3"
   },
   "source": [
    "Podemos ver que hay variables como **`diaBP`** (presión arterial diastólica), **`prevalentHyp`** (si el paciente era o no hipertenso), **`BMI`** (índice de masa corporal) que tienen una correlación no despreciable con nuestra variable de interés (**`sysBP`**). \n",
    "\n",
    "A continuación crearemos varios modelos, donde la variable dependiente es **`sysBP`** pero en este caso tendremos más de una variable independiente.\n",
    "\n",
    "En primer lugar, veamos los resultados si las variables dependientes fueran **`age`** y **`prevalentHP`**: "
   ]
  },
  {
   "cell_type": "code",
   "execution_count": 60,
   "metadata": {
    "colab": {
     "base_uri": "https://localhost:8080/",
     "height": 465
    },
    "executionInfo": {
     "elapsed": 435,
     "status": "ok",
     "timestamp": 1615647738665,
     "user": {
      "displayName": "Daniel Felipe Fragua Rengifo",
      "photoUrl": "",
      "userId": "09845551813303536248"
     },
     "user_tz": 300
    },
    "id": "slHY6IyQy3Rw",
    "outputId": "e70cde0a-a61b-4347-ebc6-c894eb311d5d"
   },
   "outputs": [
    {
     "data": {
      "text/html": [
       "<table class=\"simpletable\">\n",
       "<caption>OLS Regression Results</caption>\n",
       "<tr>\n",
       "  <th>Dep. Variable:</th>          <td>sysBP</td>      <th>  R-squared:         </th> <td>   0.521</td> \n",
       "</tr>\n",
       "<tr>\n",
       "  <th>Model:</th>                   <td>OLS</td>       <th>  Adj. R-squared:    </th> <td>   0.520</td> \n",
       "</tr>\n",
       "<tr>\n",
       "  <th>Method:</th>             <td>Least Squares</td>  <th>  F-statistic:       </th> <td>   1983.</td> \n",
       "</tr>\n",
       "<tr>\n",
       "  <th>Date:</th>             <td>Tue, 03 Oct 2023</td> <th>  Prob (F-statistic):</th>  <td>  0.00</td>  \n",
       "</tr>\n",
       "<tr>\n",
       "  <th>Time:</th>                 <td>14:27:21</td>     <th>  Log-Likelihood:    </th> <td> -15160.</td> \n",
       "</tr>\n",
       "<tr>\n",
       "  <th>No. Observations:</th>      <td>  3656</td>      <th>  AIC:               </th> <td>3.033e+04</td>\n",
       "</tr>\n",
       "<tr>\n",
       "  <th>Df Residuals:</th>          <td>  3653</td>      <th>  BIC:               </th> <td>3.034e+04</td>\n",
       "</tr>\n",
       "<tr>\n",
       "  <th>Df Model:</th>              <td>     2</td>      <th>                     </th>     <td> </td>    \n",
       "</tr>\n",
       "<tr>\n",
       "  <th>Covariance Type:</th>      <td>nonrobust</td>    <th>                     </th>     <td> </td>    \n",
       "</tr>\n",
       "</table>\n",
       "<table class=\"simpletable\">\n",
       "<tr>\n",
       "        <td></td>          <th>coef</th>     <th>std err</th>      <th>t</th>      <th>P>|t|</th>  <th>[0.025</th>    <th>0.975]</th>  \n",
       "</tr>\n",
       "<tr>\n",
       "  <th>Intercept</th>    <td>   98.2381</td> <td>    1.515</td> <td>   64.824</td> <td> 0.000</td> <td>   95.267</td> <td>  101.209</td>\n",
       "</tr>\n",
       "<tr>\n",
       "  <th>age</th>          <td>    0.4972</td> <td>    0.031</td> <td>   16.007</td> <td> 0.000</td> <td>    0.436</td> <td>    0.558</td>\n",
       "</tr>\n",
       "<tr>\n",
       "  <th>prevalentHyp</th> <td>   30.4638</td> <td>    0.574</td> <td>   53.063</td> <td> 0.000</td> <td>   29.338</td> <td>   31.589</td>\n",
       "</tr>\n",
       "</table>\n",
       "<table class=\"simpletable\">\n",
       "<tr>\n",
       "  <th>Omnibus:</th>       <td>701.855</td> <th>  Durbin-Watson:     </th> <td>   2.032</td>\n",
       "</tr>\n",
       "<tr>\n",
       "  <th>Prob(Omnibus):</th> <td> 0.000</td>  <th>  Jarque-Bera (JB):  </th> <td>2535.822</td>\n",
       "</tr>\n",
       "<tr>\n",
       "  <th>Skew:</th>          <td> 0.929</td>  <th>  Prob(JB):          </th> <td>    0.00</td>\n",
       "</tr>\n",
       "<tr>\n",
       "  <th>Kurtosis:</th>      <td> 6.632</td>  <th>  Cond. No.          </th> <td>    302.</td>\n",
       "</tr>\n",
       "</table><br/><br/>Notes:<br/>[1] Standard Errors assume that the covariance matrix of the errors is correctly specified."
      ],
      "text/plain": [
       "<class 'statsmodels.iolib.summary.Summary'>\n",
       "\"\"\"\n",
       "                            OLS Regression Results                            \n",
       "==============================================================================\n",
       "Dep. Variable:                  sysBP   R-squared:                       0.521\n",
       "Model:                            OLS   Adj. R-squared:                  0.520\n",
       "Method:                 Least Squares   F-statistic:                     1983.\n",
       "Date:                Tue, 03 Oct 2023   Prob (F-statistic):               0.00\n",
       "Time:                        14:27:21   Log-Likelihood:                -15160.\n",
       "No. Observations:                3656   AIC:                         3.033e+04\n",
       "Df Residuals:                    3653   BIC:                         3.034e+04\n",
       "Df Model:                           2                                         \n",
       "Covariance Type:            nonrobust                                         \n",
       "================================================================================\n",
       "                   coef    std err          t      P>|t|      [0.025      0.975]\n",
       "--------------------------------------------------------------------------------\n",
       "Intercept       98.2381      1.515     64.824      0.000      95.267     101.209\n",
       "age              0.4972      0.031     16.007      0.000       0.436       0.558\n",
       "prevalentHyp    30.4638      0.574     53.063      0.000      29.338      31.589\n",
       "==============================================================================\n",
       "Omnibus:                      701.855   Durbin-Watson:                   2.032\n",
       "Prob(Omnibus):                  0.000   Jarque-Bera (JB):             2535.822\n",
       "Skew:                           0.929   Prob(JB):                         0.00\n",
       "Kurtosis:                       6.632   Cond. No.                         302.\n",
       "==============================================================================\n",
       "\n",
       "Notes:\n",
       "[1] Standard Errors assume that the covariance matrix of the errors is correctly specified.\n",
       "\"\"\""
      ]
     },
     "execution_count": 60,
     "metadata": {},
     "output_type": "execute_result"
    }
   ],
   "source": [
    "# La fórmula se pone de la forma: VARIABLE_DEPENDIENTE ~ VARIABLE_INDEPENDIENTE1 + VARIABLE_INDEPENDIENTE2 \n",
    "model = sm.OLS.from_formula(\"sysBP ~ age + prevalentHyp\", data=df_cardio)\n",
    "\n",
    "result = model.fit()\n",
    "result.summary()"
   ]
  },
  {
   "cell_type": "markdown",
   "metadata": {
    "id": "ARuqb6IcecL-"
   },
   "source": [
    "Observe que el $R^2$ se incrementó hasta $0.521$. Esto quiere decir que incluyendo el valor nominal que indica si el paciente era o no hipertenso el modelo mejoró notablemente. \n",
    "\n",
    "> **Nota:** La sintaxis de la fórmula **`sysBP ~ age + prevalentHyp`** en la celda anterior significa que estas dos variables se usarán para construir el modelo con sus dos respectivos coeficientes más un coeficiente de intercepto. Además, también nos dice que estas variables están incluidas en el modelo como predictores de la presión arterial sistólica.\n",
    "\n",
    "Además, es muy importante considerar que el coeficiente de edad de $0,49$ sólo tiene sentido cuando se comparan dos personas que tengan el mismo **`prevalentHyp`**, y el coeficiente de **`prevalentHyp`** de $30.46$ sólo tiene sentido cuando se comparan dos personas de la misma edad.\n",
    "\n",
    "Tenga en cuenta que en este caso, pese a ser nominal, dicha variable estaba previamente codificada con **`0`** y **`1`**. No obstante, si hubiese sido un valor categórico también hubiese sido posible crear el modelo. Por ejemplo, hagamos un ejemplo con la variable **`male`**, transformándola previamente de su codificación a valores categóricos: \n",
    "\n"
   ]
  },
  {
   "cell_type": "code",
   "execution_count": 61,
   "metadata": {
    "colab": {
     "base_uri": "https://localhost:8080/",
     "height": 224
    },
    "executionInfo": {
     "elapsed": 375,
     "status": "ok",
     "timestamp": 1615647787426,
     "user": {
      "displayName": "Daniel Felipe Fragua Rengifo",
      "photoUrl": "",
      "userId": "09845551813303536248"
     },
     "user_tz": 300
    },
    "id": "CWQy0pk6fYkO",
    "outputId": "b0aae693-8c16-424c-9d19-f57ed15de5bd"
   },
   "outputs": [
    {
     "data": {
      "text/html": [
       "<div>\n",
       "<style scoped>\n",
       "    .dataframe tbody tr th:only-of-type {\n",
       "        vertical-align: middle;\n",
       "    }\n",
       "\n",
       "    .dataframe tbody tr th {\n",
       "        vertical-align: top;\n",
       "    }\n",
       "\n",
       "    .dataframe thead th {\n",
       "        text-align: right;\n",
       "    }\n",
       "</style>\n",
       "<table border=\"1\" class=\"dataframe\">\n",
       "  <thead>\n",
       "    <tr style=\"text-align: right;\">\n",
       "      <th></th>\n",
       "      <th>male</th>\n",
       "      <th>age</th>\n",
       "      <th>education</th>\n",
       "      <th>currentSmoker</th>\n",
       "      <th>cigsPerDay</th>\n",
       "      <th>BPMeds</th>\n",
       "      <th>prevalentStroke</th>\n",
       "      <th>prevalentHyp</th>\n",
       "      <th>diabetes</th>\n",
       "      <th>totChol</th>\n",
       "      <th>sysBP</th>\n",
       "      <th>diaBP</th>\n",
       "      <th>BMI</th>\n",
       "      <th>heartRate</th>\n",
       "      <th>glucose</th>\n",
       "      <th>TenYearCHD</th>\n",
       "      <th>modeloPresionSis</th>\n",
       "    </tr>\n",
       "  </thead>\n",
       "  <tbody>\n",
       "    <tr>\n",
       "      <th>0</th>\n",
       "      <td>Hombre</td>\n",
       "      <td>39</td>\n",
       "      <td>4.0</td>\n",
       "      <td>0</td>\n",
       "      <td>0.0</td>\n",
       "      <td>0.0</td>\n",
       "      <td>0</td>\n",
       "      <td>0</td>\n",
       "      <td>0</td>\n",
       "      <td>195.0</td>\n",
       "      <td>106.0</td>\n",
       "      <td>70.0</td>\n",
       "      <td>26.97</td>\n",
       "      <td>80.0</td>\n",
       "      <td>77.0</td>\n",
       "      <td>0</td>\n",
       "      <td>121.782347</td>\n",
       "    </tr>\n",
       "    <tr>\n",
       "      <th>1</th>\n",
       "      <td>Mujer</td>\n",
       "      <td>46</td>\n",
       "      <td>2.0</td>\n",
       "      <td>0</td>\n",
       "      <td>0.0</td>\n",
       "      <td>0.0</td>\n",
       "      <td>0</td>\n",
       "      <td>0</td>\n",
       "      <td>0</td>\n",
       "      <td>250.0</td>\n",
       "      <td>121.0</td>\n",
       "      <td>81.0</td>\n",
       "      <td>28.73</td>\n",
       "      <td>95.0</td>\n",
       "      <td>76.0</td>\n",
       "      <td>0</td>\n",
       "      <td>128.801070</td>\n",
       "    </tr>\n",
       "    <tr>\n",
       "      <th>2</th>\n",
       "      <td>Hombre</td>\n",
       "      <td>48</td>\n",
       "      <td>1.0</td>\n",
       "      <td>1</td>\n",
       "      <td>20.0</td>\n",
       "      <td>0.0</td>\n",
       "      <td>0</td>\n",
       "      <td>0</td>\n",
       "      <td>0</td>\n",
       "      <td>245.0</td>\n",
       "      <td>127.5</td>\n",
       "      <td>80.0</td>\n",
       "      <td>25.34</td>\n",
       "      <td>75.0</td>\n",
       "      <td>70.0</td>\n",
       "      <td>0</td>\n",
       "      <td>130.806420</td>\n",
       "    </tr>\n",
       "    <tr>\n",
       "      <th>3</th>\n",
       "      <td>Mujer</td>\n",
       "      <td>61</td>\n",
       "      <td>3.0</td>\n",
       "      <td>1</td>\n",
       "      <td>30.0</td>\n",
       "      <td>0.0</td>\n",
       "      <td>0</td>\n",
       "      <td>1</td>\n",
       "      <td>0</td>\n",
       "      <td>225.0</td>\n",
       "      <td>150.0</td>\n",
       "      <td>95.0</td>\n",
       "      <td>28.58</td>\n",
       "      <td>65.0</td>\n",
       "      <td>103.0</td>\n",
       "      <td>1</td>\n",
       "      <td>143.841191</td>\n",
       "    </tr>\n",
       "    <tr>\n",
       "      <th>4</th>\n",
       "      <td>Mujer</td>\n",
       "      <td>46</td>\n",
       "      <td>3.0</td>\n",
       "      <td>1</td>\n",
       "      <td>23.0</td>\n",
       "      <td>0.0</td>\n",
       "      <td>0</td>\n",
       "      <td>0</td>\n",
       "      <td>0</td>\n",
       "      <td>285.0</td>\n",
       "      <td>130.0</td>\n",
       "      <td>84.0</td>\n",
       "      <td>23.10</td>\n",
       "      <td>85.0</td>\n",
       "      <td>85.0</td>\n",
       "      <td>0</td>\n",
       "      <td>128.801070</td>\n",
       "    </tr>\n",
       "  </tbody>\n",
       "</table>\n",
       "</div>"
      ],
      "text/plain": [
       "     male  age  education  currentSmoker  cigsPerDay  BPMeds  prevalentStroke  \\\n",
       "0  Hombre   39        4.0              0         0.0     0.0                0   \n",
       "1   Mujer   46        2.0              0         0.0     0.0                0   \n",
       "2  Hombre   48        1.0              1        20.0     0.0                0   \n",
       "3   Mujer   61        3.0              1        30.0     0.0                0   \n",
       "4   Mujer   46        3.0              1        23.0     0.0                0   \n",
       "\n",
       "   prevalentHyp  diabetes  totChol  sysBP  diaBP    BMI  heartRate  glucose  \\\n",
       "0             0         0    195.0  106.0   70.0  26.97       80.0     77.0   \n",
       "1             0         0    250.0  121.0   81.0  28.73       95.0     76.0   \n",
       "2             0         0    245.0  127.5   80.0  25.34       75.0     70.0   \n",
       "3             1         0    225.0  150.0   95.0  28.58       65.0    103.0   \n",
       "4             0         0    285.0  130.0   84.0  23.10       85.0     85.0   \n",
       "\n",
       "   TenYearCHD  modeloPresionSis  \n",
       "0           0        121.782347  \n",
       "1           0        128.801070  \n",
       "2           0        130.806420  \n",
       "3           1        143.841191  \n",
       "4           0        128.801070  "
      ]
     },
     "execution_count": 61,
     "metadata": {},
     "output_type": "execute_result"
    }
   ],
   "source": [
    "df_cardio.loc[df_cardio['male'] == 1, 'male'] = 'Hombre' \n",
    "df_cardio.loc[df_cardio['male'] == 0, 'male'] = 'Mujer'\n",
    "df_cardio.head()"
   ]
  },
  {
   "cell_type": "code",
   "execution_count": 62,
   "metadata": {
    "colab": {
     "base_uri": "https://localhost:8080/",
     "height": 486
    },
    "executionInfo": {
     "elapsed": 493,
     "status": "ok",
     "timestamp": 1615647804790,
     "user": {
      "displayName": "Daniel Felipe Fragua Rengifo",
      "photoUrl": "",
      "userId": "09845551813303536248"
     },
     "user_tz": 300
    },
    "id": "7x6EC8rHyws_",
    "outputId": "a743cc4e-519e-4a64-d013-09166f53782d"
   },
   "outputs": [
    {
     "data": {
      "text/html": [
       "<table class=\"simpletable\">\n",
       "<caption>OLS Regression Results</caption>\n",
       "<tr>\n",
       "  <th>Dep. Variable:</th>          <td>sysBP</td>      <th>  R-squared:         </th> <td>   0.522</td> \n",
       "</tr>\n",
       "<tr>\n",
       "  <th>Model:</th>                   <td>OLS</td>       <th>  Adj. R-squared:    </th> <td>   0.522</td> \n",
       "</tr>\n",
       "<tr>\n",
       "  <th>Method:</th>             <td>Least Squares</td>  <th>  F-statistic:       </th> <td>   1331.</td> \n",
       "</tr>\n",
       "<tr>\n",
       "  <th>Date:</th>             <td>Tue, 03 Oct 2023</td> <th>  Prob (F-statistic):</th>  <td>  0.00</td>  \n",
       "</tr>\n",
       "<tr>\n",
       "  <th>Time:</th>                 <td>14:27:22</td>     <th>  Log-Likelihood:    </th> <td> -15153.</td> \n",
       "</tr>\n",
       "<tr>\n",
       "  <th>No. Observations:</th>      <td>  3656</td>      <th>  AIC:               </th> <td>3.031e+04</td>\n",
       "</tr>\n",
       "<tr>\n",
       "  <th>Df Residuals:</th>          <td>  3652</td>      <th>  BIC:               </th> <td>3.034e+04</td>\n",
       "</tr>\n",
       "<tr>\n",
       "  <th>Df Model:</th>              <td>     3</td>      <th>                     </th>     <td> </td>    \n",
       "</tr>\n",
       "<tr>\n",
       "  <th>Covariance Type:</th>      <td>nonrobust</td>    <th>                     </th>     <td> </td>    \n",
       "</tr>\n",
       "</table>\n",
       "<table class=\"simpletable\">\n",
       "<tr>\n",
       "        <td></td>           <th>coef</th>     <th>std err</th>      <th>t</th>      <th>P>|t|</th>  <th>[0.025</th>    <th>0.975]</th>  \n",
       "</tr>\n",
       "<tr>\n",
       "  <th>Intercept</th>     <td>   97.3539</td> <td>    1.533</td> <td>   63.521</td> <td> 0.000</td> <td>   94.349</td> <td>  100.359</td>\n",
       "</tr>\n",
       "<tr>\n",
       "  <th>male[T.Mujer]</th> <td>    1.8375</td> <td>    0.509</td> <td>    3.612</td> <td> 0.000</td> <td>    0.840</td> <td>    2.835</td>\n",
       "</tr>\n",
       "<tr>\n",
       "  <th>age</th>           <td>    0.4943</td> <td>    0.031</td> <td>   15.934</td> <td> 0.000</td> <td>    0.433</td> <td>    0.555</td>\n",
       "</tr>\n",
       "<tr>\n",
       "  <th>prevalentHyp</th>  <td>   30.4819</td> <td>    0.573</td> <td>   53.180</td> <td> 0.000</td> <td>   29.358</td> <td>   31.606</td>\n",
       "</tr>\n",
       "</table>\n",
       "<table class=\"simpletable\">\n",
       "<tr>\n",
       "  <th>Omnibus:</th>       <td>686.740</td> <th>  Durbin-Watson:     </th> <td>   2.028</td>\n",
       "</tr>\n",
       "<tr>\n",
       "  <th>Prob(Omnibus):</th> <td> 0.000</td>  <th>  Jarque-Bera (JB):  </th> <td>2413.873</td>\n",
       "</tr>\n",
       "<tr>\n",
       "  <th>Skew:</th>          <td> 0.917</td>  <th>  Prob(JB):          </th> <td>    0.00</td>\n",
       "</tr>\n",
       "<tr>\n",
       "  <th>Kurtosis:</th>      <td> 6.533</td>  <th>  Cond. No.          </th> <td>    307.</td>\n",
       "</tr>\n",
       "</table><br/><br/>Notes:<br/>[1] Standard Errors assume that the covariance matrix of the errors is correctly specified."
      ],
      "text/plain": [
       "<class 'statsmodels.iolib.summary.Summary'>\n",
       "\"\"\"\n",
       "                            OLS Regression Results                            \n",
       "==============================================================================\n",
       "Dep. Variable:                  sysBP   R-squared:                       0.522\n",
       "Model:                            OLS   Adj. R-squared:                  0.522\n",
       "Method:                 Least Squares   F-statistic:                     1331.\n",
       "Date:                Tue, 03 Oct 2023   Prob (F-statistic):               0.00\n",
       "Time:                        14:27:22   Log-Likelihood:                -15153.\n",
       "No. Observations:                3656   AIC:                         3.031e+04\n",
       "Df Residuals:                    3652   BIC:                         3.034e+04\n",
       "Df Model:                           3                                         \n",
       "Covariance Type:            nonrobust                                         \n",
       "=================================================================================\n",
       "                    coef    std err          t      P>|t|      [0.025      0.975]\n",
       "---------------------------------------------------------------------------------\n",
       "Intercept        97.3539      1.533     63.521      0.000      94.349     100.359\n",
       "male[T.Mujer]     1.8375      0.509      3.612      0.000       0.840       2.835\n",
       "age               0.4943      0.031     15.934      0.000       0.433       0.555\n",
       "prevalentHyp     30.4819      0.573     53.180      0.000      29.358      31.606\n",
       "==============================================================================\n",
       "Omnibus:                      686.740   Durbin-Watson:                   2.028\n",
       "Prob(Omnibus):                  0.000   Jarque-Bera (JB):             2413.873\n",
       "Skew:                           0.917   Prob(JB):                         0.00\n",
       "Kurtosis:                       6.533   Cond. No.                         307.\n",
       "==============================================================================\n",
       "\n",
       "Notes:\n",
       "[1] Standard Errors assume that the covariance matrix of the errors is correctly specified.\n",
       "\"\"\""
      ]
     },
     "execution_count": 62,
     "metadata": {},
     "output_type": "execute_result"
    }
   ],
   "source": [
    "model = sm.OLS.from_formula(\"sysBP ~ age + prevalentHyp + male\", data=df_cardio)\n",
    "result = model.fit()\n",
    "result.summary()"
   ]
  },
  {
   "cell_type": "markdown",
   "metadata": {
    "id": "LyWRhafhi6FV"
   },
   "source": [
    "De esta forma, el modelo calcula coeficientes adicionales para dicha variable categórica, diferenciando cada uno de sus 2 posibles valores. \n",
    "\n",
    "Finalmente, creemos un modelo con un mayor número de variables independientes:"
   ]
  },
  {
   "cell_type": "code",
   "execution_count": 63,
   "metadata": {
    "colab": {
     "base_uri": "https://localhost:8080/",
     "height": 562
    },
    "executionInfo": {
     "elapsed": 428,
     "status": "ok",
     "timestamp": 1615647832612,
     "user": {
      "displayName": "Daniel Felipe Fragua Rengifo",
      "photoUrl": "",
      "userId": "09845551813303536248"
     },
     "user_tz": 300
    },
    "id": "R73rbyZzFXmu",
    "outputId": "876b2644-47a6-4e94-9a35-f222af643d97"
   },
   "outputs": [
    {
     "data": {
      "text/html": [
       "<table class=\"simpletable\">\n",
       "<caption>OLS Regression Results</caption>\n",
       "<tr>\n",
       "  <th>Dep. Variable:</th>          <td>sysBP</td>      <th>  R-squared:         </th> <td>   0.726</td> \n",
       "</tr>\n",
       "<tr>\n",
       "  <th>Model:</th>                   <td>OLS</td>       <th>  Adj. R-squared:    </th> <td>   0.726</td> \n",
       "</tr>\n",
       "<tr>\n",
       "  <th>Method:</th>             <td>Least Squares</td>  <th>  F-statistic:       </th> <td>   1934.</td> \n",
       "</tr>\n",
       "<tr>\n",
       "  <th>Date:</th>             <td>Tue, 03 Oct 2023</td> <th>  Prob (F-statistic):</th>  <td>  0.00</td>  \n",
       "</tr>\n",
       "<tr>\n",
       "  <th>Time:</th>                 <td>14:27:22</td>     <th>  Log-Likelihood:    </th> <td> -14137.</td> \n",
       "</tr>\n",
       "<tr>\n",
       "  <th>No. Observations:</th>      <td>  3656</td>      <th>  AIC:               </th> <td>2.829e+04</td>\n",
       "</tr>\n",
       "<tr>\n",
       "  <th>Df Residuals:</th>          <td>  3650</td>      <th>  BIC:               </th> <td>2.832e+04</td>\n",
       "</tr>\n",
       "<tr>\n",
       "  <th>Df Model:</th>              <td>     5</td>      <th>                     </th>     <td> </td>    \n",
       "</tr>\n",
       "<tr>\n",
       "  <th>Covariance Type:</th>      <td>nonrobust</td>    <th>                     </th>     <td> </td>    \n",
       "</tr>\n",
       "</table>\n",
       "<table class=\"simpletable\">\n",
       "<tr>\n",
       "        <td></td>           <th>coef</th>     <th>std err</th>      <th>t</th>      <th>P>|t|</th>  <th>[0.025</th>    <th>0.975]</th>  \n",
       "</tr>\n",
       "<tr>\n",
       "  <th>Intercept</th>     <td>   15.2316</td> <td>    2.117</td> <td>    7.194</td> <td> 0.000</td> <td>   11.081</td> <td>   19.383</td>\n",
       "</tr>\n",
       "<tr>\n",
       "  <th>male[T.Mujer]</th> <td>    3.1668</td> <td>    0.387</td> <td>    8.185</td> <td> 0.000</td> <td>    2.408</td> <td>    3.925</td>\n",
       "</tr>\n",
       "<tr>\n",
       "  <th>age</th>           <td>    0.4600</td> <td>    0.024</td> <td>   19.547</td> <td> 0.000</td> <td>    0.414</td> <td>    0.506</td>\n",
       "</tr>\n",
       "<tr>\n",
       "  <th>prevalentHyp</th>  <td>   13.7102</td> <td>    0.542</td> <td>   25.295</td> <td> 0.000</td> <td>   12.648</td> <td>   14.773</td>\n",
       "</tr>\n",
       "<tr>\n",
       "  <th>diaBP</th>         <td>    1.0597</td> <td>    0.021</td> <td>   50.220</td> <td> 0.000</td> <td>    1.018</td> <td>    1.101</td>\n",
       "</tr>\n",
       "<tr>\n",
       "  <th>BMI</th>           <td>    0.0172</td> <td>    0.051</td> <td>    0.336</td> <td> 0.737</td> <td>   -0.083</td> <td>    0.118</td>\n",
       "</tr>\n",
       "</table>\n",
       "<table class=\"simpletable\">\n",
       "<tr>\n",
       "  <th>Omnibus:</th>       <td>636.524</td> <th>  Durbin-Watson:     </th> <td>   2.002</td>\n",
       "</tr>\n",
       "<tr>\n",
       "  <th>Prob(Omnibus):</th> <td> 0.000</td>  <th>  Jarque-Bera (JB):  </th> <td>2022.243</td>\n",
       "</tr>\n",
       "<tr>\n",
       "  <th>Skew:</th>          <td> 0.882</td>  <th>  Prob(JB):          </th> <td>    0.00</td>\n",
       "</tr>\n",
       "<tr>\n",
       "  <th>Kurtosis:</th>      <td> 6.188</td>  <th>  Cond. No.          </th> <td>1.13e+03</td>\n",
       "</tr>\n",
       "</table><br/><br/>Notes:<br/>[1] Standard Errors assume that the covariance matrix of the errors is correctly specified.<br/>[2] The condition number is large, 1.13e+03. This might indicate that there are<br/>strong multicollinearity or other numerical problems."
      ],
      "text/plain": [
       "<class 'statsmodels.iolib.summary.Summary'>\n",
       "\"\"\"\n",
       "                            OLS Regression Results                            \n",
       "==============================================================================\n",
       "Dep. Variable:                  sysBP   R-squared:                       0.726\n",
       "Model:                            OLS   Adj. R-squared:                  0.726\n",
       "Method:                 Least Squares   F-statistic:                     1934.\n",
       "Date:                Tue, 03 Oct 2023   Prob (F-statistic):               0.00\n",
       "Time:                        14:27:22   Log-Likelihood:                -14137.\n",
       "No. Observations:                3656   AIC:                         2.829e+04\n",
       "Df Residuals:                    3650   BIC:                         2.832e+04\n",
       "Df Model:                           5                                         \n",
       "Covariance Type:            nonrobust                                         \n",
       "=================================================================================\n",
       "                    coef    std err          t      P>|t|      [0.025      0.975]\n",
       "---------------------------------------------------------------------------------\n",
       "Intercept        15.2316      2.117      7.194      0.000      11.081      19.383\n",
       "male[T.Mujer]     3.1668      0.387      8.185      0.000       2.408       3.925\n",
       "age               0.4600      0.024     19.547      0.000       0.414       0.506\n",
       "prevalentHyp     13.7102      0.542     25.295      0.000      12.648      14.773\n",
       "diaBP             1.0597      0.021     50.220      0.000       1.018       1.101\n",
       "BMI               0.0172      0.051      0.336      0.737      -0.083       0.118\n",
       "==============================================================================\n",
       "Omnibus:                      636.524   Durbin-Watson:                   2.002\n",
       "Prob(Omnibus):                  0.000   Jarque-Bera (JB):             2022.243\n",
       "Skew:                           0.882   Prob(JB):                         0.00\n",
       "Kurtosis:                       6.188   Cond. No.                     1.13e+03\n",
       "==============================================================================\n",
       "\n",
       "Notes:\n",
       "[1] Standard Errors assume that the covariance matrix of the errors is correctly specified.\n",
       "[2] The condition number is large, 1.13e+03. This might indicate that there are\n",
       "strong multicollinearity or other numerical problems.\n",
       "\"\"\""
      ]
     },
     "execution_count": 63,
     "metadata": {},
     "output_type": "execute_result"
    }
   ],
   "source": [
    "model = sm.OLS.from_formula(\"sysBP ~ age + prevalentHyp + male + diaBP + BMI\", \n",
    "                            data=df_cardio)\n",
    "result = model.fit()\n",
    "result.summary()"
   ]
  },
  {
   "cell_type": "markdown",
   "metadata": {
    "id": "5N68nVDokJEO"
   },
   "source": [
    "Observe que se incrementó el $R^2$ aún más. También, la mayoría de las variables independientes aportan al resultado. Sin embargo, al examinar el coeficiente y el p-valor de la variable **`BMI`** podemos observar que no es significativo. Por lo tanto, crearemos un modelo final sin considerar dicha variable:"
   ]
  },
  {
   "cell_type": "code",
   "execution_count": 64,
   "metadata": {
    "colab": {
     "base_uri": "https://localhost:8080/",
     "height": 541
    },
    "executionInfo": {
     "elapsed": 419,
     "status": "ok",
     "timestamp": 1615647883065,
     "user": {
      "displayName": "Daniel Felipe Fragua Rengifo",
      "photoUrl": "",
      "userId": "09845551813303536248"
     },
     "user_tz": 300
    },
    "id": "Agz8bGJ9k0rX",
    "outputId": "f12757de-88c8-4c80-dc83-1b6d88fe39f1"
   },
   "outputs": [
    {
     "data": {
      "text/html": [
       "<table class=\"simpletable\">\n",
       "<caption>OLS Regression Results</caption>\n",
       "<tr>\n",
       "  <th>Dep. Variable:</th>          <td>sysBP</td>      <th>  R-squared:         </th> <td>   0.726</td> \n",
       "</tr>\n",
       "<tr>\n",
       "  <th>Model:</th>                   <td>OLS</td>       <th>  Adj. R-squared:    </th> <td>   0.726</td> \n",
       "</tr>\n",
       "<tr>\n",
       "  <th>Method:</th>             <td>Least Squares</td>  <th>  F-statistic:       </th> <td>   2419.</td> \n",
       "</tr>\n",
       "<tr>\n",
       "  <th>Date:</th>             <td>Tue, 03 Oct 2023</td> <th>  Prob (F-statistic):</th>  <td>  0.00</td>  \n",
       "</tr>\n",
       "<tr>\n",
       "  <th>Time:</th>                 <td>14:27:22</td>     <th>  Log-Likelihood:    </th> <td> -14137.</td> \n",
       "</tr>\n",
       "<tr>\n",
       "  <th>No. Observations:</th>      <td>  3656</td>      <th>  AIC:               </th> <td>2.828e+04</td>\n",
       "</tr>\n",
       "<tr>\n",
       "  <th>Df Residuals:</th>          <td>  3651</td>      <th>  BIC:               </th> <td>2.831e+04</td>\n",
       "</tr>\n",
       "<tr>\n",
       "  <th>Df Model:</th>              <td>     4</td>      <th>                     </th>     <td> </td>    \n",
       "</tr>\n",
       "<tr>\n",
       "  <th>Covariance Type:</th>      <td>nonrobust</td>    <th>                     </th>     <td> </td>    \n",
       "</tr>\n",
       "</table>\n",
       "<table class=\"simpletable\">\n",
       "<tr>\n",
       "        <td></td>           <th>coef</th>     <th>std err</th>      <th>t</th>      <th>P>|t|</th>  <th>[0.025</th>    <th>0.975]</th>  \n",
       "</tr>\n",
       "<tr>\n",
       "  <th>Intercept</th>     <td>   15.5057</td> <td>    1.953</td> <td>    7.939</td> <td> 0.000</td> <td>   11.676</td> <td>   19.335</td>\n",
       "</tr>\n",
       "<tr>\n",
       "  <th>male[T.Mujer]</th> <td>    3.1587</td> <td>    0.386</td> <td>    8.181</td> <td> 0.000</td> <td>    2.402</td> <td>    3.916</td>\n",
       "</tr>\n",
       "<tr>\n",
       "  <th>age</th>           <td>    0.4603</td> <td>    0.024</td> <td>   19.585</td> <td> 0.000</td> <td>    0.414</td> <td>    0.506</td>\n",
       "</tr>\n",
       "<tr>\n",
       "  <th>prevalentHyp</th>  <td>   13.7246</td> <td>    0.540</td> <td>   25.404</td> <td> 0.000</td> <td>   12.665</td> <td>   14.784</td>\n",
       "</tr>\n",
       "<tr>\n",
       "  <th>diaBP</th>         <td>    1.0616</td> <td>    0.020</td> <td>   52.109</td> <td> 0.000</td> <td>    1.022</td> <td>    1.102</td>\n",
       "</tr>\n",
       "</table>\n",
       "<table class=\"simpletable\">\n",
       "<tr>\n",
       "  <th>Omnibus:</th>       <td>637.527</td> <th>  Durbin-Watson:     </th> <td>   2.002</td>\n",
       "</tr>\n",
       "<tr>\n",
       "  <th>Prob(Omnibus):</th> <td> 0.000</td>  <th>  Jarque-Bera (JB):  </th> <td>2028.114</td>\n",
       "</tr>\n",
       "<tr>\n",
       "  <th>Skew:</th>          <td> 0.883</td>  <th>  Prob(JB):          </th> <td>    0.00</td>\n",
       "</tr>\n",
       "<tr>\n",
       "  <th>Kurtosis:</th>      <td> 6.193</td>  <th>  Cond. No.          </th> <td>1.01e+03</td>\n",
       "</tr>\n",
       "</table><br/><br/>Notes:<br/>[1] Standard Errors assume that the covariance matrix of the errors is correctly specified.<br/>[2] The condition number is large, 1.01e+03. This might indicate that there are<br/>strong multicollinearity or other numerical problems."
      ],
      "text/plain": [
       "<class 'statsmodels.iolib.summary.Summary'>\n",
       "\"\"\"\n",
       "                            OLS Regression Results                            \n",
       "==============================================================================\n",
       "Dep. Variable:                  sysBP   R-squared:                       0.726\n",
       "Model:                            OLS   Adj. R-squared:                  0.726\n",
       "Method:                 Least Squares   F-statistic:                     2419.\n",
       "Date:                Tue, 03 Oct 2023   Prob (F-statistic):               0.00\n",
       "Time:                        14:27:22   Log-Likelihood:                -14137.\n",
       "No. Observations:                3656   AIC:                         2.828e+04\n",
       "Df Residuals:                    3651   BIC:                         2.831e+04\n",
       "Df Model:                           4                                         \n",
       "Covariance Type:            nonrobust                                         \n",
       "=================================================================================\n",
       "                    coef    std err          t      P>|t|      [0.025      0.975]\n",
       "---------------------------------------------------------------------------------\n",
       "Intercept        15.5057      1.953      7.939      0.000      11.676      19.335\n",
       "male[T.Mujer]     3.1587      0.386      8.181      0.000       2.402       3.916\n",
       "age               0.4603      0.024     19.585      0.000       0.414       0.506\n",
       "prevalentHyp     13.7246      0.540     25.404      0.000      12.665      14.784\n",
       "diaBP             1.0616      0.020     52.109      0.000       1.022       1.102\n",
       "==============================================================================\n",
       "Omnibus:                      637.527   Durbin-Watson:                   2.002\n",
       "Prob(Omnibus):                  0.000   Jarque-Bera (JB):             2028.114\n",
       "Skew:                           0.883   Prob(JB):                         0.00\n",
       "Kurtosis:                       6.193   Cond. No.                     1.01e+03\n",
       "==============================================================================\n",
       "\n",
       "Notes:\n",
       "[1] Standard Errors assume that the covariance matrix of the errors is correctly specified.\n",
       "[2] The condition number is large, 1.01e+03. This might indicate that there are\n",
       "strong multicollinearity or other numerical problems.\n",
       "\"\"\""
      ]
     },
     "execution_count": 64,
     "metadata": {},
     "output_type": "execute_result"
    }
   ],
   "source": [
    "model = sm.OLS.from_formula(\"sysBP ~ age + prevalentHyp + male + diaBP\", \n",
    "                            data=df_cardio)\n",
    "result = model.fit()\n",
    "result.summary()"
   ]
  },
  {
   "cell_type": "markdown",
   "metadata": {
    "id": "tSMWG_Cqk3Ay"
   },
   "source": [
    "Obtenemos el mismo coeficiente de determinación $R^2$ que antes ($0.726$)."
   ]
  },
  {
   "cell_type": "markdown",
   "metadata": {
    "id": "bijydo-h_AYW",
    "tags": []
   },
   "source": [
    "## **2.4. Regresión logística**\n",
    "---\n",
    "\n",
    "La regresión logística es un modelo estadístico que examina la relación entre dos variables con un modelo matemático que simula un modelo logístico binario, empleado para modelar la probabilidad de ocurrencia de un evento en función de variables independientes.\n",
    "\n",
    "<img src = \"images/log_reg.jpg\" alt = \"Regresión logística\" width = \"65%\">  </img>\n",
    "\n",
    "La librería **`statsmodels`** permite construir modelos de este tipo mediante las siguientes funciones:\n",
    "\n",
    "* [**`statsmodels.GLM.from_formula`**](https://www.statsmodels.org/devel/examples/notebooks/generated/glm_formula.html).\n",
    "* [**`statsmodels.discrete.discrete_model.Logit`**](https://www.statsmodels.org/stable/generated/statsmodels.discrete.discrete_model.Logit.fit.html).\n",
    "\n",
    "Por ejemplo, el objetivo de la clasificación de los datos con que hemos trabajado es predecir si el paciente tiene un riesgo de padecer una futura enfermedad coronaria (CHD) dentro de 10 años. Esta es la variable **`TenYearCHD`** del dataset."
   ]
  },
  {
   "cell_type": "markdown",
   "metadata": {
    "id": "6tDNJqh5GLoC"
   },
   "source": [
    "**Regresión logística**\n",
    "\n",
    "```\n",
    "model = sm.GLM.from_formula( \"V_DEP ~ V_IND1\",\n",
    "                  family=sm.families.Binomial(),\n",
    "                    data=da)\n",
    "```\n",
    "\n",
    "**Regresión logística con 2 variables independientes**\n",
    "\n",
    "```\n",
    "model = sm.GLM.from_formula( \"V_DEP ~ V_IND1 + V_IND2\", \n",
    "                  family = sm.families.Binomial(), \n",
    "                    data = da)\n",
    "```\n",
    "\n"
   ]
  },
  {
   "cell_type": "code",
   "execution_count": 65,
   "metadata": {
    "colab": {
     "base_uri": "https://localhost:8080/",
     "height": 290
    },
    "executionInfo": {
     "elapsed": 475,
     "status": "ok",
     "timestamp": 1615647966830,
     "user": {
      "displayName": "Daniel Felipe Fragua Rengifo",
      "photoUrl": "",
      "userId": "09845551813303536248"
     },
     "user_tz": 300
    },
    "id": "fBHqLag2Gbnu",
    "outputId": "53acb344-4677-4da5-d1c0-cc27f0556bcb"
   },
   "outputs": [
    {
     "data": {
      "text/html": [
       "<table class=\"simpletable\">\n",
       "<caption>Generalized Linear Model Regression Results</caption>\n",
       "<tr>\n",
       "  <th>Dep. Variable:</th>      <td>TenYearCHD</td>    <th>  No. Observations:  </th>  <td>  3656</td> \n",
       "</tr>\n",
       "<tr>\n",
       "  <th>Model:</th>                  <td>GLM</td>       <th>  Df Residuals:      </th>  <td>  3654</td> \n",
       "</tr>\n",
       "<tr>\n",
       "  <th>Model Family:</th>        <td>Binomial</td>     <th>  Df Model:          </th>  <td>     1</td> \n",
       "</tr>\n",
       "<tr>\n",
       "  <th>Link Function:</th>         <td>Logit</td>      <th>  Scale:             </th> <td>  1.0000</td>\n",
       "</tr>\n",
       "<tr>\n",
       "  <th>Method:</th>                <td>IRLS</td>       <th>  Log-Likelihood:    </th> <td> -1478.6</td>\n",
       "</tr>\n",
       "<tr>\n",
       "  <th>Date:</th>            <td>Tue, 03 Oct 2023</td> <th>  Deviance:          </th> <td>  2957.3</td>\n",
       "</tr>\n",
       "<tr>\n",
       "  <th>Time:</th>                <td>14:27:22</td>     <th>  Pearson chi2:      </th> <td>3.65e+03</td>\n",
       "</tr>\n",
       "<tr>\n",
       "  <th>No. Iterations:</th>          <td>5</td>        <th>  Pseudo R-squ. (CS):</th>  <td>0.04368</td>\n",
       "</tr>\n",
       "<tr>\n",
       "  <th>Covariance Type:</th>     <td>nonrobust</td>    <th>                     </th>     <td> </td>   \n",
       "</tr>\n",
       "</table>\n",
       "<table class=\"simpletable\">\n",
       "<tr>\n",
       "      <td></td>         <th>coef</th>     <th>std err</th>      <th>z</th>      <th>P>|z|</th>  <th>[0.025</th>    <th>0.975]</th>  \n",
       "</tr>\n",
       "<tr>\n",
       "  <th>Intercept</th> <td>   -5.0792</td> <td>    0.275</td> <td>  -18.443</td> <td> 0.000</td> <td>   -5.619</td> <td>   -4.539</td>\n",
       "</tr>\n",
       "<tr>\n",
       "  <th>sysBP</th>     <td>    0.0246</td> <td>    0.002</td> <td>   12.729</td> <td> 0.000</td> <td>    0.021</td> <td>    0.028</td>\n",
       "</tr>\n",
       "</table>"
      ],
      "text/plain": [
       "<class 'statsmodels.iolib.summary.Summary'>\n",
       "\"\"\"\n",
       "                 Generalized Linear Model Regression Results                  \n",
       "==============================================================================\n",
       "Dep. Variable:             TenYearCHD   No. Observations:                 3656\n",
       "Model:                            GLM   Df Residuals:                     3654\n",
       "Model Family:                Binomial   Df Model:                            1\n",
       "Link Function:                  Logit   Scale:                          1.0000\n",
       "Method:                          IRLS   Log-Likelihood:                -1478.6\n",
       "Date:                Tue, 03 Oct 2023   Deviance:                       2957.3\n",
       "Time:                        14:27:22   Pearson chi2:                 3.65e+03\n",
       "No. Iterations:                     5   Pseudo R-squ. (CS):            0.04368\n",
       "Covariance Type:            nonrobust                                         \n",
       "==============================================================================\n",
       "                 coef    std err          z      P>|z|      [0.025      0.975]\n",
       "------------------------------------------------------------------------------\n",
       "Intercept     -5.0792      0.275    -18.443      0.000      -5.619      -4.539\n",
       "sysBP          0.0246      0.002     12.729      0.000       0.021       0.028\n",
       "==============================================================================\n",
       "\"\"\""
      ]
     },
     "execution_count": 65,
     "metadata": {},
     "output_type": "execute_result"
    }
   ],
   "source": [
    "model = sm.GLM.from_formula(\"TenYearCHD ~ sysBP\", family=sm.families.Binomial(), data=df_cardio)\n",
    "result = model.fit()\n",
    "result.summary()"
   ]
  },
  {
   "cell_type": "code",
   "execution_count": 66,
   "metadata": {
    "colab": {
     "base_uri": "https://localhost:8080/",
     "height": 332
    },
    "executionInfo": {
     "elapsed": 403,
     "status": "ok",
     "timestamp": 1615647999035,
     "user": {
      "displayName": "Daniel Felipe Fragua Rengifo",
      "photoUrl": "",
      "userId": "09845551813303536248"
     },
     "user_tz": 300
    },
    "id": "XDrgkqJFoT9K",
    "outputId": "ecc7505a-199d-4678-ae56-a67bd6825e85"
   },
   "outputs": [
    {
     "data": {
      "text/html": [
       "<table class=\"simpletable\">\n",
       "<caption>Generalized Linear Model Regression Results</caption>\n",
       "<tr>\n",
       "  <th>Dep. Variable:</th>      <td>TenYearCHD</td>    <th>  No. Observations:  </th>  <td>  3656</td> \n",
       "</tr>\n",
       "<tr>\n",
       "  <th>Model:</th>                  <td>GLM</td>       <th>  Df Residuals:      </th>  <td>  3652</td> \n",
       "</tr>\n",
       "<tr>\n",
       "  <th>Model Family:</th>        <td>Binomial</td>     <th>  Df Model:          </th>  <td>     3</td> \n",
       "</tr>\n",
       "<tr>\n",
       "  <th>Link Function:</th>         <td>Logit</td>      <th>  Scale:             </th> <td>  1.0000</td>\n",
       "</tr>\n",
       "<tr>\n",
       "  <th>Method:</th>                <td>IRLS</td>       <th>  Log-Likelihood:    </th> <td> -1402.8</td>\n",
       "</tr>\n",
       "<tr>\n",
       "  <th>Date:</th>            <td>Tue, 03 Oct 2023</td> <th>  Deviance:          </th> <td>  2805.6</td>\n",
       "</tr>\n",
       "<tr>\n",
       "  <th>Time:</th>                <td>14:27:22</td>     <th>  Pearson chi2:      </th> <td>3.67e+03</td>\n",
       "</tr>\n",
       "<tr>\n",
       "  <th>No. Iterations:</th>          <td>5</td>        <th>  Pseudo R-squ. (CS):</th>  <td>0.08253</td>\n",
       "</tr>\n",
       "<tr>\n",
       "  <th>Covariance Type:</th>     <td>nonrobust</td>    <th>                     </th>     <td> </td>   \n",
       "</tr>\n",
       "</table>\n",
       "<table class=\"simpletable\">\n",
       "<tr>\n",
       "        <td></td>           <th>coef</th>     <th>std err</th>      <th>z</th>      <th>P>|z|</th>  <th>[0.025</th>    <th>0.975]</th>  \n",
       "</tr>\n",
       "<tr>\n",
       "  <th>Intercept</th>     <td>   -7.1436</td> <td>    0.369</td> <td>  -19.373</td> <td> 0.000</td> <td>   -7.866</td> <td>   -6.421</td>\n",
       "</tr>\n",
       "<tr>\n",
       "  <th>male[T.Mujer]</th> <td>   -0.6890</td> <td>    0.099</td> <td>   -6.976</td> <td> 0.000</td> <td>   -0.883</td> <td>   -0.495</td>\n",
       "</tr>\n",
       "<tr>\n",
       "  <th>sysBP</th>         <td>    0.0187</td> <td>    0.002</td> <td>    8.813</td> <td> 0.000</td> <td>    0.015</td> <td>    0.023</td>\n",
       "</tr>\n",
       "<tr>\n",
       "  <th>age</th>           <td>    0.0625</td> <td>    0.006</td> <td>   10.190</td> <td> 0.000</td> <td>    0.051</td> <td>    0.075</td>\n",
       "</tr>\n",
       "</table>"
      ],
      "text/plain": [
       "<class 'statsmodels.iolib.summary.Summary'>\n",
       "\"\"\"\n",
       "                 Generalized Linear Model Regression Results                  \n",
       "==============================================================================\n",
       "Dep. Variable:             TenYearCHD   No. Observations:                 3656\n",
       "Model:                            GLM   Df Residuals:                     3652\n",
       "Model Family:                Binomial   Df Model:                            3\n",
       "Link Function:                  Logit   Scale:                          1.0000\n",
       "Method:                          IRLS   Log-Likelihood:                -1402.8\n",
       "Date:                Tue, 03 Oct 2023   Deviance:                       2805.6\n",
       "Time:                        14:27:22   Pearson chi2:                 3.67e+03\n",
       "No. Iterations:                     5   Pseudo R-squ. (CS):            0.08253\n",
       "Covariance Type:            nonrobust                                         \n",
       "=================================================================================\n",
       "                    coef    std err          z      P>|z|      [0.025      0.975]\n",
       "---------------------------------------------------------------------------------\n",
       "Intercept        -7.1436      0.369    -19.373      0.000      -7.866      -6.421\n",
       "male[T.Mujer]    -0.6890      0.099     -6.976      0.000      -0.883      -0.495\n",
       "sysBP             0.0187      0.002      8.813      0.000       0.015       0.023\n",
       "age               0.0625      0.006     10.190      0.000       0.051       0.075\n",
       "=================================================================================\n",
       "\"\"\""
      ]
     },
     "execution_count": 66,
     "metadata": {},
     "output_type": "execute_result"
    }
   ],
   "source": [
    "model = sm.GLM.from_formula(\"TenYearCHD ~ sysBP + male + age\", family=sm.families.Binomial(), data=df_cardio)\n",
    "result = model.fit()\n",
    "result.summary()"
   ]
  },
  {
   "cell_type": "markdown",
   "metadata": {
    "id": "r5_33e1jy-SG"
   },
   "source": [
    "Otra forma de hacerlo es con la función **`smf.logit`**:"
   ]
  },
  {
   "cell_type": "code",
   "execution_count": 67,
   "metadata": {
    "colab": {
     "base_uri": "https://localhost:8080/",
     "height": 341
    },
    "executionInfo": {
     "elapsed": 394,
     "status": "ok",
     "timestamp": 1615648028836,
     "user": {
      "displayName": "Daniel Felipe Fragua Rengifo",
      "photoUrl": "",
      "userId": "09845551813303536248"
     },
     "user_tz": 300
    },
    "id": "TAGRuTJGyrNr",
    "outputId": "16d04da8-4424-4de6-cb39-879003b63ce9"
   },
   "outputs": [
    {
     "name": "stdout",
     "output_type": "stream",
     "text": [
      "Optimization terminated successfully.\n",
      "         Current function value: 0.383698\n",
      "         Iterations 7\n"
     ]
    },
    {
     "data": {
      "text/html": [
       "<table class=\"simpletable\">\n",
       "<caption>Logit Regression Results</caption>\n",
       "<tr>\n",
       "  <th>Dep. Variable:</th>      <td>TenYearCHD</td>    <th>  No. Observations:  </th>  <td>  3656</td>  \n",
       "</tr>\n",
       "<tr>\n",
       "  <th>Model:</th>                 <td>Logit</td>      <th>  Df Residuals:      </th>  <td>  3652</td>  \n",
       "</tr>\n",
       "<tr>\n",
       "  <th>Method:</th>                 <td>MLE</td>       <th>  Df Model:          </th>  <td>     3</td>  \n",
       "</tr>\n",
       "<tr>\n",
       "  <th>Date:</th>            <td>Tue, 03 Oct 2023</td> <th>  Pseudo R-squ.:     </th>  <td>0.1009</td>  \n",
       "</tr>\n",
       "<tr>\n",
       "  <th>Time:</th>                <td>14:27:22</td>     <th>  Log-Likelihood:    </th> <td> -1402.8</td> \n",
       "</tr>\n",
       "<tr>\n",
       "  <th>converged:</th>             <td>True</td>       <th>  LL-Null:           </th> <td> -1560.3</td> \n",
       "</tr>\n",
       "<tr>\n",
       "  <th>Covariance Type:</th>     <td>nonrobust</td>    <th>  LLR p-value:       </th> <td>5.843e-68</td>\n",
       "</tr>\n",
       "</table>\n",
       "<table class=\"simpletable\">\n",
       "<tr>\n",
       "        <td></td>           <th>coef</th>     <th>std err</th>      <th>z</th>      <th>P>|z|</th>  <th>[0.025</th>    <th>0.975]</th>  \n",
       "</tr>\n",
       "<tr>\n",
       "  <th>Intercept</th>     <td>   -7.1436</td> <td>    0.369</td> <td>  -19.373</td> <td> 0.000</td> <td>   -7.866</td> <td>   -6.421</td>\n",
       "</tr>\n",
       "<tr>\n",
       "  <th>male[T.Mujer]</th> <td>   -0.6890</td> <td>    0.099</td> <td>   -6.976</td> <td> 0.000</td> <td>   -0.883</td> <td>   -0.495</td>\n",
       "</tr>\n",
       "<tr>\n",
       "  <th>sysBP</th>         <td>    0.0187</td> <td>    0.002</td> <td>    8.813</td> <td> 0.000</td> <td>    0.015</td> <td>    0.023</td>\n",
       "</tr>\n",
       "<tr>\n",
       "  <th>age</th>           <td>    0.0625</td> <td>    0.006</td> <td>   10.190</td> <td> 0.000</td> <td>    0.051</td> <td>    0.075</td>\n",
       "</tr>\n",
       "</table>"
      ],
      "text/plain": [
       "<class 'statsmodels.iolib.summary.Summary'>\n",
       "\"\"\"\n",
       "                           Logit Regression Results                           \n",
       "==============================================================================\n",
       "Dep. Variable:             TenYearCHD   No. Observations:                 3656\n",
       "Model:                          Logit   Df Residuals:                     3652\n",
       "Method:                           MLE   Df Model:                            3\n",
       "Date:                Tue, 03 Oct 2023   Pseudo R-squ.:                  0.1009\n",
       "Time:                        14:27:22   Log-Likelihood:                -1402.8\n",
       "converged:                       True   LL-Null:                       -1560.3\n",
       "Covariance Type:            nonrobust   LLR p-value:                 5.843e-68\n",
       "=================================================================================\n",
       "                    coef    std err          z      P>|z|      [0.025      0.975]\n",
       "---------------------------------------------------------------------------------\n",
       "Intercept        -7.1436      0.369    -19.373      0.000      -7.866      -6.421\n",
       "male[T.Mujer]    -0.6890      0.099     -6.976      0.000      -0.883      -0.495\n",
       "sysBP             0.0187      0.002      8.813      0.000       0.015       0.023\n",
       "age               0.0625      0.006     10.190      0.000       0.051       0.075\n",
       "=================================================================================\n",
       "\"\"\""
      ]
     },
     "execution_count": 67,
     "metadata": {},
     "output_type": "execute_result"
    }
   ],
   "source": [
    "model = smf.logit(\"TenYearCHD ~ sysBP + male + age\", data=df_cardio)\n",
    "result = model.fit()\n",
    "result.summary()"
   ]
  },
  {
   "cell_type": "markdown",
   "metadata": {
    "id": "6OdT_x_Jiz1o"
   },
   "source": [
    "Finalmente podemos obtener los coeficientes del modelo con el atributo **`result.params`**."
   ]
  },
  {
   "cell_type": "code",
   "execution_count": 68,
   "metadata": {
    "colab": {
     "base_uri": "https://localhost:8080/"
    },
    "executionInfo": {
     "elapsed": 380,
     "status": "ok",
     "timestamp": 1615648029856,
     "user": {
      "displayName": "Daniel Felipe Fragua Rengifo",
      "photoUrl": "",
      "userId": "09845551813303536248"
     },
     "user_tz": 300
    },
    "id": "2TYnU6DeiyGz",
    "outputId": "f7779a15-a371-4bea-a444-139afc02ec26"
   },
   "outputs": [
    {
     "data": {
      "text/plain": [
       "Intercept       -7.143600\n",
       "male[T.Mujer]   -0.688962\n",
       "sysBP            0.018692\n",
       "age              0.062549\n",
       "dtype: float64"
      ]
     },
     "execution_count": 68,
     "metadata": {},
     "output_type": "execute_result"
    }
   ],
   "source": [
    "result.params"
   ]
  },
  {
   "cell_type": "markdown",
   "metadata": {
    "id": "4r5hSQAz6d-g"
   },
   "source": [
    "## **Recursos adicionales**\n",
    "---\n",
    "Para profundizar mucho más, le recomendamos los siguientes recursos adicionales:\n",
    "\n",
    "*  [University of Michigan (Coursera) - Fitting Statistical Models to Data with Python](https://www.coursera.org/learn/fitting-statistical-models-data-python)\n",
    "*  [Kaggle - Correlation (Pearson, Spearman and Kendall)](https://www.kaggle.com/kiyoung1027/correlation-pearson-spearman-and-kendall/report)\n",
    "*  [towards data science - Simple and Multiple Linear Regression in Python](https://towardsdatascience.com/simple-and-multiple-linear-regression-in-python-c928425168f9)\n",
    "*  [Data Vedas - Correlation Coefficients](https://www.datavedas.com/correlation-coefficients/)\n",
    "*  [Mike Freeman - Binary Predictions Metrics](http://mfviz.com/binary-predictions/)\n",
    "*  [Mike Freeman - An Introduction to Hierarchical Modeling](http://mfviz.com/hierarchical-models/)\n",
    "*  [statsmodels documentation](https://www.statsmodels.org/stable/index.html)\n",
    "*  [SciPy Statistical functions (scipy.stats)](https://docs.scipy.org/doc/scipy/reference/stats.html)"
   ]
  }
 ],
 "metadata": {
  "colab": {
   "collapsed_sections": [],
   "name": "Modelado estadístico con Python.ipynb",
   "provenance": [
    {
     "file_id": "1M9Rg4pgddpMfOZZe0KsniYG8_9RJ4ukW",
     "timestamp": 1615207252452
    }
   ],
   "toc_visible": true
  },
  "kernelspec": {
   "display_name": "Python 3 (ipykernel)",
   "language": "python",
   "name": "python3"
  },
  "language_info": {
   "codemirror_mode": {
    "name": "ipython",
    "version": 3
   },
   "file_extension": ".py",
   "mimetype": "text/x-python",
   "name": "python",
   "nbconvert_exporter": "python",
   "pygments_lexer": "ipython3",
   "version": "3.9.7"
  }
 },
 "nbformat": 4,
 "nbformat_minor": 4
}
