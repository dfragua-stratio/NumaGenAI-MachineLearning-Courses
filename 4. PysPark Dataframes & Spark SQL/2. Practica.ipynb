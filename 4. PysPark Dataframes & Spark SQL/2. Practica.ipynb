{
 "cells": [
  {
   "cell_type": "markdown",
   "id": "9ed85381-06de-493d-9985-51a7604711ce",
   "metadata": {},
   "source": [
    "# Titanic\n",
    "El archivo `data/titanic.csv` recoge la información de los 2201 pasajeros del titanic. Para cada pasajero se dispone de la siguiente información.\n",
    "\n",
    "* Clase: Tripulación, Primera, Segunda, Tercera\n",
    "* Edad: Adulto, Niño\n",
    "* Sexo: Hombre, Mujer\n",
    "* Sobrevivió: Si, No\n",
    "\n",
    "Realice un análisis exploratorio en que incluya, por lo menos, 3 gráficas que le resulten de interés.\n",
    "\n",
    "Creemos un DataFrame a partir de este archivo y realicemos algunas operaciones para resolver las siguientes preguntas **empleando tanto DataFrames como Spark SQL**:\n",
    "1. ¿Cuántos pasajeros sobrevivieron por clase? ¿Cuál fue el promedio de supervivientes por clase?\n",
    "2. ¿Qué pasó con los adultos de tercera clase?\n",
    "3. Al momento del rescate ¿se cumplió con la premisa \"Mujeres y niños primero\"?\n",
    "4. ¿Cuál es la relación entre la edad y la tasa de supervivencia por género?\n",
    "5. ¿Cuál es la tasa de supervivencia promedio por clase de pasajero?\n",
    "6. ¿Cuál es la distribución de edades de los sobrevivientes y no sobrevivientes por género?\n",
    "7. ¿Cuál es la proporción de hombres y mujeres en cada clase de pasajero?"
   ]
  }
 ],
 "metadata": {
  "kernelspec": {
   "display_name": "Python 3 (ipykernel)",
   "language": "python",
   "name": "python3"
  },
  "language_info": {
   "codemirror_mode": {
    "name": "ipython",
    "version": 3
   },
   "file_extension": ".py",
   "mimetype": "text/x-python",
   "name": "python",
   "nbconvert_exporter": "python",
   "pygments_lexer": "ipython3",
   "version": "3.8.18"
  }
 },
 "nbformat": 4,
 "nbformat_minor": 5
}
