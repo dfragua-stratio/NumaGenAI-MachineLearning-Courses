{
 "cells": [
  {
   "cell_type": "markdown",
   "metadata": {
    "id": "kyyYqzShjxwL"
   },
   "source": [
    "# **Lenguaje de programación Python - Parte 1**\n",
    "---\n",
    "<img src = \"https://www.python.org/static/community_logos/python-logo-inkscape.svg\" alt = \"Python Logo\" width = \"70%\">  </img>\n",
    "\n",
    "\n",
    "\n",
    "*Python* es un lenguaje de programación diseñado para permitir escribir código rápido, legible y compatible con múltiples plataformas. A su alrededor existe una enorme comunidad científica, que lo apoya con diversas librerías y módulos especializados que lo hacen muy popular en el área de la ciencia de datos.\n",
    "\n",
    "En este recurso se presentarán las ideas básicas para aprender a escribir y ejecutar código *Python* desde las bases fundamentales."
   ]
  },
  {
   "cell_type": "markdown",
   "metadata": {
    "id": "eRKerH0JtAoP"
   },
   "source": [
    "## **1. Comentarios**\n",
    "---\n",
    "\n",
    "Al trabajar con un lenguaje de programación, un software (un intérprete o un compilador) analiza la sintaxis de un texto escrito por el programador para generar código que pueda ser ejecutado por la máquina. Si algo no corresponde con las reglas del lenguaje, se le indica al programador por medio de errores qué pudo salir mal.\n",
    "\n",
    "Un concepto muy útil y extremadamente común en los lenguajes de programación es la capacidad de usar comentarios dentro del código. Para esto, se usa una sintaxis especial que le indica al interprete que ignore secciones de texto específicas, que puede usar el programador para describir su código.\n",
    "\n",
    "En esta guía, se usarán estos comentarios para describir los conceptos presentados.\n",
    "\n",
    "> **Nota:** Técnicamente las expresiones con la notación con tres comillas `'''` no son comentarios validos de *Python*, pero en la mayoría de casos se comportan de manera similar y se pueden utilizar como tal.\n"
   ]
  },
  {
   "cell_type": "code",
   "execution_count": 2,
   "metadata": {
    "id": "JfcxQ79Su4d7"
   },
   "outputs": [
    {
     "name": "stdout",
     "output_type": "stream",
     "text": [
      "¡Hola Mundo!\n",
      "Este fragmento no es ignorado.\n"
     ]
    }
   ],
   "source": [
    "# Este texto es ignorado por el intérprete.\n",
    "\n",
    "# No importa lo que se escriba después del símbolo\n",
    "# Todo es ignorado (/.-+?\\...), pero solo en la misma línea.\n",
    "\n",
    "'''\n",
    "Si se necesita, se pueden\n",
    "usar comentarios en múltiples líneas\n",
    "usando 3 comillas al principio\n",
    "y al final de la sección que se busca ignorar.\n",
    "\n",
    "Presione Shift + Enter para ejecutar la celda de código.\n",
    "'''\n",
    "\n",
    "print(\"¡Hola Mundo!\")\n",
    "print(\"Este fragmento no es ignorado.\") # Este fragmento está en la misma línea y SI es ignorado."
   ]
  },
  {
   "cell_type": "markdown",
   "metadata": {
    "id": "ZrRRjQ1clfAN"
   },
   "source": [
    "## **2. Entrada y salida**\n",
    "---\n",
    "\n",
    "Cuando se ejecuta **`input`** la consola de *Python* espera que se le entregue texto, que puede escribir con su teclado o pegar del portapapeles, y luego hacer algo con este, como almacenarlo para más adelante. Por otro lado, **`print`** escribirá en consola texto almacenado previamente, ya sea almacenado en una variable (más acerca de ellas en la sección 3) o escrito explícitamente dentro del código.\n",
    "\n",
    "En el ejemplo presentado a continuación se le pide al usuario su nombre, lo almacena en una variable y luego imprime en pantalla una bienvenida personalizada.\n",
    "\n",
    "**Nota:** Las **funciones**, **variables** y **cadenas de texto** se verán en detalle más adelante en este material. Recuerde verificar que se está usando el *kernel* de *Python 3* para obtener el resultado esperado."
   ]
  },
  {
   "cell_type": "code",
   "execution_count": 3,
   "metadata": {
    "id": "6fUN6v1qlN05"
   },
   "outputs": [],
   "source": [
    "nombre = input('Hola. ¿Cómo te llamas?\\n')"
   ]
  },
  {
   "cell_type": "code",
   "execution_count": 4,
   "metadata": {
    "id": "-2pA49PgMTy2"
   },
   "outputs": [
    {
     "name": "stdout",
     "output_type": "stream",
     "text": [
      "¡Te damos la bienvenida, !\n"
     ]
    }
   ],
   "source": [
    "print(f'¡Te damos la bienvenida, {nombre}!')"
   ]
  },
  {
   "cell_type": "markdown",
   "metadata": {
    "id": "EdgyNP7OlfhE"
   },
   "source": [
    "## **3. Variables**\n",
    "---\n",
    "\n",
    "Una variable es un espacio de memoria en el que se pueden almacenar valores o datos para reutilizarlos o modificarlos en el código. A diferencia de otros lenguajes de programación, *Python* es **débilmente tipado**. Esto quiere decir que para almacenar un dato en una variable, no se requiere definir de antemano qué tipo de dato va a representar, simplificando la definición de variables para escribir código rápidamente.\n",
    "\n",
    "Las variables son declaradas con nombres definidos por el programador, y se le asignan valores con el símbolo **`=`**. Los nombres permitidos para variables en *Python* deben cumplir las siguientes condiciones.\n",
    "\n",
    "1.   Deben estar compuestos por números del 0-9, caracteres alfabéticos en mayúscula o minúscula (A-Z y a-z) y por el símbolo `_`.\n",
    "2.   Si tienen un número, no puede ser el primer carácter.\n",
    "\n",
    "Los nombres de variables distinguen entre mayúsculas y minúsculas. **`var`** y  **`VAR`** se interpretan como variables distintas.\n",
    "\n",
    "> **IMPORTANTE**: En la misma ejecución en un *notebook* se preserva entre celdas el valor asignado a una variable.\n",
    "\n",
    "\n",
    "En *Python* existen algunas convenciones consideradas buenas prácticas a la hora de escribir código en este lenguaje. Una de ellas es la forma de asignar nombres a variables y funciones. Se recomienda escribir palabras en minúscula separadas por una barra al piso `_`.\n",
    "\n",
    "> **Ejemplo: `calcular_intervalo`**\n",
    "\n"
   ]
  },
  {
   "cell_type": "code",
   "execution_count": 5,
   "metadata": {
    "id": "ADkMhLke0GJE"
   },
   "outputs": [
    {
     "name": "stdout",
     "output_type": "stream",
     "text": [
      "100\n"
     ]
    }
   ],
   "source": [
    "a = 100\n",
    "print(a)"
   ]
  },
  {
   "cell_type": "code",
   "execution_count": 6,
   "metadata": {
    "id": "AJI0ZxjqmToW"
   },
   "outputs": [
    {
     "name": "stdout",
     "output_type": "stream",
     "text": [
      "Python\n"
     ]
    }
   ],
   "source": [
    "a = 'Python'\n",
    "print(a)"
   ]
  },
  {
   "cell_type": "code",
   "execution_count": 7,
   "metadata": {
    "id": "-t_xbg7_1l5o"
   },
   "outputs": [
    {
     "name": "stdout",
     "output_type": "stream",
     "text": [
      "Python\n"
     ]
    }
   ],
   "source": [
    "# Si no ha cambiado la instancia de ejecución (por ejemplo, al actualizar la página)\n",
    "# el valor de la variable a se preserva entre celdas.\n",
    "print(a)"
   ]
  },
  {
   "cell_type": "code",
   "execution_count": 8,
   "metadata": {
    "id": "ksKSRt5fmVRn"
   },
   "outputs": [
    {
     "name": "stdout",
     "output_type": "stream",
     "text": [
      "\n"
     ]
    }
   ],
   "source": [
    "print(nombre) # Esta variable había sido creada en el ejemplo anterior."
   ]
  },
  {
   "cell_type": "markdown",
   "metadata": {
    "id": "OHDM4iz0lfXZ"
   },
   "source": [
    "## **4. Tipos de dato y operadores**\n",
    "---\n",
    "\n",
    "El tipo de un dato es un atributo que determina qué operaciones se pueden realizar y qué valores puede tomar. Estos pueden ser números, listas, texto, entre otros. En *Python*, los tipos de dato no son definidos explícitamente, pero siempre están presentes en las variables que declaramos y es necesario tenerlos en cuenta. En particular, el tipo de dato define las operaciones válidas entre datos del mismo tipo. Estas operaciones están definidas con el uso de símbolos llamados **operadores**.\n",
    "\n",
    "Para conocer el tipo de dato de una variable, se usa la función **`type`**.\n"
   ]
  },
  {
   "cell_type": "code",
   "execution_count": 9,
   "metadata": {},
   "outputs": [
    {
     "data": {
      "text/plain": [
       "int"
      ]
     },
     "execution_count": 9,
     "metadata": {},
     "output_type": "execute_result"
    }
   ],
   "source": [
    "a = 2\n",
    "type(a)"
   ]
  },
  {
   "cell_type": "code",
   "execution_count": 10,
   "metadata": {},
   "outputs": [
    {
     "data": {
      "text/plain": [
       "str"
      ]
     },
     "execution_count": 10,
     "metadata": {},
     "output_type": "execute_result"
    }
   ],
   "source": [
    "type(nombre)"
   ]
  },
  {
   "cell_type": "code",
   "execution_count": 11,
   "metadata": {},
   "outputs": [
    {
     "data": {
      "text/plain": [
       "list"
      ]
     },
     "execution_count": 11,
     "metadata": {},
     "output_type": "execute_result"
    }
   ],
   "source": [
    "type([1,2,4]) # ya veeremos mas adelante este tipo de variables"
   ]
  },
  {
   "cell_type": "markdown",
   "metadata": {
    "id": "0PWwqaTgsCQE"
   },
   "source": [
    "### **4.1. Cadenas de texto**\n",
    "---\n",
    "\n",
    "\n",
    "Un tipo de dato muy importante es el de las cadenas de texto. Estas cadenas permiten almacenar en un mismo dato texto con cualquier cantidad de caracteres. Las cadenas de texto en *Python 3* permiten el uso de caracteres de la codificación [Unicode](https://home.unicode.org/). Estas secuencias de caracteres se conocen como **strings** y pueden asignarse a variables como con valores numéricos. Para definir una cadena de texto, se rodea el texto con comillas simples `'` o comillas dobles `\"`."
   ]
  },
  {
   "cell_type": "code",
   "execution_count": 12,
   "metadata": {
    "id": "ba40VjPWDch8"
   },
   "outputs": [
    {
     "data": {
      "text/plain": [
       "'cadena con comilla simple'"
      ]
     },
     "execution_count": 12,
     "metadata": {},
     "output_type": "execute_result"
    }
   ],
   "source": [
    "'cadena con comilla simple'"
   ]
  },
  {
   "cell_type": "code",
   "execution_count": 13,
   "metadata": {
    "id": "rj9RBr35Dch-"
   },
   "outputs": [
    {
     "data": {
      "text/plain": [
       "'cadena con comillas dobles'"
      ]
     },
     "execution_count": 13,
     "metadata": {},
     "output_type": "execute_result"
    }
   ],
   "source": [
    "\"cadena con comillas dobles\""
   ]
  },
  {
   "cell_type": "markdown",
   "metadata": {
    "id": "i_ThaZaOoerw"
   },
   "source": [
    "El caracter \\ sirve como caracter de escape para poder incluir caracteres especiales dentro de las cadenas. Por ejemplo:"
   ]
  },
  {
   "cell_type": "code",
   "execution_count": 14,
   "metadata": {
    "id": "sZff3MzkDciB"
   },
   "outputs": [
    {
     "data": {
      "text/plain": [
       "\"uso del caracter de escape para escribir el caracter de comilla simple ' dentro de una cadena definida con comilla simple\""
      ]
     },
     "execution_count": 14,
     "metadata": {},
     "output_type": "execute_result"
    }
   ],
   "source": [
    "'uso del caracter de escape para escribir el caracter de comilla simple \\' dentro de una cadena definida con comilla simple'"
   ]
  },
  {
   "cell_type": "code",
   "execution_count": 15,
   "metadata": {
    "id": "EqSxTzCdVsYO"
   },
   "outputs": [
    {
     "data": {
      "text/plain": [
       "\"en este caso no es necesario usarlo ' porque estamos usando comilla doble\""
      ]
     },
     "execution_count": 15,
     "metadata": {},
     "output_type": "execute_result"
    }
   ],
   "source": [
    "\"en este caso no es necesario usarlo ' porque estamos usando comilla doble\""
   ]
  },
  {
   "cell_type": "markdown",
   "metadata": {
    "id": "zIox8IHZoiaX"
   },
   "source": [
    "Las cadenas se pueden almacenar en variables, así:"
   ]
  },
  {
   "cell_type": "code",
   "execution_count": 16,
   "metadata": {
    "id": "1fkMxqffsCQK"
   },
   "outputs": [],
   "source": [
    "s = '   ¡La ciencia de datos es divertida!   ' # los espacios cuenta como un caracter"
   ]
  },
  {
   "cell_type": "code",
   "execution_count": 17,
   "metadata": {
    "id": "-3YDOqFto0eB"
   },
   "outputs": [
    {
     "name": "stdout",
     "output_type": "stream",
     "text": [
      "   ¡La ciencia de datos es divertida!   \n"
     ]
    }
   ],
   "source": [
    "print(s)"
   ]
  },
  {
   "cell_type": "markdown",
   "metadata": {
    "id": "Pmm1bkhonudV"
   },
   "source": [
    "Algunos operadores de los usados para valores numéricos también sirven al operar con *strings* pero con utilidad distinta:\n",
    "\n",
    "\n",
    "*  Concatenación `+`.\n",
    "*  Repetición `*`.\n",
    "*  Formato `%`."
   ]
  },
  {
   "cell_type": "code",
   "execution_count": 18,
   "metadata": {
    "id": "y0C9RcTPo_B2"
   },
   "outputs": [
    {
     "name": "stdout",
     "output_type": "stream",
     "text": [
      "   ¡La ciencia de datos es divertida!   \n"
     ]
    }
   ],
   "source": [
    "print(s + nombre)"
   ]
  },
  {
   "cell_type": "code",
   "execution_count": 19,
   "metadata": {
    "id": "azj0zAg_pLsj"
   },
   "outputs": [
    {
     "name": "stdout",
     "output_type": "stream",
     "text": [
      "   ¡La ciencia de datos es divertida!      ¡La ciencia de datos es divertida!      ¡La ciencia de datos es divertida!   \n"
     ]
    }
   ],
   "source": [
    "print(s*3) #concatena 3 veces la cadena de caracteres"
   ]
  },
  {
   "cell_type": "markdown",
   "metadata": {
    "id": "eFyf1NBfRr2F"
   },
   "source": [
    "Para utilizar variables dentro de cadenas de texto definidas se utilizan varios métodos. Estos son:\n",
    "\n",
    "1.   **Concatenación:** Se pueden componer cadenas de texto concatenando con el símbolo `+` varias subcadenas. Para variables numéricas que no son de tipo *string* por defecto se debe utilizar la función `str(variable)` para evitar errores de incompatibilidad de tipos. **Nota**: `str` es una función que convierte a string una variable\n",
    " > **Ejemplo:** `\"Quedan \" + str(num) + \" minutos.\"`\n",
    "\n",
    "2.   **Operador `%` de formato:** En sus inicios, *Python* incluía formato de cadenas de texto al estilo del lenguaje de programación C. Para esto, se define el valor y su formato dentro de la cadena, y se utiliza el operador **`%`** para definir la variable a la que se da el formato. Si se da formato a varios valores se usan tuplas como la variable de entrada. Este método no es recomendado por inconsistencias en su operación, pero es posible que lo encuentre en materiales en la web. En la documentación de *Python* se recomienda utilizar la función **`format()`** o *f-strings*.\n",
    " > **Ejemplo:** `\"Quedan {} minutos.\".format(num)`\n",
    "\n",
    "3.   **Función `format()`:** Las cadenas de texto tienen el método **`.format()`**, que permite reemplazar fragmentos encerrados en llaves curvadas **`{}`** por variables de cualquier tipo pasadas como parámetros de la función.\n",
    " >**Ejemplo:** `\"Quedan %d minutos.\" % num`\n",
    "\n",
    "4.   **_f-strings_:** Desde la versión de *Python* $3.6$ en adelante, se puede usar el carácter **`f`** como prefijo de una cadena de texto para interpretar los fragmentos encerrados en llaves curvadas **`{}`** como fragmentos de código de forma directa.\n",
    " >**Ejemplo:** `f\"Quedan {num} minutos.\"`"
   ]
  },
  {
   "cell_type": "code",
   "execution_count": 20,
   "metadata": {
    "id": "ZEMYAb7FqR87"
   },
   "outputs": [
    {
     "name": "stdout",
     "output_type": "stream",
     "text": [
      "3.1416\n"
     ]
    }
   ],
   "source": [
    "# El .4f indica que la cadena utiliza solo 4 dígitos decimales.\n",
    "\n",
    "print('%.4f' % 3.141592653589793)"
   ]
  },
  {
   "cell_type": "code",
   "execution_count": 21,
   "metadata": {
    "id": "4EipSamoRrTs"
   },
   "outputs": [
    {
     "name": "stdout",
     "output_type": "stream",
     "text": [
      "Quedan 100 minutos.\n",
      "Quedan 100 minutos.\n",
      "Quedan 100 minutos.\n",
      "Quedan 100 minutos.\n"
     ]
    }
   ],
   "source": [
    "num = 100\n",
    "\n",
    "print(\"Quedan \" + str(num) + \" minutos.\")\n",
    "print(\"Quedan %d minutos.\" % num)\n",
    "print(\"Quedan {} minutos.\".format(num))\n",
    "print(f'Quedan {num} minutos.')"
   ]
  },
  {
   "cell_type": "code",
   "execution_count": 22,
   "metadata": {
    "id": "i-UEm_LVqXIm"
   },
   "outputs": [
    {
     "name": "stdout",
     "output_type": "stream",
     "text": [
      "3.1416\n"
     ]
    }
   ],
   "source": [
    "print('{:.4f}'.format(3.141592653589793))"
   ]
  },
  {
   "cell_type": "markdown",
   "metadata": {
    "id": "gYHvH706qqsN"
   },
   "source": [
    "Para conocer muchas otras formas de dar formato consulte el siguiente [enlace](https://pyformat.info/)."
   ]
  },
  {
   "cell_type": "markdown",
   "metadata": {
    "id": "ha9AeQtno_7W"
   },
   "source": [
    "Además de las operaciones por defecto, las cadenas de texto cuentan con la posibilidad de ejecutar funciones directamente. Por ejemplo, siendo **`s`** una variable con un **`string`**:\n",
    "\n",
    "*  **`s.lower()`** : Retorna la cadena con todos los caracteres alfabéticos en minúscula.\n",
    "*  **`s.upper()`** : Retorna la cadena con todos los caracteres alfabéticos en mayúscula.\n",
    "*  **`s.replace(a, b)`** : Reemplaza las subcadenas iguales a la cadena **`a`** con el valor de la cadena **`b`**.\n",
    "*  **`s.strip()`** : Retorna la cadena con todos los espacios en blanco al principio y al final removidos.\n",
    "*  **`s.islower()`** : Determina si la cadena está compuesta solo por caracteres en mayúscula.\n",
    "*  **`s.isupper()`** : Determina si la cadena está compuesta solo por caracteres en mayúscula.\n",
    "*  **`s.isdigit()`** : Determina si la cadena está compuesta solo por dígitos del 0 al 9.\n",
    "*  **`s.isalpha()`** : Determina si la cadena está compuesta solo por caracteres alfabéticos.\n",
    "\n",
    "\n",
    "Como estos, existen muchos [métodos](https://www.w3schools.com/python/python_ref_string.asp) que se pueden ejecutar en cadenas de texto con utilidades distintas."
   ]
  },
  {
   "cell_type": "code",
   "execution_count": 23,
   "metadata": {
    "id": "nBNEAuD4rXQF"
   },
   "outputs": [
    {
     "name": "stdout",
     "output_type": "stream",
     "text": [
      "   ¡La ciencia de datos es divertida!   \n"
     ]
    }
   ],
   "source": [
    "print(s)"
   ]
  },
  {
   "cell_type": "code",
   "execution_count": 24,
   "metadata": {
    "id": "VkmxuwfIMoqH"
   },
   "outputs": [
    {
     "name": "stdout",
     "output_type": "stream",
     "text": [
      "   ¡la ciencia de datos es divertida!   \n"
     ]
    }
   ],
   "source": [
    "print(s.lower())"
   ]
  },
  {
   "cell_type": "code",
   "execution_count": 25,
   "metadata": {
    "id": "bzLx9XZdMpNY"
   },
   "outputs": [
    {
     "name": "stdout",
     "output_type": "stream",
     "text": [
      "   ¡LA CIENCIA DE DATOS ES DIVERTIDA!   \n"
     ]
    }
   ],
   "source": [
    "print(s.upper())"
   ]
  },
  {
   "cell_type": "code",
   "execution_count": 26,
   "metadata": {
    "id": "bdCOxBhCMsgA"
   },
   "outputs": [
    {
     "name": "stdout",
     "output_type": "stream",
     "text": [
      "   ¡Li ciencii de ditos es divertidi!   \n"
     ]
    }
   ],
   "source": [
    "print(s.replace('a', 'i'))"
   ]
  },
  {
   "cell_type": "code",
   "execution_count": 27,
   "metadata": {
    "id": "PpdLaQdjMy27"
   },
   "outputs": [
    {
     "name": "stdout",
     "output_type": "stream",
     "text": [
      "¡La ciencia de datos es divertida!\n"
     ]
    }
   ],
   "source": [
    "print(s.strip())"
   ]
  },
  {
   "cell_type": "code",
   "execution_count": 28,
   "metadata": {
    "id": "V-8J7XTVM80W"
   },
   "outputs": [
    {
     "name": "stdout",
     "output_type": "stream",
     "text": [
      "False\n",
      "True\n"
     ]
    }
   ],
   "source": [
    "print(s.islower())\n",
    "print('a'.islower())"
   ]
  },
  {
   "cell_type": "code",
   "execution_count": 29,
   "metadata": {
    "id": "xhjhAyxsNCGR"
   },
   "outputs": [
    {
     "name": "stdout",
     "output_type": "stream",
     "text": [
      "False\n",
      "True\n"
     ]
    }
   ],
   "source": [
    "print(s.isupper())\n",
    "print('HOLA'.isupper())"
   ]
  },
  {
   "cell_type": "code",
   "execution_count": 30,
   "metadata": {
    "id": "qKjSJCa3NJKQ"
   },
   "outputs": [
    {
     "name": "stdout",
     "output_type": "stream",
     "text": [
      "False\n",
      "True\n"
     ]
    }
   ],
   "source": [
    "print(s.isdigit())\n",
    "print('123'.isdigit())"
   ]
  },
  {
   "cell_type": "code",
   "execution_count": 31,
   "metadata": {
    "id": "te4M_YylNRFC"
   },
   "outputs": [
    {
     "name": "stdout",
     "output_type": "stream",
     "text": [
      "False\n",
      "True\n"
     ]
    }
   ],
   "source": [
    "print(s.isalpha())\n",
    "print('Palabra'.isalpha())"
   ]
  },
  {
   "cell_type": "markdown",
   "metadata": {
    "id": "HuGVyfK4ppv9"
   },
   "source": [
    "### **4.2. Valores y operadores numéricos**\n",
    "---\n",
    "\n",
    "Es el tipo de dato más común, y seguramente el que más vamos a usar en este módulo. Corresponde a valores que representan valores numéricos. En *Python*, los valores numéricos pueden ser de tres formas:\n",
    "\n",
    "*   Números enteros. **(int)**\n",
    "*   Números decimales. **(float)**\n",
    "*   Números complejos. **(complex)**\n"
   ]
  },
  {
   "cell_type": "code",
   "execution_count": 32,
   "metadata": {
    "id": "fkHmgvJAqmxt"
   },
   "outputs": [
    {
     "name": "stdout",
     "output_type": "stream",
     "text": [
      "10\n",
      "<class 'int'>\n"
     ]
    }
   ],
   "source": [
    "a = 10     \t      #int\n",
    "print(a)\n",
    "print(type(a))"
   ]
  },
  {
   "cell_type": "code",
   "execution_count": 33,
   "metadata": {
    "id": "JQ-H73qysxSq"
   },
   "outputs": [
    {
     "name": "stdout",
     "output_type": "stream",
     "text": [
      "-1089\n",
      "<class 'int'>\n"
     ]
    }
   ],
   "source": [
    "a = -1089 \t      #int - Se pueden escribir números negativos con el símbolo ‘-’\n",
    "print(a)\n",
    "print(type(a))"
   ]
  },
  {
   "cell_type": "code",
   "execution_count": 34,
   "metadata": {
    "id": "6VcSDf97NrWU"
   },
   "outputs": [
    {
     "name": "stdout",
     "output_type": "stream",
     "text": [
      "10.2\n",
      "<class 'float'>\n"
     ]
    }
   ],
   "source": [
    "a = 10.2  \t      #float\n",
    "print(a)\n",
    "print(type(a))"
   ]
  },
  {
   "cell_type": "code",
   "execution_count": 35,
   "metadata": {
    "id": "a28JSeyps02d"
   },
   "outputs": [
    {
     "name": "stdout",
     "output_type": "stream",
     "text": [
      "1e+100\n",
      "<class 'float'>\n"
     ]
    }
   ],
   "source": [
    "a = 1e100 \t      #float - Esta sintaxis representa notación científica.\n",
    "print(a)\n",
    "print(type(a))"
   ]
  },
  {
   "cell_type": "code",
   "execution_count": 36,
   "metadata": {
    "id": "mchseYrKNssB"
   },
   "outputs": [
    {
     "name": "stdout",
     "output_type": "stream",
     "text": [
      "1j\n",
      "<class 'complex'>\n"
     ]
    }
   ],
   "source": [
    "a = 1j            #complex\n",
    "print(a)\n",
    "print(type(a))"
   ]
  },
  {
   "cell_type": "code",
   "execution_count": 37,
   "metadata": {
    "id": "wLJ7Wk-etC3s"
   },
   "outputs": [
    {
     "name": "stdout",
     "output_type": "stream",
     "text": [
      "(1+0.2j)\n",
      "<class 'complex'>\n"
     ]
    }
   ],
   "source": [
    "a = 1 + 0.2j      #complex\n",
    "print(a)\n",
    "print(type(a))"
   ]
  },
  {
   "cell_type": "markdown",
   "metadata": {
    "id": "PM5y8EJOqBJj"
   },
   "source": [
    "\n",
    "Existen varios operadores matemáticos para estos valores numéricos. Estos son:\n",
    "\n",
    "*   Adición:  `+`\n",
    "*   Substracción: `-`\n",
    "*   Multiplicación: `*`\n",
    "*   División: `/`\n",
    "*   Módulo o residuo: `%`\n",
    "*   Exponenciación: `**`\n",
    "*   División y función piso: `//`\n",
    "\n",
    "Además, se pueden usar paréntesis para escribir operaciones compuestas y modificar la precedencia de los operadores.\n",
    "\n"
   ]
  },
  {
   "cell_type": "code",
   "execution_count": 38,
   "metadata": {
    "id": "98YzMC5MrQN_"
   },
   "outputs": [
    {
     "name": "stdout",
     "output_type": "stream",
     "text": [
      "-10 + 4.0 = -6.0\n"
     ]
    }
   ],
   "source": [
    "print(f'-10 + 4.0 = { -10 + 4.0 }')     # Adición"
   ]
  },
  {
   "cell_type": "code",
   "execution_count": 39,
   "metadata": {
    "id": "x0LXjeK5N2PA"
   },
   "outputs": [
    {
     "name": "stdout",
     "output_type": "stream",
     "text": [
      "100j - 0.1j = 99.9j\n"
     ]
    }
   ],
   "source": [
    "print(f'100j - 0.1j = {100j -  0.1j}')    # Substracción"
   ]
  },
  {
   "cell_type": "code",
   "execution_count": 40,
   "metadata": {
    "id": "sq7_7mYoN3bS"
   },
   "outputs": [
    {
     "name": "stdout",
     "output_type": "stream",
     "text": [
      "1e-100 * 0.2 = 2e-101\n"
     ]
    }
   ],
   "source": [
    "print(f'1e-100 * 0.2 = {1e-100 *  0.2}')\t        # Multiplicación"
   ]
  },
  {
   "cell_type": "code",
   "execution_count": 41,
   "metadata": {
    "id": "GP3bgMF6N4rq"
   },
   "outputs": [
    {
     "name": "stdout",
     "output_type": "stream",
     "text": [
      "0.001 / 2 = 0.0005\n"
     ]
    }
   ],
   "source": [
    "print(f'0.001 / 2 = {0.001 / 2}')\t   # División"
   ]
  },
  {
   "cell_type": "code",
   "execution_count": 42,
   "metadata": {
    "id": "KgIWhoSxN5vD"
   },
   "outputs": [
    {
     "name": "stdout",
     "output_type": "stream",
     "text": [
      "15 % 2 = 1\n"
     ]
    }
   ],
   "source": [
    "print(f'15 % 2 = {15 %  2}')\t     # Módulo - No es un operador válido para números complejos\n",
    "# El operador módulo indica el residuo de la división entera\n",
    "# En este caso, la división entera da como resultado 7 y su residuo es 1"
   ]
  },
  {
   "cell_type": "code",
   "execution_count": 43,
   "metadata": {
    "id": "VwUCdPFTts0s"
   },
   "outputs": [
    {
     "name": "stdout",
     "output_type": "stream",
     "text": [
      "14 % 2 = 0\n"
     ]
    }
   ],
   "source": [
    "print(f'14 % 2 = {14 % 2}')\t     # Módulo\n",
    "# En este caso, la división entera da como resultado 7 y su residuo es 0\n",
    "# Esta es una forma de identificar si un número es par o no."
   ]
  },
  {
   "cell_type": "code",
   "execution_count": 44,
   "metadata": {
    "id": "Bo9ddDodN6__"
   },
   "outputs": [
    {
     "name": "stdout",
     "output_type": "stream",
     "text": [
      "2 ** 3 = 8\n"
     ]
    }
   ],
   "source": [
    "print(f'2 ** 3 = {2   **  3}')\t   # Exponenciación"
   ]
  },
  {
   "cell_type": "code",
   "execution_count": 45,
   "metadata": {
    "id": "l1EEbqR3N8WQ"
   },
   "outputs": [
    {
     "name": "stdout",
     "output_type": "stream",
     "text": [
      "15 // 2 = 7\n"
     ]
    }
   ],
   "source": [
    "print(f'15 // 2 = {15  //  2}')   # División y función piso - No es un operador válido para números complejos"
   ]
  },
  {
   "cell_type": "code",
   "execution_count": 46,
   "metadata": {
    "id": "QiOPqsAHN9j4"
   },
   "outputs": [
    {
     "data": {
      "text/plain": [
       "-300"
      ]
     },
     "execution_count": 46,
     "metadata": {},
     "output_type": "execute_result"
    }
   ],
   "source": [
    "#Las operaciones compuestas se definen con paréntesis.\n",
    "\n",
    "-500 + 100*(20 // 2 ** 3)"
   ]
  },
  {
   "cell_type": "markdown",
   "metadata": {
    "id": "MYexqQLZsCSr"
   },
   "source": [
    "### **4.3. Valores y operadores lógicos**\n",
    "---\n",
    "\n",
    "Otro tipo de dato importante es el **booleano**, que representa un valor lógico de verdad. Puede tomar únicamente estos dos valores:\n",
    "\n",
    "*  Verdadero: `True`\n",
    "*  Falso: `False`\n",
    "\n",
    "\n",
    "En *Python*, a diferencia de otros lenguajes de programación, las primitivas lógicas son escritas con la primera letra en mayúscula.\n",
    "\n",
    "Además de con el uso de las dos primitivas lógicas (**`True`** y **`False`**), se pueden obtener valores lógicos con la evaluación de expresiones con **operadores relacionales**. Estos son:\n",
    "\n",
    "*   Igual que. \t\t\t`==`\n",
    "*   Distinto que. \t\t`!=`\n",
    "*   Mayor que. \t\t`>`\n",
    "*   Menor que. \t\t `<`\n",
    "*   Mayor o igual que. `>=`\n",
    "*   Menor o igual que. `<=`"
   ]
  },
  {
   "cell_type": "code",
   "execution_count": 47,
   "metadata": {
    "id": "XrxQOTAYsCSr"
   },
   "outputs": [
    {
     "name": "stdout",
     "output_type": "stream",
     "text": [
      "False\n"
     ]
    }
   ],
   "source": [
    "# Operadores de comparación de datos numéricos.\n",
    "print(-10  ==  4.0)  # Igual que."
   ]
  },
  {
   "cell_type": "code",
   "execution_count": 48,
   "metadata": {
    "id": "n40Yw7qPOEPf"
   },
   "outputs": [
    {
     "name": "stdout",
     "output_type": "stream",
     "text": [
      "True\n"
     ]
    }
   ],
   "source": [
    "print(-10  !=  4.0) # Distinto que."
   ]
  },
  {
   "cell_type": "code",
   "execution_count": 49,
   "metadata": {
    "id": "APBM-iP9OGsr"
   },
   "outputs": [
    {
     "name": "stdout",
     "output_type": "stream",
     "text": [
      "False\n"
     ]
    }
   ],
   "source": [
    "print(-10  >   4.0)  # Mayor que."
   ]
  },
  {
   "cell_type": "code",
   "execution_count": 50,
   "metadata": {
    "id": "fEN1lR6GuwMd"
   },
   "outputs": [
    {
     "name": "stdout",
     "output_type": "stream",
     "text": [
      "True\n"
     ]
    }
   ],
   "source": [
    "# También sirven con datos que tienen orden, como el orden alfanumérico de las cadenas de texto.\n",
    "print('Hola' < 'Hola a todos')"
   ]
  },
  {
   "cell_type": "code",
   "execution_count": 51,
   "metadata": {
    "id": "MujdFQx0OIex"
   },
   "outputs": [
    {
     "name": "stdout",
     "output_type": "stream",
     "text": [
      "True\n"
     ]
    }
   ],
   "source": [
    "print(-10  <   4.0)  # Menor que."
   ]
  },
  {
   "cell_type": "code",
   "execution_count": 52,
   "metadata": {
    "id": "8anQbFFpOJtz"
   },
   "outputs": [
    {
     "name": "stdout",
     "output_type": "stream",
     "text": [
      "False\n"
     ]
    }
   ],
   "source": [
    "print(-10  >=  4.0)  # Mayor o igual que."
   ]
  },
  {
   "cell_type": "code",
   "execution_count": 53,
   "metadata": {
    "id": "5nc0mVCPOLB0"
   },
   "outputs": [
    {
     "name": "stdout",
     "output_type": "stream",
     "text": [
      "True\n"
     ]
    }
   ],
   "source": [
    "print(-10  <=  4.0)  # Menor o igual que."
   ]
  },
  {
   "cell_type": "markdown",
   "metadata": {
    "id": "xhz9PdUWVSIK"
   },
   "source": [
    "También existen operadores lógicos usados para expresiones booleanas compuestas. Estos son:\n",
    "\n",
    "*   AND lógico. \t\t**`and`**\n",
    "*   OR lógico. \t\t  **`or`**\n",
    "*   NOT. negación. \t**`not`**"
   ]
  },
  {
   "cell_type": "code",
   "execution_count": 54,
   "metadata": {
    "id": "7IC0ivGzVIlY"
   },
   "outputs": [],
   "source": [
    "# Operadores de datos lógicos:\n",
    "\n",
    "a = True\n",
    "b = False"
   ]
  },
  {
   "cell_type": "code",
   "execution_count": 55,
   "metadata": {
    "id": "kwtnGqdrOSEK"
   },
   "outputs": [
    {
     "name": "stdout",
     "output_type": "stream",
     "text": [
      "False\n"
     ]
    }
   ],
   "source": [
    "print(a and b)   #AND lógico."
   ]
  },
  {
   "cell_type": "code",
   "execution_count": 56,
   "metadata": {
    "id": "UyDxOwTgOTPb"
   },
   "outputs": [
    {
     "name": "stdout",
     "output_type": "stream",
     "text": [
      "True\n"
     ]
    }
   ],
   "source": [
    "print(a or b)\t   #OR lógico."
   ]
  },
  {
   "cell_type": "code",
   "execution_count": 57,
   "metadata": {
    "id": "1_oHPqmlOU8V"
   },
   "outputs": [
    {
     "name": "stdout",
     "output_type": "stream",
     "text": [
      "False\n"
     ]
    }
   ],
   "source": [
    "print(not a)\t\t #Negación"
   ]
  },
  {
   "cell_type": "code",
   "execution_count": 58,
   "metadata": {
    "id": "fwOjNLJAOWET"
   },
   "outputs": [
    {
     "name": "stdout",
     "output_type": "stream",
     "text": [
      "True\n"
     ]
    }
   ],
   "source": [
    "# Operaciones compuestas\n",
    "\n",
    "print( (a and b) or (not b) )"
   ]
  },
  {
   "cell_type": "markdown",
   "metadata": {
    "id": "OUGF43NNVPbN"
   },
   "source": [
    "Además de estos operadores, se puede usar el operador **`is`**, que valida la identidad de un objeto. Para entender esto, tenemos que por su parte el operador **`==`** valida la igualdad de contenido de un objeto, mientras que el operador **`is`** valida si dos objetos, además de ser iguales en contenido, contienen la misma referencia en memoria, es decir, valida si son el mismo objeto. Si los valores son primitivas numéricas o lógicas el operador **`is`** retornará **`True`**."
   ]
  },
  {
   "cell_type": "code",
   "execution_count": 59,
   "metadata": {
    "id": "8GVApzneVK3s"
   },
   "outputs": [
    {
     "name": "stdout",
     "output_type": "stream",
     "text": [
      "Operador is\n",
      "False\n",
      "True\n"
     ]
    }
   ],
   "source": [
    "# Operador is\n",
    "\n",
    "print('Operador is')\n",
    "a = 1.0\n",
    "b = 1\n",
    "\n",
    "print(a is b) # No tienen el mismo tipo de dato y por lo tanto son objetos distintos.\n",
    "print(a == b) # Contienen el mismo valor al verificar su igualdad."
   ]
  },
  {
   "cell_type": "code",
   "execution_count": 60,
   "metadata": {},
   "outputs": [
    {
     "name": "stdout",
     "output_type": "stream",
     "text": [
      "Operador is\n",
      "True\n",
      "True\n"
     ]
    }
   ],
   "source": [
    "# Operador is\n",
    "\n",
    "print('Operador is')\n",
    "a = 1\n",
    "b = 1\n",
    "\n",
    "print(a is b) # Tienen el mismo tipo de dato y por lo tanto son objetos distintos.\n",
    "print(a == b) # Contienen el mismo valor al verificar su igualdad."
   ]
  },
  {
   "cell_type": "markdown",
   "metadata": {
    "id": "_kCGfF1gMnPv"
   },
   "source": [
    "## **5. Colecciones**\n",
    "---\n",
    "\n",
    "Las colecciones son tipos de datos que permiten almacenar múltiples valores en una misma variable. Las distintas maneras en que se organizan estos datos para su lectura y escritura se conocen como **estructuras de datos**. *Python* tiene 3 estructuras definidas como primitivas por defecto del lenguaje, que pueden ser definidas con sintaxis especial. Para estructuras más complejas, se suele recurrir a la [librería estándar de Python](https://docs.python.org/3/library/) o librerías especializadas como [NumPy](https://numpy.org/) y [Pandas](https://pandas.pydata.org/) que estudiaremos posteriormente."
   ]
  },
  {
   "cell_type": "markdown",
   "metadata": {
    "id": "aJRRsXgnfail"
   },
   "source": [
    "### **5.1. Listas**\n",
    "---\n",
    "Las listas son el tipo de colección más común. Son estructuras de datos ordenadas con longitud variable. Esto quiere decir, que tras su declaración se pueden agregar o eliminar elementos específicos de su contenido. Además, estos elementos ocupan una posición definida secuencialmente, siendo el primer elemento el que ocupa la posición **`0`**.\n",
    "\n",
    "Existen dos formas de declarar listas en *Python*:\n",
    "*   Con llaves cuadradas. &nbsp;&nbsp; **Ejemplo:** `l = []`\n",
    "*   Con la función **`list`**. &nbsp;&nbsp;&nbsp;&nbsp; **Ejemplo:** `l = list()`\n",
    "\n",
    "En el momento de su definición, se pueden definir valores por defecto, separados por coma.\n"
   ]
  },
  {
   "cell_type": "code",
   "execution_count": 61,
   "metadata": {
    "id": "YaHYPSE2xt4v"
   },
   "outputs": [
    {
     "name": "stdout",
     "output_type": "stream",
     "text": [
      "[1, 2, 3, 4, 5]\n"
     ]
    },
    {
     "data": {
      "text/plain": [
       "list"
      ]
     },
     "execution_count": 61,
     "metadata": {},
     "output_type": "execute_result"
    }
   ],
   "source": [
    "l = [1, 2, 3, 4, 5]\n",
    "print(l)\n",
    "type(l)"
   ]
  },
  {
   "cell_type": "markdown",
   "metadata": {
    "id": "0Rz6rP7xxuKd"
   },
   "source": [
    "El tipo de dato de sus elementos no tiene porqué ser el mismo. Por ejemplo:"
   ]
  },
  {
   "cell_type": "code",
   "execution_count": 62,
   "metadata": {
    "id": "1TJj37-qip1r"
   },
   "outputs": [
    {
     "name": "stdout",
     "output_type": "stream",
     "text": [
      "[1, 'Hola', 4.5]\n"
     ]
    },
    {
     "data": {
      "text/plain": [
       "list"
      ]
     },
     "execution_count": 62,
     "metadata": {},
     "output_type": "execute_result"
    }
   ],
   "source": [
    "l = [1, 'Hola', 4.5]\n",
    "print(l)\n",
    "type(l)"
   ]
  },
  {
   "cell_type": "markdown",
   "metadata": {
    "id": "R4czWBaByNvI"
   },
   "source": [
    "Incluso, una lista puede almacenar otras listas anidadas:"
   ]
  },
  {
   "cell_type": "code",
   "execution_count": 63,
   "metadata": {
    "id": "R2TpEWJtyJ12"
   },
   "outputs": [
    {
     "name": "stdout",
     "output_type": "stream",
     "text": [
      "[1, 2.5, [4, 5, 6, 7], 'Fin']\n"
     ]
    },
    {
     "data": {
      "text/plain": [
       "list"
      ]
     },
     "execution_count": 63,
     "metadata": {},
     "output_type": "execute_result"
    }
   ],
   "source": [
    "l = [1, 2.5, [4, 5, 6, 7], \"Fin\"]\n",
    "print(l)\n",
    "type(l)"
   ]
  },
  {
   "cell_type": "markdown",
   "metadata": {
    "id": "D6cuICD5KKFc"
   },
   "source": [
    "Se pueden realizar operaciones entre listas mediante algunos operadores. Es importante tener en cuenta los tipos de dato, pues símbolos como estos funcionan de manera distinta en relación al tipo de dato que manejan. Estos operadores básicos son:\n",
    "\n",
    "*   **Concatenación `+`**: Al aplicar este operador, se agregan los elementos de la segunda lista al final de la primera.\n",
    "*   **Repetición `*`**: Al aplicar este operador, se repiten los elementos la cantidad de veces expresada en el segundo operando."
   ]
  },
  {
   "cell_type": "code",
   "execution_count": 64,
   "metadata": {
    "id": "JKv6AONIKL83"
   },
   "outputs": [],
   "source": [
    "l_a = [1, 2, 3]\n",
    "l_b = ['a', 'b', 'c']"
   ]
  },
  {
   "cell_type": "code",
   "execution_count": 65,
   "metadata": {
    "id": "V7ElnFxeOijb"
   },
   "outputs": [
    {
     "name": "stdout",
     "output_type": "stream",
     "text": [
      "[1, 2, 3, 'a', 'b', 'c']\n"
     ]
    }
   ],
   "source": [
    "# Concatenación\n",
    "print(l_a + l_b)"
   ]
  },
  {
   "cell_type": "code",
   "execution_count": 66,
   "metadata": {
    "id": "7ifQZ2P7OmUj"
   },
   "outputs": [
    {
     "name": "stdout",
     "output_type": "stream",
     "text": [
      "[1, 2, 3, 1, 2, 3, 1, 2, 3]\n"
     ]
    }
   ],
   "source": [
    "# Repetición\n",
    "print(l_a * 3)"
   ]
  },
  {
   "cell_type": "markdown",
   "metadata": {
    "id": "iqjlReUQ7Hcu"
   },
   "source": [
    " Una vez se declara una lista, su contenido puede variar mediante métodos predeterminados. Estos son algunos de los métodos más comunes para ejecutar en listas:\n",
    "\n",
    " *  **`l.append(e)`** : Agrega el elemento **`e`** al final de la lista.\n",
    " *  **`l.remove(e)`** : Elimina la primera aparición del elemento **`e`** de la lista.\n",
    " *  **`l.insert(i, e)`** : Agrega el elemento **`e`** a la lista en la posición **`i`**.\n",
    " *  **`l.pop(i)`** : Elimina y retorna el elemento en la posición **`i`**.\n",
    " *  **`l.sort()`** : Ordena los elementos de menor a mayor. Con el argumento **`reverse = True`** se puede indicar el orden contrario.\n",
    "\n",
    "*  **`l.clear()`**: Vacía la lista.\n",
    "*  **`l.index(e)`**: Retorna la posición del elemento **`e`**.\n",
    "*  **`l.copy()`**: Crea y retorna una copia de la lista.\n"
   ]
  },
  {
   "cell_type": "code",
   "execution_count": 67,
   "metadata": {
    "id": "RX2M51Ah7H9a"
   },
   "outputs": [],
   "source": [
    "lista = ['c', 'a', 'b', 'x']"
   ]
  },
  {
   "cell_type": "code",
   "execution_count": 68,
   "metadata": {
    "id": "9PL_EpN5MAbY"
   },
   "outputs": [
    {
     "name": "stdout",
     "output_type": "stream",
     "text": [
      "['c', 'a', 'b', 'x', 'd']\n"
     ]
    }
   ],
   "source": [
    "lista.append('d')\n",
    "print(lista)"
   ]
  },
  {
   "cell_type": "code",
   "execution_count": 69,
   "metadata": {
    "id": "gsFI_IkRMDtN"
   },
   "outputs": [
    {
     "name": "stdout",
     "output_type": "stream",
     "text": [
      "['e', 'c', 'a', 'b', 'x', 'd']\n"
     ]
    }
   ],
   "source": [
    "lista.insert(0 , 'e')\n",
    "print(lista)"
   ]
  },
  {
   "cell_type": "code",
   "execution_count": 70,
   "metadata": {
    "id": "AUunUCzdMGAu"
   },
   "outputs": [
    {
     "name": "stdout",
     "output_type": "stream",
     "text": [
      "['a', 'b', 'c', 'd', 'e', 'x']\n"
     ]
    }
   ],
   "source": [
    "lista.sort()\n",
    "print(lista)"
   ]
  },
  {
   "cell_type": "code",
   "execution_count": 71,
   "metadata": {
    "id": "Gxz48MGqMIEx"
   },
   "outputs": [
    {
     "name": "stdout",
     "output_type": "stream",
     "text": [
      "['a', 'b', 'c', 'e', 'x']\n"
     ]
    }
   ],
   "source": [
    "lista.remove('d')\n",
    "print(lista)"
   ]
  },
  {
   "cell_type": "code",
   "execution_count": 72,
   "metadata": {
    "id": "7-KHaiMd-8zS"
   },
   "outputs": [],
   "source": [
    "# Otra forma de eliminar un elemento de la lista por su índice\n",
    "del lista[4]"
   ]
  },
  {
   "cell_type": "code",
   "execution_count": 73,
   "metadata": {
    "id": "DqgAO-hwMJTA"
   },
   "outputs": [
    {
     "name": "stdout",
     "output_type": "stream",
     "text": [
      "['a', 'c', 'e']\n",
      "b\n"
     ]
    }
   ],
   "source": [
    "eliminado = lista.pop(1) # Elimina un elemento por su índice y retorna su valor\n",
    "print(lista)\n",
    "print(eliminado)"
   ]
  },
  {
   "cell_type": "code",
   "execution_count": 74,
   "metadata": {
    "id": "7lvxBWCKMKyT"
   },
   "outputs": [
    {
     "name": "stdout",
     "output_type": "stream",
     "text": [
      "2\n"
     ]
    }
   ],
   "source": [
    "print(lista.index('e')) # El primer elemento tiene el índice 0"
   ]
  },
  {
   "cell_type": "code",
   "execution_count": 75,
   "metadata": {
    "id": "GzjAhHRHMMBp"
   },
   "outputs": [
    {
     "name": "stdout",
     "output_type": "stream",
     "text": [
      "['a', 'c', 'e']\n"
     ]
    }
   ],
   "source": [
    "copia = lista.copy()\n",
    "print(copia)"
   ]
  },
  {
   "cell_type": "code",
   "execution_count": 76,
   "metadata": {
    "id": "F8AkKE1yzD9w"
   },
   "outputs": [
    {
     "name": "stdout",
     "output_type": "stream",
     "text": [
      "True\n",
      "False\n"
     ]
    }
   ],
   "source": [
    "print(lista == copia) # True - contienen los mismos elementos\n",
    "print(lista is copia) # False - son objetos diferentes"
   ]
  },
  {
   "cell_type": "code",
   "execution_count": 77,
   "metadata": {
    "id": "GnvLhBqdMNcF"
   },
   "outputs": [
    {
     "name": "stdout",
     "output_type": "stream",
     "text": [
      "[]\n",
      "['a', 'c', 'e']\n"
     ]
    }
   ],
   "source": [
    "lista.clear()\n",
    "print(lista)\n",
    "print(copia)"
   ]
  },
  {
   "cell_type": "markdown",
   "metadata": {
    "id": "CYgNz2br00v8"
   },
   "source": [
    "Para reasignar el valor de un elemento de la lista:"
   ]
  },
  {
   "cell_type": "code",
   "execution_count": 78,
   "metadata": {
    "id": "pbZmN7wi0zxZ"
   },
   "outputs": [
    {
     "name": "stdout",
     "output_type": "stream",
     "text": [
      "['a', 'Nuevo valor', 'e']\n"
     ]
    }
   ],
   "source": [
    "copia[1] = 'Nuevo valor'\n",
    "print(copia)"
   ]
  },
  {
   "cell_type": "markdown",
   "metadata": {
    "id": "XqTSohuL1xYZ"
   },
   "source": [
    "El operador **`in`** es muy utilizado para saber si un elemento pertenece a una lista:"
   ]
  },
  {
   "cell_type": "code",
   "execution_count": 79,
   "metadata": {
    "id": "MjHmRoEx14Z4"
   },
   "outputs": [
    {
     "data": {
      "text/plain": [
       "False"
      ]
     },
     "execution_count": 79,
     "metadata": {},
     "output_type": "execute_result"
    }
   ],
   "source": [
    "'x' in copia"
   ]
  },
  {
   "cell_type": "code",
   "execution_count": 80,
   "metadata": {
    "id": "g8CESIMD2BKy"
   },
   "outputs": [
    {
     "data": {
      "text/plain": [
       "True"
      ]
     },
     "execution_count": 80,
     "metadata": {},
     "output_type": "execute_result"
    }
   ],
   "source": [
    "'e' in copia"
   ]
  },
  {
   "cell_type": "markdown",
   "metadata": {
    "id": "XElWfyFdoqmM"
   },
   "source": [
    "Además de con métodos, los elementos contenidos en una lista pueden ser accedidos por medio de su índice o posición en la lista. Para esto se usa la sintaxis de llaves cuadradas `[` y `]`. Dentro de las llaves se indica el índice o el rango de elementos que se desea retornar o modificar, siendo el primer elemento el del índice $0$. Las formas de usar estos índices es la siguiente:\n",
    "\n",
    "*   **`l[i]`**: Se retorna el elemento en la posición **`i`**.\n",
    "* **`l[-i]`**: Si se indican elementos negativos el conteo de la posición se hace desde el final de la lista.\n",
    "*   **`l[a:b]`**: Se retornan los elementos desde la posición **`a`** (incluida) hasta la posición **`b`** (excluida).\n",
    "*   **`l[a:b:n]`**: Se retornan los elementos desde la posición **`a`** (incluida) hasta la posición **`b`** (excluida), dando saltos cada **`n`** elementos.\n"
   ]
  },
  {
   "cell_type": "code",
   "execution_count": 81,
   "metadata": {
    "id": "F6HYz6z-q0CT"
   },
   "outputs": [],
   "source": [
    "lista = [1, 2, 3, 4, 5, 6, 7, 8]"
   ]
  },
  {
   "cell_type": "code",
   "execution_count": 82,
   "metadata": {
    "id": "leMVoLSlOyi6"
   },
   "outputs": [
    {
     "name": "stdout",
     "output_type": "stream",
     "text": [
      "1\n"
     ]
    }
   ],
   "source": [
    "print(lista[0]) # El elemento en el índice 0 es el de la primera posición."
   ]
  },
  {
   "cell_type": "code",
   "execution_count": 83,
   "metadata": {
    "id": "aZ3T8bAlO9db"
   },
   "outputs": [
    {
     "name": "stdout",
     "output_type": "stream",
     "text": [
      "8\n"
     ]
    }
   ],
   "source": [
    "print(lista[-1]) # El elemento en la posición -1 es el último de la lista."
   ]
  },
  {
   "cell_type": "code",
   "execution_count": 84,
   "metadata": {
    "id": "RJd_tbmyPFd8"
   },
   "outputs": [
    {
     "name": "stdout",
     "output_type": "stream",
     "text": [
      "[1, 2, 3]\n"
     ]
    }
   ],
   "source": [
    "print(lista[0:3])"
   ]
  },
  {
   "cell_type": "code",
   "execution_count": 85,
   "metadata": {
    "id": "oQyoTJVOPK1a"
   },
   "outputs": [
    {
     "name": "stdout",
     "output_type": "stream",
     "text": [
      "[1, 3, 5, 7]\n"
     ]
    }
   ],
   "source": [
    "print(lista[0:7:2])"
   ]
  },
  {
   "cell_type": "code",
   "execution_count": 86,
   "metadata": {
    "id": "YAR5Op1yPS21"
   },
   "outputs": [
    {
     "name": "stdout",
     "output_type": "stream",
     "text": [
      "[1, 2, 3]\n"
     ]
    }
   ],
   "source": [
    "print(lista[:3]) # Si no se agrega el inicio, Python lo interpreta como el inicio de la lista."
   ]
  },
  {
   "cell_type": "code",
   "execution_count": 87,
   "metadata": {
    "id": "6Ntva4CvPcNh"
   },
   "outputs": [
    {
     "name": "stdout",
     "output_type": "stream",
     "text": [
      "[4, 5, 6, 7, 8]\n"
     ]
    }
   ],
   "source": [
    "print(lista[3:]) # Si no se agrega el final, Python lo interpreta como el final de la lista."
   ]
  },
  {
   "cell_type": "code",
   "execution_count": 88,
   "metadata": {
    "id": "euPMR_7EPlxB"
   },
   "outputs": [
    {
     "name": "stdout",
     "output_type": "stream",
     "text": [
      "[8, 7, 6, 5, 4, 3, 2, 1]\n"
     ]
    }
   ],
   "source": [
    "print(lista[::-1]) #Se pueden omitir ambos. Si el paso es negativo, se realiza la iteración desde el final."
   ]
  },
  {
   "cell_type": "markdown",
   "metadata": {
    "id": "pUXJK7YS2IHy"
   },
   "source": [
    "Esto mismo aplica cuando tenemos listas anidadas:"
   ]
  },
  {
   "cell_type": "code",
   "execution_count": 89,
   "metadata": {
    "id": "voMB0byUDcja"
   },
   "outputs": [],
   "source": [
    "anidada = [1, 2, [3, 4], 5]"
   ]
  },
  {
   "cell_type": "code",
   "execution_count": 90,
   "metadata": {
    "id": "HX0Dye88Dcjc"
   },
   "outputs": [
    {
     "data": {
      "text/plain": [
       "[3, 4]"
      ]
     },
     "execution_count": 90,
     "metadata": {},
     "output_type": "execute_result"
    }
   ],
   "source": [
    "anidada[2]"
   ]
  },
  {
   "cell_type": "code",
   "execution_count": 91,
   "metadata": {
    "id": "e51T5pcDDcje"
   },
   "outputs": [
    {
     "data": {
      "text/plain": [
       "4"
      ]
     },
     "execution_count": 91,
     "metadata": {},
     "output_type": "execute_result"
    }
   ],
   "source": [
    "anidada[2][1]"
   ]
  },
  {
   "cell_type": "code",
   "execution_count": 92,
   "metadata": {
    "id": "x8ZkhMKZDcjg"
   },
   "outputs": [],
   "source": [
    "anidada = [1, 2, 3, [4, 5, ['objetivo']], 10]"
   ]
  },
  {
   "cell_type": "code",
   "execution_count": 93,
   "metadata": {
    "id": "OHrC8y0SDcjh"
   },
   "outputs": [
    {
     "data": {
      "text/plain": [
       "[4, 5, ['objetivo']]"
      ]
     },
     "execution_count": 93,
     "metadata": {},
     "output_type": "execute_result"
    }
   ],
   "source": [
    "anidada[3]"
   ]
  },
  {
   "cell_type": "code",
   "execution_count": 94,
   "metadata": {
    "id": "ek3utVR1Dcji"
   },
   "outputs": [
    {
     "data": {
      "text/plain": [
       "['objetivo']"
      ]
     },
     "execution_count": 94,
     "metadata": {},
     "output_type": "execute_result"
    }
   ],
   "source": [
    "anidada[3][2]"
   ]
  },
  {
   "cell_type": "code",
   "execution_count": 95,
   "metadata": {
    "id": "IKxiqLhVDcjm"
   },
   "outputs": [
    {
     "data": {
      "text/plain": [
       "'objetivo'"
      ]
     },
     "execution_count": 95,
     "metadata": {},
     "output_type": "execute_result"
    }
   ],
   "source": [
    "anidada[3][2][0]"
   ]
  },
  {
   "cell_type": "markdown",
   "metadata": {
    "id": "fbUr9oZjqOv6"
   },
   "source": [
    "Las cadenas de texto pueden interpretarse como listas de caracteres. Se pueden usar las operaciones con índices de las listas para trocear subcadenas de texto directamente."
   ]
  },
  {
   "cell_type": "code",
   "execution_count": 96,
   "metadata": {
    "id": "SPZyXtDxDcic"
   },
   "outputs": [],
   "source": [
    "s = \"Análisis y Visualización de Datos con Python - Cool\""
   ]
  },
  {
   "cell_type": "code",
   "execution_count": 97,
   "metadata": {
    "id": "mEis3UffDcih"
   },
   "outputs": [
    {
     "data": {
      "text/plain": [
       "'A'"
      ]
     },
     "execution_count": 97,
     "metadata": {},
     "output_type": "execute_result"
    }
   ],
   "source": [
    "s[0]"
   ]
  },
  {
   "cell_type": "code",
   "execution_count": 98,
   "metadata": {
    "id": "Iun3pxXXDcik"
   },
   "outputs": [
    {
     "data": {
      "text/plain": [
       "'l'"
      ]
     },
     "execution_count": 98,
     "metadata": {},
     "output_type": "execute_result"
    }
   ],
   "source": [
    "s[3]"
   ]
  },
  {
   "cell_type": "code",
   "execution_count": 99,
   "metadata": {
    "id": "5qgh87v-pM0T"
   },
   "outputs": [
    {
     "data": {
      "text/plain": [
       "'Python'"
      ]
     },
     "execution_count": 99,
     "metadata": {},
     "output_type": "execute_result"
    }
   ],
   "source": [
    "s[38:44]"
   ]
  },
  {
   "cell_type": "code",
   "execution_count": 100,
   "metadata": {
    "id": "8oeMFF4GDcin"
   },
   "outputs": [
    {
     "data": {
      "text/plain": [
       "'Python - Cool'"
      ]
     },
     "execution_count": 100,
     "metadata": {},
     "output_type": "execute_result"
    }
   ],
   "source": [
    "s[38:]"
   ]
  },
  {
   "cell_type": "code",
   "execution_count": 101,
   "metadata": {
    "id": "gJgq9Y8uDcir"
   },
   "outputs": [
    {
     "data": {
      "text/plain": [
       "'Análisis y Visualización '"
      ]
     },
     "execution_count": 101,
     "metadata": {},
     "output_type": "execute_result"
    }
   ],
   "source": [
    "s[:25]"
   ]
  },
  {
   "cell_type": "code",
   "execution_count": 102,
   "metadata": {
    "id": "DpBKbq199zCc"
   },
   "outputs": [
    {
     "data": {
      "text/plain": [
       "'Cool'"
      ]
     },
     "execution_count": 102,
     "metadata": {},
     "output_type": "execute_result"
    }
   ],
   "source": [
    "s[-4:]"
   ]
  },
  {
   "cell_type": "code",
   "execution_count": 103,
   "metadata": {
    "id": "2QYDlWjJDciw"
   },
   "outputs": [
    {
     "data": {
      "text/plain": [
       "'Análisis y Visualización de Datos con Python - Cool'"
      ]
     },
     "execution_count": 103,
     "metadata": {},
     "output_type": "execute_result"
    }
   ],
   "source": [
    "s[:]"
   ]
  },
  {
   "cell_type": "code",
   "execution_count": 104,
   "metadata": {
    "id": "mYVMMg8BDci1"
   },
   "outputs": [
    {
     "data": {
      "text/plain": [
       "'looC - nohtyP noc sotaD ed nóicazilausiV y sisilánA'"
      ]
     },
     "execution_count": 104,
     "metadata": {},
     "output_type": "execute_result"
    }
   ],
   "source": [
    "s[::-1]"
   ]
  },
  {
   "cell_type": "code",
   "execution_count": 105,
   "metadata": {
    "id": "0Ehc5eEUqy7b"
   },
   "outputs": [
    {
     "name": "stdout",
     "output_type": "stream",
     "text": [
      "amolap acifícap al omA\n"
     ]
    }
   ],
   "source": [
    "s = 'Amo la pacífica paloma'\n",
    "print(s[::-1])"
   ]
  },
  {
   "cell_type": "code",
   "execution_count": 106,
   "metadata": {
    "id": "fWFPl0_-QM5V"
   },
   "outputs": [
    {
     "data": {
      "text/plain": [
       "'Este mensaje está oculto'"
      ]
     },
     "execution_count": 106,
     "metadata": {},
     "output_type": "execute_result"
    }
   ],
   "source": [
    "s = 'Exsxtxex xmxexnxsxaxjxex xexsxtxáx xoxcxuxlxtxox'\n",
    "s[0::2]"
   ]
  },
  {
   "cell_type": "markdown",
   "metadata": {
    "id": "wQJ3yhB8fe8E"
   },
   "source": [
    "### **5.2. Tuplas**\n",
    "---\n",
    "\n",
    "Las tuplas son casi idénticas a las listas. La única diferencia importante entre ambos tipos de dato es que las tuplas son **inmutables**. Esto quiere decir que una vez que son declaradas, no es posible modificar sus valores. Una variable con una tupla puede recibir valores distintos, pero los elementos particulares de la tupla son inalterables en toda la ejecución del programa.\n",
    "\n",
    "Las tuplas son declaradas con la sintaxis de paréntesis `(` y `)`, separando los elementos con comas `,`. Al igual que con las listas, los tipos de dato de los elementos de una tupla pueden ser distintos.\n"
   ]
  },
  {
   "cell_type": "code",
   "execution_count": 107,
   "metadata": {
    "id": "BusRfoHxDcj-"
   },
   "outputs": [],
   "source": [
    "tupla = (1, 2, 3)"
   ]
  },
  {
   "cell_type": "code",
   "execution_count": 108,
   "metadata": {
    "id": "MX0ZtBqiDcj_"
   },
   "outputs": [
    {
     "data": {
      "text/plain": [
       "(1, 2, 3)"
      ]
     },
     "execution_count": 108,
     "metadata": {},
     "output_type": "execute_result"
    }
   ],
   "source": [
    "tupla"
   ]
  },
  {
   "cell_type": "code",
   "execution_count": 109,
   "metadata": {
    "id": "mZJbo5IoDckA"
   },
   "outputs": [
    {
     "data": {
      "text/plain": [
       "1"
      ]
     },
     "execution_count": 109,
     "metadata": {},
     "output_type": "execute_result"
    }
   ],
   "source": [
    "tupla[0]"
   ]
  },
  {
   "cell_type": "code",
   "execution_count": 110,
   "metadata": {
    "id": "QkWRmEIzDckA"
   },
   "outputs": [],
   "source": [
    "#tupla[0] = 'Nuevo valor' # las tuplas son inmutables, no se puede reasignar.\n",
    "# ¡Cuidado! Obtendrá un error si se ejecuta"
   ]
  },
  {
   "cell_type": "code",
   "execution_count": 111,
   "metadata": {
    "id": "RD3KrYv34U3j"
   },
   "outputs": [
    {
     "data": {
      "text/plain": [
       "(1, 2, 3)"
      ]
     },
     "execution_count": 111,
     "metadata": {},
     "output_type": "execute_result"
    }
   ],
   "source": [
    "tupla"
   ]
  },
  {
   "cell_type": "markdown",
   "metadata": {
    "id": "BvHS-VDa4nFy"
   },
   "source": [
    "Podrían contener varios tipos de dato:"
   ]
  },
  {
   "cell_type": "code",
   "execution_count": 112,
   "metadata": {
    "id": "6I8ayyGpitXu"
   },
   "outputs": [
    {
     "name": "stdout",
     "output_type": "stream",
     "text": [
      "(0, [1, 2, 3], 'cadena')\n"
     ]
    }
   ],
   "source": [
    "t = ( 0, [1,2,3], 'cadena')\n",
    "print(t)"
   ]
  },
  {
   "cell_type": "markdown",
   "metadata": {
    "id": "fqgZEeqjb__n"
   },
   "source": [
    "Las tuplas son particularmente útiles como valores de retorno de funciones. Gracias a ellas, se pueden definir valores de retorno separados por coma y luego, al llamar la función, desestructurar los valores en variables distintas. La definición de funciones se verá más adelante en el material."
   ]
  },
  {
   "cell_type": "markdown",
   "metadata": {
    "id": "ZyGEo5ZdffF0"
   },
   "source": [
    "### **5.3. Conjuntos**\n",
    "---\n",
    "\n",
    "*Python* permite la definición directa de conjuntos con la sintaxis de llaves curvadas `{`y `}`, con elementos separados por comas `,`. Los conjuntos son colecciones de datos sin orden. Las operaciones definidas en conjuntos corresponden en su mayoría a aquellas del concepto matemático de conjunto. Los elementos no se indexan, sino que se añaden o eliminan directamente. Después, se puede validar si un elemento pertenece o no a un conjunto. Si se desea declarar un conjunto vacío, se tiene que usar la función **`set()`**.\n"
   ]
  },
  {
   "cell_type": "code",
   "execution_count": 113,
   "metadata": {
    "id": "hAmYOfqyDckD"
   },
   "outputs": [
    {
     "data": {
      "text/plain": [
       "{1, 2, 3}"
      ]
     },
     "execution_count": 113,
     "metadata": {},
     "output_type": "execute_result"
    }
   ],
   "source": [
    "{1, 2, 3}"
   ]
  },
  {
   "cell_type": "code",
   "execution_count": 114,
   "metadata": {
    "id": "QSiK2W33DckE"
   },
   "outputs": [
    {
     "data": {
      "text/plain": [
       "{1, 2, 3}"
      ]
     },
     "execution_count": 114,
     "metadata": {},
     "output_type": "execute_result"
    }
   ],
   "source": [
    "{1, 2, 3, 1, 2, 1, 2, 3, 3, 3, 3, 2, 2, 2, 1, 1, 2}"
   ]
  },
  {
   "cell_type": "code",
   "execution_count": 115,
   "metadata": {
    "id": "2YVVO2sLDckG"
   },
   "outputs": [
    {
     "name": "stdout",
     "output_type": "stream",
     "text": [
      "{1, 2, 3}\n"
     ]
    }
   ],
   "source": [
    "s = {1, 2, 3}\n",
    "print(s)"
   ]
  },
  {
   "cell_type": "code",
   "execution_count": 116,
   "metadata": {
    "id": "CRpSMKK-DckF"
   },
   "outputs": [
    {
     "data": {
      "text/plain": [
       "{1, 2, 3, 6, 8}"
      ]
     },
     "execution_count": 116,
     "metadata": {},
     "output_type": "execute_result"
    }
   ],
   "source": [
    "# Conjunto construido a partir de una lista\n",
    "set([1, 1, 1, 2, 2, 6, 6, 2, 8, 1, 3])"
   ]
  },
  {
   "cell_type": "code",
   "execution_count": 117,
   "metadata": {
    "id": "moY9MdUyiuBi"
   },
   "outputs": [
    {
     "name": "stdout",
     "output_type": "stream",
     "text": [
      "set()\n"
     ]
    }
   ],
   "source": [
    "# Conjunto vacío.\n",
    "s = set()\n",
    "print(s)"
   ]
  },
  {
   "cell_type": "markdown",
   "metadata": {
    "id": "icS0imVZ4_1s"
   },
   "source": [
    "Algunas de las operaciones definidas en conjuntos son.\n",
    "\n",
    "*   **`s.add(e)`** : Añade el elemento **`e`** al conjunto **`s`**. Si ya existe un elemento igual no ocurre nada.\n",
    "*   **`s.remove(e)`** : Elimina el elemento **`e`** del conjunto **`s`**. Si no existe, arroja un error.\n",
    "*   **`s.discard(e)`** : Elimina el elemento **`e`** del conjunto **`s`**. Si no existe no ocurre nada.\n",
    "*   **`s.pop()`** : Elimina y retorna un elemento aleatorio del conjunto **`s`**.\n",
    "*   **`s.clear()`** : Vacía el conjunto.\n",
    "*   **`s.copy()`** : Retorna una copia del conjunto **`s`**.\n"
   ]
  },
  {
   "cell_type": "code",
   "execution_count": 118,
   "metadata": {
    "id": "TAt8j_OQQx_F"
   },
   "outputs": [
    {
     "name": "stdout",
     "output_type": "stream",
     "text": [
      "{'b', 'c', 'a'}\n"
     ]
    }
   ],
   "source": [
    "s.add('a')\n",
    "s.add('b')\n",
    "s.add('a')\n",
    "s.add('c')\n",
    "print(s)"
   ]
  },
  {
   "cell_type": "code",
   "execution_count": 119,
   "metadata": {
    "id": "V-ScalZURsK_"
   },
   "outputs": [
    {
     "name": "stdout",
     "output_type": "stream",
     "text": [
      "{'b', 'a'}\n"
     ]
    }
   ],
   "source": [
    "s.remove('c') # Si el elemento no está en el conjunto, arroja un error.\n",
    "print(s)"
   ]
  },
  {
   "cell_type": "code",
   "execution_count": 120,
   "metadata": {
    "id": "ro1d2rK_Rn8i"
   },
   "outputs": [
    {
     "name": "stdout",
     "output_type": "stream",
     "text": [
      "{'b', 'a'}\n"
     ]
    }
   ],
   "source": [
    "s.discard('c') # Si el elemento no está en el conjunto, ignora la operación.\n",
    "print(s)"
   ]
  },
  {
   "cell_type": "code",
   "execution_count": 121,
   "metadata": {
    "id": "zG1M-JgWR84_"
   },
   "outputs": [
    {
     "name": "stdout",
     "output_type": "stream",
     "text": [
      "b\n",
      "{'a'}\n"
     ]
    }
   ],
   "source": [
    "print(s.pop())\n",
    "print(s)"
   ]
  },
  {
   "cell_type": "markdown",
   "metadata": {
    "id": "APZ4NSLARgnx"
   },
   "source": [
    "Además, se definen algunos métodos específicos para realizar operaciones entre conjuntos. Para dos conjuntos **`a`** y **`b`** se definen:\n",
    "\n",
    "*  **`a.difference(b)`** : Retorna un conjunto con los elementos que están en **`a`** pero no en **`b`**.\n",
    "*  **`a.intersection(b)`** : Retorna un conjunto con los elementos que están tanto en **`a`** como en **`b`**.\n",
    "*  **`a.union(b)`** : Retorna un conjunto con los elementos que están en **`a`** y los que están en **`b`**.\n",
    "*  **`a.symmetric_difference(b)`** : Retorna un conjunto con los elementos que están en **`a`** o en **`b`**, pero no en ambos.\n",
    "\n",
    "* **`a.issuperset(b)`** : Evalúa si el conjunto **`a`** contiene todos los elementos del conjunto **`b`**.\n",
    "*  **`a.issubset(b)`** : Evalúa si todos los elementos del conjunto **`a`** pertenecen al conjunto **`b`**.\n",
    "*  **`a.isdisjoint(b)`** : Evalúa si los conjuntos **`a`** y **`b`** son disyuntos. Es decir, si ninguno de sus elementos pertenece al otro conjunto."
   ]
  },
  {
   "cell_type": "code",
   "execution_count": 122,
   "metadata": {
    "id": "s75VmzrISUVu"
   },
   "outputs": [],
   "source": [
    "a = { 'a', 'b', 'c', 'd', 'e', 'f', 'g'}\n",
    "b = { 'a' ,'b', 'c', 'd', 'e', 'x'}"
   ]
  },
  {
   "cell_type": "code",
   "execution_count": 123,
   "metadata": {
    "id": "a-upTR8jSe0W"
   },
   "outputs": [
    {
     "data": {
      "text/plain": [
       "{'f', 'g'}"
      ]
     },
     "execution_count": 123,
     "metadata": {},
     "output_type": "execute_result"
    }
   ],
   "source": [
    "a.difference(b)"
   ]
  },
  {
   "cell_type": "code",
   "execution_count": 124,
   "metadata": {
    "id": "lNPHb6AzSk97"
   },
   "outputs": [
    {
     "data": {
      "text/plain": [
       "{'a', 'b', 'c', 'd', 'e'}"
      ]
     },
     "execution_count": 124,
     "metadata": {},
     "output_type": "execute_result"
    }
   ],
   "source": [
    "a.intersection(b)"
   ]
  },
  {
   "cell_type": "code",
   "execution_count": 125,
   "metadata": {
    "id": "5kNCnbitSn95"
   },
   "outputs": [
    {
     "data": {
      "text/plain": [
       "{'a', 'b', 'c', 'd', 'e', 'f', 'g', 'x'}"
      ]
     },
     "execution_count": 125,
     "metadata": {},
     "output_type": "execute_result"
    }
   ],
   "source": [
    "a.union(b)"
   ]
  },
  {
   "cell_type": "code",
   "execution_count": 126,
   "metadata": {
    "id": "cf9iRvV6Soch"
   },
   "outputs": [
    {
     "data": {
      "text/plain": [
       "{'f', 'g', 'x'}"
      ]
     },
     "execution_count": 126,
     "metadata": {},
     "output_type": "execute_result"
    }
   ],
   "source": [
    "a.symmetric_difference(b)"
   ]
  },
  {
   "cell_type": "code",
   "execution_count": 127,
   "metadata": {
    "id": "rIj_qQr0So7J"
   },
   "outputs": [
    {
     "data": {
      "text/plain": [
       "False"
      ]
     },
     "execution_count": 127,
     "metadata": {},
     "output_type": "execute_result"
    }
   ],
   "source": [
    "a.issuperset(b)"
   ]
  },
  {
   "cell_type": "code",
   "execution_count": 128,
   "metadata": {
    "id": "W2ePSjxaTArK"
   },
   "outputs": [
    {
     "data": {
      "text/plain": [
       "False"
      ]
     },
     "execution_count": 128,
     "metadata": {},
     "output_type": "execute_result"
    }
   ],
   "source": [
    "a.issubset(b)"
   ]
  },
  {
   "cell_type": "code",
   "execution_count": 129,
   "metadata": {
    "id": "xTwmcdmcTC1-"
   },
   "outputs": [
    {
     "data": {
      "text/plain": [
       "False"
      ]
     },
     "execution_count": 129,
     "metadata": {},
     "output_type": "execute_result"
    }
   ],
   "source": [
    "a.isdisjoint(b)"
   ]
  },
  {
   "cell_type": "markdown",
   "metadata": {
    "id": "z-Qwu8J-Hv8C"
   },
   "source": [
    "### **5.4. Diccionarios**\n",
    "---\n",
    "Los diccionarios son una estructura de datos sin orden, como los conjuntos, de **pares clave-valor**. Las claves que se definen son únicas y permiten consultar los valores almacenados en el diccionario directamente usando la clave en vez de una posición. Al igual que con los conjuntos, se declaran con la notación de llaves curvadas `{` y `}` con parejas **`clave : valor`** separadas por coma."
   ]
  },
  {
   "cell_type": "code",
   "execution_count": 130,
   "metadata": {
    "id": "UTbQHmc3jsGg"
   },
   "outputs": [
    {
     "name": "stdout",
     "output_type": "stream",
     "text": [
      "{'clave': 'valor', 'clave1': 'valor1'}\n"
     ]
    }
   ],
   "source": [
    "clave = 'clave' #Cualquier objeto inmutable, como cadenas, números o tuplas.\n",
    "valor = 'valor'\n",
    "diccionario = {\n",
    "                 clave : valor,\n",
    "                 clave + '1' : valor + '1'\n",
    "              }\n",
    "\n",
    "print(diccionario)"
   ]
  },
  {
   "cell_type": "markdown",
   "metadata": {
    "id": "Mg9KP2e8jsb9"
   },
   "source": [
    "Para acceder a los elementos de un diccionario se utiliza una sintaxis similar a la utilizada en listas y tuplas con llaves cuadradas `[` y `]`.  Dentro de las llaves se indica la clave asociada, que puede ser cualquier tipo de dato inmutable como valores numéricos, tuplas, o cadenas de texto. Las claves solo pueden estar asociadas a un elemento, por lo que al asignar valores a una clave previamente ocupada se sobreescribe el valor anterior."
   ]
  },
  {
   "cell_type": "code",
   "execution_count": 131,
   "metadata": {
    "id": "AWvWee2HjuVZ"
   },
   "outputs": [
    {
     "name": "stdout",
     "output_type": "stream",
     "text": [
      "{'a': 'a', (0, 1): 'tupla'}\n"
     ]
    }
   ],
   "source": [
    "d = {}\n",
    "\n",
    "d['a'] = 'a'\n",
    "d[(0,1)] = 'tupla'\n",
    "\n",
    "print(d)"
   ]
  },
  {
   "cell_type": "code",
   "execution_count": 132,
   "metadata": {
    "id": "Ye1_t3_9Dcjs"
   },
   "outputs": [
    {
     "name": "stdout",
     "output_type": "stream",
     "text": [
      "{100: 'elemento 1', 'clave2': 2000}\n"
     ]
    }
   ],
   "source": [
    "d = {100:'elemento 1',\n",
    "     'clave2':2000}\n",
    "\n",
    "print(d)"
   ]
  },
  {
   "cell_type": "code",
   "execution_count": 133,
   "metadata": {
    "id": "FejgOggYDcju"
   },
   "outputs": [],
   "source": [
    "#d[0]\n",
    "#Saldrá un error. Por eso está comentado.\n",
    "#Los diccionarios no se indexan numéricamente, sino por sus claves y en este caso 0 no es una clave válida."
   ]
  },
  {
   "cell_type": "code",
   "execution_count": 134,
   "metadata": {
    "id": "GyRZdGnmDcjv"
   },
   "outputs": [
    {
     "data": {
      "text/plain": [
       "'elemento 1'"
      ]
     },
     "execution_count": 134,
     "metadata": {},
     "output_type": "execute_result"
    }
   ],
   "source": [
    "d[100]"
   ]
  },
  {
   "cell_type": "code",
   "execution_count": 135,
   "metadata": {
    "id": "nZGA-fAYDcjv"
   },
   "outputs": [
    {
     "data": {
      "text/plain": [
       "2000"
      ]
     },
     "execution_count": 135,
     "metadata": {},
     "output_type": "execute_result"
    }
   ],
   "source": [
    "d['clave2']"
   ]
  },
  {
   "cell_type": "code",
   "execution_count": 136,
   "metadata": {
    "id": "oJGnlsKBDcjw"
   },
   "outputs": [
    {
     "data": {
      "text/plain": [
       "{100: 'elemento 1', 'clave2': 2000}"
      ]
     },
     "execution_count": 136,
     "metadata": {},
     "output_type": "execute_result"
    }
   ],
   "source": [
    "d"
   ]
  },
  {
   "cell_type": "code",
   "execution_count": 137,
   "metadata": {
    "id": "JSwGGGjPDcjx"
   },
   "outputs": [],
   "source": [
    "d = {'k1':[1, 2, 3, 4, 5], 'k2': 'Hola'}"
   ]
  },
  {
   "cell_type": "code",
   "execution_count": 138,
   "metadata": {
    "id": "OReVtAxHDcjy"
   },
   "outputs": [
    {
     "data": {
      "text/plain": [
       "[1, 2, 3, 4, 5]"
      ]
     },
     "execution_count": 138,
     "metadata": {},
     "output_type": "execute_result"
    }
   ],
   "source": [
    "d['k1']"
   ]
  },
  {
   "cell_type": "code",
   "execution_count": 139,
   "metadata": {
    "id": "svdAxtpcDcj0"
   },
   "outputs": [],
   "source": [
    "lista = d['k1']"
   ]
  },
  {
   "cell_type": "code",
   "execution_count": 140,
   "metadata": {
    "id": "Bvz2uDAODcj1"
   },
   "outputs": [
    {
     "data": {
      "text/plain": [
       "[1, 2, 3, 4, 5]"
      ]
     },
     "execution_count": 140,
     "metadata": {},
     "output_type": "execute_result"
    }
   ],
   "source": [
    "lista"
   ]
  },
  {
   "cell_type": "code",
   "execution_count": 141,
   "metadata": {
    "id": "8I7Cj9iQDcj1"
   },
   "outputs": [
    {
     "data": {
      "text/plain": [
       "4"
      ]
     },
     "execution_count": 141,
     "metadata": {},
     "output_type": "execute_result"
    }
   ],
   "source": [
    "lista[3]"
   ]
  },
  {
   "cell_type": "code",
   "execution_count": 142,
   "metadata": {
    "id": "sC0oVroSDcjz"
   },
   "outputs": [
    {
     "data": {
      "text/plain": [
       "4"
      ]
     },
     "execution_count": 142,
     "metadata": {},
     "output_type": "execute_result"
    }
   ],
   "source": [
    "d['k1'][3]"
   ]
  },
  {
   "cell_type": "code",
   "execution_count": 143,
   "metadata": {
    "id": "6M_WiWTJDcj2"
   },
   "outputs": [],
   "source": [
    "# un diccionario anidado dentro de otro diccionario\n",
    "d = {'k1':{\n",
    "          '1a' : [1, 2, 3, 10]\n",
    "           }\n",
    "     }"
   ]
  },
  {
   "cell_type": "code",
   "execution_count": 144,
   "metadata": {
    "id": "PcmONy3sDcj4"
   },
   "outputs": [
    {
     "data": {
      "text/plain": [
       "{'1a': [1, 2, 3, 10]}"
      ]
     },
     "execution_count": 144,
     "metadata": {},
     "output_type": "execute_result"
    }
   ],
   "source": [
    "d['k1']"
   ]
  },
  {
   "cell_type": "code",
   "execution_count": 145,
   "metadata": {
    "id": "b4i2OprmDcj4"
   },
   "outputs": [
    {
     "data": {
      "text/plain": [
       "[1, 2, 3, 10]"
      ]
     },
     "execution_count": 145,
     "metadata": {},
     "output_type": "execute_result"
    }
   ],
   "source": [
    "d['k1']['1a']"
   ]
  },
  {
   "cell_type": "code",
   "execution_count": 146,
   "metadata": {
    "id": "ZqoRw9j9Dcj5"
   },
   "outputs": [
    {
     "data": {
      "text/plain": [
       "10"
      ]
     },
     "execution_count": 146,
     "metadata": {},
     "output_type": "execute_result"
    }
   ],
   "source": [
    "d['k1']['1a'][3]"
   ]
  },
  {
   "cell_type": "code",
   "execution_count": 147,
   "metadata": {
    "id": "eY7CMHCZDclp"
   },
   "outputs": [],
   "source": [
    "d = {'k1':10, 'k2':20, 'k3':1, 'k4': 'hola'}"
   ]
  },
  {
   "cell_type": "markdown",
   "metadata": {
    "id": "zaDIKxqo8s33"
   },
   "source": [
    "Los diccionarios también tienen funciones especiales muy utilizadas. Siendo **`d`** un diccionario:\n",
    "\n",
    "*  **`d.keys()`** : Retorna una lista con las claves.\n",
    "*  **`d.values()`** : Retorna una lista con los valores.\n",
    "*  **`d.items()`** : Retorna una lista de tuplas con los pares **`(clave, valor)`**.\n",
    "\n",
    ">**IMPORTANTE:** El orden en que se almacenan/retornan los elementos no siempre será el mismo.\n"
   ]
  },
  {
   "cell_type": "code",
   "execution_count": 148,
   "metadata": {
    "id": "V1GKByMgDclp"
   },
   "outputs": [
    {
     "data": {
      "text/plain": [
       "dict_keys(['k1', 'k2', 'k3', 'k4'])"
      ]
     },
     "execution_count": 148,
     "metadata": {},
     "output_type": "execute_result"
    }
   ],
   "source": [
    "d.keys()"
   ]
  },
  {
   "cell_type": "code",
   "execution_count": 149,
   "metadata": {
    "id": "bs6YOACW9lbO"
   },
   "outputs": [
    {
     "data": {
      "text/plain": [
       "dict_values([10, 20, 1, 'hola'])"
      ]
     },
     "execution_count": 149,
     "metadata": {},
     "output_type": "execute_result"
    }
   ],
   "source": [
    "d.values()"
   ]
  },
  {
   "cell_type": "code",
   "execution_count": 150,
   "metadata": {
    "id": "lcm40SSyDclq"
   },
   "outputs": [
    {
     "data": {
      "text/plain": [
       "dict_items([('k1', 10), ('k2', 20), ('k3', 1), ('k4', 'hola')])"
      ]
     },
     "execution_count": 150,
     "metadata": {},
     "output_type": "execute_result"
    }
   ],
   "source": [
    "d.items()"
   ]
  },
  {
   "cell_type": "markdown",
   "metadata": {
    "id": "UpO8ip0f_99-"
   },
   "source": [
    "En el siguiente [enlace](https://www.w3schools.com/python/python_dictionaries.asp) puede consultar muchas más funciones de utilidad al trabajar con diccionarios."
   ]
  }
 ],
 "metadata": {
  "colab": {
   "provenance": [
    {
     "file_id": "1GpXqNWUNPf9qltgHVFU6ibHFZXRnLFHI",
     "timestamp": 1614115711313
    }
   ]
  },
  "kernelspec": {
   "display_name": "Python 3 (ipykernel)",
   "language": "python",
   "name": "python3"
  },
  "language_info": {
   "codemirror_mode": {
    "name": "ipython",
    "version": 3
   },
   "file_extension": ".py",
   "mimetype": "text/x-python",
   "name": "python",
   "nbconvert_exporter": "python",
   "pygments_lexer": "ipython3",
   "version": "3.9.7"
  }
 },
 "nbformat": 4,
 "nbformat_minor": 4
}
