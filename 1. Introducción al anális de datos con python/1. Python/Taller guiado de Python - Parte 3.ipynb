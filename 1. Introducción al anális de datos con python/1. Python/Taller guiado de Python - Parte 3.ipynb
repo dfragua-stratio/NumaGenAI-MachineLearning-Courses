{
 "cells": [
  {
   "cell_type": "markdown",
   "metadata": {
    "id": "kyyYqzShjxwL"
   },
   "source": [
    "# **Lenguaje de programación Python - Parte 3**\n",
    "---\n",
    "<img src = \"https://www.python.org/static/community_logos/python-logo-inkscape.svg\" alt = \"python logo\" width = \"70%\">  </img>"
   ]
  },
  {
   "cell_type": "markdown",
   "metadata": {
    "id": "OM0EIY_5ReEu"
   },
   "source": [
    "En este tercer material se verán algunas utilidades adicionales opcionales para la carga y manejo de archivos."
   ]
  },
  {
   "cell_type": "markdown",
   "metadata": {
    "id": "7w3M5Ux9qGO3"
   },
   "source": [
    "# **9. Carga de Archivos en *Python***\n",
    "---\n",
    "*Python* permite cargar archivos de dos maneras. La primera permite cargar archivos planos en formatos como *json*, *csv* entre otros. La segunda permite cargar objetos de *Python*, que han sido serializados y almacenados previamente en disco duro."
   ]
  },
  {
   "cell_type": "markdown",
   "metadata": {
    "id": "LVLoBfPGgCxw"
   },
   "source": [
    "## **9.1. Formatos de archivo**\n",
    "---\n",
    "\n",
    "Dentro de los sistemas de información existen distintos tipos de formatos en los que los datos pueden ser almacenados y transmitidos. Dos de los más comunes hoy en día son los formatos CSV y JSON."
   ]
  },
  {
   "cell_type": "markdown",
   "metadata": {
    "id": "pkEpbEBqidS_"
   },
   "source": [
    "El formato [CSV](https://es.wikipedia.org/wiki/Valores_separados_por_comas) (del inglés comma-separated values) es un tipo de documento en formato abierto sencillo para representar datos en forma de tabla, en las que las columnas se separan por comas. A continuación puede ver un ejemplo de este formato:"
   ]
  },
  {
   "cell_type": "markdown",
   "metadata": {
    "id": "6SKlMclriuj5"
   },
   "source": [
    "```\n",
    "Año,Marca,Modelo,Descripción,Precio\n",
    "1997,Ford,E350,\"ac, abs, moon\",3000.00\n",
    "1999,Chevy,Venture,Extended Edition,4900.00\n",
    "1999,Chevy,Venture,\"Extended Edition, Very Large\",5000.00\n",
    "1996,Jeep,Grand Cherokee,\"MUST SELL! air, moon roof, loaded\",4799.00\n",
    "```"
   ]
  },
  {
   "cell_type": "markdown",
   "metadata": {
    "id": "_U_NdJITh8Qk"
   },
   "source": [
    "El formato [JSON](https://es.wikipedia.org/wiki/JSON) es un formato de texto sencillo para el intercambio de datos basado en la notación de objetos y listas del lenguaje *JavaScript*, muy similar a la notación de diccionarios de *Python*.\n",
    "\n",
    " A continuación podemos ver un ejemplo:"
   ]
  },
  {
   "cell_type": "markdown",
   "metadata": {
    "id": "Y3KWniKWP4wP"
   },
   "source": [
    "```\n",
    "{\n",
    "    \"json\": {\n",
    "        \"clave\": \"valor\",\n",
    "        [\n",
    "         \"valor1\",\n",
    "         \"valor2\",\n",
    "         \"valor3\",\n",
    "        ]\n",
    "    }\n",
    "}\n",
    "```"
   ]
  },
  {
   "cell_type": "markdown",
   "metadata": {
    "id": "7co0grDlQQDB"
   },
   "source": [
    "## **9.2. Crear y leer un archivo de texto**\n",
    "---\n",
    "\n",
    "Si se trata de un archivo con un formato simple de texto, se puede utilizar la función **`open`** de *Python* para cargar y examinar su contenido."
   ]
  },
  {
   "cell_type": "code",
   "execution_count": 1,
   "metadata": {},
   "outputs": [],
   "source": [
    "archivo_txt = open('data/ejemplo.txt', 'w')\n",
    "archivo_txt.write('Este es un ejemplo de escritura en un archivo de texto en Python.\\n')\n",
    "archivo_txt.write('Puedes agregar más líneas de texto aquí.')\n",
    "\n",
    "# Cierra el archivo después de escribir\n",
    "archivo_txt.close()\n"
   ]
  },
  {
   "cell_type": "code",
   "execution_count": 2,
   "metadata": {
    "id": "u6zi_jg8Pypt"
   },
   "outputs": [
    {
     "data": {
      "text/plain": [
       "['Este es un ejemplo de escritura en un archivo de texto en Python.\\n',\n",
       " 'Puedes agregar más líneas de texto aquí.']"
      ]
     },
     "execution_count": 2,
     "metadata": {},
     "output_type": "execute_result"
    }
   ],
   "source": [
    "#Cargar/leer archivos de texto\n",
    "with open(\"data/ejemplo.txt\") as f:\n",
    "    data = f.readlines()\n",
    "data"
   ]
  },
  {
   "cell_type": "markdown",
   "metadata": {
    "id": "z_w_qcOTRWgH"
   },
   "source": [
    "El resultado es una lista de las líneas del archivo en forma de lista de *Python*. A continuación cargaremos un archivo de texto que contiene las obras de *Shakespeare*. El archivo será cargado como una lista de cadenas de texto, donde cada elemento corresponde a una línea del archivo de texto."
   ]
  },
  {
   "cell_type": "code",
   "execution_count": 3,
   "metadata": {
    "id": "xuvvijGnqGQ6"
   },
   "outputs": [],
   "source": [
    "with open(\"data/shakespeare.txt\") as f:\n",
    "    data = f.readlines()"
   ]
  },
  {
   "cell_type": "code",
   "execution_count": 4,
   "metadata": {
    "id": "JCOriajgqGRB"
   },
   "outputs": [
    {
     "data": {
      "text/plain": [
       "list"
      ]
     },
     "execution_count": 4,
     "metadata": {},
     "output_type": "execute_result"
    }
   ],
   "source": [
    "type(data)"
   ]
  },
  {
   "cell_type": "code",
   "execution_count": 5,
   "metadata": {
    "id": "rsR3Fr6MqGRH"
   },
   "outputs": [
    {
     "data": {
      "text/plain": [
       "124614"
      ]
     },
     "execution_count": 5,
     "metadata": {},
     "output_type": "execute_result"
    }
   ],
   "source": [
    "len(data)"
   ]
  },
  {
   "cell_type": "code",
   "execution_count": 6,
   "metadata": {
    "id": "WhK5Esg8qGRP"
   },
   "outputs": [
    {
     "data": {
      "text/plain": [
       "['1609\\n',\n",
       " '\\n',\n",
       " 'THE SONNETS\\n',\n",
       " '\\n',\n",
       " 'by William Shakespeare\\n',\n",
       " '\\n',\n",
       " '\\n',\n",
       " '\\n',\n",
       " '                     1\\n',\n",
       " '  From fairest creatures we desire increase,\\n',\n",
       " \"  That thereby beauty's rose might never die,\\n\",\n",
       " '  But as the riper should by time decease,\\n',\n",
       " '  His tender heir might bear his memory:\\n',\n",
       " '  But thou contracted to thine own bright eyes,\\n',\n",
       " \"  Feed'st thy light's flame with self-substantial fuel,\\n\"]"
      ]
     },
     "execution_count": 6,
     "metadata": {},
     "output_type": "execute_result"
    }
   ],
   "source": [
    "data[:15]"
   ]
  },
  {
   "cell_type": "markdown",
   "metadata": {
    "id": "7Gx05eZTqGPA"
   },
   "source": [
    "## **9.3. Cargando JSON**\n",
    "---\n",
    "Existen otras funciones para la carga de archivos especiales. En este ejemplo cargaremos dos *datasets* usando el módulo **`json`** de la librería estándar de *Python*. El primero contiene información básica acerca de algunos restaurantes en *Nueva York* y el segundo contiene información relevante de la serie Juego de Tronos."
   ]
  },
  {
   "cell_type": "code",
   "execution_count": 7,
   "metadata": {
    "id": "b00fFya8qGPI"
   },
   "outputs": [],
   "source": [
    "import json\n",
    "from pprint import pprint\n",
    "\n",
    "with open('data/restaurantes.json') as data_file:\n",
    "    data = json.load(data_file)"
   ]
  },
  {
   "cell_type": "markdown",
   "metadata": {
    "id": "hCGs3PfPqGPT"
   },
   "source": [
    "**`restaurantes.json`** es una lista de diccionarios."
   ]
  },
  {
   "cell_type": "code",
   "execution_count": 8,
   "metadata": {
    "id": "6tRUAzoHqGPW"
   },
   "outputs": [
    {
     "data": {
      "text/plain": [
       "[{'name': 'Cheesecake Factory', 'cuisine': 'American', 'id': 1},\n",
       " {'name': 'Shokolaat', 'cuisine': 'American', 'id': 2},\n",
       " {'name': 'Gordon Biersch', 'cuisine': 'American', 'id': 3},\n",
       " {'name': 'Crepevine', 'cuisine': 'American', 'id': 4},\n",
       " {'name': 'Creamery', 'cuisine': 'American', 'id': 5}]"
      ]
     },
     "execution_count": 8,
     "metadata": {},
     "output_type": "execute_result"
    }
   ],
   "source": [
    "data[:5]"
   ]
  },
  {
   "cell_type": "code",
   "execution_count": 9,
   "metadata": {
    "id": "r61RaV5Y5Hu4"
   },
   "outputs": [
    {
     "data": {
      "text/plain": [
       "'Creamery'"
      ]
     },
     "execution_count": 9,
     "metadata": {},
     "output_type": "execute_result"
    }
   ],
   "source": [
    "data[4]['name']"
   ]
  },
  {
   "cell_type": "code",
   "execution_count": 10,
   "metadata": {
    "id": "HX_xTphD5Rml"
   },
   "outputs": [
    {
     "data": {
      "text/plain": [
       "'American'"
      ]
     },
     "execution_count": 10,
     "metadata": {},
     "output_type": "execute_result"
    }
   ],
   "source": [
    "data[4]['cuisine']"
   ]
  },
  {
   "cell_type": "markdown",
   "metadata": {
    "id": "gVsmsY2AqGPk"
   },
   "source": [
    "Cargamos el dataset **`game_of_thrones.json`** y examinamos su contenido."
   ]
  },
  {
   "cell_type": "code",
   "execution_count": 11,
   "metadata": {
    "id": "UcNJgcfZqGPn"
   },
   "outputs": [],
   "source": [
    "with open('data/game_of_thrones.json') as data_file:\n",
    "    data = json.load(data_file)"
   ]
  },
  {
   "cell_type": "markdown",
   "metadata": {
    "id": "KRj0wxGRqGPu"
   },
   "source": [
    "El *dataset* consiste en un diccionario, cuyas claves corresponden a diferentes atributos de la serie."
   ]
  },
  {
   "cell_type": "code",
   "execution_count": 12,
   "metadata": {
    "id": "mM5apRoqqGPx"
   },
   "outputs": [
    {
     "name": "stdout",
     "output_type": "stream",
     "text": [
      "dict_keys(['id', 'url', 'name', 'type', 'language', 'genres', 'status', 'runtime', 'premiered', 'officialSite', 'schedule', 'rating', 'weight', 'network', 'webChannel', 'externals', 'image', 'summary', 'updated', '_links', '_embedded'])\n"
     ]
    }
   ],
   "source": [
    "print(data.keys())"
   ]
  },
  {
   "cell_type": "markdown",
   "metadata": {
    "id": "lmrRtHL5qGP9"
   },
   "source": [
    "También alberga información de cada capítulo hasta el año $2017$ en la variable **`_embedded`**."
   ]
  },
  {
   "cell_type": "code",
   "execution_count": 13,
   "metadata": {
    "id": "8Eub6GDLqGQB"
   },
   "outputs": [
    {
     "name": "stdout",
     "output_type": "stream",
     "text": [
      "67\n"
     ]
    }
   ],
   "source": [
    "print(len(data['_embedded']['episodes']))"
   ]
  },
  {
   "cell_type": "code",
   "execution_count": 14,
   "metadata": {
    "id": "pCE79PuxqGQJ"
   },
   "outputs": [
    {
     "name": "stdout",
     "output_type": "stream",
     "text": [
      "'Winter is Coming'\n"
     ]
    }
   ],
   "source": [
    "pprint(data['_embedded']['episodes'][0]['name'])"
   ]
  },
  {
   "cell_type": "markdown",
   "metadata": {
    "id": "LUJG7z3nqGQY"
   },
   "source": [
    "## **9.4. Cargando CSV**\n",
    "---\n",
    "A continuación, cargaremos un archivo con datos separados por el caracter **`|`**. Corresponden a datos personales de usuarios de una red social de calificación de películas."
   ]
  },
  {
   "cell_type": "markdown",
   "metadata": {
    "id": "-256Z3nUSip5"
   },
   "source": [
    "Para cargar archivos **`csv`** podemos usar el módulo del mismo nombre de la librería estándar de *Python*. En las próximas utilizaremos este tipo de archivo con una librería especial para el manejo de tablas."
   ]
  },
  {
   "cell_type": "code",
   "execution_count": 15,
   "metadata": {
    "id": "udh1BLjbqGQb"
   },
   "outputs": [],
   "source": [
    "import csv\n",
    "with open('data/user-data.csv', 'r') as csvfile:\n",
    "    user_data = csv.reader(csvfile, delimiter='|')\n",
    "    data = list(user_data)"
   ]
  },
  {
   "cell_type": "markdown",
   "metadata": {
    "id": "9g42toQnqGQg"
   },
   "source": [
    "Explorando la variable **`data`**, encontramos que cada registro corresponde a un usuario. La información allí mostrada corresponde a un identificador único, edad, género, ocupación y *zip code*. Esta variable es cargada en forma de una lista de listas."
   ]
  },
  {
   "cell_type": "code",
   "execution_count": 16,
   "metadata": {
    "id": "DXSdEZDeqGQl"
   },
   "outputs": [
    {
     "data": {
      "text/plain": [
       "[['1', '24', 'M', 'technician', '85711'],\n",
       " ['2', '53', 'F', 'other', '94043'],\n",
       " ['3', '23', 'M', 'writer', '32067'],\n",
       " ['4', '24', 'M', 'technician', '43537'],\n",
       " ['5', '33', 'F', 'other', '15213']]"
      ]
     },
     "execution_count": 16,
     "metadata": {},
     "output_type": "execute_result"
    }
   ],
   "source": [
    "data[:5]"
   ]
  },
  {
   "cell_type": "markdown",
   "metadata": {
    "id": "HVJa-pBYqGRg"
   },
   "source": [
    "## **9.5. Cargando Pickle**\n",
    "---"
   ]
  },
  {
   "cell_type": "markdown",
   "metadata": {
    "id": "o-sfMUdEqGRh"
   },
   "source": [
    "[***Pickle***](https://wiki.python.org/moin/UsingPickle) nos permite serializar gran parte de los objetos que nos encontraremos trabajando con *Python*. Sin embargo, existen elementos como clases, funciones y métodos que no pueden ser almacenados usando *Pickle*. Cuando se almacene una instancia de una clase, *Pickle* no almacenará la clase del objeto, sino una cadena de caracteres que identifique a qué clase pertenece el objeto.\n",
    "\n",
    "A continuación usaremos el conjunto de datos de usuarios de un sitio de revisión de películas y almacenaremos los primeros cinco usuarios usando *Pickle*. Posteriormente los cargaremos usando también *Pickle*."
   ]
  },
  {
   "cell_type": "markdown",
   "metadata": {
    "id": "d4GlM0R1qGSF"
   },
   "source": [
    "Ahora cargamos el archivo *pickle* con el módulo del mismo nombre de la siguiente manera:"
   ]
  },
  {
   "cell_type": "code",
   "execution_count": 17,
   "metadata": {
    "id": "PV7pRySbqGSI"
   },
   "outputs": [],
   "source": [
    "import pickle\n",
    "user_data = pickle.load(open(\"data/user_data.pkl\", \"rb\" ))"
   ]
  },
  {
   "cell_type": "code",
   "execution_count": 18,
   "metadata": {
    "id": "_7PPETRjqGSU"
   },
   "outputs": [
    {
     "data": {
      "text/plain": [
       "[['939', '26', 'F', 'student', '33319'],\n",
       " ['940', '32', 'M', 'administrator', '02215'],\n",
       " ['941', '20', 'M', 'student', '97229'],\n",
       " ['942', '48', 'F', 'librarian', '78209'],\n",
       " ['943', '22', 'M', 'student', '77841']]"
      ]
     },
     "execution_count": 18,
     "metadata": {},
     "output_type": "execute_result"
    }
   ],
   "source": [
    "user_data"
   ]
  }
 ],
 "metadata": {
  "colab": {
   "provenance": [
    {
     "file_id": "1GnOBqJDm5D_-hbUPc54E0cK_hhYGin2y",
     "timestamp": 1614115733610
    }
   ]
  },
  "kernelspec": {
   "display_name": "Python 3 (ipykernel)",
   "language": "python",
   "name": "python3"
  },
  "language_info": {
   "codemirror_mode": {
    "name": "ipython",
    "version": 3
   },
   "file_extension": ".py",
   "mimetype": "text/x-python",
   "name": "python",
   "nbconvert_exporter": "python",
   "pygments_lexer": "ipython3",
   "version": "3.9.7"
  }
 },
 "nbformat": 4,
 "nbformat_minor": 4
}
