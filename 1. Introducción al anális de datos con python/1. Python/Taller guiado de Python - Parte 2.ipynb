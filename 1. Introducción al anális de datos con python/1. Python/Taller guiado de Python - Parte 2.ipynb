{
 "cells": [
  {
   "cell_type": "markdown",
   "metadata": {
    "id": "kyyYqzShjxwL"
   },
   "source": [
    "# **Lenguaje de programación Python - Parte 2**\n",
    "---\n",
    "<img src = \"https://www.python.org/static/community_logos/python-logo-inkscape.svg\" alt = \"Encabezado MLDS\" width = \"70%\">  </img>\n",
    "\n",
    "\n",
    "Es importante tener en cuenta la versión de *Python* utilizada en el desarrollo de estos recursos. En particular, este recurso está escrito y probado en la versión *Python* 3.6.9. Utilizar una versión distinta puede variar el resultado de la ejecución de algunos ejemplos."
   ]
  },
  {
   "cell_type": "code",
   "execution_count": null,
   "metadata": {
    "colab": {
     "base_uri": "https://localhost:8080/"
    },
    "executionInfo": {
     "elapsed": 557,
     "status": "ok",
     "timestamp": 1613601478987,
     "user": {
      "displayName": "Santiago Toledo Cortes",
      "photoUrl": "https://lh3.googleusercontent.com/a-/AOh14GjQwqDnvMGBuN_TJMvwEgNFRGHcqi20NEn7MGQR5w=s64",
      "userId": "15259730956199930039"
     },
     "user_tz": 300
    },
    "id": "YgdAm2Vsyg4m",
    "outputId": "6c1e52ec-88ab-467a-c9a3-c5e47ee2d6dd"
   },
   "outputs": [],
   "source": [
    "!python --version"
   ]
  },
  {
   "cell_type": "markdown",
   "metadata": {
    "id": "jwaKatGwfqpD"
   },
   "source": [
    "## **6. Control de flujo**\n",
    "---\n",
    "\n",
    "*Python* es un lenguaje que depende del uso de espacios e indentación para el reconocimiento de bloques de código. Cada línea de texto es una sentencia que es ejecutada de manera secuencial. Hasta el momento, se han presentado valores, operadores y funciones que se ejecutan de esta manera, línea por línea. Existen distintas palabras reservadas que permiten emplear ordenes no secuenciales para la ejecución de las sentencias de código. Estas se conocen como **estructuras de control de flujo**.\n",
    "\n"
   ]
  },
  {
   "cell_type": "markdown",
   "metadata": {
    "id": "pSZ1oAs3fqpF"
   },
   "source": [
    "### **6.1. Expresiones condicionales `if`, `else` y `elif`**\n",
    "---\n",
    "\n",
    "La estructura **`if`** es la estructura condicional, común en muchos lenguajes de programación. Permite definir bloques de código que solo se ejecutan cuando se cumple una condición definida como valor lógico **(Ver sección 4.2).**\n",
    "Solo con el **`if`**, se decide si un bloque se ejecuta o no. Se usa la siguiente sintaxis:"
   ]
  },
  {
   "cell_type": "code",
   "execution_count": null,
   "metadata": {
    "id": "fLBttL5JvIzJ"
   },
   "outputs": [],
   "source": [
    "'''\n",
    "if condicion :\n",
    "   bloque\n",
    "'''\n",
    "\n",
    "# Código que evalúa si un dato es un número, y si lo es, si es positivo.\n",
    "\n",
    "x = input()\n",
    "if x.isnumeric():\n",
    "  # <---- El bloque de código debe estar correctamente indentado.\n",
    "  # <---- Por lo general se hace con 2 espacios en blanco (o con el tabulador).\n",
    "  if int(x) > 0:\n",
    "    # <---- Si se define un if anidado dentro de otro, se debe respetar la indentación.\n",
    "    # <---- La indentación se acumula.\n",
    "    print(f'{x} es un número positivo.')"
   ]
  },
  {
   "cell_type": "code",
   "execution_count": null,
   "metadata": {
    "id": "fL4SdO_4Dckw"
   },
   "outputs": [],
   "source": [
    "if (10 > 2): # Condición verdadera - se ejecutará el bloque identado\n",
    "  print('Si')"
   ]
  },
  {
   "cell_type": "code",
   "execution_count": null,
   "metadata": {
    "id": "-NO6UctQDcky"
   },
   "outputs": [],
   "source": [
    "if 100 < 20: # Condición falsa - no se ejecutará el bloque identado\n",
    "  print('Primero')\n",
    "  print('Segundo')\n",
    "print('Tercero') # Esta sentencia siempre se ejecutará porque está por fuera del if (no está identada)"
   ]
  },
  {
   "cell_type": "markdown",
   "metadata": {
    "id": "dHMrddG8vGGC"
   },
   "source": [
    "\n",
    " Si se desea ejecutar algo en código en caso de que la condición no se cumpla, y solo si no se cumple, se usan las estructuras **`else`** y **`elif`**. **`else`** permite definir bloques de código como alternativa a una evaluación falsa de la condición de un **`if`**.\n",
    "\n"
   ]
  },
  {
   "cell_type": "code",
   "execution_count": null,
   "metadata": {
    "id": "jad4qdEkvJc6"
   },
   "outputs": [],
   "source": [
    "'''\n",
    "if condicion :\n",
    "   bloque 1\n",
    "else:\n",
    "   bloque 2\n",
    "'''\n",
    "\n",
    "# Código que evalúa si un dato es un número entero, y si lo es, si es par o impar.\n",
    "\n",
    "x = input()\n",
    "\n",
    "if x.isdigit():\n",
    "  if int(x) % 2 == 0:\n",
    "    print(f'{x} es un número par.')\n",
    "  else:\n",
    "    # <--- La indentación del else está al mismo nivel que la del if al que corresponde.\n",
    "    print(f'{x} es un número impar.')\n",
    "else:\n",
    "  # <--- La indentación del else está al mismo nivel que la del if al que corresponde.\n",
    "  print(f'{x} NO es un número entero.')"
   ]
  },
  {
   "cell_type": "markdown",
   "metadata": {
    "id": "d6ZiZryfvHwo"
   },
   "source": [
    "\n",
    "\n",
    " Por su parte, **`elif`** permite definir otra condición que evaluar antes de ejecutar el código, que sólo se evalúa si la primera condición no su cumple.\n"
   ]
  },
  {
   "cell_type": "code",
   "execution_count": null,
   "metadata": {
    "id": "MsOcspLdivBE"
   },
   "outputs": [],
   "source": [
    "'''\n",
    "if condicion1 :\n",
    "   bloque 1\n",
    "elif condicion2:\n",
    "   bloque 2\n",
    "else:\n",
    "   bloque 3\n",
    "'''\n",
    "\n",
    "# Código para evaluar si un dato es un número entero, y si lo es, evaluar si es divisible por 2, 3, 5 o por ninguno.\n",
    "\n",
    "x = input()\n",
    "if x.isdigit():\n",
    "  if int(x) % 2 == 0:\n",
    "    print(f'{x}  es divisible por 2.')\n",
    "  elif int(x) % 3 == 0:\n",
    "    # <--- La indentación del elif también está al mismo nivel del if original.\n",
    "    print(f'{x} es divisible por 3.')\n",
    "  elif int(x) % 5 == 0:\n",
    "    # <--- En cada uno de los elif declarados.\n",
    "    print(f'{x} es divisible por 5.')\n",
    "  else:\n",
    "    # <--- El else también está igualmente indentado, y debe ser el último bloque.\n",
    "    print(f'{x} NO es divisible por 2, 3 o 5.')\n",
    "else:\n",
    "  print(f'{x} NO es un número entero.')"
   ]
  },
  {
   "cell_type": "markdown",
   "metadata": {
    "id": "jCQMIAaYvuYQ"
   },
   "source": [
    "Finalmente, existe una versión simplificada para la asignación de valores a variables dependiendo de una condición lógica. Esto se conoce como **operador ternario** y se puede declarar en una sola línea de código."
   ]
  },
  {
   "cell_type": "code",
   "execution_count": null,
   "metadata": {
    "id": "CDH3dJwywh4W"
   },
   "outputs": [],
   "source": [
    "# Asignación condicional usando if else\n",
    "condición = False\n",
    "\n",
    "if condición:\n",
    "  a = 'Sí'\n",
    "else:\n",
    "  a = 'No'\n",
    "print(a)\n",
    "\n",
    "#Asignación condicional con operador ternario\n",
    "\n",
    "a = 'Sí' if condición else 'No'\n",
    "print(a)"
   ]
  },
  {
   "cell_type": "markdown",
   "metadata": {
    "id": "SWAhbM6RfqpF"
   },
   "source": [
    "### **6.2. Bucles (ciclos) `while`**\n",
    "---\n",
    "Con las expresiones condicionales se puede producir bifurcaciones en el orden en que se ejecutan los bloques de código. Sin embargo, en ocasiones es necesario repetir un bloque un número indeterminado de veces. Para esto se definen los bucles, que permiten repetir bloques de código varias veces.  El primero de estos bucles es el bucle condicional **`while`**.\n",
    "\n",
    "El **`while`** funciona como una expresión **`if`**, con la diferencia que el bloque definido dentro de una expresión **`while`** se repite indefinidamente mientras una condición lógica se cumpla. Para evitar bucles infinitos y que el programa no se detenga, es necesario que dentro del **`while`** se altere alguna variable que componga la condición lógica, y que esta pueda conducir a un resultado **`False`** en algún momento de la ejecución."
   ]
  },
  {
   "cell_type": "code",
   "execution_count": null,
   "metadata": {
    "id": "4D8wAUFhiwks"
   },
   "outputs": [],
   "source": [
    "# Código para llenar una lista con números enteros menores que 5 elevados al cuadrado, empezando en 0.\n",
    "l = []\n",
    "i = 0\n",
    "while i < 5:\n",
    "  # <---- El bloque de código dentro de un while también debe estar correctamente indentado.\n",
    "  l.append(i * i)\n",
    "  print(i * i)\n",
    "  i = i + 1\n",
    "# <---- A partir de aquí, el código escrito está por fuera del bucle while.\n",
    "print(l)"
   ]
  },
  {
   "cell_type": "code",
   "execution_count": null,
   "metadata": {
    "id": "JawyGhw2U4KX"
   },
   "outputs": [],
   "source": [
    "# Código para llenar lista del cuadrado de números enteros menores que 5, empezando en 4 y retrocediendo hasta 0.\n",
    "l = []\n",
    "i = 4\n",
    "while i >= 0:\n",
    "  # <---- El bloque de código dentro de un while también debe estar correctamente indentado.\n",
    "  l.append(i * i)\n",
    "  i = i - 1\n",
    "print(l)"
   ]
  },
  {
   "cell_type": "code",
   "execution_count": null,
   "metadata": {
    "id": "8Le8Fzk6Dck5"
   },
   "outputs": [],
   "source": [
    "i = 1\n",
    "while i < 5:\n",
    "    print('i es igual a: {}'.format(i))\n",
    "    i = i + 1"
   ]
  },
  {
   "cell_type": "markdown",
   "metadata": {
    "id": "4FYL2dAuMKQq"
   },
   "source": [
    "Para bucles más complejos, suele ser necesario saltar iteraciones dadas condiciones específicas, o simplemente acabar con el bucle de manera anticipada sin evaluar la condición inicial. Esto se puede lograr con las palabras reservadas **`continue`** y **`break`**.\n",
    "* **`continue`** permite saltarse el fragmento de código restante de la iteración y evaluar la siguiente.\n",
    "* **`break`** permite acabar el bucle y continuar con el código justo después."
   ]
  },
  {
   "cell_type": "code",
   "execution_count": null,
   "metadata": {
    "id": "1KkocBXRNL1f"
   },
   "outputs": [],
   "source": [
    "i = 0\n",
    "while (True): # Usar con PRECAUCIÓN. Una expresión como esta puede producir un bucle infinito.\n",
    "  i += 1      # Cambiar el objeto para que la condición evaluada también varíe.\n",
    "\n",
    "  if (i == 2):\n",
    "    continue  # Lo que resta del bucle no se ejecuta si se añade un continue.\n",
    "\n",
    "  print(i)\n",
    "  if (i > 5):\n",
    "    break     # El bucle termina inmediatamente.\n",
    "\n",
    "print('Fuera del bucle')"
   ]
  },
  {
   "cell_type": "markdown",
   "metadata": {
    "id": "a2iuY599fqpF"
   },
   "source": [
    "### **6.3. Bucles (ciclos) `for`**\n",
    "---\n",
    "Es muy común iterar sobre los elementos de una colección y realizar operaciones sobre cada uno. Para esto se utiliza el bucle de iteración **`for`**, que como su nombre lo indica, permite iterar sobre un objeto **`iterable`**, como colecciones o generadores, y ejecutar un bloque de código para cada uno de ellos. Estos bucles van acompañados por el operador **`in`**, que define la pertenencia de un elemento en una colección. Usar **`for`** permite declarar el elemento al inicio de cada iteración. Se define con la siguiente sintaxis:\n"
   ]
  },
  {
   "cell_type": "code",
   "execution_count": null,
   "metadata": {
    "id": "YOQJdTtaixSt"
   },
   "outputs": [],
   "source": [
    "'''\n",
    "for elemento in iterable:\n",
    "  bloque...\n",
    "'''\n",
    "iterable = [1, 'a', [10, 20, 30]]     # Las listas son iterables\n",
    "\n",
    "for i in iterable:\n",
    "  # <---- El bloque de código dentro del for también debe estar correctamente indentado.\n",
    "  print(i)\n",
    "# <---- A partir de aquí, el código escrito está por fuera del bucle for.\n",
    "print('Fin')"
   ]
  },
  {
   "cell_type": "markdown",
   "metadata": {
    "id": "b-Wl9AUhg3Ia"
   },
   "source": [
    "#### **6.3.1. Función `range`**\n",
    "---\n",
    "\n",
    "La función generadora **`range`** es muy usada junto a los bucles **`for`**. Con esta, se define un **rango** de valores numéricos en un objeto de tipo **`range`**, que no almacena en memoria todos los elementos, sino que genera el siguiente en cada iteración.\n",
    "\n",
    "Esta función puede aceptar hasta tres parámetros. Conforme los acepta se interpretan así:\n",
    "\n",
    "1.  **`range(final)`:** Elementos del 0 al **`final`**, de uno en uno. El número **`final`** no se incluye.\n",
    "2.  **`range(inicio, final)`:** Elementos del **`inicio`** (incluido) al **`final`** (excluido), de uno en uno.\n",
    "\n",
    "3.  **`range(inicio, final, paso)`:** Elementos del **`inicio`** (incluido) al **`final`** (excluido), dando pasos de tamaño **`paso`**."
   ]
  },
  {
   "cell_type": "code",
   "execution_count": null,
   "metadata": {
    "id": "uib5uWFbiyEd"
   },
   "outputs": [],
   "source": [
    "# range estándar\n",
    "\n",
    "print('range(5)')\n",
    "l = []\n",
    "for i in range(5):\n",
    "  l.append(i)\n",
    "\n",
    "print(l)"
   ]
  },
  {
   "cell_type": "code",
   "execution_count": null,
   "metadata": {
    "id": "drPxl1K7WOEF"
   },
   "outputs": [],
   "source": [
    "# range con inicio y final\n",
    "\n",
    "print('\\nrange(20, 24)')\n",
    "l = []\n",
    "for i in range(20, 24):\n",
    "  l.append(i)\n",
    "\n",
    "print(l)"
   ]
  },
  {
   "cell_type": "code",
   "execution_count": null,
   "metadata": {
    "id": "17KUFxFFWPyt"
   },
   "outputs": [],
   "source": [
    "# range con paso\n",
    "\n",
    "print('\\nrange(1, 8, 2)')\n",
    "l = []\n",
    "for i in range(1, 8, 2):\n",
    "  l.append(i)\n",
    "\n",
    "print(l)"
   ]
  },
  {
   "cell_type": "code",
   "execution_count": null,
   "metadata": {
    "id": "jwXfiThrWRJq"
   },
   "outputs": [],
   "source": [
    "# range con paso negativo\n",
    "\n",
    "print('\\nrange(8, 1, -2)')\n",
    "l = []\n",
    "for i in range(8, 1, -2):\n",
    "  l.append(i)\n",
    "\n",
    "print(l)"
   ]
  },
  {
   "cell_type": "markdown",
   "metadata": {
    "id": "cl_Qm5LThLAy"
   },
   "source": [
    "#### **6.3.2. Comprensión de listas**\n",
    "---\n",
    "\n",
    "El patrón usado en el ejemplo anterior de llenar elementos de una lista iterando en un bucle **`for`** es muy común. Es por esto que *Python* define una sintaxis especial y simplificada para estos casos. Esto se conoce como **comprensión de listas** y puede realizarse en una misma línea.\n",
    "\n",
    "Es un tipo de declaración de listas, con un **`for`** interno que define los elementos a iterar y un **`if`** opcional para filtrar los elementos con una condición."
   ]
  },
  {
   "cell_type": "code",
   "execution_count": null,
   "metadata": {
    "id": "6-Lse_l8DclH"
   },
   "outputs": [],
   "source": [
    "cubos = [x ** 3 for x in range(10)]\n",
    "print(cubos)"
   ]
  },
  {
   "cell_type": "code",
   "execution_count": null,
   "metadata": {
    "id": "wvXvAUjTiytY"
   },
   "outputs": [],
   "source": [
    "# Usando for e if\n",
    "l = []\n",
    "for x in range(5):\n",
    "  if x % 2 == 0:\n",
    "    l.append(x*x)\n",
    "print(l)"
   ]
  },
  {
   "cell_type": "code",
   "execution_count": null,
   "metadata": {
    "id": "hZBdpqBrWuBU"
   },
   "outputs": [],
   "source": [
    "# Usando comprensión de listas con condicional\n",
    "l = [x * x for x in range(5) if x % 2 == 0]\n",
    "print(l)"
   ]
  },
  {
   "cell_type": "code",
   "execution_count": null,
   "metadata": {
    "id": "hTJJqK_mWvQi"
   },
   "outputs": [],
   "source": [
    "# Usando comprensión de listas con operador ternario en la expresión.\n",
    "l = [('par' if x % 2 == 0 else 'impar') for x in range(5)]\n",
    "print(l)"
   ]
  },
  {
   "cell_type": "code",
   "execution_count": null,
   "metadata": {
    "id": "S63GTvr3DclI"
   },
   "outputs": [],
   "source": [
    "multiplos_tres_y_cinco = [x for x in range(1, 100) if x % 3 == 0 and x % 5 == 0]\n",
    "print(multiplos_tres_y_cinco)"
   ]
  },
  {
   "cell_type": "markdown",
   "metadata": {
    "id": "_O997dFDhOnS"
   },
   "source": [
    "#### **6.3.3. Comprensión de conjuntos y diccionarios**\n",
    "---\n",
    "Además de la comprensión de listas, se pueden definir conjuntos y diccionarios por medio de comprensión. Este método se define con los operadores de llaves curvadas `{` y `}`. Para los diccionarios, la expresión ubicada al inicio de la definición de la comprensión usa la notación **`clave : valor`**."
   ]
  },
  {
   "cell_type": "code",
   "execution_count": null,
   "metadata": {
    "colab": {
     "base_uri": "https://localhost:8080/"
    },
    "executionInfo": {
     "elapsed": 1284,
     "status": "ok",
     "timestamp": 1613665659313,
     "user": {
      "displayName": "Santiago Toledo Cortes",
      "photoUrl": "https://lh3.googleusercontent.com/a-/AOh14GjQwqDnvMGBuN_TJMvwEgNFRGHcqi20NEn7MGQR5w=s64",
      "userId": "15259730956199930039"
     },
     "user_tz": 300
    },
    "id": "HWOPPY47izO3",
    "outputId": "4fca6f94-6971-4edf-c294-c79d5fe89c75"
   },
   "outputs": [],
   "source": [
    "#Comprensión de conjuntos\n",
    "productos = {x * y for x in range(6) for y in range(6)}\n",
    "print(productos)"
   ]
  },
  {
   "cell_type": "code",
   "execution_count": null,
   "metadata": {
    "id": "N73eCP7gXIO1"
   },
   "outputs": [],
   "source": [
    "#Comprensión de diccionarios\n",
    "cuadrados = {str(x) : x * x for x in range(11)}\n",
    "print(cuadrados)"
   ]
  },
  {
   "cell_type": "markdown",
   "metadata": {
    "id": "nWar_FuQh47S"
   },
   "source": [
    "## **7. Funciones**\n",
    "---\n",
    "\n",
    "Las funciones, también conocidas como rutinas o procedimientos, son fragmentos de código definidos para ejecutarse cuando son llamados desde otras partes del código. Se pueden definir con parámetros de entrada y valores de retorno, siendo ambos opcionales.\n",
    "\n",
    "*  Con los parámetros de entrada se puede pasar el valor contenido en una o varias variables, que sea usado dentro de la función para ejecutar su fragmento.\n",
    "\n",
    "* Con los valores de salida se puede retornar al código que hace el llamado de la función un valor, en donde puede finalmente ser almacenado en una variable o usado directamente.\n",
    "\n",
    "A diferencia de la noción matemática de función, en *Python* las funciones pueden tener efectos secundarios y no retornar siempre el mismo resultado. Estos efectos son aquellos que, como el uso de operaciones de entrada y salida, operaciones con números aleatorios o cambios en el estado global del programa, pueden afectar el resultado devuelto por la función para los mismo parámetros de entrada."
   ]
  },
  {
   "cell_type": "markdown",
   "metadata": {
    "id": "-aozcf1vJnS5"
   },
   "source": [
    "### **7.1. Definición de Funciones**\n",
    "---\n",
    "\n",
    "En *Python*, las funciones se definen con la palabra reservada **`def`** de la siguiente forma:"
   ]
  },
  {
   "cell_type": "code",
   "execution_count": null,
   "metadata": {
    "id": "MkJC9-ZOi0Uy"
   },
   "outputs": [],
   "source": [
    "def mi_funcion(argumento_1, argumento_2):\n",
    "  \"\"\"\n",
    "  Esta es la documentación de la función. Toma dos parámetros y retorna dos salidas.\n",
    "\n",
    "  Parámetros (argumentos):\n",
    "  argumento_1: ...\n",
    "  argumento_2: ...\n",
    "\n",
    "  Retorna una tupla con dos valores: el primero es un conjunto, el segundo es una lista ...\n",
    "\n",
    "  \"\"\"\n",
    "\n",
    "  #El nombre de la función puede ser cualquiera que respete las reglas para definición de variables.\n",
    "  #Los argumentos de entrada se indican separados por coma entre paréntesis, justo después del nombre de la función\n",
    "\n",
    "  #El bloque de código de la función está indentado como al usar if, while y for.\n",
    "\n",
    "  salida_1 = {argumento_1, argumento_2} # Conjunto de argumentos de entrada.\n",
    "  salida_2 = [argumento_1, argumento_2] # Lista de argumentos de entrada.\n",
    "\n",
    "\n",
    "  # Al separar con comas se retorna una tupla con los valores retornados.\n",
    "  # Pueden tener cualquier tipo de dato.\n",
    "\n",
    "  return salida_1, salida_2"
   ]
  },
  {
   "cell_type": "code",
   "execution_count": null,
   "metadata": {
    "id": "M5db0mq0KtCx"
   },
   "outputs": [],
   "source": [
    "# Llamado a la función\n",
    "mi_funcion(2, 3)"
   ]
  },
  {
   "cell_type": "code",
   "execution_count": null,
   "metadata": {
    "id": "rapO2c4RK5Li"
   },
   "outputs": [],
   "source": [
    "help(mi_funcion) # Para ver la documentación de la función (si la tiene)"
   ]
  },
  {
   "cell_type": "markdown",
   "metadata": {
    "id": "tX3bBG3CaKe9"
   },
   "source": [
    "Cuando se retornan varios valores en forma de tupla como resultado de una función, *Python* permite desempaquetar los valores de la tupla en variables distintas directamente."
   ]
  },
  {
   "cell_type": "code",
   "execution_count": null,
   "metadata": {
    "id": "JVS9Vea2aXva"
   },
   "outputs": [],
   "source": [
    "def suma_y_resta(a, b):\n",
    "  return a + b, a - b"
   ]
  },
  {
   "cell_type": "markdown",
   "metadata": {
    "id": "VwHYAP8QNVcA"
   },
   "source": [
    "Para esto, se separan las variables con coma en la asignación a partir de la función."
   ]
  },
  {
   "cell_type": "code",
   "execution_count": null,
   "metadata": {
    "id": "PfGAZtssMiku"
   },
   "outputs": [],
   "source": [
    "suma, resta = suma_y_resta(5, 4)\n",
    "\n",
    "print(suma)\n",
    "print(resta)"
   ]
  },
  {
   "cell_type": "markdown",
   "metadata": {
    "id": "_pn_s5pea1pe"
   },
   "source": [
    "Los argumentos de la función pueden definirse como parámetros opcionales. Para esto, se define el valor que tendrá la variable por defecto si no es pasada en el llamado de la función. Esta definición se realiza en la definición de los parámetros con el símbolo `=`.\n",
    "\n",
    "Además de esto, se pueden pasar como argumentos variables específicas con el nombre dado en su definición. Esto añade flexibilidad a la forma de definir y utilizar funciones."
   ]
  },
  {
   "cell_type": "code",
   "execution_count": null,
   "metadata": {
    "id": "gg6V7j0da07e"
   },
   "outputs": [],
   "source": [
    "def potencia(base = 2, exponente = 1):\n",
    "  #La base por defecto es 2.\n",
    "  #El exponente por defecto es 1.\n",
    "  return base ** exponente"
   ]
  },
  {
   "cell_type": "code",
   "execution_count": null,
   "metadata": {
    "id": "_V7S7LtJbhIw"
   },
   "outputs": [],
   "source": [
    "potencia(4, 3)"
   ]
  },
  {
   "cell_type": "code",
   "execution_count": null,
   "metadata": {
    "id": "Lt-W3N6hbmrx"
   },
   "outputs": [],
   "source": [
    "#Si hay varios argumentos opcionales, se interpretan de manera secuencial de acuerdo a la posición de su definición\n",
    "# En este caso, el primer argumento es \"base\", por lo que al aceptar solo 1 argumento \"exponente\" toma su valor por defecto.\n",
    "potencia(15)"
   ]
  },
  {
   "cell_type": "code",
   "execution_count": null,
   "metadata": {
    "id": "qT-DGjSdb7FP"
   },
   "outputs": [],
   "source": [
    "# Ambos argumentos toman su valor por defecto\n",
    "potencia()"
   ]
  },
  {
   "cell_type": "code",
   "execution_count": null,
   "metadata": {
    "id": "dZx_nQPrcAKn"
   },
   "outputs": [],
   "source": [
    "# Si se define explícitamente el argumento que se pasa, no es necesario considerar la posición de los argumentos.\n",
    "potencia(exponente = 8)"
   ]
  },
  {
   "cell_type": "markdown",
   "metadata": {
    "id": "NeeSE05CvNHW"
   },
   "source": [
    "Una alternativa al trabajar con tuplas es utilizar como última variable de la tupla una variable que tome como valor todos los elementos restantes. Este tipo de variable se especifica con un asterisco, **`*d`**, indicando que el resultado es una lista en vez de un valor:"
   ]
  },
  {
   "cell_type": "code",
   "execution_count": null,
   "metadata": {
    "id": "eW3jjz3WvOp1"
   },
   "outputs": [],
   "source": [
    "(a, b, c, *d) = (1, 2, 3, 4, 5, 6)\n",
    "print(a, b, c)\n",
    "print(d)"
   ]
  },
  {
   "cell_type": "markdown",
   "metadata": {
    "id": "ZrW2Li46n2Dy"
   },
   "source": [
    "Lo anterior es útil cuando tenemos que definir funciones con un número de parámetros variables:"
   ]
  },
  {
   "cell_type": "code",
   "execution_count": null,
   "metadata": {
    "id": "9SvcmHcnnYBK"
   },
   "outputs": [],
   "source": [
    "def funcion_parametros_variables(a, b, *c):\n",
    "  print(a, b)\n",
    "  for i in c:\n",
    "    print(\"-> \" + str(i))\n",
    "\n",
    "funcion_parametros_variables(10, 20, 30)"
   ]
  },
  {
   "cell_type": "code",
   "execution_count": null,
   "metadata": {
    "id": "6-5W4WvHnxNg"
   },
   "outputs": [],
   "source": [
    "funcion_parametros_variables(10, 20, 30, 40, 50, 1000)"
   ]
  },
  {
   "cell_type": "code",
   "execution_count": null,
   "metadata": {
    "id": "M_rk8LeqoCBf"
   },
   "outputs": [],
   "source": [
    "funcion_parametros_variables(10, 20)"
   ]
  },
  {
   "cell_type": "code",
   "execution_count": null,
   "metadata": {
    "id": "ejpi10vR5pke"
   },
   "outputs": [],
   "source": [
    "def devuelve_varios():\n",
    "  return 1, 2, 3, 6, 90\n",
    "\n",
    "a, b, *c = devuelve_varios()\n",
    "print(a)\n",
    "print(b)\n",
    "print(c)\n"
   ]
  },
  {
   "cell_type": "markdown",
   "metadata": {
    "id": "wPz3TKWWh47T"
   },
   "source": [
    "### **7.2. Expresiones `lambda`**\n",
    "---\n",
    "\n",
    "En *Python* las funciones son un tipo de dato más. Pueden ser asignadas a variables y pasadas como parámetros a otras funciones. Cuando se usa la palabra reservada **`def`** para la definición de variables, se realiza la asignación de una variable con el nombre de la función definida con el objeto **`function`** creado.\n",
    "\n"
   ]
  },
  {
   "cell_type": "code",
   "execution_count": null,
   "metadata": {
    "id": "Zo6zcxxhcqzO"
   },
   "outputs": [],
   "source": [
    "def inverso(parámetro):\n",
    "  return str(parámetro)[::-1]"
   ]
  },
  {
   "cell_type": "code",
   "execution_count": null,
   "metadata": {
    "id": "ccaPW_31Otbq"
   },
   "outputs": [],
   "source": [
    "print(inverso(106))\n",
    "\n",
    "print(inverso)"
   ]
  },
  {
   "cell_type": "markdown",
   "metadata": {
    "id": "lflpgM2TdWgP"
   },
   "source": [
    "Existe un tipo de declaración de funciones especial, usado para la definición de variables anónimas en usa sola línea. Esto se consigue con el operador **`lambda`**, que define una sintaxis simplificada para la definición de funciones cortas. Para esto, en la misma línea se escriben los argumentos y valores de retorno separados por el símbolo **`:`**. Si son múltiples valores de entrada o salida se pueden separan adicionalmente por coma **`,`**."
   ]
  },
  {
   "cell_type": "code",
   "execution_count": null,
   "metadata": {
    "id": "q6Lp8aDni08q"
   },
   "outputs": [],
   "source": [
    "sumar_uno = lambda x : x + 1\n",
    "print(sumar_uno(2))"
   ]
  },
  {
   "cell_type": "code",
   "execution_count": null,
   "metadata": {
    "id": "kttDBrFpeKlG"
   },
   "outputs": [],
   "source": [
    "cuadrado = lambda x : x * x\n",
    "print(cuadrado(2))"
   ]
  },
  {
   "cell_type": "code",
   "execution_count": null,
   "metadata": {
    "id": "Gms8IfOheLTE"
   },
   "outputs": [],
   "source": [
    "# No es obligatorio asignar lambdas a una variable.\n",
    "# Pueden ejecutarse directamente si se encierran entre paréntesis.\n",
    "\n",
    "(lambda x: x.upper())('abc')"
   ]
  },
  {
   "cell_type": "code",
   "execution_count": null,
   "metadata": {
    "id": "qrE6NaZEeikY"
   },
   "outputs": [],
   "source": [
    "# Se aceptan varios argumentos de entrada y valores de salida en un mismo lambda\n",
    "# Los valores de salida se deben encerrar en un paréntesis para que se interpreten como una tupla.\n",
    "\n",
    "intervalo = lambda base, margen : (base - margen, base + margen)\n",
    "\n",
    "intervalo(3, 0.5)"
   ]
  },
  {
   "cell_type": "markdown",
   "metadata": {
    "id": "mvkWTV2zh47U"
   },
   "source": [
    "### **7.3. Función `map`**\n",
    "---\n",
    "\n",
    "Existen muchas funciones que vienen por defecto con *Python* y que se pueden ejecutar cuando se desee. Estas también tienen el comportamiento de objetos **`function`** y pueden ser usadas directamente como argumento.\n",
    "\n",
    "Esta forma de tratar funciones es la base del paradigma de la programación funcional, que es soportado por *Python*.\n",
    "\n",
    "Una de las funciones más importantes que nace de este paradigma es la función **`map`**. Esta función permite iterar una colección y producir otra colección obtenida al ejecutar una función sobre cada uno de sus elementos.\n"
   ]
  },
  {
   "cell_type": "code",
   "execution_count": null,
   "metadata": {
    "id": "gO8ey77Fi1qJ"
   },
   "outputs": [],
   "source": [
    "# En este ejemplo se busca leer una secuencia de números\n",
    "# y convertirla de cadena de texto a tipo de dato numérico.\n",
    "entrada = '100 1 2 3 200 333'\n",
    "#La función split separa por espacios en blanco la cadena obtenida dejándola en forma de lista.\n",
    "entrada = entrada.split()\n",
    "\n",
    "# Se busca aplicar la función int a cada valor de la entrada y convertir su tipo de dato.\n",
    "entrada_mapeada = map(int, entrada)\n",
    "\n",
    "print(entrada_mapeada)"
   ]
  },
  {
   "cell_type": "markdown",
   "metadata": {
    "id": "2YlRAaaGOoVJ"
   },
   "source": [
    "La función **`map`** genera objetos iterables de tipo **`map`**.\n",
    "Si se quiere almacenar en una lista, se puede usar la función **`list`**.\n",
    "De lo contrario, es posible iterar sobre el objeto **`map`** en un bucle."
   ]
  },
  {
   "cell_type": "code",
   "execution_count": null,
   "metadata": {
    "id": "nrMB4OjoOyPc"
   },
   "outputs": [],
   "source": [
    "list(entrada_mapeada)"
   ]
  },
  {
   "cell_type": "code",
   "execution_count": null,
   "metadata": {
    "id": "m5cumefMhs3U"
   },
   "outputs": [],
   "source": [
    "s = '123456'\n",
    "for elemento in map(int, s):\n",
    "  print(f'Valor: {elemento} Tipo: {type(elemento)}')"
   ]
  },
  {
   "cell_type": "markdown",
   "metadata": {
    "id": "MCrPnXVHP4u7"
   },
   "source": [
    "Ahora con una expresión lambda:"
   ]
  },
  {
   "cell_type": "code",
   "execution_count": null,
   "metadata": {
    "id": "OKQ69bhjP-rG"
   },
   "outputs": [],
   "source": [
    "lista = [1, 2, 3, 4, 5]\n",
    "print(lista)"
   ]
  },
  {
   "cell_type": "code",
   "execution_count": null,
   "metadata": {
    "id": "CS8AOZDYDclf"
   },
   "outputs": [],
   "source": [
    "list(map(lambda item: item**2, lista))"
   ]
  },
  {
   "cell_type": "markdown",
   "metadata": {
    "id": "P3Tv4CRvh47V"
   },
   "source": [
    "### **7.4. Función `filter`**\n",
    "---\n",
    "\n",
    "Otra función importante de la programación funcional es la función **`filter`**. Esta permite seleccionar elementos de una colección que cumplan con una condición. Esta condición se expresa como una función que retorna un valor lógico a partir de cada elemento de la colección."
   ]
  },
  {
   "cell_type": "code",
   "execution_count": null,
   "metadata": {
    "id": "aN-UzHCrtMps"
   },
   "outputs": [],
   "source": [
    "lista = list(range(5))\n",
    "lista = list(filter(lambda x : x % 2 == 0, lista))\n",
    "\n",
    "print(lista)"
   ]
  },
  {
   "cell_type": "code",
   "execution_count": null,
   "metadata": {
    "id": "4A2ujJyoDWCO"
   },
   "outputs": [],
   "source": [
    "mayúsculas =  list(filter(lambda c : c.isupper(), 'MmAiYnÚúSsCcUuLlAa'))\n",
    "\n",
    "print(mayúsculas)"
   ]
  },
  {
   "cell_type": "markdown",
   "metadata": {
    "id": "JyIxiqNxj0Vo"
   },
   "source": [
    "Al trabajar con **`string`** se suele necesitar volver a unir los elementos en una sola cadena de texto. Con la función **`join`** es posible unir elementos de una lista en una cadena de texto, separando los elementos con el contenido de la cadena que llama el método. Si no se desea tener separadores, se puede usar una cadena vacía."
   ]
  },
  {
   "cell_type": "code",
   "execution_count": null,
   "metadata": {
    "id": "MjKQp2pzPZKr"
   },
   "outputs": [],
   "source": [
    "\",\".join(mayúsculas)"
   ]
  },
  {
   "cell_type": "code",
   "execution_count": null,
   "metadata": {
    "id": "lfiBxRdXjaAl"
   },
   "outputs": [],
   "source": [
    "\"\".join(mayúsculas)"
   ]
  }
 ],
 "metadata": {
  "colab": {
   "provenance": [
    {
     "file_id": "1Gp4Q4_k8B_20Wcx02r_mJ306alk-Kw-G",
     "timestamp": 1614115721797
    }
   ]
  },
  "kernelspec": {
   "display_name": "Python 3 (ipykernel)",
   "language": "python",
   "name": "python3"
  },
  "language_info": {
   "codemirror_mode": {
    "name": "ipython",
    "version": 3
   },
   "file_extension": ".py",
   "mimetype": "text/x-python",
   "name": "python",
   "nbconvert_exporter": "python",
   "pygments_lexer": "ipython3",
   "version": "3.9.7"
  }
 },
 "nbformat": 4,
 "nbformat_minor": 4
}
