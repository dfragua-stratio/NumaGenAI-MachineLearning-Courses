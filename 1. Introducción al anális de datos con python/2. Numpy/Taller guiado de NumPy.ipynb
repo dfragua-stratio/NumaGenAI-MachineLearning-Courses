{
 "cells": [
  {
   "cell_type": "markdown",
   "metadata": {
    "id": "d5cRhUl1o8SZ"
   },
   "source": [
    "# **Librería numérica de *Python*: *NumPy***\n",
    "---\n",
    "<img src = \"https://raw.githubusercontent.com/numpy/numpy/master/branding/logo/primary/numpylogo.png\" alt = \"NumPy logo\" width = \"70%\">  </img>\n",
    "\n",
    "\n",
    "*NumPy* (del inglés ***Numerical Python***) es la librería fundamental para la computación científica con *Python*. \n",
    "Contiene funcionalidades de:\n",
    "\n",
    "* Análisis Numérico.\n",
    "* Álgebra lineal y matricial.\n",
    "* Probabilidad y estadística.\n",
    "* Números aleatorios.\n",
    "* Otras herramientas matemáticas.\n",
    "\n",
    "Además de su uso científico, *NumPy* provee una estructura de datos adicional llamada **arreglo**. Un arreglo es un contenedor multidimensional eficiente para datos genéricos. Los arreglos son especialmente útiles en el manejo de grandes volúmenes de datos. Además, estos contenedores se pueden definir con tipos de datos arbitrarios, lo que permite a *NumPy* integrarse de manera rápida y sin problemas con una amplia variedad de bases de datos.\n",
    "\n",
    "*NumPy* también permite un alto rendimiento y mejor optimización de la memoria por sus rutinas implementadas en lenguaje C, que por su naturaleza compilada es más eficiente y cercano al sistema operativo, ideal para esta tarea.\n"
   ]
  },
  {
   "cell_type": "markdown",
   "metadata": {
    "id": "de0P9ZAFo8Sc"
   },
   "source": [
    "## **1. Importar *NumPy***\n",
    "---\n",
    "\n",
    "*NumPy* viene instalado por defecto en la mayoría de las distribuciones de *Python*, en especial en aquellas orientadas a la computación científica. Una vez *NumPy* esté instalado, se puede importar como una librería para su ejecución en código de *Python*. Esto se puede hacer de las siguientes maneras:\n"
   ]
  },
  {
   "cell_type": "markdown",
   "metadata": {
    "id": "83yY4Xppn7SD"
   },
   "source": [
    "\n",
    "**1.1. Importar *NumPy* con el alias `np`**: Es una práctica común en la comunidad de desarrolladores importar *NumPy* con el alias **`np`** en sus llamados en código, y es incluso utilizado de esta forma en su [documentación oficial](https://numpy.org/devdocs/user/quickstart.html). Esta va a ser la forma utilizada en el desarrollo de este tutorial y materiales futuros."
   ]
  },
  {
   "cell_type": "code",
   "execution_count": 1,
   "metadata": {
    "id": "shLHBZRto8Sd"
   },
   "outputs": [],
   "source": [
    "import numpy as np"
   ]
  },
  {
   "cell_type": "code",
   "execution_count": 2,
   "metadata": {
    "id": "M80Cc0GBKfcW"
   },
   "outputs": [
    {
     "data": {
      "text/plain": [
       "array(None, dtype=object)"
      ]
     },
     "execution_count": 2,
     "metadata": {},
     "output_type": "execute_result"
    }
   ],
   "source": [
    "np.array(None)"
   ]
  },
  {
   "cell_type": "markdown",
   "metadata": {
    "id": "xBqhxWCOSlxT"
   },
   "source": [
    "**1.2. Importando *NumPy* sin alias:** Esta alternativa funciona de igual forma que la anterior, pero utilizando **`numpy`** en vez de **`np`** cuando se haga el llamado en código."
   ]
  },
  {
   "cell_type": "code",
   "execution_count": 3,
   "metadata": {
    "id": "UAqneAPTTFt-"
   },
   "outputs": [],
   "source": [
    "import numpy"
   ]
  },
  {
   "cell_type": "code",
   "execution_count": 4,
   "metadata": {
    "id": "jk2ohsosKa5i"
   },
   "outputs": [
    {
     "data": {
      "text/plain": [
       "array(None, dtype=object)"
      ]
     },
     "execution_count": 4,
     "metadata": {},
     "output_type": "execute_result"
    }
   ],
   "source": [
    "numpy.array(None)"
   ]
  },
  {
   "cell_type": "markdown",
   "metadata": {
    "id": "IKfWxT1qTJPT"
   },
   "source": [
    "**1.3. Importando los métodos de *NumPy*:** Si se hace de esta manera se puede llamar las funciones y atributos de *NumPy* de manera directa. Por ejemplo:"
   ]
  },
  {
   "cell_type": "code",
   "execution_count": 5,
   "metadata": {
    "id": "2og4jUceTJPV"
   },
   "outputs": [],
   "source": [
    "#El símbolo * indica a Python que importe todos los métodos y atributos de NumPy\n",
    "from numpy import *     "
   ]
  },
  {
   "cell_type": "code",
   "execution_count": 6,
   "metadata": {
    "id": "_5x6LoKiV6Mf"
   },
   "outputs": [],
   "source": [
    "#Se pueden importar por separado los elementos con comas (,).\n",
    "from numpy import array, arange   "
   ]
  },
  {
   "cell_type": "code",
   "execution_count": 7,
   "metadata": {
    "id": "YalHRsHTTxjw"
   },
   "outputs": [
    {
     "data": {
      "text/plain": [
       "array(None, dtype=object)"
      ]
     },
     "execution_count": 7,
     "metadata": {},
     "output_type": "execute_result"
    }
   ],
   "source": [
    "array(None)"
   ]
  },
  {
   "cell_type": "markdown",
   "metadata": {
    "id": "dxNzX3sfq3gZ"
   },
   "source": [
    "Este material se realizó con las siguientes versiones:\n",
    "*  *Python*: 3.6.9\n",
    "*  *NumPy*:  1.19.5"
   ]
  },
  {
   "cell_type": "code",
   "execution_count": 8,
   "metadata": {
    "id": "jUMP_2CPqwRY"
   },
   "outputs": [
    {
     "name": "stdout",
     "output_type": "stream",
     "text": [
      "Python 3.9.7\n",
      "NumPy 1.20.3\n"
     ]
    }
   ],
   "source": [
    "#Versión de Python y NumPy\n",
    "!python --version\n",
    "print('NumPy', np.__version__)"
   ]
  },
  {
   "cell_type": "markdown",
   "metadata": {
    "id": "tYCUoAvko8Si"
   },
   "source": [
    "## **2. ndarray - Arreglos de _NumPy_**\n",
    "---\n",
    "\n",
    "Los arreglos son el objeto principal de *NumPy* y en torno a ellos gira toda su funcionalidad. Un arreglo es una colección ordenada de elementos del mismo tipo, como las listas, pero con longitud inmutable. Esto quiere decir que los elementos de cada posición de un arreglo se pueden modificar, a diferencia de las tuplas, pero su longitud no se puede modificar sin crear un objeto nuevo.\n",
    "\n",
    "Los arreglos de *NumPy* pueden representar:\n",
    "  * **Vectores**. (Arreglos de 1 dimensión)\n",
    "  * **Matrices**. (Arreglos de 2 dimensiones) \n",
    "  * **Tensores**. (Arreglos de 3 dimensiones en adelante) \n"
   ]
  },
  {
   "cell_type": "markdown",
   "metadata": {
    "id": "bjMtt-ZIuV7G"
   },
   "source": [
    "Generalmente se recomienda usar arreglos de *NumPy* en vez de listas genéricas de Python. A pesar de ser conceptualmente similares, elegir entre listas y arreglos es una decisión de diseño importante al considerar el desempeño y uso de memoria de un programa. Para conocer más información acerca de por qué usar arreglos en lugar de listas, lo invitamos a consultar [este post de StackOverflow](http://stackoverflow.com/questions/993984/why-numpy-instead-of-python-lists)."
   ]
  },
  {
   "cell_type": "markdown",
   "metadata": {
    "id": "VM4BchnEXdmY"
   },
   "source": [
    "### **2.1. Creación de arreglos**\n",
    "---\n",
    "\n",
    "Existen múltiples formas para crear arreglos de *NumPy*. Para crear arreglos a partir de datos ordenados preexistentes, como tuplas o listas de *Python*, se utiliza la función **`np.array`** que recibe como parámetro el objeto original y genera un objeto **`numpy.ndarray`**. Este es el nombre del tipo de dato de los arreglos de *NumPy*."
   ]
  },
  {
   "cell_type": "code",
   "execution_count": 9,
   "metadata": {
    "id": "RZqORKZwo8Sj"
   },
   "outputs": [
    {
     "data": {
      "text/plain": [
       "array([1, 2, 3])"
      ]
     },
     "execution_count": 9,
     "metadata": {},
     "output_type": "execute_result"
    }
   ],
   "source": [
    "# Con listas\n",
    "lista = [1, 2, 3]\n",
    "np.array(lista)"
   ]
  },
  {
   "cell_type": "markdown",
   "metadata": {},
   "source": [
    "**Observación**: A continuación se usa un control de warnings para evitar mensaes al ejecutar una linea de código, ver [Warning control](https://docs.python.org/3/library/warnings.html#) para más información"
   ]
  },
  {
   "cell_type": "code",
   "execution_count": 16,
   "metadata": {
    "id": "lubnZb-3o8Sn"
   },
   "outputs": [
    {
     "data": {
      "text/plain": [
       "array([1, list([1, 2, 3]), 3], dtype=object)"
      ]
     },
     "execution_count": 16,
     "metadata": {},
     "output_type": "execute_result"
    }
   ],
   "source": [
    "np.warnings.filterwarnings('ignore', category=np.VisibleDeprecationWarning) \n",
    "\n",
    "# Con tuplas\n",
    "tupla = (1, [1,2,3], 3)\n",
    "np.array(tupla)"
   ]
  },
  {
   "cell_type": "code",
   "execution_count": 17,
   "metadata": {
    "id": "ftBDpcgao8Sx"
   },
   "outputs": [
    {
     "data": {
      "text/plain": [
       "array([[1, 2, 3],\n",
       "       [4, 5, 6],\n",
       "       [7, 8, 9]])"
      ]
     },
     "execution_count": 17,
     "metadata": {},
     "output_type": "execute_result"
    }
   ],
   "source": [
    "# Con la combinación de tuplas y listas anidadas. Esto genera arreglos de 2 o más dimensiones.\n",
    "matriz = ([1, 2, 3], (4, 5, 6), [7, 8, 9])\n",
    "np.array(matriz)"
   ]
  },
  {
   "cell_type": "markdown",
   "metadata": {
    "id": "X3JjoxAlbb_Z"
   },
   "source": [
    "Los elementos que contienen los arreglos deben ser uniformes y homogéneos con respecto a un tipo de dato único. Cuando no se especifica, *NumPy* infiere el tipo de dato apropiado para los datos de entrada. Los tipos de datos soportados por *NumPy* se denominan en su notación como **`dtype`** y se pueden pasar como argumento en la creación de arreglos en la mayoría de funciones. \n",
    "A continuación, se presentan algunos de los nombres usados para los tipos de datos genéricos, con su equivalente en *Python*:\n",
    "\n",
    "| *Numpy* dtype             | *Python* type |\n",
    "|---------------------------|---------------|\n",
    "| number, inexact, floating | float         |\n",
    "| complexfloating           | cfloat        |\n",
    "| integer, signedinteger    | int_          |\n",
    "| unsignedinteger           | uint          |\n",
    "| character                 | string        |\n",
    "| generic, flexible         | void          |\n",
    "\n",
    "\n",
    "Esta es una lista de algunos de los *dtype* numéricos soportados en *NumPy* con su equivalente en el lenguaje de programación C, más cercano a la máquina y en general más eficiente por su naturaleza.\n",
    "\n",
    "| *Numpy* dtype               | C type              |\n",
    "|-----------------------------|---------------------|\n",
    "| np.bool_                    | bool                |\n",
    "| np.byte                     | signed char         |\n",
    "| np.ubyte                    | unsigned char       |\n",
    "| np.short                    | short               |\n",
    "| np.ushort                   | unsigned short      |\n",
    "| np.intc                     | int                 |\n",
    "| np.uintc                    | unsigned int        |\n",
    "| np.int_                     | long                |\n",
    "| np.uint                     | unsigned long       |\n",
    "| np.longlong                 | long long           |\n",
    "| np.ulonglong                | unsigned long long  |\n",
    "| np.half / np.float16        | float               |\n",
    "| np.single                   | float               |\n",
    "| np.double                   | double              |\n",
    "| np.longdouble               | long double         |\n",
    "| np.csingle                  | float complex       |\n",
    "| np.cdouble                  | double complex      |\n",
    "| np.clongdouble              | long double complex |\n",
    "| np.int8                     | int8_t              |\n",
    "| np.int16                    | int16_t             |\n",
    "| np.int32                    | int32_t             |\n",
    "| np.int64                    | int64_t             |\n",
    "| np.uint8                    | uint8_t             |\n",
    "| np.uint16                   | uint16_t            |\n",
    "| np.uint32                   | uint32_t            |\n",
    "| np.uint64                   | uint64_t            |\n",
    "| np.intp                     | intptr_t            |\n",
    "| np.uintp                    | uintptr_t           |\n",
    "| np.float32                  | float               |\n",
    "| np.float64 / np.float_      | double              |\n",
    "| np.complex64                | float complex       |\n",
    "| np.complex128 / np.complex_ | double complex      |\n",
    "\n",
    "Además de estos tipos se consideran otros tipos de dato no numéricos especiales:\n",
    "\n",
    "* **`np.nan`**: Sigla del inglés *not a number*. Este tipo de dato se le otorga a los elementos de un arreglo numérico que no pueden ser interpretados como un resultado numérico. Se usa por lo general para indicar la presencia de valores faltantes o que deberían ser ignorados. Para arreglos no numéricos esto se hace con el tipo **`None`** de *Python*.\n",
    "\n",
    "* **`np.object`**: *NumPy* admite el uso de los tipos de datos genéricos de *Python*. **`numpy.object`** es el tipo genérico para cualquier dato que no corresponda con estas primitivas. Esta regla aplica para listas, conjuntos, entre otros.\n",
    "\n",
    "\n",
    "\n",
    "Para más información, consulte la [entrada de la documentación oficial](https://numpy.org/devdocs/reference/arrays.dtypes.html) referente a los tipos de dato **`dtype`**."
   ]
  },
  {
   "cell_type": "code",
   "execution_count": 18,
   "metadata": {
    "id": "oc9s7MTif_MV"
   },
   "outputs": [
    {
     "data": {
      "text/plain": [
       "array([ 51.2,  27. , 233.7])"
      ]
     },
     "execution_count": 18,
     "metadata": {},
     "output_type": "execute_result"
    }
   ],
   "source": [
    "np.array(['051.2', '027.0', '233.7'], dtype = np.float64)"
   ]
  },
  {
   "cell_type": "code",
   "execution_count": 19,
   "metadata": {
    "id": "rYoKF1Nmm_EU"
   },
   "outputs": [
    {
     "data": {
      "text/plain": [
       "array([1, 2, 3])"
      ]
     },
     "execution_count": 19,
     "metadata": {},
     "output_type": "execute_result"
    }
   ],
   "source": [
    "# NumPy también admite la especificación de dtypes con cadenas de texto\n",
    "\n",
    "np.array(['001', '002', '003'], dtype = \"int\") "
   ]
  },
  {
   "cell_type": "markdown",
   "metadata": {
    "id": "yj6kiI5Mo8S1"
   },
   "source": [
    "Además de la función **`np.array()`**, *NumPy* dispone de varias funciones para generar arreglos comunes. A continuación se presentan algunos de los más importantes:\n",
    "\n",
    "*  **`np.arange(inicio, final, paso, dtype)`**: Este método es el análogo de la función **`range`** de *Python* para la creación de arreglos. Admite un argumento *dtype* para definir el tipo de dato del arreglo generado."
   ]
  },
  {
   "cell_type": "code",
   "execution_count": 20,
   "metadata": {
    "id": "K4BUFdYWlBoT"
   },
   "outputs": [
    {
     "data": {
      "text/plain": [
       "array([ 0.+0.j,  5.+0.j, 10.+0.j, 15.+0.j, 20.+0.j, 25.+0.j, 30.+0.j,\n",
       "       35.+0.j, 40.+0.j, 45.+0.j])"
      ]
     },
     "execution_count": 20,
     "metadata": {},
     "output_type": "execute_result"
    }
   ],
   "source": [
    "np.arange(0, 50, 5, dtype = 'complex')"
   ]
  },
  {
   "cell_type": "markdown",
   "metadata": {
    "id": "Nz23ZkHhlUCp"
   },
   "source": [
    "*  **`np.empty(shape, dtype)`**: Este método permite generar arreglos \"vacíos\" con las dimensiones de **shape**. El argumento *shape* puede ser de varias dimensiones, definido como una tupla **(n, m)**, de tamaño **n** (filas) por **m** (columnas). Estos arreglos se consideran vacíos de forma conceptual, pero esto no es del todo correcto.\n",
    "\n",
    " Al realizar el llamado de la función, *NumPy* reserva el espacio de memoria para el arreglo, pero no inicializa sus casillas con un elemento específico. Es por esto que estos arreglos pueden tener elementos \"basura\" de ejecuciones pasadas."
   ]
  },
  {
   "cell_type": "code",
   "execution_count": 21,
   "metadata": {
    "id": "cGWY-hdElpuC"
   },
   "outputs": [
    {
     "data": {
      "text/plain": [
       "array([[0., 0., 0., ..., 0., 0., 0.],\n",
       "       [0., 0., 0., ..., 0., 0., 0.],\n",
       "       [0., 0., 0., ..., 0., 0., 0.],\n",
       "       ...,\n",
       "       [0., 0., 0., ..., 0., 0., 0.],\n",
       "       [0., 0., 0., ..., 0., 0., 0.],\n",
       "       [0., 0., 0., ..., 0., 0., 0.]])"
      ]
     },
     "execution_count": 21,
     "metadata": {},
     "output_type": "execute_result"
    }
   ],
   "source": [
    "np.empty((500,200))"
   ]
  },
  {
   "cell_type": "code",
   "execution_count": 22,
   "metadata": {
    "id": "A3TUpBD7nbjr"
   },
   "outputs": [
    {
     "data": {
      "text/plain": [
       "array([ 94842709507184,               0,  94842709508192, 140455133204592,\n",
       "       140455167715568])"
      ]
     },
     "execution_count": 22,
     "metadata": {},
     "output_type": "execute_result"
    }
   ],
   "source": [
    "# Para arreglos de una dimensión:\n",
    "np.empty(5, dtype = 'int')"
   ]
  },
  {
   "cell_type": "markdown",
   "metadata": {
    "id": "jW6XZ6UPmmvM"
   },
   "source": [
    "*  **`np.full(shape, a, dtype)`**: Este método permite crear un arreglo en el que todos los elementos tengan el valor inicial **`a`**."
   ]
  },
  {
   "cell_type": "code",
   "execution_count": 27,
   "metadata": {
    "id": "OxtRZRnYm0VE"
   },
   "outputs": [
    {
     "data": {
      "text/plain": [
       "array([['z', 'z', 'z', 'z', 'z'],\n",
       "       ['z', 'z', 'z', 'z', 'z'],\n",
       "       ['z', 'z', 'z', 'z', 'z'],\n",
       "       ['z', 'z', 'z', 'z', 'z'],\n",
       "       ['z', 'z', 'z', 'z', 'z'],\n",
       "       ['z', 'z', 'z', 'z', 'z'],\n",
       "       ['z', 'z', 'z', 'z', 'z'],\n",
       "       ['z', 'z', 'z', 'z', 'z'],\n",
       "       ['z', 'z', 'z', 'z', 'z'],\n",
       "       ['z', 'z', 'z', 'z', 'z']], dtype='<U1')"
      ]
     },
     "execution_count": 27,
     "metadata": {},
     "output_type": "execute_result"
    }
   ],
   "source": [
    "np.full((10, 5), \"z\")"
   ]
  },
  {
   "cell_type": "code",
   "execution_count": 28,
   "metadata": {
    "id": "thWAPnF5niTi"
   },
   "outputs": [
    {
     "data": {
      "text/plain": [
       "array([100, 100, 100, 100, 100, 100, 100, 100, 100, 100])"
      ]
     },
     "execution_count": 28,
     "metadata": {},
     "output_type": "execute_result"
    }
   ],
   "source": [
    "# Para arreglos de una dimensión:\n",
    "np.full(10, 100)"
   ]
  },
  {
   "cell_type": "markdown",
   "metadata": {
    "id": "0XFaTdbSmrZH"
   },
   "source": [
    "*  **`np.ones((n, m))`**: Este método funciona de la misma manera que **`np.full`** con uno como valor inicial. "
   ]
  },
  {
   "cell_type": "code",
   "execution_count": 29,
   "metadata": {
    "id": "q_RUCm8Gmyus"
   },
   "outputs": [
    {
     "data": {
      "text/plain": [
       "array([[1., 1., 1., 1., 1.],\n",
       "       [1., 1., 1., 1., 1.],\n",
       "       [1., 1., 1., 1., 1.]])"
      ]
     },
     "execution_count": 29,
     "metadata": {},
     "output_type": "execute_result"
    }
   ],
   "source": [
    "np.ones((3,5))"
   ]
  },
  {
   "cell_type": "code",
   "execution_count": 30,
   "metadata": {
    "id": "XU-STeDGnkEu"
   },
   "outputs": [
    {
     "data": {
      "text/plain": [
       "array([1, 1, 1, 1, 1, 1, 1, 1, 1, 1])"
      ]
     },
     "execution_count": 30,
     "metadata": {},
     "output_type": "execute_result"
    }
   ],
   "source": [
    "# Para arreglos de una dimensión:\n",
    "np.ones(10, dtype = 'int') # Puede ser necesario definir el tipo del arreglo durante su creación."
   ]
  },
  {
   "cell_type": "markdown",
   "metadata": {
    "id": "9qWV4OBWmtRw"
   },
   "source": [
    "*  **`np.zeros((n, m))`**: Este método funciona de la misma manera que **`np.full`** con cero como valor inicial."
   ]
  },
  {
   "cell_type": "code",
   "execution_count": 31,
   "metadata": {
    "id": "xtRxuZSim2-H"
   },
   "outputs": [
    {
     "data": {
      "text/plain": [
       "array([[0., 0., 0., 0., 0.],\n",
       "       [0., 0., 0., 0., 0.],\n",
       "       [0., 0., 0., 0., 0.]])"
      ]
     },
     "execution_count": 31,
     "metadata": {},
     "output_type": "execute_result"
    }
   ],
   "source": [
    "np.zeros((3,5))"
   ]
  },
  {
   "cell_type": "code",
   "execution_count": 32,
   "metadata": {
    "id": "4nsyT7Kpnk9F"
   },
   "outputs": [
    {
     "data": {
      "text/plain": [
       "array([0., 0., 0., 0., 0., 0., 0., 0., 0., 0.])"
      ]
     },
     "execution_count": 32,
     "metadata": {},
     "output_type": "execute_result"
    }
   ],
   "source": [
    "# Para arreglos de una dimensión:\n",
    "np.zeros(10)"
   ]
  },
  {
   "cell_type": "markdown",
   "metadata": {
    "id": "uuWCgEzgoR2w"
   },
   "source": [
    "*  **`np.eye(n, m)`**: Este método genera una matriz o arreglo de 2 dimensiones en el que la diagonal principal está compuesta de unos y el resto de la matriz está compuesta de unos. Si el argumento **`m`** no es pasado se genera una matriz cuadrada de tamaño $n$ por $n$."
   ]
  },
  {
   "cell_type": "code",
   "execution_count": 33,
   "metadata": {
    "id": "2TyUqDsgoR2y"
   },
   "outputs": [
    {
     "data": {
      "text/plain": [
       "array([[1, 0, 0, 0, 0, 0, 0, 0, 0, 0],\n",
       "       [0, 1, 0, 0, 0, 0, 0, 0, 0, 0],\n",
       "       [0, 0, 1, 0, 0, 0, 0, 0, 0, 0],\n",
       "       [0, 0, 0, 1, 0, 0, 0, 0, 0, 0],\n",
       "       [0, 0, 0, 0, 1, 0, 0, 0, 0, 0],\n",
       "       [0, 0, 0, 0, 0, 1, 0, 0, 0, 0],\n",
       "       [0, 0, 0, 0, 0, 0, 1, 0, 0, 0],\n",
       "       [0, 0, 0, 0, 0, 0, 0, 1, 0, 0],\n",
       "       [0, 0, 0, 0, 0, 0, 0, 0, 1, 0],\n",
       "       [0, 0, 0, 0, 0, 0, 0, 0, 0, 1]])"
      ]
     },
     "execution_count": 33,
     "metadata": {},
     "output_type": "execute_result"
    }
   ],
   "source": [
    "np.eye(10, dtype= 'int')"
   ]
  },
  {
   "cell_type": "code",
   "execution_count": 34,
   "metadata": {
    "id": "cXQwPivUoR23"
   },
   "outputs": [
    {
     "data": {
      "text/plain": [
       "array([[1., 0., 0.],\n",
       "       [0., 1., 0.],\n",
       "       [0., 0., 1.],\n",
       "       [0., 0., 0.],\n",
       "       [0., 0., 0.]])"
      ]
     },
     "execution_count": 34,
     "metadata": {},
     "output_type": "execute_result"
    }
   ],
   "source": [
    "np.eye(5,3)"
   ]
  },
  {
   "cell_type": "markdown",
   "metadata": {
    "id": "-cCb6113oKUK"
   },
   "source": [
    "*  **`np.linspace(inicio, final, tamaño, endpoint)`**: Este método permite generar **`tamaño`** elementos desde **`inicio`** hasta **`final`** separados uniformemente en una escala lineal. Puede producir el mismo resultado que cuando se usa **`np.arange`** y se desconoce el tamaño del paso necesario para producir la misma cantidad de elementos. Al contrario que con **`np.arange`** el final está contenido en el arreglo generado a menos que se indique lo contrario con el argumento booleano opcional **`endpoint`**."
   ]
  },
  {
   "cell_type": "code",
   "execution_count": 35,
   "metadata": {
    "id": "dj5N-FEioKUR"
   },
   "outputs": [
    {
     "data": {
      "text/plain": [
       "array([ 1.,  2.,  3.,  4.,  5.,  6.,  7.,  8.,  9., 10.])"
      ]
     },
     "execution_count": 35,
     "metadata": {},
     "output_type": "execute_result"
    }
   ],
   "source": [
    "np.linspace(1, 10, 10)"
   ]
  },
  {
   "cell_type": "code",
   "execution_count": 36,
   "metadata": {
    "id": "7b_tDIzwoKUN"
   },
   "outputs": [
    {
     "data": {
      "text/plain": [
       "array([0. , 0.2, 0.4, 0.6, 0.8, 1. , 1.2, 1.4, 1.6, 1.8])"
      ]
     },
     "execution_count": 36,
     "metadata": {},
     "output_type": "execute_result"
    }
   ],
   "source": [
    "# Equivalente a np.arange(0, 2, 0.2)\n",
    "np.linspace(0, 2, 10, endpoint = False)"
   ]
  },
  {
   "cell_type": "markdown",
   "metadata": {
    "id": "ZD-AFTxtoKxX"
   },
   "source": [
    "*  **`np.logspace(inicio, final, tamaño, endpoint, base)`**: Este método es equivalente al método **`np.linspace`** pero generando elementos separados en una escala logarítmica. Esto quiere decir que se generan elementos linealmente que corresponden al exponente de cada elemento del arreglo resultante. La base de esa potencia está definida por defecto en 10, pero puede cambiarse con el argumento **`base`** de la función."
   ]
  },
  {
   "cell_type": "code",
   "execution_count": 37,
   "metadata": {
    "id": "C8rK51qnoKxY"
   },
   "outputs": [
    {
     "data": {
      "text/plain": [
       "array([1.e+00, 1.e+01, 1.e+02, 1.e+03, 1.e+04])"
      ]
     },
     "execution_count": 37,
     "metadata": {},
     "output_type": "execute_result"
    }
   ],
   "source": [
    "np.logspace(0, 4, 5, dtype = float)"
   ]
  },
  {
   "cell_type": "code",
   "execution_count": 38,
   "metadata": {
    "id": "5T0goD09oKxa"
   },
   "outputs": [
    {
     "data": {
      "text/plain": [
       "array([ 1,  2,  4,  8, 16, 32])"
      ]
     },
     "execution_count": 38,
     "metadata": {},
     "output_type": "execute_result"
    }
   ],
   "source": [
    "np.logspace(0, 5, 6, base = 2, dtype = int)"
   ]
  },
  {
   "cell_type": "markdown",
   "metadata": {
    "id": "2-xS9fL26qc-"
   },
   "source": [
    "### **2.2 Atributos de arreglos**\n",
    "---\n",
    "\n",
    "Cada objeto de *NumPy* tiene algunos atributos que son de gran utilidad para su identificación y entendimiento. A continuación se presentan algunos de los más importantes."
   ]
  },
  {
   "cell_type": "markdown",
   "metadata": {
    "id": "dHAIWSu8-2yg"
   },
   "source": [
    "*  **`arr.dtype`**: Este atributo permite conocer el **`dtype`** que tiene el arreglo."
   ]
  },
  {
   "cell_type": "code",
   "execution_count": 39,
   "metadata": {
    "id": "OJrihIkJ_Hra"
   },
   "outputs": [
    {
     "data": {
      "text/plain": [
       "dtype('float64')"
      ]
     },
     "execution_count": 39,
     "metadata": {},
     "output_type": "execute_result"
    }
   ],
   "source": [
    "arr = np.array([1.5, 0, 3.2])\n",
    "arr.dtype"
   ]
  },
  {
   "cell_type": "code",
   "execution_count": 40,
   "metadata": {
    "id": "kuL4Tnxi_bzY"
   },
   "outputs": [
    {
     "data": {
      "text/plain": [
       "dtype('bool')"
      ]
     },
     "execution_count": 40,
     "metadata": {},
     "output_type": "execute_result"
    }
   ],
   "source": [
    "arr = np.empty(15, dtype= np.bool_)\n",
    "arr.dtype"
   ]
  },
  {
   "cell_type": "markdown",
   "metadata": {
    "id": "QWTjZQ1XAL-8"
   },
   "source": [
    "\n",
    "*  **`arr.shape`**: Este atributo permite conocer las dimensiones de un arreglo. Estas dimensiones están contenidas en una tupla y por lo tanto se pueden desempaquetar en variables distintas."
   ]
  },
  {
   "cell_type": "code",
   "execution_count": 41,
   "metadata": {
    "id": "m4xxeLjA9qhK"
   },
   "outputs": [
    {
     "data": {
      "text/plain": [
       "(3, 2, 4)"
      ]
     },
     "execution_count": 41,
     "metadata": {},
     "output_type": "execute_result"
    }
   ],
   "source": [
    "arr = np.zeros((3,2,4)) # Arreglo de 3 dimensiones\n",
    "arr.shape"
   ]
  },
  {
   "cell_type": "code",
   "execution_count": 42,
   "metadata": {
    "id": "5r-D2hEZ907n"
   },
   "outputs": [
    {
     "name": "stdout",
     "output_type": "stream",
     "text": [
      "3\n",
      "2\n",
      "4\n"
     ]
    }
   ],
   "source": [
    "n, m, w = arr.shape\n",
    "print(n)\n",
    "print(m)\n",
    "print(w)"
   ]
  },
  {
   "cell_type": "markdown",
   "metadata": {
    "id": "hXafg-d6-VhY"
   },
   "source": [
    "*  **`arr.ndim`**: Este atributo permite conocer el número de dimensiones de un arreglo. Esto es equivalente a verificar el tamaño de la tupla retornada por **`arr.shape`**."
   ]
  },
  {
   "cell_type": "code",
   "execution_count": 43,
   "metadata": {
    "id": "CcSw_x_E-U8L"
   },
   "outputs": [
    {
     "data": {
      "text/plain": [
       "5"
      ]
     },
     "execution_count": 43,
     "metadata": {},
     "output_type": "execute_result"
    }
   ],
   "source": [
    "arr = np.ones((2,2,2,2,2))\n",
    "arr.ndim"
   ]
  },
  {
   "cell_type": "markdown",
   "metadata": {
    "id": "oXxbaVd4_xNH"
   },
   "source": [
    "\n",
    "*  **`arr.size`**: Este atributo permite conocer el número de elementos o casillas disponibles en un arreglo."
   ]
  },
  {
   "cell_type": "code",
   "execution_count": 44,
   "metadata": {
    "id": "Zyrj_0DGAXoV"
   },
   "outputs": [
    {
     "data": {
      "text/plain": [
       "9"
      ]
     },
     "execution_count": 44,
     "metadata": {},
     "output_type": "execute_result"
    }
   ],
   "source": [
    "arr = np.empty((3,3))\n",
    "arr.size"
   ]
  },
  {
   "cell_type": "code",
   "execution_count": 45,
   "metadata": {
    "id": "kPv0pivfAcgk"
   },
   "outputs": [
    {
     "data": {
      "text/plain": [
       "5"
      ]
     },
     "execution_count": 45,
     "metadata": {},
     "output_type": "execute_result"
    }
   ],
   "source": [
    "# El tamaño no se ve afectado si alguno de los elementos es NaN o None.\n",
    "arr = np.array([1, np.NaN, 2, np.NaN, None])\n",
    "arr.size"
   ]
  },
  {
   "cell_type": "markdown",
   "metadata": {
    "id": "SecNYaDOArjC"
   },
   "source": [
    "\n",
    "*  **`arr.itemsize`**: Este atributo permite conocer el tamaño en *bytes* que ocupa cada elemento de un arreglo. Como los elementos tienen que ser homogéneos este tamaño es el máximo de sus elementos contenidos."
   ]
  },
  {
   "cell_type": "code",
   "execution_count": 46,
   "metadata": {
    "id": "wKw5PW_9BtcJ"
   },
   "outputs": [
    {
     "data": {
      "text/plain": [
       "8"
      ]
     },
     "execution_count": 46,
     "metadata": {},
     "output_type": "execute_result"
    }
   ],
   "source": [
    "arr = np.eye(100)\n",
    "arr.itemsize"
   ]
  },
  {
   "cell_type": "code",
   "execution_count": 47,
   "metadata": {
    "id": "O9IDXEbGB0NN"
   },
   "outputs": [
    {
     "data": {
      "text/plain": [
       "80000"
      ]
     },
     "execution_count": 47,
     "metadata": {},
     "output_type": "execute_result"
    }
   ],
   "source": [
    "# Podemos calcular la cantidad de bytes reservada para el arreglo completo en memoria\n",
    "arr.itemsize * arr.size"
   ]
  },
  {
   "cell_type": "code",
   "execution_count": 48,
   "metadata": {
    "id": "FBLHdGApA40J"
   },
   "outputs": [
    {
     "data": {
      "text/plain": [
       "84"
      ]
     },
     "execution_count": 48,
     "metadata": {},
     "output_type": "execute_result"
    }
   ],
   "source": [
    "lista = [1, True, 'Cadena de texto larga']\n",
    "\n",
    "arr = np.array(lista)\n",
    "arr.itemsize"
   ]
  },
  {
   "cell_type": "markdown",
   "metadata": {
    "id": "6MgZ-SafCEgS"
   },
   "source": [
    "\n",
    "*  **`arr.real` y `arr.imag`**: Estos atributos permiten conocer la parte real  e imaginaria de un objeto de números complejos. Estas partes son arreglos completos generados a partir del arreglo original con *dtype float*."
   ]
  },
  {
   "cell_type": "code",
   "execution_count": 49,
   "metadata": {
    "id": "YIwMR_BSCaaj"
   },
   "outputs": [
    {
     "data": {
      "text/plain": [
       "array([[5.+10.j, 5.+10.j, 5.+10.j],\n",
       "       [5.+10.j, 5.+10.j, 5.+10.j],\n",
       "       [5.+10.j, 5.+10.j, 5.+10.j],\n",
       "       [5.+10.j, 5.+10.j, 5.+10.j],\n",
       "       [5.+10.j, 5.+10.j, 5.+10.j]])"
      ]
     },
     "execution_count": 49,
     "metadata": {},
     "output_type": "execute_result"
    }
   ],
   "source": [
    "arr = np.full((5,3), 5 + 10j)\n",
    "arr"
   ]
  },
  {
   "cell_type": "code",
   "execution_count": 50,
   "metadata": {
    "id": "yM_cjohdryN6"
   },
   "outputs": [
    {
     "data": {
      "text/plain": [
       "array([[5., 5., 5.],\n",
       "       [5., 5., 5.],\n",
       "       [5., 5., 5.],\n",
       "       [5., 5., 5.],\n",
       "       [5., 5., 5.]])"
      ]
     },
     "execution_count": 50,
     "metadata": {},
     "output_type": "execute_result"
    }
   ],
   "source": [
    "arr.real"
   ]
  },
  {
   "cell_type": "code",
   "execution_count": 51,
   "metadata": {
    "id": "dO7XOreGCrHw"
   },
   "outputs": [
    {
     "data": {
      "text/plain": [
       "array([[10., 10., 10.],\n",
       "       [10., 10., 10.],\n",
       "       [10., 10., 10.],\n",
       "       [10., 10., 10.],\n",
       "       [10., 10., 10.]])"
      ]
     },
     "execution_count": 51,
     "metadata": {},
     "output_type": "execute_result"
    }
   ],
   "source": [
    "arr.imag"
   ]
  },
  {
   "cell_type": "code",
   "execution_count": 52,
   "metadata": {
    "id": "wqotsUtBDC9q"
   },
   "outputs": [
    {
     "data": {
      "text/plain": [
       "dtype('float64')"
      ]
     },
     "execution_count": 52,
     "metadata": {},
     "output_type": "execute_result"
    }
   ],
   "source": [
    "# Los arreglos retornados pueden ser tratados como arreglos normales, con sus atributos y métodos.\n",
    "arr.imag.dtype"
   ]
  },
  {
   "cell_type": "markdown",
   "metadata": {
    "id": "LlsLs43QDLtF"
   },
   "source": [
    "\n",
    "*  **`arr.T`**: Esto atributo permite generar la matriz transpuesta de un arreglo. La transpuesta de una matriz es aquella cuyas filas corresponden a las columnas de la original."
   ]
  },
  {
   "cell_type": "code",
   "execution_count": 53,
   "metadata": {
    "id": "1UjzpMuBD0yg"
   },
   "outputs": [
    {
     "data": {
      "text/plain": [
       "array([[1., 0., 0.],\n",
       "       [0., 1., 0.],\n",
       "       [0., 0., 1.],\n",
       "       [0., 0., 0.],\n",
       "       [0., 0., 0.]])"
      ]
     },
     "execution_count": 53,
     "metadata": {},
     "output_type": "execute_result"
    }
   ],
   "source": [
    "arr = np.eye(5,3)\n",
    "\n",
    "arr"
   ]
  },
  {
   "cell_type": "code",
   "execution_count": 54,
   "metadata": {
    "id": "uAv4rk2Fr6Lb"
   },
   "outputs": [
    {
     "data": {
      "text/plain": [
       "array([[1., 0., 0., 0., 0.],\n",
       "       [0., 1., 0., 0., 0.],\n",
       "       [0., 0., 1., 0., 0.]])"
      ]
     },
     "execution_count": 54,
     "metadata": {},
     "output_type": "execute_result"
    }
   ],
   "source": [
    "arr.T"
   ]
  },
  {
   "cell_type": "code",
   "execution_count": 55,
   "metadata": {
    "id": "41Mj_2VzD-Xl"
   },
   "outputs": [
    {
     "name": "stdout",
     "output_type": "stream",
     "text": [
      "(2, 4)\n",
      "(4, 2)\n"
     ]
    }
   ],
   "source": [
    "arr = np.zeros((2,4))\n",
    "\n",
    "print(arr.shape)\n",
    "print(arr.T.shape)"
   ]
  },
  {
   "cell_type": "markdown",
   "metadata": {
    "id": "mn5SoNTCo8TT"
   },
   "source": [
    "## **3. np.random - Números aleatorios**\n",
    "---\n",
    "\n",
    "*NumPy* dispone del módulo **`numpy.random`** que cuenta con una gran variedad de funciones para la generación de números aleatorios a partir de distribuciones de probabilidad, que se verán en detalle en la unidad 3.\n",
    "\n",
    "El estudio de algoritmos para la generación de números aleatorios es un campo en sí mismo de las ciencias de la computación. En la práctica, los números aleatorios generados por computador son pseudo-aleatorios y dependen de una semilla inicial sobre la cual se realizan cálculos precisos en colecciones de números aparentemente aleatorios. \n",
    "\n",
    "*NumPy* permite definir esta semilla para garantizar la reproducibilidad de los experimentos aleatorios. Esto se consigue con la función **`np.random.seed(semilla)`** de la siguiente forma:"
   ]
  },
  {
   "cell_type": "code",
   "execution_count": 56,
   "metadata": {
    "id": "WpIVXhH91ERj"
   },
   "outputs": [],
   "source": [
    "np.random.seed(12345) # Semilla seleccionada arbitrariamente, podría ser otro número entero."
   ]
  },
  {
   "cell_type": "markdown",
   "metadata": {
    "id": "Yvavl_H4HZcJ"
   },
   "source": [
    "Con la semilla definida, las operaciones realizadas por el módulo **`random`** de *NumPy* van a generar el mismo resultado, con una distribución aleatoria. En este material no se profundizará en las virtudes de *NumPy* en la generación de números aleatorios, sino que se presentarán las funciones más comunes. Estas son:\n",
    "\n",
    "*  **`np.random.rand(shape)`**: Genera números aleatorios distribuidos uniformemente entre 0 y 1. El argumento **`shape`** permite definir las dimensiones del arreglo de números aleatorios independientes. Si este argumento no es pasado a la función, se genera un único número aleatorio. \n",
    "> *En una distribución uniforme todos los números reales entre 0 y 1 tienen la misma probabilidad de ocurrencia.*"
   ]
  },
  {
   "cell_type": "code",
   "execution_count": 57,
   "metadata": {
    "id": "r4YCxxX5fLP-"
   },
   "outputs": [
    {
     "data": {
      "text/plain": [
       "0.9296160928171479"
      ]
     },
     "execution_count": 57,
     "metadata": {},
     "output_type": "execute_result"
    }
   ],
   "source": [
    "np.random.rand()  "
   ]
  },
  {
   "cell_type": "code",
   "execution_count": 58,
   "metadata": {
    "id": "V-_EcdmWL_5H"
   },
   "outputs": [
    {
     "data": {
      "text/plain": [
       "0.3163755545817859"
      ]
     },
     "execution_count": 58,
     "metadata": {},
     "output_type": "execute_result"
    }
   ],
   "source": [
    "# Si se ejecuta otra vez, retorna un número distinto\n",
    "np.random.rand()"
   ]
  },
  {
   "cell_type": "code",
   "execution_count": 59,
   "metadata": {
    "id": "rby3FlCYMFgb"
   },
   "outputs": [
    {
     "data": {
      "text/plain": [
       "array([0.18391881, 0.20456028, 0.56772503, 0.5955447 , 0.96451452])"
      ]
     },
     "execution_count": 59,
     "metadata": {},
     "output_type": "execute_result"
    }
   ],
   "source": [
    "np.random.rand(5)"
   ]
  },
  {
   "cell_type": "code",
   "execution_count": 60,
   "metadata": {
    "id": "oAZAvJPaMMbf"
   },
   "outputs": [
    {
     "data": {
      "text/plain": [
       "array([[0.6531771 , 0.74890664, 0.65356987],\n",
       "       [0.74771481, 0.96130674, 0.0083883 ],\n",
       "       [0.10644438, 0.29870371, 0.65641118],\n",
       "       [0.80981255, 0.87217591, 0.9646476 ],\n",
       "       [0.72368535, 0.64247533, 0.71745362],\n",
       "       [0.46759901, 0.32558468, 0.43964461],\n",
       "       [0.72968908, 0.99401459, 0.67687371],\n",
       "       [0.79082252, 0.17091426, 0.02684928],\n",
       "       [0.80037024, 0.90372254, 0.02467621]])"
      ]
     },
     "execution_count": 60,
     "metadata": {},
     "output_type": "execute_result"
    }
   ],
   "source": [
    "np.random.rand(9,3)"
   ]
  },
  {
   "cell_type": "markdown",
   "metadata": {
    "id": "7cT2ibpOMUPJ"
   },
   "source": [
    "*  **`np.random.randn(shape)`**: Genera números aleatorios generados a partir de una distribución normal estándar, centrada en $0$ y con una desviación estándar de $1$. Las distribuciones de probabilidad se discutirán en las unidades **2** y **3**."
   ]
  },
  {
   "cell_type": "code",
   "execution_count": 61,
   "metadata": {
    "id": "O2qEGVwFM1nw"
   },
   "outputs": [
    {
     "data": {
      "text/plain": [
       "3.248943919430755"
      ]
     },
     "execution_count": 61,
     "metadata": {},
     "output_type": "execute_result"
    }
   ],
   "source": [
    "np.random.randn()"
   ]
  },
  {
   "cell_type": "code",
   "execution_count": 62,
   "metadata": {
    "id": "QMeOAnPlNFPg"
   },
   "outputs": [
    {
     "data": {
      "text/plain": [
       "array([[-1.02122752e+00, -5.77087303e-01,  1.24121276e-01],\n",
       "       [ 3.02613562e-01,  5.23772068e-01,  9.40277775e-04]])"
      ]
     },
     "execution_count": 62,
     "metadata": {},
     "output_type": "execute_result"
    }
   ],
   "source": [
    "np.random.randn(2,3)"
   ]
  },
  {
   "cell_type": "markdown",
   "metadata": {
    "id": "ccn-jzC_o8Tb"
   },
   "source": [
    "\n",
    "*  **`np.random.randint(inicio, final, shape)`**: \n",
    "Genera números enteros aleatorios desde el primer parámetro (incluido) hasta el segundo parámetro (excluido). Si se pasa un tercer argumento, éste será las dimensiones que tendrá el arreglo de enteros aleatorios retornado."
   ]
  },
  {
   "cell_type": "code",
   "execution_count": 63,
   "metadata": {
    "id": "t8kD6r1Io8Tc"
   },
   "outputs": [
    {
     "data": {
      "text/plain": [
       "51"
      ]
     },
     "execution_count": 63,
     "metadata": {},
     "output_type": "execute_result"
    }
   ],
   "source": [
    "np.random.randint(1,100) "
   ]
  },
  {
   "cell_type": "code",
   "execution_count": 64,
   "metadata": {
    "id": "U1Fel4MVo8Tf"
   },
   "outputs": [
    {
     "data": {
      "text/plain": [
       "array([[92, 99, 97, 95],\n",
       "       [97, 91, 90, 99],\n",
       "       [93, 90, 93, 90]])"
      ]
     },
     "execution_count": 64,
     "metadata": {},
     "output_type": "execute_result"
    }
   ],
   "source": [
    "np.random.randint(90,100,(3,4))"
   ]
  },
  {
   "cell_type": "markdown",
   "metadata": {
    "id": "sum5GwX3is_i"
   },
   "source": [
    "## **4. Indexado de arreglos**\n",
    "\n",
    "Los elementos de los arreglos de NumPy se pueden consultar y modificar de la misma forma que las listas de *Python*, con la sintaxis de llaves cuadradas `[` y `]`. Las reglas definidas para rangos, intervalos con paso definido y el uso de números negativos para el indexado desde el final también aplican en los arreglos de *NumPy*."
   ]
  },
  {
   "cell_type": "code",
   "execution_count": 65,
   "metadata": {
    "id": "3MxjdWvOis_n"
   },
   "outputs": [],
   "source": [
    "arr = np.arange(0, 100)"
   ]
  },
  {
   "cell_type": "code",
   "execution_count": 66,
   "metadata": {
    "id": "5EPtw2SxPii8"
   },
   "outputs": [
    {
     "data": {
      "text/plain": [
       "0"
      ]
     },
     "execution_count": 66,
     "metadata": {},
     "output_type": "execute_result"
    }
   ],
   "source": [
    "arr[0]"
   ]
  },
  {
   "cell_type": "code",
   "execution_count": 67,
   "metadata": {
    "id": "0ABLcWRnPj1T"
   },
   "outputs": [
    {
     "data": {
      "text/plain": [
       "array([0, 1, 2, 3, 4, 5, 6, 7, 8, 9])"
      ]
     },
     "execution_count": 67,
     "metadata": {},
     "output_type": "execute_result"
    }
   ],
   "source": [
    "arr[0:10]"
   ]
  },
  {
   "cell_type": "code",
   "execution_count": 68,
   "metadata": {
    "id": "HUuYXhFnPwX8"
   },
   "outputs": [
    {
     "data": {
      "text/plain": [
       "array([ 0,  2,  4,  6,  8, 10, 12, 14])"
      ]
     },
     "execution_count": 68,
     "metadata": {},
     "output_type": "execute_result"
    }
   ],
   "source": [
    "arr[0:15:2]"
   ]
  },
  {
   "cell_type": "code",
   "execution_count": 69,
   "metadata": {
    "id": "0BdiAo3BPlQQ"
   },
   "outputs": [
    {
     "data": {
      "text/plain": [
       "99"
      ]
     },
     "execution_count": 69,
     "metadata": {},
     "output_type": "execute_result"
    }
   ],
   "source": [
    "arr[-1]"
   ]
  },
  {
   "cell_type": "code",
   "execution_count": 70,
   "metadata": {
    "id": "G-neiUywY3Rz"
   },
   "outputs": [
    {
     "data": {
      "text/plain": [
       "array([95, 96, 97, 98, 99])"
      ]
     },
     "execution_count": 70,
     "metadata": {},
     "output_type": "execute_result"
    }
   ],
   "source": [
    "arr[-5:]"
   ]
  },
  {
   "cell_type": "markdown",
   "metadata": {
    "id": "Q5kY5QTAP5J2"
   },
   "source": [
    "Para arreglos multidimensionales se define una forma especial de obtener los elementos de un arreglo, que difiere del método usado en las listas de *Python* de llaves consecutivas. Para indexar elementos multidimensionales en *NumPy* es suficiente con separar las expresiones de indexado de cada dimensión con comas. \n",
    "\n",
    "Si no se ingresan expresiones suficientes para indexar todas las dimensiones del arreglo se interpreta como indexado completo para las últimas dimensiones, retornando todos los elementos."
   ]
  },
  {
   "cell_type": "code",
   "execution_count": 71,
   "metadata": {
    "id": "2U6NHk8MitAb"
   },
   "outputs": [
    {
     "data": {
      "text/plain": [
       "array([[1, 3],\n",
       "       [2, 8]])"
      ]
     },
     "execution_count": 71,
     "metadata": {},
     "output_type": "execute_result"
    }
   ],
   "source": [
    "arr = np.array([[1,3],[2,8]])\n",
    "arr"
   ]
  },
  {
   "cell_type": "code",
   "execution_count": 72,
   "metadata": {
    "id": "weqCHKbEitAf"
   },
   "outputs": [
    {
     "data": {
      "text/plain": [
       "1"
      ]
     },
     "execution_count": 72,
     "metadata": {},
     "output_type": "execute_result"
    }
   ],
   "source": [
    "#Obtener el elemento de la primera fila y primera columna\n",
    "arr[0,0]"
   ]
  },
  {
   "cell_type": "code",
   "execution_count": 73,
   "metadata": {
    "id": "RBYSOPJkitAi"
   },
   "outputs": [
    {
     "data": {
      "text/plain": [
       "8"
      ]
     },
     "execution_count": 73,
     "metadata": {},
     "output_type": "execute_result"
    }
   ],
   "source": [
    "#Obtener el elemento de la última fila y última columna\n",
    "arr[-1,-1]"
   ]
  },
  {
   "cell_type": "code",
   "execution_count": 74,
   "metadata": {
    "id": "1xltvX5JitAo"
   },
   "outputs": [
    {
     "data": {
      "text/plain": [
       "array([1, 3])"
      ]
     },
     "execution_count": 74,
     "metadata": {},
     "output_type": "execute_result"
    }
   ],
   "source": [
    "#Obtener todos los elementos de la primera fila\n",
    "arr[0,:]"
   ]
  },
  {
   "cell_type": "code",
   "execution_count": 75,
   "metadata": {
    "id": "p5o3j5HMitAs"
   },
   "outputs": [
    {
     "data": {
      "text/plain": [
       "array([[-100,    3],\n",
       "       [  25,    8]])"
      ]
     },
     "execution_count": 75,
     "metadata": {},
     "output_type": "execute_result"
    }
   ],
   "source": [
    "#Reasignar todos los elementos de la primera columna\n",
    "arr[:,0] = [-100, 25]\n",
    "arr"
   ]
  },
  {
   "cell_type": "code",
   "execution_count": 76,
   "metadata": {
    "id": "nVATzeKMitAY"
   },
   "outputs": [
    {
     "data": {
      "text/plain": [
       "array([[ 1.,  2.,  3.,  4.,  5.],\n",
       "       [ 2.,  4.,  6.,  8., 10.],\n",
       "       [ 3.,  6.,  9., 12., 15.],\n",
       "       [ 4.,  8., 12., 16., 20.],\n",
       "       [ 5., 10., 15., 20., 25.]])"
      ]
     },
     "execution_count": 76,
     "metadata": {},
     "output_type": "execute_result"
    }
   ],
   "source": [
    "# Ejemplo de inicialización manual\n",
    "\n",
    "n = 5\n",
    "m = 5\n",
    "arr2d = np.zeros((n,m))\n",
    "for i in range(n):\n",
    "  for j in range(m):\n",
    "    arr2d[i, j] = (i + 1)* (j + 1)\n",
    "    \n",
    "arr2d"
   ]
  },
  {
   "cell_type": "code",
   "execution_count": 77,
   "metadata": {
    "id": "g5CSNNL_itAv"
   },
   "outputs": [
    {
     "data": {
      "text/plain": [
       "array([[16., 20.],\n",
       "       [20., 25.]])"
      ]
     },
     "execution_count": 77,
     "metadata": {},
     "output_type": "execute_result"
    }
   ],
   "source": [
    "# Seleccionar la matriz 2x2 de la esquina inferior derecha\n",
    "arr2d[3:,3:]"
   ]
  },
  {
   "cell_type": "markdown",
   "metadata": {
    "id": "k_57GoKXitAx"
   },
   "source": [
    "Para arreglos de dimensiones superiores se permite el formato general **`arr_nd[d1][d2]...[dn]`** o **`arr_2d[d1,d2,...,dn]`**. \n",
    "\n",
    "Por claridad y debido al comportamiento del indexado, se recomienda usar siempre la notación con coma."
   ]
  },
  {
   "cell_type": "code",
   "execution_count": 78,
   "metadata": {
    "id": "mrIF5fX3itAx"
   },
   "outputs": [
    {
     "data": {
      "text/plain": [
       "array([[[ 5, 10],\n",
       "        [20, 25]],\n",
       "\n",
       "       [[ 7, 21],\n",
       "        [ 7, 28]]])"
      ]
     },
     "execution_count": 78,
     "metadata": {},
     "output_type": "execute_result"
    }
   ],
   "source": [
    "# Creación de un arreglo de 3 dimensiones o tensor.\n",
    "# Se puede entender como un arreglo de matrices.\n",
    "arr_3d = np.array(([[[5, 10], [20, 25]], [[7, 21], [7, 28]]]))\n",
    "arr_3d"
   ]
  },
  {
   "cell_type": "code",
   "execution_count": 79,
   "metadata": {
    "id": "ZywveLiFitAz"
   },
   "outputs": [
    {
     "data": {
      "text/plain": [
       "5"
      ]
     },
     "execution_count": 79,
     "metadata": {},
     "output_type": "execute_result"
    }
   ],
   "source": [
    "# Accediendo a un elemento particular\n",
    "arr_3d[0, 0, 0]"
   ]
  },
  {
   "cell_type": "code",
   "execution_count": 80,
   "metadata": {
    "id": "4dlWAlVlitA0"
   },
   "outputs": [
    {
     "data": {
      "text/plain": [
       "array([[ 5, 10],\n",
       "       [20, 25]])"
      ]
     },
     "execution_count": 80,
     "metadata": {},
     "output_type": "execute_result"
    }
   ],
   "source": [
    "# Tomar el primer elemento de la primera dimensión \n",
    "# (Es decir, la primera matriz)\n",
    "arr_3d[0,:,:]\n"
   ]
  },
  {
   "cell_type": "code",
   "execution_count": 81,
   "metadata": {
    "id": "6Q2OgeEuitA4"
   },
   "outputs": [
    {
     "data": {
      "text/plain": [
       "array([[ 5, 10],\n",
       "       [ 7, 21]])"
      ]
     },
     "execution_count": 81,
     "metadata": {},
     "output_type": "execute_result"
    }
   ],
   "source": [
    "# Traer la primera fila de las 2 submatrices\n",
    "arr_3d[:,0,:]"
   ]
  },
  {
   "cell_type": "code",
   "execution_count": 82,
   "metadata": {
    "id": "Go-FGQpvitA6"
   },
   "outputs": [
    {
     "data": {
      "text/plain": [
       "array([[20, 25],\n",
       "       [ 7, 28]])"
      ]
     },
     "execution_count": 82,
     "metadata": {},
     "output_type": "execute_result"
    }
   ],
   "source": [
    "# Traer la última fila de las 2 submatrices\n",
    "arr_3d[:,-1,:]"
   ]
  },
  {
   "cell_type": "markdown",
   "metadata": {
    "id": "cy3vybcwiyiV"
   },
   "source": [
    "Además del indexado natural presentado hasta el momento, los arreglos de *NumPy* aceptan colecciones de enteros que representan las filas o columnas que se desean retornar por cada dimensión. Esto se conoce como *fancy indexing* o indexado elegante."
   ]
  },
  {
   "cell_type": "code",
   "execution_count": 83,
   "metadata": {
    "id": "YTOg1XjNiyiV"
   },
   "outputs": [
    {
     "data": {
      "text/plain": [
       "array([100, 101, 102, 103, 104, 105, 106, 107, 108, 109, 110, 111, 112,\n",
       "       113, 114, 115, 116, 117, 118, 119, 120])"
      ]
     },
     "execution_count": 83,
     "metadata": {},
     "output_type": "execute_result"
    }
   ],
   "source": [
    "arr = np.arange(100,121)\n",
    "arr"
   ]
  },
  {
   "cell_type": "code",
   "execution_count": 84,
   "metadata": {
    "id": "m3McxxrxiyiY"
   },
   "outputs": [
    {
     "data": {
      "text/plain": [
       "array([107, 103, 104, 102])"
      ]
     },
     "execution_count": 84,
     "metadata": {},
     "output_type": "execute_result"
    }
   ],
   "source": [
    "# Obtener elementos también en cualquier orden\n",
    "# Los elementos de la lista corresponden a los índices a los cuales se quiere acceder, en ese orden\n",
    "arr[[7, 3, 4, 2]] "
   ]
  },
  {
   "cell_type": "code",
   "execution_count": 85,
   "metadata": {
    "id": "iyFR_nU-iyie"
   },
   "outputs": [
    {
     "data": {
      "text/plain": [
       "array([[0, 0, 0, 0, 0, 0, 0, 0],\n",
       "       [1, 1, 1, 1, 1, 1, 1, 1],\n",
       "       [2, 2, 2, 2, 2, 2, 2, 2],\n",
       "       [3, 3, 3, 3, 3, 3, 3, 3],\n",
       "       [4, 4, 4, 4, 4, 4, 4, 4],\n",
       "       [5, 5, 5, 5, 5, 5, 5, 5],\n",
       "       [6, 6, 6, 6, 6, 6, 6, 6],\n",
       "       [7, 7, 7, 7, 7, 7, 7, 7]])"
      ]
     },
     "execution_count": 85,
     "metadata": {},
     "output_type": "execute_result"
    }
   ],
   "source": [
    "# Inicialización de una matriz con comprensión de listas\n",
    "n = 8\n",
    "m = 8\n",
    "arr2d = np.array([[i]*n for i in range(m)])\n",
    "  \n",
    "arr2d"
   ]
  },
  {
   "cell_type": "code",
   "execution_count": 86,
   "metadata": {
    "id": "rVDmQAL4iyig"
   },
   "outputs": [
    {
     "data": {
      "text/plain": [
       "array([[6, 6, 6, 6, 6, 6, 6, 6],\n",
       "       [4, 4, 4, 4, 4, 4, 4, 4],\n",
       "       [2, 2, 2, 2, 2, 2, 2, 2]])"
      ]
     },
     "execution_count": 86,
     "metadata": {},
     "output_type": "execute_result"
    }
   ],
   "source": [
    "# Obtener elementos de la matriz en cualquier orden\n",
    "arr2d[[6,4,2],:]"
   ]
  },
  {
   "cell_type": "code",
   "execution_count": 87,
   "metadata": {
    "id": "xsa8SAET9mFk"
   },
   "outputs": [
    {
     "data": {
      "text/plain": [
       "array([[0., 0., 0., 0.],\n",
       "       [1., 0., 0., 0.],\n",
       "       [0., 0., 1., 0.],\n",
       "       [0., 0., 0., 0.],\n",
       "       [0., 1., 0., 0.],\n",
       "       [0., 0., 0., 0.],\n",
       "       [0., 0., 0., 0.],\n",
       "       [0., 0., 0., 1.]])"
      ]
     },
     "execution_count": 87,
     "metadata": {},
     "output_type": "execute_result"
    }
   ],
   "source": [
    "arr2d = np.eye(8)\n",
    "\n",
    "arr2d[:,[1,4,2,7]]"
   ]
  },
  {
   "cell_type": "code",
   "execution_count": 88,
   "metadata": {
    "id": "TfFbRMob76Pu"
   },
   "outputs": [
    {
     "data": {
      "text/plain": [
       "array([[1., 0., 0., 0.],\n",
       "       [0., 0., 1., 0.],\n",
       "       [0., 1., 0., 0.],\n",
       "       [0., 0., 0., 1.]])"
      ]
     },
     "execution_count": 88,
     "metadata": {},
     "output_type": "execute_result"
    }
   ],
   "source": [
    "np.eye(4)[:, [0,2,1,3]] #Matriz identidad con dos columnas cambiadas."
   ]
  },
  {
   "cell_type": "markdown",
   "metadata": {
    "id": "Ak2XQcC4iyih"
   },
   "source": [
    "Existe un método de indexado adicional que se realiza por medio de condiciones lógicas. Este es el método de selección condicional o *boolean masking* mediante el cual se aceptan arreglos de booleanos para definir los valores accedidos en la expresión.\n",
    "\n",
    "Esto ocurre en dos pasos:\n",
    "\n",
    "1. Se aplica un operador lógico en un arreglo y un valor escalar. Esta operación retorna un arreglo de booleanos.\n",
    "   > **Nota:** Las operaciones en arreglos se verán en detalle más adelante en este material.\n",
    "\n",
    "2. El arreglo producido en el paso anterior es ingresado como el índice del arreglo. De esta forma se accede a los elementos que cumplieran la condición lógica definida con el operador del primer paso.\n"
   ]
  },
  {
   "cell_type": "markdown",
   "metadata": {
    "id": "TqfoCJTscsBK"
   },
   "source": [
    "Veamos un ejemplo paso por paso:"
   ]
  },
  {
   "cell_type": "code",
   "execution_count": 91,
   "metadata": {
    "id": "LD0BUByCUOyN"
   },
   "outputs": [
    {
     "data": {
      "text/plain": [
       "array([[ 1, -4,  3, -3],\n",
       "       [-4, -2, -1,  1],\n",
       "       [ 0,  1,  2, -2],\n",
       "       [-5, -3, -4,  4]])"
      ]
     },
     "execution_count": 91,
     "metadata": {},
     "output_type": "execute_result"
    }
   ],
   "source": [
    "# Se crea un arreglo\n",
    "A = np.array([[ 1, -4,  3, -3],\n",
    "              [-4, -2, -1,  1],\n",
    "              [ 0,  1,  2, -2],\n",
    "              [-5, -3, -4,  4]])\n",
    "\n",
    "A"
   ]
  },
  {
   "cell_type": "code",
   "execution_count": 92,
   "metadata": {
    "id": "HN4L0YRfiyij"
   },
   "outputs": [
    {
     "data": {
      "text/plain": [
       "array([[ True, False,  True, False],\n",
       "       [False, False, False,  True],\n",
       "       [False,  True,  True, False],\n",
       "       [False, False, False,  True]])"
      ]
     },
     "execution_count": 92,
     "metadata": {},
     "output_type": "execute_result"
    }
   ],
   "source": [
    "# Operador lógico\n",
    "# Esta expresión evalúa por cada elemento del arreglo\n",
    "# si este es mayor que 0.\n",
    "\n",
    "A > 0"
   ]
  },
  {
   "cell_type": "code",
   "execution_count": 93,
   "metadata": {
    "id": "-ZBrllFBXLGs"
   },
   "outputs": [
    {
     "data": {
      "text/plain": [
       "array([-4, -3, -4, -2, -1, -2, -5, -3, -4])"
      ]
     },
     "execution_count": 93,
     "metadata": {},
     "output_type": "execute_result"
    }
   ],
   "source": [
    "# Se usa la expresión anterior directamente en el arreglo\n",
    "# Si las dimensiones no permiten crear una matriz, se retorna un arreglo plano.\n",
    "A[A < 0] "
   ]
  },
  {
   "cell_type": "code",
   "execution_count": 95,
   "metadata": {
    "id": "YEUyQkTVXWW9"
   },
   "outputs": [
    {
     "data": {
      "text/plain": [
       "array([[1, 0, 3, 0],\n",
       "       [0, 0, 0, 1],\n",
       "       [0, 1, 2, 0],\n",
       "       [0, 0, 0, 4]])"
      ]
     },
     "execution_count": 95,
     "metadata": {},
     "output_type": "execute_result"
    }
   ],
   "source": [
    "# Se asigna el valor escalar 0 a cada elemento del arreglo original.\n",
    "A[A < 0] = 0\n",
    "\n",
    "A"
   ]
  },
  {
   "cell_type": "markdown",
   "metadata": {
    "id": "JQPB6uWuc7yo"
   },
   "source": [
    "Usando condiciones compuestas:"
   ]
  },
  {
   "cell_type": "code",
   "execution_count": 97,
   "metadata": {
    "id": "HEfoJ93Ciyip"
   },
   "outputs": [
    {
     "data": {
      "text/plain": [
       "array([[ 1,  0, 50,  0],\n",
       "       [ 0,  0,  0,  1],\n",
       "       [ 0,  1, 50,  0],\n",
       "       [ 0,  0,  0,  4]])"
      ]
     },
     "execution_count": 97,
     "metadata": {},
     "output_type": "execute_result"
    }
   ],
   "source": [
    "#Usando condiciones más complejas\n",
    "A[(A>1) & (A<4)] = 50 \n",
    "\n",
    "A"
   ]
  },
  {
   "cell_type": "markdown",
   "metadata": {
    "id": "hRyGYLhsdaAZ"
   },
   "source": [
    "Nótese que en este caso se utiliza el operador **`&`** (*bitwise and*) y no el operador lógico **`and`**. En el caso de una \"or\" lógica, el operador correcto en este caso sería **`|`** en lugar de **`or`**. Por último, la negación se obtiene con **`~`** en vez de **`not`**. Veamos algunos ejemplos:"
   ]
  },
  {
   "cell_type": "code",
   "execution_count": 98,
   "metadata": {
    "id": "jT_eaHJxdvvM"
   },
   "outputs": [
    {
     "data": {
      "text/plain": [
       "array([[1, 2, 2, 2],\n",
       "       [2, 2, 2, 1],\n",
       "       [2, 1, 2, 2],\n",
       "       [2, 2, 2, 4]])"
      ]
     },
     "execution_count": 98,
     "metadata": {},
     "output_type": "execute_result"
    }
   ],
   "source": [
    "A[(A>=50) |(A==0)] = 2 \n",
    "A"
   ]
  },
  {
   "cell_type": "code",
   "execution_count": 99,
   "metadata": {
    "id": "S-sFXAE2dAcV"
   },
   "outputs": [
    {
     "data": {
      "text/plain": [
       "array([[  1,   2,   2,   2],\n",
       "       [  2,   2,   2,   1],\n",
       "       [  2,   1,   2,   2],\n",
       "       [  2,   2,   2, 100]])"
      ]
     },
     "execution_count": 99,
     "metadata": {},
     "output_type": "execute_result"
    }
   ],
   "source": [
    "A[~(A<3)] = 100 \n",
    "A"
   ]
  },
  {
   "cell_type": "markdown",
   "metadata": {
    "id": "ds-q3j8_piW2"
   },
   "source": [
    "## **5. Operaciones en arreglos**\n",
    "---\n",
    "\n",
    "*NumPy* dispone de múltiples funciones y rutinas de uso general en la computación científica. Estas pueden ser invocadas como el método de un arreglo o con alto nivel tomando arreglos como parámetro. "
   ]
  },
  {
   "cell_type": "markdown",
   "metadata": {
    "id": "Gq3y0rtwMiGU"
   },
   "source": [
    "### **5.1. Operadores en arreglos**\n",
    "---\n",
    "\n",
    "Los mismos operadores utilizados entre variables de tipos de dato primitivos en *Python* pueden usarse entre arreglos, siempre y cuando los tipos de dato que contienen permitan o tengan una semántica propia para la operación.\n",
    "\n",
    " A continuación se listan algunas de las operaciones numéricas y lógicas que se pueden realizar entre arreglos."
   ]
  },
  {
   "cell_type": "markdown",
   "metadata": {
    "id": "CCm-N2YWNogA"
   },
   "source": [
    "* **Suma `+` | `np.add(a,b)`**: La suma entre arreglos está definida como la suma de matrices en álgebra lineal, dando como resultado la suma elemento a elemento de cada combinación de filas y columnas. Además, *NumPy* tiene una propiedad especial llamada *broadcasting*, que permite operar arreglos de tamaños distintos de forma dinámica, ampliando con su repetición al arreglo más pequeño para ajustarse a la capacidad necesaria para permitir la operación. Esto solo es posible si ambos operandos comparten el mismo tamaño de una dimensión."
   ]
  },
  {
   "cell_type": "code",
   "execution_count": 100,
   "metadata": {
    "id": "HSMzFIkSPQb2"
   },
   "outputs": [],
   "source": [
    "a = np.array([1, 2, 3])\n",
    "b = np.array([10, 20, 30])"
   ]
  },
  {
   "cell_type": "code",
   "execution_count": 101,
   "metadata": {
    "id": "yeQtM-hRvBk1"
   },
   "outputs": [
    {
     "data": {
      "text/plain": [
       "array([1, 2, 3])"
      ]
     },
     "execution_count": 101,
     "metadata": {},
     "output_type": "execute_result"
    }
   ],
   "source": [
    "a"
   ]
  },
  {
   "cell_type": "code",
   "execution_count": 102,
   "metadata": {
    "id": "2H6cu94YvC8L"
   },
   "outputs": [
    {
     "data": {
      "text/plain": [
       "array([10, 20, 30])"
      ]
     },
     "execution_count": 102,
     "metadata": {},
     "output_type": "execute_result"
    }
   ],
   "source": [
    "b"
   ]
  },
  {
   "cell_type": "code",
   "execution_count": 103,
   "metadata": {
    "id": "c3o4HncAPYwk"
   },
   "outputs": [
    {
     "data": {
      "text/plain": [
       "array([11, 22, 33])"
      ]
     },
     "execution_count": 103,
     "metadata": {},
     "output_type": "execute_result"
    }
   ],
   "source": [
    "a + b"
   ]
  },
  {
   "cell_type": "code",
   "execution_count": 104,
   "metadata": {
    "id": "hLQTjsbUP9Sj"
   },
   "outputs": [
    {
     "data": {
      "text/plain": [
       "array([11, 22, 33])"
      ]
     },
     "execution_count": 104,
     "metadata": {},
     "output_type": "execute_result"
    }
   ],
   "source": [
    "np.add(a,b)"
   ]
  },
  {
   "cell_type": "code",
   "execution_count": 105,
   "metadata": {
    "id": "HGv_oJvtPiwj"
   },
   "outputs": [
    {
     "data": {
      "text/plain": [
       "array([[100, 100, 100],\n",
       "       [100, 100, 100],\n",
       "       [100, 100, 100],\n",
       "       [100, 100, 100],\n",
       "       [100, 100, 100],\n",
       "       [100, 100, 100]])"
      ]
     },
     "execution_count": 105,
     "metadata": {},
     "output_type": "execute_result"
    }
   ],
   "source": [
    "c = np.full((6, 3), 100)\n",
    "\n",
    "c"
   ]
  },
  {
   "cell_type": "code",
   "execution_count": 106,
   "metadata": {
    "id": "pLHrQSqrvGM9"
   },
   "outputs": [
    {
     "data": {
      "text/plain": [
       "array([[111, 122, 133],\n",
       "       [111, 122, 133],\n",
       "       [111, 122, 133],\n",
       "       [111, 122, 133],\n",
       "       [111, 122, 133],\n",
       "       [111, 122, 133]])"
      ]
     },
     "execution_count": 106,
     "metadata": {},
     "output_type": "execute_result"
    }
   ],
   "source": [
    "#Los arreglos a y b se expanden repitiendo sus filas para la operación (broadcasting)\n",
    "c + a + b"
   ]
  },
  {
   "cell_type": "markdown",
   "metadata": {
    "id": "HOl0bXimd-Hn"
   },
   "source": [
    "Este comportamiento se diferencia al de las listas de *Python*. Con las listas, este operador sirve para concatenar los elementos de dos listas. En *NumPy* se operan los elementos de ambos arreglos. Para concatenar arreglos de *NumPy*, consulte la sección $5.4$ de este material."
   ]
  },
  {
   "cell_type": "code",
   "execution_count": 107,
   "metadata": {
    "id": "qRCReBU6eh6T"
   },
   "outputs": [
    {
     "data": {
      "text/plain": [
       "([1, 2, 3], [4, 5, 6])"
      ]
     },
     "execution_count": 107,
     "metadata": {},
     "output_type": "execute_result"
    }
   ],
   "source": [
    "ls_a = [1, 2, 3]\n",
    "ls_b = [4, 5, 6]\n",
    "\n",
    "ls_a, ls_b"
   ]
  },
  {
   "cell_type": "code",
   "execution_count": 108,
   "metadata": {
    "id": "xXlvzLB8emV7"
   },
   "outputs": [
    {
     "data": {
      "text/plain": [
       "(array([1, 2, 3]), array([4, 5, 6]))"
      ]
     },
     "execution_count": 108,
     "metadata": {},
     "output_type": "execute_result"
    }
   ],
   "source": [
    "arr_a = np.array(ls_a)\n",
    "arr_b = np.array(ls_b)\n",
    "\n",
    "arr_a, arr_b"
   ]
  },
  {
   "cell_type": "code",
   "execution_count": 109,
   "metadata": {
    "id": "OM_6hhBye5Yh"
   },
   "outputs": [
    {
     "data": {
      "text/plain": [
       "[1, 2, 3, 4, 5, 6]"
      ]
     },
     "execution_count": 109,
     "metadata": {},
     "output_type": "execute_result"
    }
   ],
   "source": [
    "# Operando listas (Concatenación)\n",
    "ls_a + ls_b"
   ]
  },
  {
   "cell_type": "code",
   "execution_count": 110,
   "metadata": {
    "id": "StJkrYpoe7mC"
   },
   "outputs": [
    {
     "data": {
      "text/plain": [
       "array([5, 7, 9])"
      ]
     },
     "execution_count": 110,
     "metadata": {},
     "output_type": "execute_result"
    }
   ],
   "source": [
    "# Operando arreglos (Suma elemento a elemento)\n",
    "arr_a + arr_b"
   ]
  },
  {
   "cell_type": "code",
   "execution_count": 111,
   "metadata": {
    "id": "gCiaFwxZfHyS"
   },
   "outputs": [
    {
     "data": {
      "text/plain": [
       "array([5, 7, 9])"
      ]
     },
     "execution_count": 111,
     "metadata": {},
     "output_type": "execute_result"
    }
   ],
   "source": [
    "# Si al menos uno de los elementos es un arreglo, NumPy se encarga de\n",
    "# realizar la conversión respectiva (cast).\n",
    "# Arreglo + lista\n",
    "arr_a + ls_b"
   ]
  },
  {
   "cell_type": "markdown",
   "metadata": {
    "id": "we6rH8UfQ64D"
   },
   "source": [
    "* **Resta `-` | `np.subtract(a,b)`**: Al igual que la suma, la resta entre arreglos está definida como su operación homóloga en matrices, dando como resultado la resta elemento a elemento de cada combinación de filas y columnas."
   ]
  },
  {
   "cell_type": "code",
   "execution_count": 112,
   "metadata": {
    "id": "2MOVFGqaS5gv"
   },
   "outputs": [
    {
     "data": {
      "text/plain": [
       "array([[0., 1., 1.],\n",
       "       [1., 0., 1.],\n",
       "       [1., 1., 0.]])"
      ]
     },
     "execution_count": 112,
     "metadata": {},
     "output_type": "execute_result"
    }
   ],
   "source": [
    "a = np.ones((3,3))\n",
    "b = np.eye(3)\n",
    "\n",
    "a - b"
   ]
  },
  {
   "cell_type": "code",
   "execution_count": 113,
   "metadata": {
    "id": "28Vxr7JiTS6X"
   },
   "outputs": [
    {
     "data": {
      "text/plain": [
       "array([[0., 1., 1.],\n",
       "       [1., 0., 1.],\n",
       "       [1., 1., 0.]])"
      ]
     },
     "execution_count": 113,
     "metadata": {},
     "output_type": "execute_result"
    }
   ],
   "source": [
    "np.subtract(a, b)"
   ]
  },
  {
   "cell_type": "code",
   "execution_count": 114,
   "metadata": {
    "id": "CPU4iAG_TdZB"
   },
   "outputs": [
    {
     "data": {
      "text/plain": [
       "array([[9., 9., 9.],\n",
       "       [9., 9., 9.],\n",
       "       [9., 9., 9.],\n",
       "       [9., 9., 9.],\n",
       "       [9., 9., 9.],\n",
       "       [9., 9., 9.],\n",
       "       [9., 9., 9.]])"
      ]
     },
     "execution_count": 114,
     "metadata": {},
     "output_type": "execute_result"
    }
   ],
   "source": [
    "c = np.full((7,3), 10)\n",
    "d = np.ones(3)\n",
    "\n",
    "c - d"
   ]
  },
  {
   "cell_type": "markdown",
   "metadata": {
    "id": "LWfinLojUD7Z"
   },
   "source": [
    "* **Multiplicación `*` | `np.multiply(a, b)`**: La multiplicación entre arreglos de *NumPy* con el operador **`*`** no corresponde a la definición de multiplicación de matrices de álgebra lineal. En su lugar, el resultado se comporta de la misma manera que la suma o la resta, multiplicando los elementos correspondientes por cada elemento de cada pareja de fila y columna. Gracias a esto es posible hacer *broadcasting* con la multiplicación. Otra propiedad del *broadcasting* es que se pueden operar arreglos con valores escalares, que sí actúan como la multiplicación por escalares definida en el álgebra matricial."
   ]
  },
  {
   "cell_type": "code",
   "execution_count": 115,
   "metadata": {
    "id": "P1FSronnUlB-"
   },
   "outputs": [
    {
     "data": {
      "text/plain": [
       "array([[5., 0., 0.],\n",
       "       [0., 5., 0.],\n",
       "       [0., 0., 5.]])"
      ]
     },
     "execution_count": 115,
     "metadata": {},
     "output_type": "execute_result"
    }
   ],
   "source": [
    "a = np.eye(3) * 5 # Multiplicación por escalar.\n",
    "a"
   ]
  },
  {
   "cell_type": "code",
   "execution_count": 116,
   "metadata": {
    "id": "HV0idjXKVD0b"
   },
   "outputs": [
    {
     "data": {
      "text/plain": [
       "array([[6, 2, 1],\n",
       "       [5, 8, 6],\n",
       "       [5, 1, 0]])"
      ]
     },
     "execution_count": 116,
     "metadata": {},
     "output_type": "execute_result"
    }
   ],
   "source": [
    "b = np.random.randint(0, 10, (3,3))\n",
    "b"
   ]
  },
  {
   "cell_type": "code",
   "execution_count": 117,
   "metadata": {
    "id": "U1rCcQsDVRyg"
   },
   "outputs": [
    {
     "data": {
      "text/plain": [
       "array([[30.,  0.,  0.],\n",
       "       [ 0., 40.,  0.],\n",
       "       [ 0.,  0.,  0.]])"
      ]
     },
     "execution_count": 117,
     "metadata": {},
     "output_type": "execute_result"
    }
   ],
   "source": [
    "a * b  # Multiplicación elemento a elemento"
   ]
  },
  {
   "cell_type": "code",
   "execution_count": 118,
   "metadata": {
    "id": "EuOyquFYVWsl"
   },
   "outputs": [
    {
     "data": {
      "text/plain": [
       "array([[30.,  0.,  0.],\n",
       "       [ 0., 40.,  0.],\n",
       "       [ 0.,  0.,  0.]])"
      ]
     },
     "execution_count": 118,
     "metadata": {},
     "output_type": "execute_result"
    }
   ],
   "source": [
    "np.multiply(a, b)"
   ]
  },
  {
   "cell_type": "markdown",
   "metadata": {
    "id": "DQiSiQIAfgqi"
   },
   "source": [
    "Al igual que con el operador `+`, el comportamiento obtenido con el operador `*` se diferencia al de las listas de *Python*. Con las listas, ese operador sirve para repetir los elementos de una lista y requiere que uno de los operandos sea un entero. En *NumPy* se operan los elementos de ambos arreglos."
   ]
  },
  {
   "cell_type": "code",
   "execution_count": 119,
   "metadata": {
    "id": "fFMdczE7fgqi"
   },
   "outputs": [
    {
     "data": {
      "text/plain": [
       "[1, 2, 3]"
      ]
     },
     "execution_count": 119,
     "metadata": {},
     "output_type": "execute_result"
    }
   ],
   "source": [
    "ls_a = [1, 2, 3]\n",
    "ls_b = [10, 20, 30]\n",
    "\n",
    "ls_a"
   ]
  },
  {
   "cell_type": "code",
   "execution_count": 120,
   "metadata": {
    "id": "QSYZoNIKfgql"
   },
   "outputs": [
    {
     "data": {
      "text/plain": [
       "(array([1, 2, 3]), array([10, 20, 30]))"
      ]
     },
     "execution_count": 120,
     "metadata": {},
     "output_type": "execute_result"
    }
   ],
   "source": [
    "arr_a = np.array(ls_a)\n",
    "arr_b = np.array(ls_b)\n",
    "\n",
    "arr_a, arr_b"
   ]
  },
  {
   "cell_type": "code",
   "execution_count": 121,
   "metadata": {
    "id": "iQpPY3OsgeQG"
   },
   "outputs": [],
   "source": [
    "# La multiplicación entre listas no está permitida.\n",
    "#ls_a * ls_b # Si se descomenta esta sentencia saldrá un error"
   ]
  },
  {
   "cell_type": "code",
   "execution_count": 122,
   "metadata": {
    "id": "IL6r1GY4fgqn"
   },
   "outputs": [
    {
     "data": {
      "text/plain": [
       "[10, 20, 30, 10, 20, 30, 10, 20, 30]"
      ]
     },
     "execution_count": 122,
     "metadata": {},
     "output_type": "execute_result"
    }
   ],
   "source": [
    "# Operando listas con un escalar (Repetición)\n",
    "ls_b * 3"
   ]
  },
  {
   "cell_type": "code",
   "execution_count": 123,
   "metadata": {
    "id": "xzVpkNDUgnYC"
   },
   "outputs": [
    {
     "data": {
      "text/plain": [
       "array([3, 6, 9])"
      ]
     },
     "execution_count": 123,
     "metadata": {},
     "output_type": "execute_result"
    }
   ],
   "source": [
    "# Operando arreglos con un escalar (Multiplicación escalar)\n",
    "arr_a * 3"
   ]
  },
  {
   "cell_type": "code",
   "execution_count": 124,
   "metadata": {
    "id": "z41zUNNTfgqo"
   },
   "outputs": [
    {
     "data": {
      "text/plain": [
       "array([10, 40, 90])"
      ]
     },
     "execution_count": 124,
     "metadata": {},
     "output_type": "execute_result"
    }
   ],
   "source": [
    "# Sí se puede operar entre arreglos (Multiplicación elemento a elemento)\n",
    "arr_a * arr_b"
   ]
  },
  {
   "cell_type": "code",
   "execution_count": 125,
   "metadata": {
    "id": "1nBp5qV0fgqq"
   },
   "outputs": [
    {
     "data": {
      "text/plain": [
       "array([10, 40, 90])"
      ]
     },
     "execution_count": 125,
     "metadata": {},
     "output_type": "execute_result"
    }
   ],
   "source": [
    "# Si al menos uno de los elementos es un arreglo, NumPy se encarga de\n",
    "# realizar el casteo respectivo.\n",
    "\n",
    "arr_a * ls_b"
   ]
  },
  {
   "cell_type": "markdown",
   "metadata": {
    "id": "J_WJ22bfVdub"
   },
   "source": [
    "* **División `/` | `np.divide(a, b)`**: La división entre arreglos de *NumPy* con el operador `/` funciona de igual forma que las operaciones anteriores, dividiendo los elementos correspondientes por cada pareja de fila y columna."
   ]
  },
  {
   "cell_type": "code",
   "execution_count": 126,
   "metadata": {
    "id": "xZajrq3RVr6Q"
   },
   "outputs": [
    {
     "data": {
      "text/plain": [
       "array([[5, 8, 2],\n",
       "       [9, 4, 7],\n",
       "       [9, 5, 2]])"
      ]
     },
     "execution_count": 126,
     "metadata": {},
     "output_type": "execute_result"
    }
   ],
   "source": [
    "a = np.random.randint(0, 10, (3,3))\n",
    "a"
   ]
  },
  {
   "cell_type": "code",
   "execution_count": 127,
   "metadata": {
    "id": "7OVu7H3yVyzA"
   },
   "outputs": [
    {
     "data": {
      "text/plain": [
       "array([[10., 10., 10.],\n",
       "       [10., 10., 10.],\n",
       "       [10., 10., 10.]])"
      ]
     },
     "execution_count": 127,
     "metadata": {},
     "output_type": "execute_result"
    }
   ],
   "source": [
    "b  = np.ones((3,3)) * 10\n",
    "b"
   ]
  },
  {
   "cell_type": "code",
   "execution_count": 128,
   "metadata": {
    "id": "rMYOubQ3V6zb"
   },
   "outputs": [
    {
     "data": {
      "text/plain": [
       "array([[0.5, 0.8, 0.2],\n",
       "       [0.9, 0.4, 0.7],\n",
       "       [0.9, 0.5, 0.2]])"
      ]
     },
     "execution_count": 128,
     "metadata": {},
     "output_type": "execute_result"
    }
   ],
   "source": [
    "a / b"
   ]
  },
  {
   "cell_type": "code",
   "execution_count": 129,
   "metadata": {
    "id": "o_PPKaXUWAe2"
   },
   "outputs": [
    {
     "data": {
      "text/plain": [
       "array([[0.5, 0.8, 0.2],\n",
       "       [0.9, 0.4, 0.7],\n",
       "       [0.9, 0.5, 0.2]])"
      ]
     },
     "execution_count": 129,
     "metadata": {},
     "output_type": "execute_result"
    }
   ],
   "source": [
    "np.divide(a, b)"
   ]
  },
  {
   "cell_type": "code",
   "execution_count": 130,
   "metadata": {
    "id": "FvML-iFiV8Oq"
   },
   "outputs": [
    {
     "data": {
      "text/plain": [
       "array([[0.5, 0.8, 0.2],\n",
       "       [0.9, 0.4, 0.7],\n",
       "       [0.9, 0.5, 0.2]])"
      ]
     },
     "execution_count": 130,
     "metadata": {},
     "output_type": "execute_result"
    }
   ],
   "source": [
    "a / 10 # Operación equivalente con escalares"
   ]
  },
  {
   "cell_type": "markdown",
   "metadata": {
    "id": "eAhfLCbvwBDD"
   },
   "source": [
    "Cuando se trata con divisiones que involucran un 0 en el denominador el resultado es:\n",
    "* **`NaN`** si ambos valores son $0$.\n",
    "* **`inf`** (infinito positivo) si el numerador es positivo.\n",
    "* **`-inf`** (infinito negativo) si el numerador es negativo."
   ]
  },
  {
   "cell_type": "code",
   "execution_count": 131,
   "metadata": {
    "id": "_9RnYZ-YZt7r"
   },
   "outputs": [
    {
     "name": "stderr",
     "output_type": "stream",
     "text": [
      "/tmp/ipykernel_880646/2662674978.py:4: RuntimeWarning: divide by zero encountered in true_divide\n",
      "  a / np.zeros(3)\n",
      "/tmp/ipykernel_880646/2662674978.py:4: RuntimeWarning: invalid value encountered in true_divide\n",
      "  a / np.zeros(3)\n"
     ]
    },
    {
     "data": {
      "text/plain": [
       "array([ inf,  nan, -inf])"
      ]
     },
     "execution_count": 131,
     "metadata": {},
     "output_type": "execute_result"
    }
   ],
   "source": [
    "# Retorna un warning al detectar este tipo de operaciones\n",
    "\n",
    "a = np.array([1, 0, -1])\n",
    "a / np.zeros(3)"
   ]
  },
  {
   "cell_type": "markdown",
   "metadata": {
    "id": "LBTzQwv1WEdL"
   },
   "source": [
    "* **Multiplicación matricial `@` | `np.matmul(a, b)`**: *NumPy* ofrece la posibilidad de ejecutar operaciones de álgebra lineal como la multiplicación de matrices. En este caso, se usa el operador **`@`**."
   ]
  },
  {
   "cell_type": "code",
   "execution_count": 134,
   "metadata": {
    "id": "ySeEdjbzXmfU"
   },
   "outputs": [
    {
     "data": {
      "text/plain": [
       "array([[0.44399019, 0.75089204, 0.65789833],\n",
       "       [0.36069729, 0.37832298, 0.64963192],\n",
       "       [0.05563683, 0.07825928, 0.09190299],\n",
       "       [0.80510503, 0.06530746, 0.22431937]])"
      ]
     },
     "execution_count": 134,
     "metadata": {},
     "output_type": "execute_result"
    }
   ],
   "source": [
    "a = np.eye(4)\n",
    "b = np.random.rand(4,3)\n",
    "\n",
    "a @ b"
   ]
  },
  {
   "cell_type": "code",
   "execution_count": 135,
   "metadata": {
    "id": "7GXrENAJXwsw"
   },
   "outputs": [],
   "source": [
    "# La ultima dimensión del primero deben coincidir o se produce un error\n",
    "#b @ a # Si se descomenta esta sentencia saldrá un error"
   ]
  },
  {
   "cell_type": "code",
   "execution_count": 136,
   "metadata": {
    "id": "zS_9m-qJXLGG"
   },
   "outputs": [
    {
     "data": {
      "text/plain": [
       "array([[0.44399019, 0.75089204, 0.65789833],\n",
       "       [0.36069729, 0.37832298, 0.64963192],\n",
       "       [0.05563683, 0.07825928, 0.09190299],\n",
       "       [0.80510503, 0.06530746, 0.22431937]])"
      ]
     },
     "execution_count": 136,
     "metadata": {},
     "output_type": "execute_result"
    }
   ],
   "source": [
    "np.matmul(a, b)"
   ]
  },
  {
   "cell_type": "markdown",
   "metadata": {
    "id": "4_jz5QP8YhiD"
   },
   "source": [
    "* **Producto punto `np.dot(a, b)`**: Producto punto entre dos arreglos:\n",
    "  * Si **`a`** y **`b`** son arreglos unidimensionales, se calcula el producto interno entre los vectores.\n",
    "  * Si **`a`** y **`b`** son arreglos de 2 dimensiones (matrices), se calcula la multiplicación matricial, es decir, es equivalente a usar **`np.matmul`** o  **`a @ b`**.\n",
    "  * Si alguno de los parámetros **`a`** o **`b`** es un escalar, se calcula la multiplicación entre un arreglo y un escalar como al usar **`multiply(a, b)`** o **`a * b`**."
   ]
  },
  {
   "cell_type": "code",
   "execution_count": 137,
   "metadata": {
    "id": "XAMCdtN3Y88V"
   },
   "outputs": [
    {
     "data": {
      "text/plain": [
       "array([[1., 1., 1., 1., 1.],\n",
       "       [1., 1., 1., 1., 1.]])"
      ]
     },
     "execution_count": 137,
     "metadata": {},
     "output_type": "execute_result"
    }
   ],
   "source": [
    "a = np.ones((2,5))\n",
    "a"
   ]
  },
  {
   "cell_type": "code",
   "execution_count": 138,
   "metadata": {
    "id": "VzgtCmqWZDT-"
   },
   "outputs": [
    {
     "data": {
      "text/plain": [
       "array([1, 2, 3, 0, 0])"
      ]
     },
     "execution_count": 138,
     "metadata": {},
     "output_type": "execute_result"
    }
   ],
   "source": [
    "b = np.random.randint(0, 5, 5)\n",
    "b"
   ]
  },
  {
   "cell_type": "code",
   "execution_count": 139,
   "metadata": {
    "id": "zaGvCLC6ZMFp"
   },
   "outputs": [
    {
     "data": {
      "text/plain": [
       "array([6., 6.])"
      ]
     },
     "execution_count": 139,
     "metadata": {},
     "output_type": "execute_result"
    }
   ],
   "source": [
    "np.dot(a, b)"
   ]
  },
  {
   "cell_type": "markdown",
   "metadata": {
    "id": "3TAbIeWpNYFH"
   },
   "source": [
    "### **5.2. Cálculos sobre arreglos**\n",
    "---\n",
    "*NumPy* cuenta con un gran número de funciones de uso general usadas frecuentemente en áreas como la estadística o la geometría. Algunos de los cálculos directos posibles con funciones de *NumPy* son:"
   ]
  },
  {
   "cell_type": "markdown",
   "metadata": {
    "id": "Qylkm0nNJmF3"
   },
   "source": [
    "\n",
    "*  **`arr.max()`|`arr.min()`**: Para los arreglos con tipos de dato con un orden definido, como las cadenas de texto (orden alfanumérico) y los valores numéricos, *NumPy* permite ejecutar este método para calcular el valor mínimo o máximo del arreglo."
   ]
  },
  {
   "cell_type": "code",
   "execution_count": 140,
   "metadata": {
    "id": "Uj5br-mwauBi"
   },
   "outputs": [
    {
     "data": {
      "text/plain": [
       "array([ 15, -15,   4,  -6,  -1,   4,  10,  -8,  -9,  16,   5,   5,  12,\n",
       "        13,   8, -14,  12,  -7,  17,   3,  -8,  -2,   9, -19,   5, -20,\n",
       "         6,  -8,   6,   3])"
      ]
     },
     "execution_count": 140,
     "metadata": {},
     "output_type": "execute_result"
    }
   ],
   "source": [
    "arr = np.random.randint(-20, 20, 30)\n",
    "arr"
   ]
  },
  {
   "cell_type": "code",
   "execution_count": 141,
   "metadata": {
    "id": "_kpAMHo8azs8"
   },
   "outputs": [
    {
     "data": {
      "text/plain": [
       "-20"
      ]
     },
     "execution_count": 141,
     "metadata": {},
     "output_type": "execute_result"
    }
   ],
   "source": [
    "arr.min()"
   ]
  },
  {
   "cell_type": "code",
   "execution_count": 142,
   "metadata": {
    "id": "sQYBOzt1a14b"
   },
   "outputs": [
    {
     "data": {
      "text/plain": [
       "17"
      ]
     },
     "execution_count": 142,
     "metadata": {},
     "output_type": "execute_result"
    }
   ],
   "source": [
    "arr.max()"
   ]
  },
  {
   "cell_type": "code",
   "execution_count": 143,
   "metadata": {
    "id": "nA_zQZ32bL2l"
   },
   "outputs": [
    {
     "data": {
      "text/plain": [
       "(-20, 17)"
      ]
     },
     "execution_count": 143,
     "metadata": {},
     "output_type": "execute_result"
    }
   ],
   "source": [
    "#Ambas funciones tienen un equivalente de alto nivel\n",
    "#que también sirve para otro tipo de objetos\n",
    "\n",
    "np.min(arr), np.max(arr)"
   ]
  },
  {
   "cell_type": "markdown",
   "metadata": {
    "id": "dhyWnAlybsl4"
   },
   "source": [
    "\n",
    "*  **`arr.argmax()`|`arr.argmin()`**: En ocasiones es necesario encontrar la **posición** del elemento que es el máximo o mínimo de un arreglo. Esto es posible con los métodos **`argmax`** y **`argmin`**, respectivamente."
   ]
  },
  {
   "cell_type": "code",
   "execution_count": 144,
   "metadata": {
    "id": "sU1PxJ97cFYT"
   },
   "outputs": [],
   "source": [
    "arr = np.array([0,1,2,3,4,5,6,7])"
   ]
  },
  {
   "cell_type": "code",
   "execution_count": 145,
   "metadata": {
    "id": "OYmnMQKnb-5l"
   },
   "outputs": [
    {
     "data": {
      "text/plain": [
       "(0, 7)"
      ]
     },
     "execution_count": 145,
     "metadata": {},
     "output_type": "execute_result"
    }
   ],
   "source": [
    "(arr.argmin(), arr.argmax())"
   ]
  },
  {
   "cell_type": "markdown",
   "metadata": {
    "id": "cO-bdY5BcnFH"
   },
   "source": [
    "*  **Operaciones de agregación `arr.sum()`|`arr.prod()`**: Las operaciones de agregación son aquellas en las que se realiza un cálculo que puede involucrar a todos los elementos del arreglo, como la suma o el producto de todos sus elementos. Estas dos últimas operaciones comunes son posibles con los métodos **`arr.sum()`** y **`arr.prod()`**."
   ]
  },
  {
   "cell_type": "code",
   "execution_count": 146,
   "metadata": {
    "id": "fiBN4HeMdqKX"
   },
   "outputs": [
    {
     "data": {
      "text/plain": [
       "array([1, 2, 3, 4, 5, 6, 7, 8, 9])"
      ]
     },
     "execution_count": 146,
     "metadata": {},
     "output_type": "execute_result"
    }
   ],
   "source": [
    "arr = np.arange(1, 10)\n",
    "arr"
   ]
  },
  {
   "cell_type": "code",
   "execution_count": 147,
   "metadata": {
    "id": "ByTZ_7hvdmXk"
   },
   "outputs": [
    {
     "data": {
      "text/plain": [
       "45"
      ]
     },
     "execution_count": 147,
     "metadata": {},
     "output_type": "execute_result"
    }
   ],
   "source": [
    "arr.sum()"
   ]
  },
  {
   "cell_type": "code",
   "execution_count": 148,
   "metadata": {
    "id": "Rz00O0lrdxoZ"
   },
   "outputs": [
    {
     "data": {
      "text/plain": [
       "362880"
      ]
     },
     "execution_count": 148,
     "metadata": {},
     "output_type": "execute_result"
    }
   ],
   "source": [
    "arr.prod()"
   ]
  },
  {
   "cell_type": "code",
   "execution_count": 149,
   "metadata": {
    "id": "Yp-R8Ly_eBvv"
   },
   "outputs": [
    {
     "data": {
      "text/plain": [
       "(45, 362880)"
      ]
     },
     "execution_count": 149,
     "metadata": {},
     "output_type": "execute_result"
    }
   ],
   "source": [
    "#Equivalentes de alto nivel\n",
    "\n",
    "(np.sum(arr), np.prod(arr))"
   ]
  },
  {
   "cell_type": "markdown",
   "metadata": {
    "id": "DvqbH6oOc1Bw"
   },
   "source": [
    "*  **Operaciones acumuladas `arr.cumsum()`|`arr.cumprod()`**: Existen escenarios en los que se desea realizar una agregación, pero conservar los valores de cada punto o paso de la operación. \n",
    "\n",
    "  Para la suma y el producto, se consideran los métodos **`arr.cumsum()`** y **`arr.cumprod()`**."
   ]
  },
  {
   "cell_type": "code",
   "execution_count": 150,
   "metadata": {
    "id": "N1WViITQekhD"
   },
   "outputs": [
    {
     "data": {
      "text/plain": [
       "array([1, 2, 3, 4, 5, 6, 7])"
      ]
     },
     "execution_count": 150,
     "metadata": {},
     "output_type": "execute_result"
    }
   ],
   "source": [
    "arr = np.arange(1, 8)\n",
    "arr"
   ]
  },
  {
   "cell_type": "code",
   "execution_count": 151,
   "metadata": {
    "id": "9bv13ZdZeKC_"
   },
   "outputs": [
    {
     "data": {
      "text/plain": [
       "array([ 1,  3,  6, 10, 15, 21, 28])"
      ]
     },
     "execution_count": 151,
     "metadata": {},
     "output_type": "execute_result"
    }
   ],
   "source": [
    "arr.cumsum()"
   ]
  },
  {
   "cell_type": "code",
   "execution_count": 152,
   "metadata": {
    "id": "h7nunXQYeyhn"
   },
   "outputs": [
    {
     "data": {
      "text/plain": [
       "array([   1,    2,    6,   24,  120,  720, 5040])"
      ]
     },
     "execution_count": 152,
     "metadata": {},
     "output_type": "execute_result"
    }
   ],
   "source": [
    "arr.cumprod()"
   ]
  },
  {
   "cell_type": "code",
   "execution_count": 153,
   "metadata": {
    "id": "_bcv1tt6fc-q"
   },
   "outputs": [
    {
     "data": {
      "text/plain": [
       "array([[   1,    3,    6,   10,   15,   21,   28],\n",
       "       [   1,    2,    6,   24,  120,  720, 5040]])"
      ]
     },
     "execution_count": 153,
     "metadata": {},
     "output_type": "execute_result"
    }
   ],
   "source": [
    "#Equivalentes de alto nivel\n",
    "np.array([np.cumsum(arr), np.cumprod(arr)])"
   ]
  },
  {
   "cell_type": "markdown",
   "metadata": {
    "id": "8zu_NUggbBTQ"
   },
   "source": [
    "*  **Funciones estadísticas `arr.mean()`|`arr.std()` | `arr.var()`**: *NumPy* permite realizar cálculos estadísticos básicos, como la media aritmética, la desviación estándar y la varianza. Estas estadísticas descriptivas y otras más se discutirán en la **Unidad 2** con la librería *pandas*. "
   ]
  },
  {
   "cell_type": "code",
   "execution_count": 154,
   "metadata": {
    "id": "diRQC0OggM6s"
   },
   "outputs": [],
   "source": [
    "arr = np.random.randn(500)"
   ]
  },
  {
   "cell_type": "code",
   "execution_count": 155,
   "metadata": {
    "id": "eeLDUePngTMK"
   },
   "outputs": [
    {
     "data": {
      "text/plain": [
       "-0.013901534269583639"
      ]
     },
     "execution_count": 155,
     "metadata": {},
     "output_type": "execute_result"
    }
   ],
   "source": [
    "arr.mean()"
   ]
  },
  {
   "cell_type": "code",
   "execution_count": 156,
   "metadata": {
    "id": "Fm6cHumngVHo"
   },
   "outputs": [
    {
     "data": {
      "text/plain": [
       "0.9911944829276211"
      ]
     },
     "execution_count": 156,
     "metadata": {},
     "output_type": "execute_result"
    }
   ],
   "source": [
    "arr.std()"
   ]
  },
  {
   "cell_type": "code",
   "execution_count": 157,
   "metadata": {
    "id": "1fY2zSyWgn5l"
   },
   "outputs": [
    {
     "data": {
      "text/plain": [
       "0.9824665029861542"
      ]
     },
     "execution_count": 157,
     "metadata": {},
     "output_type": "execute_result"
    }
   ],
   "source": [
    "arr.var()"
   ]
  },
  {
   "cell_type": "code",
   "execution_count": 158,
   "metadata": {
    "id": "rPaRhIm7gpXE"
   },
   "outputs": [
    {
     "data": {
      "text/plain": [
       "(-0.013901534269583639, 0.9911944829276211, 0.9824665029861542)"
      ]
     },
     "execution_count": 158,
     "metadata": {},
     "output_type": "execute_result"
    }
   ],
   "source": [
    "#Equivalentes de alto nivel\n",
    "(np.mean(arr), np.std(arr), np.var(arr))"
   ]
  },
  {
   "cell_type": "markdown",
   "metadata": {
    "id": "B-h6LXe5iAI2"
   },
   "source": [
    "*  **Funciones universales**: Además de las operaciones discutidas, *NumPy* dispone de múltiples funciones comunes que pueden ser aplicadas directamente sobre arreglos de números. Estas no están disponibles como métodos de arreglos, y deben ser usadas con funciones de alto nivel. A continuación se presenta una lista de las funciones más importantes:\n",
    "\n",
    "* **Operaciones matemáticas**\n",
    "  * **`np.negative(x)`:** Negativo numérico.\n",
    "  * **`np.positive(x)`:** Positivo numérico.\n",
    "  * **`np.absolute(x)`:** Valor absoluto.\n",
    "  * **`np.sign(x)`:** Signo numérico (-1, 0 o 1).  \n",
    "  * **`np.exp(x)`:** Exponencial ($e^{x_i}$).\n",
    "  * **`np.exp2(x)`:** Exponencial base 2 ($2^{x_i}$).\n",
    "  * **`np.log(x)`:** Logaritmo natural ($\\ln {x_i}$).\n",
    "  * **`np.log2(x)`:** Logaritmo base 2 ($\\log_{2}{x_i}$).\n",
    "  * **`np.log10(x)`:** Logaritmo natural ($\\log_{10}{x_i}$).\n",
    "  * **`np.sqrt(x)`:** Raíz cuadrada ($\\sqrt{x_i}$).\n",
    "  * **`np.cbrt(x)`:** Raíz cúbica ($\\sqrt[3]{x_i}$).\n",
    "  * **`np.square(x)`:** Cuadrado del arreglo (${x_i}^2$).\n",
    "\n",
    "\n",
    "* **Otras operaciones entre arreglos numéricos**\n",
    "  * **`np.maximum(a,b)`:** Máximo entre elementos de dos arreglos. (elemento a elemento)\n",
    "  * **`np.minimum(a,b)`:** Mínimo entre elementos de dos arreglos. (elemento a elemento)\n",
    "  * **`np.power(a, b)`:** Potencia de arreglos ${a_i}^{b_i}$(elemento a elemento).\n",
    "  * **`np.remainder(a, b)`|`np.mod(a, b)`:** Residuo de la división (elemento a elemento).\n",
    "  * **`np.divmod(a, b)`:** Cociente y residuo (elemento a elemento).\n",
    "  * **`np.gcd(a, b)`:** Máximo común divisor (elemento a elemento).\n",
    "  * **`np.lcm(a, b)`:** Mínimo común múltiplo (elemento a elemento).\n",
    "\n",
    "* **Funciones trigonométricas**\n",
    "  * **`np.sin(x)`:** Seno trigonométrico.\n",
    "  * **`np.cos(x)`:** Coseno trigonométrico.\n",
    "  * **`np.tan(x)`:** Tangente trigonométrica.\n",
    "  * **`np.arcsin(x)`:** Seno inverso trigonométrico.\n",
    "  * **`np.arccos(x)`:** Coseno inverso trigonométrico.\n",
    "  * **`np.arctan(x)`:** Tangente inversa trigonométrica.\n",
    "  * **`np.sing(x)`:** Seno hiperbólico.\n",
    "  * **`np.cosh(x)`:** Coseno hiperbólico.\n",
    "  * **`np.tanh(x)`:** Tangente hiperbólica.\n",
    "  * **`np.deg2rad(x)` | `np.radians(x)`:** Conversión de grados a radianes.\n",
    "  * **`np.rad2deg(x)` | `np.degrees(x)`:** Conversión de radianes a grados.\n",
    "\n",
    "* **Operaciones en números decimales**\n",
    "  * **`np.isfinite(x)`**: Evaluación lógica de números finitos.\n",
    "  * **`np.isinf(x)`**: Evaluación lógica de números infinitos.\n",
    "  * **`np.isnan(x)`**: Evaluación lógica de valores NaN.\n",
    "  * **`np.floor(x)`**: Función *piso*.\n",
    "  * **`np.ceil(x)`**: Función *techo*.\n",
    "  * **`np.trunc(x)`**: Valores truncados.\n",
    "\n",
    "\n",
    "Puede consultar la lista completa en este [enlace](http://docs.scipy.org/doc/numpy/reference/ufuncs.html).\n",
    "\n"
   ]
  },
  {
   "cell_type": "markdown",
   "metadata": {
    "id": "A-OHRvGerJHK"
   },
   "source": [
    "### **5.3. Transformación de arreglos**\n",
    "---\n",
    "*NumPy* provee métodos especializados para la transformación del contenido de los arreglos. En la mayoría de los casos, se generan arreglos nuevos a partir del arreglo original. Algunos de los más importantes son:"
   ]
  },
  {
   "cell_type": "markdown",
   "metadata": {
    "id": "FRsqQ5GdtWbk"
   },
   "source": [
    "* **Añadir y eliminar elementos:** Dado que los arreglos en *NumPy* son inmutables en cuanto a tamaño, no existen rutinas que alteren sus dimensiones de forma directa. Por el contrario, funciones como **`append`**, **`insert`** y **`delete`** generan un arreglo nuevo con una copia de los elementos del arreglo original con la nueva dimensión. Estos son algunos de los métodos usados:"
   ]
  },
  {
   "cell_type": "code",
   "execution_count": 159,
   "metadata": {
    "id": "HUZFt9yduHrW"
   },
   "outputs": [
    {
     "data": {
      "text/plain": [
       "array([ 0,  1,  2,  3,  4,  5,  6,  7,  8,  9, 10])"
      ]
     },
     "execution_count": 159,
     "metadata": {},
     "output_type": "execute_result"
    }
   ],
   "source": [
    "arr = np.arange(11)\n",
    "arr"
   ]
  },
  {
   "cell_type": "code",
   "execution_count": 160,
   "metadata": {
    "id": "t10jfvchuVLL"
   },
   "outputs": [
    {
     "data": {
      "text/plain": [
       "array([  0,   1,   2,   3,   4,   5,   6,   7,   8,   9,  10, 100])"
      ]
     },
     "execution_count": 160,
     "metadata": {},
     "output_type": "execute_result"
    }
   ],
   "source": [
    "# Función universal para añadir elementos\n",
    "np.append(arr, 100)"
   ]
  },
  {
   "cell_type": "code",
   "execution_count": 161,
   "metadata": {
    "id": "wTubgYiduib8"
   },
   "outputs": [
    {
     "data": {
      "text/plain": [
       "array([ 0,  1,  2,  3,  4,  5,  6,  7,  8,  9, 10])"
      ]
     },
     "execution_count": 161,
     "metadata": {},
     "output_type": "execute_result"
    }
   ],
   "source": [
    "# El arreglo original está intacto\n",
    "arr"
   ]
  },
  {
   "cell_type": "code",
   "execution_count": 162,
   "metadata": {
    "id": "DOtXh_M8ulez"
   },
   "outputs": [],
   "source": [
    "#Si se desea, se puede reasignar la variable con el nuevo arreglo.\n",
    "arr = np.append(arr, 11) "
   ]
  },
  {
   "cell_type": "code",
   "execution_count": 163,
   "metadata": {
    "id": "hGGKkB-fusAw"
   },
   "outputs": [
    {
     "data": {
      "text/plain": [
       "array([ 0,  1,  2,  3,  4,  6,  7,  8,  9, 10, 11])"
      ]
     },
     "execution_count": 163,
     "metadata": {},
     "output_type": "execute_result"
    }
   ],
   "source": [
    "# Eliminar elemento específico\n",
    "np.delete(arr, 5)"
   ]
  },
  {
   "cell_type": "code",
   "execution_count": 164,
   "metadata": {
    "id": "kBps9ygbu4HL"
   },
   "outputs": [
    {
     "data": {
      "text/plain": [
       "array([  0,   1,   2,   3,   4, 100,   5,   6,   7,   8,   9,  10,  11])"
      ]
     },
     "execution_count": 164,
     "metadata": {},
     "output_type": "execute_result"
    }
   ],
   "source": [
    "#Insertar elemento en posición específica\n",
    "np.insert(arr, 5, 100)"
   ]
  },
  {
   "cell_type": "code",
   "execution_count": 165,
   "metadata": {
    "id": "9oDAJFqEvGpW"
   },
   "outputs": [
    {
     "data": {
      "text/plain": [
       "array([[ 0,  1,  2,  3,  4,  5,  6,  7,  8,  9],\n",
       "       [10, 11,  0,  1,  2,  3,  4,  5,  6,  7],\n",
       "       [ 8,  9, 10, 11,  0,  1,  2,  3,  4,  5],\n",
       "       [ 6,  7,  8,  9, 10, 11,  0,  1,  2,  3],\n",
       "       [ 4,  5,  6,  7,  8,  9, 10, 11,  0,  1],\n",
       "       [ 2,  3,  4,  5,  6,  7,  8,  9, 10, 11],\n",
       "       [ 0,  1,  2,  3,  4,  5,  6,  7,  8,  9],\n",
       "       [10, 11,  0,  1,  2,  3,  4,  5,  6,  7],\n",
       "       [ 8,  9, 10, 11,  0,  1,  2,  3,  4,  5],\n",
       "       [ 6,  7,  8,  9, 10, 11,  0,  1,  2,  3]])"
      ]
     },
     "execution_count": 165,
     "metadata": {},
     "output_type": "execute_result"
    }
   ],
   "source": [
    "#Crear un arreglo con un nuevo tamaño con el contenido del original\n",
    "np.resize(arr, (10,10))"
   ]
  },
  {
   "cell_type": "markdown",
   "metadata": {
    "id": "a4C2WbgWvdNl"
   },
   "source": [
    "* **Funciones de ordenamiento:** Algunas funciones permiten modificar el orden del contenido del arreglo. Si no es necesario alterar sus dimensiones en el proceso, existen métodos que modifican directamente los elementos. Algunos ejemplos de ordenamiento son:\n",
    "  * **`np.sort(arr)` | `arr.sort()`**: *NumPy* ofrece las funciones *sort*, que permiten reordenar un arreglo con base a un orden específico, como el alfanumérico para cadenas de texto, o el numérico ascendente y descendente. La diferencia entre la versión de alto nivel y el método de los arreglos es que la función universal crea un nuevo arreglo sin alterar el objeto, y el método realiza el ordenamiento en el sitio, modificando el contenido original."
   ]
  },
  {
   "cell_type": "code",
   "execution_count": 166,
   "metadata": {
    "id": "s2R3B7sZxEDw"
   },
   "outputs": [
    {
     "data": {
      "text/plain": [
       "array([91, 71, 98, 39, 66,  7, 92, 34,  8, 54, 45, 28, 59, 51,  6, 31, 66,\n",
       "       77, 43, 55])"
      ]
     },
     "execution_count": 166,
     "metadata": {},
     "output_type": "execute_result"
    }
   ],
   "source": [
    "arr = np.random.randint(0,100, 20)\n",
    "arr"
   ]
  },
  {
   "cell_type": "code",
   "execution_count": 167,
   "metadata": {
    "id": "xaFa-_r-xJIT"
   },
   "outputs": [
    {
     "data": {
      "text/plain": [
       "array([ 6,  7,  8, 28, 31, 34, 39, 43, 45, 51, 54, 55, 59, 66, 66, 71, 77,\n",
       "       91, 92, 98])"
      ]
     },
     "execution_count": 167,
     "metadata": {},
     "output_type": "execute_result"
    }
   ],
   "source": [
    "np.sort(arr)"
   ]
  },
  {
   "cell_type": "code",
   "execution_count": 168,
   "metadata": {
    "id": "u1ApeYBsxMcC"
   },
   "outputs": [
    {
     "data": {
      "text/plain": [
       "array([91, 71, 98, 39, 66,  7, 92, 34,  8, 54, 45, 28, 59, 51,  6, 31, 66,\n",
       "       77, 43, 55])"
      ]
     },
     "execution_count": 168,
     "metadata": {},
     "output_type": "execute_result"
    }
   ],
   "source": [
    "#el arreglo original se ve inalterado\n",
    "arr"
   ]
  },
  {
   "cell_type": "code",
   "execution_count": 169,
   "metadata": {
    "id": "8X2Bxsu2xRSR"
   },
   "outputs": [
    {
     "data": {
      "text/plain": [
       "array([ 6,  7,  8, 28, 31, 34, 39, 43, 45, 51, 54, 55, 59, 66, 66, 71, 77,\n",
       "       91, 92, 98])"
      ]
     },
     "execution_count": 169,
     "metadata": {},
     "output_type": "execute_result"
    }
   ],
   "source": [
    "# El método modifica el objeto original\n",
    "arr.sort()\n",
    "arr"
   ]
  },
  {
   "cell_type": "markdown",
   "metadata": {
    "id": "hrvofCud46bL"
   },
   "source": [
    "*  **Transformación de forma:** A veces, se quiere construir un arreglo de una forma específica, partiendo de datos previos o generados por funciones como **`np.arange`** o **`np.linspace`**. Algunos de estos son:"
   ]
  },
  {
   "cell_type": "markdown",
   "metadata": {
    "id": "-Rmjf91U5UkN"
   },
   "source": [
    "  * **`np.reshape(arr, shape)` | `arr.reshape(shape)`**: La función **`reshape`** permite modificar las dimensiones de un arreglo, conservando el contenido y el orden original."
   ]
  },
  {
   "cell_type": "code",
   "execution_count": 170,
   "metadata": {
    "id": "vSwCIRoI5TnH"
   },
   "outputs": [
    {
     "data": {
      "text/plain": [
       "array([ 0,  1,  2,  3,  4,  5,  6,  7,  8,  9, 10, 11, 12, 13, 14, 15, 16,\n",
       "       17, 18, 19, 20, 21, 22, 23, 24, 25, 26, 27, 28, 29, 30, 31, 32, 33,\n",
       "       34, 35])"
      ]
     },
     "execution_count": 170,
     "metadata": {},
     "output_type": "execute_result"
    }
   ],
   "source": [
    "arr = np.arange(36, dtype = 'int')\n",
    "arr"
   ]
  },
  {
   "cell_type": "code",
   "execution_count": 171,
   "metadata": {
    "id": "Rj1zA23F59VS"
   },
   "outputs": [
    {
     "data": {
      "text/plain": [
       "array([[ 0,  1,  2,  3,  4,  5],\n",
       "       [ 6,  7,  8,  9, 10, 11],\n",
       "       [12, 13, 14, 15, 16, 17],\n",
       "       [18, 19, 20, 21, 22, 23],\n",
       "       [24, 25, 26, 27, 28, 29],\n",
       "       [30, 31, 32, 33, 34, 35]])"
      ]
     },
     "execution_count": 171,
     "metadata": {},
     "output_type": "execute_result"
    }
   ],
   "source": [
    "arr.reshape((6,6))"
   ]
  },
  {
   "cell_type": "code",
   "execution_count": 172,
   "metadata": {
    "id": "vxgN3Ly46EwC"
   },
   "outputs": [
    {
     "data": {
      "text/plain": [
       "array([[ 0,  1,  2],\n",
       "       [ 3,  4,  5],\n",
       "       [ 6,  7,  8],\n",
       "       [ 9, 10, 11],\n",
       "       [12, 13, 14],\n",
       "       [15, 16, 17],\n",
       "       [18, 19, 20],\n",
       "       [21, 22, 23],\n",
       "       [24, 25, 26],\n",
       "       [27, 28, 29],\n",
       "       [30, 31, 32],\n",
       "       [33, 34, 35]])"
      ]
     },
     "execution_count": 172,
     "metadata": {},
     "output_type": "execute_result"
    }
   ],
   "source": [
    "np.reshape(arr, (12,3))"
   ]
  },
  {
   "cell_type": "code",
   "execution_count": 173,
   "metadata": {
    "id": "8yk1so_y6qRA"
   },
   "outputs": [
    {
     "data": {
      "text/plain": [
       "array([ 0,  1,  2,  3,  4,  5,  6,  7,  8,  9, 10, 11, 12, 13, 14, 15, 16,\n",
       "       17, 18, 19, 20, 21, 22, 23, 24, 25, 26, 27, 28, 29, 30, 31, 32, 33,\n",
       "       34, 35])"
      ]
     },
     "execution_count": 173,
     "metadata": {},
     "output_type": "execute_result"
    }
   ],
   "source": [
    "#Ninguno de los dos métodos altera el arreglo original.\n",
    "arr"
   ]
  },
  {
   "cell_type": "markdown",
   "metadata": {
    "id": "gxIs8W2x6zrh"
   },
   "source": [
    "  * **`np.ravel(arr)` | `arr.flatten()`**: La función **`np.ravel`** y su equivalente para arreglos **`arr.flatten`** genera un arreglo de $1$ dimensión con todo el contenido del arreglo original."
   ]
  },
  {
   "cell_type": "code",
   "execution_count": 174,
   "metadata": {
    "id": "encCnxU77gKP"
   },
   "outputs": [
    {
     "data": {
      "text/plain": [
       "array([[3, 3, 3],\n",
       "       [3, 2, 0],\n",
       "       [1, 0, 3],\n",
       "       [1, 1, 1],\n",
       "       [3, 1, 1]])"
      ]
     },
     "execution_count": 174,
     "metadata": {},
     "output_type": "execute_result"
    }
   ],
   "source": [
    "arr = np.random.randint(0, 4, (5,3))\n",
    "arr"
   ]
  },
  {
   "cell_type": "code",
   "execution_count": 175,
   "metadata": {
    "id": "n8P5UlV98Hb6"
   },
   "outputs": [
    {
     "data": {
      "text/plain": [
       "array([3, 3, 3, 3, 2, 0, 1, 0, 3, 1, 1, 1, 3, 1, 1])"
      ]
     },
     "execution_count": 175,
     "metadata": {},
     "output_type": "execute_result"
    }
   ],
   "source": [
    "np.ravel(arr)"
   ]
  },
  {
   "cell_type": "code",
   "execution_count": 176,
   "metadata": {
    "id": "Ka41VaFH8VYt"
   },
   "outputs": [
    {
     "data": {
      "text/plain": [
       "array([3, 3, 3, 3, 2, 0, 1, 0, 3, 1, 1, 1, 3, 1, 1])"
      ]
     },
     "execution_count": 176,
     "metadata": {},
     "output_type": "execute_result"
    }
   ],
   "source": [
    "arr.flatten()"
   ]
  },
  {
   "cell_type": "code",
   "execution_count": 177,
   "metadata": {
    "id": "HI8OhXwN8XO6"
   },
   "outputs": [
    {
     "data": {
      "text/plain": [
       "array([[3, 3, 3],\n",
       "       [3, 2, 0],\n",
       "       [1, 0, 3],\n",
       "       [1, 1, 1],\n",
       "       [3, 1, 1]])"
      ]
     },
     "execution_count": 177,
     "metadata": {},
     "output_type": "execute_result"
    }
   ],
   "source": [
    "# Ninguno de los métodos altera el arreglo original\n",
    "arr"
   ]
  },
  {
   "cell_type": "markdown",
   "metadata": {
    "id": "xjvxJg_JtZ6I"
   },
   "source": [
    "*  **`np.squeeze`**: Compacta las entradas del arreglo para generar un arreglo con menor dimensionalidad. Las dimensiones de tamaño $1$ desaparecen con esta transformación."
   ]
  },
  {
   "cell_type": "code",
   "execution_count": 178,
   "metadata": {
    "id": "sYzHce5ctaqN"
   },
   "outputs": [
    {
     "data": {
      "text/plain": [
       "(1, 3, 1)"
      ]
     },
     "execution_count": 178,
     "metadata": {},
     "output_type": "execute_result"
    }
   ],
   "source": [
    "arr = np.array([[[0], [1], [2]]])\n",
    "arr.shape"
   ]
  },
  {
   "cell_type": "code",
   "execution_count": 179,
   "metadata": {
    "id": "m_A5rx7Plvuh"
   },
   "outputs": [
    {
     "data": {
      "text/plain": [
       "array([0, 1, 2])"
      ]
     },
     "execution_count": 179,
     "metadata": {},
     "output_type": "execute_result"
    }
   ],
   "source": [
    "arr = np.squeeze(arr)\n",
    "arr"
   ]
  },
  {
   "cell_type": "code",
   "execution_count": 180,
   "metadata": {
    "id": "CN5ItSlbl0kR"
   },
   "outputs": [
    {
     "data": {
      "text/plain": [
       "(3,)"
      ]
     },
     "execution_count": 180,
     "metadata": {},
     "output_type": "execute_result"
    }
   ],
   "source": [
    "arr.shape"
   ]
  },
  {
   "cell_type": "markdown",
   "metadata": {
    "id": "e6eMn6hyGGYM"
   },
   "source": [
    "### **5.4. Combinación de arreglos**\n",
    "---\n",
    "\n",
    "Cuando se trabaja con múltiples arreglos y demás orígenes de datos, suele ser necesario integrarlos en una misma variable para su manejo. Para esto, *NumPy* dispone de algunos métodos para la unión de arreglos."
   ]
  },
  {
   "cell_type": "markdown",
   "metadata": {
    "id": "ggZkgInZ9Qzk"
   },
   "source": [
    "*  **``np.concatenate((a1,a2,...), axis)``**: Este método permite unir arreglos de manera secuencial en un eje común **`axis`** existente. Para arreglos multidimensionales, el tamaño en cada dimensión debe coincidir, a excepción únicamente del eje indicado para hacer la unión."
   ]
  },
  {
   "cell_type": "code",
   "execution_count": 181,
   "metadata": {
    "id": "1QPa4fID-StW"
   },
   "outputs": [
    {
     "data": {
      "text/plain": [
       "array([[0, 1, 2, 3, 4],\n",
       "       [5, 6, 7, 8, 9]])"
      ]
     },
     "execution_count": 181,
     "metadata": {},
     "output_type": "execute_result"
    }
   ],
   "source": [
    "a = np.arange(10).reshape(2,5)\n",
    "a"
   ]
  },
  {
   "cell_type": "code",
   "execution_count": 182,
   "metadata": {
    "id": "RxcTnqH5-YdE"
   },
   "outputs": [
    {
     "data": {
      "text/plain": [
       "array([[10, 11, 12, 13, 14],\n",
       "       [15, 16, 17, 18, 19]])"
      ]
     },
     "execution_count": 182,
     "metadata": {},
     "output_type": "execute_result"
    }
   ],
   "source": [
    "b = np.arange(10, 20).reshape(2,5)\n",
    "b"
   ]
  },
  {
   "cell_type": "code",
   "execution_count": 183,
   "metadata": {
    "id": "rCYXZNHB_F2z"
   },
   "outputs": [
    {
     "data": {
      "text/plain": [
       "array([[ 0,  1,  2,  3,  4],\n",
       "       [ 5,  6,  7,  8,  9],\n",
       "       [10, 11, 12, 13, 14],\n",
       "       [15, 16, 17, 18, 19]])"
      ]
     },
     "execution_count": 183,
     "metadata": {},
     "output_type": "execute_result"
    }
   ],
   "source": [
    "# En el eje 0 (filas)\n",
    "np.concatenate((a, b), axis = 0)"
   ]
  },
  {
   "cell_type": "code",
   "execution_count": 184,
   "metadata": {
    "id": "W-Y7KnLU-dJ2"
   },
   "outputs": [
    {
     "data": {
      "text/plain": [
       "array([[ 0,  1,  2,  3,  4, 10, 11, 12, 13, 14],\n",
       "       [ 5,  6,  7,  8,  9, 15, 16, 17, 18, 19]])"
      ]
     },
     "execution_count": 184,
     "metadata": {},
     "output_type": "execute_result"
    }
   ],
   "source": [
    "# En el eje 1 (columnas)\n",
    "np.concatenate((a, b), axis = 1)"
   ]
  },
  {
   "cell_type": "code",
   "execution_count": 185,
   "metadata": {
    "id": "paN2Satg_Jfl"
   },
   "outputs": [
    {
     "data": {
      "text/plain": [
       "array([[ 0,  1,  2,  3,  4],\n",
       "       [ 5,  6,  7,  8,  9],\n",
       "       [10, 11, 12, 13, 14],\n",
       "       [15, 16, 17, 18, 19],\n",
       "       [10, 11, 12, 13, 14],\n",
       "       [15, 16, 17, 18, 19],\n",
       "       [ 0,  1,  2,  3,  4],\n",
       "       [ 5,  6,  7,  8,  9]])"
      ]
     },
     "execution_count": 185,
     "metadata": {},
     "output_type": "execute_result"
    }
   ],
   "source": [
    "# Usando multiples valores de entrada.\n",
    "np.concatenate((a, b, b, a), axis = 0)"
   ]
  },
  {
   "cell_type": "markdown",
   "metadata": {
    "id": "Zs9YlTvA_gB_"
   },
   "source": [
    "*  **``np.stack((a1,a2,...), axis)``**: Este método, a diferencia de **`np.concatenate`** permite unir arreglos de manera secuencial en un eje nuevo. De esta manera, los vectores se \"apilan\" formado matrices, y las matrices formando tensores de $3$ dimensiones. Todos los arreglos pasados como parámetro deben tener la misma forma."
   ]
  },
  {
   "cell_type": "code",
   "execution_count": 186,
   "metadata": {
    "id": "gvMkFj0PABCi"
   },
   "outputs": [
    {
     "data": {
      "text/plain": [
       "((5,), (5,))"
      ]
     },
     "execution_count": 186,
     "metadata": {},
     "output_type": "execute_result"
    }
   ],
   "source": [
    "a = np.zeros(5)\n",
    "b = np.ones(5)\n",
    "\n",
    "(a.shape, b.shape)"
   ]
  },
  {
   "cell_type": "code",
   "execution_count": 187,
   "metadata": {
    "id": "SffFLgmiAalH"
   },
   "outputs": [
    {
     "data": {
      "text/plain": [
       "array([[0., 0., 0., 0., 0.],\n",
       "       [1., 1., 1., 1., 1.],\n",
       "       [1., 2., 3., 4., 5.]])"
      ]
     },
     "execution_count": 187,
     "metadata": {},
     "output_type": "execute_result"
    }
   ],
   "source": [
    "ab = np.stack([a, b, (1,2,3,4,5)]) #Se aceptan colecciones de otros tipos, como listas o tuplas\n",
    "ab"
   ]
  },
  {
   "cell_type": "code",
   "execution_count": 188,
   "metadata": {
    "id": "VIBAaHoNAgd5"
   },
   "outputs": [
    {
     "data": {
      "text/plain": [
       "(3, 5)"
      ]
     },
     "execution_count": 188,
     "metadata": {},
     "output_type": "execute_result"
    }
   ],
   "source": [
    "#Se crea un nuevo eje al principio al apilar los arreglos.\n",
    "ab.shape"
   ]
  },
  {
   "cell_type": "code",
   "execution_count": 189,
   "metadata": {
    "id": "_vdrZViMApFO"
   },
   "outputs": [
    {
     "data": {
      "text/plain": [
       "{'a': (3, 3), 'b': (3, 3)}"
      ]
     },
     "execution_count": 189,
     "metadata": {},
     "output_type": "execute_result"
    }
   ],
   "source": [
    "a2d = np.eye(3)\n",
    "b2d = np.zeros((3,3))\n",
    "\n",
    "{'a': a2d.shape, 'b': b2d.shape}"
   ]
  },
  {
   "cell_type": "code",
   "execution_count": 190,
   "metadata": {
    "id": "gSj8J9ecAzFh"
   },
   "outputs": [
    {
     "data": {
      "text/plain": [
       "array([[[1., 0., 0.],\n",
       "        [0., 1., 0.],\n",
       "        [0., 0., 1.]],\n",
       "\n",
       "       [[0., 0., 0.],\n",
       "        [0., 0., 0.],\n",
       "        [0., 0., 0.]]])"
      ]
     },
     "execution_count": 190,
     "metadata": {},
     "output_type": "execute_result"
    }
   ],
   "source": [
    "#Se crea un arreglo de 3 dimensiones\n",
    "c3d = np.stack([a2d, b2d])\n",
    "c3d"
   ]
  },
  {
   "cell_type": "code",
   "execution_count": 191,
   "metadata": {
    "id": "ir3oR96CBDZJ"
   },
   "outputs": [
    {
     "data": {
      "text/plain": [
       "(2, 3, 3)"
      ]
     },
     "execution_count": 191,
     "metadata": {},
     "output_type": "execute_result"
    }
   ],
   "source": [
    "c3d.shape"
   ]
  },
  {
   "cell_type": "markdown",
   "metadata": {
    "id": "BBYUHwrLBbPI"
   },
   "source": [
    "Existen también 3 funciones de conveniencia usadas para concatenar arreglos en los tres primeros ejes. Estas son:\n",
    "\n",
    "1. **`np.vstack((a1, a2, ...))`:** Apilar arreglos por el eje vertical (Por filas, axis = 0)\n",
    "2. **`np.hstack((a1, a2, ...))`:** Apilar arreglos por el eje horizontal (Por columnas, axis = 1)\n",
    "3. **`np.dstack((a1, a2, ...))`:** Apilar arreglos en orden de profundidad ( axis = 2 )"
   ]
  },
  {
   "cell_type": "code",
   "execution_count": 197,
   "metadata": {
    "id": "ExSP72ydBakZ"
   },
   "outputs": [
    {
     "data": {
      "text/plain": [
       "array([[[3, 3],\n",
       "        [0, 1]],\n",
       "\n",
       "       [[0, 2],\n",
       "        [2, 3]]])"
      ]
     },
     "execution_count": 197,
     "metadata": {},
     "output_type": "execute_result"
    }
   ],
   "source": [
    "a = np.random.randint(0, 4, (2,2,2))\n",
    "a"
   ]
  },
  {
   "cell_type": "code",
   "execution_count": 198,
   "metadata": {
    "id": "qCwef8tFDINA"
   },
   "outputs": [
    {
     "data": {
      "text/plain": [
       "array([[[1, 1],\n",
       "        [1, 2]],\n",
       "\n",
       "       [[0, 0],\n",
       "        [0, 1]]])"
      ]
     },
     "execution_count": 198,
     "metadata": {},
     "output_type": "execute_result"
    }
   ],
   "source": [
    "b = np.random.randint(0, 4, (2,2,2))\n",
    "b"
   ]
  },
  {
   "cell_type": "code",
   "execution_count": 199,
   "metadata": {
    "id": "kmAeDl3iDJyq"
   },
   "outputs": [
    {
     "data": {
      "text/plain": [
       "array([[[3, 3],\n",
       "        [0, 1]],\n",
       "\n",
       "       [[0, 2],\n",
       "        [2, 3]],\n",
       "\n",
       "       [[1, 1],\n",
       "        [1, 2]],\n",
       "\n",
       "       [[0, 0],\n",
       "        [0, 1]]])"
      ]
     },
     "execution_count": 199,
     "metadata": {},
     "output_type": "execute_result"
    }
   ],
   "source": [
    "# Equivalente a np.concatenate([a, b], 0)\n",
    "np.vstack([a, b])"
   ]
  },
  {
   "cell_type": "code",
   "execution_count": 200,
   "metadata": {
    "id": "Nn5hWxPM0Rlb"
   },
   "outputs": [
    {
     "data": {
      "text/plain": [
       "(4, 2, 2)"
      ]
     },
     "execution_count": 200,
     "metadata": {},
     "output_type": "execute_result"
    }
   ],
   "source": [
    "np.vstack([a, b]).shape"
   ]
  },
  {
   "cell_type": "code",
   "execution_count": 201,
   "metadata": {
    "id": "R1QgBsgpDOIu"
   },
   "outputs": [
    {
     "data": {
      "text/plain": [
       "array([[[3, 3],\n",
       "        [0, 1],\n",
       "        [1, 1],\n",
       "        [1, 2]],\n",
       "\n",
       "       [[0, 2],\n",
       "        [2, 3],\n",
       "        [0, 0],\n",
       "        [0, 1]]])"
      ]
     },
     "execution_count": 201,
     "metadata": {},
     "output_type": "execute_result"
    }
   ],
   "source": [
    "# Equivalente a np.concatenate([a, b], 1)\n",
    "np.hstack([a, b])"
   ]
  },
  {
   "cell_type": "code",
   "execution_count": 202,
   "metadata": {
    "id": "nFCjBa2M0M8E"
   },
   "outputs": [
    {
     "data": {
      "text/plain": [
       "(2, 4, 2)"
      ]
     },
     "execution_count": 202,
     "metadata": {},
     "output_type": "execute_result"
    }
   ],
   "source": [
    "np.hstack([a, b]).shape"
   ]
  },
  {
   "cell_type": "code",
   "execution_count": 203,
   "metadata": {
    "id": "XqUmgr5lDQrf"
   },
   "outputs": [
    {
     "data": {
      "text/plain": [
       "array([[[3, 3, 1, 1],\n",
       "        [0, 1, 1, 2]],\n",
       "\n",
       "       [[0, 2, 0, 0],\n",
       "        [2, 3, 0, 1]]])"
      ]
     },
     "execution_count": 203,
     "metadata": {},
     "output_type": "execute_result"
    }
   ],
   "source": [
    "# Equivalente a np.concatenate([a, b], 2)\n",
    "np.dstack([a, b])"
   ]
  },
  {
   "cell_type": "code",
   "execution_count": 204,
   "metadata": {
    "id": "CU5vXAOY0PBr"
   },
   "outputs": [
    {
     "data": {
      "text/plain": [
       "(2, 2, 4)"
      ]
     },
     "execution_count": 204,
     "metadata": {},
     "output_type": "execute_result"
    }
   ],
   "source": [
    "np.dstack([a, b]).shape"
   ]
  },
  {
   "cell_type": "markdown",
   "metadata": {
    "id": "q63c8vVL41c8"
   },
   "source": [
    "### **5.5. Separación de arreglos**\n",
    "---\n",
    "\n",
    "Eventualmente, también es necesario separar el contenido de un arreglo en subarreglos separados. Tenga en cuenta que esta separación se puede realizar por medio del indexado de arreglos visto en la sección $4$. Sin embargo, esta alternativa es arriesgada por un problema bastante común.  Por ejemplo:"
   ]
  },
  {
   "cell_type": "code",
   "execution_count": 205,
   "metadata": {
    "id": "tfRdrHSBE3Ns"
   },
   "outputs": [
    {
     "data": {
      "text/plain": [
       "array([[1., 0., 0., 0.],\n",
       "       [0., 1., 0., 0.],\n",
       "       [0., 0., 1., 0.],\n",
       "       [0., 0., 0., 1.]])"
      ]
     },
     "execution_count": 205,
     "metadata": {},
     "output_type": "execute_result"
    }
   ],
   "source": [
    "arr = np.eye(4)\n",
    "arr"
   ]
  },
  {
   "cell_type": "markdown",
   "metadata": {
    "id": "3Avqj4GXE9zc"
   },
   "source": [
    "Se quiere partir este arreglo a la mitad. Se puede asignar cada mitad a una variable distinta con *slicing*:"
   ]
  },
  {
   "cell_type": "code",
   "execution_count": 206,
   "metadata": {
    "id": "SGhQNNg6E9OZ"
   },
   "outputs": [
    {
     "data": {
      "text/plain": [
       "array([[1., 0.],\n",
       "       [0., 1.],\n",
       "       [0., 0.],\n",
       "       [0., 0.]])"
      ]
     },
     "execution_count": 206,
     "metadata": {},
     "output_type": "execute_result"
    }
   ],
   "source": [
    "izq = arr[:, :2]\n",
    "izq"
   ]
  },
  {
   "cell_type": "code",
   "execution_count": 207,
   "metadata": {
    "id": "91lxlKjTFRBG"
   },
   "outputs": [
    {
     "data": {
      "text/plain": [
       "array([[0., 0.],\n",
       "       [0., 0.],\n",
       "       [1., 0.],\n",
       "       [0., 1.]])"
      ]
     },
     "execution_count": 207,
     "metadata": {},
     "output_type": "execute_result"
    }
   ],
   "source": [
    "der = arr[:, 2:]\n",
    "der"
   ]
  },
  {
   "cell_type": "markdown",
   "metadata": {
    "id": "mkgKSfM4FXN2"
   },
   "source": [
    "La separación se realizó efectivamente. Sin embargo, si se fuera a modificar el contenido de alguna de las mitades surge un efecto inesperado:"
   ]
  },
  {
   "cell_type": "code",
   "execution_count": 208,
   "metadata": {
    "id": "Wvj2OJ4RFfOC"
   },
   "outputs": [
    {
     "data": {
      "text/plain": [
       "array([[  1., 120.],\n",
       "       [  0.,   1.],\n",
       "       [  0.,   0.],\n",
       "       [  0.,   0.]])"
      ]
     },
     "execution_count": 208,
     "metadata": {},
     "output_type": "execute_result"
    }
   ],
   "source": [
    "izq[0,1] = 120\n",
    "izq"
   ]
  },
  {
   "cell_type": "markdown",
   "metadata": {
    "id": "Z0O5kHrlFqiV"
   },
   "source": [
    "Si volvemos a acceder al arreglo original nos daremos cuenta de que su contenido se vio alterado también."
   ]
  },
  {
   "cell_type": "code",
   "execution_count": 209,
   "metadata": {
    "id": "hkFB5RJsFmE0"
   },
   "outputs": [
    {
     "data": {
      "text/plain": [
       "array([[  1., 120.,   0.,   0.],\n",
       "       [  0.,   1.,   0.,   0.],\n",
       "       [  0.,   0.,   1.,   0.],\n",
       "       [  0.,   0.,   0.,   1.]])"
      ]
     },
     "execution_count": 209,
     "metadata": {},
     "output_type": "execute_result"
    }
   ],
   "source": [
    "# El arreglo original tiene el mismo cambio del cambio anterior.\n",
    "arr"
   ]
  },
  {
   "cell_type": "markdown",
   "metadata": {
    "id": "CubDRxyIF8C7"
   },
   "source": [
    "Este problema se podría solucionar empleando **copias** del arreglo original. Esto es posible con el método **`arr.copy()`**."
   ]
  },
  {
   "cell_type": "code",
   "execution_count": 210,
   "metadata": {
    "id": "zFtPxpvlGGVn"
   },
   "outputs": [
    {
     "data": {
      "text/plain": [
       "array([[1., 0., 0., 0.],\n",
       "       [0., 1., 0., 0.],\n",
       "       [0., 0., 1., 0.],\n",
       "       [0., 0., 0., 1.]])"
      ]
     },
     "execution_count": 210,
     "metadata": {},
     "output_type": "execute_result"
    }
   ],
   "source": [
    "arr = np.eye(4)\n",
    "arr"
   ]
  },
  {
   "cell_type": "code",
   "execution_count": 211,
   "metadata": {
    "id": "v5WWkazbGTl7"
   },
   "outputs": [
    {
     "data": {
      "text/plain": [
       "array([[-1., -1., -1., -1.],\n",
       "       [-1., -1., -1., -1.],\n",
       "       [ 0.,  0.,  1.,  0.],\n",
       "       [ 0.,  0.,  0.,  1.]])"
      ]
     },
     "execution_count": 211,
     "metadata": {},
     "output_type": "execute_result"
    }
   ],
   "source": [
    "copia = arr.copy()\n",
    "copia[:2, :] = -1\n",
    "copia"
   ]
  },
  {
   "cell_type": "code",
   "execution_count": 212,
   "metadata": {
    "id": "8PE8PzarF7Xo"
   },
   "outputs": [
    {
     "data": {
      "text/plain": [
       "array([[1., 0., 0., 0.],\n",
       "       [0., 1., 0., 0.],\n",
       "       [0., 0., 1., 0.],\n",
       "       [0., 0., 0., 1.]])"
      ]
     },
     "execution_count": 212,
     "metadata": {},
     "output_type": "execute_result"
    }
   ],
   "source": [
    "#El arreglo no se altera\n",
    "arr"
   ]
  },
  {
   "cell_type": "markdown",
   "metadata": {
    "id": "j3xTnRMZGcwE"
   },
   "source": [
    "Aún con esta solución, es un proceso bastante largo si se desea hacer una división del arreglo en muchos subarreglos. Para eso, *NumPy* dispone de la familia de métodos **split**. A continuación se discute uno por uno:"
   ]
  },
  {
   "cell_type": "markdown",
   "metadata": {
    "id": "BvZxt0q5IYTp"
   },
   "source": [
    "*  **`np.split(arr, índices, axis)`:** Este método divide el arreglo en múltiples fragmentos. El argumento **`índices`** puede ser interpretado de dos maneras. \n",
    "  * Si es un entero **`n`**, se divide el arreglo en **`n`** partes iguales. Si no se puede dividir el arreglo de esta forma se arroja un error.\n",
    "  * Si es una lista de enteros, se interpreta como los puntos de corte sobre los que se va a hacer el *slicing*."
   ]
  },
  {
   "cell_type": "code",
   "execution_count": 213,
   "metadata": {
    "id": "QRp-UfBnJZEs"
   },
   "outputs": [
    {
     "data": {
      "text/plain": [
       "array([[ 0,  1,  2,  3,  4,  5,  6,  7],\n",
       "       [ 8,  9, 10, 11, 12, 13, 14, 15],\n",
       "       [16, 17, 18, 19, 20, 21, 22, 23],\n",
       "       [24, 25, 26, 27, 28, 29, 30, 31],\n",
       "       [32, 33, 34, 35, 36, 37, 38, 39],\n",
       "       [40, 41, 42, 43, 44, 45, 46, 47],\n",
       "       [48, 49, 50, 51, 52, 53, 54, 55],\n",
       "       [56, 57, 58, 59, 60, 61, 62, 63]])"
      ]
     },
     "execution_count": 213,
     "metadata": {},
     "output_type": "execute_result"
    }
   ],
   "source": [
    "arr = np.arange(64).reshape((8,8))\n",
    "\n",
    "arr"
   ]
  },
  {
   "cell_type": "code",
   "execution_count": 214,
   "metadata": {
    "id": "OGMjsKr_JpGg"
   },
   "outputs": [
    {
     "data": {
      "text/plain": [
       "[array([[ 0,  1,  2,  3,  4,  5,  6,  7],\n",
       "        [ 8,  9, 10, 11, 12, 13, 14, 15],\n",
       "        [16, 17, 18, 19, 20, 21, 22, 23],\n",
       "        [24, 25, 26, 27, 28, 29, 30, 31]]),\n",
       " array([[32, 33, 34, 35, 36, 37, 38, 39],\n",
       "        [40, 41, 42, 43, 44, 45, 46, 47],\n",
       "        [48, 49, 50, 51, 52, 53, 54, 55],\n",
       "        [56, 57, 58, 59, 60, 61, 62, 63]])]"
      ]
     },
     "execution_count": 214,
     "metadata": {},
     "output_type": "execute_result"
    }
   ],
   "source": [
    "#Por defecto se divide el arreglo por el eje 0 (filas).\n",
    "np.split(arr, 2)"
   ]
  },
  {
   "cell_type": "code",
   "execution_count": 215,
   "metadata": {
    "id": "KgpVx6f4JziD"
   },
   "outputs": [
    {
     "data": {
      "text/plain": [
       "[array([[ 0,  1,  2,  3,  4,  5,  6,  7],\n",
       "        [ 8,  9, 10, 11, 12, 13, 14, 15]]),\n",
       " array([[16, 17, 18, 19, 20, 21, 22, 23]]),\n",
       " array([[24, 25, 26, 27, 28, 29, 30, 31],\n",
       "        [32, 33, 34, 35, 36, 37, 38, 39],\n",
       "        [40, 41, 42, 43, 44, 45, 46, 47]]),\n",
       " array([[48, 49, 50, 51, 52, 53, 54, 55],\n",
       "        [56, 57, 58, 59, 60, 61, 62, 63]])]"
      ]
     },
     "execution_count": 215,
     "metadata": {},
     "output_type": "execute_result"
    }
   ],
   "source": [
    "# Los elementos del arreglo generado son equivalentes a hacer los siguientes slices.\n",
    "#   arr[:2]\n",
    "#   arr[2:3]\n",
    "#   arr[3:6]\n",
    "#   arr[6:]\n",
    "\n",
    "np.split(arr, [2, 3, 6])"
   ]
  },
  {
   "cell_type": "code",
   "execution_count": 216,
   "metadata": {
    "id": "TiGFAuDZKH_3"
   },
   "outputs": [
    {
     "data": {
      "text/plain": [
       "[array([[ 0,  1],\n",
       "        [ 8,  9],\n",
       "        [16, 17],\n",
       "        [24, 25],\n",
       "        [32, 33],\n",
       "        [40, 41],\n",
       "        [48, 49],\n",
       "        [56, 57]]),\n",
       " array([[ 2],\n",
       "        [10],\n",
       "        [18],\n",
       "        [26],\n",
       "        [34],\n",
       "        [42],\n",
       "        [50],\n",
       "        [58]]),\n",
       " array([[ 3,  4,  5,  6,  7],\n",
       "        [11, 12, 13, 14, 15],\n",
       "        [19, 20, 21, 22, 23],\n",
       "        [27, 28, 29, 30, 31],\n",
       "        [35, 36, 37, 38, 39],\n",
       "        [43, 44, 45, 46, 47],\n",
       "        [51, 52, 53, 54, 55],\n",
       "        [59, 60, 61, 62, 63]])]"
      ]
     },
     "execution_count": 216,
     "metadata": {},
     "output_type": "execute_result"
    }
   ],
   "source": [
    "np.split(arr, [2,3], axis = 1)"
   ]
  },
  {
   "cell_type": "markdown",
   "metadata": {
    "id": "sQL3kTzWKVYF"
   },
   "source": [
    "*  **`np.array_split(arr, indices, axis)`:** El método **`np.array_split`** es casi idéntico al método **`np.split`**, pero sin retornar error al detectar una división no entera. Cuando esto ocurre, se distribuye de manera casi equivalente. Los primeros arreglos tendrán 1 elemento más, hasta que sea imposible dividir más."
   ]
  },
  {
   "cell_type": "code",
   "execution_count": 217,
   "metadata": {
    "id": "Ds1LSYGqLQTH"
   },
   "outputs": [
    {
     "data": {
      "text/plain": [
       "array([0, 1, 2, 3, 4, 5, 6])"
      ]
     },
     "execution_count": 217,
     "metadata": {},
     "output_type": "execute_result"
    }
   ],
   "source": [
    "arr = np.arange(7)\n",
    "arr"
   ]
  },
  {
   "cell_type": "code",
   "execution_count": 218,
   "metadata": {
    "id": "sHHLh3KDLgBl"
   },
   "outputs": [
    {
     "data": {
      "text/plain": [
       "[array([0, 1]), array([2, 3]), array([4]), array([5]), array([6])]"
      ]
     },
     "execution_count": 218,
     "metadata": {},
     "output_type": "execute_result"
    }
   ],
   "source": [
    "#Se crean 5 arreglos. Dado que solo hay 7 elementos, las primeras 2 filas tendrán 1 más.\n",
    "np.array_split(arr, 5)"
   ]
  },
  {
   "cell_type": "markdown",
   "metadata": {
    "id": "kPXNLHc5L_k0"
   },
   "source": [
    "Al igual que con la familia de funciones **`stack`**, *NumPy* dispone de tres funciones de conveniencia para la división de arreglos en los 3 ejes más comunes. Estos son:\n",
    "\n",
    "1. **`np.vsplit(arr, índices)`:** Divide el arreglo por el eje vertical (Por filas, axis = 0)\n",
    "2. **`np.hsplit(arr, índices)`:** Divide el arreglo por el eje horizontal (Por columnas, axis = 1)\n",
    "3. **`np.dsplit(arr, índices)`:** Divide el arreglo en orden de profundidad ( axis = 2 )"
   ]
  },
  {
   "cell_type": "code",
   "execution_count": 219,
   "metadata": {
    "id": "5dWElElMMwl2"
   },
   "outputs": [
    {
     "data": {
      "text/plain": [
       "array([[[66, 24],\n",
       "        [54, 15]],\n",
       "\n",
       "       [[37, 77],\n",
       "        [96, 58]]])"
      ]
     },
     "execution_count": 219,
     "metadata": {},
     "output_type": "execute_result"
    }
   ],
   "source": [
    "arr = np.random.randint(10,100,(2,2,2))\n",
    "arr"
   ]
  },
  {
   "cell_type": "code",
   "execution_count": 220,
   "metadata": {
    "id": "gvKyYluWNB5l"
   },
   "outputs": [
    {
     "data": {
      "text/plain": [
       "[array([[[66, 24],\n",
       "         [54, 15]]]),\n",
       " array([[[37, 77],\n",
       "         [96, 58]]])]"
      ]
     },
     "execution_count": 220,
     "metadata": {},
     "output_type": "execute_result"
    }
   ],
   "source": [
    "vs = np.vsplit(arr, 2)\n",
    "vs"
   ]
  },
  {
   "cell_type": "code",
   "execution_count": 221,
   "metadata": {
    "id": "zyZkAlC1NbDk"
   },
   "outputs": [
    {
     "name": "stdout",
     "output_type": "stream",
     "text": [
      "[[[66 24]\n",
      "  [54 15]]]\n",
      "[[[37 77]\n",
      "  [96 58]]]\n"
     ]
    },
    {
     "data": {
      "text/plain": [
       "(1, 2, 2)"
      ]
     },
     "execution_count": 221,
     "metadata": {},
     "output_type": "execute_result"
    }
   ],
   "source": [
    "print(vs[0])\n",
    "print(vs[1])\n",
    "vs[0].shape"
   ]
  },
  {
   "cell_type": "code",
   "execution_count": 222,
   "metadata": {
    "id": "tKwwj5DQNRrj"
   },
   "outputs": [
    {
     "data": {
      "text/plain": [
       "[array([[[66, 24]],\n",
       " \n",
       "        [[37, 77]]]),\n",
       " array([[[54, 15]],\n",
       " \n",
       "        [[96, 58]]])]"
      ]
     },
     "execution_count": 222,
     "metadata": {},
     "output_type": "execute_result"
    }
   ],
   "source": [
    "hs = np.hsplit(arr, 2)\n",
    "hs"
   ]
  },
  {
   "cell_type": "code",
   "execution_count": 223,
   "metadata": {
    "id": "frGJyPc-Nfpz"
   },
   "outputs": [
    {
     "name": "stdout",
     "output_type": "stream",
     "text": [
      "[[[66 24]]\n",
      "\n",
      " [[37 77]]]\n",
      "[[[54 15]]\n",
      "\n",
      " [[96 58]]]\n"
     ]
    },
    {
     "data": {
      "text/plain": [
       "(2, 1, 2)"
      ]
     },
     "execution_count": 223,
     "metadata": {},
     "output_type": "execute_result"
    }
   ],
   "source": [
    "print(hs[0])\n",
    "print(hs[1])\n",
    "hs[0].shape"
   ]
  },
  {
   "cell_type": "code",
   "execution_count": 224,
   "metadata": {
    "id": "xOKzXKT1NTgv"
   },
   "outputs": [],
   "source": [
    "ds = np.dsplit(arr, 2)"
   ]
  },
  {
   "cell_type": "code",
   "execution_count": 225,
   "metadata": {
    "id": "EMYgB7GvNitc"
   },
   "outputs": [
    {
     "name": "stdout",
     "output_type": "stream",
     "text": [
      "[[[66]\n",
      "  [54]]\n",
      "\n",
      " [[37]\n",
      "  [96]]]\n",
      "[[[24]\n",
      "  [15]]\n",
      "\n",
      " [[77]\n",
      "  [58]]]\n"
     ]
    },
    {
     "data": {
      "text/plain": [
       "(2, 2, 1)"
      ]
     },
     "execution_count": 225,
     "metadata": {},
     "output_type": "execute_result"
    }
   ],
   "source": [
    "print(ds[0])\n",
    "print(ds[1])\n",
    "ds[0].shape"
   ]
  },
  {
   "cell_type": "markdown",
   "metadata": {
    "id": "s10bfX5IpiXa"
   },
   "source": [
    "## **6. Iterando sobre arreglos**\n",
    "---\n",
    "\n",
    "No es recomendable iterar un arreglo de *NumPy* a menos de que sea estrictamente necesario. Utilidades como el *broadcasting* y la operación entre arreglos garantizan al usuario operaciones de alto nivel sobre todos los elementos de un arreglo sin la necesidad de iterar sobre ellos. \n",
    "\n",
    "Sin embargo, para aquellos casos en los que se requiere realizar una iteración sobre los objetos almacenados en un arreglo de *NumPy* existen algunas funciones que facilitan y optimizan esta tarea."
   ]
  },
  {
   "cell_type": "code",
   "execution_count": 226,
   "metadata": {
    "id": "StsMzS2_piXb"
   },
   "outputs": [
    {
     "data": {
      "text/plain": [
       "array([0, 1, 2, 3])"
      ]
     },
     "execution_count": 226,
     "metadata": {},
     "output_type": "execute_result"
    }
   ],
   "source": [
    "# Con arreglos de 1-D\n",
    "arr = np.arange(0,4)\n",
    "arr"
   ]
  },
  {
   "cell_type": "code",
   "execution_count": 227,
   "metadata": {
    "id": "FDM3IUb3piXd"
   },
   "outputs": [
    {
     "name": "stdout",
     "output_type": "stream",
     "text": [
      "0\n",
      "1\n",
      "2\n",
      "3\n"
     ]
    }
   ],
   "source": [
    "# Iterando sobre un arreglo unidimensional\n",
    "# Esta iteración es trivial, idéntica a la de una lista tradicional\n",
    "for item in arr:\n",
    "    print(item)"
   ]
  },
  {
   "cell_type": "code",
   "execution_count": 228,
   "metadata": {
    "id": "yI_GxyfDpiXg"
   },
   "outputs": [
    {
     "data": {
      "text/plain": [
       "array([[0, 1],\n",
       "       [2, 3]])"
      ]
     },
     "execution_count": 228,
     "metadata": {},
     "output_type": "execute_result"
    }
   ],
   "source": [
    "# Con arreglos de 2-D\n",
    "arr = np.arange(0,4).reshape(2,2)\n",
    "arr"
   ]
  },
  {
   "cell_type": "code",
   "execution_count": 229,
   "metadata": {
    "id": "Af06e2ekpiXi"
   },
   "outputs": [
    {
     "name": "stdout",
     "output_type": "stream",
     "text": [
      "[0 1]\n",
      "[2 3]\n"
     ]
    }
   ],
   "source": [
    "# Al iterar sobre el arreglo, se accede a cada fila.\n",
    "for fila in arr:\n",
    "    print(fila)"
   ]
  },
  {
   "cell_type": "code",
   "execution_count": 230,
   "metadata": {
    "id": "Kp0z1Y_NpiXk"
   },
   "outputs": [
    {
     "name": "stdout",
     "output_type": "stream",
     "text": [
      "0\n",
      "1\n",
      "2\n",
      "3\n"
     ]
    }
   ],
   "source": [
    "# Si se quiere hacer una operación sobre cada uno de los valores, se puede usar la propiedad \"flat\"\n",
    "# también se pueden usar los métodos ravel y flatten vistos anteriormente\n",
    "for item in arr.flat:\n",
    "    print(item)"
   ]
  },
  {
   "cell_type": "markdown",
   "metadata": {
    "id": "bvmt7BkIPDs8"
   },
   "source": [
    "Otra forma recomendada es con el método **`np.nditer(arr)`**:"
   ]
  },
  {
   "cell_type": "code",
   "execution_count": 231,
   "metadata": {
    "id": "0ELwHnPYPNNZ"
   },
   "outputs": [
    {
     "name": "stdout",
     "output_type": "stream",
     "text": [
      "0\n",
      "1\n",
      "2\n",
      "3\n"
     ]
    }
   ],
   "source": [
    "for item in np.nditer(arr):\n",
    "    print(item)"
   ]
  },
  {
   "cell_type": "markdown",
   "metadata": {
    "id": "Iw98aVOIPoB1"
   },
   "source": [
    "Este método también permite iterar en cada pareja posible entre los elementos de múltiples arreglos utilizando el *broadcasting*."
   ]
  },
  {
   "cell_type": "code",
   "execution_count": 232,
   "metadata": {
    "id": "_N54GMq9P2Xi"
   },
   "outputs": [
    {
     "name": "stdout",
     "output_type": "stream",
     "text": [
      "0,1\n",
      "1,0\n",
      "2,0\n",
      "3,0\n",
      "0,0\n",
      "1,1\n",
      "2,0\n",
      "3,0\n",
      "0,0\n",
      "1,0\n",
      "2,1\n",
      "3,0\n",
      "0,0\n",
      "1,0\n",
      "2,0\n",
      "3,1\n"
     ]
    }
   ],
   "source": [
    "arr = [np.arange(4), np.eye(4, dtype = int)]\n",
    "for i,j in np.nditer(arr):\n",
    "    print(f'{i},{j}')"
   ]
  },
  {
   "cell_type": "markdown",
   "metadata": {
    "id": "VYigNiMqO6uD"
   },
   "source": [
    "Otro método importante en la iteración de arreglos de *NumPy* es el método **`np.ndenumerate(arr)`** que, similar al método **`np.nditer(arr)`**, crea un iterador sobre los elementos del arreglo, pero adicionalmente itera sobre la posición de cada elemento en forma de tupla."
   ]
  },
  {
   "cell_type": "code",
   "execution_count": 233,
   "metadata": {
    "id": "5zVVQi6mlIbi"
   },
   "outputs": [
    {
     "name": "stdout",
     "output_type": "stream",
     "text": [
      "[[1 2]\n",
      " [3 4]\n",
      " [5 6]]\n"
     ]
    }
   ],
   "source": [
    "# Iterar sobre el par de coordenadas x,y\n",
    "arr = np.array([[1,2],[3,4],[5,6]])\n",
    "\n",
    "print(arr)"
   ]
  },
  {
   "cell_type": "code",
   "execution_count": 234,
   "metadata": {
    "id": "hYXEWEnD6gpV"
   },
   "outputs": [
    {
     "name": "stdout",
     "output_type": "stream",
     "text": [
      "Fila: 0 Col: 0 Valor: 1\n",
      "Fila: 0 Col: 1 Valor: 2\n",
      "Fila: 1 Col: 0 Valor: 3\n",
      "Fila: 1 Col: 1 Valor: 4\n",
      "Fila: 2 Col: 0 Valor: 5\n",
      "Fila: 2 Col: 1 Valor: 6\n"
     ]
    }
   ],
   "source": [
    "for (i, j), value in np.ndenumerate(arr):\n",
    "  print('Fila:', i, 'Col:', j, 'Valor:', value)"
   ]
  },
  {
   "cell_type": "markdown",
   "metadata": {
    "id": "4r5hSQAz6d-g"
   },
   "source": [
    "## **Recursos adicionales**\n",
    "---\n",
    "\n",
    "En este material se consideran algunas de las funciones más comunes, pero quedan otras por fuera del alcance. Lo invitamos a que consulte la [documentación oficial](https://numpy.org/doc/stable/reference/index.html), o librerías similares del ámbito científico como [*SciPy*](https://docs.scipy.org/doc/scipy/reference/) en busca de funciones que se ajusten a las necesidades de su problema. De igual forma, a continuación se presenta una lista de recursos adicionales que le serán de utilidad:\n",
    "\n",
    "*  [NumPy Home page](https://numpy.org/)\n",
    "*  [NumPy Quickstart tutorial](https://docs.scipy.org/doc/numpy/user/quickstart.html)\n",
    "*  [NumPy: the absolute basics for beginners](https://numpy.org/devdocs/user/absolute_beginners.html)\n",
    "*  [tutorialspoint - NumPy Tutorial](https://www.tutorialspoint.com/numpy/index.htm)\n",
    "*  [Oliphant, T.E. (2006). Guide to NumPy](http://web.mit.edu/dvp/Public/numpybook.pdf)\n",
    "*  [StackOverflow - What are the advantages of NumPy over regular Python lists?](http://stackoverflow.com/questions/993984/why-numpy-instead-of-python-lists)\n",
    "*  [Standard Statistical Distributions (e.g. Normal, Poisson, Binomial) and their uses](https://www.healthknowledge.org.uk/public-health-textbook/research-methods/1b-statistical-methods/statistical-distributions)\n"
   ]
  }
 ],
 "metadata": {
  "colab": {
   "collapsed_sections": [],
   "name": "NBK - Taller guiado de NumPy.ipynb",
   "provenance": [
    {
     "file_id": "1Gq3fXvHNdr7g8p-5jAMWVHQhH6qRLCMH",
     "timestamp": 1614115817607
    }
   ],
   "toc_visible": true
  },
  "kernelspec": {
   "display_name": "Python 3 (ipykernel)",
   "language": "python",
   "name": "python3"
  },
  "language_info": {
   "codemirror_mode": {
    "name": "ipython",
    "version": 3
   },
   "file_extension": ".py",
   "mimetype": "text/x-python",
   "name": "python",
   "nbconvert_exporter": "python",
   "pygments_lexer": "ipython3",
   "version": "3.9.7"
  }
 },
 "nbformat": 4,
 "nbformat_minor": 4
}
