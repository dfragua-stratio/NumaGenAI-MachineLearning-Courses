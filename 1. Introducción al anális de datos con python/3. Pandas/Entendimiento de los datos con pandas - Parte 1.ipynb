{
 "cells": [
  {
   "cell_type": "markdown",
   "metadata": {
    "id": "kyyYqzShjxwL"
   },
   "source": [
    "# **Entendimiento de los datos con *pandas* I**\n",
    "---\n",
    "<img src = \"https://pandas.pydata.org/static/img/pandas.svg\" alt = \"pandas Logo\" width = \"70%\">  </img>\n",
    "\n",
    "\n",
    "\n",
    "***Pandas*** es una librería de código abierto de *Python* muy popular diseñada para tareas de análisis y manipulación de datos. Es, junto a *NumPy* y *SciPy*, un módulo fundamental del ecosistema de computación científica en *Python* y es usado en proyectos de análisis de datos.\n",
    "\n",
    "En este material, se discutirán las funcionalidades que *pandas* ofrece para el proceso de entendimiento de los datos, desde sus estructuras de datos fundamentales, sus atributos y métodos principales, además de herramientas de escritura y lectura de datos."
   ]
  },
  {
   "cell_type": "markdown",
   "metadata": {
    "id": "eRKerH0JtAoP"
   },
   "source": [
    "## **1. Importar *pandas***\n",
    "---\n",
    "\n",
    "*pandas*, al igual que *NumPy*, viene instalado por defecto en la mayoría de distribuciones de *Python*. En este material, y en muchos recursos que encontrará en la web, se utilizará el alias **`pd`** como abreviatura de *pandas*. Si lo desea, puede trabajar sin alias o con módulos específicos, tal como se discutió en la guía de *NumPy*.\n",
    "\n",
    "*pandas* está construido encima de *NumPy* y depende de este para muchas de sus funcionalidades principales. Se recomienda instalar en conjunto estas librerías, pues juntas proveen una herramienta poderosa para la manipulación de conjuntos de datos. Se usará el alias **`np`** como abreviatura de *NumPy* y **`pd`** como abreviatura de *Pandas*.\n"
   ]
  },
  {
   "cell_type": "code",
   "execution_count": 1,
   "metadata": {
    "executionInfo": {
     "elapsed": 596,
     "status": "ok",
     "timestamp": 1614117102270,
     "user": {
      "displayName": "Daniel Felipe Fragua Rengifo",
      "photoUrl": "",
      "userId": "09845551813303536248"
     },
     "user_tz": 300
    },
    "id": "If9LYvdhSImI"
   },
   "outputs": [],
   "source": [
    "import numpy as np\n",
    "import pandas as pd"
   ]
  },
  {
   "cell_type": "markdown",
   "metadata": {
    "id": "-W6-WrbATfqg"
   },
   "source": [
    "## **2. pd.Series y pd.DataFrame**\n",
    "---\n",
    "\n",
    "*Pandas* está orientado al manejo de datos de carácter tabular, como las tablas de hojas de cálculo o de bases de datos relacionales. Su funcionalidad gira en torno a dos estructuras de datos fundamentales:\n",
    "* **`Series`**\n",
    "* **`Dataframes`**\n",
    "\n"
   ]
  },
  {
   "cell_type": "markdown",
   "metadata": {
    "id": "P0UWE3c9Tr1D"
   },
   "source": [
    "### **2.1. *Series***\n",
    "---\n",
    "\n",
    "El primer objeto a considerar es el objeto *Series*. Una serie es un arreglo unidimensional de datos, cuyos elementos son identificados por un índice (no necesariamente uno único como en los diccionarios de *Python*). Se puede considerar como dos arreglos de *NumPy* asociados. Uno, el *índice* o **index** de la serie, cuyos valores corresponden a los valores usados para identificar cada entrada de la serie. El otro es el contenido de la serie, del mismo tamaño de su índice. Esta relación permite obtener los elementos en una serie de la forma en que se haría con un diccionario, permitiendo a su vez un espectro mayor de funcionalidad y utilidad para el análisis de datos.\n",
    "\n",
    "La forma principal de crear *Series* en *pandas* es mediante el constructor **`pd.Series`**. Esta función admite como argumento distintos tipos de dato y argumentos adicionales para la definición de series. Los tipos de dato permitidos son:"
   ]
  },
  {
   "cell_type": "markdown",
   "metadata": {
    "id": "WnfjeFL6D6OE"
   },
   "source": [
    "**1.  Listas o tuplas de Python**: Al usar listas de *Python* como entrada, su contenido se convierte en el contenido del nuevo objeto *Series*. El argumento **`index`** permite definir el índice de la lista. Si no se pasa este argumento el índice son los números enteros desde 0 hasta el tamaño de la serie, como en un arreglo o una lista."
   ]
  },
  {
   "cell_type": "code",
   "execution_count": 2,
   "metadata": {
    "colab": {
     "base_uri": "https://localhost:8080/"
    },
    "executionInfo": {
     "elapsed": 336,
     "status": "ok",
     "timestamp": 1614117107973,
     "user": {
      "displayName": "Daniel Felipe Fragua Rengifo",
      "photoUrl": "",
      "userId": "09845551813303536248"
     },
     "user_tz": 300
    },
    "id": "8RT78HCnDiVf",
    "outputId": "9f99ee19-3dfd-4293-aa5d-83bd7523ab83"
   },
   "outputs": [
    {
     "data": {
      "text/plain": [
       "0    a\n",
       "1    b\n",
       "2    c\n",
       "dtype: object"
      ]
     },
     "execution_count": 2,
     "metadata": {},
     "output_type": "execute_result"
    }
   ],
   "source": [
    "#Listas y tuplas de Python (Variables, listas/tuplas literales, comprensión de listas...)\n",
    "pd.Series(['a', 'b', 'c'])"
   ]
  },
  {
   "cell_type": "code",
   "execution_count": 3,
   "metadata": {
    "id": "347X-qLzTSpV"
   },
   "outputs": [
    {
     "data": {
      "text/plain": [
       "0    a\n",
       "1    b\n",
       "2    c\n",
       "dtype: object"
      ]
     },
     "execution_count": 3,
     "metadata": {},
     "output_type": "execute_result"
    }
   ],
   "source": [
    "pd.Series(('a', 'b', 'c'))"
   ]
  },
  {
   "cell_type": "code",
   "execution_count": 4,
   "metadata": {
    "colab": {
     "base_uri": "https://localhost:8080/"
    },
    "executionInfo": {
     "elapsed": 326,
     "status": "ok",
     "timestamp": 1614117161336,
     "user": {
      "displayName": "Daniel Felipe Fragua Rengifo",
      "photoUrl": "",
      "userId": "09845551813303536248"
     },
     "user_tz": 300
    },
    "id": "q0wSEM4_EhiH",
    "outputId": "fc87a11a-8f53-4e41-f7f7-adcddf74478b"
   },
   "outputs": [
    {
     "name": "stdout",
     "output_type": "stream",
     "text": [
      "<class 'pandas.core.series.Series'>\n"
     ]
    },
    {
     "data": {
      "text/plain": [
       "Index: 0    Value: 0\n",
       "Index: 1    Value: 1\n",
       "Index: 2    Value: 2\n",
       "Index: 3    Value: 3\n",
       "Index: 4    Value: 4\n",
       "Index: 5    Value: 5\n",
       "Index: 6    Value: 6\n",
       "Index: 7    Value: 7\n",
       "Index: 8    Value: 8\n",
       "Index: 9    Value: 9\n",
       "dtype: object"
      ]
     },
     "execution_count": 4,
     "metadata": {},
     "output_type": "execute_result"
    }
   ],
   "source": [
    "values = [f'Value: {i}' for i in range(10)]\n",
    "index  = [f'Index: {i}' for i in range(10)] # Índices con cadenas de caracteres\n",
    "\n",
    "serie = pd.Series(values,          # Valores de la serie\n",
    "                  index = index )  # Índice de la serie\n",
    "\n",
    "print(type(serie)) # Imprime el tipo de dato: Series\n",
    "serie"
   ]
  },
  {
   "cell_type": "markdown",
   "metadata": {
    "id": "2Okdk1ZDGlHO"
   },
   "source": [
    "**2.  Arreglos de *NumPy***: Tanto el argumento de contenido como el argumento de índice **`index`** aceptan arreglos de *NumPy* en su definición. Como *pandas* y sus objetos están diseñados utilizando arreglos de *NumPy*, también se consideran los tipos de dato de *NumPy* para sus objetos. Estos pueden inferirse si provienen de una lista o un arreglo, o pueden especificarse con el argumento **`dtype`**."
   ]
  },
  {
   "cell_type": "code",
   "execution_count": 5,
   "metadata": {
    "colab": {
     "base_uri": "https://localhost:8080/"
    },
    "executionInfo": {
     "elapsed": 290,
     "status": "ok",
     "timestamp": 1614117209850,
     "user": {
      "displayName": "Daniel Felipe Fragua Rengifo",
      "photoUrl": "",
      "userId": "09845551813303536248"
     },
     "user_tz": 300
    },
    "id": "kRP__PZHC_hn",
    "outputId": "3311ee68-68fa-4190-b1e7-359cc708a05e"
   },
   "outputs": [
    {
     "data": {
      "text/plain": [
       "0         1.000000\n",
       "10        2.782559\n",
       "20        7.742637\n",
       "30       21.544347\n",
       "40       59.948425\n",
       "50      166.810054\n",
       "60      464.158883\n",
       "70     1291.549665\n",
       "80     3593.813664\n",
       "90    10000.000000\n",
       "dtype: float64"
      ]
     },
     "execution_count": 5,
     "metadata": {},
     "output_type": "execute_result"
    }
   ],
   "source": [
    "#Arreglos de NumPy (Tanto para los valores como para el índice)\n",
    "pd.Series(np.logspace(0, 4, 10), index = np.linspace(0, 90, 10, dtype = 'int'))"
   ]
  },
  {
   "cell_type": "code",
   "execution_count": 6,
   "metadata": {
    "colab": {
     "base_uri": "https://localhost:8080/"
    },
    "executionInfo": {
     "elapsed": 297,
     "status": "ok",
     "timestamp": 1614117213197,
     "user": {
      "displayName": "Daniel Felipe Fragua Rengifo",
      "photoUrl": "",
      "userId": "09845551813303536248"
     },
     "user_tz": 300
    },
    "id": "--iLtnaTHrAu",
    "outputId": "11a3b82c-379d-47b9-cbcd-dc0ed1e1c76b"
   },
   "outputs": [
    {
     "data": {
      "text/plain": [
       "0      0.0000\n",
       "1     55.5625\n",
       "2    111.1250\n",
       "3    166.6250\n",
       "4    222.2500\n",
       "5    277.7500\n",
       "6    333.2500\n",
       "7    389.0000\n",
       "8    444.5000\n",
       "9    500.0000\n",
       "dtype: float16"
      ]
     },
     "execution_count": 6,
     "metadata": {},
     "output_type": "execute_result"
    }
   ],
   "source": [
    "pd.Series(np.linspace(0, 500, 10), dtype = 'float16')"
   ]
  },
  {
   "cell_type": "markdown",
   "metadata": {
    "id": "vJIu584lHE3A"
   },
   "source": [
    "**3.  Diccionarios de *Python***: El constructor también admite diccionarios de *Python* como argumento para su definición. Al recibir este tipo de dato, las llaves del diccionario se interpretan como el índice y sus valores asociados como el contenido de la serie."
   ]
  },
  {
   "cell_type": "code",
   "execution_count": 7,
   "metadata": {
    "colab": {
     "base_uri": "https://localhost:8080/"
    },
    "executionInfo": {
     "elapsed": 326,
     "status": "ok",
     "timestamp": 1614117227876,
     "user": {
      "displayName": "Daniel Felipe Fragua Rengifo",
      "photoUrl": "",
      "userId": "09845551813303536248"
     },
     "user_tz": 300
    },
    "id": "qwcSu-V2Fgju",
    "outputId": "0f5d2304-70ab-402b-e8c9-7c5258eee6df"
   },
   "outputs": [
    {
     "data": {
      "text/plain": [
       "a    1\n",
       "b    2\n",
       "c    3\n",
       "dtype: int64"
      ]
     },
     "execution_count": 7,
     "metadata": {},
     "output_type": "execute_result"
    }
   ],
   "source": [
    "#Diccionarios\n",
    "data = {\n",
    "    'a' : 1,\n",
    "    'b' : 2,\n",
    "    'c' : 3\n",
    "    }\n",
    "pd.Series(data)"
   ]
  },
  {
   "cell_type": "markdown",
   "metadata": {
    "id": "i_PVO6E0NjlR"
   },
   "source": [
    "Además, se le puede añadir un nombre con el argumento **`name`**. Esto será de utilidad cuando se use de la mano con objetos **`pd.DataFrame`**, que se presentarán a continuación."
   ]
  },
  {
   "cell_type": "markdown",
   "metadata": {
    "id": "KAICLvYHTr92"
   },
   "source": [
    "### **2.2. DataFrame**\n",
    "---\n",
    "\n",
    "Los objetos **`pd.DataFrame`** son el objeto principal de *pandas*. Representan una tabla, un tipo de conjunto de datos con un índice asignado a sus filas y uno asignado a sus columnas. Cada fila o columna representa un objeto **`pd.Series`**.\n",
    "\n",
    "En el análisis de datos, se tiene una convención para distinguir entre filas y columnas. Las filas se suelen considerar observaciones, repeticiones de un experimento, o individuos de algo en particular. Por su parte, las columnas representan variables asociadas a cada observación (características), por lo que pueden tener distintos tipos de dato o semántica independiente. La intersección entre una fila y una columna se conoce como celda, y representa el valor de una variable de una instancia específica.\n",
    "\n",
    "Para crear un objeto *DataFrame* se puede utilizar el constructor **`pd.DataFrame`**. Al igual que las *Series*, este constructor admite distintos tipos de dato:"
   ]
  },
  {
   "cell_type": "markdown",
   "metadata": {
    "id": "uWMOxtqXQJOB"
   },
   "source": [
    "**1.  Arreglo de *NumPy*:**  Los datos de entrada se pueden especificar como un arreglo de *NumPy* de dos dimensiones. Al hacer esto, los valores de la primera dimensión (axis = 0) son organizados por filas, y los arreglos de la segunda dimensión (axis = 1) son organizados por columnas. Añadir un arreglo de 1 dimensión construye un *DataFrame* de 1 sola columna en lugar de una serie. Arreglos con otras dimensiones generarán un error.\n",
    "\n",
    "Esta vez, para distinguir entre filas y columnas se definen dos argumentos para la definición de los arreglos usados para representar sus índices. Estos son:\n",
    "\n",
    "*  **`index`**: Este argumento (igual al recibido por el constructor **`pd.Series`**) define el valor de los índices de las filas de la tabla.\n",
    "*  **`columns`**: Este argumento define el valor de los índices de las columnas de la tabla.\n",
    "\n",
    "No es necesario que estos argumentos contengan valores únicos, aunque es recomendable si se desea manejar cada elemento de forma aislada. También es válido usar combinaciones de tuplas y listas para esta definición."
   ]
  },
  {
   "cell_type": "code",
   "execution_count": 8,
   "metadata": {
    "colab": {
     "base_uri": "https://localhost:8080/",
     "height": 142
    },
    "executionInfo": {
     "elapsed": 263,
     "status": "ok",
     "timestamp": 1614117294918,
     "user": {
      "displayName": "Daniel Felipe Fragua Rengifo",
      "photoUrl": "",
      "userId": "09845551813303536248"
     },
     "user_tz": 300
    },
    "id": "SH2ioTpLQfOv",
    "outputId": "0bf7a6ea-5b08-477f-9f04-f0b5e85ada7e"
   },
   "outputs": [
    {
     "data": {
      "text/html": [
       "<div>\n",
       "<style scoped>\n",
       "    .dataframe tbody tr th:only-of-type {\n",
       "        vertical-align: middle;\n",
       "    }\n",
       "\n",
       "    .dataframe tbody tr th {\n",
       "        vertical-align: top;\n",
       "    }\n",
       "\n",
       "    .dataframe thead th {\n",
       "        text-align: right;\n",
       "    }\n",
       "</style>\n",
       "<table border=\"1\" class=\"dataframe\">\n",
       "  <thead>\n",
       "    <tr style=\"text-align: right;\">\n",
       "      <th></th>\n",
       "      <th>0</th>\n",
       "      <th>1</th>\n",
       "      <th>2</th>\n",
       "      <th>3</th>\n",
       "      <th>4</th>\n",
       "      <th>5</th>\n",
       "      <th>6</th>\n",
       "    </tr>\n",
       "  </thead>\n",
       "  <tbody>\n",
       "    <tr>\n",
       "      <th>a</th>\n",
       "      <td>10</td>\n",
       "      <td>10</td>\n",
       "      <td>10</td>\n",
       "      <td>10</td>\n",
       "      <td>10</td>\n",
       "      <td>10</td>\n",
       "      <td>10</td>\n",
       "    </tr>\n",
       "    <tr>\n",
       "      <th>b</th>\n",
       "      <td>10</td>\n",
       "      <td>10</td>\n",
       "      <td>10</td>\n",
       "      <td>10</td>\n",
       "      <td>10</td>\n",
       "      <td>10</td>\n",
       "      <td>10</td>\n",
       "    </tr>\n",
       "    <tr>\n",
       "      <th>a</th>\n",
       "      <td>10</td>\n",
       "      <td>10</td>\n",
       "      <td>10</td>\n",
       "      <td>10</td>\n",
       "      <td>10</td>\n",
       "      <td>10</td>\n",
       "      <td>10</td>\n",
       "    </tr>\n",
       "  </tbody>\n",
       "</table>\n",
       "</div>"
      ],
      "text/plain": [
       "    0   1   2   3   4   5   6\n",
       "a  10  10  10  10  10  10  10\n",
       "b  10  10  10  10  10  10  10\n",
       "a  10  10  10  10  10  10  10"
      ]
     },
     "execution_count": 8,
     "metadata": {},
     "output_type": "execute_result"
    }
   ],
   "source": [
    "#Arreglo de NumPy\n",
    "pd.DataFrame(np.full((3,7), 10), index = list('aba'))"
   ]
  },
  {
   "cell_type": "code",
   "execution_count": 9,
   "metadata": {
    "colab": {
     "base_uri": "https://localhost:8080/",
     "height": 111
    },
    "executionInfo": {
     "elapsed": 284,
     "status": "ok",
     "timestamp": 1614117317159,
     "user": {
      "displayName": "Daniel Felipe Fragua Rengifo",
      "photoUrl": "",
      "userId": "09845551813303536248"
     },
     "user_tz": 300
    },
    "id": "IGSAUJ5_S4P0",
    "outputId": "a2e640e6-f69f-4707-d658-77249a080adf"
   },
   "outputs": [
    {
     "data": {
      "text/html": [
       "<div>\n",
       "<style scoped>\n",
       "    .dataframe tbody tr th:only-of-type {\n",
       "        vertical-align: middle;\n",
       "    }\n",
       "\n",
       "    .dataframe tbody tr th {\n",
       "        vertical-align: top;\n",
       "    }\n",
       "\n",
       "    .dataframe thead th {\n",
       "        text-align: right;\n",
       "    }\n",
       "</style>\n",
       "<table border=\"1\" class=\"dataframe\">\n",
       "  <thead>\n",
       "    <tr style=\"text-align: right;\">\n",
       "      <th></th>\n",
       "      <th>0</th>\n",
       "      <th>1</th>\n",
       "    </tr>\n",
       "  </thead>\n",
       "  <tbody>\n",
       "    <tr>\n",
       "      <th>0</th>\n",
       "      <td>10</td>\n",
       "      <td>20</td>\n",
       "    </tr>\n",
       "    <tr>\n",
       "      <th>1</th>\n",
       "      <td>30</td>\n",
       "      <td>40</td>\n",
       "    </tr>\n",
       "  </tbody>\n",
       "</table>\n",
       "</div>"
      ],
      "text/plain": [
       "    0   1\n",
       "0  10  20\n",
       "1  30  40"
      ]
     },
     "execution_count": 9,
     "metadata": {},
     "output_type": "execute_result"
    }
   ],
   "source": [
    "#Combinación de tuplas y listas\n",
    "#Los índices de filas y columnas por defecto son números enteros empezando desde 0.\n",
    "pd.DataFrame([(10, 20), (30, 40)] )"
   ]
  },
  {
   "cell_type": "markdown",
   "metadata": {
    "id": "eF2CkMPXTr3e"
   },
   "source": [
    "**3.  Diccionarios de *Python***: El constructor también admite diccionarios de *Python* como argumento para su definición. Al recibir este tipo de dato, las llaves del diccionario se interpretan como el índice de las *columnas* y sus valores asociados como el contenido de cada columna, en forma de estructuras de 1 dimensión como arreglos o listas. Es importante que estas tengan la misma longitud, o se producirá un error."
   ]
  },
  {
   "cell_type": "code",
   "execution_count": 10,
   "metadata": {
    "colab": {
     "base_uri": "https://localhost:8080/",
     "height": 142
    },
    "executionInfo": {
     "elapsed": 290,
     "status": "ok",
     "timestamp": 1614117332505,
     "user": {
      "displayName": "Daniel Felipe Fragua Rengifo",
      "photoUrl": "",
      "userId": "09845551813303536248"
     },
     "user_tz": 300
    },
    "id": "r_OPQ3ChT0Ej",
    "outputId": "89a0aaac-7172-4dfc-d732-fd569a5c9cb3"
   },
   "outputs": [
    {
     "data": {
      "text/html": [
       "<div>\n",
       "<style scoped>\n",
       "    .dataframe tbody tr th:only-of-type {\n",
       "        vertical-align: middle;\n",
       "    }\n",
       "\n",
       "    .dataframe tbody tr th {\n",
       "        vertical-align: top;\n",
       "    }\n",
       "\n",
       "    .dataframe thead th {\n",
       "        text-align: right;\n",
       "    }\n",
       "</style>\n",
       "<table border=\"1\" class=\"dataframe\">\n",
       "  <thead>\n",
       "    <tr style=\"text-align: right;\">\n",
       "      <th></th>\n",
       "      <th>a</th>\n",
       "      <th>b</th>\n",
       "    </tr>\n",
       "  </thead>\n",
       "  <tbody>\n",
       "    <tr>\n",
       "      <th>0</th>\n",
       "      <td>1</td>\n",
       "      <td>10</td>\n",
       "    </tr>\n",
       "    <tr>\n",
       "      <th>1</th>\n",
       "      <td>2</td>\n",
       "      <td>20</td>\n",
       "    </tr>\n",
       "    <tr>\n",
       "      <th>2</th>\n",
       "      <td>3</td>\n",
       "      <td>30</td>\n",
       "    </tr>\n",
       "  </tbody>\n",
       "</table>\n",
       "</div>"
      ],
      "text/plain": [
       "   a   b\n",
       "0  1  10\n",
       "1  2  20\n",
       "2  3  30"
      ]
     },
     "execution_count": 10,
     "metadata": {},
     "output_type": "execute_result"
    }
   ],
   "source": [
    "data = {    \n",
    "   'a' : [1,2,3],\n",
    "   'b' : [10,20,30]\n",
    "}\n",
    "\n",
    "pd.DataFrame(data)"
   ]
  },
  {
   "cell_type": "markdown",
   "metadata": {
    "id": "SHGgcqzvUM9n"
   },
   "source": [
    "### **2.3. Atributos**\n",
    "---\n",
    "\n",
    "\n",
    "Los objetos *Series* y *DataFrame* tienen algunos atributos a los que se puede acceder con el símbolo **`.`**. Algunos de estos son heredados de sus objetos internos de *NumPy*. A continuación se muestran algunos de ellos:"
   ]
  },
  {
   "cell_type": "code",
   "execution_count": 11,
   "metadata": {
    "executionInfo": {
     "elapsed": 330,
     "status": "ok",
     "timestamp": 1614117359677,
     "user": {
      "displayName": "Daniel Felipe Fragua Rengifo",
      "photoUrl": "",
      "userId": "09845551813303536248"
     },
     "user_tz": 300
    },
    "id": "vbq_vGlOUszi"
   },
   "outputs": [],
   "source": [
    "s  = pd.Series(np.random.randn(10), \n",
    "               name = 'mi serie'\n",
    "               )\n",
    "\n",
    "df = pd.DataFrame(np.eye(6,3), \n",
    "                  index = list('abcdef'),\n",
    "                  columns = list('XYZ')\n",
    "                  )"
   ]
  },
  {
   "cell_type": "code",
   "execution_count": 12,
   "metadata": {
    "colab": {
     "base_uri": "https://localhost:8080/"
    },
    "executionInfo": {
     "elapsed": 262,
     "status": "ok",
     "timestamp": 1614117361130,
     "user": {
      "displayName": "Daniel Felipe Fragua Rengifo",
      "photoUrl": "",
      "userId": "09845551813303536248"
     },
     "user_tz": 300
    },
    "id": "RG8ziANaVqHs",
    "outputId": "316243c9-6dcd-42a1-b032-a6d6d6af8a1f"
   },
   "outputs": [
    {
     "data": {
      "text/plain": [
       "0    1.353037\n",
       "1    1.419351\n",
       "2   -0.038337\n",
       "3   -0.117214\n",
       "4   -0.496045\n",
       "5   -0.510266\n",
       "6    0.036279\n",
       "7    0.416621\n",
       "8    0.403166\n",
       "9   -0.694133\n",
       "Name: mi serie, dtype: float64"
      ]
     },
     "execution_count": 12,
     "metadata": {},
     "output_type": "execute_result"
    }
   ],
   "source": [
    "s"
   ]
  },
  {
   "cell_type": "code",
   "execution_count": 13,
   "metadata": {
    "colab": {
     "base_uri": "https://localhost:8080/",
     "height": 235
    },
    "executionInfo": {
     "elapsed": 279,
     "status": "ok",
     "timestamp": 1614117361448,
     "user": {
      "displayName": "Daniel Felipe Fragua Rengifo",
      "photoUrl": "",
      "userId": "09845551813303536248"
     },
     "user_tz": 300
    },
    "id": "mbmfmmQ1Vrwx",
    "outputId": "3f21515b-a21f-46df-827e-4380bb0436a6"
   },
   "outputs": [
    {
     "data": {
      "text/html": [
       "<div>\n",
       "<style scoped>\n",
       "    .dataframe tbody tr th:only-of-type {\n",
       "        vertical-align: middle;\n",
       "    }\n",
       "\n",
       "    .dataframe tbody tr th {\n",
       "        vertical-align: top;\n",
       "    }\n",
       "\n",
       "    .dataframe thead th {\n",
       "        text-align: right;\n",
       "    }\n",
       "</style>\n",
       "<table border=\"1\" class=\"dataframe\">\n",
       "  <thead>\n",
       "    <tr style=\"text-align: right;\">\n",
       "      <th></th>\n",
       "      <th>X</th>\n",
       "      <th>Y</th>\n",
       "      <th>Z</th>\n",
       "    </tr>\n",
       "  </thead>\n",
       "  <tbody>\n",
       "    <tr>\n",
       "      <th>a</th>\n",
       "      <td>1.0</td>\n",
       "      <td>0.0</td>\n",
       "      <td>0.0</td>\n",
       "    </tr>\n",
       "    <tr>\n",
       "      <th>b</th>\n",
       "      <td>0.0</td>\n",
       "      <td>1.0</td>\n",
       "      <td>0.0</td>\n",
       "    </tr>\n",
       "    <tr>\n",
       "      <th>c</th>\n",
       "      <td>0.0</td>\n",
       "      <td>0.0</td>\n",
       "      <td>1.0</td>\n",
       "    </tr>\n",
       "    <tr>\n",
       "      <th>d</th>\n",
       "      <td>0.0</td>\n",
       "      <td>0.0</td>\n",
       "      <td>0.0</td>\n",
       "    </tr>\n",
       "    <tr>\n",
       "      <th>e</th>\n",
       "      <td>0.0</td>\n",
       "      <td>0.0</td>\n",
       "      <td>0.0</td>\n",
       "    </tr>\n",
       "    <tr>\n",
       "      <th>f</th>\n",
       "      <td>0.0</td>\n",
       "      <td>0.0</td>\n",
       "      <td>0.0</td>\n",
       "    </tr>\n",
       "  </tbody>\n",
       "</table>\n",
       "</div>"
      ],
      "text/plain": [
       "     X    Y    Z\n",
       "a  1.0  0.0  0.0\n",
       "b  0.0  1.0  0.0\n",
       "c  0.0  0.0  1.0\n",
       "d  0.0  0.0  0.0\n",
       "e  0.0  0.0  0.0\n",
       "f  0.0  0.0  0.0"
      ]
     },
     "execution_count": 13,
     "metadata": {},
     "output_type": "execute_result"
    }
   ],
   "source": [
    "df"
   ]
  },
  {
   "cell_type": "markdown",
   "metadata": {
    "id": "gXo69cBhU5CC"
   },
   "source": [
    "* **`values:`** El arreglo de *NumPy* con el contenido del objeto."
   ]
  },
  {
   "cell_type": "code",
   "execution_count": 14,
   "metadata": {
    "colab": {
     "base_uri": "https://localhost:8080/"
    },
    "executionInfo": {
     "elapsed": 288,
     "status": "ok",
     "timestamp": 1614117366278,
     "user": {
      "displayName": "Daniel Felipe Fragua Rengifo",
      "photoUrl": "",
      "userId": "09845551813303536248"
     },
     "user_tz": 300
    },
    "id": "RXmgsRdhVKr8",
    "outputId": "b28907e3-4603-4076-f56f-0078b54a7627"
   },
   "outputs": [
    {
     "data": {
      "text/plain": [
       "array([ 1.35303718,  1.41935133, -0.03833739, -0.11721422, -0.49604509,\n",
       "       -0.51026619,  0.03627864,  0.41662052,  0.40316646, -0.69413346])"
      ]
     },
     "execution_count": 14,
     "metadata": {},
     "output_type": "execute_result"
    }
   ],
   "source": [
    "s.values"
   ]
  },
  {
   "cell_type": "code",
   "execution_count": 15,
   "metadata": {
    "colab": {
     "base_uri": "https://localhost:8080/"
    },
    "executionInfo": {
     "elapsed": 302,
     "status": "ok",
     "timestamp": 1614117367599,
     "user": {
      "displayName": "Daniel Felipe Fragua Rengifo",
      "photoUrl": "",
      "userId": "09845551813303536248"
     },
     "user_tz": 300
    },
    "id": "uwwVwCYxVLzv",
    "outputId": "645de43a-3c89-4ce4-b72e-d21e2a54a56a"
   },
   "outputs": [
    {
     "data": {
      "text/plain": [
       "array([[1., 0., 0.],\n",
       "       [0., 1., 0.],\n",
       "       [0., 0., 1.],\n",
       "       [0., 0., 0.],\n",
       "       [0., 0., 0.],\n",
       "       [0., 0., 0.]])"
      ]
     },
     "execution_count": 15,
     "metadata": {},
     "output_type": "execute_result"
    }
   ],
   "source": [
    "df.values"
   ]
  },
  {
   "cell_type": "markdown",
   "metadata": {
    "id": "fMJK7GqdU8XD"
   },
   "source": [
    "* **`index`**: El objeto de tipo **`pd.Index`** con el índice de la serie, o el índice de las filas del *DataFrame*."
   ]
  },
  {
   "cell_type": "code",
   "execution_count": 16,
   "metadata": {
    "colab": {
     "base_uri": "https://localhost:8080/"
    },
    "executionInfo": {
     "elapsed": 281,
     "status": "ok",
     "timestamp": 1614117375428,
     "user": {
      "displayName": "Daniel Felipe Fragua Rengifo",
      "photoUrl": "",
      "userId": "09845551813303536248"
     },
     "user_tz": 300
    },
    "id": "8x4ORcXsVcsh",
    "outputId": "a07d3975-147c-4986-bda5-0362895390d7"
   },
   "outputs": [
    {
     "data": {
      "text/plain": [
       "RangeIndex(start=0, stop=10, step=1)"
      ]
     },
     "execution_count": 16,
     "metadata": {},
     "output_type": "execute_result"
    }
   ],
   "source": [
    "s.index"
   ]
  },
  {
   "cell_type": "code",
   "execution_count": 17,
   "metadata": {
    "colab": {
     "base_uri": "https://localhost:8080/"
    },
    "executionInfo": {
     "elapsed": 203,
     "status": "ok",
     "timestamp": 1614117375772,
     "user": {
      "displayName": "Daniel Felipe Fragua Rengifo",
      "photoUrl": "",
      "userId": "09845551813303536248"
     },
     "user_tz": 300
    },
    "id": "tUJ4SXPyVfjD",
    "outputId": "b7efa94f-064f-4865-b9c6-703de9c838c1"
   },
   "outputs": [
    {
     "data": {
      "text/plain": [
       "Index(['a', 'b', 'c', 'd', 'e', 'f'], dtype='object')"
      ]
     },
     "execution_count": 17,
     "metadata": {},
     "output_type": "execute_result"
    }
   ],
   "source": [
    "df.index"
   ]
  },
  {
   "cell_type": "markdown",
   "metadata": {
    "id": "8qVZLZssU8dO"
   },
   "source": [
    "* **`columns` (solo *DataFrame*)**: El objeto de tipo **`pd.Index`** con el índice de las columnas del *DataFrame*."
   ]
  },
  {
   "cell_type": "code",
   "execution_count": 18,
   "metadata": {
    "colab": {
     "base_uri": "https://localhost:8080/"
    },
    "executionInfo": {
     "elapsed": 280,
     "status": "ok",
     "timestamp": 1614117378389,
     "user": {
      "displayName": "Daniel Felipe Fragua Rengifo",
      "photoUrl": "",
      "userId": "09845551813303536248"
     },
     "user_tz": 300
    },
    "id": "D193uAzmWP9-",
    "outputId": "b1f49552-480f-468c-ec8f-74d929142493"
   },
   "outputs": [
    {
     "data": {
      "text/plain": [
       "Index(['X', 'Y', 'Z'], dtype='object')"
      ]
     },
     "execution_count": 18,
     "metadata": {},
     "output_type": "execute_result"
    }
   ],
   "source": [
    "df.columns"
   ]
  },
  {
   "cell_type": "markdown",
   "metadata": {
    "id": "dPuk_xipWyuv"
   },
   "source": [
    "* **`name` (solo *Series*)**: Cadena de texto con el nombre que recibe la serie."
   ]
  },
  {
   "cell_type": "code",
   "execution_count": 19,
   "metadata": {
    "colab": {
     "base_uri": "https://localhost:8080/",
     "height": 35
    },
    "executionInfo": {
     "elapsed": 316,
     "status": "ok",
     "timestamp": 1614117440198,
     "user": {
      "displayName": "Daniel Felipe Fragua Rengifo",
      "photoUrl": "",
      "userId": "09845551813303536248"
     },
     "user_tz": 300
    },
    "id": "PZ_iPvKLWyuw",
    "outputId": "bb87119f-045f-45e4-a622-fcee70fd063c"
   },
   "outputs": [
    {
     "data": {
      "text/plain": [
       "'mi serie'"
      ]
     },
     "execution_count": 19,
     "metadata": {},
     "output_type": "execute_result"
    }
   ],
   "source": [
    "s.name"
   ]
  },
  {
   "cell_type": "markdown",
   "metadata": {
    "id": "7YCMxGxLXEZz"
   },
   "source": [
    "Cada fila y cada columna en un *DataFrame* son objetos *Series*. El indexado en *pandas* se verá en detalle en el próximo material. Ahora mismo, para algunas de las funcionalidades presentadas puede ser útil dar un vistazo a la indexación básica de columnas de *pandas*. Esta se realiza como el indexado de diccionarios de *Python*, de la siguiente forma:"
   ]
  },
  {
   "cell_type": "code",
   "execution_count": 20,
   "metadata": {
    "colab": {
     "base_uri": "https://localhost:8080/"
    },
    "executionInfo": {
     "elapsed": 294,
     "status": "ok",
     "timestamp": 1614117440798,
     "user": {
      "displayName": "Daniel Felipe Fragua Rengifo",
      "photoUrl": "",
      "userId": "09845551813303536248"
     },
     "user_tz": 300
    },
    "id": "dJCgrtsbXgpt",
    "outputId": "519ce0e4-3ebe-4c22-cec4-cb4201af514e"
   },
   "outputs": [
    {
     "data": {
      "text/plain": [
       "a    1.0\n",
       "b    0.0\n",
       "c    0.0\n",
       "d    0.0\n",
       "e    0.0\n",
       "f    0.0\n",
       "Name: X, dtype: float64"
      ]
     },
     "execution_count": 20,
     "metadata": {},
     "output_type": "execute_result"
    }
   ],
   "source": [
    "df['X'] # Esto retorna la serie correspondiente a la columna X del DataFrame."
   ]
  },
  {
   "cell_type": "code",
   "execution_count": 21,
   "metadata": {
    "colab": {
     "base_uri": "https://localhost:8080/"
    },
    "executionInfo": {
     "elapsed": 268,
     "status": "ok",
     "timestamp": 1614117442021,
     "user": {
      "displayName": "Daniel Felipe Fragua Rengifo",
      "photoUrl": "",
      "userId": "09845551813303536248"
     },
     "user_tz": 300
    },
    "id": "7MkT5zzgXD58",
    "outputId": "08a99082-2245-455f-a09e-5277992ff762"
   },
   "outputs": [
    {
     "data": {
      "text/plain": [
       "pandas.core.series.Series"
      ]
     },
     "execution_count": 21,
     "metadata": {},
     "output_type": "execute_result"
    }
   ],
   "source": [
    "type(df['X']) # Una única columna es de tipo Series."
   ]
  },
  {
   "cell_type": "markdown",
   "metadata": {
    "id": "8M1l3Xs4WbxO"
   },
   "source": [
    "#### **2.3.1. Atributos heredados de *NumPy***\n",
    "---"
   ]
  },
  {
   "cell_type": "markdown",
   "metadata": {
    "id": "3Uc7CJaJXKWX"
   },
   "source": [
    "* **`size`**: Tamaño (número de elementos) del arreglo de *NumPy* del contenido del objeto."
   ]
  },
  {
   "cell_type": "code",
   "execution_count": 22,
   "metadata": {
    "colab": {
     "base_uri": "https://localhost:8080/"
    },
    "executionInfo": {
     "elapsed": 310,
     "status": "ok",
     "timestamp": 1614117446463,
     "user": {
      "displayName": "Daniel Felipe Fragua Rengifo",
      "photoUrl": "",
      "userId": "09845551813303536248"
     },
     "user_tz": 300
    },
    "id": "b1l0jpvQXKWc",
    "outputId": "11b393ca-8478-4d0b-b1c4-142bce8eb2e8"
   },
   "outputs": [
    {
     "data": {
      "text/plain": [
       "10"
      ]
     },
     "execution_count": 22,
     "metadata": {},
     "output_type": "execute_result"
    }
   ],
   "source": [
    "s.size"
   ]
  },
  {
   "cell_type": "code",
   "execution_count": 23,
   "metadata": {
    "colab": {
     "base_uri": "https://localhost:8080/"
    },
    "executionInfo": {
     "elapsed": 205,
     "status": "ok",
     "timestamp": 1614117446633,
     "user": {
      "displayName": "Daniel Felipe Fragua Rengifo",
      "photoUrl": "",
      "userId": "09845551813303536248"
     },
     "user_tz": 300
    },
    "id": "oWp0lEGtXRai",
    "outputId": "49484a8b-efb3-45c1-e658-7c9d1f43947e"
   },
   "outputs": [
    {
     "data": {
      "text/plain": [
       "18"
      ]
     },
     "execution_count": 23,
     "metadata": {},
     "output_type": "execute_result"
    }
   ],
   "source": [
    "df.size"
   ]
  },
  {
   "cell_type": "markdown",
   "metadata": {
    "id": "h07syyaEXWBi"
   },
   "source": [
    "* **`shape`**: Tupla con el tamaño de las dimensiones del arreglo de *NumPy* del contenido del objeto."
   ]
  },
  {
   "cell_type": "code",
   "execution_count": 24,
   "metadata": {
    "colab": {
     "base_uri": "https://localhost:8080/"
    },
    "executionInfo": {
     "elapsed": 391,
     "status": "ok",
     "timestamp": 1614117454091,
     "user": {
      "displayName": "Daniel Felipe Fragua Rengifo",
      "photoUrl": "",
      "userId": "09845551813303536248"
     },
     "user_tz": 300
    },
    "id": "8Vqr4CBIXWBl",
    "outputId": "9ea1933a-7cc8-410d-aa26-271b0cbe3c95"
   },
   "outputs": [
    {
     "data": {
      "text/plain": [
       "(10,)"
      ]
     },
     "execution_count": 24,
     "metadata": {},
     "output_type": "execute_result"
    }
   ],
   "source": [
    "s.shape"
   ]
  },
  {
   "cell_type": "code",
   "execution_count": 25,
   "metadata": {
    "colab": {
     "base_uri": "https://localhost:8080/"
    },
    "executionInfo": {
     "elapsed": 207,
     "status": "ok",
     "timestamp": 1614117454264,
     "user": {
      "displayName": "Daniel Felipe Fragua Rengifo",
      "photoUrl": "",
      "userId": "09845551813303536248"
     },
     "user_tz": 300
    },
    "id": "aEMgz_GvXWB0",
    "outputId": "65f343e8-c5f2-4e02-f524-fe00f59c4f2f"
   },
   "outputs": [
    {
     "data": {
      "text/plain": [
       "(6, 3)"
      ]
     },
     "execution_count": 25,
     "metadata": {},
     "output_type": "execute_result"
    }
   ],
   "source": [
    "df.shape"
   ]
  },
  {
   "cell_type": "markdown",
   "metadata": {
    "id": "de8Ov0EJXeU9"
   },
   "source": [
    "* **`dtype | dtypes`**: Tipo del arreglo que representa el contenido del objeto. En DataFrames se usa el atributo **`dtypes`**, que retorna una serie con el tipo de dato de cada columna."
   ]
  },
  {
   "cell_type": "code",
   "execution_count": 26,
   "metadata": {
    "colab": {
     "base_uri": "https://localhost:8080/"
    },
    "executionInfo": {
     "elapsed": 291,
     "status": "ok",
     "timestamp": 1614117456779,
     "user": {
      "displayName": "Daniel Felipe Fragua Rengifo",
      "photoUrl": "",
      "userId": "09845551813303536248"
     },
     "user_tz": 300
    },
    "id": "s7iwII75XeU-",
    "outputId": "104796f2-6cba-4a45-a69b-64ef32715c32"
   },
   "outputs": [
    {
     "data": {
      "text/plain": [
       "dtype('float64')"
      ]
     },
     "execution_count": 26,
     "metadata": {},
     "output_type": "execute_result"
    }
   ],
   "source": [
    "s.dtype"
   ]
  },
  {
   "cell_type": "code",
   "execution_count": 27,
   "metadata": {
    "colab": {
     "base_uri": "https://localhost:8080/"
    },
    "executionInfo": {
     "elapsed": 386,
     "status": "ok",
     "timestamp": 1614117458148,
     "user": {
      "displayName": "Daniel Felipe Fragua Rengifo",
      "photoUrl": "",
      "userId": "09845551813303536248"
     },
     "user_tz": 300
    },
    "id": "pHhd7XUZXeVA",
    "outputId": "fa2e87cf-8e61-4d05-b410-3eb36cd6428d"
   },
   "outputs": [
    {
     "data": {
      "text/plain": [
       "X    float64\n",
       "Y    float64\n",
       "Z    float64\n",
       "dtype: object"
      ]
     },
     "execution_count": 27,
     "metadata": {},
     "output_type": "execute_result"
    }
   ],
   "source": [
    "df.dtypes"
   ]
  },
  {
   "cell_type": "markdown",
   "metadata": {
    "id": "-aevK_YgaY9f"
   },
   "source": [
    "* **`ndim`**: Retorna el número de dimensiones. Por definición siempre va a retornar $1$ si se llama en *Series* y $2$ si se llama en *DataFrame*. En el caso de arreglos n-dimensionales en *NumPy* es muy útil."
   ]
  },
  {
   "cell_type": "code",
   "execution_count": 28,
   "metadata": {
    "colab": {
     "base_uri": "https://localhost:8080/"
    },
    "executionInfo": {
     "elapsed": 294,
     "status": "ok",
     "timestamp": 1614117465466,
     "user": {
      "displayName": "Daniel Felipe Fragua Rengifo",
      "photoUrl": "",
      "userId": "09845551813303536248"
     },
     "user_tz": 300
    },
    "id": "T3aAtoHnaY9g",
    "outputId": "4d84a8eb-8475-4394-9125-a07c978e097b"
   },
   "outputs": [
    {
     "data": {
      "text/plain": [
       "1"
      ]
     },
     "execution_count": 28,
     "metadata": {},
     "output_type": "execute_result"
    }
   ],
   "source": [
    "s.ndim"
   ]
  },
  {
   "cell_type": "code",
   "execution_count": 29,
   "metadata": {
    "colab": {
     "base_uri": "https://localhost:8080/"
    },
    "executionInfo": {
     "elapsed": 387,
     "status": "ok",
     "timestamp": 1614117466944,
     "user": {
      "displayName": "Daniel Felipe Fragua Rengifo",
      "photoUrl": "",
      "userId": "09845551813303536248"
     },
     "user_tz": 300
    },
    "id": "b4ZvSzVDaY9j",
    "outputId": "54805225-bbc9-4eac-e611-d1eb459e856f"
   },
   "outputs": [
    {
     "data": {
      "text/plain": [
       "2"
      ]
     },
     "execution_count": 29,
     "metadata": {},
     "output_type": "execute_result"
    }
   ],
   "source": [
    "df.ndim"
   ]
  },
  {
   "cell_type": "markdown",
   "metadata": {
    "id": "ivSHxh27avYi"
   },
   "source": [
    "* **`T`**: Retorna el *DataFrame* transpuesto. Las filas se convierten en columnas y las columnas en filas. En las *Series*, retorna el mismo objeto. El objeto transpuesto de un *DataFrame* puede ser usado como cualquier objeto *DataFrame*, añadiendo flexibilidad en el tratamiento de los datos."
   ]
  },
  {
   "cell_type": "code",
   "execution_count": 30,
   "metadata": {
    "colab": {
     "base_uri": "https://localhost:8080/"
    },
    "executionInfo": {
     "elapsed": 357,
     "status": "ok",
     "timestamp": 1614117479222,
     "user": {
      "displayName": "Daniel Felipe Fragua Rengifo",
      "photoUrl": "",
      "userId": "09845551813303536248"
     },
     "user_tz": 300
    },
    "id": "YOeG2gy5avYn",
    "outputId": "6cb3e2d7-9e24-4023-856f-b8c103c6d8d6"
   },
   "outputs": [
    {
     "data": {
      "text/plain": [
       "0    1.353037\n",
       "1    1.419351\n",
       "2   -0.038337\n",
       "3   -0.117214\n",
       "4   -0.496045\n",
       "5   -0.510266\n",
       "6    0.036279\n",
       "7    0.416621\n",
       "8    0.403166\n",
       "9   -0.694133\n",
       "Name: mi serie, dtype: float64"
      ]
     },
     "execution_count": 30,
     "metadata": {},
     "output_type": "execute_result"
    }
   ],
   "source": [
    "s.T"
   ]
  },
  {
   "cell_type": "code",
   "execution_count": 31,
   "metadata": {
    "colab": {
     "base_uri": "https://localhost:8080/",
     "height": 142
    },
    "executionInfo": {
     "elapsed": 300,
     "status": "ok",
     "timestamp": 1614117483445,
     "user": {
      "displayName": "Daniel Felipe Fragua Rengifo",
      "photoUrl": "",
      "userId": "09845551813303536248"
     },
     "user_tz": 300
    },
    "id": "edHMo-_favYw",
    "outputId": "2a5ae021-1101-4a07-9585-d4db1676b956"
   },
   "outputs": [
    {
     "data": {
      "text/html": [
       "<div>\n",
       "<style scoped>\n",
       "    .dataframe tbody tr th:only-of-type {\n",
       "        vertical-align: middle;\n",
       "    }\n",
       "\n",
       "    .dataframe tbody tr th {\n",
       "        vertical-align: top;\n",
       "    }\n",
       "\n",
       "    .dataframe thead th {\n",
       "        text-align: right;\n",
       "    }\n",
       "</style>\n",
       "<table border=\"1\" class=\"dataframe\">\n",
       "  <thead>\n",
       "    <tr style=\"text-align: right;\">\n",
       "      <th></th>\n",
       "      <th>a</th>\n",
       "      <th>b</th>\n",
       "      <th>c</th>\n",
       "      <th>d</th>\n",
       "      <th>e</th>\n",
       "      <th>f</th>\n",
       "    </tr>\n",
       "  </thead>\n",
       "  <tbody>\n",
       "    <tr>\n",
       "      <th>X</th>\n",
       "      <td>1.0</td>\n",
       "      <td>0.0</td>\n",
       "      <td>0.0</td>\n",
       "      <td>0.0</td>\n",
       "      <td>0.0</td>\n",
       "      <td>0.0</td>\n",
       "    </tr>\n",
       "    <tr>\n",
       "      <th>Y</th>\n",
       "      <td>0.0</td>\n",
       "      <td>1.0</td>\n",
       "      <td>0.0</td>\n",
       "      <td>0.0</td>\n",
       "      <td>0.0</td>\n",
       "      <td>0.0</td>\n",
       "    </tr>\n",
       "    <tr>\n",
       "      <th>Z</th>\n",
       "      <td>0.0</td>\n",
       "      <td>0.0</td>\n",
       "      <td>1.0</td>\n",
       "      <td>0.0</td>\n",
       "      <td>0.0</td>\n",
       "      <td>0.0</td>\n",
       "    </tr>\n",
       "  </tbody>\n",
       "</table>\n",
       "</div>"
      ],
      "text/plain": [
       "     a    b    c    d    e    f\n",
       "X  1.0  0.0  0.0  0.0  0.0  0.0\n",
       "Y  0.0  1.0  0.0  0.0  0.0  0.0\n",
       "Z  0.0  0.0  1.0  0.0  0.0  0.0"
      ]
     },
     "execution_count": 31,
     "metadata": {},
     "output_type": "execute_result"
    }
   ],
   "source": [
    "df.T"
   ]
  },
  {
   "cell_type": "code",
   "execution_count": 32,
   "metadata": {
    "colab": {
     "base_uri": "https://localhost:8080/"
    },
    "executionInfo": {
     "elapsed": 308,
     "status": "ok",
     "timestamp": 1614117491821,
     "user": {
      "displayName": "Daniel Felipe Fragua Rengifo",
      "photoUrl": "",
      "userId": "09845551813303536248"
     },
     "user_tz": 300
    },
    "id": "QCSb08nBc2ra",
    "outputId": "80ba2b30-b1a9-4817-8059-c0917e64a25b"
   },
   "outputs": [
    {
     "data": {
      "text/plain": [
       "Index(['X', 'Y', 'Z'], dtype='object')"
      ]
     },
     "execution_count": 32,
     "metadata": {},
     "output_type": "execute_result"
    }
   ],
   "source": [
    "df.T.index #El índice de la tabla transpuesta es el índice de las columnas."
   ]
  },
  {
   "cell_type": "markdown",
   "metadata": {
    "id": "K3EY-ofITsDE"
   },
   "source": [
    "## **3. Importar y exportar datos**\n",
    "---\n",
    "*Pandas* permite generar y cargar distintos orígenes de datos para su procesamiento o almacenamiento. Uno de los primeros pasos en un proceso de análisis de datos es la adquisición e integración de dichos datos para su posterior procesamiento."
   ]
  },
  {
   "cell_type": "markdown",
   "metadata": {
    "id": "x6NU5aH2l85n"
   },
   "source": [
    "### **3.1. Exportar datos**\n",
    "---\n",
    "\n",
    "En esta guía empezaremos por el proceso de exportación de datos por conveniencia, ya que usaremos los datos generados para explicar el cómo importarlos posteriormente.\n",
    "\n",
    "Los objetos *Series* y *DataFrame* tienen métodos de conveniencia para generar como salida archivos de varios formatos importantes. Estos métodos tienen la estructura **`.to_<>`**, en donde **`<>`** corresponde al nombre del formato deseado. A continuación se presentan los más importantes. Se recomienda consultar la [documentación oficial](https://pandas.pydata.org/docs/user_guide/io.html#io-store-in-csv) si necesita un formato en particular.\n",
    "\n",
    "La mayoría de los métodos expuestos, salvo algunas excepciones, funcionan tanto para *DataFrame* como para *Series*. En este tutorial se enseñarán ejemplos del funcionamiento con *DataFrame*, dado que es el escenario más común en el manejo de tablas externas."
   ]
  },
  {
   "cell_type": "code",
   "execution_count": 33,
   "metadata": {
    "colab": {
     "base_uri": "https://localhost:8080/",
     "height": 173
    },
    "executionInfo": {
     "elapsed": 349,
     "status": "ok",
     "timestamp": 1614117495573,
     "user": {
      "displayName": "Daniel Felipe Fragua Rengifo",
      "photoUrl": "",
      "userId": "09845551813303536248"
     },
     "user_tz": 300
    },
    "id": "BoGP8PcgvBx5",
    "outputId": "0524f850-464e-4dd6-801f-008e0a3b49d0"
   },
   "outputs": [
    {
     "data": {
      "text/html": [
       "<div>\n",
       "<style scoped>\n",
       "    .dataframe tbody tr th:only-of-type {\n",
       "        vertical-align: middle;\n",
       "    }\n",
       "\n",
       "    .dataframe tbody tr th {\n",
       "        vertical-align: top;\n",
       "    }\n",
       "\n",
       "    .dataframe thead th {\n",
       "        text-align: right;\n",
       "    }\n",
       "</style>\n",
       "<table border=\"1\" class=\"dataframe\">\n",
       "  <thead>\n",
       "    <tr style=\"text-align: right;\">\n",
       "      <th></th>\n",
       "      <th>x</th>\n",
       "      <th>y</th>\n",
       "      <th>z</th>\n",
       "    </tr>\n",
       "  </thead>\n",
       "  <tbody>\n",
       "    <tr>\n",
       "      <th>a</th>\n",
       "      <td>37</td>\n",
       "      <td>35</td>\n",
       "      <td>59</td>\n",
       "    </tr>\n",
       "    <tr>\n",
       "      <th>b</th>\n",
       "      <td>50</td>\n",
       "      <td>76</td>\n",
       "      <td>82</td>\n",
       "    </tr>\n",
       "    <tr>\n",
       "      <th>c</th>\n",
       "      <td>60</td>\n",
       "      <td>22</td>\n",
       "      <td>61</td>\n",
       "    </tr>\n",
       "    <tr>\n",
       "      <th>d</th>\n",
       "      <td>85</td>\n",
       "      <td>25</td>\n",
       "      <td>39</td>\n",
       "    </tr>\n",
       "  </tbody>\n",
       "</table>\n",
       "</div>"
      ],
      "text/plain": [
       "    x   y   z\n",
       "a  37  35  59\n",
       "b  50  76  82\n",
       "c  60  22  61\n",
       "d  85  25  39"
      ]
     },
     "execution_count": 33,
     "metadata": {},
     "output_type": "execute_result"
    }
   ],
   "source": [
    "#Este ejemplo será usado en el resto de explicaciones.\n",
    "\n",
    "index = list('abcd')\n",
    "columns = list('xyz')\n",
    "\n",
    "data = np.random.randint(10, 99, (4,3))\n",
    "df = pd.DataFrame(data, index = index, columns = columns)\n",
    "\n",
    "df"
   ]
  },
  {
   "cell_type": "markdown",
   "metadata": {
    "id": "XzZRqp5SoU3B"
   },
   "source": [
    "####  **3.1.1. CSV | `.to_csv`** \n",
    "---\n",
    "Del inglés *Comma-separated values*, *csv* es uno de los formatos de archivos de texto más comunes para el almacenamiento de datos tabulares. Como su nombre lo indica, los elementos son almacenados celda a celda separados por comas (u otros delimitadores, si así se desea) y separando las filas con saltos de líneas. Este método acepta muchos argumentos, que permiten personalizar un formato particular. Estos permiten definir, entre otras cosas:\n",
    "\n",
    "  * El nombre y extensión del archivo generado. (**`path`**)\n",
    "  * Un delimitador distinto a la coma. (**`sep`**)\n",
    "  * La representación para datos faltantes. (**`na_rep`**)\n",
    "  * El formato de los decimales. (**`float_format`**)\n",
    "  * El formato de las fechas. (**`date_format`**)\n",
    "  * Imprimir o no el encabezado y el nombre del indice. (**`header`** | **`index`**)\n",
    "  * Filas y columnas a escribir. (**`columns`** | **`chunksize`**)\n",
    "\n",
    "Lo invitamos a consultar la [especificación](https://pandas.pydata.org/pandas-docs/stable/reference/api/pandas.DataFrame.to_csv.html) de la función en la documentación oficial para más detalles sobre cómo usar estos argumentos.\n",
    "\n",
    "Todos los argumentos son opcionales, y en caso de faltar *pandas* define un comportamiento por defecto con el formato más común y el recomendado en la mayoría de los casos.\n"
   ]
  },
  {
   "cell_type": "code",
   "execution_count": 34,
   "metadata": {
    "colab": {
     "base_uri": "https://localhost:8080/",
     "height": 35
    },
    "executionInfo": {
     "elapsed": 295,
     "status": "ok",
     "timestamp": 1614117501186,
     "user": {
      "displayName": "Daniel Felipe Fragua Rengifo",
      "photoUrl": "",
      "userId": "09845551813303536248"
     },
     "user_tz": 300
    },
    "id": "MIi9jpSDvVmj",
    "outputId": "9a40e035-a68b-409f-b16d-3b83328f8b59"
   },
   "outputs": [
    {
     "data": {
      "text/plain": [
       "',x,y,z\\na,37,35,59\\nb,50,76,82\\nc,60,22,61\\nd,85,25,39\\n'"
      ]
     },
     "execution_count": 34,
     "metadata": {},
     "output_type": "execute_result"
    }
   ],
   "source": [
    "#Si no se define una ruta, se escribe en una cadena de texto.\n",
    "df.to_csv()"
   ]
  },
  {
   "cell_type": "code",
   "execution_count": 35,
   "metadata": {
    "executionInfo": {
     "elapsed": 285,
     "status": "ok",
     "timestamp": 1614117512779,
     "user": {
      "displayName": "Daniel Felipe Fragua Rengifo",
      "photoUrl": "",
      "userId": "09845551813303536248"
     },
     "user_tz": 300
    },
    "id": "96_cvsrOvc80"
   },
   "outputs": [],
   "source": [
    "#La extensión no tiene que ser csv (aunque se recomienda)\n",
    "df.to_csv('data/df_to_csv.txt')"
   ]
  },
  {
   "cell_type": "code",
   "execution_count": 36,
   "metadata": {
    "colab": {
     "base_uri": "https://localhost:8080/"
    },
    "executionInfo": {
     "elapsed": 282,
     "status": "ok",
     "timestamp": 1614117513935,
     "user": {
      "displayName": "Daniel Felipe Fragua Rengifo",
      "photoUrl": "",
      "userId": "09845551813303536248"
     },
     "user_tz": 300
    },
    "id": "P4P6ddgBvjWw",
    "outputId": "6f25863b-c8a8-45cb-c7dd-8faf33a9978b"
   },
   "outputs": [
    {
     "name": "stdout",
     "output_type": "stream",
     "text": [
      "anscombe.json\t\t     cereal.csv     df_to_excel.xlsx  df_to_json.json\n",
      "california_housing_test.csv  df_to_csv.txt  df_to_html.html   df_to_latex.tex\n"
     ]
    }
   ],
   "source": [
    "#Se muestran los archivos en el directorio actual data/ con el comando del sistema \"ls\".\n",
    "!ls data/"
   ]
  },
  {
   "cell_type": "code",
   "execution_count": 37,
   "metadata": {
    "colab": {
     "base_uri": "https://localhost:8080/"
    },
    "executionInfo": {
     "elapsed": 460,
     "status": "ok",
     "timestamp": 1614117519532,
     "user": {
      "displayName": "Daniel Felipe Fragua Rengifo",
      "photoUrl": "",
      "userId": "09845551813303536248"
     },
     "user_tz": 300
    },
    "id": "VxRni1x5vqYI",
    "outputId": "888679e5-aa5f-4116-b4ed-9ec49ce2007e"
   },
   "outputs": [
    {
     "name": "stdout",
     "output_type": "stream",
     "text": [
      ",x,y,z\n",
      "a,37,35,59\n",
      "b,50,76,82\n",
      "c,60,22,61\n",
      "d,85,25,39\n"
     ]
    }
   ],
   "source": [
    "#Miramos el contenido del archivo generado con el comando del sistema \"cat\".\n",
    "!cat data/df_to_csv.txt"
   ]
  },
  {
   "cell_type": "markdown",
   "metadata": {
    "id": "P5TKZZbZwps7"
   },
   "source": [
    "####  **3.1.2. Hojas de cálculo | `.to_excel`** \n",
    "---\n",
    "Otro de los formatos más comunes es el formato del software *Microsoft Office Excel* (o su alternativa abierta *LibreOffice* con documentos en formato .*odf*), que permite disponer de datos tabulares en hojas de cálculo. Existen muchos datos almacenados en este formato, y suele ser requisito del proceso utilizarlo. *Pandas* permite generar y cargar archivos en este formato, ofreciendo opciones de personalización específicas. Algunas de estas son:\n",
    "\n",
    "  * El nombre y extensión del archivo generado. (**`excel_writer`**) \n",
    "  * El nombre de la hoja de cálculo. (**`sheet_name`**)\n",
    "  * Fila y columna en donde empezar a escribir los datos. (**`startrow`** | **`startcol`**)\n",
    "  *  Combinar celdas de índices múltiples. (**`merge_cells`**)\n",
    "\n",
    "Además, comparte argumentos de detalles de formato con otras funciones, como se mencionó previamente.\n",
    "\n",
    "  Lo invitamos a consultar la [especificación](https://pandas.pydata.org/pandas-docs/stable/reference/api/pandas.DataFrame.to_excel.html) de la función en la documentación oficial para más detalles sobre cómo usar estos argumentos."
   ]
  },
  {
   "cell_type": "code",
   "execution_count": 38,
   "metadata": {
    "executionInfo": {
     "elapsed": 277,
     "status": "ok",
     "timestamp": 1614117535264,
     "user": {
      "displayName": "Daniel Felipe Fragua Rengifo",
      "photoUrl": "",
      "userId": "09845551813303536248"
     },
     "user_tz": 300
    },
    "id": "lZyAuWjQjwKL"
   },
   "outputs": [],
   "source": [
    "df.to_excel('data/df_to_excel.xlsx')"
   ]
  },
  {
   "cell_type": "markdown",
   "metadata": {
    "id": "CgMraioXlar4"
   },
   "source": [
    "####  **3.1.3. JSON | `.to_json`** \n",
    "---\n",
    "Otro formato común es el *.json* (*JavaScript Object Notation*). Este estándar proviene del lenguaje de programación [*JavaScript*](https://developer.mozilla.org/en-US/docs/Web/JavaScript) y es muy similar a la notación usada en los diccionarios de *Python*, pues usa una combinación entre objetos compuestos por parejas de llaves y valores y listas. *JavaScript* es el lenguaje principal en el desarrollo de páginas web. El estándar *JSON* es independiente del lenguaje, y es muy común usarlo para el intercambio de datos.\n",
    "\n",
    "El principal argumento específico de este formato es **`orient`**, que define los detalles del formato de JSON a generar.\n",
    "\n",
    "Al igual que antes, comparte argumentos de detalles de formato con otras funciones.\n",
    "\n",
    "Lo invitamos a consultar la [especificación](https://pandas.pydata.org/pandas-docs/stable/reference/api/pandas.DataFrame.to_json.html) de la función en la documentación oficial para más detalles sobre cómo usar estos argumentos."
   ]
  },
  {
   "cell_type": "code",
   "execution_count": 39,
   "metadata": {
    "executionInfo": {
     "elapsed": 272,
     "status": "ok",
     "timestamp": 1614117583378,
     "user": {
      "displayName": "Daniel Felipe Fragua Rengifo",
      "photoUrl": "",
      "userId": "09845551813303536248"
     },
     "user_tz": 300
    },
    "id": "TeX6Upt3raAz"
   },
   "outputs": [],
   "source": [
    "#Python tiene soporte para este formato con el módulo json\n",
    "import json\n",
    "\n",
    "def print_json(raw_json):\n",
    "  parsed = json.loads(raw_json)\n",
    "  print(json.dumps(parsed, indent = 2))"
   ]
  },
  {
   "cell_type": "code",
   "execution_count": 40,
   "metadata": {},
   "outputs": [
    {
     "data": {
      "text/html": [
       "<div>\n",
       "<style scoped>\n",
       "    .dataframe tbody tr th:only-of-type {\n",
       "        vertical-align: middle;\n",
       "    }\n",
       "\n",
       "    .dataframe tbody tr th {\n",
       "        vertical-align: top;\n",
       "    }\n",
       "\n",
       "    .dataframe thead th {\n",
       "        text-align: right;\n",
       "    }\n",
       "</style>\n",
       "<table border=\"1\" class=\"dataframe\">\n",
       "  <thead>\n",
       "    <tr style=\"text-align: right;\">\n",
       "      <th></th>\n",
       "      <th>x</th>\n",
       "      <th>y</th>\n",
       "      <th>z</th>\n",
       "    </tr>\n",
       "  </thead>\n",
       "  <tbody>\n",
       "    <tr>\n",
       "      <th>a</th>\n",
       "      <td>37</td>\n",
       "      <td>35</td>\n",
       "      <td>59</td>\n",
       "    </tr>\n",
       "    <tr>\n",
       "      <th>b</th>\n",
       "      <td>50</td>\n",
       "      <td>76</td>\n",
       "      <td>82</td>\n",
       "    </tr>\n",
       "    <tr>\n",
       "      <th>c</th>\n",
       "      <td>60</td>\n",
       "      <td>22</td>\n",
       "      <td>61</td>\n",
       "    </tr>\n",
       "    <tr>\n",
       "      <th>d</th>\n",
       "      <td>85</td>\n",
       "      <td>25</td>\n",
       "      <td>39</td>\n",
       "    </tr>\n",
       "  </tbody>\n",
       "</table>\n",
       "</div>"
      ],
      "text/plain": [
       "    x   y   z\n",
       "a  37  35  59\n",
       "b  50  76  82\n",
       "c  60  22  61\n",
       "d  85  25  39"
      ]
     },
     "execution_count": 40,
     "metadata": {},
     "output_type": "execute_result"
    }
   ],
   "source": [
    "df"
   ]
  },
  {
   "cell_type": "code",
   "execution_count": 41,
   "metadata": {
    "colab": {
     "base_uri": "https://localhost:8080/"
    },
    "executionInfo": {
     "elapsed": 277,
     "status": "ok",
     "timestamp": 1614117601752,
     "user": {
      "displayName": "Daniel Felipe Fragua Rengifo",
      "photoUrl": "",
      "userId": "09845551813303536248"
     },
     "user_tz": 300
    },
    "id": "Dcfv9oonpwiM",
    "outputId": "5b896d1d-100f-4f6a-eb2d-3d8c4964d17b"
   },
   "outputs": [
    {
     "name": "stdout",
     "output_type": "stream",
     "text": [
      "{\n",
      "  \"x\": {\n",
      "    \"a\": 37,\n",
      "    \"b\": 50,\n",
      "    \"c\": 60,\n",
      "    \"d\": 85\n",
      "  },\n",
      "  \"y\": {\n",
      "    \"a\": 35,\n",
      "    \"b\": 76,\n",
      "    \"c\": 22,\n",
      "    \"d\": 25\n",
      "  },\n",
      "  \"z\": {\n",
      "    \"a\": 59,\n",
      "    \"b\": 82,\n",
      "    \"c\": 61,\n",
      "    \"d\": 39\n",
      "  }\n",
      "}\n"
     ]
    }
   ],
   "source": [
    "# columns - Retorna un objeto con las columnas como llave y las filas en forma de objeto.\n",
    "\n",
    "s = df.to_json(orient = 'columns')\n",
    "print_json(s)"
   ]
  },
  {
   "cell_type": "code",
   "execution_count": 42,
   "metadata": {
    "colab": {
     "base_uri": "https://localhost:8080/"
    },
    "executionInfo": {
     "elapsed": 290,
     "status": "ok",
     "timestamp": 1614117623553,
     "user": {
      "displayName": "Daniel Felipe Fragua Rengifo",
      "photoUrl": "",
      "userId": "09845551813303536248"
     },
     "user_tz": 300
    },
    "id": "qfuUezc2orSy",
    "outputId": "7e3df5a5-c80b-40cb-e403-ca7cb096c6b4"
   },
   "outputs": [
    {
     "name": "stdout",
     "output_type": "stream",
     "text": [
      "{\n",
      "  \"columns\": [\n",
      "    \"x\",\n",
      "    \"y\",\n",
      "    \"z\"\n",
      "  ],\n",
      "  \"index\": [\n",
      "    \"a\",\n",
      "    \"b\",\n",
      "    \"c\",\n",
      "    \"d\"\n",
      "  ],\n",
      "  \"data\": [\n",
      "    [\n",
      "      37,\n",
      "      35,\n",
      "      59\n",
      "    ],\n",
      "    [\n",
      "      50,\n",
      "      76,\n",
      "      82\n",
      "    ],\n",
      "    [\n",
      "      60,\n",
      "      22,\n",
      "      61\n",
      "    ],\n",
      "    [\n",
      "      85,\n",
      "      25,\n",
      "      39\n",
      "    ]\n",
      "  ]\n",
      "}\n"
     ]
    }
   ],
   "source": [
    "# split - Retorna las columnas, índice y valores por separado\n",
    "\n",
    "s = df.to_json(orient = 'split')\n",
    "print_json(s)"
   ]
  },
  {
   "cell_type": "code",
   "execution_count": 43,
   "metadata": {
    "colab": {
     "base_uri": "https://localhost:8080/"
    },
    "executionInfo": {
     "elapsed": 313,
     "status": "ok",
     "timestamp": 1614118260085,
     "user": {
      "displayName": "Daniel Felipe Fragua Rengifo",
      "photoUrl": "",
      "userId": "09845551813303536248"
     },
     "user_tz": 300
    },
    "id": "aaVirdFBoysG",
    "outputId": "cb4194ef-4360-4ccf-eca9-9cd9c5ce14be"
   },
   "outputs": [
    {
     "name": "stdout",
     "output_type": "stream",
     "text": [
      "[\n",
      "  {\n",
      "    \"x\": 37,\n",
      "    \"y\": 35,\n",
      "    \"z\": 59\n",
      "  },\n",
      "  {\n",
      "    \"x\": 50,\n",
      "    \"y\": 76,\n",
      "    \"z\": 82\n",
      "  },\n",
      "  {\n",
      "    \"x\": 60,\n",
      "    \"y\": 22,\n",
      "    \"z\": 61\n",
      "  },\n",
      "  {\n",
      "    \"x\": 85,\n",
      "    \"y\": 25,\n",
      "    \"z\": 39\n",
      "  }\n",
      "]\n"
     ]
    }
   ],
   "source": [
    "# records - Retorna una lista de los registros (filas) en forma de objeto\n",
    "\n",
    "s = df.to_json(orient = 'records')\n",
    "print_json(s)"
   ]
  },
  {
   "cell_type": "code",
   "execution_count": 44,
   "metadata": {
    "colab": {
     "base_uri": "https://localhost:8080/"
    },
    "executionInfo": {
     "elapsed": 298,
     "status": "ok",
     "timestamp": 1614118267910,
     "user": {
      "displayName": "Daniel Felipe Fragua Rengifo",
      "photoUrl": "",
      "userId": "09845551813303536248"
     },
     "user_tz": 300
    },
    "id": "lbnE1nPIqe7q",
    "outputId": "799a27c5-cd5f-4b43-b775-42e27811dbc3"
   },
   "outputs": [
    {
     "name": "stdout",
     "output_type": "stream",
     "text": [
      "{\n",
      "  \"a\": {\n",
      "    \"x\": 37,\n",
      "    \"y\": 35,\n",
      "    \"z\": 59\n",
      "  },\n",
      "  \"b\": {\n",
      "    \"x\": 50,\n",
      "    \"y\": 76,\n",
      "    \"z\": 82\n",
      "  },\n",
      "  \"c\": {\n",
      "    \"x\": 60,\n",
      "    \"y\": 22,\n",
      "    \"z\": 61\n",
      "  },\n",
      "  \"d\": {\n",
      "    \"x\": 85,\n",
      "    \"y\": 25,\n",
      "    \"z\": 39\n",
      "  }\n",
      "}\n"
     ]
    }
   ],
   "source": [
    "# index - Retorna un objeto con los índices como llave y las columnas en forma de objeto.\n",
    "\n",
    "s = df.to_json(orient = 'index')\n",
    "print_json(s)"
   ]
  },
  {
   "cell_type": "code",
   "execution_count": 45,
   "metadata": {
    "colab": {
     "base_uri": "https://localhost:8080/"
    },
    "executionInfo": {
     "elapsed": 381,
     "status": "ok",
     "timestamp": 1614118268451,
     "user": {
      "displayName": "Daniel Felipe Fragua Rengifo",
      "photoUrl": "",
      "userId": "09845551813303536248"
     },
     "user_tz": 300
    },
    "id": "uO2qBLBSqwue",
    "outputId": "765e6e30-71f9-4fcf-aa01-00078ce0858c"
   },
   "outputs": [
    {
     "name": "stdout",
     "output_type": "stream",
     "text": [
      "[[37,35,59],[50,76,82],[60,22,61],[85,25,39]]\n"
     ]
    }
   ],
   "source": [
    "# values - Retorna únicamente el arreglo de valores.\n",
    "\n",
    "s = df.to_json(orient = 'values')\n",
    "print(s)"
   ]
  },
  {
   "cell_type": "code",
   "execution_count": 46,
   "metadata": {
    "colab": {
     "base_uri": "https://localhost:8080/"
    },
    "executionInfo": {
     "elapsed": 277,
     "status": "ok",
     "timestamp": 1614118270810,
     "user": {
      "displayName": "Daniel Felipe Fragua Rengifo",
      "photoUrl": "",
      "userId": "09845551813303536248"
     },
     "user_tz": 300
    },
    "id": "Ycg2toP3q9M-",
    "outputId": "0543d09c-3865-4830-de48-0a1c51e1dc08"
   },
   "outputs": [
    {
     "name": "stdout",
     "output_type": "stream",
     "text": [
      "{\n",
      "  \"schema\": {\n",
      "    \"fields\": [\n",
      "      {\n",
      "        \"name\": \"index\",\n",
      "        \"type\": \"string\"\n",
      "      },\n",
      "      {\n",
      "        \"name\": \"x\",\n",
      "        \"type\": \"integer\"\n",
      "      },\n",
      "      {\n",
      "        \"name\": \"y\",\n",
      "        \"type\": \"integer\"\n",
      "      },\n",
      "      {\n",
      "        \"name\": \"z\",\n",
      "        \"type\": \"integer\"\n",
      "      }\n",
      "    ],\n",
      "    \"primaryKey\": [\n",
      "      \"index\"\n",
      "    ],\n",
      "    \"pandas_version\": \"1.4.0\"\n",
      "  },\n",
      "  \"data\": [\n",
      "    {\n",
      "      \"index\": \"a\",\n",
      "      \"x\": 37,\n",
      "      \"y\": 35,\n",
      "      \"z\": 59\n",
      "    },\n",
      "    {\n",
      "      \"index\": \"b\",\n",
      "      \"x\": 50,\n",
      "      \"y\": 76,\n",
      "      \"z\": 82\n",
      "    },\n",
      "    {\n",
      "      \"index\": \"c\",\n",
      "      \"x\": 60,\n",
      "      \"y\": 22,\n",
      "      \"z\": 61\n",
      "    },\n",
      "    {\n",
      "      \"index\": \"d\",\n",
      "      \"x\": 85,\n",
      "      \"y\": 25,\n",
      "      \"z\": 39\n",
      "    }\n",
      "  ]\n",
      "}\n"
     ]
    }
   ],
   "source": [
    "# table - Formato de tabla con datos descriptivos de su estructura.\n",
    "\n",
    "s = df.to_json(orient = 'table')\n",
    "print_json(s)"
   ]
  },
  {
   "cell_type": "code",
   "execution_count": 47,
   "metadata": {
    "executionInfo": {
     "elapsed": 339,
     "status": "ok",
     "timestamp": 1614118353488,
     "user": {
      "displayName": "Daniel Felipe Fragua Rengifo",
      "photoUrl": "",
      "userId": "09845551813303536248"
     },
     "user_tz": 300
    },
    "id": "jdsxtL5Wq8D5"
   },
   "outputs": [],
   "source": [
    "df.to_json('data/df_to_json.json') # El orient por defecto es \"columns\""
   ]
  },
  {
   "cell_type": "code",
   "execution_count": 48,
   "metadata": {
    "colab": {
     "base_uri": "https://localhost:8080/"
    },
    "executionInfo": {
     "elapsed": 538,
     "status": "ok",
     "timestamp": 1614118354096,
     "user": {
      "displayName": "Daniel Felipe Fragua Rengifo",
      "photoUrl": "",
      "userId": "09845551813303536248"
     },
     "user_tz": 300
    },
    "id": "39x_mfURpumd",
    "outputId": "f1a3e90c-195d-4f89-b840-98152e630c32"
   },
   "outputs": [
    {
     "name": "stdout",
     "output_type": "stream",
     "text": [
      "{\"x\":{\"a\":37,\"b\":50,\"c\":60,\"d\":85},\"y\":{\"a\":35,\"b\":76,\"c\":22,\"d\":25},\"z\":{\"a\":59,\"b\":82,\"c\":61,\"d\":39}}"
     ]
    }
   ],
   "source": [
    "!cat data/df_to_json.json"
   ]
  },
  {
   "cell_type": "markdown",
   "metadata": {
    "id": "PqqOM7R6tgAQ"
   },
   "source": [
    "####  **3.1.4. HTML | `.to_html`** \n",
    "---\n",
    "*Pandas* también permite generar tablas **HTML** (*Hyper Text Markup Language*), el formato usado en páginas web, perfecto para presentar los resultados de un análisis o exponer un conjunto de datos. \n",
    "Este formato tiene muchas opciones de personalización definidas en sus argumentos, que corresponden principalmente al estilo generado, además de los argumentos de detalles de formato comunes.\n",
    "\n",
    "Lo invitamos a consultar la [especificación](https://pandas.pydata.org/pandas-docs/stable/reference/api/pandas.DataFrame.to_html.html) de la función en la documentación oficial para más detalles sobre cómo usar estos argumentos."
   ]
  },
  {
   "cell_type": "code",
   "execution_count": 49,
   "metadata": {
    "id": "9JxS1QCsv1kM"
   },
   "outputs": [],
   "source": [
    "import IPython\n",
    "\n",
    "#Función para renderizar HTML en el notebook.\n",
    "\n",
    "def print_HTML(str):\n",
    "    display(IPython.display.HTML(df.to_html()))"
   ]
  },
  {
   "cell_type": "code",
   "execution_count": 50,
   "metadata": {
    "id": "p9Wcmam9vsRb"
   },
   "outputs": [
    {
     "data": {
      "text/html": [
       "<table border=\"1\" class=\"dataframe\">\n",
       "  <thead>\n",
       "    <tr style=\"text-align: right;\">\n",
       "      <th></th>\n",
       "      <th>x</th>\n",
       "      <th>y</th>\n",
       "      <th>z</th>\n",
       "    </tr>\n",
       "  </thead>\n",
       "  <tbody>\n",
       "    <tr>\n",
       "      <th>a</th>\n",
       "      <td>37</td>\n",
       "      <td>35</td>\n",
       "      <td>59</td>\n",
       "    </tr>\n",
       "    <tr>\n",
       "      <th>b</th>\n",
       "      <td>50</td>\n",
       "      <td>76</td>\n",
       "      <td>82</td>\n",
       "    </tr>\n",
       "    <tr>\n",
       "      <th>c</th>\n",
       "      <td>60</td>\n",
       "      <td>22</td>\n",
       "      <td>61</td>\n",
       "    </tr>\n",
       "    <tr>\n",
       "      <th>d</th>\n",
       "      <td>85</td>\n",
       "      <td>25</td>\n",
       "      <td>39</td>\n",
       "    </tr>\n",
       "  </tbody>\n",
       "</table>"
      ],
      "text/plain": [
       "<IPython.core.display.HTML object>"
      ]
     },
     "metadata": {},
     "output_type": "display_data"
    }
   ],
   "source": [
    "s = df.to_html('data/df_to_html.html')\n",
    "\n",
    "print_HTML(s)"
   ]
  },
  {
   "cell_type": "markdown",
   "metadata": {
    "id": "1lBw6iiZw3zk"
   },
   "source": [
    "####  **3.1.5. LaTeX | `.to_latex`** \n",
    "---\n",
    "En algunas ocasiones, se puede requerir de formatos más específicos que no sean usados posteriormente en otras aplicaciones. Es el caso de *LaTeX*, estándar para la generación de documentos científicos, con notación especial para ecuaciones y personalización de formatos. *Pandas* también permite generar tablas en este formato, listas para añadirse al código fuente del documento para su renderizado.\n",
    "Este método tiene también múltiples opciones de personalización específicas del formato por medio de argumentos.\n",
    "\n",
    "Lo invitamos a consultar la [especificación](https://pandas.pydata.org/pandas-docs/stable/reference/api/pandas.DataFrame.to_latex.html) de la función en la documentación oficial para más detalles sobre cómo usar estos argumentos."
   ]
  },
  {
   "cell_type": "code",
   "execution_count": 51,
   "metadata": {
    "executionInfo": {
     "elapsed": 279,
     "status": "ok",
     "timestamp": 1614118375882,
     "user": {
      "displayName": "Daniel Felipe Fragua Rengifo",
      "photoUrl": "",
      "userId": "09845551813303536248"
     },
     "user_tz": 300
    },
    "id": "XchRPwhzwfcU"
   },
   "outputs": [],
   "source": [
    "df.style.to_latex('data/df_to_latex.tex')"
   ]
  },
  {
   "cell_type": "code",
   "execution_count": 52,
   "metadata": {
    "colab": {
     "base_uri": "https://localhost:8080/"
    },
    "executionInfo": {
     "elapsed": 351,
     "status": "ok",
     "timestamp": 1614118378880,
     "user": {
      "displayName": "Daniel Felipe Fragua Rengifo",
      "photoUrl": "",
      "userId": "09845551813303536248"
     },
     "user_tz": 300
    },
    "id": "idK0c351ssCw",
    "outputId": "6b567aa3-a260-4c98-9600-501801063ace"
   },
   "outputs": [
    {
     "name": "stdout",
     "output_type": "stream",
     "text": [
      "\\begin{tabular}{lrrr}\n",
      " & x & y & z \\\\\n",
      "a & 37 & 35 & 59 \\\\\n",
      "b & 50 & 76 & 82 \\\\\n",
      "c & 60 & 22 & 61 \\\\\n",
      "d & 85 & 25 & 39 \\\\\n",
      "\\end{tabular}\n"
     ]
    }
   ],
   "source": [
    "!cat data/df_to_latex.tex"
   ]
  },
  {
   "cell_type": "markdown",
   "metadata": {
    "id": "yZbAdExxzFJ0"
   },
   "source": [
    "####  **3.1.6. Markdown | `.to_markdown`** \n",
    "---\n",
    "Al hablar de formatos de presentación, no podía faltar *Markdown*, formato usado, entre otras cosas, en el renderizado de las celdas de texto de los *Notebook*. *Pandas* permite generar texto que representa el formato de tablas usado en este lenguaje. Es ideal para generar tablas para sus proyectos con *Notebooks* de *Python*, o para plataformas como *GitHub*.\n",
    "La mayoría de sus argumentos corresponde a la especificación de la librería [*tabulate*](https://pypi.org/project/tabulate/), sobre la cual *pandas* define la personalización de las tablas de *Markdown* generadas.\n",
    "\n",
    "Lo invitamos a consultar la [especificación](https://pandas.pydata.org/pandas-docs/stable/reference/api/pandas.DataFrame.to_markdown.html) de la función en la documentación oficial para más detalles sobre cómo usar estos argumentos."
   ]
  },
  {
   "cell_type": "code",
   "execution_count": 53,
   "metadata": {},
   "outputs": [
    {
     "data": {
      "text/plain": [
       "'|    |   x |   y |   z |\\n|:---|----:|----:|----:|\\n| a  |  37 |  35 |  59 |\\n| b  |  50 |  76 |  82 |\\n| c  |  60 |  22 |  61 |\\n| d  |  85 |  25 |  39 |'"
      ]
     },
     "execution_count": 53,
     "metadata": {},
     "output_type": "execute_result"
    }
   ],
   "source": [
    "s = df.to_markdown()\n",
    "\n",
    "s"
   ]
  },
  {
   "cell_type": "code",
   "execution_count": 54,
   "metadata": {
    "colab": {
     "base_uri": "https://localhost:8080/",
     "height": 124
    },
    "executionInfo": {
     "elapsed": 300,
     "status": "ok",
     "timestamp": 1614118398641,
     "user": {
      "displayName": "Daniel Felipe Fragua Rengifo",
      "photoUrl": "",
      "userId": "09845551813303536248"
     },
     "user_tz": 300
    },
    "id": "N4zU-mqE0Z3R",
    "outputId": "08977a7f-a31d-4f6b-d4e2-047079c7833a"
   },
   "outputs": [
    {
     "data": {
      "text/markdown": [
       "|    |   x |   y |   z |\n",
       "|:---|----:|----:|----:|\n",
       "| a  |  37 |  35 |  59 |\n",
       "| b  |  50 |  76 |  82 |\n",
       "| c  |  60 |  22 |  61 |\n",
       "| d  |  85 |  25 |  39 |"
      ]
     },
     "metadata": {},
     "output_type": "display_data"
    }
   ],
   "source": [
    "from IPython.display import display_markdown, Markdown\n",
    "\n",
    "#Módulo de IPython para imprimir código fuente de markdown.\n",
    "display_markdown(Markdown(s))"
   ]
  },
  {
   "cell_type": "markdown",
   "metadata": {
    "id": "1UGMKvW90s8A"
   },
   "source": [
    "*Pandas* ha dado soporte a una gran variedad de formatos, pero esta guía sería muy extensa si se presentaran en detalle. A continuación, presentamos una lista de los formatos soportados por *pandas* para la generación de tablas a partir de *DataFrames* y *Series*, o de utilidades específicas que le podrían interesar.\n",
    "\n",
    "*  [*Python* Pickle](https://docs.python.org/3/library/pickle.html): [**`.to_pickle`**](https://pandas.pydata.org/pandas-docs/stable/reference/api/pandas.DataFrame.to_pickle.html)\n",
    "*  [*Apache Parquet*](https://parquet.apache.org/): [**`.to_parquet`**](https://pandas.pydata.org/pandas-docs/stable/reference/api/pandas.DataFrame.to_parquet.html)\n",
    "*  [*Hierarchical Data Format*](https://www.hdfgroup.org/solutions/hdf5/): [**`.to_hdf`**](https://pandas.pydata.org/pandas-docs/stable/reference/api/pandas.DataFrame.to_hdf.html)\n",
    "*  [*SQL (Structured Query Language)*](https://docs.sqlalchemy.org/en/13/): [**`.to_sql`**](https://pandas.pydata.org/pandas-docs/stable/reference/api/pandas.DataFrame.to_sql.html)\n",
    "*  [*Feather File Format*](https://arrow.apache.org/docs/python/feather.html): [**`.to_feather`**](https://pandas.pydata.org/pandas-docs/stable/reference/api/pandas.DataFrame.to_feather.html)\n",
    "*  [*Stata dta*](https://www.stata.com/): [**`.to_stata`**](https://pandas.pydata.org/pandas-docs/stable/reference/api/pandas.DataFrame.to_stata.html)\n",
    "*  [*Google Big Query*](https://cloud.google.com/bigquery): [**`.to_gbq`**](https://pandas.pydata.org/pandas-docs/stable/reference/api/pandas.DataFrame.to_gbq.html)\n",
    "*  [Diccionario de *Python*](https://docs.python.org/3/tutorial/datastructures.html#dictionaries): [**`.to_dict`**](https://pandas.pydata.org/pandas-docs/stable/reference/api/pandas.DataFrame.to_dict.html)\n",
    "*  [*NumPy* record](https://numpy.org/devdocs/reference/generated/numpy.recarray.html#numpy.recarray): [**`.to_records`**](https://pandas.pydata.org/pandas-docs/stable/reference/api/pandas.DataFrame.to_records.html)\n",
    "*  Cadena de texto de *Python*: [**`.to_string`**](https://pandas.pydata.org/pandas-docs/stable/reference/api/pandas.DataFrame.to_string.html)\n",
    "*  Copiar al portapapeles: [**`.to_clipboard`**](https://pandas.pydata.org/pandas-docs/stable/reference/api/pandas.DataFrame.to_clipboard.html)\n",
    "\n"
   ]
  },
  {
   "cell_type": "markdown",
   "metadata": {
    "id": "10H3kc449jfG"
   },
   "source": [
    "### **3.2. Importar datos**\n",
    "---\n",
    "\n",
    "*Pandas*, además de generar, brinda soporte para cargar y dar formato a diversos orígenes de datos. Inicialmente, se requiere reunir y entender los datos de interés y, posteriormente, integrarlos en un conjunto sobre el cual hacer actividades propias del análisis de datos.\n",
    "\n",
    "Para esto, *pandas* dispone de la familia de métodos **`pd.read_*`** que, a diferencia de la familia de métodos **`.to_x`**, son llamados desde el módulo **`pd`** en vez que desde un objeto *DataFrame* o *Series*. Existen aún más métodos para la carga de orígenes de datos que aquellos usados en la generación. Se consideran también orígenes remotos, como conjuntos de datos alojados en la web, bases de datos remotas o de APIs específicas para la consulta de datos.\n",
    "\n",
    "Al llamar estos métodos, *pandas* puede retornar objetos de tipo *Series* o de tipo *DataFrame*, dependiendo de las dimensiones del objeto cargado. Le recomendamos que consulte los detalles específicos de cada método de la documentación oficial."
   ]
  },
  {
   "cell_type": "markdown",
   "metadata": {
    "id": "thiiheS6_txM"
   },
   "source": [
    "####  **3.2.1. CSV | `pd.read_csv`** \n",
    "\n",
    "---\n",
    "De la misma forma en que generamos un archivo en este formato, *pandas* permite cargarlo en forma de *DataFrame* o *Series*.\n",
    "En este punto, los argumentos de la función se vuelven fundamentales, dados los posibles problemas que se pueden generar al cargar de forma inadecuada un archivo. *Pandas* permite realizar tareas de limpieza de datos, que se verá en detalle en la segunda parte de este material.\n",
    "Algunos de los argumentos más importantes a tener en cuenta a la hora de cargar archivos en formato .csv son:\n",
    "\n",
    "*  **`path`**: Ruta del archivo a cargar. Este argumento es el primero en posición y es obligatorio. Esta ruta no se limita a archivos locales, también se consideran URLs remotas.\n",
    "*  **`sep`**: Separador de los elementos del archivo. \n",
    "*  **`header`**: Posición del header. La fila indicada será interpretada como los nombres de las columnas y se cargarán las filas que le precedan. \n",
    "*  **`names`**: Nombres a usar para las columnas cargadas. La longitud de esta lista/arreglo debe coincidir con el número de columnas. \n",
    "*  **`index_col`**: Posición o posiciones de las etiquetas usadas como índice. Si es una lista se crea un índice múltiple. Si se pasa el valor **`False`** se puede indicar a *pandas* que no use la primera columna como el índice del *DataFrame*.\n",
    "*  **`usecols`**: Subconjunto de las columnas cargadas a usar en la generación del *DataFrame*.  \n",
    "*  **`true_values` | `true_values`**: Caracteres que serán interpretados como valores de verdad **`True`** y **`False`**.\n",
    "\n",
    "*  **`skip_rows` | `skip_footer`**: Filas a saltar desde el inicio y desde el final.\n",
    "*  **`nrows`**: Total de filas a cargar. Especialmente útil para conjuntos de datos grandes en donde no nos interese toda la información.\n",
    "*  **`na_values` | `keep_default_na` | `na_filter`**: Herramientas para el tratamiento de datos faltantes. Muy importante en el proceso de limpieza de datos.\n",
    "\n",
    "Además de estos, existen muchos argumentos usados para la definición del formato de origen como la fecha o los números decimales, ofreciendo una gran variedad de opciones en la lectura de conjuntos de datos.\n",
    "\n",
    "\n",
    "  Lo invitamos a consultar la [especificación](https://pandas.pydata.org/pandas-docs/stable/reference/api/pandas.read_csv.html#pandas.read_csv) de la función en la documentación oficial para más detalles sobre cómo usar estos argumentos."
   ]
  },
  {
   "cell_type": "code",
   "execution_count": 55,
   "metadata": {
    "colab": {
     "base_uri": "https://localhost:8080/",
     "height": 439
    },
    "executionInfo": {
     "elapsed": 382,
     "status": "ok",
     "timestamp": 1614118448804,
     "user": {
      "displayName": "Daniel Felipe Fragua Rengifo",
      "photoUrl": "",
      "userId": "09845551813303536248"
     },
     "user_tz": 300
    },
    "id": "BPWU-TbHEV2G",
    "outputId": "66f0e641-d0fc-4f81-d7bf-1640811d823e"
   },
   "outputs": [
    {
     "data": {
      "text/html": [
       "<div>\n",
       "<style scoped>\n",
       "    .dataframe tbody tr th:only-of-type {\n",
       "        vertical-align: middle;\n",
       "    }\n",
       "\n",
       "    .dataframe tbody tr th {\n",
       "        vertical-align: top;\n",
       "    }\n",
       "\n",
       "    .dataframe thead th {\n",
       "        text-align: right;\n",
       "    }\n",
       "</style>\n",
       "<table border=\"1\" class=\"dataframe\">\n",
       "  <thead>\n",
       "    <tr style=\"text-align: right;\">\n",
       "      <th></th>\n",
       "      <th>longitude</th>\n",
       "      <th>latitude</th>\n",
       "      <th>housing_median_age</th>\n",
       "      <th>total_rooms</th>\n",
       "      <th>total_bedrooms</th>\n",
       "      <th>population</th>\n",
       "      <th>households</th>\n",
       "      <th>median_income</th>\n",
       "      <th>median_house_value</th>\n",
       "    </tr>\n",
       "  </thead>\n",
       "  <tbody>\n",
       "    <tr>\n",
       "      <th>0</th>\n",
       "      <td>-122.05</td>\n",
       "      <td>37.37</td>\n",
       "      <td>27.0</td>\n",
       "      <td>3885.0</td>\n",
       "      <td>661.0</td>\n",
       "      <td>1537.0</td>\n",
       "      <td>606.0</td>\n",
       "      <td>6.6085</td>\n",
       "      <td>344700.0</td>\n",
       "    </tr>\n",
       "    <tr>\n",
       "      <th>1</th>\n",
       "      <td>-118.30</td>\n",
       "      <td>34.26</td>\n",
       "      <td>43.0</td>\n",
       "      <td>1510.0</td>\n",
       "      <td>310.0</td>\n",
       "      <td>809.0</td>\n",
       "      <td>277.0</td>\n",
       "      <td>3.5990</td>\n",
       "      <td>176500.0</td>\n",
       "    </tr>\n",
       "    <tr>\n",
       "      <th>2</th>\n",
       "      <td>-117.81</td>\n",
       "      <td>33.78</td>\n",
       "      <td>27.0</td>\n",
       "      <td>3589.0</td>\n",
       "      <td>507.0</td>\n",
       "      <td>1484.0</td>\n",
       "      <td>495.0</td>\n",
       "      <td>5.7934</td>\n",
       "      <td>270500.0</td>\n",
       "    </tr>\n",
       "    <tr>\n",
       "      <th>3</th>\n",
       "      <td>-118.36</td>\n",
       "      <td>33.82</td>\n",
       "      <td>28.0</td>\n",
       "      <td>67.0</td>\n",
       "      <td>15.0</td>\n",
       "      <td>49.0</td>\n",
       "      <td>11.0</td>\n",
       "      <td>6.1359</td>\n",
       "      <td>330000.0</td>\n",
       "    </tr>\n",
       "    <tr>\n",
       "      <th>4</th>\n",
       "      <td>-119.67</td>\n",
       "      <td>36.33</td>\n",
       "      <td>19.0</td>\n",
       "      <td>1241.0</td>\n",
       "      <td>244.0</td>\n",
       "      <td>850.0</td>\n",
       "      <td>237.0</td>\n",
       "      <td>2.9375</td>\n",
       "      <td>81700.0</td>\n",
       "    </tr>\n",
       "    <tr>\n",
       "      <th>...</th>\n",
       "      <td>...</td>\n",
       "      <td>...</td>\n",
       "      <td>...</td>\n",
       "      <td>...</td>\n",
       "      <td>...</td>\n",
       "      <td>...</td>\n",
       "      <td>...</td>\n",
       "      <td>...</td>\n",
       "      <td>...</td>\n",
       "    </tr>\n",
       "    <tr>\n",
       "      <th>2995</th>\n",
       "      <td>-119.86</td>\n",
       "      <td>34.42</td>\n",
       "      <td>23.0</td>\n",
       "      <td>1450.0</td>\n",
       "      <td>642.0</td>\n",
       "      <td>1258.0</td>\n",
       "      <td>607.0</td>\n",
       "      <td>1.1790</td>\n",
       "      <td>225000.0</td>\n",
       "    </tr>\n",
       "    <tr>\n",
       "      <th>2996</th>\n",
       "      <td>-118.14</td>\n",
       "      <td>34.06</td>\n",
       "      <td>27.0</td>\n",
       "      <td>5257.0</td>\n",
       "      <td>1082.0</td>\n",
       "      <td>3496.0</td>\n",
       "      <td>1036.0</td>\n",
       "      <td>3.3906</td>\n",
       "      <td>237200.0</td>\n",
       "    </tr>\n",
       "    <tr>\n",
       "      <th>2997</th>\n",
       "      <td>-119.70</td>\n",
       "      <td>36.30</td>\n",
       "      <td>10.0</td>\n",
       "      <td>956.0</td>\n",
       "      <td>201.0</td>\n",
       "      <td>693.0</td>\n",
       "      <td>220.0</td>\n",
       "      <td>2.2895</td>\n",
       "      <td>62000.0</td>\n",
       "    </tr>\n",
       "    <tr>\n",
       "      <th>2998</th>\n",
       "      <td>-117.12</td>\n",
       "      <td>34.10</td>\n",
       "      <td>40.0</td>\n",
       "      <td>96.0</td>\n",
       "      <td>14.0</td>\n",
       "      <td>46.0</td>\n",
       "      <td>14.0</td>\n",
       "      <td>3.2708</td>\n",
       "      <td>162500.0</td>\n",
       "    </tr>\n",
       "    <tr>\n",
       "      <th>2999</th>\n",
       "      <td>-119.63</td>\n",
       "      <td>34.42</td>\n",
       "      <td>42.0</td>\n",
       "      <td>1765.0</td>\n",
       "      <td>263.0</td>\n",
       "      <td>753.0</td>\n",
       "      <td>260.0</td>\n",
       "      <td>8.5608</td>\n",
       "      <td>500001.0</td>\n",
       "    </tr>\n",
       "  </tbody>\n",
       "</table>\n",
       "<p>3000 rows × 9 columns</p>\n",
       "</div>"
      ],
      "text/plain": [
       "      longitude  latitude  housing_median_age  total_rooms  total_bedrooms  \\\n",
       "0       -122.05     37.37                27.0       3885.0           661.0   \n",
       "1       -118.30     34.26                43.0       1510.0           310.0   \n",
       "2       -117.81     33.78                27.0       3589.0           507.0   \n",
       "3       -118.36     33.82                28.0         67.0            15.0   \n",
       "4       -119.67     36.33                19.0       1241.0           244.0   \n",
       "...         ...       ...                 ...          ...             ...   \n",
       "2995    -119.86     34.42                23.0       1450.0           642.0   \n",
       "2996    -118.14     34.06                27.0       5257.0          1082.0   \n",
       "2997    -119.70     36.30                10.0        956.0           201.0   \n",
       "2998    -117.12     34.10                40.0         96.0            14.0   \n",
       "2999    -119.63     34.42                42.0       1765.0           263.0   \n",
       "\n",
       "      population  households  median_income  median_house_value  \n",
       "0         1537.0       606.0         6.6085            344700.0  \n",
       "1          809.0       277.0         3.5990            176500.0  \n",
       "2         1484.0       495.0         5.7934            270500.0  \n",
       "3           49.0        11.0         6.1359            330000.0  \n",
       "4          850.0       237.0         2.9375             81700.0  \n",
       "...          ...         ...            ...                 ...  \n",
       "2995      1258.0       607.0         1.1790            225000.0  \n",
       "2996      3496.0      1036.0         3.3906            237200.0  \n",
       "2997       693.0       220.0         2.2895             62000.0  \n",
       "2998        46.0        14.0         3.2708            162500.0  \n",
       "2999       753.0       260.0         8.5608            500001.0  \n",
       "\n",
       "[3000 rows x 9 columns]"
      ]
     },
     "execution_count": 55,
     "metadata": {},
     "output_type": "execute_result"
    }
   ],
   "source": [
    "# Carga de conjutno de datos muy popular en el aprendizaje de ciencia de datos.\n",
    "\n",
    "df = pd.read_csv('data/california_housing_test.csv')\n",
    "\n",
    "df"
   ]
  },
  {
   "cell_type": "code",
   "execution_count": 56,
   "metadata": {
    "colab": {
     "base_uri": "https://localhost:8080/",
     "height": 173
    },
    "executionInfo": {
     "elapsed": 532,
     "status": "ok",
     "timestamp": 1614118480680,
     "user": {
      "displayName": "Daniel Felipe Fragua Rengifo",
      "photoUrl": "",
      "userId": "09845551813303536248"
     },
     "user_tz": 300
    },
    "id": "63YaCpsbgUpA",
    "outputId": "d1b4ea43-1b0b-43b8-ddab-6ecc0885f653"
   },
   "outputs": [
    {
     "data": {
      "text/html": [
       "<div>\n",
       "<style scoped>\n",
       "    .dataframe tbody tr th:only-of-type {\n",
       "        vertical-align: middle;\n",
       "    }\n",
       "\n",
       "    .dataframe tbody tr th {\n",
       "        vertical-align: top;\n",
       "    }\n",
       "\n",
       "    .dataframe thead th {\n",
       "        text-align: right;\n",
       "    }\n",
       "</style>\n",
       "<table border=\"1\" class=\"dataframe\">\n",
       "  <thead>\n",
       "    <tr style=\"text-align: right;\">\n",
       "      <th></th>\n",
       "      <th>x</th>\n",
       "      <th>y</th>\n",
       "      <th>z</th>\n",
       "    </tr>\n",
       "  </thead>\n",
       "  <tbody>\n",
       "    <tr>\n",
       "      <th>a</th>\n",
       "      <td>37</td>\n",
       "      <td>35</td>\n",
       "      <td>59</td>\n",
       "    </tr>\n",
       "    <tr>\n",
       "      <th>b</th>\n",
       "      <td>50</td>\n",
       "      <td>76</td>\n",
       "      <td>82</td>\n",
       "    </tr>\n",
       "    <tr>\n",
       "      <th>c</th>\n",
       "      <td>60</td>\n",
       "      <td>22</td>\n",
       "      <td>61</td>\n",
       "    </tr>\n",
       "    <tr>\n",
       "      <th>d</th>\n",
       "      <td>85</td>\n",
       "      <td>25</td>\n",
       "      <td>39</td>\n",
       "    </tr>\n",
       "  </tbody>\n",
       "</table>\n",
       "</div>"
      ],
      "text/plain": [
       "    x   y   z\n",
       "a  37  35  59\n",
       "b  50  76  82\n",
       "c  60  22  61\n",
       "d  85  25  39"
      ]
     },
     "execution_count": 56,
     "metadata": {},
     "output_type": "execute_result"
    }
   ],
   "source": [
    "# Podemos cargar el archivo generado anteriormente. \n",
    "# Recuerde que tiene que haber ejecutado la celda donde se genera o se producirá un error.\n",
    "\n",
    "df = pd.read_csv('data/df_to_csv.txt', index_col=0)\n",
    "df"
   ]
  },
  {
   "cell_type": "markdown",
   "metadata": {
    "id": "0mjrCk62gqIN"
   },
   "source": [
    "####  **3.2.2. Hojas de cálculo | `pd.read_excel`** \n",
    "---\n",
    "*Pandas* permite cargar hojas de cálculo de los formatos *xls*, *xlsx*, *xlsm*, *xlsb*, *odf*, *ods* y *odt*. Al igual que antes, la ruta especificada puede ser local o remota en forma de URL. Algunos argumentos a considerar son:\n",
    "\n",
    "  * El nombre de la hoja a cargar. (**`sheet_name`**)\n",
    "  * Posición del encabezado. (**`header`**)\n",
    "  * Columnas de la hoja de cálculo a usar. Se pueden definir en formato de letras o rangos de letras, notación usada para etiquetar columnas. Expresiones de la forma 'A', 'A,C:E', entre otros. (**`usecols`**)\n",
    "  *  Tipo de dato interpretado por columna. (**`dtype`**)\n",
    "  *  Número de filas a cargar. (**`nrows`**)\n",
    "\n",
    "Además, comparte argumentos de detalles de formato con otras funciones, como se mencionó previamente.\n",
    "\n",
    "  Lo invitamos a consultar la [especificación](https://pandas.pydata.org/pandas-docs/stable/reference/api/pandas.read_excel.html) de la función en la documentación oficial para más detalles sobre cómo usar estos argumentos."
   ]
  },
  {
   "cell_type": "code",
   "execution_count": 57,
   "metadata": {
    "colab": {
     "base_uri": "https://localhost:8080/",
     "height": 173
    },
    "executionInfo": {
     "elapsed": 322,
     "status": "ok",
     "timestamp": 1614118496305,
     "user": {
      "displayName": "Daniel Felipe Fragua Rengifo",
      "photoUrl": "",
      "userId": "09845551813303536248"
     },
     "user_tz": 300
    },
    "id": "Ukh7qQJoj6s2",
    "outputId": "8b3605da-c90e-49ce-f9df-478f6a0a1dd2"
   },
   "outputs": [
    {
     "data": {
      "text/html": [
       "<div>\n",
       "<style scoped>\n",
       "    .dataframe tbody tr th:only-of-type {\n",
       "        vertical-align: middle;\n",
       "    }\n",
       "\n",
       "    .dataframe tbody tr th {\n",
       "        vertical-align: top;\n",
       "    }\n",
       "\n",
       "    .dataframe thead th {\n",
       "        text-align: right;\n",
       "    }\n",
       "</style>\n",
       "<table border=\"1\" class=\"dataframe\">\n",
       "  <thead>\n",
       "    <tr style=\"text-align: right;\">\n",
       "      <th></th>\n",
       "      <th>x</th>\n",
       "      <th>y</th>\n",
       "      <th>z</th>\n",
       "    </tr>\n",
       "  </thead>\n",
       "  <tbody>\n",
       "    <tr>\n",
       "      <th>a</th>\n",
       "      <td>37</td>\n",
       "      <td>35</td>\n",
       "      <td>59</td>\n",
       "    </tr>\n",
       "    <tr>\n",
       "      <th>b</th>\n",
       "      <td>50</td>\n",
       "      <td>76</td>\n",
       "      <td>82</td>\n",
       "    </tr>\n",
       "    <tr>\n",
       "      <th>c</th>\n",
       "      <td>60</td>\n",
       "      <td>22</td>\n",
       "      <td>61</td>\n",
       "    </tr>\n",
       "    <tr>\n",
       "      <th>d</th>\n",
       "      <td>85</td>\n",
       "      <td>25</td>\n",
       "      <td>39</td>\n",
       "    </tr>\n",
       "  </tbody>\n",
       "</table>\n",
       "</div>"
      ],
      "text/plain": [
       "    x   y   z\n",
       "a  37  35  59\n",
       "b  50  76  82\n",
       "c  60  22  61\n",
       "d  85  25  39"
      ]
     },
     "execution_count": 57,
     "metadata": {},
     "output_type": "execute_result"
    }
   ],
   "source": [
    "pd.read_excel('data/df_to_excel.xlsx', index_col=0)"
   ]
  },
  {
   "cell_type": "markdown",
   "metadata": {
    "id": "kVGdzVw5gqIP"
   },
   "source": [
    "####  **3.2.3. JSON | `pd.read_json`** \n",
    "---\n",
    "En la sección anterior se discutían los métodos para almacenar un objeto mediante el argumento **`orient`**, y se recuerda pues es importante al definir la forma en que se va a cargar un archivo codificado con este estándar en *pandas*. Además de este, otros argumentos a considerar son:\n",
    "\n",
    "\n",
    "  *  Tipo de objeto (*Series* o *DataFrame*) a recuperar. ( **`typ`**)\n",
    "  *  Opciones de formato de fechas específicos de este estándar  (**`convert_dates`** |  **`keep_default_dates`**)\n",
    "\n",
    "Al igual que antes, comparte argumentos de detalles de formato con otras funciones.\n",
    "\n",
    "Lo invitamos a consultar la [especificación](https://pandas.pydata.org/pandas-docs/stable/reference/api/pandas.read_json.html) de la función en la documentación oficial para más detalles sobre cómo usar estos argumentos."
   ]
  },
  {
   "cell_type": "code",
   "execution_count": 58,
   "metadata": {},
   "outputs": [
    {
     "name": "stdout",
     "output_type": "stream",
     "text": [
      "{\"x\":{\"a\":37,\"b\":50,\"c\":60,\"d\":85},\"y\":{\"a\":35,\"b\":76,\"c\":22,\"d\":25},\"z\":{\"a\":59,\"b\":82,\"c\":61,\"d\":39}}"
     ]
    }
   ],
   "source": [
    "!cat data/df_to_json.json"
   ]
  },
  {
   "cell_type": "code",
   "execution_count": 59,
   "metadata": {
    "id": "KcE_Ghz5wVv-"
   },
   "outputs": [
    {
     "data": {
      "text/html": [
       "<div>\n",
       "<style scoped>\n",
       "    .dataframe tbody tr th:only-of-type {\n",
       "        vertical-align: middle;\n",
       "    }\n",
       "\n",
       "    .dataframe tbody tr th {\n",
       "        vertical-align: top;\n",
       "    }\n",
       "\n",
       "    .dataframe thead th {\n",
       "        text-align: right;\n",
       "    }\n",
       "</style>\n",
       "<table border=\"1\" class=\"dataframe\">\n",
       "  <thead>\n",
       "    <tr style=\"text-align: right;\">\n",
       "      <th></th>\n",
       "      <th>x</th>\n",
       "      <th>y</th>\n",
       "      <th>z</th>\n",
       "    </tr>\n",
       "  </thead>\n",
       "  <tbody>\n",
       "    <tr>\n",
       "      <th>a</th>\n",
       "      <td>37</td>\n",
       "      <td>35</td>\n",
       "      <td>59</td>\n",
       "    </tr>\n",
       "    <tr>\n",
       "      <th>b</th>\n",
       "      <td>50</td>\n",
       "      <td>76</td>\n",
       "      <td>82</td>\n",
       "    </tr>\n",
       "    <tr>\n",
       "      <th>c</th>\n",
       "      <td>60</td>\n",
       "      <td>22</td>\n",
       "      <td>61</td>\n",
       "    </tr>\n",
       "    <tr>\n",
       "      <th>d</th>\n",
       "      <td>85</td>\n",
       "      <td>25</td>\n",
       "      <td>39</td>\n",
       "    </tr>\n",
       "  </tbody>\n",
       "</table>\n",
       "</div>"
      ],
      "text/plain": [
       "    x   y   z\n",
       "a  37  35  59\n",
       "b  50  76  82\n",
       "c  60  22  61\n",
       "d  85  25  39"
      ]
     },
     "execution_count": 59,
     "metadata": {},
     "output_type": "execute_result"
    }
   ],
   "source": [
    "df = pd.read_json('data/df_to_json.json')\n",
    "\n",
    "df"
   ]
  },
  {
   "cell_type": "markdown",
   "metadata": {
    "id": "Hc7Rgl10wmg3"
   },
   "source": [
    "El siguiente ejemplo se realizará con el *dataset* del ejemplo del Cuarteto de Anscombe"
   ]
  },
  {
   "cell_type": "code",
   "execution_count": 60,
   "metadata": {
    "id": "2XtalDG9wANZ"
   },
   "outputs": [
    {
     "name": "stdout",
     "output_type": "stream",
     "text": [
      "[\n",
      "  {\"Series\":\"I\", \"X\":10.0, \"Y\":8.04},\n",
      "  {\"Series\":\"I\", \"X\":8.0, \"Y\":6.95},\n",
      "  {\"Series\":\"I\", \"X\":13.0, \"Y\":7.58},\n",
      "  {\"Series\":\"I\", \"X\":9.0, \"Y\":8.81},\n",
      "  {\"Series\":\"I\", \"X\":11.0, \"Y\":8.33},\n",
      "  {\"Series\":\"I\", \"X\":14.0, \"Y\":9.96},\n",
      "  {\"Series\":\"I\", \"X\":6.0, \"Y\":7.24},\n",
      "  {\"Series\":\"I\", \"X\":4.0, \"Y\":4.26},\n",
      "  {\"Series\":\"I\", \"X\":12.0, \"Y\":10.84},\n",
      "  {\"Series\":\"I\", \"X\":7.0, \"Y\":4.81},\n",
      "  {\"Series\":\"I\", \"X\":5.0, \"Y\":5.68},\n",
      "\n",
      "  {\"Series\":\"II\", \"X\":10.0, \"Y\":9.14},\n",
      "  {\"Series\":\"II\", \"X\":8.0, \"Y\":8.14},\n",
      "  {\"Series\":\"II\", \"X\":13.0, \"Y\":8.74},\n",
      "  {\"Series\":\"II\", \"X\":9.0, \"Y\":8.77},\n",
      "  {\"Series\":\"II\", \"X\":11.0, \"Y\":9.26},\n",
      "  {\"Series\":\"II\", \"X\":14.0, \"Y\":8.10},\n",
      "  {\"Series\":\"II\", \"X\":6.0, \"Y\":6.13},\n",
      "  {\"Series\":\"II\", \"X\":4.0, \"Y\":3.10},\n",
      "  {\"Series\":\"II\", \"X\":12.0, \"Y\":9.13},\n",
      "  {\"Series\":\"II\", \"X\":7.0, \"Y\":7.26},\n",
      "  {\"Series\":\"II\", \"X\":5.0, \"Y\":4.74},\n",
      "\n",
      "  {\"Series\":\"III\", \"X\":10.0, \"Y\":7.46},\n",
      "  {\"Series\":\"III\", \"X\":8.0, \"Y\":6.77},\n",
      "  {\"Series\":\"III\", \"X\":13.0, \"Y\":12.74},\n",
      "  {\"Series\":\"III\", \"X\":9.0, \"Y\":7.11},\n",
      "  {\"Series\":\"III\", \"X\":11.0, \"Y\":7.81},\n",
      "  {\"Series\":\"III\", \"X\":14.0, \"Y\":8.84},\n",
      "  {\"Series\":\"III\", \"X\":6.0, \"Y\":6.08},\n",
      "  {\"Series\":\"III\", \"X\":4.0, \"Y\":5.39},\n",
      "  {\"Series\":\"III\", \"X\":12.0, \"Y\":8.15},\n",
      "  {\"Series\":\"III\", \"X\":7.0, \"Y\":6.42},\n",
      "  {\"Series\":\"III\", \"X\":5.0, \"Y\":5.73},\n",
      "\n",
      "  {\"Series\":\"IV\", \"X\":8.0, \"Y\":6.58},\n",
      "  {\"Series\":\"IV\", \"X\":8.0, \"Y\":5.76},\n",
      "  {\"Series\":\"IV\", \"X\":8.0, \"Y\":7.71},\n",
      "  {\"Series\":\"IV\", \"X\":8.0, \"Y\":8.84},\n",
      "  {\"Series\":\"IV\", \"X\":8.0, \"Y\":8.47},\n",
      "  {\"Series\":\"IV\", \"X\":8.0, \"Y\":7.04},\n",
      "  {\"Series\":\"IV\", \"X\":8.0, \"Y\":5.25},\n",
      "  {\"Series\":\"IV\", \"X\":19.0, \"Y\":12.50},\n",
      "  {\"Series\":\"IV\", \"X\":8.0, \"Y\":5.56},\n",
      "  {\"Series\":\"IV\", \"X\":8.0, \"Y\":7.91},\n",
      "  {\"Series\":\"IV\", \"X\":8.0, \"Y\":6.89}\n",
      "]\n"
     ]
    }
   ],
   "source": [
    "#Primero debemos ver en qué formato se encuentra\n",
    "!cat data/anscombe.json"
   ]
  },
  {
   "cell_type": "code",
   "execution_count": 61,
   "metadata": {
    "id": "GwkunIStxLQI"
   },
   "outputs": [
    {
     "data": {
      "text/html": [
       "<div>\n",
       "<style scoped>\n",
       "    .dataframe tbody tr th:only-of-type {\n",
       "        vertical-align: middle;\n",
       "    }\n",
       "\n",
       "    .dataframe tbody tr th {\n",
       "        vertical-align: top;\n",
       "    }\n",
       "\n",
       "    .dataframe thead th {\n",
       "        text-align: right;\n",
       "    }\n",
       "</style>\n",
       "<table border=\"1\" class=\"dataframe\">\n",
       "  <thead>\n",
       "    <tr style=\"text-align: right;\">\n",
       "      <th></th>\n",
       "      <th>Series</th>\n",
       "      <th>X</th>\n",
       "      <th>Y</th>\n",
       "    </tr>\n",
       "  </thead>\n",
       "  <tbody>\n",
       "    <tr>\n",
       "      <th>0</th>\n",
       "      <td>I</td>\n",
       "      <td>10</td>\n",
       "      <td>8.04</td>\n",
       "    </tr>\n",
       "    <tr>\n",
       "      <th>1</th>\n",
       "      <td>I</td>\n",
       "      <td>8</td>\n",
       "      <td>6.95</td>\n",
       "    </tr>\n",
       "    <tr>\n",
       "      <th>2</th>\n",
       "      <td>I</td>\n",
       "      <td>13</td>\n",
       "      <td>7.58</td>\n",
       "    </tr>\n",
       "    <tr>\n",
       "      <th>3</th>\n",
       "      <td>I</td>\n",
       "      <td>9</td>\n",
       "      <td>8.81</td>\n",
       "    </tr>\n",
       "    <tr>\n",
       "      <th>4</th>\n",
       "      <td>I</td>\n",
       "      <td>11</td>\n",
       "      <td>8.33</td>\n",
       "    </tr>\n",
       "    <tr>\n",
       "      <th>5</th>\n",
       "      <td>I</td>\n",
       "      <td>14</td>\n",
       "      <td>9.96</td>\n",
       "    </tr>\n",
       "    <tr>\n",
       "      <th>6</th>\n",
       "      <td>I</td>\n",
       "      <td>6</td>\n",
       "      <td>7.24</td>\n",
       "    </tr>\n",
       "    <tr>\n",
       "      <th>7</th>\n",
       "      <td>I</td>\n",
       "      <td>4</td>\n",
       "      <td>4.26</td>\n",
       "    </tr>\n",
       "    <tr>\n",
       "      <th>8</th>\n",
       "      <td>I</td>\n",
       "      <td>12</td>\n",
       "      <td>10.84</td>\n",
       "    </tr>\n",
       "    <tr>\n",
       "      <th>9</th>\n",
       "      <td>I</td>\n",
       "      <td>7</td>\n",
       "      <td>4.81</td>\n",
       "    </tr>\n",
       "    <tr>\n",
       "      <th>10</th>\n",
       "      <td>I</td>\n",
       "      <td>5</td>\n",
       "      <td>5.68</td>\n",
       "    </tr>\n",
       "    <tr>\n",
       "      <th>11</th>\n",
       "      <td>II</td>\n",
       "      <td>10</td>\n",
       "      <td>9.14</td>\n",
       "    </tr>\n",
       "    <tr>\n",
       "      <th>12</th>\n",
       "      <td>II</td>\n",
       "      <td>8</td>\n",
       "      <td>8.14</td>\n",
       "    </tr>\n",
       "    <tr>\n",
       "      <th>13</th>\n",
       "      <td>II</td>\n",
       "      <td>13</td>\n",
       "      <td>8.74</td>\n",
       "    </tr>\n",
       "    <tr>\n",
       "      <th>14</th>\n",
       "      <td>II</td>\n",
       "      <td>9</td>\n",
       "      <td>8.77</td>\n",
       "    </tr>\n",
       "    <tr>\n",
       "      <th>15</th>\n",
       "      <td>II</td>\n",
       "      <td>11</td>\n",
       "      <td>9.26</td>\n",
       "    </tr>\n",
       "    <tr>\n",
       "      <th>16</th>\n",
       "      <td>II</td>\n",
       "      <td>14</td>\n",
       "      <td>8.10</td>\n",
       "    </tr>\n",
       "    <tr>\n",
       "      <th>17</th>\n",
       "      <td>II</td>\n",
       "      <td>6</td>\n",
       "      <td>6.13</td>\n",
       "    </tr>\n",
       "    <tr>\n",
       "      <th>18</th>\n",
       "      <td>II</td>\n",
       "      <td>4</td>\n",
       "      <td>3.10</td>\n",
       "    </tr>\n",
       "    <tr>\n",
       "      <th>19</th>\n",
       "      <td>II</td>\n",
       "      <td>12</td>\n",
       "      <td>9.13</td>\n",
       "    </tr>\n",
       "    <tr>\n",
       "      <th>20</th>\n",
       "      <td>II</td>\n",
       "      <td>7</td>\n",
       "      <td>7.26</td>\n",
       "    </tr>\n",
       "    <tr>\n",
       "      <th>21</th>\n",
       "      <td>II</td>\n",
       "      <td>5</td>\n",
       "      <td>4.74</td>\n",
       "    </tr>\n",
       "    <tr>\n",
       "      <th>22</th>\n",
       "      <td>III</td>\n",
       "      <td>10</td>\n",
       "      <td>7.46</td>\n",
       "    </tr>\n",
       "    <tr>\n",
       "      <th>23</th>\n",
       "      <td>III</td>\n",
       "      <td>8</td>\n",
       "      <td>6.77</td>\n",
       "    </tr>\n",
       "    <tr>\n",
       "      <th>24</th>\n",
       "      <td>III</td>\n",
       "      <td>13</td>\n",
       "      <td>12.74</td>\n",
       "    </tr>\n",
       "    <tr>\n",
       "      <th>25</th>\n",
       "      <td>III</td>\n",
       "      <td>9</td>\n",
       "      <td>7.11</td>\n",
       "    </tr>\n",
       "    <tr>\n",
       "      <th>26</th>\n",
       "      <td>III</td>\n",
       "      <td>11</td>\n",
       "      <td>7.81</td>\n",
       "    </tr>\n",
       "    <tr>\n",
       "      <th>27</th>\n",
       "      <td>III</td>\n",
       "      <td>14</td>\n",
       "      <td>8.84</td>\n",
       "    </tr>\n",
       "    <tr>\n",
       "      <th>28</th>\n",
       "      <td>III</td>\n",
       "      <td>6</td>\n",
       "      <td>6.08</td>\n",
       "    </tr>\n",
       "    <tr>\n",
       "      <th>29</th>\n",
       "      <td>III</td>\n",
       "      <td>4</td>\n",
       "      <td>5.39</td>\n",
       "    </tr>\n",
       "    <tr>\n",
       "      <th>30</th>\n",
       "      <td>III</td>\n",
       "      <td>12</td>\n",
       "      <td>8.15</td>\n",
       "    </tr>\n",
       "    <tr>\n",
       "      <th>31</th>\n",
       "      <td>III</td>\n",
       "      <td>7</td>\n",
       "      <td>6.42</td>\n",
       "    </tr>\n",
       "    <tr>\n",
       "      <th>32</th>\n",
       "      <td>III</td>\n",
       "      <td>5</td>\n",
       "      <td>5.73</td>\n",
       "    </tr>\n",
       "    <tr>\n",
       "      <th>33</th>\n",
       "      <td>IV</td>\n",
       "      <td>8</td>\n",
       "      <td>6.58</td>\n",
       "    </tr>\n",
       "    <tr>\n",
       "      <th>34</th>\n",
       "      <td>IV</td>\n",
       "      <td>8</td>\n",
       "      <td>5.76</td>\n",
       "    </tr>\n",
       "    <tr>\n",
       "      <th>35</th>\n",
       "      <td>IV</td>\n",
       "      <td>8</td>\n",
       "      <td>7.71</td>\n",
       "    </tr>\n",
       "    <tr>\n",
       "      <th>36</th>\n",
       "      <td>IV</td>\n",
       "      <td>8</td>\n",
       "      <td>8.84</td>\n",
       "    </tr>\n",
       "    <tr>\n",
       "      <th>37</th>\n",
       "      <td>IV</td>\n",
       "      <td>8</td>\n",
       "      <td>8.47</td>\n",
       "    </tr>\n",
       "    <tr>\n",
       "      <th>38</th>\n",
       "      <td>IV</td>\n",
       "      <td>8</td>\n",
       "      <td>7.04</td>\n",
       "    </tr>\n",
       "    <tr>\n",
       "      <th>39</th>\n",
       "      <td>IV</td>\n",
       "      <td>8</td>\n",
       "      <td>5.25</td>\n",
       "    </tr>\n",
       "    <tr>\n",
       "      <th>40</th>\n",
       "      <td>IV</td>\n",
       "      <td>19</td>\n",
       "      <td>12.50</td>\n",
       "    </tr>\n",
       "    <tr>\n",
       "      <th>41</th>\n",
       "      <td>IV</td>\n",
       "      <td>8</td>\n",
       "      <td>5.56</td>\n",
       "    </tr>\n",
       "    <tr>\n",
       "      <th>42</th>\n",
       "      <td>IV</td>\n",
       "      <td>8</td>\n",
       "      <td>7.91</td>\n",
       "    </tr>\n",
       "    <tr>\n",
       "      <th>43</th>\n",
       "      <td>IV</td>\n",
       "      <td>8</td>\n",
       "      <td>6.89</td>\n",
       "    </tr>\n",
       "  </tbody>\n",
       "</table>\n",
       "</div>"
      ],
      "text/plain": [
       "   Series   X      Y\n",
       "0       I  10   8.04\n",
       "1       I   8   6.95\n",
       "2       I  13   7.58\n",
       "3       I   9   8.81\n",
       "4       I  11   8.33\n",
       "5       I  14   9.96\n",
       "6       I   6   7.24\n",
       "7       I   4   4.26\n",
       "8       I  12  10.84\n",
       "9       I   7   4.81\n",
       "10      I   5   5.68\n",
       "11     II  10   9.14\n",
       "12     II   8   8.14\n",
       "13     II  13   8.74\n",
       "14     II   9   8.77\n",
       "15     II  11   9.26\n",
       "16     II  14   8.10\n",
       "17     II   6   6.13\n",
       "18     II   4   3.10\n",
       "19     II  12   9.13\n",
       "20     II   7   7.26\n",
       "21     II   5   4.74\n",
       "22    III  10   7.46\n",
       "23    III   8   6.77\n",
       "24    III  13  12.74\n",
       "25    III   9   7.11\n",
       "26    III  11   7.81\n",
       "27    III  14   8.84\n",
       "28    III   6   6.08\n",
       "29    III   4   5.39\n",
       "30    III  12   8.15\n",
       "31    III   7   6.42\n",
       "32    III   5   5.73\n",
       "33     IV   8   6.58\n",
       "34     IV   8   5.76\n",
       "35     IV   8   7.71\n",
       "36     IV   8   8.84\n",
       "37     IV   8   8.47\n",
       "38     IV   8   7.04\n",
       "39     IV   8   5.25\n",
       "40     IV  19  12.50\n",
       "41     IV   8   5.56\n",
       "42     IV   8   7.91\n",
       "43     IV   8   6.89"
      ]
     },
     "execution_count": 61,
     "metadata": {},
     "output_type": "execute_result"
    }
   ],
   "source": [
    "df = pd.read_json('data/anscombe.json', orient = 'records')\n",
    "\n",
    "df"
   ]
  },
  {
   "cell_type": "markdown",
   "metadata": {
    "id": "lENI-UDygqIQ"
   },
   "source": [
    "####  **3.2.4. HTML | `pd.read_html`** \n",
    "---\n",
    "Este método permite leer páginas web (usando los protocolos *http*, *ftp* y *file* de URL) en busca de tablas HTML, que son retornadas en una lista de objetos *DataFrame*. Algunos argumentos de interés son:\n",
    "\n",
    "  *  Cadena de texto o expresión regular a buscar en el contenido de las tablas. Si se especifica, solo las tablas que cumplan con esta condición serán cargadas. (**`match`**)\n",
    "\n",
    "  * Etiquetas o atributos HTML usados para identificar una tabla en particular. (**`attrs`**)\n",
    "\n",
    "Lo invitamos a consultar la [especificación](https://pandas.pydata.org/pandas-docs/stable/reference/api/pandas.read_html.html) de la función en la documentación oficial para más detalles sobre cómo usar estos argumentos."
   ]
  },
  {
   "cell_type": "code",
   "execution_count": 62,
   "metadata": {
    "id": "kAJCeeFLyB4K"
   },
   "outputs": [
    {
     "data": {
      "text/html": [
       "<div>\n",
       "<style scoped>\n",
       "    .dataframe tbody tr th:only-of-type {\n",
       "        vertical-align: middle;\n",
       "    }\n",
       "\n",
       "    .dataframe tbody tr th {\n",
       "        vertical-align: top;\n",
       "    }\n",
       "\n",
       "    .dataframe thead th {\n",
       "        text-align: right;\n",
       "    }\n",
       "</style>\n",
       "<table border=\"1\" class=\"dataframe\">\n",
       "  <thead>\n",
       "    <tr style=\"text-align: right;\">\n",
       "      <th></th>\n",
       "      <th>Team</th>\n",
       "      <th>Titles</th>\n",
       "      <th>Runners-up</th>\n",
       "      <th>Third place</th>\n",
       "      <th>Fourth place</th>\n",
       "      <th>Top 4 total</th>\n",
       "    </tr>\n",
       "  </thead>\n",
       "  <tbody>\n",
       "    <tr>\n",
       "      <th>0</th>\n",
       "      <td>Brazil</td>\n",
       "      <td>5 (1958, 1962, 1970, 1994, 2002)</td>\n",
       "      <td>2 (1950*, 1998)</td>\n",
       "      <td>2 (1938, 1978)</td>\n",
       "      <td>2 (1974, 2014*)</td>\n",
       "      <td>11</td>\n",
       "    </tr>\n",
       "    <tr>\n",
       "      <th>1</th>\n",
       "      <td>Germany1</td>\n",
       "      <td>4 (1954, 1974*, 1990, 2014)</td>\n",
       "      <td>4 (1966, 1982, 1986, 2002)</td>\n",
       "      <td>4 (1934, 1970, 2006*, 2010)</td>\n",
       "      <td>1 (1958)</td>\n",
       "      <td>13</td>\n",
       "    </tr>\n",
       "    <tr>\n",
       "      <th>2</th>\n",
       "      <td>Italy</td>\n",
       "      <td>4 (1934*, 1938, 1982, 2006)</td>\n",
       "      <td>2 (1970, 1994)</td>\n",
       "      <td>1 (1990*)</td>\n",
       "      <td>1 (1978)</td>\n",
       "      <td>8</td>\n",
       "    </tr>\n",
       "    <tr>\n",
       "      <th>3</th>\n",
       "      <td>Argentina</td>\n",
       "      <td>3 (1978*, 1986, 2022)</td>\n",
       "      <td>3 (1930, 1990, 2014)</td>\n",
       "      <td>NaN</td>\n",
       "      <td>NaN</td>\n",
       "      <td>6</td>\n",
       "    </tr>\n",
       "    <tr>\n",
       "      <th>4</th>\n",
       "      <td>France</td>\n",
       "      <td>2 (1998*, 2018)</td>\n",
       "      <td>2 (2006, 2022)</td>\n",
       "      <td>2 (1958, 1986)</td>\n",
       "      <td>1 (1982)</td>\n",
       "      <td>7</td>\n",
       "    </tr>\n",
       "    <tr>\n",
       "      <th>5</th>\n",
       "      <td>Uruguay</td>\n",
       "      <td>2 (1930*, 1950)</td>\n",
       "      <td>NaN</td>\n",
       "      <td>NaN</td>\n",
       "      <td>3 (1954, 1970, 2010)</td>\n",
       "      <td>5</td>\n",
       "    </tr>\n",
       "    <tr>\n",
       "      <th>6</th>\n",
       "      <td>England</td>\n",
       "      <td>1 (1966*)</td>\n",
       "      <td>NaN</td>\n",
       "      <td>NaN</td>\n",
       "      <td>2 (1990, 2018)</td>\n",
       "      <td>3</td>\n",
       "    </tr>\n",
       "    <tr>\n",
       "      <th>7</th>\n",
       "      <td>Spain</td>\n",
       "      <td>1 (2010)</td>\n",
       "      <td>NaN</td>\n",
       "      <td>NaN</td>\n",
       "      <td>1 (1950)</td>\n",
       "      <td>2</td>\n",
       "    </tr>\n",
       "    <tr>\n",
       "      <th>8</th>\n",
       "      <td>Netherlands</td>\n",
       "      <td>NaN</td>\n",
       "      <td>3 (1974, 1978, 2010)</td>\n",
       "      <td>1 (2014)</td>\n",
       "      <td>1 (1998)</td>\n",
       "      <td>5</td>\n",
       "    </tr>\n",
       "    <tr>\n",
       "      <th>9</th>\n",
       "      <td>Hungary</td>\n",
       "      <td>NaN</td>\n",
       "      <td>2 (1938, 1954)</td>\n",
       "      <td>NaN</td>\n",
       "      <td>NaN</td>\n",
       "      <td>2</td>\n",
       "    </tr>\n",
       "    <tr>\n",
       "      <th>10</th>\n",
       "      <td>Czechoslovakia</td>\n",
       "      <td>NaN</td>\n",
       "      <td>2 (1934, 1962)</td>\n",
       "      <td>NaN</td>\n",
       "      <td>NaN</td>\n",
       "      <td>2</td>\n",
       "    </tr>\n",
       "    <tr>\n",
       "      <th>11</th>\n",
       "      <td>Sweden</td>\n",
       "      <td>NaN</td>\n",
       "      <td>1 (1958*)</td>\n",
       "      <td>2 (1950, 1994)</td>\n",
       "      <td>1 (1938)</td>\n",
       "      <td>4</td>\n",
       "    </tr>\n",
       "    <tr>\n",
       "      <th>12</th>\n",
       "      <td>Croatia</td>\n",
       "      <td>NaN</td>\n",
       "      <td>1 (2018)</td>\n",
       "      <td>2 (1998, 2022)</td>\n",
       "      <td>NaN</td>\n",
       "      <td>3</td>\n",
       "    </tr>\n",
       "    <tr>\n",
       "      <th>13</th>\n",
       "      <td>Poland</td>\n",
       "      <td>NaN</td>\n",
       "      <td>NaN</td>\n",
       "      <td>2 (1974, 1982)</td>\n",
       "      <td>NaN</td>\n",
       "      <td>2</td>\n",
       "    </tr>\n",
       "    <tr>\n",
       "      <th>14</th>\n",
       "      <td>Austria</td>\n",
       "      <td>NaN</td>\n",
       "      <td>NaN</td>\n",
       "      <td>1 (1954)</td>\n",
       "      <td>1 (1934)</td>\n",
       "      <td>2</td>\n",
       "    </tr>\n",
       "    <tr>\n",
       "      <th>15</th>\n",
       "      <td>Portugal</td>\n",
       "      <td>NaN</td>\n",
       "      <td>NaN</td>\n",
       "      <td>1 (1966)</td>\n",
       "      <td>1 (2006)</td>\n",
       "      <td>2</td>\n",
       "    </tr>\n",
       "    <tr>\n",
       "      <th>16</th>\n",
       "      <td>Belgium</td>\n",
       "      <td>NaN</td>\n",
       "      <td>NaN</td>\n",
       "      <td>1 (2018)</td>\n",
       "      <td>1 (1986)</td>\n",
       "      <td>2</td>\n",
       "    </tr>\n",
       "    <tr>\n",
       "      <th>17</th>\n",
       "      <td>United States</td>\n",
       "      <td>NaN</td>\n",
       "      <td>NaN</td>\n",
       "      <td>1 (1930)</td>\n",
       "      <td>NaN</td>\n",
       "      <td>1</td>\n",
       "    </tr>\n",
       "    <tr>\n",
       "      <th>18</th>\n",
       "      <td>Chile</td>\n",
       "      <td>NaN</td>\n",
       "      <td>NaN</td>\n",
       "      <td>1 (1962*)</td>\n",
       "      <td>NaN</td>\n",
       "      <td>1</td>\n",
       "    </tr>\n",
       "    <tr>\n",
       "      <th>19</th>\n",
       "      <td>Turkey</td>\n",
       "      <td>NaN</td>\n",
       "      <td>NaN</td>\n",
       "      <td>1 (2002)</td>\n",
       "      <td>NaN</td>\n",
       "      <td>1</td>\n",
       "    </tr>\n",
       "    <tr>\n",
       "      <th>20</th>\n",
       "      <td>Yugoslavia</td>\n",
       "      <td>NaN</td>\n",
       "      <td>NaN</td>\n",
       "      <td>NaN</td>\n",
       "      <td>2 (1930, 1962)</td>\n",
       "      <td>2</td>\n",
       "    </tr>\n",
       "    <tr>\n",
       "      <th>21</th>\n",
       "      <td>Soviet Union</td>\n",
       "      <td>NaN</td>\n",
       "      <td>NaN</td>\n",
       "      <td>NaN</td>\n",
       "      <td>1 (1966)</td>\n",
       "      <td>1</td>\n",
       "    </tr>\n",
       "    <tr>\n",
       "      <th>22</th>\n",
       "      <td>Bulgaria</td>\n",
       "      <td>NaN</td>\n",
       "      <td>NaN</td>\n",
       "      <td>NaN</td>\n",
       "      <td>1 (1994)</td>\n",
       "      <td>1</td>\n",
       "    </tr>\n",
       "    <tr>\n",
       "      <th>23</th>\n",
       "      <td>South Korea</td>\n",
       "      <td>NaN</td>\n",
       "      <td>NaN</td>\n",
       "      <td>NaN</td>\n",
       "      <td>1 (2002*)</td>\n",
       "      <td>1</td>\n",
       "    </tr>\n",
       "    <tr>\n",
       "      <th>24</th>\n",
       "      <td>Morocco</td>\n",
       "      <td>NaN</td>\n",
       "      <td>NaN</td>\n",
       "      <td>NaN</td>\n",
       "      <td>1 (2022)</td>\n",
       "      <td>1</td>\n",
       "    </tr>\n",
       "  </tbody>\n",
       "</table>\n",
       "</div>"
      ],
      "text/plain": [
       "              Team                            Titles  \\\n",
       "0           Brazil  5 (1958, 1962, 1970, 1994, 2002)   \n",
       "1         Germany1       4 (1954, 1974*, 1990, 2014)   \n",
       "2            Italy       4 (1934*, 1938, 1982, 2006)   \n",
       "3        Argentina             3 (1978*, 1986, 2022)   \n",
       "4           France                   2 (1998*, 2018)   \n",
       "5          Uruguay                   2 (1930*, 1950)   \n",
       "6          England                         1 (1966*)   \n",
       "7            Spain                          1 (2010)   \n",
       "8      Netherlands                               NaN   \n",
       "9          Hungary                               NaN   \n",
       "10  Czechoslovakia                               NaN   \n",
       "11          Sweden                               NaN   \n",
       "12         Croatia                               NaN   \n",
       "13          Poland                               NaN   \n",
       "14         Austria                               NaN   \n",
       "15        Portugal                               NaN   \n",
       "16         Belgium                               NaN   \n",
       "17   United States                               NaN   \n",
       "18           Chile                               NaN   \n",
       "19          Turkey                               NaN   \n",
       "20      Yugoslavia                               NaN   \n",
       "21    Soviet Union                               NaN   \n",
       "22        Bulgaria                               NaN   \n",
       "23     South Korea                               NaN   \n",
       "24         Morocco                               NaN   \n",
       "\n",
       "                    Runners-up                  Third place  \\\n",
       "0              2 (1950*, 1998)               2 (1938, 1978)   \n",
       "1   4 (1966, 1982, 1986, 2002)  4 (1934, 1970, 2006*, 2010)   \n",
       "2               2 (1970, 1994)                    1 (1990*)   \n",
       "3         3 (1930, 1990, 2014)                          NaN   \n",
       "4               2 (2006, 2022)               2 (1958, 1986)   \n",
       "5                          NaN                          NaN   \n",
       "6                          NaN                          NaN   \n",
       "7                          NaN                          NaN   \n",
       "8         3 (1974, 1978, 2010)                     1 (2014)   \n",
       "9               2 (1938, 1954)                          NaN   \n",
       "10              2 (1934, 1962)                          NaN   \n",
       "11                   1 (1958*)               2 (1950, 1994)   \n",
       "12                    1 (2018)               2 (1998, 2022)   \n",
       "13                         NaN               2 (1974, 1982)   \n",
       "14                         NaN                     1 (1954)   \n",
       "15                         NaN                     1 (1966)   \n",
       "16                         NaN                     1 (2018)   \n",
       "17                         NaN                     1 (1930)   \n",
       "18                         NaN                    1 (1962*)   \n",
       "19                         NaN                     1 (2002)   \n",
       "20                         NaN                          NaN   \n",
       "21                         NaN                          NaN   \n",
       "22                         NaN                          NaN   \n",
       "23                         NaN                          NaN   \n",
       "24                         NaN                          NaN   \n",
       "\n",
       "            Fourth place  Top 4 total  \n",
       "0        2 (1974, 2014*)           11  \n",
       "1               1 (1958)           13  \n",
       "2               1 (1978)            8  \n",
       "3                    NaN            6  \n",
       "4               1 (1982)            7  \n",
       "5   3 (1954, 1970, 2010)            5  \n",
       "6         2 (1990, 2018)            3  \n",
       "7               1 (1950)            2  \n",
       "8               1 (1998)            5  \n",
       "9                    NaN            2  \n",
       "10                   NaN            2  \n",
       "11              1 (1938)            4  \n",
       "12                   NaN            3  \n",
       "13                   NaN            2  \n",
       "14              1 (1934)            2  \n",
       "15              1 (2006)            2  \n",
       "16              1 (1986)            2  \n",
       "17                   NaN            1  \n",
       "18                   NaN            1  \n",
       "19                   NaN            1  \n",
       "20        2 (1930, 1962)            2  \n",
       "21              1 (1966)            1  \n",
       "22              1 (1994)            1  \n",
       "23             1 (2002*)            1  \n",
       "24              1 (2022)            1  "
      ]
     },
     "execution_count": 62,
     "metadata": {},
     "output_type": "execute_result"
    }
   ],
   "source": [
    "# Conjunto de datos la fifa worl cup\n",
    "dfs = pd.read_html('https://en.wikipedia.org/wiki/FIFA_World_Cup')\n",
    "\n",
    "# Recuerde que la función retorna una lista con todas las tablas, así solo se encuentre una.\n",
    "\n",
    "dfs[5] # Accedemos a la cuarta posición de la lista de DataFrames: Teams reaching the top four."
   ]
  },
  {
   "cell_type": "markdown",
   "metadata": {
    "id": "iIS3PrzaTsGr"
   },
   "source": [
    "## **4. Combinar y agrupar conjuntos de datos**\n",
    "---\n",
    "\n",
    "Cuando se manejan datos que provienen desde múltiples fuentes, es frecuente enfrentar escenarios en los que se requiera combinarlos con el fin de consolidar el conjunto de datos. Esto puede ser necesario para realizar tareas de limpieza, preparación y análisis sobre el conjunto de variables completo.\n",
    "\n",
    "*pandas* permite realizar esta tarea de varias formas, ofreciendo flexibilidad en la manipulación y estructura de datos con sus objetos *DataFrame* y *Series*.\n",
    "\n",
    "A continuación se presentan los métodos principales para la combinación de datos en *pandas*.\n",
    "\n"
   ]
  },
  {
   "cell_type": "markdown",
   "metadata": {
    "id": "xPhGEx9IPEFs"
   },
   "source": [
    "#### **4.1. Combinación de datos**\n",
    "---\n",
    "* **`pd.concat`**: *Pandas* dispone de un método de alto nivel para concatenar objetos *DataFrame* y *Series* de manera secuencial. Similarmente al método **`concatenate`** de *NumPy*, se puede realizar esta concatenación en cualquiera de los dos ejes o *axis* posibles. ($0$ para filas y $1$ para columnas).\n",
    "Al ser de alto nivel, los objetos se pasan como primer argumento en una colección tipo lista o tupla.\n",
    "\n",
    "  Algunos argumentos adicionales a tener en cuenta son:\n",
    "\n",
    "  *  Definir si conservar o no todos los registros, o sólo a aquellos que son producto de la intersección de los índices de todos los objetos. (**`join`**)   \n",
    "  *  Decidir si respetar el índice de los objetos de entrada, o crear un índice de enteros que empiece en 0. (**`ignore_index`**)\n",
    "  *  Decidir si ordenar o no el eje que no es concatenado.   (**`sort`**)\n"
   ]
  },
  {
   "cell_type": "code",
   "execution_count": 63,
   "metadata": {
    "colab": {
     "base_uri": "https://localhost:8080/"
    },
    "executionInfo": {
     "elapsed": 318,
     "status": "ok",
     "timestamp": 1614118673062,
     "user": {
      "displayName": "Daniel Felipe Fragua Rengifo",
      "photoUrl": "",
      "userId": "09845551813303536248"
     },
     "user_tz": 300
    },
    "id": "U0WEMbwq2ewZ",
    "outputId": "1fd00fe9-aecc-4451-c1e0-77bcb0dd323d"
   },
   "outputs": [
    {
     "data": {
      "text/plain": [
       "0    10\n",
       "1    11\n",
       "2    12\n",
       "Name: a, dtype: int64"
      ]
     },
     "execution_count": 63,
     "metadata": {},
     "output_type": "execute_result"
    }
   ],
   "source": [
    "a = pd.Series([10,11,12], name = 'a')\n",
    "\n",
    "a"
   ]
  },
  {
   "cell_type": "code",
   "execution_count": 64,
   "metadata": {
    "colab": {
     "base_uri": "https://localhost:8080/"
    },
    "executionInfo": {
     "elapsed": 289,
     "status": "ok",
     "timestamp": 1614118674480,
     "user": {
      "displayName": "Daniel Felipe Fragua Rengifo",
      "photoUrl": "",
      "userId": "09845551813303536248"
     },
     "user_tz": 300
    },
    "id": "6qDAGrC129FY",
    "outputId": "3e557e83-9227-4c50-867c-e9960c01cf16"
   },
   "outputs": [
    {
     "data": {
      "text/plain": [
       "0    5\n",
       "1    4\n",
       "2    3\n",
       "Name: b, dtype: int64"
      ]
     },
     "execution_count": 64,
     "metadata": {},
     "output_type": "execute_result"
    }
   ],
   "source": [
    "b = pd.Series([5,4,3], name = 'b')\n",
    "\n",
    "b"
   ]
  },
  {
   "cell_type": "code",
   "execution_count": 65,
   "metadata": {
    "colab": {
     "base_uri": "https://localhost:8080/"
    },
    "executionInfo": {
     "elapsed": 314,
     "status": "ok",
     "timestamp": 1614118675530,
     "user": {
      "displayName": "Daniel Felipe Fragua Rengifo",
      "photoUrl": "",
      "userId": "09845551813303536248"
     },
     "user_tz": 300
    },
    "id": "QKN2gNUC3Cnm",
    "outputId": "839ed11b-24a7-44f4-ffe1-a34a39139d81"
   },
   "outputs": [
    {
     "data": {
      "text/plain": [
       "0    10\n",
       "1    11\n",
       "2    12\n",
       "0     5\n",
       "1     4\n",
       "2     3\n",
       "dtype: int64"
      ]
     },
     "execution_count": 65,
     "metadata": {},
     "output_type": "execute_result"
    }
   ],
   "source": [
    "pd.concat([a, b]) # Por defecto se concatena por filas."
   ]
  },
  {
   "cell_type": "code",
   "execution_count": 66,
   "metadata": {
    "colab": {
     "base_uri": "https://localhost:8080/",
     "height": 142
    },
    "executionInfo": {
     "elapsed": 329,
     "status": "ok",
     "timestamp": 1614118676107,
     "user": {
      "displayName": "Daniel Felipe Fragua Rengifo",
      "photoUrl": "",
      "userId": "09845551813303536248"
     },
     "user_tz": 300
    },
    "id": "ngq8HpFT3o0k",
    "outputId": "d9fb0fa4-dc47-48ea-c805-6361b7e65b0a"
   },
   "outputs": [
    {
     "data": {
      "text/html": [
       "<div>\n",
       "<style scoped>\n",
       "    .dataframe tbody tr th:only-of-type {\n",
       "        vertical-align: middle;\n",
       "    }\n",
       "\n",
       "    .dataframe tbody tr th {\n",
       "        vertical-align: top;\n",
       "    }\n",
       "\n",
       "    .dataframe thead th {\n",
       "        text-align: right;\n",
       "    }\n",
       "</style>\n",
       "<table border=\"1\" class=\"dataframe\">\n",
       "  <thead>\n",
       "    <tr style=\"text-align: right;\">\n",
       "      <th></th>\n",
       "      <th>a</th>\n",
       "      <th>b</th>\n",
       "    </tr>\n",
       "  </thead>\n",
       "  <tbody>\n",
       "    <tr>\n",
       "      <th>0</th>\n",
       "      <td>10</td>\n",
       "      <td>5</td>\n",
       "    </tr>\n",
       "    <tr>\n",
       "      <th>1</th>\n",
       "      <td>11</td>\n",
       "      <td>4</td>\n",
       "    </tr>\n",
       "    <tr>\n",
       "      <th>2</th>\n",
       "      <td>12</td>\n",
       "      <td>3</td>\n",
       "    </tr>\n",
       "  </tbody>\n",
       "</table>\n",
       "</div>"
      ],
      "text/plain": [
       "    a  b\n",
       "0  10  5\n",
       "1  11  4\n",
       "2  12  3"
      ]
     },
     "execution_count": 66,
     "metadata": {},
     "output_type": "execute_result"
    }
   ],
   "source": [
    "pd.concat([a, b], axis = 1) # Los nombres (atributo name) definen el nombre de la columna."
   ]
  },
  {
   "cell_type": "code",
   "execution_count": 67,
   "metadata": {
    "colab": {
     "base_uri": "https://localhost:8080/",
     "height": 142
    },
    "executionInfo": {
     "elapsed": 324,
     "status": "ok",
     "timestamp": 1614118676630,
     "user": {
      "displayName": "Daniel Felipe Fragua Rengifo",
      "photoUrl": "",
      "userId": "09845551813303536248"
     },
     "user_tz": 300
    },
    "id": "DI4a-lhg3yjC",
    "outputId": "5d5d5658-fb26-4665-8d55-9fea858d0f35"
   },
   "outputs": [
    {
     "data": {
      "text/html": [
       "<div>\n",
       "<style scoped>\n",
       "    .dataframe tbody tr th:only-of-type {\n",
       "        vertical-align: middle;\n",
       "    }\n",
       "\n",
       "    .dataframe tbody tr th {\n",
       "        vertical-align: top;\n",
       "    }\n",
       "\n",
       "    .dataframe thead th {\n",
       "        text-align: right;\n",
       "    }\n",
       "</style>\n",
       "<table border=\"1\" class=\"dataframe\">\n",
       "  <thead>\n",
       "    <tr style=\"text-align: right;\">\n",
       "      <th></th>\n",
       "      <th>0</th>\n",
       "      <th>1</th>\n",
       "      <th>2</th>\n",
       "    </tr>\n",
       "  </thead>\n",
       "  <tbody>\n",
       "    <tr>\n",
       "      <th>0</th>\n",
       "      <td>1.0</td>\n",
       "      <td>0.0</td>\n",
       "      <td>0.0</td>\n",
       "    </tr>\n",
       "    <tr>\n",
       "      <th>1</th>\n",
       "      <td>0.0</td>\n",
       "      <td>1.0</td>\n",
       "      <td>0.0</td>\n",
       "    </tr>\n",
       "    <tr>\n",
       "      <th>2</th>\n",
       "      <td>0.0</td>\n",
       "      <td>0.0</td>\n",
       "      <td>1.0</td>\n",
       "    </tr>\n",
       "  </tbody>\n",
       "</table>\n",
       "</div>"
      ],
      "text/plain": [
       "     0    1    2\n",
       "0  1.0  0.0  0.0\n",
       "1  0.0  1.0  0.0\n",
       "2  0.0  0.0  1.0"
      ]
     },
     "execution_count": 67,
     "metadata": {},
     "output_type": "execute_result"
    }
   ],
   "source": [
    "df_a = pd.DataFrame(np.eye(3))\n",
    "\n",
    "df_a"
   ]
  },
  {
   "cell_type": "code",
   "execution_count": 68,
   "metadata": {
    "colab": {
     "base_uri": "https://localhost:8080/",
     "height": 142
    },
    "executionInfo": {
     "elapsed": 229,
     "status": "ok",
     "timestamp": 1614118677128,
     "user": {
      "displayName": "Daniel Felipe Fragua Rengifo",
      "photoUrl": "",
      "userId": "09845551813303536248"
     },
     "user_tz": 300
    },
    "id": "VoiWSsG44Arv",
    "outputId": "cfcabc3e-78a2-4459-c8d9-3cf5e651eca1"
   },
   "outputs": [
    {
     "data": {
      "text/html": [
       "<div>\n",
       "<style scoped>\n",
       "    .dataframe tbody tr th:only-of-type {\n",
       "        vertical-align: middle;\n",
       "    }\n",
       "\n",
       "    .dataframe tbody tr th {\n",
       "        vertical-align: top;\n",
       "    }\n",
       "\n",
       "    .dataframe thead th {\n",
       "        text-align: right;\n",
       "    }\n",
       "</style>\n",
       "<table border=\"1\" class=\"dataframe\">\n",
       "  <thead>\n",
       "    <tr style=\"text-align: right;\">\n",
       "      <th></th>\n",
       "      <th>0</th>\n",
       "      <th>1</th>\n",
       "    </tr>\n",
       "  </thead>\n",
       "  <tbody>\n",
       "    <tr>\n",
       "      <th>0</th>\n",
       "      <td>-1</td>\n",
       "      <td>-1</td>\n",
       "    </tr>\n",
       "    <tr>\n",
       "      <th>1</th>\n",
       "      <td>-1</td>\n",
       "      <td>-1</td>\n",
       "    </tr>\n",
       "    <tr>\n",
       "      <th>2</th>\n",
       "      <td>-1</td>\n",
       "      <td>-1</td>\n",
       "    </tr>\n",
       "  </tbody>\n",
       "</table>\n",
       "</div>"
      ],
      "text/plain": [
       "   0  1\n",
       "0 -1 -1\n",
       "1 -1 -1\n",
       "2 -1 -1"
      ]
     },
     "execution_count": 68,
     "metadata": {},
     "output_type": "execute_result"
    }
   ],
   "source": [
    "df_b = pd.DataFrame(np.full((3,2), -1))\n",
    "\n",
    "df_b"
   ]
  },
  {
   "cell_type": "code",
   "execution_count": 69,
   "metadata": {
    "colab": {
     "base_uri": "https://localhost:8080/",
     "height": 235
    },
    "executionInfo": {
     "elapsed": 376,
     "status": "ok",
     "timestamp": 1614118682673,
     "user": {
      "displayName": "Daniel Felipe Fragua Rengifo",
      "photoUrl": "",
      "userId": "09845551813303536248"
     },
     "user_tz": 300
    },
    "id": "EBewO-W64Djd",
    "outputId": "e8c21a9e-4ecf-4cd5-ccb1-be726cddf536"
   },
   "outputs": [
    {
     "data": {
      "text/html": [
       "<div>\n",
       "<style scoped>\n",
       "    .dataframe tbody tr th:only-of-type {\n",
       "        vertical-align: middle;\n",
       "    }\n",
       "\n",
       "    .dataframe tbody tr th {\n",
       "        vertical-align: top;\n",
       "    }\n",
       "\n",
       "    .dataframe thead th {\n",
       "        text-align: right;\n",
       "    }\n",
       "</style>\n",
       "<table border=\"1\" class=\"dataframe\">\n",
       "  <thead>\n",
       "    <tr style=\"text-align: right;\">\n",
       "      <th></th>\n",
       "      <th>0</th>\n",
       "      <th>1</th>\n",
       "      <th>2</th>\n",
       "    </tr>\n",
       "  </thead>\n",
       "  <tbody>\n",
       "    <tr>\n",
       "      <th>0</th>\n",
       "      <td>1.0</td>\n",
       "      <td>0.0</td>\n",
       "      <td>0.0</td>\n",
       "    </tr>\n",
       "    <tr>\n",
       "      <th>1</th>\n",
       "      <td>0.0</td>\n",
       "      <td>1.0</td>\n",
       "      <td>0.0</td>\n",
       "    </tr>\n",
       "    <tr>\n",
       "      <th>2</th>\n",
       "      <td>0.0</td>\n",
       "      <td>0.0</td>\n",
       "      <td>1.0</td>\n",
       "    </tr>\n",
       "    <tr>\n",
       "      <th>3</th>\n",
       "      <td>-1.0</td>\n",
       "      <td>-1.0</td>\n",
       "      <td>NaN</td>\n",
       "    </tr>\n",
       "    <tr>\n",
       "      <th>4</th>\n",
       "      <td>-1.0</td>\n",
       "      <td>-1.0</td>\n",
       "      <td>NaN</td>\n",
       "    </tr>\n",
       "    <tr>\n",
       "      <th>5</th>\n",
       "      <td>-1.0</td>\n",
       "      <td>-1.0</td>\n",
       "      <td>NaN</td>\n",
       "    </tr>\n",
       "  </tbody>\n",
       "</table>\n",
       "</div>"
      ],
      "text/plain": [
       "     0    1    2\n",
       "0  1.0  0.0  0.0\n",
       "1  0.0  1.0  0.0\n",
       "2  0.0  0.0  1.0\n",
       "3 -1.0 -1.0  NaN\n",
       "4 -1.0 -1.0  NaN\n",
       "5 -1.0 -1.0  NaN"
      ]
     },
     "execution_count": 69,
     "metadata": {},
     "output_type": "execute_result"
    }
   ],
   "source": [
    "pd.concat([df_a, df_b], ignore_index= True)"
   ]
  },
  {
   "cell_type": "code",
   "execution_count": 70,
   "metadata": {
    "colab": {
     "base_uri": "https://localhost:8080/",
     "height": 142
    },
    "executionInfo": {
     "elapsed": 409,
     "status": "ok",
     "timestamp": 1614118683012,
     "user": {
      "displayName": "Daniel Felipe Fragua Rengifo",
      "photoUrl": "",
      "userId": "09845551813303536248"
     },
     "user_tz": 300
    },
    "id": "1i3utaZW4KRT",
    "outputId": "5a0a0c66-5f73-4eb5-8825-f0c268b1bbf7"
   },
   "outputs": [
    {
     "data": {
      "text/html": [
       "<div>\n",
       "<style scoped>\n",
       "    .dataframe tbody tr th:only-of-type {\n",
       "        vertical-align: middle;\n",
       "    }\n",
       "\n",
       "    .dataframe tbody tr th {\n",
       "        vertical-align: top;\n",
       "    }\n",
       "\n",
       "    .dataframe thead th {\n",
       "        text-align: right;\n",
       "    }\n",
       "</style>\n",
       "<table border=\"1\" class=\"dataframe\">\n",
       "  <thead>\n",
       "    <tr style=\"text-align: right;\">\n",
       "      <th></th>\n",
       "      <th>0</th>\n",
       "      <th>1</th>\n",
       "      <th>2</th>\n",
       "      <th>3</th>\n",
       "      <th>4</th>\n",
       "    </tr>\n",
       "  </thead>\n",
       "  <tbody>\n",
       "    <tr>\n",
       "      <th>0</th>\n",
       "      <td>1.0</td>\n",
       "      <td>0.0</td>\n",
       "      <td>0.0</td>\n",
       "      <td>-1</td>\n",
       "      <td>-1</td>\n",
       "    </tr>\n",
       "    <tr>\n",
       "      <th>1</th>\n",
       "      <td>0.0</td>\n",
       "      <td>1.0</td>\n",
       "      <td>0.0</td>\n",
       "      <td>-1</td>\n",
       "      <td>-1</td>\n",
       "    </tr>\n",
       "    <tr>\n",
       "      <th>2</th>\n",
       "      <td>0.0</td>\n",
       "      <td>0.0</td>\n",
       "      <td>1.0</td>\n",
       "      <td>-1</td>\n",
       "      <td>-1</td>\n",
       "    </tr>\n",
       "  </tbody>\n",
       "</table>\n",
       "</div>"
      ],
      "text/plain": [
       "     0    1    2  3  4\n",
       "0  1.0  0.0  0.0 -1 -1\n",
       "1  0.0  1.0  0.0 -1 -1\n",
       "2  0.0  0.0  1.0 -1 -1"
      ]
     },
     "execution_count": 70,
     "metadata": {},
     "output_type": "execute_result"
    }
   ],
   "source": [
    "pd.concat([df_a, df_b], axis = 1, ignore_index = True)"
   ]
  },
  {
   "cell_type": "markdown",
   "metadata": {
    "id": "8lAawJylFzoX"
   },
   "source": [
    "* **`df.append`**: Este método permite añadir al final de un objeto existente el contenido de uno o varios objetos *DataFrame* o *Series*. \n",
    "Se puede usar el argumento **`ignore_index`** para no restringir la correspondencia en los índices, y asignar los nuevos valores de forma automática. Por otra parte, se puede decidir arrojar un error si se encuentran índices duplicados con el argumento **`verify_integrity`**.\n",
    "\n"
   ]
  },
  {
   "cell_type": "code",
   "execution_count": 71,
   "metadata": {
    "colab": {
     "base_uri": "https://localhost:8080/",
     "height": 204
    },
    "executionInfo": {
     "elapsed": 301,
     "status": "ok",
     "timestamp": 1614118684717,
     "user": {
      "displayName": "Daniel Felipe Fragua Rengifo",
      "photoUrl": "",
      "userId": "09845551813303536248"
     },
     "user_tz": 300
    },
    "id": "6oZoR3vP7txm",
    "outputId": "8b0a53f9-a401-43ed-97e1-6713dd78fc24"
   },
   "outputs": [
    {
     "data": {
      "text/html": [
       "<div>\n",
       "<style scoped>\n",
       "    .dataframe tbody tr th:only-of-type {\n",
       "        vertical-align: middle;\n",
       "    }\n",
       "\n",
       "    .dataframe tbody tr th {\n",
       "        vertical-align: top;\n",
       "    }\n",
       "\n",
       "    .dataframe thead th {\n",
       "        text-align: right;\n",
       "    }\n",
       "</style>\n",
       "<table border=\"1\" class=\"dataframe\">\n",
       "  <thead>\n",
       "    <tr style=\"text-align: right;\">\n",
       "      <th></th>\n",
       "      <th>0</th>\n",
       "      <th>1</th>\n",
       "      <th>2</th>\n",
       "      <th>3</th>\n",
       "      <th>4</th>\n",
       "    </tr>\n",
       "  </thead>\n",
       "  <tbody>\n",
       "    <tr>\n",
       "      <th>0</th>\n",
       "      <td>0.578439</td>\n",
       "      <td>0.291772</td>\n",
       "      <td>0.225347</td>\n",
       "      <td>0.698946</td>\n",
       "      <td>0.570902</td>\n",
       "    </tr>\n",
       "    <tr>\n",
       "      <th>1</th>\n",
       "      <td>0.564071</td>\n",
       "      <td>0.235954</td>\n",
       "      <td>0.923058</td>\n",
       "      <td>0.153383</td>\n",
       "      <td>0.222635</td>\n",
       "    </tr>\n",
       "    <tr>\n",
       "      <th>2</th>\n",
       "      <td>0.692931</td>\n",
       "      <td>0.000909</td>\n",
       "      <td>0.030696</td>\n",
       "      <td>0.146646</td>\n",
       "      <td>0.212334</td>\n",
       "    </tr>\n",
       "    <tr>\n",
       "      <th>3</th>\n",
       "      <td>0.410852</td>\n",
       "      <td>0.409402</td>\n",
       "      <td>0.111077</td>\n",
       "      <td>0.292544</td>\n",
       "      <td>0.558983</td>\n",
       "    </tr>\n",
       "    <tr>\n",
       "      <th>4</th>\n",
       "      <td>0.950452</td>\n",
       "      <td>0.067650</td>\n",
       "      <td>0.619904</td>\n",
       "      <td>0.767947</td>\n",
       "      <td>0.180254</td>\n",
       "    </tr>\n",
       "  </tbody>\n",
       "</table>\n",
       "</div>"
      ],
      "text/plain": [
       "          0         1         2         3         4\n",
       "0  0.578439  0.291772  0.225347  0.698946  0.570902\n",
       "1  0.564071  0.235954  0.923058  0.153383  0.222635\n",
       "2  0.692931  0.000909  0.030696  0.146646  0.212334\n",
       "3  0.410852  0.409402  0.111077  0.292544  0.558983\n",
       "4  0.950452  0.067650  0.619904  0.767947  0.180254"
      ]
     },
     "execution_count": 71,
     "metadata": {},
     "output_type": "execute_result"
    }
   ],
   "source": [
    "df = pd.DataFrame(np.random.rand(5,5))\n",
    "df"
   ]
  },
  {
   "cell_type": "code",
   "execution_count": 72,
   "metadata": {},
   "outputs": [
    {
     "name": "stderr",
     "output_type": "stream",
     "text": [
      "/tmp/ipykernel_940113/622630960.py:1: FutureWarning: The frame.append method is deprecated and will be removed from pandas in a future version. Use pandas.concat instead.\n",
      "  df.append(pd.Series(np.full(5, 100)), ignore_index = True)\n"
     ]
    },
    {
     "data": {
      "text/html": [
       "<div>\n",
       "<style scoped>\n",
       "    .dataframe tbody tr th:only-of-type {\n",
       "        vertical-align: middle;\n",
       "    }\n",
       "\n",
       "    .dataframe tbody tr th {\n",
       "        vertical-align: top;\n",
       "    }\n",
       "\n",
       "    .dataframe thead th {\n",
       "        text-align: right;\n",
       "    }\n",
       "</style>\n",
       "<table border=\"1\" class=\"dataframe\">\n",
       "  <thead>\n",
       "    <tr style=\"text-align: right;\">\n",
       "      <th></th>\n",
       "      <th>0</th>\n",
       "      <th>1</th>\n",
       "      <th>2</th>\n",
       "      <th>3</th>\n",
       "      <th>4</th>\n",
       "    </tr>\n",
       "  </thead>\n",
       "  <tbody>\n",
       "    <tr>\n",
       "      <th>0</th>\n",
       "      <td>0.578439</td>\n",
       "      <td>0.291772</td>\n",
       "      <td>0.225347</td>\n",
       "      <td>0.698946</td>\n",
       "      <td>0.570902</td>\n",
       "    </tr>\n",
       "    <tr>\n",
       "      <th>1</th>\n",
       "      <td>0.564071</td>\n",
       "      <td>0.235954</td>\n",
       "      <td>0.923058</td>\n",
       "      <td>0.153383</td>\n",
       "      <td>0.222635</td>\n",
       "    </tr>\n",
       "    <tr>\n",
       "      <th>2</th>\n",
       "      <td>0.692931</td>\n",
       "      <td>0.000909</td>\n",
       "      <td>0.030696</td>\n",
       "      <td>0.146646</td>\n",
       "      <td>0.212334</td>\n",
       "    </tr>\n",
       "    <tr>\n",
       "      <th>3</th>\n",
       "      <td>0.410852</td>\n",
       "      <td>0.409402</td>\n",
       "      <td>0.111077</td>\n",
       "      <td>0.292544</td>\n",
       "      <td>0.558983</td>\n",
       "    </tr>\n",
       "    <tr>\n",
       "      <th>4</th>\n",
       "      <td>0.950452</td>\n",
       "      <td>0.067650</td>\n",
       "      <td>0.619904</td>\n",
       "      <td>0.767947</td>\n",
       "      <td>0.180254</td>\n",
       "    </tr>\n",
       "    <tr>\n",
       "      <th>5</th>\n",
       "      <td>100.000000</td>\n",
       "      <td>100.000000</td>\n",
       "      <td>100.000000</td>\n",
       "      <td>100.000000</td>\n",
       "      <td>100.000000</td>\n",
       "    </tr>\n",
       "  </tbody>\n",
       "</table>\n",
       "</div>"
      ],
      "text/plain": [
       "            0           1           2           3           4\n",
       "0    0.578439    0.291772    0.225347    0.698946    0.570902\n",
       "1    0.564071    0.235954    0.923058    0.153383    0.222635\n",
       "2    0.692931    0.000909    0.030696    0.146646    0.212334\n",
       "3    0.410852    0.409402    0.111077    0.292544    0.558983\n",
       "4    0.950452    0.067650    0.619904    0.767947    0.180254\n",
       "5  100.000000  100.000000  100.000000  100.000000  100.000000"
      ]
     },
     "execution_count": 72,
     "metadata": {},
     "output_type": "execute_result"
    }
   ],
   "source": [
    "df.append(pd.Series(np.full(5, 100)), ignore_index = True)"
   ]
  },
  {
   "cell_type": "code",
   "execution_count": 73,
   "metadata": {
    "colab": {
     "base_uri": "https://localhost:8080/",
     "height": 204
    },
    "executionInfo": {
     "elapsed": 343,
     "status": "ok",
     "timestamp": 1614118688193,
     "user": {
      "displayName": "Daniel Felipe Fragua Rengifo",
      "photoUrl": "",
      "userId": "09845551813303536248"
     },
     "user_tz": 300
    },
    "id": "WddwGdVk8v_y",
    "outputId": "f30d7382-5d8f-4f35-b43f-062add96aa16"
   },
   "outputs": [
    {
     "data": {
      "text/html": [
       "<div>\n",
       "<style scoped>\n",
       "    .dataframe tbody tr th:only-of-type {\n",
       "        vertical-align: middle;\n",
       "    }\n",
       "\n",
       "    .dataframe tbody tr th {\n",
       "        vertical-align: top;\n",
       "    }\n",
       "\n",
       "    .dataframe thead th {\n",
       "        text-align: right;\n",
       "    }\n",
       "</style>\n",
       "<table border=\"1\" class=\"dataframe\">\n",
       "  <thead>\n",
       "    <tr style=\"text-align: right;\">\n",
       "      <th></th>\n",
       "      <th>0</th>\n",
       "      <th>1</th>\n",
       "      <th>2</th>\n",
       "      <th>3</th>\n",
       "      <th>4</th>\n",
       "    </tr>\n",
       "  </thead>\n",
       "  <tbody>\n",
       "    <tr>\n",
       "      <th>0</th>\n",
       "      <td>0.578439</td>\n",
       "      <td>0.291772</td>\n",
       "      <td>0.225347</td>\n",
       "      <td>0.698946</td>\n",
       "      <td>0.570902</td>\n",
       "    </tr>\n",
       "    <tr>\n",
       "      <th>1</th>\n",
       "      <td>0.564071</td>\n",
       "      <td>0.235954</td>\n",
       "      <td>0.923058</td>\n",
       "      <td>0.153383</td>\n",
       "      <td>0.222635</td>\n",
       "    </tr>\n",
       "    <tr>\n",
       "      <th>2</th>\n",
       "      <td>0.692931</td>\n",
       "      <td>0.000909</td>\n",
       "      <td>0.030696</td>\n",
       "      <td>0.146646</td>\n",
       "      <td>0.212334</td>\n",
       "    </tr>\n",
       "    <tr>\n",
       "      <th>3</th>\n",
       "      <td>0.410852</td>\n",
       "      <td>0.409402</td>\n",
       "      <td>0.111077</td>\n",
       "      <td>0.292544</td>\n",
       "      <td>0.558983</td>\n",
       "    </tr>\n",
       "    <tr>\n",
       "      <th>4</th>\n",
       "      <td>0.950452</td>\n",
       "      <td>0.067650</td>\n",
       "      <td>0.619904</td>\n",
       "      <td>0.767947</td>\n",
       "      <td>0.180254</td>\n",
       "    </tr>\n",
       "  </tbody>\n",
       "</table>\n",
       "</div>"
      ],
      "text/plain": [
       "          0         1         2         3         4\n",
       "0  0.578439  0.291772  0.225347  0.698946  0.570902\n",
       "1  0.564071  0.235954  0.923058  0.153383  0.222635\n",
       "2  0.692931  0.000909  0.030696  0.146646  0.212334\n",
       "3  0.410852  0.409402  0.111077  0.292544  0.558983\n",
       "4  0.950452  0.067650  0.619904  0.767947  0.180254"
      ]
     },
     "execution_count": 73,
     "metadata": {},
     "output_type": "execute_result"
    }
   ],
   "source": [
    "# El objeto original no se modifica. Para esto se recomienda\n",
    "# reasignar la variable con el nuevo DataFrame.\n",
    "\n",
    "df "
   ]
  },
  {
   "cell_type": "code",
   "execution_count": 74,
   "metadata": {
    "colab": {
     "base_uri": "https://localhost:8080/",
     "height": 359
    },
    "executionInfo": {
     "elapsed": 244,
     "status": "ok",
     "timestamp": 1614118688362,
     "user": {
      "displayName": "Daniel Felipe Fragua Rengifo",
      "photoUrl": "",
      "userId": "09845551813303536248"
     },
     "user_tz": 300
    },
    "id": "j6XzPbNl_OA3",
    "outputId": "e7015a60-36a0-4f98-8216-ae2a04c9abd7"
   },
   "outputs": [
    {
     "name": "stderr",
     "output_type": "stream",
     "text": [
      "/tmp/ipykernel_940113/3507258872.py:1: FutureWarning: The frame.append method is deprecated and will be removed from pandas in a future version. Use pandas.concat instead.\n",
      "  df = df.append(pd.DataFrame(np.eye(5)), ignore_index = True)\n"
     ]
    },
    {
     "data": {
      "text/html": [
       "<div>\n",
       "<style scoped>\n",
       "    .dataframe tbody tr th:only-of-type {\n",
       "        vertical-align: middle;\n",
       "    }\n",
       "\n",
       "    .dataframe tbody tr th {\n",
       "        vertical-align: top;\n",
       "    }\n",
       "\n",
       "    .dataframe thead th {\n",
       "        text-align: right;\n",
       "    }\n",
       "</style>\n",
       "<table border=\"1\" class=\"dataframe\">\n",
       "  <thead>\n",
       "    <tr style=\"text-align: right;\">\n",
       "      <th></th>\n",
       "      <th>0</th>\n",
       "      <th>1</th>\n",
       "      <th>2</th>\n",
       "      <th>3</th>\n",
       "      <th>4</th>\n",
       "    </tr>\n",
       "  </thead>\n",
       "  <tbody>\n",
       "    <tr>\n",
       "      <th>0</th>\n",
       "      <td>0.578439</td>\n",
       "      <td>0.291772</td>\n",
       "      <td>0.225347</td>\n",
       "      <td>0.698946</td>\n",
       "      <td>0.570902</td>\n",
       "    </tr>\n",
       "    <tr>\n",
       "      <th>1</th>\n",
       "      <td>0.564071</td>\n",
       "      <td>0.235954</td>\n",
       "      <td>0.923058</td>\n",
       "      <td>0.153383</td>\n",
       "      <td>0.222635</td>\n",
       "    </tr>\n",
       "    <tr>\n",
       "      <th>2</th>\n",
       "      <td>0.692931</td>\n",
       "      <td>0.000909</td>\n",
       "      <td>0.030696</td>\n",
       "      <td>0.146646</td>\n",
       "      <td>0.212334</td>\n",
       "    </tr>\n",
       "    <tr>\n",
       "      <th>3</th>\n",
       "      <td>0.410852</td>\n",
       "      <td>0.409402</td>\n",
       "      <td>0.111077</td>\n",
       "      <td>0.292544</td>\n",
       "      <td>0.558983</td>\n",
       "    </tr>\n",
       "    <tr>\n",
       "      <th>4</th>\n",
       "      <td>0.950452</td>\n",
       "      <td>0.067650</td>\n",
       "      <td>0.619904</td>\n",
       "      <td>0.767947</td>\n",
       "      <td>0.180254</td>\n",
       "    </tr>\n",
       "    <tr>\n",
       "      <th>5</th>\n",
       "      <td>1.000000</td>\n",
       "      <td>0.000000</td>\n",
       "      <td>0.000000</td>\n",
       "      <td>0.000000</td>\n",
       "      <td>0.000000</td>\n",
       "    </tr>\n",
       "    <tr>\n",
       "      <th>6</th>\n",
       "      <td>0.000000</td>\n",
       "      <td>1.000000</td>\n",
       "      <td>0.000000</td>\n",
       "      <td>0.000000</td>\n",
       "      <td>0.000000</td>\n",
       "    </tr>\n",
       "    <tr>\n",
       "      <th>7</th>\n",
       "      <td>0.000000</td>\n",
       "      <td>0.000000</td>\n",
       "      <td>1.000000</td>\n",
       "      <td>0.000000</td>\n",
       "      <td>0.000000</td>\n",
       "    </tr>\n",
       "    <tr>\n",
       "      <th>8</th>\n",
       "      <td>0.000000</td>\n",
       "      <td>0.000000</td>\n",
       "      <td>0.000000</td>\n",
       "      <td>1.000000</td>\n",
       "      <td>0.000000</td>\n",
       "    </tr>\n",
       "    <tr>\n",
       "      <th>9</th>\n",
       "      <td>0.000000</td>\n",
       "      <td>0.000000</td>\n",
       "      <td>0.000000</td>\n",
       "      <td>0.000000</td>\n",
       "      <td>1.000000</td>\n",
       "    </tr>\n",
       "  </tbody>\n",
       "</table>\n",
       "</div>"
      ],
      "text/plain": [
       "          0         1         2         3         4\n",
       "0  0.578439  0.291772  0.225347  0.698946  0.570902\n",
       "1  0.564071  0.235954  0.923058  0.153383  0.222635\n",
       "2  0.692931  0.000909  0.030696  0.146646  0.212334\n",
       "3  0.410852  0.409402  0.111077  0.292544  0.558983\n",
       "4  0.950452  0.067650  0.619904  0.767947  0.180254\n",
       "5  1.000000  0.000000  0.000000  0.000000  0.000000\n",
       "6  0.000000  1.000000  0.000000  0.000000  0.000000\n",
       "7  0.000000  0.000000  1.000000  0.000000  0.000000\n",
       "8  0.000000  0.000000  0.000000  1.000000  0.000000\n",
       "9  0.000000  0.000000  0.000000  0.000000  1.000000"
      ]
     },
     "execution_count": 74,
     "metadata": {},
     "output_type": "execute_result"
    }
   ],
   "source": [
    "df = df.append(pd.DataFrame(np.eye(5)), ignore_index = True)\n",
    "df"
   ]
  },
  {
   "cell_type": "markdown",
   "metadata": {
    "id": "1tb0S-tbF03h"
   },
   "source": [
    " * **`df.assign`**: Otro método para combinar *Series* u otros objetos similares y añadir su contenido a un *DataFrame* existente en forma de columnas. Los datos permitidos para construir columnas con el método **`assign`** son:\n",
    "\n",
    "  * Objetos *Series*.\n",
    "  * Listas y tuplas de *Python*.\n",
    "  * Arreglos de *NumPy*\n",
    "  * Valores escalares.\n",
    "  * Valores invocables como funciones o clases.\n",
    "\n",
    "Todos los argumentos ingresados al método se interpretan como columnas nuevas a ser creadas.\n",
    "  \n"
   ]
  },
  {
   "cell_type": "code",
   "execution_count": 75,
   "metadata": {
    "colab": {
     "base_uri": "https://localhost:8080/",
     "height": 142
    },
    "executionInfo": {
     "elapsed": 280,
     "status": "ok",
     "timestamp": 1614118726080,
     "user": {
      "displayName": "Daniel Felipe Fragua Rengifo",
      "photoUrl": "",
      "userId": "09845551813303536248"
     },
     "user_tz": 300
    },
    "id": "bnKhwC1BBM67",
    "outputId": "85896ba8-24e9-4f0f-fbb3-6dd8bd389383"
   },
   "outputs": [
    {
     "data": {
      "text/html": [
       "<div>\n",
       "<style scoped>\n",
       "    .dataframe tbody tr th:only-of-type {\n",
       "        vertical-align: middle;\n",
       "    }\n",
       "\n",
       "    .dataframe tbody tr th {\n",
       "        vertical-align: top;\n",
       "    }\n",
       "\n",
       "    .dataframe thead th {\n",
       "        text-align: right;\n",
       "    }\n",
       "</style>\n",
       "<table border=\"1\" class=\"dataframe\">\n",
       "  <thead>\n",
       "    <tr style=\"text-align: right;\">\n",
       "      <th></th>\n",
       "      <th>a</th>\n",
       "      <th>b</th>\n",
       "      <th>c</th>\n",
       "    </tr>\n",
       "  </thead>\n",
       "  <tbody>\n",
       "    <tr>\n",
       "      <th>0</th>\n",
       "      <td>1</td>\n",
       "      <td>4</td>\n",
       "      <td>7</td>\n",
       "    </tr>\n",
       "    <tr>\n",
       "      <th>1</th>\n",
       "      <td>2</td>\n",
       "      <td>5</td>\n",
       "      <td>8</td>\n",
       "    </tr>\n",
       "    <tr>\n",
       "      <th>2</th>\n",
       "      <td>3</td>\n",
       "      <td>6</td>\n",
       "      <td>9</td>\n",
       "    </tr>\n",
       "  </tbody>\n",
       "</table>\n",
       "</div>"
      ],
      "text/plain": [
       "   a  b  c\n",
       "0  1  4  7\n",
       "1  2  5  8\n",
       "2  3  6  9"
      ]
     },
     "execution_count": 75,
     "metadata": {},
     "output_type": "execute_result"
    }
   ],
   "source": [
    "df = pd.DataFrame({'a' : [1, 2, 3],\n",
    "                   'b' : [4, 5, 6],\n",
    "                   'c' : [7, 8, 9]})\n",
    "df"
   ]
  },
  {
   "cell_type": "code",
   "execution_count": 76,
   "metadata": {
    "colab": {
     "base_uri": "https://localhost:8080/",
     "height": 142
    },
    "executionInfo": {
     "elapsed": 283,
     "status": "ok",
     "timestamp": 1614118727070,
     "user": {
      "displayName": "Daniel Felipe Fragua Rengifo",
      "photoUrl": "",
      "userId": "09845551813303536248"
     },
     "user_tz": 300
    },
    "id": "bKwUqj69BhyX",
    "outputId": "c9bb7203-6692-4bda-da72-2bad47cc26ff"
   },
   "outputs": [
    {
     "data": {
      "text/html": [
       "<div>\n",
       "<style scoped>\n",
       "    .dataframe tbody tr th:only-of-type {\n",
       "        vertical-align: middle;\n",
       "    }\n",
       "\n",
       "    .dataframe tbody tr th {\n",
       "        vertical-align: top;\n",
       "    }\n",
       "\n",
       "    .dataframe thead th {\n",
       "        text-align: right;\n",
       "    }\n",
       "</style>\n",
       "<table border=\"1\" class=\"dataframe\">\n",
       "  <thead>\n",
       "    <tr style=\"text-align: right;\">\n",
       "      <th></th>\n",
       "      <th>a</th>\n",
       "      <th>b</th>\n",
       "      <th>c</th>\n",
       "      <th>d</th>\n",
       "      <th>e</th>\n",
       "      <th>f</th>\n",
       "      <th>g</th>\n",
       "      <th>h</th>\n",
       "    </tr>\n",
       "  </thead>\n",
       "  <tbody>\n",
       "    <tr>\n",
       "      <th>0</th>\n",
       "      <td>1</td>\n",
       "      <td>4</td>\n",
       "      <td>7</td>\n",
       "      <td>a</td>\n",
       "      <td>-1</td>\n",
       "      <td>0.0</td>\n",
       "      <td>100</td>\n",
       "      <td>5</td>\n",
       "    </tr>\n",
       "    <tr>\n",
       "      <th>1</th>\n",
       "      <td>2</td>\n",
       "      <td>5</td>\n",
       "      <td>8</td>\n",
       "      <td>b</td>\n",
       "      <td>-1</td>\n",
       "      <td>0.5</td>\n",
       "      <td>100</td>\n",
       "      <td>7</td>\n",
       "    </tr>\n",
       "    <tr>\n",
       "      <th>2</th>\n",
       "      <td>3</td>\n",
       "      <td>6</td>\n",
       "      <td>9</td>\n",
       "      <td>c</td>\n",
       "      <td>-1</td>\n",
       "      <td>1.0</td>\n",
       "      <td>100</td>\n",
       "      <td>9</td>\n",
       "    </tr>\n",
       "  </tbody>\n",
       "</table>\n",
       "</div>"
      ],
      "text/plain": [
       "   a  b  c  d  e    f    g  h\n",
       "0  1  4  7  a -1  0.0  100  5\n",
       "1  2  5  8  b -1  0.5  100  7\n",
       "2  3  6  9  c -1  1.0  100  9"
      ]
     },
     "execution_count": 76,
     "metadata": {},
     "output_type": "execute_result"
    }
   ],
   "source": [
    "serie = pd.Series(['a', 'b', 'c'])\n",
    "lista = [-1] * 3\n",
    "arreglo = np.linspace(0, 1, 3)\n",
    "escalar = 100\n",
    "función = lambda x : x['a'] + x['b']\n",
    "\n",
    "df.assign(d = serie, \n",
    "          e = lista,\n",
    "          f = arreglo,\n",
    "          g = escalar,\n",
    "          h = función)"
   ]
  },
  {
   "cell_type": "code",
   "execution_count": 77,
   "metadata": {
    "colab": {
     "base_uri": "https://localhost:8080/",
     "height": 142
    },
    "executionInfo": {
     "elapsed": 368,
     "status": "ok",
     "timestamp": 1614118780072,
     "user": {
      "displayName": "Daniel Felipe Fragua Rengifo",
      "photoUrl": "",
      "userId": "09845551813303536248"
     },
     "user_tz": 300
    },
    "id": "E9vtCx9GDbbC",
    "outputId": "fcd1cd19-63b5-4d46-b5cb-5f596a5e2517"
   },
   "outputs": [
    {
     "data": {
      "text/html": [
       "<div>\n",
       "<style scoped>\n",
       "    .dataframe tbody tr th:only-of-type {\n",
       "        vertical-align: middle;\n",
       "    }\n",
       "\n",
       "    .dataframe tbody tr th {\n",
       "        vertical-align: top;\n",
       "    }\n",
       "\n",
       "    .dataframe thead th {\n",
       "        text-align: right;\n",
       "    }\n",
       "</style>\n",
       "<table border=\"1\" class=\"dataframe\">\n",
       "  <thead>\n",
       "    <tr style=\"text-align: right;\">\n",
       "      <th></th>\n",
       "      <th>a</th>\n",
       "      <th>b</th>\n",
       "      <th>c</th>\n",
       "    </tr>\n",
       "  </thead>\n",
       "  <tbody>\n",
       "    <tr>\n",
       "      <th>0</th>\n",
       "      <td>1</td>\n",
       "      <td>4</td>\n",
       "      <td>7</td>\n",
       "    </tr>\n",
       "    <tr>\n",
       "      <th>1</th>\n",
       "      <td>2</td>\n",
       "      <td>5</td>\n",
       "      <td>8</td>\n",
       "    </tr>\n",
       "    <tr>\n",
       "      <th>2</th>\n",
       "      <td>3</td>\n",
       "      <td>6</td>\n",
       "      <td>9</td>\n",
       "    </tr>\n",
       "  </tbody>\n",
       "</table>\n",
       "</div>"
      ],
      "text/plain": [
       "   a  b  c\n",
       "0  1  4  7\n",
       "1  2  5  8\n",
       "2  3  6  9"
      ]
     },
     "execution_count": 77,
     "metadata": {},
     "output_type": "execute_result"
    }
   ],
   "source": [
    "# El objeto original no se modifica. Recuerde reasignar.\n",
    "df"
   ]
  },
  {
   "cell_type": "code",
   "execution_count": 78,
   "metadata": {
    "colab": {
     "base_uri": "https://localhost:8080/",
     "height": 142
    },
    "executionInfo": {
     "elapsed": 400,
     "status": "ok",
     "timestamp": 1614118780389,
     "user": {
      "displayName": "Daniel Felipe Fragua Rengifo",
      "photoUrl": "",
      "userId": "09845551813303536248"
     },
     "user_tz": 300
    },
    "id": "Hy2HT54-DhDJ",
    "outputId": "59ee22a2-6194-408a-fc97-4ad64dd863b7"
   },
   "outputs": [
    {
     "data": {
      "text/html": [
       "<div>\n",
       "<style scoped>\n",
       "    .dataframe tbody tr th:only-of-type {\n",
       "        vertical-align: middle;\n",
       "    }\n",
       "\n",
       "    .dataframe tbody tr th {\n",
       "        vertical-align: top;\n",
       "    }\n",
       "\n",
       "    .dataframe thead th {\n",
       "        text-align: right;\n",
       "    }\n",
       "</style>\n",
       "<table border=\"1\" class=\"dataframe\">\n",
       "  <thead>\n",
       "    <tr style=\"text-align: right;\">\n",
       "      <th></th>\n",
       "      <th>a</th>\n",
       "      <th>b</th>\n",
       "      <th>c</th>\n",
       "      <th>d</th>\n",
       "      <th>e</th>\n",
       "      <th>f</th>\n",
       "      <th>g</th>\n",
       "      <th>h</th>\n",
       "    </tr>\n",
       "  </thead>\n",
       "  <tbody>\n",
       "    <tr>\n",
       "      <th>0</th>\n",
       "      <td>1</td>\n",
       "      <td>4</td>\n",
       "      <td>7</td>\n",
       "      <td>a</td>\n",
       "      <td>-1</td>\n",
       "      <td>0.0</td>\n",
       "      <td>100</td>\n",
       "      <td>5</td>\n",
       "    </tr>\n",
       "    <tr>\n",
       "      <th>1</th>\n",
       "      <td>2</td>\n",
       "      <td>5</td>\n",
       "      <td>8</td>\n",
       "      <td>b</td>\n",
       "      <td>-1</td>\n",
       "      <td>0.5</td>\n",
       "      <td>100</td>\n",
       "      <td>7</td>\n",
       "    </tr>\n",
       "    <tr>\n",
       "      <th>2</th>\n",
       "      <td>3</td>\n",
       "      <td>6</td>\n",
       "      <td>9</td>\n",
       "      <td>c</td>\n",
       "      <td>-1</td>\n",
       "      <td>1.0</td>\n",
       "      <td>100</td>\n",
       "      <td>9</td>\n",
       "    </tr>\n",
       "  </tbody>\n",
       "</table>\n",
       "</div>"
      ],
      "text/plain": [
       "   a  b  c  d  e    f    g  h\n",
       "0  1  4  7  a -1  0.0  100  5\n",
       "1  2  5  8  b -1  0.5  100  7\n",
       "2  3  6  9  c -1  1.0  100  9"
      ]
     },
     "execution_count": 78,
     "metadata": {},
     "output_type": "execute_result"
    }
   ],
   "source": [
    "df = df.assign(d = serie, \n",
    "          e = lista,\n",
    "          f = arreglo,\n",
    "          g = escalar,\n",
    "          h = función)\n",
    "df"
   ]
  },
  {
   "cell_type": "markdown",
   "metadata": {
    "id": "5okWE72SF0-v"
   },
   "source": [
    "* **`df.merge`**: Este método permite combinar el contenido de dos *DataFrame*. Los valores de la columna indicada, que correspondan en ambos objetos, formarán una nueva fila con los datos de ambos *DataFrame* originales, combinando los valores de las demás columnas en vez de agregarlos secuencialmente. El método es llamado en el primer *DataFrame*, mientras que el segundo es pasado como el primer argumento. \n",
    "\n",
    "  Algunos de sus argumentos son:\n",
    "\n",
    "  * **`how`**: Este argumento define qué valores se van a conservar. Tiene 4 opciones, inspiradas en los *join* de SQL.\n",
    "  * **`outer`**: Se conservan todos los elementos.\n",
    "  * **`inner`**: Se conservan solo los elementos que estén en ambos *DataFrame*.\n",
    "  * **`left`**: Se conservan todos los elementos del *DataFrame* izquierdo.\n",
    "  * **`right`**: Se conservan todos los elementos del *DataFrame* derecho.\n",
    "  * **`on` | `left_on` | `right_on`**: Nombre de la columna a combinar. Se puede definir nombres distintos por cada *DataFrame*.\n",
    "\n",
    "  * **`left_index` | `right_index`**: Utilizar el índice en vez de una columna.\n",
    "  * **`suffixes` | `indicator`**: Generar columnas con información general de la combinación, como el origen de la columna o el método usado.\n"
   ]
  },
  {
   "cell_type": "code",
   "execution_count": 79,
   "metadata": {
    "colab": {
     "base_uri": "https://localhost:8080/",
     "height": 142
    },
    "executionInfo": {
     "elapsed": 292,
     "status": "ok",
     "timestamp": 1614118791001,
     "user": {
      "displayName": "Daniel Felipe Fragua Rengifo",
      "photoUrl": "",
      "userId": "09845551813303536248"
     },
     "user_tz": 300
    },
    "id": "HklBJfMTve_B",
    "outputId": "9a312bfa-73bb-4791-97c2-a31a7ef4b9b2"
   },
   "outputs": [
    {
     "data": {
      "text/html": [
       "<div>\n",
       "<style scoped>\n",
       "    .dataframe tbody tr th:only-of-type {\n",
       "        vertical-align: middle;\n",
       "    }\n",
       "\n",
       "    .dataframe tbody tr th {\n",
       "        vertical-align: top;\n",
       "    }\n",
       "\n",
       "    .dataframe thead th {\n",
       "        text-align: right;\n",
       "    }\n",
       "</style>\n",
       "<table border=\"1\" class=\"dataframe\">\n",
       "  <thead>\n",
       "    <tr style=\"text-align: right;\">\n",
       "      <th></th>\n",
       "      <th>a</th>\n",
       "      <th>b</th>\n",
       "    </tr>\n",
       "  </thead>\n",
       "  <tbody>\n",
       "    <tr>\n",
       "      <th>0</th>\n",
       "      <td>a0</td>\n",
       "      <td>b0</td>\n",
       "    </tr>\n",
       "    <tr>\n",
       "      <th>1</th>\n",
       "      <td>a1</td>\n",
       "      <td>b1</td>\n",
       "    </tr>\n",
       "    <tr>\n",
       "      <th>2</th>\n",
       "      <td>a2</td>\n",
       "      <td>b2</td>\n",
       "    </tr>\n",
       "  </tbody>\n",
       "</table>\n",
       "</div>"
      ],
      "text/plain": [
       "    a   b\n",
       "0  a0  b0\n",
       "1  a1  b1\n",
       "2  a2  b2"
      ]
     },
     "execution_count": 79,
     "metadata": {},
     "output_type": "execute_result"
    }
   ],
   "source": [
    "df_izq = pd.DataFrame(\n",
    "    {\n",
    "     'a' : ['a0', 'a1', 'a2'],\n",
    "     'b' : ['b0', 'b1', 'b2']\n",
    "    }\n",
    ")\n",
    "\n",
    "df_izq"
   ]
  },
  {
   "cell_type": "code",
   "execution_count": 80,
   "metadata": {
    "colab": {
     "base_uri": "https://localhost:8080/",
     "height": 142
    },
    "executionInfo": {
     "elapsed": 284,
     "status": "ok",
     "timestamp": 1614118792039,
     "user": {
      "displayName": "Daniel Felipe Fragua Rengifo",
      "photoUrl": "",
      "userId": "09845551813303536248"
     },
     "user_tz": 300
    },
    "id": "m5LAX8aO-Vhg",
    "outputId": "7fbd5c27-c166-4f6d-bba6-34003cd90173"
   },
   "outputs": [
    {
     "data": {
      "text/html": [
       "<div>\n",
       "<style scoped>\n",
       "    .dataframe tbody tr th:only-of-type {\n",
       "        vertical-align: middle;\n",
       "    }\n",
       "\n",
       "    .dataframe tbody tr th {\n",
       "        vertical-align: top;\n",
       "    }\n",
       "\n",
       "    .dataframe thead th {\n",
       "        text-align: right;\n",
       "    }\n",
       "</style>\n",
       "<table border=\"1\" class=\"dataframe\">\n",
       "  <thead>\n",
       "    <tr style=\"text-align: right;\">\n",
       "      <th></th>\n",
       "      <th>a</th>\n",
       "      <th>c</th>\n",
       "    </tr>\n",
       "  </thead>\n",
       "  <tbody>\n",
       "    <tr>\n",
       "      <th>0</th>\n",
       "      <td>a1</td>\n",
       "      <td>c1</td>\n",
       "    </tr>\n",
       "    <tr>\n",
       "      <th>1</th>\n",
       "      <td>a2</td>\n",
       "      <td>c2</td>\n",
       "    </tr>\n",
       "    <tr>\n",
       "      <th>2</th>\n",
       "      <td>a3</td>\n",
       "      <td>c3</td>\n",
       "    </tr>\n",
       "  </tbody>\n",
       "</table>\n",
       "</div>"
      ],
      "text/plain": [
       "    a   c\n",
       "0  a1  c1\n",
       "1  a2  c2\n",
       "2  a3  c3"
      ]
     },
     "execution_count": 80,
     "metadata": {},
     "output_type": "execute_result"
    }
   ],
   "source": [
    "df_der = pd.DataFrame(\n",
    "    {\n",
    "     'a' : ['a1', 'a2', 'a3'],\n",
    "     'c' : ['c1', 'c2', 'c3']\n",
    "    }\n",
    ")\n",
    "df_der"
   ]
  },
  {
   "cell_type": "code",
   "execution_count": 81,
   "metadata": {
    "colab": {
     "base_uri": "https://localhost:8080/",
     "height": 111
    },
    "executionInfo": {
     "elapsed": 368,
     "status": "ok",
     "timestamp": 1614118801297,
     "user": {
      "displayName": "Daniel Felipe Fragua Rengifo",
      "photoUrl": "",
      "userId": "09845551813303536248"
     },
     "user_tz": 300
    },
    "id": "BHbsDYfU-iIN",
    "outputId": "17f3e873-b7bb-4bf7-d386-564dae716351"
   },
   "outputs": [
    {
     "data": {
      "text/html": [
       "<div>\n",
       "<style scoped>\n",
       "    .dataframe tbody tr th:only-of-type {\n",
       "        vertical-align: middle;\n",
       "    }\n",
       "\n",
       "    .dataframe tbody tr th {\n",
       "        vertical-align: top;\n",
       "    }\n",
       "\n",
       "    .dataframe thead th {\n",
       "        text-align: right;\n",
       "    }\n",
       "</style>\n",
       "<table border=\"1\" class=\"dataframe\">\n",
       "  <thead>\n",
       "    <tr style=\"text-align: right;\">\n",
       "      <th></th>\n",
       "      <th>a</th>\n",
       "      <th>b</th>\n",
       "      <th>c</th>\n",
       "    </tr>\n",
       "  </thead>\n",
       "  <tbody>\n",
       "    <tr>\n",
       "      <th>0</th>\n",
       "      <td>a1</td>\n",
       "      <td>b1</td>\n",
       "      <td>c1</td>\n",
       "    </tr>\n",
       "    <tr>\n",
       "      <th>1</th>\n",
       "      <td>a2</td>\n",
       "      <td>b2</td>\n",
       "      <td>c2</td>\n",
       "    </tr>\n",
       "  </tbody>\n",
       "</table>\n",
       "</div>"
      ],
      "text/plain": [
       "    a   b   c\n",
       "0  a1  b1  c1\n",
       "1  a2  b2  c2"
      ]
     },
     "execution_count": 81,
     "metadata": {},
     "output_type": "execute_result"
    }
   ],
   "source": [
    "# Por defecto el método es \"inner\"\n",
    "df_izq.merge(df_der, on = 'a') # Se une con respecto a la columna 'a' en ambas tablas."
   ]
  },
  {
   "cell_type": "code",
   "execution_count": 82,
   "metadata": {
    "colab": {
     "base_uri": "https://localhost:8080/",
     "height": 173
    },
    "executionInfo": {
     "elapsed": 376,
     "status": "ok",
     "timestamp": 1614118806278,
     "user": {
      "displayName": "Daniel Felipe Fragua Rengifo",
      "photoUrl": "",
      "userId": "09845551813303536248"
     },
     "user_tz": 300
    },
    "id": "WaOrnni2AAuv",
    "outputId": "bacef17a-6591-42de-b625-29f17ecaeafd"
   },
   "outputs": [
    {
     "data": {
      "text/html": [
       "<div>\n",
       "<style scoped>\n",
       "    .dataframe tbody tr th:only-of-type {\n",
       "        vertical-align: middle;\n",
       "    }\n",
       "\n",
       "    .dataframe tbody tr th {\n",
       "        vertical-align: top;\n",
       "    }\n",
       "\n",
       "    .dataframe thead th {\n",
       "        text-align: right;\n",
       "    }\n",
       "</style>\n",
       "<table border=\"1\" class=\"dataframe\">\n",
       "  <thead>\n",
       "    <tr style=\"text-align: right;\">\n",
       "      <th></th>\n",
       "      <th>a</th>\n",
       "      <th>b</th>\n",
       "      <th>c</th>\n",
       "    </tr>\n",
       "  </thead>\n",
       "  <tbody>\n",
       "    <tr>\n",
       "      <th>0</th>\n",
       "      <td>a0</td>\n",
       "      <td>b0</td>\n",
       "      <td>NaN</td>\n",
       "    </tr>\n",
       "    <tr>\n",
       "      <th>1</th>\n",
       "      <td>a1</td>\n",
       "      <td>b1</td>\n",
       "      <td>c1</td>\n",
       "    </tr>\n",
       "    <tr>\n",
       "      <th>2</th>\n",
       "      <td>a2</td>\n",
       "      <td>b2</td>\n",
       "      <td>c2</td>\n",
       "    </tr>\n",
       "    <tr>\n",
       "      <th>3</th>\n",
       "      <td>a3</td>\n",
       "      <td>NaN</td>\n",
       "      <td>c3</td>\n",
       "    </tr>\n",
       "  </tbody>\n",
       "</table>\n",
       "</div>"
      ],
      "text/plain": [
       "    a    b    c\n",
       "0  a0   b0  NaN\n",
       "1  a1   b1   c1\n",
       "2  a2   b2   c2\n",
       "3  a3  NaN   c3"
      ]
     },
     "execution_count": 82,
     "metadata": {},
     "output_type": "execute_result"
    }
   ],
   "source": [
    "df_izq.merge(df_der, on = 'a', how = 'outer')"
   ]
  },
  {
   "cell_type": "code",
   "execution_count": 83,
   "metadata": {
    "colab": {
     "base_uri": "https://localhost:8080/",
     "height": 142
    },
    "executionInfo": {
     "elapsed": 286,
     "status": "ok",
     "timestamp": 1614118807855,
     "user": {
      "displayName": "Daniel Felipe Fragua Rengifo",
      "photoUrl": "",
      "userId": "09845551813303536248"
     },
     "user_tz": 300
    },
    "id": "mK02PVtkAKAt",
    "outputId": "625408dc-8a50-481f-d726-9e001b229c7a"
   },
   "outputs": [
    {
     "data": {
      "text/html": [
       "<div>\n",
       "<style scoped>\n",
       "    .dataframe tbody tr th:only-of-type {\n",
       "        vertical-align: middle;\n",
       "    }\n",
       "\n",
       "    .dataframe tbody tr th {\n",
       "        vertical-align: top;\n",
       "    }\n",
       "\n",
       "    .dataframe thead th {\n",
       "        text-align: right;\n",
       "    }\n",
       "</style>\n",
       "<table border=\"1\" class=\"dataframe\">\n",
       "  <thead>\n",
       "    <tr style=\"text-align: right;\">\n",
       "      <th></th>\n",
       "      <th>a</th>\n",
       "      <th>b</th>\n",
       "      <th>c</th>\n",
       "    </tr>\n",
       "  </thead>\n",
       "  <tbody>\n",
       "    <tr>\n",
       "      <th>0</th>\n",
       "      <td>a0</td>\n",
       "      <td>b0</td>\n",
       "      <td>NaN</td>\n",
       "    </tr>\n",
       "    <tr>\n",
       "      <th>1</th>\n",
       "      <td>a1</td>\n",
       "      <td>b1</td>\n",
       "      <td>c1</td>\n",
       "    </tr>\n",
       "    <tr>\n",
       "      <th>2</th>\n",
       "      <td>a2</td>\n",
       "      <td>b2</td>\n",
       "      <td>c2</td>\n",
       "    </tr>\n",
       "  </tbody>\n",
       "</table>\n",
       "</div>"
      ],
      "text/plain": [
       "    a   b    c\n",
       "0  a0  b0  NaN\n",
       "1  a1  b1   c1\n",
       "2  a2  b2   c2"
      ]
     },
     "execution_count": 83,
     "metadata": {},
     "output_type": "execute_result"
    }
   ],
   "source": [
    "df_izq.merge(df_der, on = 'a', how = 'left')"
   ]
  },
  {
   "cell_type": "code",
   "execution_count": 84,
   "metadata": {
    "colab": {
     "base_uri": "https://localhost:8080/",
     "height": 142
    },
    "executionInfo": {
     "elapsed": 279,
     "status": "ok",
     "timestamp": 1614118809483,
     "user": {
      "displayName": "Daniel Felipe Fragua Rengifo",
      "photoUrl": "",
      "userId": "09845551813303536248"
     },
     "user_tz": 300
    },
    "id": "ZN9PGQ5yAQFE",
    "outputId": "e05ca5a1-dd77-4021-8c16-1fcf5792d0f4"
   },
   "outputs": [
    {
     "data": {
      "text/html": [
       "<div>\n",
       "<style scoped>\n",
       "    .dataframe tbody tr th:only-of-type {\n",
       "        vertical-align: middle;\n",
       "    }\n",
       "\n",
       "    .dataframe tbody tr th {\n",
       "        vertical-align: top;\n",
       "    }\n",
       "\n",
       "    .dataframe thead th {\n",
       "        text-align: right;\n",
       "    }\n",
       "</style>\n",
       "<table border=\"1\" class=\"dataframe\">\n",
       "  <thead>\n",
       "    <tr style=\"text-align: right;\">\n",
       "      <th></th>\n",
       "      <th>a</th>\n",
       "      <th>b</th>\n",
       "      <th>c</th>\n",
       "    </tr>\n",
       "  </thead>\n",
       "  <tbody>\n",
       "    <tr>\n",
       "      <th>0</th>\n",
       "      <td>a1</td>\n",
       "      <td>b1</td>\n",
       "      <td>c1</td>\n",
       "    </tr>\n",
       "    <tr>\n",
       "      <th>1</th>\n",
       "      <td>a2</td>\n",
       "      <td>b2</td>\n",
       "      <td>c2</td>\n",
       "    </tr>\n",
       "    <tr>\n",
       "      <th>2</th>\n",
       "      <td>a3</td>\n",
       "      <td>NaN</td>\n",
       "      <td>c3</td>\n",
       "    </tr>\n",
       "  </tbody>\n",
       "</table>\n",
       "</div>"
      ],
      "text/plain": [
       "    a    b   c\n",
       "0  a1   b1  c1\n",
       "1  a2   b2  c2\n",
       "2  a3  NaN  c3"
      ]
     },
     "execution_count": 84,
     "metadata": {},
     "output_type": "execute_result"
    }
   ],
   "source": [
    "df_izq.merge(df_der, on = 'a', how = 'right')"
   ]
  },
  {
   "cell_type": "code",
   "execution_count": 85,
   "metadata": {
    "colab": {
     "base_uri": "https://localhost:8080/",
     "height": 142
    },
    "executionInfo": {
     "elapsed": 295,
     "status": "ok",
     "timestamp": 1614118814847,
     "user": {
      "displayName": "Daniel Felipe Fragua Rengifo",
      "photoUrl": "",
      "userId": "09845551813303536248"
     },
     "user_tz": 300
    },
    "id": "AF6Xh93UAfD0",
    "outputId": "457c5c03-8cdf-4946-e4ba-3da9df22335b"
   },
   "outputs": [
    {
     "data": {
      "text/html": [
       "<div>\n",
       "<style scoped>\n",
       "    .dataframe tbody tr th:only-of-type {\n",
       "        vertical-align: middle;\n",
       "    }\n",
       "\n",
       "    .dataframe tbody tr th {\n",
       "        vertical-align: top;\n",
       "    }\n",
       "\n",
       "    .dataframe thead th {\n",
       "        text-align: right;\n",
       "    }\n",
       "</style>\n",
       "<table border=\"1\" class=\"dataframe\">\n",
       "  <thead>\n",
       "    <tr style=\"text-align: right;\">\n",
       "      <th></th>\n",
       "      <th>col_a</th>\n",
       "      <th>b</th>\n",
       "    </tr>\n",
       "  </thead>\n",
       "  <tbody>\n",
       "    <tr>\n",
       "      <th>0</th>\n",
       "      <td>a1</td>\n",
       "      <td>B1</td>\n",
       "    </tr>\n",
       "    <tr>\n",
       "      <th>1</th>\n",
       "      <td>a2</td>\n",
       "      <td>B2</td>\n",
       "    </tr>\n",
       "    <tr>\n",
       "      <th>2</th>\n",
       "      <td>a3</td>\n",
       "      <td>B3</td>\n",
       "    </tr>\n",
       "  </tbody>\n",
       "</table>\n",
       "</div>"
      ],
      "text/plain": [
       "  col_a   b\n",
       "0    a1  B1\n",
       "1    a2  B2\n",
       "2    a3  B3"
      ]
     },
     "execution_count": 85,
     "metadata": {},
     "output_type": "execute_result"
    }
   ],
   "source": [
    "df_der = pd.DataFrame(\n",
    "  {\n",
    "    'col_a' : ['a1', 'a2', 'a3'],\n",
    "    'b' : ['B1', 'B2', 'B3']\n",
    "  }\n",
    ")\n",
    "df_der"
   ]
  },
  {
   "cell_type": "code",
   "execution_count": 86,
   "metadata": {
    "colab": {
     "base_uri": "https://localhost:8080/",
     "height": 173
    },
    "executionInfo": {
     "elapsed": 393,
     "status": "ok",
     "timestamp": 1614118824421,
     "user": {
      "displayName": "Daniel Felipe Fragua Rengifo",
      "photoUrl": "",
      "userId": "09845551813303536248"
     },
     "user_tz": 300
    },
    "id": "V99Zsy8hAys0",
    "outputId": "877e7317-38cd-4777-8bfb-3ef6df8024d3"
   },
   "outputs": [
    {
     "data": {
      "text/html": [
       "<div>\n",
       "<style scoped>\n",
       "    .dataframe tbody tr th:only-of-type {\n",
       "        vertical-align: middle;\n",
       "    }\n",
       "\n",
       "    .dataframe tbody tr th {\n",
       "        vertical-align: top;\n",
       "    }\n",
       "\n",
       "    .dataframe thead th {\n",
       "        text-align: right;\n",
       "    }\n",
       "</style>\n",
       "<table border=\"1\" class=\"dataframe\">\n",
       "  <thead>\n",
       "    <tr style=\"text-align: right;\">\n",
       "      <th></th>\n",
       "      <th>a</th>\n",
       "      <th>b_x</th>\n",
       "      <th>col_a</th>\n",
       "      <th>b_y</th>\n",
       "    </tr>\n",
       "  </thead>\n",
       "  <tbody>\n",
       "    <tr>\n",
       "      <th>0</th>\n",
       "      <td>a0</td>\n",
       "      <td>b0</td>\n",
       "      <td>NaN</td>\n",
       "      <td>NaN</td>\n",
       "    </tr>\n",
       "    <tr>\n",
       "      <th>1</th>\n",
       "      <td>a1</td>\n",
       "      <td>b1</td>\n",
       "      <td>a1</td>\n",
       "      <td>B1</td>\n",
       "    </tr>\n",
       "    <tr>\n",
       "      <th>2</th>\n",
       "      <td>a2</td>\n",
       "      <td>b2</td>\n",
       "      <td>a2</td>\n",
       "      <td>B2</td>\n",
       "    </tr>\n",
       "    <tr>\n",
       "      <th>3</th>\n",
       "      <td>NaN</td>\n",
       "      <td>NaN</td>\n",
       "      <td>a3</td>\n",
       "      <td>B3</td>\n",
       "    </tr>\n",
       "  </tbody>\n",
       "</table>\n",
       "</div>"
      ],
      "text/plain": [
       "     a  b_x col_a  b_y\n",
       "0   a0   b0   NaN  NaN\n",
       "1   a1   b1    a1   B1\n",
       "2   a2   b2    a2   B2\n",
       "3  NaN  NaN    a3   B3"
      ]
     },
     "execution_count": 86,
     "metadata": {},
     "output_type": "execute_result"
    }
   ],
   "source": [
    "#Cuando se encuentran registros solapados se crean columnas aparte con sufijos por cada tabla.\n",
    "df_izq.merge(df_der, \n",
    "              left_on = 'a',      # Columna usada en la tabla izquierda.\n",
    "              right_on = 'col_a', # Columna usada en la tabla derecha.\n",
    "              how = 'outer')"
   ]
  },
  {
   "cell_type": "code",
   "execution_count": 87,
   "metadata": {
    "colab": {
     "base_uri": "https://localhost:8080/",
     "height": 173
    },
    "executionInfo": {
     "elapsed": 315,
     "status": "ok",
     "timestamp": 1614118902124,
     "user": {
      "displayName": "Daniel Felipe Fragua Rengifo",
      "photoUrl": "",
      "userId": "09845551813303536248"
     },
     "user_tz": 300
    },
    "id": "W_vQPkSRBP8J",
    "outputId": "c6442053-bad4-4921-b539-00969cfa8b37"
   },
   "outputs": [
    {
     "data": {
      "text/html": [
       "<div>\n",
       "<style scoped>\n",
       "    .dataframe tbody tr th:only-of-type {\n",
       "        vertical-align: middle;\n",
       "    }\n",
       "\n",
       "    .dataframe tbody tr th {\n",
       "        vertical-align: top;\n",
       "    }\n",
       "\n",
       "    .dataframe thead th {\n",
       "        text-align: right;\n",
       "    }\n",
       "</style>\n",
       "<table border=\"1\" class=\"dataframe\">\n",
       "  <thead>\n",
       "    <tr style=\"text-align: right;\">\n",
       "      <th></th>\n",
       "      <th>a</th>\n",
       "      <th>b_izq</th>\n",
       "      <th>col_a</th>\n",
       "      <th>b_der</th>\n",
       "      <th>_merge</th>\n",
       "    </tr>\n",
       "  </thead>\n",
       "  <tbody>\n",
       "    <tr>\n",
       "      <th>0</th>\n",
       "      <td>a0</td>\n",
       "      <td>b0</td>\n",
       "      <td>NaN</td>\n",
       "      <td>NaN</td>\n",
       "      <td>left_only</td>\n",
       "    </tr>\n",
       "    <tr>\n",
       "      <th>1</th>\n",
       "      <td>a1</td>\n",
       "      <td>b1</td>\n",
       "      <td>a1</td>\n",
       "      <td>B1</td>\n",
       "      <td>both</td>\n",
       "    </tr>\n",
       "    <tr>\n",
       "      <th>2</th>\n",
       "      <td>a2</td>\n",
       "      <td>b2</td>\n",
       "      <td>a2</td>\n",
       "      <td>B2</td>\n",
       "      <td>both</td>\n",
       "    </tr>\n",
       "    <tr>\n",
       "      <th>3</th>\n",
       "      <td>NaN</td>\n",
       "      <td>NaN</td>\n",
       "      <td>a3</td>\n",
       "      <td>B3</td>\n",
       "      <td>right_only</td>\n",
       "    </tr>\n",
       "  </tbody>\n",
       "</table>\n",
       "</div>"
      ],
      "text/plain": [
       "     a b_izq col_a b_der      _merge\n",
       "0   a0    b0   NaN   NaN   left_only\n",
       "1   a1    b1    a1    B1        both\n",
       "2   a2    b2    a2    B2        both\n",
       "3  NaN   NaN    a3    B3  right_only"
      ]
     },
     "execution_count": 87,
     "metadata": {},
     "output_type": "execute_result"
    }
   ],
   "source": [
    "df_izq.merge(df_der, \n",
    "              left_on = 'a',      # Columna usada en la tabla izquierda.\n",
    "              right_on = 'col_a', # Columna usada en la tabla derecha.\n",
    "              how = 'outer',\n",
    "              suffixes = ('_izq', '_der'), # Sufijos para columnas solapadas.\n",
    "              indicator = True # Indicador (columna \"_merge\") de origen de cada fila.\n",
    "              )"
   ]
  },
  {
   "cell_type": "markdown",
   "metadata": {
    "id": "soOJOASlGCfv"
   },
   "source": [
    "* **`df.join`**: Este método comparte la funcionalidad de **`merge`**, pero acercándose más al estilo de combinación de tablas SQL, que realiza combinaciones en los índices de cada tabla. Si bien se puede obtener el mismo resultado con **`merge`** y los argumentos **`left_index`** y **`right_index`**, se recomienda usar **`join`** para simplificar la tarea."
   ]
  },
  {
   "cell_type": "code",
   "execution_count": 88,
   "metadata": {
    "colab": {
     "base_uri": "https://localhost:8080/",
     "height": 142
    },
    "executionInfo": {
     "elapsed": 328,
     "status": "ok",
     "timestamp": 1614118935888,
     "user": {
      "displayName": "Daniel Felipe Fragua Rengifo",
      "photoUrl": "",
      "userId": "09845551813303536248"
     },
     "user_tz": 300
    },
    "id": "MbYC0B-7C9bZ",
    "outputId": "3d9dd381-9ea2-4437-d10b-7390c216f074"
   },
   "outputs": [
    {
     "data": {
      "text/html": [
       "<div>\n",
       "<style scoped>\n",
       "    .dataframe tbody tr th:only-of-type {\n",
       "        vertical-align: middle;\n",
       "    }\n",
       "\n",
       "    .dataframe tbody tr th {\n",
       "        vertical-align: top;\n",
       "    }\n",
       "\n",
       "    .dataframe thead th {\n",
       "        text-align: right;\n",
       "    }\n",
       "</style>\n",
       "<table border=\"1\" class=\"dataframe\">\n",
       "  <thead>\n",
       "    <tr style=\"text-align: right;\">\n",
       "      <th></th>\n",
       "      <th>a</th>\n",
       "      <th>b</th>\n",
       "    </tr>\n",
       "  </thead>\n",
       "  <tbody>\n",
       "    <tr>\n",
       "      <th>i0</th>\n",
       "      <td>a0</td>\n",
       "      <td>b0</td>\n",
       "    </tr>\n",
       "    <tr>\n",
       "      <th>i1</th>\n",
       "      <td>a1</td>\n",
       "      <td>b1</td>\n",
       "    </tr>\n",
       "    <tr>\n",
       "      <th>i2</th>\n",
       "      <td>a2</td>\n",
       "      <td>b2</td>\n",
       "    </tr>\n",
       "  </tbody>\n",
       "</table>\n",
       "</div>"
      ],
      "text/plain": [
       "     a   b\n",
       "i0  a0  b0\n",
       "i1  a1  b1\n",
       "i2  a2  b2"
      ]
     },
     "execution_count": 88,
     "metadata": {},
     "output_type": "execute_result"
    }
   ],
   "source": [
    "df_izq = pd.DataFrame(\n",
    "    {\n",
    "     'a' : ['a0', 'a1', 'a2'],\n",
    "     'b' : ['b0', 'b1', 'b2']\n",
    "    },\n",
    "    index = ['i0', 'i1', 'i2'] #Usamos el mismo ejemplo, pero con índice distinto.\n",
    ")\n",
    "\n",
    "df_izq"
   ]
  },
  {
   "cell_type": "code",
   "execution_count": 89,
   "metadata": {
    "colab": {
     "base_uri": "https://localhost:8080/",
     "height": 142
    },
    "executionInfo": {
     "elapsed": 385,
     "status": "ok",
     "timestamp": 1614118936237,
     "user": {
      "displayName": "Daniel Felipe Fragua Rengifo",
      "photoUrl": "",
      "userId": "09845551813303536248"
     },
     "user_tz": 300
    },
    "id": "3g4d0kShDRUz",
    "outputId": "9ef9a501-0163-4500-f0ec-77be7a98dcdf"
   },
   "outputs": [
    {
     "data": {
      "text/html": [
       "<div>\n",
       "<style scoped>\n",
       "    .dataframe tbody tr th:only-of-type {\n",
       "        vertical-align: middle;\n",
       "    }\n",
       "\n",
       "    .dataframe tbody tr th {\n",
       "        vertical-align: top;\n",
       "    }\n",
       "\n",
       "    .dataframe thead th {\n",
       "        text-align: right;\n",
       "    }\n",
       "</style>\n",
       "<table border=\"1\" class=\"dataframe\">\n",
       "  <thead>\n",
       "    <tr style=\"text-align: right;\">\n",
       "      <th></th>\n",
       "      <th>c</th>\n",
       "      <th>d</th>\n",
       "    </tr>\n",
       "  </thead>\n",
       "  <tbody>\n",
       "    <tr>\n",
       "      <th>i1</th>\n",
       "      <td>c1</td>\n",
       "      <td>d1</td>\n",
       "    </tr>\n",
       "    <tr>\n",
       "      <th>i3</th>\n",
       "      <td>c3</td>\n",
       "      <td>d3</td>\n",
       "    </tr>\n",
       "    <tr>\n",
       "      <th>i4</th>\n",
       "      <td>c4</td>\n",
       "      <td>d4</td>\n",
       "    </tr>\n",
       "  </tbody>\n",
       "</table>\n",
       "</div>"
      ],
      "text/plain": [
       "     c   d\n",
       "i1  c1  d1\n",
       "i3  c3  d3\n",
       "i4  c4  d4"
      ]
     },
     "execution_count": 89,
     "metadata": {},
     "output_type": "execute_result"
    }
   ],
   "source": [
    "df_der = pd.DataFrame(\n",
    "    {\n",
    "     'c' : ['c1', 'c3', 'c4'],\n",
    "     'd' : ['d1', 'd3', 'd4']\n",
    "    },\n",
    "    index = ['i1', 'i3', 'i4']\n",
    ")\n",
    "\n",
    "df_der"
   ]
  },
  {
   "cell_type": "code",
   "execution_count": 90,
   "metadata": {
    "colab": {
     "base_uri": "https://localhost:8080/",
     "height": 204
    },
    "executionInfo": {
     "elapsed": 290,
     "status": "ok",
     "timestamp": 1614118941791,
     "user": {
      "displayName": "Daniel Felipe Fragua Rengifo",
      "photoUrl": "",
      "userId": "09845551813303536248"
     },
     "user_tz": 300
    },
    "id": "89Wt89sWDlSE",
    "outputId": "89647989-3ab8-4a88-8031-35308560abba"
   },
   "outputs": [
    {
     "data": {
      "text/html": [
       "<div>\n",
       "<style scoped>\n",
       "    .dataframe tbody tr th:only-of-type {\n",
       "        vertical-align: middle;\n",
       "    }\n",
       "\n",
       "    .dataframe tbody tr th {\n",
       "        vertical-align: top;\n",
       "    }\n",
       "\n",
       "    .dataframe thead th {\n",
       "        text-align: right;\n",
       "    }\n",
       "</style>\n",
       "<table border=\"1\" class=\"dataframe\">\n",
       "  <thead>\n",
       "    <tr style=\"text-align: right;\">\n",
       "      <th></th>\n",
       "      <th>a</th>\n",
       "      <th>b</th>\n",
       "      <th>c</th>\n",
       "      <th>d</th>\n",
       "    </tr>\n",
       "  </thead>\n",
       "  <tbody>\n",
       "    <tr>\n",
       "      <th>i0</th>\n",
       "      <td>a0</td>\n",
       "      <td>b0</td>\n",
       "      <td>NaN</td>\n",
       "      <td>NaN</td>\n",
       "    </tr>\n",
       "    <tr>\n",
       "      <th>i1</th>\n",
       "      <td>a1</td>\n",
       "      <td>b1</td>\n",
       "      <td>c1</td>\n",
       "      <td>d1</td>\n",
       "    </tr>\n",
       "    <tr>\n",
       "      <th>i2</th>\n",
       "      <td>a2</td>\n",
       "      <td>b2</td>\n",
       "      <td>NaN</td>\n",
       "      <td>NaN</td>\n",
       "    </tr>\n",
       "    <tr>\n",
       "      <th>i3</th>\n",
       "      <td>NaN</td>\n",
       "      <td>NaN</td>\n",
       "      <td>c3</td>\n",
       "      <td>d3</td>\n",
       "    </tr>\n",
       "    <tr>\n",
       "      <th>i4</th>\n",
       "      <td>NaN</td>\n",
       "      <td>NaN</td>\n",
       "      <td>c4</td>\n",
       "      <td>d4</td>\n",
       "    </tr>\n",
       "  </tbody>\n",
       "</table>\n",
       "</div>"
      ],
      "text/plain": [
       "      a    b    c    d\n",
       "i0   a0   b0  NaN  NaN\n",
       "i1   a1   b1   c1   d1\n",
       "i2   a2   b2  NaN  NaN\n",
       "i3  NaN  NaN   c3   d3\n",
       "i4  NaN  NaN   c4   d4"
      ]
     },
     "execution_count": 90,
     "metadata": {},
     "output_type": "execute_result"
    }
   ],
   "source": [
    "# Usando merge\n",
    "df_izq.merge(df_der, left_index = True, right_index = True, how = 'outer')"
   ]
  },
  {
   "cell_type": "code",
   "execution_count": 91,
   "metadata": {
    "colab": {
     "base_uri": "https://localhost:8080/",
     "height": 204
    },
    "executionInfo": {
     "elapsed": 316,
     "status": "ok",
     "timestamp": 1614118943986,
     "user": {
      "displayName": "Daniel Felipe Fragua Rengifo",
      "photoUrl": "",
      "userId": "09845551813303536248"
     },
     "user_tz": 300
    },
    "id": "ajNwb1sgD1Ty",
    "outputId": "4fd0a6b1-9eb1-44b7-833d-af5f1b08e7db"
   },
   "outputs": [
    {
     "data": {
      "text/html": [
       "<div>\n",
       "<style scoped>\n",
       "    .dataframe tbody tr th:only-of-type {\n",
       "        vertical-align: middle;\n",
       "    }\n",
       "\n",
       "    .dataframe tbody tr th {\n",
       "        vertical-align: top;\n",
       "    }\n",
       "\n",
       "    .dataframe thead th {\n",
       "        text-align: right;\n",
       "    }\n",
       "</style>\n",
       "<table border=\"1\" class=\"dataframe\">\n",
       "  <thead>\n",
       "    <tr style=\"text-align: right;\">\n",
       "      <th></th>\n",
       "      <th>a</th>\n",
       "      <th>b</th>\n",
       "      <th>c</th>\n",
       "      <th>d</th>\n",
       "    </tr>\n",
       "  </thead>\n",
       "  <tbody>\n",
       "    <tr>\n",
       "      <th>i0</th>\n",
       "      <td>a0</td>\n",
       "      <td>b0</td>\n",
       "      <td>NaN</td>\n",
       "      <td>NaN</td>\n",
       "    </tr>\n",
       "    <tr>\n",
       "      <th>i1</th>\n",
       "      <td>a1</td>\n",
       "      <td>b1</td>\n",
       "      <td>c1</td>\n",
       "      <td>d1</td>\n",
       "    </tr>\n",
       "    <tr>\n",
       "      <th>i2</th>\n",
       "      <td>a2</td>\n",
       "      <td>b2</td>\n",
       "      <td>NaN</td>\n",
       "      <td>NaN</td>\n",
       "    </tr>\n",
       "    <tr>\n",
       "      <th>i3</th>\n",
       "      <td>NaN</td>\n",
       "      <td>NaN</td>\n",
       "      <td>c3</td>\n",
       "      <td>d3</td>\n",
       "    </tr>\n",
       "    <tr>\n",
       "      <th>i4</th>\n",
       "      <td>NaN</td>\n",
       "      <td>NaN</td>\n",
       "      <td>c4</td>\n",
       "      <td>d4</td>\n",
       "    </tr>\n",
       "  </tbody>\n",
       "</table>\n",
       "</div>"
      ],
      "text/plain": [
       "      a    b    c    d\n",
       "i0   a0   b0  NaN  NaN\n",
       "i1   a1   b1   c1   d1\n",
       "i2   a2   b2  NaN  NaN\n",
       "i3  NaN  NaN   c3   d3\n",
       "i4  NaN  NaN   c4   d4"
      ]
     },
     "execution_count": 91,
     "metadata": {},
     "output_type": "execute_result"
    }
   ],
   "source": [
    "# El mismo resultado con join\n",
    "df_izq.join(df_der, how = 'outer')"
   ]
  },
  {
   "cell_type": "markdown",
   "metadata": {
    "id": "Ib5Jns5zWH2c"
   },
   "source": [
    "El objeto pasado como argumento puede ser un objeto *Series* con nombre. El nombre es necesario pues corresponde al nombre de la columna creada."
   ]
  },
  {
   "cell_type": "code",
   "execution_count": 92,
   "metadata": {
    "colab": {
     "base_uri": "https://localhost:8080/",
     "height": 142
    },
    "executionInfo": {
     "elapsed": 330,
     "status": "ok",
     "timestamp": 1614118981198,
     "user": {
      "displayName": "Daniel Felipe Fragua Rengifo",
      "photoUrl": "",
      "userId": "09845551813303536248"
     },
     "user_tz": 300
    },
    "id": "OEcHu7o3ETUz",
    "outputId": "8ff3fbcc-b0be-4cf7-8de1-bf6c65b81f17"
   },
   "outputs": [
    {
     "data": {
      "text/html": [
       "<div>\n",
       "<style scoped>\n",
       "    .dataframe tbody tr th:only-of-type {\n",
       "        vertical-align: middle;\n",
       "    }\n",
       "\n",
       "    .dataframe tbody tr th {\n",
       "        vertical-align: top;\n",
       "    }\n",
       "\n",
       "    .dataframe thead th {\n",
       "        text-align: right;\n",
       "    }\n",
       "</style>\n",
       "<table border=\"1\" class=\"dataframe\">\n",
       "  <thead>\n",
       "    <tr style=\"text-align: right;\">\n",
       "      <th></th>\n",
       "      <th>c</th>\n",
       "      <th>d</th>\n",
       "      <th>s</th>\n",
       "    </tr>\n",
       "  </thead>\n",
       "  <tbody>\n",
       "    <tr>\n",
       "      <th>i1</th>\n",
       "      <td>c1</td>\n",
       "      <td>d1</td>\n",
       "      <td>1</td>\n",
       "    </tr>\n",
       "    <tr>\n",
       "      <th>i3</th>\n",
       "      <td>c3</td>\n",
       "      <td>d3</td>\n",
       "      <td>0</td>\n",
       "    </tr>\n",
       "    <tr>\n",
       "      <th>i4</th>\n",
       "      <td>c4</td>\n",
       "      <td>d4</td>\n",
       "      <td>0</td>\n",
       "    </tr>\n",
       "  </tbody>\n",
       "</table>\n",
       "</div>"
      ],
      "text/plain": [
       "     c   d  s\n",
       "i1  c1  d1  1\n",
       "i3  c3  d3  0\n",
       "i4  c4  d4  0"
      ]
     },
     "execution_count": 92,
     "metadata": {},
     "output_type": "execute_result"
    }
   ],
   "source": [
    "sr = pd.Series([0, 1, 0, 0], \n",
    "                 index = ['i0', 'i1', 'i3', 'i4'],\n",
    "                 name = 's')\n",
    "\n",
    "df_der.join(sr) # En join el método por defecto es \"left\""
   ]
  },
  {
   "cell_type": "code",
   "execution_count": 93,
   "metadata": {
    "colab": {
     "base_uri": "https://localhost:8080/",
     "height": 142
    },
    "executionInfo": {
     "elapsed": 300,
     "status": "ok",
     "timestamp": 1614119022347,
     "user": {
      "displayName": "Daniel Felipe Fragua Rengifo",
      "photoUrl": "",
      "userId": "09845551813303536248"
     },
     "user_tz": 300
    },
    "id": "M-bGGNQS_W1B",
    "outputId": "d6e77b6e-0d25-4d5b-f4b0-d1c83f7be106"
   },
   "outputs": [
    {
     "data": {
      "text/html": [
       "<div>\n",
       "<style scoped>\n",
       "    .dataframe tbody tr th:only-of-type {\n",
       "        vertical-align: middle;\n",
       "    }\n",
       "\n",
       "    .dataframe tbody tr th {\n",
       "        vertical-align: top;\n",
       "    }\n",
       "\n",
       "    .dataframe thead th {\n",
       "        text-align: right;\n",
       "    }\n",
       "</style>\n",
       "<table border=\"1\" class=\"dataframe\">\n",
       "  <thead>\n",
       "    <tr style=\"text-align: right;\">\n",
       "      <th></th>\n",
       "      <th>c</th>\n",
       "      <th>d</th>\n",
       "    </tr>\n",
       "  </thead>\n",
       "  <tbody>\n",
       "    <tr>\n",
       "      <th>i1</th>\n",
       "      <td>c1</td>\n",
       "      <td>d1</td>\n",
       "    </tr>\n",
       "    <tr>\n",
       "      <th>i3</th>\n",
       "      <td>c3</td>\n",
       "      <td>d3</td>\n",
       "    </tr>\n",
       "    <tr>\n",
       "      <th>i4</th>\n",
       "      <td>c4</td>\n",
       "      <td>d4</td>\n",
       "    </tr>\n",
       "  </tbody>\n",
       "</table>\n",
       "</div>"
      ],
      "text/plain": [
       "     c   d\n",
       "i1  c1  d1\n",
       "i3  c3  d3\n",
       "i4  c4  d4"
      ]
     },
     "execution_count": 93,
     "metadata": {},
     "output_type": "execute_result"
    }
   ],
   "source": [
    "df_der"
   ]
  },
  {
   "cell_type": "code",
   "execution_count": 94,
   "metadata": {
    "colab": {
     "base_uri": "https://localhost:8080/",
     "height": 204
    },
    "executionInfo": {
     "elapsed": 321,
     "status": "ok",
     "timestamp": 1614119029218,
     "user": {
      "displayName": "Daniel Felipe Fragua Rengifo",
      "photoUrl": "",
      "userId": "09845551813303536248"
     },
     "user_tz": 300
    },
    "id": "-2kBeUhYU-hK",
    "outputId": "536cba99-4733-48fa-d48c-5df9f656f01f"
   },
   "outputs": [
    {
     "data": {
      "text/html": [
       "<div>\n",
       "<style scoped>\n",
       "    .dataframe tbody tr th:only-of-type {\n",
       "        vertical-align: middle;\n",
       "    }\n",
       "\n",
       "    .dataframe tbody tr th {\n",
       "        vertical-align: top;\n",
       "    }\n",
       "\n",
       "    .dataframe thead th {\n",
       "        text-align: right;\n",
       "    }\n",
       "</style>\n",
       "<table border=\"1\" class=\"dataframe\">\n",
       "  <thead>\n",
       "    <tr style=\"text-align: right;\">\n",
       "      <th></th>\n",
       "      <th>a</th>\n",
       "      <th>b_izq</th>\n",
       "      <th>b_der</th>\n",
       "      <th>c</th>\n",
       "    </tr>\n",
       "  </thead>\n",
       "  <tbody>\n",
       "    <tr>\n",
       "      <th>i0</th>\n",
       "      <td>a0</td>\n",
       "      <td>b0</td>\n",
       "      <td>NaN</td>\n",
       "      <td>NaN</td>\n",
       "    </tr>\n",
       "    <tr>\n",
       "      <th>i1</th>\n",
       "      <td>a1</td>\n",
       "      <td>b1</td>\n",
       "      <td>b1</td>\n",
       "      <td>c1</td>\n",
       "    </tr>\n",
       "    <tr>\n",
       "      <th>i2</th>\n",
       "      <td>a2</td>\n",
       "      <td>b2</td>\n",
       "      <td>NaN</td>\n",
       "      <td>NaN</td>\n",
       "    </tr>\n",
       "    <tr>\n",
       "      <th>i3</th>\n",
       "      <td>NaN</td>\n",
       "      <td>NaN</td>\n",
       "      <td>b3</td>\n",
       "      <td>c3</td>\n",
       "    </tr>\n",
       "    <tr>\n",
       "      <th>i4</th>\n",
       "      <td>NaN</td>\n",
       "      <td>NaN</td>\n",
       "      <td>b4</td>\n",
       "      <td>c4</td>\n",
       "    </tr>\n",
       "  </tbody>\n",
       "</table>\n",
       "</div>"
      ],
      "text/plain": [
       "      a b_izq b_der    c\n",
       "i0   a0    b0   NaN  NaN\n",
       "i1   a1    b1    b1   c1\n",
       "i2   a2    b2   NaN  NaN\n",
       "i3  NaN   NaN    b3   c3\n",
       "i4  NaN   NaN    b4   c4"
      ]
     },
     "execution_count": 94,
     "metadata": {},
     "output_type": "execute_result"
    }
   ],
   "source": [
    "df_der2 = pd.DataFrame(    \n",
    "    { \n",
    "      'b' : ['b1', 'b3', 'b4'],\n",
    "      'c' : ['c1', 'c3', 'c4']      \n",
    "    },\n",
    "    index = ['i1', 'i3', 'i4']\n",
    ")\n",
    "\n",
    "df_izq.join(df_der2, \n",
    "             how = 'outer',\n",
    "             lsuffix = '_izq', # Los sufijos se especifican por separado.\n",
    "             rsuffix = '_der'\n",
    "             )"
   ]
  },
  {
   "cell_type": "markdown",
   "metadata": {
    "id": "qiJbQt-sEX3_"
   },
   "source": [
    "El método **`join`** también permite hacer múltiples combinaciones en un solo llamado, pasando como argumento del método una lista de *DataFrames*."
   ]
  },
  {
   "cell_type": "code",
   "execution_count": 95,
   "metadata": {
    "colab": {
     "base_uri": "https://localhost:8080/",
     "height": 204
    },
    "executionInfo": {
     "elapsed": 332,
     "status": "ok",
     "timestamp": 1614119063555,
     "user": {
      "displayName": "Daniel Felipe Fragua Rengifo",
      "photoUrl": "",
      "userId": "09845551813303536248"
     },
     "user_tz": 300
    },
    "id": "_isk84t5Wn1t",
    "outputId": "714f0997-1788-420d-dd67-5f7318ba89fc"
   },
   "outputs": [
    {
     "data": {
      "text/html": [
       "<div>\n",
       "<style scoped>\n",
       "    .dataframe tbody tr th:only-of-type {\n",
       "        vertical-align: middle;\n",
       "    }\n",
       "\n",
       "    .dataframe tbody tr th {\n",
       "        vertical-align: top;\n",
       "    }\n",
       "\n",
       "    .dataframe thead th {\n",
       "        text-align: right;\n",
       "    }\n",
       "</style>\n",
       "<table border=\"1\" class=\"dataframe\">\n",
       "  <thead>\n",
       "    <tr style=\"text-align: right;\">\n",
       "      <th></th>\n",
       "      <th>a</th>\n",
       "      <th>b</th>\n",
       "      <th>c</th>\n",
       "      <th>d</th>\n",
       "      <th>e</th>\n",
       "      <th>f</th>\n",
       "    </tr>\n",
       "  </thead>\n",
       "  <tbody>\n",
       "    <tr>\n",
       "      <th>i0</th>\n",
       "      <td>a0</td>\n",
       "      <td>b0</td>\n",
       "      <td>NaN</td>\n",
       "      <td>NaN</td>\n",
       "      <td>e0</td>\n",
       "      <td>f0</td>\n",
       "    </tr>\n",
       "    <tr>\n",
       "      <th>i1</th>\n",
       "      <td>a1</td>\n",
       "      <td>b1</td>\n",
       "      <td>c1</td>\n",
       "      <td>d1</td>\n",
       "      <td>NaN</td>\n",
       "      <td>NaN</td>\n",
       "    </tr>\n",
       "    <tr>\n",
       "      <th>i2</th>\n",
       "      <td>a2</td>\n",
       "      <td>b2</td>\n",
       "      <td>NaN</td>\n",
       "      <td>NaN</td>\n",
       "      <td>NaN</td>\n",
       "      <td>NaN</td>\n",
       "    </tr>\n",
       "    <tr>\n",
       "      <th>i3</th>\n",
       "      <td>NaN</td>\n",
       "      <td>NaN</td>\n",
       "      <td>c3</td>\n",
       "      <td>d3</td>\n",
       "      <td>e3</td>\n",
       "      <td>f3</td>\n",
       "    </tr>\n",
       "    <tr>\n",
       "      <th>i4</th>\n",
       "      <td>NaN</td>\n",
       "      <td>NaN</td>\n",
       "      <td>c4</td>\n",
       "      <td>d4</td>\n",
       "      <td>e4</td>\n",
       "      <td>f4</td>\n",
       "    </tr>\n",
       "  </tbody>\n",
       "</table>\n",
       "</div>"
      ],
      "text/plain": [
       "      a    b    c    d    e    f\n",
       "i0   a0   b0  NaN  NaN   e0   f0\n",
       "i1   a1   b1   c1   d1  NaN  NaN\n",
       "i2   a2   b2  NaN  NaN  NaN  NaN\n",
       "i3  NaN  NaN   c3   d3   e3   f3\n",
       "i4  NaN  NaN   c4   d4   e4   f4"
      ]
     },
     "execution_count": 95,
     "metadata": {},
     "output_type": "execute_result"
    }
   ],
   "source": [
    "df_der2 = pd.DataFrame(    \n",
    "    { \n",
    "      'e' : ['e0', 'e3', 'e4'],\n",
    "      'f' : ['f0', 'f3', 'f4']      \n",
    "    },\n",
    "    index = ['i0', 'i3', 'i4']\n",
    ")\n",
    "\n",
    "\n",
    "df_izq.join([df_der, df_der2], \n",
    "             how = 'outer')"
   ]
  },
  {
   "cell_type": "markdown",
   "metadata": {
    "id": "ZVmjPDly3Vt-"
   },
   "source": [
    "#### **4.2. Agrupación de datos con `df.groupby`**\n",
    "---\n",
    "\n",
    "*Pandas* ofrece métodos para realizar operaciones de agrupación y combinación de datos dentro de un mismo objeto. Estas operaciones consisten en tres fases:\n",
    "\n",
    "*  **Separar** los datos en grupos basándose en algunos criterios.\n",
    "*  **Aplicar** una función a cada grupo. Estas funciones pueden ser de agregación, transformación o filtrado.\n",
    "*  **Combinar** los resultados de la función en una estructura de datos nueva, como un *DataFrame*.\n",
    "\n",
    "\n",
    "Esto es posible con el método **`groupby`**, que realiza un agrupamiento respecto a los criterios definidos en su argumento."
   ]
  },
  {
   "cell_type": "code",
   "execution_count": 96,
   "metadata": {
    "colab": {
     "base_uri": "https://localhost:8080/",
     "height": 1000
    },
    "executionInfo": {
     "elapsed": 288,
     "status": "ok",
     "timestamp": 1614119065191,
     "user": {
      "displayName": "Daniel Felipe Fragua Rengifo",
      "photoUrl": "",
      "userId": "09845551813303536248"
     },
     "user_tz": 300
    },
    "id": "r9tEvveWc9Je",
    "outputId": "20c9cc8c-4381-462f-e59b-fa66d343352c"
   },
   "outputs": [
    {
     "data": {
      "text/html": [
       "<div>\n",
       "<style scoped>\n",
       "    .dataframe tbody tr th:only-of-type {\n",
       "        vertical-align: middle;\n",
       "    }\n",
       "\n",
       "    .dataframe tbody tr th {\n",
       "        vertical-align: top;\n",
       "    }\n",
       "\n",
       "    .dataframe thead th {\n",
       "        text-align: right;\n",
       "    }\n",
       "</style>\n",
       "<table border=\"1\" class=\"dataframe\">\n",
       "  <thead>\n",
       "    <tr style=\"text-align: right;\">\n",
       "      <th></th>\n",
       "      <th>Series</th>\n",
       "      <th>X</th>\n",
       "      <th>Y</th>\n",
       "    </tr>\n",
       "  </thead>\n",
       "  <tbody>\n",
       "    <tr>\n",
       "      <th>0</th>\n",
       "      <td>I</td>\n",
       "      <td>10</td>\n",
       "      <td>8.04</td>\n",
       "    </tr>\n",
       "    <tr>\n",
       "      <th>1</th>\n",
       "      <td>I</td>\n",
       "      <td>8</td>\n",
       "      <td>6.95</td>\n",
       "    </tr>\n",
       "    <tr>\n",
       "      <th>2</th>\n",
       "      <td>I</td>\n",
       "      <td>13</td>\n",
       "      <td>7.58</td>\n",
       "    </tr>\n",
       "    <tr>\n",
       "      <th>3</th>\n",
       "      <td>I</td>\n",
       "      <td>9</td>\n",
       "      <td>8.81</td>\n",
       "    </tr>\n",
       "    <tr>\n",
       "      <th>4</th>\n",
       "      <td>I</td>\n",
       "      <td>11</td>\n",
       "      <td>8.33</td>\n",
       "    </tr>\n",
       "    <tr>\n",
       "      <th>5</th>\n",
       "      <td>I</td>\n",
       "      <td>14</td>\n",
       "      <td>9.96</td>\n",
       "    </tr>\n",
       "    <tr>\n",
       "      <th>6</th>\n",
       "      <td>I</td>\n",
       "      <td>6</td>\n",
       "      <td>7.24</td>\n",
       "    </tr>\n",
       "    <tr>\n",
       "      <th>7</th>\n",
       "      <td>I</td>\n",
       "      <td>4</td>\n",
       "      <td>4.26</td>\n",
       "    </tr>\n",
       "    <tr>\n",
       "      <th>8</th>\n",
       "      <td>I</td>\n",
       "      <td>12</td>\n",
       "      <td>10.84</td>\n",
       "    </tr>\n",
       "    <tr>\n",
       "      <th>9</th>\n",
       "      <td>I</td>\n",
       "      <td>7</td>\n",
       "      <td>4.81</td>\n",
       "    </tr>\n",
       "    <tr>\n",
       "      <th>10</th>\n",
       "      <td>I</td>\n",
       "      <td>5</td>\n",
       "      <td>5.68</td>\n",
       "    </tr>\n",
       "    <tr>\n",
       "      <th>11</th>\n",
       "      <td>II</td>\n",
       "      <td>10</td>\n",
       "      <td>9.14</td>\n",
       "    </tr>\n",
       "    <tr>\n",
       "      <th>12</th>\n",
       "      <td>II</td>\n",
       "      <td>8</td>\n",
       "      <td>8.14</td>\n",
       "    </tr>\n",
       "    <tr>\n",
       "      <th>13</th>\n",
       "      <td>II</td>\n",
       "      <td>13</td>\n",
       "      <td>8.74</td>\n",
       "    </tr>\n",
       "    <tr>\n",
       "      <th>14</th>\n",
       "      <td>II</td>\n",
       "      <td>9</td>\n",
       "      <td>8.77</td>\n",
       "    </tr>\n",
       "    <tr>\n",
       "      <th>15</th>\n",
       "      <td>II</td>\n",
       "      <td>11</td>\n",
       "      <td>9.26</td>\n",
       "    </tr>\n",
       "    <tr>\n",
       "      <th>16</th>\n",
       "      <td>II</td>\n",
       "      <td>14</td>\n",
       "      <td>8.10</td>\n",
       "    </tr>\n",
       "    <tr>\n",
       "      <th>17</th>\n",
       "      <td>II</td>\n",
       "      <td>6</td>\n",
       "      <td>6.13</td>\n",
       "    </tr>\n",
       "    <tr>\n",
       "      <th>18</th>\n",
       "      <td>II</td>\n",
       "      <td>4</td>\n",
       "      <td>3.10</td>\n",
       "    </tr>\n",
       "    <tr>\n",
       "      <th>19</th>\n",
       "      <td>II</td>\n",
       "      <td>12</td>\n",
       "      <td>9.13</td>\n",
       "    </tr>\n",
       "    <tr>\n",
       "      <th>20</th>\n",
       "      <td>II</td>\n",
       "      <td>7</td>\n",
       "      <td>7.26</td>\n",
       "    </tr>\n",
       "    <tr>\n",
       "      <th>21</th>\n",
       "      <td>II</td>\n",
       "      <td>5</td>\n",
       "      <td>4.74</td>\n",
       "    </tr>\n",
       "    <tr>\n",
       "      <th>22</th>\n",
       "      <td>III</td>\n",
       "      <td>10</td>\n",
       "      <td>7.46</td>\n",
       "    </tr>\n",
       "    <tr>\n",
       "      <th>23</th>\n",
       "      <td>III</td>\n",
       "      <td>8</td>\n",
       "      <td>6.77</td>\n",
       "    </tr>\n",
       "    <tr>\n",
       "      <th>24</th>\n",
       "      <td>III</td>\n",
       "      <td>13</td>\n",
       "      <td>12.74</td>\n",
       "    </tr>\n",
       "    <tr>\n",
       "      <th>25</th>\n",
       "      <td>III</td>\n",
       "      <td>9</td>\n",
       "      <td>7.11</td>\n",
       "    </tr>\n",
       "    <tr>\n",
       "      <th>26</th>\n",
       "      <td>III</td>\n",
       "      <td>11</td>\n",
       "      <td>7.81</td>\n",
       "    </tr>\n",
       "    <tr>\n",
       "      <th>27</th>\n",
       "      <td>III</td>\n",
       "      <td>14</td>\n",
       "      <td>8.84</td>\n",
       "    </tr>\n",
       "    <tr>\n",
       "      <th>28</th>\n",
       "      <td>III</td>\n",
       "      <td>6</td>\n",
       "      <td>6.08</td>\n",
       "    </tr>\n",
       "    <tr>\n",
       "      <th>29</th>\n",
       "      <td>III</td>\n",
       "      <td>4</td>\n",
       "      <td>5.39</td>\n",
       "    </tr>\n",
       "    <tr>\n",
       "      <th>30</th>\n",
       "      <td>III</td>\n",
       "      <td>12</td>\n",
       "      <td>8.15</td>\n",
       "    </tr>\n",
       "    <tr>\n",
       "      <th>31</th>\n",
       "      <td>III</td>\n",
       "      <td>7</td>\n",
       "      <td>6.42</td>\n",
       "    </tr>\n",
       "    <tr>\n",
       "      <th>32</th>\n",
       "      <td>III</td>\n",
       "      <td>5</td>\n",
       "      <td>5.73</td>\n",
       "    </tr>\n",
       "    <tr>\n",
       "      <th>33</th>\n",
       "      <td>IV</td>\n",
       "      <td>8</td>\n",
       "      <td>6.58</td>\n",
       "    </tr>\n",
       "    <tr>\n",
       "      <th>34</th>\n",
       "      <td>IV</td>\n",
       "      <td>8</td>\n",
       "      <td>5.76</td>\n",
       "    </tr>\n",
       "    <tr>\n",
       "      <th>35</th>\n",
       "      <td>IV</td>\n",
       "      <td>8</td>\n",
       "      <td>7.71</td>\n",
       "    </tr>\n",
       "    <tr>\n",
       "      <th>36</th>\n",
       "      <td>IV</td>\n",
       "      <td>8</td>\n",
       "      <td>8.84</td>\n",
       "    </tr>\n",
       "    <tr>\n",
       "      <th>37</th>\n",
       "      <td>IV</td>\n",
       "      <td>8</td>\n",
       "      <td>8.47</td>\n",
       "    </tr>\n",
       "    <tr>\n",
       "      <th>38</th>\n",
       "      <td>IV</td>\n",
       "      <td>8</td>\n",
       "      <td>7.04</td>\n",
       "    </tr>\n",
       "    <tr>\n",
       "      <th>39</th>\n",
       "      <td>IV</td>\n",
       "      <td>8</td>\n",
       "      <td>5.25</td>\n",
       "    </tr>\n",
       "    <tr>\n",
       "      <th>40</th>\n",
       "      <td>IV</td>\n",
       "      <td>19</td>\n",
       "      <td>12.50</td>\n",
       "    </tr>\n",
       "    <tr>\n",
       "      <th>41</th>\n",
       "      <td>IV</td>\n",
       "      <td>8</td>\n",
       "      <td>5.56</td>\n",
       "    </tr>\n",
       "    <tr>\n",
       "      <th>42</th>\n",
       "      <td>IV</td>\n",
       "      <td>8</td>\n",
       "      <td>7.91</td>\n",
       "    </tr>\n",
       "    <tr>\n",
       "      <th>43</th>\n",
       "      <td>IV</td>\n",
       "      <td>8</td>\n",
       "      <td>6.89</td>\n",
       "    </tr>\n",
       "  </tbody>\n",
       "</table>\n",
       "</div>"
      ],
      "text/plain": [
       "   Series   X      Y\n",
       "0       I  10   8.04\n",
       "1       I   8   6.95\n",
       "2       I  13   7.58\n",
       "3       I   9   8.81\n",
       "4       I  11   8.33\n",
       "5       I  14   9.96\n",
       "6       I   6   7.24\n",
       "7       I   4   4.26\n",
       "8       I  12  10.84\n",
       "9       I   7   4.81\n",
       "10      I   5   5.68\n",
       "11     II  10   9.14\n",
       "12     II   8   8.14\n",
       "13     II  13   8.74\n",
       "14     II   9   8.77\n",
       "15     II  11   9.26\n",
       "16     II  14   8.10\n",
       "17     II   6   6.13\n",
       "18     II   4   3.10\n",
       "19     II  12   9.13\n",
       "20     II   7   7.26\n",
       "21     II   5   4.74\n",
       "22    III  10   7.46\n",
       "23    III   8   6.77\n",
       "24    III  13  12.74\n",
       "25    III   9   7.11\n",
       "26    III  11   7.81\n",
       "27    III  14   8.84\n",
       "28    III   6   6.08\n",
       "29    III   4   5.39\n",
       "30    III  12   8.15\n",
       "31    III   7   6.42\n",
       "32    III   5   5.73\n",
       "33     IV   8   6.58\n",
       "34     IV   8   5.76\n",
       "35     IV   8   7.71\n",
       "36     IV   8   8.84\n",
       "37     IV   8   8.47\n",
       "38     IV   8   7.04\n",
       "39     IV   8   5.25\n",
       "40     IV  19  12.50\n",
       "41     IV   8   5.56\n",
       "42     IV   8   7.91\n",
       "43     IV   8   6.89"
      ]
     },
     "execution_count": 96,
     "metadata": {},
     "output_type": "execute_result"
    }
   ],
   "source": [
    "#Usaremos de nuevo el dataset de ejemplo de Anscombe para este ejemplo.\n",
    "df = pd.read_json('data/anscombe.json', orient = 'records')\n",
    "\n",
    "df"
   ]
  },
  {
   "cell_type": "code",
   "execution_count": 97,
   "metadata": {
    "colab": {
     "base_uri": "https://localhost:8080/"
    },
    "executionInfo": {
     "elapsed": 325,
     "status": "ok",
     "timestamp": 1614119074375,
     "user": {
      "displayName": "Daniel Felipe Fragua Rengifo",
      "photoUrl": "",
      "userId": "09845551813303536248"
     },
     "user_tz": 300
    },
    "id": "sn5jvgo_c8La",
    "outputId": "ede01ee2-f693-4a2f-cd70-ccdf5a1423c6"
   },
   "outputs": [
    {
     "data": {
      "text/plain": [
       "<pandas.core.groupby.generic.DataFrameGroupBy object at 0x7f2766171520>"
      ]
     },
     "execution_count": 97,
     "metadata": {},
     "output_type": "execute_result"
    }
   ],
   "source": [
    "# Podemos definir una columna categórica respecto a la cual agrupar.\n",
    "df.groupby('Series')"
   ]
  },
  {
   "cell_type": "markdown",
   "metadata": {
    "id": "1_kSTd2ie1fE"
   },
   "source": [
    "La agrupación genera un objeto de tipo **`groupby`**, que contiene la información y los métodos necesarios para operar con cada grupo obtenido. Cada grupo es técnicamente un *DataFrame*, aunque para esto se tienen que iterar."
   ]
  },
  {
   "cell_type": "code",
   "execution_count": 98,
   "metadata": {
    "colab": {
     "base_uri": "https://localhost:8080/"
    },
    "executionInfo": {
     "elapsed": 344,
     "status": "ok",
     "timestamp": 1614119086583,
     "user": {
      "displayName": "Daniel Felipe Fragua Rengifo",
      "photoUrl": "",
      "userId": "09845551813303536248"
     },
     "user_tz": 300
    },
    "id": "E7NQxc737QdH",
    "outputId": "37bee8eb-c3b7-4f4a-da22-ce340fc7eaf7"
   },
   "outputs": [
    {
     "name": "stdout",
     "output_type": "stream",
     "text": [
      "Nombre del grupo: I\n",
      "   Series   X      Y\n",
      "0       I  10   8.04\n",
      "1       I   8   6.95\n",
      "2       I  13   7.58\n",
      "3       I   9   8.81\n",
      "4       I  11   8.33\n",
      "5       I  14   9.96\n",
      "6       I   6   7.24\n",
      "7       I   4   4.26\n",
      "8       I  12  10.84\n",
      "9       I   7   4.81\n",
      "10      I   5   5.68\n",
      "Nombre del grupo: II\n",
      "   Series   X     Y\n",
      "11     II  10  9.14\n",
      "12     II   8  8.14\n",
      "13     II  13  8.74\n",
      "14     II   9  8.77\n",
      "15     II  11  9.26\n",
      "16     II  14  8.10\n",
      "17     II   6  6.13\n",
      "18     II   4  3.10\n",
      "19     II  12  9.13\n",
      "20     II   7  7.26\n",
      "21     II   5  4.74\n",
      "Nombre del grupo: III\n",
      "   Series   X      Y\n",
      "22    III  10   7.46\n",
      "23    III   8   6.77\n",
      "24    III  13  12.74\n",
      "25    III   9   7.11\n",
      "26    III  11   7.81\n",
      "27    III  14   8.84\n",
      "28    III   6   6.08\n",
      "29    III   4   5.39\n",
      "30    III  12   8.15\n",
      "31    III   7   6.42\n",
      "32    III   5   5.73\n",
      "Nombre del grupo: IV\n",
      "   Series   X      Y\n",
      "33     IV   8   6.58\n",
      "34     IV   8   5.76\n",
      "35     IV   8   7.71\n",
      "36     IV   8   8.84\n",
      "37     IV   8   8.47\n",
      "38     IV   8   7.04\n",
      "39     IV   8   5.25\n",
      "40     IV  19  12.50\n",
      "41     IV   8   5.56\n",
      "42     IV   8   7.91\n",
      "43     IV   8   6.89\n"
     ]
    }
   ],
   "source": [
    "for nombre, grupo in df.groupby('Series'):\n",
    "    print(f'Nombre del grupo: {nombre}')\n",
    "    print(grupo)"
   ]
  },
  {
   "cell_type": "markdown",
   "metadata": {
    "id": "9-4UdJnNC0H5"
   },
   "source": [
    "Si se desea obtener un grupo en particular, puede usar el método **`get_group`**, indicando el nombre del grupo creado."
   ]
  },
  {
   "cell_type": "code",
   "execution_count": 99,
   "metadata": {
    "colab": {
     "base_uri": "https://localhost:8080/",
     "height": 390
    },
    "executionInfo": {
     "elapsed": 295,
     "status": "ok",
     "timestamp": 1614119093285,
     "user": {
      "displayName": "Daniel Felipe Fragua Rengifo",
      "photoUrl": "",
      "userId": "09845551813303536248"
     },
     "user_tz": 300
    },
    "id": "-0k4JX0wCzpN",
    "outputId": "66e123cb-8077-4b1b-e4e4-49605a544487"
   },
   "outputs": [
    {
     "data": {
      "text/html": [
       "<div>\n",
       "<style scoped>\n",
       "    .dataframe tbody tr th:only-of-type {\n",
       "        vertical-align: middle;\n",
       "    }\n",
       "\n",
       "    .dataframe tbody tr th {\n",
       "        vertical-align: top;\n",
       "    }\n",
       "\n",
       "    .dataframe thead th {\n",
       "        text-align: right;\n",
       "    }\n",
       "</style>\n",
       "<table border=\"1\" class=\"dataframe\">\n",
       "  <thead>\n",
       "    <tr style=\"text-align: right;\">\n",
       "      <th></th>\n",
       "      <th>Series</th>\n",
       "      <th>X</th>\n",
       "      <th>Y</th>\n",
       "    </tr>\n",
       "  </thead>\n",
       "  <tbody>\n",
       "    <tr>\n",
       "      <th>0</th>\n",
       "      <td>I</td>\n",
       "      <td>10</td>\n",
       "      <td>8.04</td>\n",
       "    </tr>\n",
       "    <tr>\n",
       "      <th>1</th>\n",
       "      <td>I</td>\n",
       "      <td>8</td>\n",
       "      <td>6.95</td>\n",
       "    </tr>\n",
       "    <tr>\n",
       "      <th>2</th>\n",
       "      <td>I</td>\n",
       "      <td>13</td>\n",
       "      <td>7.58</td>\n",
       "    </tr>\n",
       "    <tr>\n",
       "      <th>3</th>\n",
       "      <td>I</td>\n",
       "      <td>9</td>\n",
       "      <td>8.81</td>\n",
       "    </tr>\n",
       "    <tr>\n",
       "      <th>4</th>\n",
       "      <td>I</td>\n",
       "      <td>11</td>\n",
       "      <td>8.33</td>\n",
       "    </tr>\n",
       "    <tr>\n",
       "      <th>5</th>\n",
       "      <td>I</td>\n",
       "      <td>14</td>\n",
       "      <td>9.96</td>\n",
       "    </tr>\n",
       "    <tr>\n",
       "      <th>6</th>\n",
       "      <td>I</td>\n",
       "      <td>6</td>\n",
       "      <td>7.24</td>\n",
       "    </tr>\n",
       "    <tr>\n",
       "      <th>7</th>\n",
       "      <td>I</td>\n",
       "      <td>4</td>\n",
       "      <td>4.26</td>\n",
       "    </tr>\n",
       "    <tr>\n",
       "      <th>8</th>\n",
       "      <td>I</td>\n",
       "      <td>12</td>\n",
       "      <td>10.84</td>\n",
       "    </tr>\n",
       "    <tr>\n",
       "      <th>9</th>\n",
       "      <td>I</td>\n",
       "      <td>7</td>\n",
       "      <td>4.81</td>\n",
       "    </tr>\n",
       "    <tr>\n",
       "      <th>10</th>\n",
       "      <td>I</td>\n",
       "      <td>5</td>\n",
       "      <td>5.68</td>\n",
       "    </tr>\n",
       "  </tbody>\n",
       "</table>\n",
       "</div>"
      ],
      "text/plain": [
       "   Series   X      Y\n",
       "0       I  10   8.04\n",
       "1       I   8   6.95\n",
       "2       I  13   7.58\n",
       "3       I   9   8.81\n",
       "4       I  11   8.33\n",
       "5       I  14   9.96\n",
       "6       I   6   7.24\n",
       "7       I   4   4.26\n",
       "8       I  12  10.84\n",
       "9       I   7   4.81\n",
       "10      I   5   5.68"
      ]
     },
     "execution_count": 99,
     "metadata": {},
     "output_type": "execute_result"
    }
   ],
   "source": [
    "df.groupby('Series').get_group('I')"
   ]
  },
  {
   "cell_type": "markdown",
   "metadata": {
    "id": "jw2I6XoZ7rP1"
   },
   "source": [
    "También pueden tomarse funciones, que son evaluadas en el índice del objeto. Sin embargo, es más práctico utilizar los métodos propios del objeto para **aplicar** funciones comunes.\n",
    "\n",
    "A continuación se presentan algunos de los métodos más importantes y flexibles definidos para objetos de este tipo."
   ]
  },
  {
   "cell_type": "markdown",
   "metadata": {
    "id": "_P5v7NCR872g"
   },
   "source": [
    "* **`groupby.apply`**: Este método es el más general para la aplicación de funciones en grupos de un objeto **`groupby`**. Permite aplicar una función en un objeto por cada grupo (un objeto *DataFrame*) calculado."
   ]
  },
  {
   "cell_type": "code",
   "execution_count": 100,
   "metadata": {
    "colab": {
     "base_uri": "https://localhost:8080/"
    },
    "executionInfo": {
     "elapsed": 282,
     "status": "ok",
     "timestamp": 1614119114992,
     "user": {
      "displayName": "Daniel Felipe Fragua Rengifo",
      "photoUrl": "",
      "userId": "09845551813303536248"
     },
     "user_tz": 300
    },
    "id": "3mS-Zv2LAUvp",
    "outputId": "4172a0c6-89e7-47ad-c325-ac2d7fd2f796"
   },
   "outputs": [
    {
     "data": {
      "text/plain": [
       "Series\n",
       "I      10.84\n",
       "II      9.26\n",
       "III    12.74\n",
       "IV     12.50\n",
       "dtype: float64"
      ]
     },
     "execution_count": 100,
     "metadata": {},
     "output_type": "execute_result"
    }
   ],
   "source": [
    "#Máximo de los elementos en la columna Y de cada grupo.\n",
    "df.groupby('Series').apply(lambda df: df['Y'].max())"
   ]
  },
  {
   "cell_type": "code",
   "execution_count": 101,
   "metadata": {
    "colab": {
     "base_uri": "https://localhost:8080/",
     "height": 204
    },
    "executionInfo": {
     "elapsed": 343,
     "status": "ok",
     "timestamp": 1614119146693,
     "user": {
      "displayName": "Daniel Felipe Fragua Rengifo",
      "photoUrl": "",
      "userId": "09845551813303536248"
     },
     "user_tz": 300
    },
    "id": "DY417MpJEWgG",
    "outputId": "9f118003-0970-4c15-ff22-9e474ae1ff2a"
   },
   "outputs": [
    {
     "data": {
      "text/html": [
       "<div>\n",
       "<style scoped>\n",
       "    .dataframe tbody tr th:only-of-type {\n",
       "        vertical-align: middle;\n",
       "    }\n",
       "\n",
       "    .dataframe tbody tr th {\n",
       "        vertical-align: top;\n",
       "    }\n",
       "\n",
       "    .dataframe thead th {\n",
       "        text-align: right;\n",
       "    }\n",
       "</style>\n",
       "<table border=\"1\" class=\"dataframe\">\n",
       "  <thead>\n",
       "    <tr style=\"text-align: right;\">\n",
       "      <th></th>\n",
       "      <th>max_x</th>\n",
       "      <th>min_x</th>\n",
       "      <th>max_y</th>\n",
       "      <th>min_y</th>\n",
       "    </tr>\n",
       "    <tr>\n",
       "      <th>Series</th>\n",
       "      <th></th>\n",
       "      <th></th>\n",
       "      <th></th>\n",
       "      <th></th>\n",
       "    </tr>\n",
       "  </thead>\n",
       "  <tbody>\n",
       "    <tr>\n",
       "      <th>I</th>\n",
       "      <td>14.0</td>\n",
       "      <td>4.0</td>\n",
       "      <td>4.26</td>\n",
       "      <td>4.26</td>\n",
       "    </tr>\n",
       "    <tr>\n",
       "      <th>II</th>\n",
       "      <td>14.0</td>\n",
       "      <td>4.0</td>\n",
       "      <td>3.10</td>\n",
       "      <td>3.10</td>\n",
       "    </tr>\n",
       "    <tr>\n",
       "      <th>III</th>\n",
       "      <td>14.0</td>\n",
       "      <td>4.0</td>\n",
       "      <td>5.39</td>\n",
       "      <td>5.39</td>\n",
       "    </tr>\n",
       "    <tr>\n",
       "      <th>IV</th>\n",
       "      <td>19.0</td>\n",
       "      <td>8.0</td>\n",
       "      <td>5.25</td>\n",
       "      <td>5.25</td>\n",
       "    </tr>\n",
       "  </tbody>\n",
       "</table>\n",
       "</div>"
      ],
      "text/plain": [
       "        max_x  min_x  max_y  min_y\n",
       "Series                            \n",
       "I        14.0    4.0   4.26   4.26\n",
       "II       14.0    4.0   3.10   3.10\n",
       "III      14.0    4.0   5.39   5.39\n",
       "IV       19.0    8.0   5.25   5.25"
      ]
     },
     "execution_count": 101,
     "metadata": {},
     "output_type": "execute_result"
    }
   ],
   "source": [
    "def apply_func(df):\n",
    "    '''\n",
    "    Función más compleja que define una fila nueva\n",
    "    con los máximos y mínimos en X y Y de cada grupo.\n",
    "    '''\n",
    "    return pd.Series({\n",
    "       'max_x': df['X'].max(),\n",
    "       'min_x': df['X'].min(),\n",
    "       'max_y': df['Y'].min(),\n",
    "       'min_y': df['Y'].min()\n",
    "    })\n",
    "\n",
    "df.groupby('Series').apply(apply_func)"
   ]
  },
  {
   "cell_type": "markdown",
   "metadata": {
    "id": "smIpNmfGFV38"
   },
   "source": [
    "El método **`apply`** está definido también en objetos *DataFrame* y *Series*."
   ]
  },
  {
   "cell_type": "code",
   "execution_count": 102,
   "metadata": {
    "colab": {
     "base_uri": "https://localhost:8080/"
    },
    "executionInfo": {
     "elapsed": 337,
     "status": "ok",
     "timestamp": 1614119179505,
     "user": {
      "displayName": "Daniel Felipe Fragua Rengifo",
      "photoUrl": "",
      "userId": "09845551813303536248"
     },
     "user_tz": 300
    },
    "id": "UdYMHQkMUiKh",
    "outputId": "95e659a2-43aa-44bd-999b-1848d93261cb"
   },
   "outputs": [
    {
     "data": {
      "text/plain": [
       "0     0.0\n",
       "1     0.1\n",
       "2     0.2\n",
       "3     0.3\n",
       "4     0.4\n",
       "5     0.5\n",
       "6     0.6\n",
       "7     0.7\n",
       "8     0.8\n",
       "9     0.9\n",
       "10    1.0\n",
       "dtype: float64"
      ]
     },
     "execution_count": 102,
     "metadata": {},
     "output_type": "execute_result"
    }
   ],
   "source": [
    "# En Series recibe funciones que toman como parámetros valores escalares.\n",
    "\n",
    "s = pd.Series(np.linspace(0,1,11))\n",
    "\n",
    "s"
   ]
  },
  {
   "cell_type": "code",
   "execution_count": 103,
   "metadata": {
    "colab": {
     "base_uri": "https://localhost:8080/"
    },
    "executionInfo": {
     "elapsed": 289,
     "status": "ok",
     "timestamp": 1614119187377,
     "user": {
      "displayName": "Daniel Felipe Fragua Rengifo",
      "photoUrl": "",
      "userId": "09845551813303536248"
     },
     "user_tz": 300
    },
    "id": "GXS_GuohVApw",
    "outputId": "76e26c81-8c4a-42ef-e25e-4faf342e4c23"
   },
   "outputs": [
    {
     "data": {
      "text/plain": [
       "0    -0.0\n",
       "1    -0.1\n",
       "2    -0.2\n",
       "3    -0.3\n",
       "4    -0.4\n",
       "5    -0.5\n",
       "6    -0.6\n",
       "7    -0.7\n",
       "8    -0.8\n",
       "9    -0.9\n",
       "10   -1.0\n",
       "dtype: float64"
      ]
     },
     "execution_count": 103,
     "metadata": {},
     "output_type": "execute_result"
    }
   ],
   "source": [
    "# Función de números negativos.\n",
    "\n",
    "s.apply(lambda x: -x)"
   ]
  },
  {
   "cell_type": "code",
   "execution_count": 104,
   "metadata": {
    "colab": {
     "base_uri": "https://localhost:8080/",
     "height": 266
    },
    "executionInfo": {
     "elapsed": 291,
     "status": "ok",
     "timestamp": 1614119198744,
     "user": {
      "displayName": "Daniel Felipe Fragua Rengifo",
      "photoUrl": "",
      "userId": "09845551813303536248"
     },
     "user_tz": 300
    },
    "id": "4ma5rd1lVHFZ",
    "outputId": "c9d5fa94-9df6-4e5b-f2fc-dc71a8d37f68"
   },
   "outputs": [
    {
     "data": {
      "text/html": [
       "<div>\n",
       "<style scoped>\n",
       "    .dataframe tbody tr th:only-of-type {\n",
       "        vertical-align: middle;\n",
       "    }\n",
       "\n",
       "    .dataframe tbody tr th {\n",
       "        vertical-align: top;\n",
       "    }\n",
       "\n",
       "    .dataframe thead th {\n",
       "        text-align: right;\n",
       "    }\n",
       "</style>\n",
       "<table border=\"1\" class=\"dataframe\">\n",
       "  <thead>\n",
       "    <tr style=\"text-align: right;\">\n",
       "      <th></th>\n",
       "      <th>a</th>\n",
       "      <th>b</th>\n",
       "      <th>c</th>\n",
       "    </tr>\n",
       "  </thead>\n",
       "  <tbody>\n",
       "    <tr>\n",
       "      <th>0</th>\n",
       "      <td>0.863263</td>\n",
       "      <td>0.595113</td>\n",
       "      <td>0.995782</td>\n",
       "    </tr>\n",
       "    <tr>\n",
       "      <th>1</th>\n",
       "      <td>0.830847</td>\n",
       "      <td>0.868265</td>\n",
       "      <td>0.600523</td>\n",
       "    </tr>\n",
       "    <tr>\n",
       "      <th>2</th>\n",
       "      <td>0.558261</td>\n",
       "      <td>0.260552</td>\n",
       "      <td>0.189891</td>\n",
       "    </tr>\n",
       "    <tr>\n",
       "      <th>3</th>\n",
       "      <td>0.595447</td>\n",
       "      <td>0.442779</td>\n",
       "      <td>0.005123</td>\n",
       "    </tr>\n",
       "    <tr>\n",
       "      <th>4</th>\n",
       "      <td>0.835487</td>\n",
       "      <td>0.895130</td>\n",
       "      <td>0.467014</td>\n",
       "    </tr>\n",
       "    <tr>\n",
       "      <th>5</th>\n",
       "      <td>0.413218</td>\n",
       "      <td>0.356863</td>\n",
       "      <td>0.287223</td>\n",
       "    </tr>\n",
       "    <tr>\n",
       "      <th>6</th>\n",
       "      <td>0.167237</td>\n",
       "      <td>0.578021</td>\n",
       "      <td>0.455755</td>\n",
       "    </tr>\n",
       "  </tbody>\n",
       "</table>\n",
       "</div>"
      ],
      "text/plain": [
       "          a         b         c\n",
       "0  0.863263  0.595113  0.995782\n",
       "1  0.830847  0.868265  0.600523\n",
       "2  0.558261  0.260552  0.189891\n",
       "3  0.595447  0.442779  0.005123\n",
       "4  0.835487  0.895130  0.467014\n",
       "5  0.413218  0.356863  0.287223\n",
       "6  0.167237  0.578021  0.455755"
      ]
     },
     "execution_count": 104,
     "metadata": {},
     "output_type": "execute_result"
    }
   ],
   "source": [
    "# En DataFrame, el argumento recibe una fila o columna en forma de Series.\n",
    "\n",
    "df = pd.DataFrame(np.random.rand(7,3), columns = list('abc'))\n",
    "df"
   ]
  },
  {
   "cell_type": "code",
   "execution_count": 105,
   "metadata": {
    "colab": {
     "base_uri": "https://localhost:8080/"
    },
    "executionInfo": {
     "elapsed": 298,
     "status": "ok",
     "timestamp": 1614119202218,
     "user": {
      "displayName": "Daniel Felipe Fragua Rengifo",
      "photoUrl": "",
      "userId": "09845551813303536248"
     },
     "user_tz": 300
    },
    "id": "tQknLZgpVXkL",
    "outputId": "4d34f95f-ce3b-4ca0-cd0b-8e5a631cdc0d"
   },
   "outputs": [
    {
     "data": {
      "text/plain": [
       "a    4.263759\n",
       "b    3.996722\n",
       "c    3.001310\n",
       "dtype: float64"
      ]
     },
     "execution_count": 105,
     "metadata": {},
     "output_type": "execute_result"
    }
   ],
   "source": [
    "df.apply(lambda row: row.sum()) # Por defecto se aplica la función en columnas."
   ]
  },
  {
   "cell_type": "code",
   "execution_count": 106,
   "metadata": {
    "colab": {
     "base_uri": "https://localhost:8080/"
    },
    "executionInfo": {
     "elapsed": 320,
     "status": "ok",
     "timestamp": 1614119209821,
     "user": {
      "displayName": "Daniel Felipe Fragua Rengifo",
      "photoUrl": "",
      "userId": "09845551813303536248"
     },
     "user_tz": 300
    },
    "id": "FKHBnAzNVlHU",
    "outputId": "003ff6fd-77c2-4ab2-ebd7-c1a58fda2e76"
   },
   "outputs": [
    {
     "data": {
      "text/plain": [
       "0    2.454158\n",
       "1    2.299635\n",
       "2    1.008704\n",
       "3    1.043348\n",
       "4    2.197630\n",
       "5    1.057304\n",
       "6    1.201012\n",
       "dtype: float64"
      ]
     },
     "execution_count": 106,
     "metadata": {},
     "output_type": "execute_result"
    }
   ],
   "source": [
    "df.apply(lambda row: row.sum(), axis = 1) #El argumento axis = 1 indica que se aplique por filas."
   ]
  },
  {
   "cell_type": "markdown",
   "metadata": {
    "id": "ZZIdW2IjWCyA"
   },
   "source": [
    "* **`groupby.aggregate|agg`**: Uno de los tipos de aplicación de funciones más importante es la **agregación** que consiste en realizar un cálculo en cada grupo que resuma o represente al grupo completo, como la suma o la media. Para esto, se puede usar el método **`.aggregate`** (o su equivalente **`.agg`**), que acepta como argumento una función de agregación a aplicar en los *DataFrame* definidos en cada grupo.\n"
   ]
  },
  {
   "cell_type": "code",
   "execution_count": 107,
   "metadata": {
    "colab": {
     "base_uri": "https://localhost:8080/",
     "height": 235
    },
    "executionInfo": {
     "elapsed": 377,
     "status": "ok",
     "timestamp": 1614119262326,
     "user": {
      "displayName": "Daniel Felipe Fragua Rengifo",
      "photoUrl": "",
      "userId": "09845551813303536248"
     },
     "user_tz": 300
    },
    "id": "6n6SwxolZKog",
    "outputId": "bd1852ee-ba4a-483a-d274-2de2a4d8506c"
   },
   "outputs": [
    {
     "data": {
      "text/html": [
       "<div>\n",
       "<style scoped>\n",
       "    .dataframe tbody tr th:only-of-type {\n",
       "        vertical-align: middle;\n",
       "    }\n",
       "\n",
       "    .dataframe tbody tr th {\n",
       "        vertical-align: top;\n",
       "    }\n",
       "\n",
       "    .dataframe thead th {\n",
       "        text-align: right;\n",
       "    }\n",
       "</style>\n",
       "<table border=\"1\" class=\"dataframe\">\n",
       "  <thead>\n",
       "    <tr style=\"text-align: right;\">\n",
       "      <th></th>\n",
       "      <th>Series</th>\n",
       "      <th>X</th>\n",
       "      <th>Y</th>\n",
       "    </tr>\n",
       "  </thead>\n",
       "  <tbody>\n",
       "    <tr>\n",
       "      <th>0</th>\n",
       "      <td>I</td>\n",
       "      <td>10</td>\n",
       "      <td>8.04</td>\n",
       "    </tr>\n",
       "    <tr>\n",
       "      <th>1</th>\n",
       "      <td>I</td>\n",
       "      <td>8</td>\n",
       "      <td>6.95</td>\n",
       "    </tr>\n",
       "    <tr>\n",
       "      <th>2</th>\n",
       "      <td>I</td>\n",
       "      <td>13</td>\n",
       "      <td>7.58</td>\n",
       "    </tr>\n",
       "    <tr>\n",
       "      <th>3</th>\n",
       "      <td>I</td>\n",
       "      <td>9</td>\n",
       "      <td>8.81</td>\n",
       "    </tr>\n",
       "    <tr>\n",
       "      <th>4</th>\n",
       "      <td>I</td>\n",
       "      <td>11</td>\n",
       "      <td>8.33</td>\n",
       "    </tr>\n",
       "    <tr>\n",
       "      <th>5</th>\n",
       "      <td>I</td>\n",
       "      <td>14</td>\n",
       "      <td>9.96</td>\n",
       "    </tr>\n",
       "    <tr>\n",
       "      <th>6</th>\n",
       "      <td>I</td>\n",
       "      <td>6</td>\n",
       "      <td>7.24</td>\n",
       "    </tr>\n",
       "    <tr>\n",
       "      <th>7</th>\n",
       "      <td>I</td>\n",
       "      <td>4</td>\n",
       "      <td>4.26</td>\n",
       "    </tr>\n",
       "    <tr>\n",
       "      <th>8</th>\n",
       "      <td>I</td>\n",
       "      <td>12</td>\n",
       "      <td>10.84</td>\n",
       "    </tr>\n",
       "    <tr>\n",
       "      <th>9</th>\n",
       "      <td>I</td>\n",
       "      <td>7</td>\n",
       "      <td>4.81</td>\n",
       "    </tr>\n",
       "    <tr>\n",
       "      <th>10</th>\n",
       "      <td>I</td>\n",
       "      <td>5</td>\n",
       "      <td>5.68</td>\n",
       "    </tr>\n",
       "    <tr>\n",
       "      <th>11</th>\n",
       "      <td>II</td>\n",
       "      <td>10</td>\n",
       "      <td>9.14</td>\n",
       "    </tr>\n",
       "    <tr>\n",
       "      <th>12</th>\n",
       "      <td>II</td>\n",
       "      <td>8</td>\n",
       "      <td>8.14</td>\n",
       "    </tr>\n",
       "    <tr>\n",
       "      <th>13</th>\n",
       "      <td>II</td>\n",
       "      <td>13</td>\n",
       "      <td>8.74</td>\n",
       "    </tr>\n",
       "    <tr>\n",
       "      <th>14</th>\n",
       "      <td>II</td>\n",
       "      <td>9</td>\n",
       "      <td>8.77</td>\n",
       "    </tr>\n",
       "    <tr>\n",
       "      <th>15</th>\n",
       "      <td>II</td>\n",
       "      <td>11</td>\n",
       "      <td>9.26</td>\n",
       "    </tr>\n",
       "    <tr>\n",
       "      <th>16</th>\n",
       "      <td>II</td>\n",
       "      <td>14</td>\n",
       "      <td>8.10</td>\n",
       "    </tr>\n",
       "    <tr>\n",
       "      <th>17</th>\n",
       "      <td>II</td>\n",
       "      <td>6</td>\n",
       "      <td>6.13</td>\n",
       "    </tr>\n",
       "    <tr>\n",
       "      <th>18</th>\n",
       "      <td>II</td>\n",
       "      <td>4</td>\n",
       "      <td>3.10</td>\n",
       "    </tr>\n",
       "    <tr>\n",
       "      <th>19</th>\n",
       "      <td>II</td>\n",
       "      <td>12</td>\n",
       "      <td>9.13</td>\n",
       "    </tr>\n",
       "    <tr>\n",
       "      <th>20</th>\n",
       "      <td>II</td>\n",
       "      <td>7</td>\n",
       "      <td>7.26</td>\n",
       "    </tr>\n",
       "    <tr>\n",
       "      <th>21</th>\n",
       "      <td>II</td>\n",
       "      <td>5</td>\n",
       "      <td>4.74</td>\n",
       "    </tr>\n",
       "    <tr>\n",
       "      <th>22</th>\n",
       "      <td>III</td>\n",
       "      <td>10</td>\n",
       "      <td>7.46</td>\n",
       "    </tr>\n",
       "    <tr>\n",
       "      <th>23</th>\n",
       "      <td>III</td>\n",
       "      <td>8</td>\n",
       "      <td>6.77</td>\n",
       "    </tr>\n",
       "    <tr>\n",
       "      <th>24</th>\n",
       "      <td>III</td>\n",
       "      <td>13</td>\n",
       "      <td>12.74</td>\n",
       "    </tr>\n",
       "    <tr>\n",
       "      <th>25</th>\n",
       "      <td>III</td>\n",
       "      <td>9</td>\n",
       "      <td>7.11</td>\n",
       "    </tr>\n",
       "    <tr>\n",
       "      <th>26</th>\n",
       "      <td>III</td>\n",
       "      <td>11</td>\n",
       "      <td>7.81</td>\n",
       "    </tr>\n",
       "    <tr>\n",
       "      <th>27</th>\n",
       "      <td>III</td>\n",
       "      <td>14</td>\n",
       "      <td>8.84</td>\n",
       "    </tr>\n",
       "    <tr>\n",
       "      <th>28</th>\n",
       "      <td>III</td>\n",
       "      <td>6</td>\n",
       "      <td>6.08</td>\n",
       "    </tr>\n",
       "    <tr>\n",
       "      <th>29</th>\n",
       "      <td>III</td>\n",
       "      <td>4</td>\n",
       "      <td>5.39</td>\n",
       "    </tr>\n",
       "    <tr>\n",
       "      <th>30</th>\n",
       "      <td>III</td>\n",
       "      <td>12</td>\n",
       "      <td>8.15</td>\n",
       "    </tr>\n",
       "    <tr>\n",
       "      <th>31</th>\n",
       "      <td>III</td>\n",
       "      <td>7</td>\n",
       "      <td>6.42</td>\n",
       "    </tr>\n",
       "    <tr>\n",
       "      <th>32</th>\n",
       "      <td>III</td>\n",
       "      <td>5</td>\n",
       "      <td>5.73</td>\n",
       "    </tr>\n",
       "    <tr>\n",
       "      <th>33</th>\n",
       "      <td>IV</td>\n",
       "      <td>8</td>\n",
       "      <td>6.58</td>\n",
       "    </tr>\n",
       "    <tr>\n",
       "      <th>34</th>\n",
       "      <td>IV</td>\n",
       "      <td>8</td>\n",
       "      <td>5.76</td>\n",
       "    </tr>\n",
       "    <tr>\n",
       "      <th>35</th>\n",
       "      <td>IV</td>\n",
       "      <td>8</td>\n",
       "      <td>7.71</td>\n",
       "    </tr>\n",
       "    <tr>\n",
       "      <th>36</th>\n",
       "      <td>IV</td>\n",
       "      <td>8</td>\n",
       "      <td>8.84</td>\n",
       "    </tr>\n",
       "    <tr>\n",
       "      <th>37</th>\n",
       "      <td>IV</td>\n",
       "      <td>8</td>\n",
       "      <td>8.47</td>\n",
       "    </tr>\n",
       "    <tr>\n",
       "      <th>38</th>\n",
       "      <td>IV</td>\n",
       "      <td>8</td>\n",
       "      <td>7.04</td>\n",
       "    </tr>\n",
       "    <tr>\n",
       "      <th>39</th>\n",
       "      <td>IV</td>\n",
       "      <td>8</td>\n",
       "      <td>5.25</td>\n",
       "    </tr>\n",
       "    <tr>\n",
       "      <th>40</th>\n",
       "      <td>IV</td>\n",
       "      <td>19</td>\n",
       "      <td>12.50</td>\n",
       "    </tr>\n",
       "    <tr>\n",
       "      <th>41</th>\n",
       "      <td>IV</td>\n",
       "      <td>8</td>\n",
       "      <td>5.56</td>\n",
       "    </tr>\n",
       "    <tr>\n",
       "      <th>42</th>\n",
       "      <td>IV</td>\n",
       "      <td>8</td>\n",
       "      <td>7.91</td>\n",
       "    </tr>\n",
       "    <tr>\n",
       "      <th>43</th>\n",
       "      <td>IV</td>\n",
       "      <td>8</td>\n",
       "      <td>6.89</td>\n",
       "    </tr>\n",
       "  </tbody>\n",
       "</table>\n",
       "</div>"
      ],
      "text/plain": [
       "   Series   X      Y\n",
       "0       I  10   8.04\n",
       "1       I   8   6.95\n",
       "2       I  13   7.58\n",
       "3       I   9   8.81\n",
       "4       I  11   8.33\n",
       "5       I  14   9.96\n",
       "6       I   6   7.24\n",
       "7       I   4   4.26\n",
       "8       I  12  10.84\n",
       "9       I   7   4.81\n",
       "10      I   5   5.68\n",
       "11     II  10   9.14\n",
       "12     II   8   8.14\n",
       "13     II  13   8.74\n",
       "14     II   9   8.77\n",
       "15     II  11   9.26\n",
       "16     II  14   8.10\n",
       "17     II   6   6.13\n",
       "18     II   4   3.10\n",
       "19     II  12   9.13\n",
       "20     II   7   7.26\n",
       "21     II   5   4.74\n",
       "22    III  10   7.46\n",
       "23    III   8   6.77\n",
       "24    III  13  12.74\n",
       "25    III   9   7.11\n",
       "26    III  11   7.81\n",
       "27    III  14   8.84\n",
       "28    III   6   6.08\n",
       "29    III   4   5.39\n",
       "30    III  12   8.15\n",
       "31    III   7   6.42\n",
       "32    III   5   5.73\n",
       "33     IV   8   6.58\n",
       "34     IV   8   5.76\n",
       "35     IV   8   7.71\n",
       "36     IV   8   8.84\n",
       "37     IV   8   8.47\n",
       "38     IV   8   7.04\n",
       "39     IV   8   5.25\n",
       "40     IV  19  12.50\n",
       "41     IV   8   5.56\n",
       "42     IV   8   7.91\n",
       "43     IV   8   6.89"
      ]
     },
     "execution_count": 107,
     "metadata": {},
     "output_type": "execute_result"
    }
   ],
   "source": [
    "#Usaremos de nuevo el dataset de ejemplo de Anscombe para este ejemplo.\n",
    "df = pd.read_json('data/anscombe.json', orient = 'records')\n",
    "\n",
    "df"
   ]
  },
  {
   "cell_type": "markdown",
   "metadata": {
    "id": "A4gHLrPPb7sr"
   },
   "source": [
    "El método **`agg`** acepta funciones puntuales como **`apply`**, además de permitir ingresar una o varias funciones de agregación por columna mediante un diccionario."
   ]
  },
  {
   "cell_type": "code",
   "execution_count": 108,
   "metadata": {
    "colab": {
     "base_uri": "https://localhost:8080/",
     "height": 173
    },
    "executionInfo": {
     "elapsed": 301,
     "status": "ok",
     "timestamp": 1614119265613,
     "user": {
      "displayName": "Daniel Felipe Fragua Rengifo",
      "photoUrl": "",
      "userId": "09845551813303536248"
     },
     "user_tz": 300
    },
    "id": "MUUPcao2bIwO",
    "outputId": "fe3a44cc-de0a-428a-8bfa-ec44e240bdb1"
   },
   "outputs": [
    {
     "data": {
      "text/html": [
       "<div>\n",
       "<style scoped>\n",
       "    .dataframe tbody tr th:only-of-type {\n",
       "        vertical-align: middle;\n",
       "    }\n",
       "\n",
       "    .dataframe tbody tr th {\n",
       "        vertical-align: top;\n",
       "    }\n",
       "\n",
       "    .dataframe thead th {\n",
       "        text-align: right;\n",
       "    }\n",
       "</style>\n",
       "<table border=\"1\" class=\"dataframe\">\n",
       "  <thead>\n",
       "    <tr style=\"text-align: right;\">\n",
       "      <th></th>\n",
       "      <th>X</th>\n",
       "      <th>Y</th>\n",
       "    </tr>\n",
       "    <tr>\n",
       "      <th>Series</th>\n",
       "      <th></th>\n",
       "      <th></th>\n",
       "    </tr>\n",
       "  </thead>\n",
       "  <tbody>\n",
       "    <tr>\n",
       "      <th>I</th>\n",
       "      <td>14</td>\n",
       "      <td>82.50</td>\n",
       "    </tr>\n",
       "    <tr>\n",
       "      <th>II</th>\n",
       "      <td>14</td>\n",
       "      <td>82.51</td>\n",
       "    </tr>\n",
       "    <tr>\n",
       "      <th>III</th>\n",
       "      <td>14</td>\n",
       "      <td>82.50</td>\n",
       "    </tr>\n",
       "    <tr>\n",
       "      <th>IV</th>\n",
       "      <td>19</td>\n",
       "      <td>82.51</td>\n",
       "    </tr>\n",
       "  </tbody>\n",
       "</table>\n",
       "</div>"
      ],
      "text/plain": [
       "         X      Y\n",
       "Series           \n",
       "I       14  82.50\n",
       "II      14  82.51\n",
       "III     14  82.50\n",
       "IV      19  82.51"
      ]
     },
     "execution_count": 108,
     "metadata": {},
     "output_type": "execute_result"
    }
   ],
   "source": [
    "# Tabla que refleja la edad máxima y el total de medallas por país.\n",
    "\n",
    "df.groupby('Series').agg({'X' : max, 'Y' : sum})"
   ]
  },
  {
   "cell_type": "code",
   "execution_count": 109,
   "metadata": {
    "colab": {
     "base_uri": "https://localhost:8080/",
     "height": 204
    },
    "executionInfo": {
     "elapsed": 289,
     "status": "ok",
     "timestamp": 1614119267789,
     "user": {
      "displayName": "Daniel Felipe Fragua Rengifo",
      "photoUrl": "",
      "userId": "09845551813303536248"
     },
     "user_tz": 300
    },
    "id": "vzL7stA4cSNX",
    "outputId": "370b4b97-993c-43de-976f-0a46c1186d2e"
   },
   "outputs": [
    {
     "data": {
      "text/html": [
       "<div>\n",
       "<style scoped>\n",
       "    .dataframe tbody tr th:only-of-type {\n",
       "        vertical-align: middle;\n",
       "    }\n",
       "\n",
       "    .dataframe tbody tr th {\n",
       "        vertical-align: top;\n",
       "    }\n",
       "\n",
       "    .dataframe thead tr th {\n",
       "        text-align: left;\n",
       "    }\n",
       "\n",
       "    .dataframe thead tr:last-of-type th {\n",
       "        text-align: right;\n",
       "    }\n",
       "</style>\n",
       "<table border=\"1\" class=\"dataframe\">\n",
       "  <thead>\n",
       "    <tr>\n",
       "      <th></th>\n",
       "      <th colspan=\"2\" halign=\"left\">X</th>\n",
       "      <th>Y</th>\n",
       "    </tr>\n",
       "    <tr>\n",
       "      <th></th>\n",
       "      <th>min</th>\n",
       "      <th>max</th>\n",
       "      <th>sum</th>\n",
       "    </tr>\n",
       "    <tr>\n",
       "      <th>Series</th>\n",
       "      <th></th>\n",
       "      <th></th>\n",
       "      <th></th>\n",
       "    </tr>\n",
       "  </thead>\n",
       "  <tbody>\n",
       "    <tr>\n",
       "      <th>I</th>\n",
       "      <td>4</td>\n",
       "      <td>14</td>\n",
       "      <td>82.50</td>\n",
       "    </tr>\n",
       "    <tr>\n",
       "      <th>II</th>\n",
       "      <td>4</td>\n",
       "      <td>14</td>\n",
       "      <td>82.51</td>\n",
       "    </tr>\n",
       "    <tr>\n",
       "      <th>III</th>\n",
       "      <td>4</td>\n",
       "      <td>14</td>\n",
       "      <td>82.50</td>\n",
       "    </tr>\n",
       "    <tr>\n",
       "      <th>IV</th>\n",
       "      <td>8</td>\n",
       "      <td>19</td>\n",
       "      <td>82.51</td>\n",
       "    </tr>\n",
       "  </tbody>\n",
       "</table>\n",
       "</div>"
      ],
      "text/plain": [
       "         X          Y\n",
       "       min max    sum\n",
       "Series               \n",
       "I        4  14  82.50\n",
       "II       4  14  82.51\n",
       "III      4  14  82.50\n",
       "IV       8  19  82.51"
      ]
     },
     "execution_count": 109,
     "metadata": {},
     "output_type": "execute_result"
    }
   ],
   "source": [
    "# Se pueden agregar varias funciones por columna.\n",
    "\n",
    "df.groupby('Series').agg({'X' : [min, max], 'Y' : sum})"
   ]
  },
  {
   "cell_type": "markdown",
   "metadata": {
    "id": "4r5hSQAz6d-g"
   },
   "source": [
    "## **Recursos adicionales**\n",
    "---\n",
    "\n",
    "En este material se consideran algunas de las funciones más comunes, pero quedan muchas otras fuera de alcance. Lo invitamos a que consulte la [documentación oficial](https://pandas.pydata.org/pandas-docs/stable/reference/index.html), y en especial la [Guía de usuario](https://pandas.pydata.org/pandas-docs/stable/user_guide/index.html) de *pandas*. \n",
    "\n",
    "Además, a continuación se presenta una lista de recursos adicionales que le podrán ser de utilidad:\n",
    "\n",
    "*  [University of California San Diego. Coursera - Machine Learning With Big Data](https://www.coursera.org/learn/big-data-machine-learning)\n",
    "*  [Data vedas - Exploración y preparación de los datos](https://www.datavedas.com/data-exploration-and-preparation/)\n",
    "*  [Kaggle - Pandas](https://www.kaggle.com/learn/pandas)\n",
    "*  [CodeCademy - Learn Data Analysis with Pandas](https://www.codecademy.com/learn/data-processing-pandas)\n",
    "*  [University of Michigan. Coursera - Applied Data Science with Python Specialization](https://www.coursera.org/specializations/data-science-python)"
   ]
  }
 ],
 "metadata": {
  "colab": {
   "collapsed_sections": [],
   "name": "Pandas - Entendimiento de los datos - Parte 1.ipynb",
   "provenance": [
    {
     "file_id": "1I7lKuiI-vnD3uzZwdgkjiNqbgP0H7o8d",
     "timestamp": 1614115356016
    }
   ],
   "toc_visible": true
  },
  "kernelspec": {
   "display_name": "Python 3 (ipykernel)",
   "language": "python",
   "name": "python3"
  },
  "language_info": {
   "codemirror_mode": {
    "name": "ipython",
    "version": 3
   },
   "file_extension": ".py",
   "mimetype": "text/x-python",
   "name": "python",
   "nbconvert_exporter": "python",
   "pygments_lexer": "ipython3",
   "version": "3.9.7"
  }
 },
 "nbformat": 4,
 "nbformat_minor": 4
}
