{
 "cells": [
  {
   "cell_type": "markdown",
   "metadata": {
    "id": "kyyYqzShjxwL"
   },
   "source": [
    "# **Entendimiento de los datos con *pandas* II**\n",
    "---\n",
    "<img src = \"https://pandas.pydata.org/static/img/pandas.svg\" alt = \"pandas Logo\" width = \"70%\">  </img>\n",
    "\n",
    "\n",
    "\n",
    "En este material se explorarán las tareas de entendimiento de datos basadas en la descripción de conjuntos de datos. Para esto, se toma como referencia la exploración de conjuntos de datos mediante **estadística descriptiva** y **visualización básica de datos**, como complemento de las utilidades generales de descripción de *pandas*."
   ]
  },
  {
   "cell_type": "code",
   "execution_count": null,
   "metadata": {
    "executionInfo": {
     "elapsed": 458,
     "status": "ok",
     "timestamp": 1614119340920,
     "user": {
      "displayName": "Daniel Felipe Fragua Rengifo",
      "photoUrl": "",
      "userId": "09845551813303536248"
     },
     "user_tz": 300
    },
    "id": "If9LYvdhSImI"
   },
   "outputs": [],
   "source": [
    "import numpy as np\n",
    "import pandas as pd"
   ]
  },
  {
   "cell_type": "markdown",
   "metadata": {
    "id": "LL1mNTOsTsJT"
   },
   "source": [
    "## **5. Descripciones generales**\n",
    "---\n",
    "\n",
    "Ya tenemos a nuestra disposición herramientas para cargar y generar conjuntos de datos tabulares en forma de objetos *DataFrame* y *Series*. Con ellos podemos realizar muchas tareas, pero antes de comenzar se recomienda siempre realizar un proceso de **exploración de los datos**. Esto se refiere al proceso que nos permite conocer y entender los datos de forma preliminar. Los atributos de los objetos son una herramienta maravillosa para empezar con esta tarea, pero son insuficientes para conocer el detalle de los datos, sobre todo en conjuntos grandes.\n",
    "\n",
    "*Pandas* ofrece herramientas para realizar esta exploración previa. Inicialmente, presentaremos las herramientas más generales y comunes en este proceso."
   ]
  },
  {
   "cell_type": "markdown",
   "metadata": {
    "id": "rNypXUMLfsJn"
   },
   "source": [
    "> El resto de este material se realizará tomando como referencia el [*dataset* de *Kaggle*](https://www.kaggle.com/crawford/80-cereals) correspondiente a la información nutricional de un listado de 80 cereales. "
   ]
  },
  {
   "cell_type": "code",
   "execution_count": null,
   "metadata": {
    "executionInfo": {
     "elapsed": 899,
     "status": "ok",
     "timestamp": 1614119347300,
     "user": {
      "displayName": "Daniel Felipe Fragua Rengifo",
      "photoUrl": "",
      "userId": "09845551813303536248"
     },
     "user_tz": 300
    },
    "id": "oRsuAhahgChe"
   },
   "outputs": [],
   "source": [
    "df = pd.read_csv('data/cereal.csv')"
   ]
  },
  {
   "cell_type": "markdown",
   "metadata": {
    "id": "0HzRWeCPHUuq"
   },
   "source": [
    "* **`[df|series].info()`:** El método **`.info()`** se ajusta perfectamente a esta descripción pues permite generar un vistazo inicial a la información general del conjunto de datos de interés. Entre esta información se incluyen: \n",
    "\n",
    "  *  Nombre de las columnas.\n",
    "  *  Tipos de dato (**`dtypes`**) por columna.\n",
    "  *  Número de columnas y de filas.\n",
    "  *  Número de valores faltantes por columna.\n",
    "  *  Uso de memoria.\n",
    "\n"
   ]
  },
  {
   "cell_type": "code",
   "execution_count": null,
   "metadata": {
    "colab": {
     "base_uri": "https://localhost:8080/"
    },
    "executionInfo": {
     "elapsed": 375,
     "status": "ok",
     "timestamp": 1614119362291,
     "user": {
      "displayName": "Daniel Felipe Fragua Rengifo",
      "photoUrl": "",
      "userId": "09845551813303536248"
     },
     "user_tz": 300
    },
    "id": "r_R_AuzHHUD5",
    "outputId": "7871cb0d-d92b-4770-e3e5-7a520be02ea7"
   },
   "outputs": [],
   "source": [
    "df.info()"
   ]
  },
  {
   "cell_type": "markdown",
   "metadata": {
    "id": "GuePgV5zMG1S"
   },
   "source": [
    "* **`[df|series].describe()`:** El método **`.describe()`** realiza un resumen de las estadísticas descriptivas más comunes por columna. La **estadística descriptiva** se verá en la siguiente sección. Estos son:\n",
    "\n",
    "  *  Conteo de valores no nulos. **`count`**\n",
    "  *  Media aritmética. **`mean`**\n",
    "  *  Desviación estándar. **`std`**\n",
    "  *  Máximo y mínimo. **`max`** | **`min`**\n",
    "  *  Cuartiles 1, 2 y 3. **`25%`** | **`50%`** | **`75%`**\n",
    "\n"
   ]
  },
  {
   "cell_type": "code",
   "execution_count": null,
   "metadata": {
    "colab": {
     "base_uri": "https://localhost:8080/",
     "height": 351
    },
    "executionInfo": {
     "elapsed": 387,
     "status": "ok",
     "timestamp": 1614119372694,
     "user": {
      "displayName": "Daniel Felipe Fragua Rengifo",
      "photoUrl": "",
      "userId": "09845551813303536248"
     },
     "user_tz": 300
    },
    "id": "8PbmtQ1nMyN0",
    "outputId": "c4c87663-e27e-417f-8ec7-cfe4321f6c59"
   },
   "outputs": [],
   "source": [
    "df.describe()"
   ]
  },
  {
   "cell_type": "markdown",
   "metadata": {
    "id": "wmXMrzJBPUaa"
   },
   "source": [
    "* **`[df|series].head(n)` | `[df|series].tail(n)`:** Cuando se realiza una exploración inicial, no es conveniente imprimir en pantalla todos los registros de un conjunto de datos. Para esto se dispone de las funciones **`head(n)`** y **`tail(n)`**, que retornan un subconjunto de los primeros (para **`head`**) o últimos (para **`tail`**) $n$ registros de un objeto *DataFrame* o *Series*. Por defecto, si no se pasa el argumento **`n`** se imprimen los primeros/últimos $5$ registros.\n"
   ]
  },
  {
   "cell_type": "code",
   "execution_count": null,
   "metadata": {
    "colab": {
     "base_uri": "https://localhost:8080/",
     "height": 275
    },
    "executionInfo": {
     "elapsed": 433,
     "status": "ok",
     "timestamp": 1614119414732,
     "user": {
      "displayName": "Daniel Felipe Fragua Rengifo",
      "photoUrl": "",
      "userId": "09845551813303536248"
     },
     "user_tz": 300
    },
    "id": "JgJQOjHvOAqk",
    "outputId": "c31f6af0-ffc3-4203-abd4-9e1ab345f773"
   },
   "outputs": [],
   "source": [
    "df.head()"
   ]
  },
  {
   "cell_type": "code",
   "execution_count": null,
   "metadata": {
    "colab": {
     "base_uri": "https://localhost:8080/",
     "height": 165
    },
    "executionInfo": {
     "elapsed": 389,
     "status": "ok",
     "timestamp": 1614119415096,
     "user": {
      "displayName": "Daniel Felipe Fragua Rengifo",
      "photoUrl": "",
      "userId": "09845551813303536248"
     },
     "user_tz": 300
    },
    "id": "WZuMBv4JQFwp",
    "outputId": "295f97bf-8c36-42a5-cc0e-e5b0da73e3a2"
   },
   "outputs": [],
   "source": [
    "df.head(2)"
   ]
  },
  {
   "cell_type": "code",
   "execution_count": null,
   "metadata": {
    "colab": {
     "base_uri": "https://localhost:8080/",
     "height": 258
    },
    "executionInfo": {
     "elapsed": 375,
     "status": "ok",
     "timestamp": 1614119416373,
     "user": {
      "displayName": "Daniel Felipe Fragua Rengifo",
      "photoUrl": "",
      "userId": "09845551813303536248"
     },
     "user_tz": 300
    },
    "id": "112iPPHiQHVF",
    "outputId": "23678e4c-ecba-4f46-95cc-ba4016072b7b"
   },
   "outputs": [],
   "source": [
    "df.tail()"
   ]
  },
  {
   "cell_type": "code",
   "execution_count": null,
   "metadata": {
    "colab": {
     "base_uri": "https://localhost:8080/",
     "height": 413
    },
    "executionInfo": {
     "elapsed": 481,
     "status": "ok",
     "timestamp": 1614119416916,
     "user": {
      "displayName": "Daniel Felipe Fragua Rengifo",
      "photoUrl": "",
      "userId": "09845551813303536248"
     },
     "user_tz": 300
    },
    "id": "vdtgWWzQQIfo",
    "outputId": "4f123c31-77c4-431e-e6d5-8d2cb5fbee7d"
   },
   "outputs": [],
   "source": [
    "df.tail(10)"
   ]
  },
  {
   "cell_type": "markdown",
   "metadata": {
    "id": "hF0z--mcQffq"
   },
   "source": [
    "* **`[df|series].sample(n)`:** Similar a los métodos **`head`** y **`tail`**, el método **`sample(n)`** genera un subconjunto de entradas aleatorias de los datos de tamaño **n**.\n"
   ]
  },
  {
   "cell_type": "code",
   "execution_count": null,
   "metadata": {
    "colab": {
     "base_uri": "https://localhost:8080/",
     "height": 258
    },
    "executionInfo": {
     "elapsed": 366,
     "status": "ok",
     "timestamp": 1614119425627,
     "user": {
      "displayName": "Daniel Felipe Fragua Rengifo",
      "photoUrl": "",
      "userId": "09845551813303536248"
     },
     "user_tz": 300
    },
    "id": "McS1gWcaQzyq",
    "outputId": "3be29d84-aeea-4d62-d70a-3dde06904932"
   },
   "outputs": [],
   "source": [
    "df.sample(5)\n",
    "# Si ejecutamos esta celda varias veces, cada vez obtendremos una muestra diferente"
   ]
  },
  {
   "cell_type": "code",
   "execution_count": null,
   "metadata": {
    "colab": {
     "base_uri": "https://localhost:8080/",
     "height": 289
    },
    "executionInfo": {
     "elapsed": 360,
     "status": "ok",
     "timestamp": 1614119426713,
     "user": {
      "displayName": "Daniel Felipe Fragua Rengifo",
      "photoUrl": "",
      "userId": "09845551813303536248"
     },
     "user_tz": 300
    },
    "id": "LKsiNeh3Q2Cg",
    "outputId": "6b6e88aa-fca1-4393-d372-ba80acca3dfd"
   },
   "outputs": [],
   "source": [
    "# Los números aleatorios son generados con el módulo random de NumPy.\n",
    "np.random.seed(123) # Cambiar la semilla afecta también a las funciones aleatorias de pandas.\n",
    "# Si plantamos una semilla, tendremos el mismo resultado al ejecutar esta celda varias veces.\n",
    "# Esto es muy útil para garantizar la reproducibilidad de resultados en algunos experimentos.\n",
    "df.sample(6)"
   ]
  },
  {
   "cell_type": "markdown",
   "metadata": {
    "id": "jgVaWNezZn_M"
   },
   "source": [
    "* **`[df|series].nlargest(n, columns)` | `[df|series].nsmallest(n, columns)`:** Además de las funciones mencionadas anteriormente, *pandas* ofrece los métodos **`nlargest`** y **`nsmallest`**, que permite obtener un subconjunto de los datos cuyos valores en determinada columna sean los mayores y menores, respectivamente. Se tiene que definir las columnas sobre las que realizar el cálculo.\n"
   ]
  },
  {
   "cell_type": "code",
   "execution_count": null,
   "metadata": {
    "colab": {
     "base_uri": "https://localhost:8080/",
     "height": 306
    },
    "executionInfo": {
     "elapsed": 323,
     "status": "ok",
     "timestamp": 1614119503459,
     "user": {
      "displayName": "Daniel Felipe Fragua Rengifo",
      "photoUrl": "",
      "userId": "09845551813303536248"
     },
     "user_tz": 300
    },
    "id": "9YmtMCWebCTL",
    "outputId": "e4f0010c-7746-4295-fd8f-45f038669443"
   },
   "outputs": [],
   "source": [
    "df.nlargest(6, 'Calories') # Sobre una única columna."
   ]
  },
  {
   "cell_type": "code",
   "execution_count": null,
   "metadata": {
    "colab": {
     "base_uri": "https://localhost:8080/",
     "height": 306
    },
    "executionInfo": {
     "elapsed": 378,
     "status": "ok",
     "timestamp": 1614119509731,
     "user": {
      "displayName": "Daniel Felipe Fragua Rengifo",
      "photoUrl": "",
      "userId": "09845551813303536248"
     },
     "user_tz": 300
    },
    "id": "8OyPmRKAbSN1",
    "outputId": "d0c4b20b-f134-4416-829f-f0ed89c1a4a3"
   },
   "outputs": [],
   "source": [
    "df.nsmallest(6, ['Calories', 'Sodium']) # Las columnas pueden ser una lista de índices."
   ]
  },
  {
   "cell_type": "markdown",
   "metadata": {
    "id": "I4cwNHRHVuVM"
   },
   "source": [
    "* **`[df|series].idxmax(n)` | `[df|series].idxmin(n)`:** *Pandas* hereda muchos de los métodos de *NumPy* como **`max`** y **`min`**, que se discutirán más adelante en la sección de estadística descriptiva. Los equivalentes a los métodos **`argmax`** y **`argmin`** de *NumPy* en *pandas* son los métodos **`idxmax`** y **`idxmin`** que extienden su utilidad al permitir retornar el índice de *pandas*, que no es necesariamente numérico como en *NumPy*.\n"
   ]
  },
  {
   "cell_type": "code",
   "execution_count": null,
   "metadata": {
    "colab": {
     "base_uri": "https://localhost:8080/"
    },
    "executionInfo": {
     "elapsed": 400,
     "status": "ok",
     "timestamp": 1614119547440,
     "user": {
      "displayName": "Daniel Felipe Fragua Rengifo",
      "photoUrl": "",
      "userId": "09845551813303536248"
     },
     "user_tz": 300
    },
    "id": "6nkEiM4-YfTL",
    "outputId": "973c00ff-71d1-4659-970b-c1252a4cbaf4"
   },
   "outputs": [],
   "source": [
    "df['Calories'].idxmax() #Posición de los máximos por columna"
   ]
  },
  {
   "cell_type": "code",
   "execution_count": null,
   "metadata": {
    "colab": {
     "base_uri": "https://localhost:8080/"
    },
    "executionInfo": {
     "elapsed": 358,
     "status": "ok",
     "timestamp": 1614119548385,
     "user": {
      "displayName": "Daniel Felipe Fragua Rengifo",
      "photoUrl": "",
      "userId": "09845551813303536248"
     },
     "user_tz": 300
    },
    "id": "kF51tHPNZugI",
    "outputId": "4aff1c62-a0a3-4302-a006-e22b3c64cc53"
   },
   "outputs": [],
   "source": [
    "df['Sugars'].idxmin()  #Etiqueta del índice con el valor mínimo de la serie. "
   ]
  },
  {
   "cell_type": "markdown",
   "metadata": {
    "id": "YRUASdkqir5A"
   },
   "source": [
    "* **`[df|series].unique()` | `[df|series].nunique()` | `[df|series].value_counts()`:** Cuando se trata con variables categóricas, es necesario encontrar información acerca de las categorías posibles que puede tomar una variable. Para esto *pandas* dispone de métodos para identificar un arreglo con estas categorías (**`unique`**), identificar el número total de categorías posibles (**`nunique`**) o evaluar el conteo de valores por cada categoría (**`value_counts`**).\n"
   ]
  },
  {
   "cell_type": "code",
   "execution_count": null,
   "metadata": {
    "colab": {
     "base_uri": "https://localhost:8080/"
    },
    "executionInfo": {
     "elapsed": 362,
     "status": "ok",
     "timestamp": 1614119556933,
     "user": {
      "displayName": "Daniel Felipe Fragua Rengifo",
      "photoUrl": "",
      "userId": "09845551813303536248"
     },
     "user_tz": 300
    },
    "id": "UhQqNUQi2Fgf",
    "outputId": "fbe5fa98-42eb-44e3-9cdb-6c4045707659"
   },
   "outputs": [],
   "source": [
    "df['Manufacturer'].unique()"
   ]
  },
  {
   "cell_type": "code",
   "execution_count": null,
   "metadata": {
    "colab": {
     "base_uri": "https://localhost:8080/"
    },
    "executionInfo": {
     "elapsed": 343,
     "status": "ok",
     "timestamp": 1614119558151,
     "user": {
      "displayName": "Daniel Felipe Fragua Rengifo",
      "photoUrl": "",
      "userId": "09845551813303536248"
     },
     "user_tz": 300
    },
    "id": "0irRws6ljNL-",
    "outputId": "ba162412-4f9e-4342-fb07-e05bbe18a7aa"
   },
   "outputs": [],
   "source": [
    "df['Manufacturer'].nunique()"
   ]
  },
  {
   "cell_type": "code",
   "execution_count": null,
   "metadata": {
    "colab": {
     "base_uri": "https://localhost:8080/"
    },
    "executionInfo": {
     "elapsed": 444,
     "status": "ok",
     "timestamp": 1614119558700,
     "user": {
      "displayName": "Daniel Felipe Fragua Rengifo",
      "photoUrl": "",
      "userId": "09845551813303536248"
     },
     "user_tz": 300
    },
    "id": "ZpLkawYOjuT2",
    "outputId": "c566ae37-9840-4529-c3be-3e2df0902a76"
   },
   "outputs": [],
   "source": [
    "df['Manufacturer'].value_counts()"
   ]
  },
  {
   "cell_type": "markdown",
   "metadata": {
    "id": "yK3DfhWNxfp8"
   },
   "source": [
    "## **6. Estadística descriptiva**\n",
    "---\n",
    "La **estadística descriptiva** es el área de la estadística que se encarga de organizar, presentar y describir los datos de forma cuantitativa con el propósito de facilitar su uso. Con ella se cálculan medidas a partir de los datos, que buscan representar numéricamente características generales de los datos.\n",
    "\n",
    "*Pandas* ofrece la posibilidad de calcular algunas de estas estadísticas de manera directa, a partir de objetos *DataFrame* y *Series*. A continuación presentamos las funciones principales de medidas de estadística descriptiva que abarca *pandas*.\n"
   ]
  },
  {
   "cell_type": "markdown",
   "metadata": {
    "id": "B0EMlbSlcSJU"
   },
   "source": [
    "### **6.1. Medidas de posición**\n",
    "---\n",
    "\n",
    "Las medidas de posición son medidas estadísticas que caracterizan la posición y distribución general de los datos de manera cuantitativa. Consideramos dos categorías principales: medidas de tendencia central y cuantiles."
   ]
  },
  {
   "cell_type": "markdown",
   "metadata": {
    "id": "kMfYqaDpzIhu"
   },
   "source": [
    "#### **6.1.1. Medidas de tendencia central**\n",
    "---\n",
    "\n",
    "Estas medidas representan características generales y centrales en los datos. Las medidas de tendencia central más importantes, y aquellas que son descritas en conjunto usualmente son:\n",
    "* **Media aritmética o promedio.** Valor medio del conjunto, resultado de la suma de todos los valores dividido entre la cantidad total. No está definido en variables ordinales. \n",
    "> **`.mean()`**\n",
    "* **Moda.** Elemento o elementos que más se repiten en el conjunto.\n",
    "> **`.mode()`**\n",
    "* **Mediana.** Elemento central en el conjunto ordenado. \n",
    ">**`.median()`**"
   ]
  },
  {
   "cell_type": "code",
   "execution_count": null,
   "metadata": {
    "colab": {
     "base_uri": "https://localhost:8080/"
    },
    "executionInfo": {
     "elapsed": 361,
     "status": "ok",
     "timestamp": 1614119564442,
     "user": {
      "displayName": "Daniel Felipe Fragua Rengifo",
      "photoUrl": "",
      "userId": "09845551813303536248"
     },
     "user_tz": 300
    },
    "id": "i2RdwOpfdlsz",
    "outputId": "30ea006d-1adb-4ee0-9dba-1c11182c98f1"
   },
   "outputs": [],
   "source": [
    "df.mean()   #Media aritmética"
   ]
  },
  {
   "cell_type": "code",
   "execution_count": null,
   "metadata": {
    "colab": {
     "base_uri": "https://localhost:8080/"
    },
    "executionInfo": {
     "elapsed": 289,
     "status": "ok",
     "timestamp": 1614119564806,
     "user": {
      "displayName": "Daniel Felipe Fragua Rengifo",
      "photoUrl": "",
      "userId": "09845551813303536248"
     },
     "user_tz": 300
    },
    "id": "27Exwn4Kdqlk",
    "outputId": "a2fc4b1e-475f-497c-cbd7-dc8be90a5a9f"
   },
   "outputs": [],
   "source": [
    "df.median() #Mediana"
   ]
  },
  {
   "cell_type": "code",
   "execution_count": null,
   "metadata": {
    "colab": {
     "base_uri": "https://localhost:8080/"
    },
    "executionInfo": {
     "elapsed": 368,
     "status": "ok",
     "timestamp": 1614119566924,
     "user": {
      "displayName": "Daniel Felipe Fragua Rengifo",
      "photoUrl": "",
      "userId": "09845551813303536248"
     },
     "user_tz": 300
    },
    "id": "UlkCoDSddqH_",
    "outputId": "f41bb68d-d02d-4e4e-989a-809188110a11"
   },
   "outputs": [],
   "source": [
    "df['Calories'].mode()   #Moda. Pueden ser varios valores."
   ]
  },
  {
   "cell_type": "markdown",
   "metadata": {
    "id": "pyAMx51Kefji"
   },
   "source": [
    "#### **6.1.2. Cuantiles**\n",
    "---\n",
    " Los cuantiles son medidas de posición no central que permiten ilustrar la división de una distribución entre un número de grupos equidistantes de muestras. Los cuartiles, los deciles y los percentiles son los cuantiles más comunes. Otra medida importante es el rango intercuartílico, que es la diferencia entre los cuartiles $1$ y $3$, es decir, el área central que contiene el $50\\%$ de los datos.\n",
    "\n",
    "  Es posible calcularlos con la función:\n",
    "\n",
    "  > **`.quantile(q)`**\n",
    "\n",
    "  El argumento **`q`** es la posición, entre 0 y 1, del cuantil o cuantiles a calcular. "
   ]
  },
  {
   "cell_type": "code",
   "execution_count": null,
   "metadata": {
    "colab": {
     "base_uri": "https://localhost:8080/"
    },
    "executionInfo": {
     "elapsed": 423,
     "status": "ok",
     "timestamp": 1614119573309,
     "user": {
      "displayName": "Daniel Felipe Fragua Rengifo",
      "photoUrl": "",
      "userId": "09845551813303536248"
     },
     "user_tz": 300
    },
    "id": "rhoWiGpnfjMt",
    "outputId": "9e178fb2-d024-4ded-9a42-1f615d5a14e0"
   },
   "outputs": [],
   "source": [
    "df['Potassium'].quantile(0.5) #Equivale a la mediana"
   ]
  },
  {
   "cell_type": "code",
   "execution_count": null,
   "metadata": {
    "colab": {
     "base_uri": "https://localhost:8080/"
    },
    "executionInfo": {
     "elapsed": 498,
     "status": "ok",
     "timestamp": 1614119576175,
     "user": {
      "displayName": "Daniel Felipe Fragua Rengifo",
      "photoUrl": "",
      "userId": "09845551813303536248"
     },
     "user_tz": 300
    },
    "id": "o1fXxKigf3oO",
    "outputId": "62bf7e34-7fa4-4d89-87cd-77cbeb48abc2"
   },
   "outputs": [],
   "source": [
    "df['Potassium'].quantile([0.25, 0.5, 0.75]) # Calcular varios cuantiles en un solo llamado."
   ]
  },
  {
   "cell_type": "markdown",
   "metadata": {
    "id": "z2av3NPlcXtZ"
   },
   "source": [
    "### **6.2. Medidas de forma**\n",
    "---\n",
    "\n",
    "Otro tipo de medida es aquella que busca describir numéricamente la forma de una distribución. Si se graficara la distribución de los datos ordenados (como se verá en la siguiente sección) se podría identificar patrones en la forma de la función que describen, significando concentraciones de datos comunes o tendencias."
   ]
  },
  {
   "cell_type": "markdown",
   "metadata": {
    "id": "bvJhs4HIhVN3"
   },
   "source": [
    "#### **6.2.1. Curtosis**\n",
    "---\n",
    " La curtosis es una medida cuantitativa que representa la forma de una distribución y, en particular, de su apuntamiento y el grosor de sus picos, que refleja la concentración de los valores cerca de la media. \n",
    "Al igual que antes, es posible calcularlo directamente al llamar el siguiente método:\n",
    "\n",
    "  > **`.kurt()`** | **`.kurtosis()`**"
   ]
  },
  {
   "cell_type": "code",
   "execution_count": null,
   "metadata": {
    "colab": {
     "base_uri": "https://localhost:8080/"
    },
    "executionInfo": {
     "elapsed": 338,
     "status": "ok",
     "timestamp": 1614119593423,
     "user": {
      "displayName": "Daniel Felipe Fragua Rengifo",
      "photoUrl": "",
      "userId": "09845551813303536248"
     },
     "user_tz": 300
    },
    "id": "HLANF3STqkA9",
    "outputId": "b1eb0bbf-df9a-4e67-db57-927cbd1104d5"
   },
   "outputs": [],
   "source": [
    "df['Fat'].kurt()"
   ]
  },
  {
   "cell_type": "code",
   "execution_count": null,
   "metadata": {
    "colab": {
     "base_uri": "https://localhost:8080/"
    },
    "executionInfo": {
     "elapsed": 274,
     "status": "ok",
     "timestamp": 1614119593596,
     "user": {
      "displayName": "Daniel Felipe Fragua Rengifo",
      "photoUrl": "",
      "userId": "09845551813303536248"
     },
     "user_tz": 300
    },
    "id": "zPfnHtbdqrcg",
    "outputId": "32dd1980-562e-4c64-bab5-0e36b31d9958"
   },
   "outputs": [],
   "source": [
    "df['Fat'].kurtosis() # Las dos funciones son equivalentes."
   ]
  },
  {
   "cell_type": "markdown",
   "metadata": {
    "id": "pGjKeKoEhVXv"
   },
   "source": [
    "#### **6.2.2. Asimetría o *skewness***\n",
    "---\n",
    " La asimetría o *skewness* es la medida que representa la concentración o sesgo de los datos centrales de una distribución en una dirección particular. Está estrechamente relacionada con el orden de las medidas de tendencia central. Si los valores se concentran a la izquierda de la media se considera una asimetría **positiva**; y si se concentran a la derecha, se considera una asimetría **negativa**. En datos simétricos, el valor de la medida de asimetría es cero.\n",
    "\n",
    "  > **`.skew()`**\n"
   ]
  },
  {
   "cell_type": "code",
   "execution_count": null,
   "metadata": {
    "colab": {
     "base_uri": "https://localhost:8080/"
    },
    "executionInfo": {
     "elapsed": 353,
     "status": "ok",
     "timestamp": 1614119613191,
     "user": {
      "displayName": "Daniel Felipe Fragua Rengifo",
      "photoUrl": "",
      "userId": "09845551813303536248"
     },
     "user_tz": 300
    },
    "id": "Z6kzUZZdrWW4",
    "outputId": "c07bc2a3-68a6-41b3-f6a9-f0659ba5958b"
   },
   "outputs": [],
   "source": [
    "#Las calorías parecen estar concentradas en valores altos, cercanos al máximo.\n",
    "\n",
    "df['Calories'].skew()"
   ]
  },
  {
   "cell_type": "markdown",
   "metadata": {
    "id": "vvHB58iGcYEX"
   },
   "source": [
    "### **6.3. Medidas de dispersión**\n",
    "---\n",
    "\n",
    "Las medidas de dispersión son medidas que reflejan la distancia media de los valores de las medidas de tendencia central como la media aritmética. Si la dispersión de los valores es alta, los valores calculados de las medidas de tendencia central no pueden caracterizar correctamente, por sí solos, a todo el conjunto."
   ]
  },
  {
   "cell_type": "markdown",
   "metadata": {
    "id": "zlKJQJrVhf--"
   },
   "source": [
    "#### **6.3.1. Desviación estándar y varianza**\n",
    "---\n",
    " La desviación estándar y la varianza son las medidas principales de dispersión. Representan la variación o distancia de los datos de una distribución respecto a su media aritmética. La varianza es el cuadrado de la desviación estándar, que es ampliamente usada en el análisis de datos junto a la media.\n",
    "\n",
    "  Se pueden calcular directamente con los siguientes métodos:\n",
    "\n",
    "  **Varianza:**\n",
    "  > **`.var()`**\n",
    "\n",
    "  **Desviación estándar:**\n",
    "  > **`.std()`**"
   ]
  },
  {
   "cell_type": "code",
   "execution_count": null,
   "metadata": {
    "colab": {
     "base_uri": "https://localhost:8080/"
    },
    "executionInfo": {
     "elapsed": 346,
     "status": "ok",
     "timestamp": 1614119617612,
     "user": {
      "displayName": "Daniel Felipe Fragua Rengifo",
      "photoUrl": "",
      "userId": "09845551813303536248"
     },
     "user_tz": 300
    },
    "id": "lhtBZ40rsvnj",
    "outputId": "fc310041-1c2b-4b26-989b-1440d54d0ff1"
   },
   "outputs": [],
   "source": [
    "df.std()"
   ]
  },
  {
   "cell_type": "code",
   "execution_count": null,
   "metadata": {
    "colab": {
     "base_uri": "https://localhost:8080/"
    },
    "executionInfo": {
     "elapsed": 252,
     "status": "ok",
     "timestamp": 1614119617783,
     "user": {
      "displayName": "Daniel Felipe Fragua Rengifo",
      "photoUrl": "",
      "userId": "09845551813303536248"
     },
     "user_tz": 300
    },
    "id": "kpR3X9jhsxCC",
    "outputId": "556fa5d5-1bce-4696-86aa-9f8fc959e0d5"
   },
   "outputs": [],
   "source": [
    "df.var()"
   ]
  },
  {
   "cell_type": "code",
   "execution_count": null,
   "metadata": {
    "colab": {
     "base_uri": "https://localhost:8080/"
    },
    "executionInfo": {
     "elapsed": 348,
     "status": "ok",
     "timestamp": 1614119631057,
     "user": {
      "displayName": "Daniel Felipe Fragua Rengifo",
      "photoUrl": "",
      "userId": "09845551813303536248"
     },
     "user_tz": 300
    },
    "id": "vyZz_3GTsyZ2",
    "outputId": "e932b673-0153-42bc-f595-ae4e787d6059"
   },
   "outputs": [],
   "source": [
    "df['Sodium'].std() ** 2 # La varianza es el cuadrado de la desviación estándar."
   ]
  },
  {
   "cell_type": "markdown",
   "metadata": {
    "id": "2rcbOUZbhgOm"
   },
   "source": [
    "#### **6.3.2. Rango, máximo y mínimo**\n",
    "---\n",
    " Otra forma de representar la dispersión de un conjunto de datos es considerando sus valores extremos. Para esto, se suele calcular la diferencia entre el valor máximo y el valor mínimo. Esta medida se llama **rango** y su magnitud refleja de cierta manera la dispersión de los datos. Este rango es similar al rango intercuartílico, que es más recomendado cuando los valores extremos pueden contener valores atípicos.\n",
    "\n",
    "  El rango no se calcula directamente con un método en *pandas*, pero puede calcularse fácilmente con el mínimo y máximo de un conjunto de datos. \n",
    "\n",
    "  **Mínimo:**\n",
    "  > **`.min()`**\n",
    "\n",
    "  **Máximo:**\n",
    "  > **`.min()`**\n",
    "\n",
    "Estas medidas son heredadas de *NumPy*."
   ]
  },
  {
   "cell_type": "code",
   "execution_count": null,
   "metadata": {
    "colab": {
     "base_uri": "https://localhost:8080/"
    },
    "executionInfo": {
     "elapsed": 392,
     "status": "ok",
     "timestamp": 1614119647060,
     "user": {
      "displayName": "Daniel Felipe Fragua Rengifo",
      "photoUrl": "",
      "userId": "09845551813303536248"
     },
     "user_tz": 300
    },
    "id": "QctNPenItrd7",
    "outputId": "699b4922-df7f-4eb5-c43f-5122018994e0"
   },
   "outputs": [],
   "source": [
    "df['Calories'].min()"
   ]
  },
  {
   "cell_type": "code",
   "execution_count": null,
   "metadata": {
    "colab": {
     "base_uri": "https://localhost:8080/"
    },
    "executionInfo": {
     "elapsed": 316,
     "status": "ok",
     "timestamp": 1614119647223,
     "user": {
      "displayName": "Daniel Felipe Fragua Rengifo",
      "photoUrl": "",
      "userId": "09845551813303536248"
     },
     "user_tz": 300
    },
    "id": "VeaznWsnuKMx",
    "outputId": "f788474b-5110-4128-8ffa-f16a304ae584"
   },
   "outputs": [],
   "source": [
    "df['Calories'].max()"
   ]
  },
  {
   "cell_type": "code",
   "execution_count": null,
   "metadata": {
    "colab": {
     "base_uri": "https://localhost:8080/"
    },
    "executionInfo": {
     "elapsed": 363,
     "status": "ok",
     "timestamp": 1614119648706,
     "user": {
      "displayName": "Daniel Felipe Fragua Rengifo",
      "photoUrl": "",
      "userId": "09845551813303536248"
     },
     "user_tz": 300
    },
    "id": "okYzyH1cuK9y",
    "outputId": "621495a1-b6a0-4705-d852-3d918261485e"
   },
   "outputs": [],
   "source": [
    "#Rango. Calculado a partir del máximo y mínimo.\n",
    "df['Calories'].max() - df['Calories'].min() "
   ]
  },
  {
   "cell_type": "markdown",
   "metadata": {
    "id": "dweemLkbloNg"
   },
   "source": [
    "Todas las funciones descritas están disponibles tanto para objetos *DataFrame*, *Series* y *GroupBy*. Son muy útiles para realizar operaciones de agregación en objetos agrupados."
   ]
  },
  {
   "cell_type": "code",
   "execution_count": null,
   "metadata": {
    "colab": {
     "base_uri": "https://localhost:8080/",
     "height": 385
    },
    "executionInfo": {
     "elapsed": 367,
     "status": "ok",
     "timestamp": 1614119654229,
     "user": {
      "displayName": "Daniel Felipe Fragua Rengifo",
      "photoUrl": "",
      "userId": "09845551813303536248"
     },
     "user_tz": 300
    },
    "id": "aRbh4luTmel3",
    "outputId": "a4d03239-856f-4907-cc2f-12ee70a2c514"
   },
   "outputs": [],
   "source": [
    "df.groupby('Manufacturer').mean()"
   ]
  },
  {
   "cell_type": "code",
   "execution_count": null,
   "metadata": {
    "colab": {
     "base_uri": "https://localhost:8080/",
     "height": 411
    },
    "executionInfo": {
     "elapsed": 494,
     "status": "ok",
     "timestamp": 1614119655782,
     "user": {
      "displayName": "Daniel Felipe Fragua Rengifo",
      "photoUrl": "",
      "userId": "09845551813303536248"
     },
     "user_tz": 300
    },
    "id": "nUJHx2trqqJn",
    "outputId": "c2fdf824-f9c2-426a-f68c-f2cd6c4f409a"
   },
   "outputs": [],
   "source": [
    "df.groupby('Manufacturer').describe()"
   ]
  },
  {
   "cell_type": "code",
   "execution_count": null,
   "metadata": {
    "colab": {
     "base_uri": "https://localhost:8080/",
     "height": 385
    },
    "executionInfo": {
     "elapsed": 333,
     "status": "ok",
     "timestamp": 1614119659242,
     "user": {
      "displayName": "Daniel Felipe Fragua Rengifo",
      "photoUrl": "",
      "userId": "09845551813303536248"
     },
     "user_tz": 300
    },
    "id": "WP3NqOMtqw47",
    "outputId": "ee704e8b-f7e0-4854-9b26-a40e0075f0be"
   },
   "outputs": [],
   "source": [
    "df.groupby('Manufacturer').count() #Este argumento permite contar el número de apariciones de cada valor, similar a value_counts."
   ]
  },
  {
   "cell_type": "code",
   "execution_count": null,
   "metadata": {
    "colab": {
     "base_uri": "https://localhost:8080/",
     "height": 385
    },
    "executionInfo": {
     "elapsed": 381,
     "status": "ok",
     "timestamp": 1614119715727,
     "user": {
      "displayName": "Daniel Felipe Fragua Rengifo",
      "photoUrl": "",
      "userId": "09845551813303536248"
     },
     "user_tz": 300
    },
    "id": "bymkeOJPmi-t",
    "outputId": "ad290a52-4330-4d64-8258-307419e98f02"
   },
   "outputs": [],
   "source": [
    "#La desviación estándar no está definida si hay menos de dos elementos en el conjunto.\n",
    "df.groupby('Manufacturer').std()"
   ]
  },
  {
   "cell_type": "markdown",
   "metadata": {
    "id": "OhMgiLCmcfAd"
   },
   "source": [
    "### **6.4. Medidas multivariadas**\n",
    "---\n",
    "\n",
    "Las medidas descritas hasta el momento solo son calculadas independientemente en cada variable. Es así, que al evaluar estos métodos en objetos *DataFrame* se genera una serie con el valor calculado por cada columna o variable.\n",
    "\n",
    "Para sacar un mejor provecho de las capacidades computacionales de *pandas* se consideran métodos y herramientas matemáticas para calcular medidas que caractericen la relación entre dos o más variables, representadas como las columnas de un *DataFrame*."
   ]
  },
  {
   "cell_type": "markdown",
   "metadata": {
    "id": "7j8idz_ThqKU"
   },
   "source": [
    "#### **6.4.1. Correlación y covarianza**\n",
    "---\n",
    "\n",
    "Una manera de caracterizar numéricamente relaciones entre los datos es mediante las medidas multivariadas de la **covarianza** y de los **coeficientes de correlación**. Estas, representan la dependencia y variación conjunta de dos variables numéricas continuas. Son importantes para identificar relaciones ocultas entre características de los datos de interés.\n",
    "\n",
    "  Se calculan con los siguientes métodos:\n",
    "\n",
    "  **Covarianza:**\n",
    "\n",
    "  > **`.cov()`**\n",
    "\n",
    "  **Coeficientes de correlación**\n",
    "\n",
    "  > **`.corr(method)`**\n",
    "\n",
    "  El argumento **`method`** define el tipo de coeficiente que se desea calcular.\n",
    "\n",
    "> **Nota:** Los coeficientes de correlación se explorarán en detalle en la **Unidad 3**."
   ]
  },
  {
   "cell_type": "code",
   "execution_count": null,
   "metadata": {
    "colab": {
     "base_uri": "https://localhost:8080/",
     "height": 594
    },
    "executionInfo": {
     "elapsed": 374,
     "status": "ok",
     "timestamp": 1614119734843,
     "user": {
      "displayName": "Daniel Felipe Fragua Rengifo",
      "photoUrl": "",
      "userId": "09845551813303536248"
     },
     "user_tz": 300
    },
    "id": "BT5lDLi6xNK7",
    "outputId": "49c10b8d-c4d8-47a9-bd5b-166c900b2f82"
   },
   "outputs": [],
   "source": [
    "df.cov() # Matriz de covarianza entre cada variable. "
   ]
  },
  {
   "cell_type": "code",
   "execution_count": null,
   "metadata": {
    "colab": {
     "base_uri": "https://localhost:8080/",
     "height": 594
    },
    "executionInfo": {
     "elapsed": 311,
     "status": "ok",
     "timestamp": 1614119735027,
     "user": {
      "displayName": "Daniel Felipe Fragua Rengifo",
      "photoUrl": "",
      "userId": "09845551813303536248"
     },
     "user_tz": 300
    },
    "id": "bmaGbb4uxQHS",
    "outputId": "41bdbf14-006d-4dbc-dde2-f25845254133"
   },
   "outputs": [],
   "source": [
    "df.corr() # Matriz de correlación entre cada variable."
   ]
  },
  {
   "cell_type": "markdown",
   "metadata": {
    "id": "JF_hnYQghqce"
   },
   "source": [
    "#### **6.4.2. Tablas de contingencia**\n",
    "---\n",
    " Las tablas de contingencia son un método más tradicional usado para representar la relación entre dos variables, comúnmente, cualitativas o categóricas. En esta tabla se caracterizan los conjuntos que comparten propiedades con cálculos como la frecuencia o la media aritmética.\n",
    "\n",
    "  Se calcula con el método:\n",
    "\n",
    "  > **`pd.crosstab(index, columns, ...)`**\n"
   ]
  },
  {
   "cell_type": "markdown",
   "metadata": {
    "id": "gwyZPgq42jIh"
   },
   "source": [
    "Por defecto se usa la frecuencia. Es decir, la cantidad de registros cuyo valor corresponda a ambas categorías. El argumento **`margins`** permite calcular un resumen general por filas y columnas."
   ]
  },
  {
   "cell_type": "code",
   "execution_count": null,
   "metadata": {
    "colab": {
     "base_uri": "https://localhost:8080/",
     "height": 328
    },
    "executionInfo": {
     "elapsed": 401,
     "status": "ok",
     "timestamp": 1614119750545,
     "user": {
      "displayName": "Daniel Felipe Fragua Rengifo",
      "photoUrl": "",
      "userId": "09845551813303536248"
     },
     "user_tz": 300
    },
    "id": "QQTIZ9442T4z",
    "outputId": "4f85467e-5036-4639-d760-2c7b9c3e2a2c"
   },
   "outputs": [],
   "source": [
    "pd.crosstab(df['Manufacturer'], df['Calories'], margins = True)"
   ]
  },
  {
   "cell_type": "markdown",
   "metadata": {
    "id": "29aG49sM3MSP"
   },
   "source": [
    "También se pueden definir funciones de agregación para las categorías que correspondan. Una función de agregación es un cálculo proveniente de todos los datos, como el máximo, la suma o el producto. Se específica con una función en el argumento **`aggfunc`**. Cuando se define, se tiene que definir la variable sobre la cual hacer la agregación en el argumento **`values`**."
   ]
  },
  {
   "cell_type": "code",
   "execution_count": null,
   "metadata": {
    "colab": {
     "base_uri": "https://localhost:8080/",
     "height": 328
    },
    "executionInfo": {
     "elapsed": 397,
     "status": "ok",
     "timestamp": 1614119752426,
     "user": {
      "displayName": "Daniel Felipe Fragua Rengifo",
      "photoUrl": "",
      "userId": "09845551813303536248"
     },
     "user_tz": 300
    },
    "id": "qnw_5wgR3LuT",
    "outputId": "174ba30b-b308-4bc9-92e7-027d3eb7cdb3"
   },
   "outputs": [],
   "source": [
    "pd.crosstab(df['Manufacturer'], df['Calories'], \n",
    "            margins = True,\n",
    "            aggfunc = np.mean, #Función de agregación. En este caso se busca la media aritmética.\n",
    "            values = df['Vitamins and Minerals'] #Variable (o serie) sobre la cual evaluar la agregación.\n",
    "            )\n",
    "\n",
    "#Si no hay parejas que cumplan ambas condiciones, el valor es NaN"
   ]
  },
  {
   "cell_type": "markdown",
   "metadata": {
    "id": "q1WCMC0H49HP"
   },
   "source": [
    "En este caso, para las parejas de elementos que no tenían coincidencias no era posible calcular la media (el promedio de un conjunto vacío no está definido) por lo que *pandas* y *NumPy* asignan el valor **NaN** en estas celdas. Estos valores no son tenidos en cuenta en el cálculo del promedio en los márgenes.\n",
    "\n",
    "Otro tipo de tabla de contingencia es el creado a partir de **tablas pivote**. Este es un método muy similar al descrito previamente. Mientras que el método **`crosstab`** recibe como entrada dos o tres series del mismo tamaño, en las que se calcula correspondencia en el mismo índice, con **`pivot_table`** el cálculo se realiza dentro de un *DataFrame* y las filas y columnas representadas se definen con el nombre de sus columnas. "
   ]
  },
  {
   "cell_type": "code",
   "execution_count": null,
   "metadata": {
    "colab": {
     "base_uri": "https://localhost:8080/",
     "height": 328
    },
    "executionInfo": {
     "elapsed": 372,
     "status": "ok",
     "timestamp": 1614119754757,
     "user": {
      "displayName": "Daniel Felipe Fragua Rengifo",
      "photoUrl": "",
      "userId": "09845551813303536248"
     },
     "user_tz": 300
    },
    "id": "SkjNGhIl-XX5",
    "outputId": "c8374420-22d5-4461-9d5b-31bfeb879822"
   },
   "outputs": [],
   "source": [
    "df.pivot_table(\n",
    "      index = 'Manufacturer', \n",
    "      columns = 'Calories',\n",
    "      margins = True,\n",
    "      aggfunc = np.mean,\n",
    "      values = 'Vitamins and Minerals'\n",
    ")"
   ]
  },
  {
   "cell_type": "markdown",
   "metadata": {
    "id": "6hCO0BMQxfxP"
   },
   "source": [
    "## **7. Visualización básica de datos**\n",
    "---\n",
    "\n",
    "La visualización de información es, en sí mismo, un campo entero de la ciencia de datos, que busca representar de manera gráfica la naturaleza de los datos a los que referencia. *Pandas* ofrece la posibilidad de generar de manera directa visualizaciones comunes a partir de *DataFrames* o *Series*. \n",
    "\n",
    "Las visualizaciones en *pandas* giran en torno del módulo **`plot`** de sus estructuras de datos, desde el cual se hacen los llamados de todas las visualizaciones descritas. En este material se describirán estas visualizaciones tomando como referencia el objeto *DataFrame*. \n",
    "\n",
    "Por defecto, *pandas* realiza estas visualizaciones usando la librería de visualización ***matplotlib***. Esta librería se estudiará en detalle la **Unidad 4**."
   ]
  },
  {
   "cell_type": "markdown",
   "metadata": {
    "id": "6tUx10hmAYGt"
   },
   "source": [
    "### **7.1. Histograma**\n",
    "---\n",
    "Un **histograma** es la representación de la distribución de variables numéricas en intervalos discretos. Es útil para identificar valores atípicos, tendencias generales y representar la forma que tiene la distribución de los datos.\n",
    "\n",
    "Se puede generar un histograma con el siguiente método:\n",
    "\n",
    "> **`df.plot.hist(bins)`**\n",
    "\n",
    "El argumento **`bins`** define la cantidad de intervalos de clase o *bins* usados para generar el histograma.\n",
    "\n",
    "Cuando se usan múltiples histogramas en una misma visualización, se recomienda utilizar el argumento **`alpha`** de *Matplotlib* que define la transparencia de los histogramas.\n",
    "\n",
    "\n"
   ]
  },
  {
   "cell_type": "code",
   "execution_count": null,
   "metadata": {
    "colab": {
     "base_uri": "https://localhost:8080/",
     "height": 351
    },
    "executionInfo": {
     "elapsed": 361,
     "status": "ok",
     "timestamp": 1614119758826,
     "user": {
      "displayName": "Daniel Felipe Fragua Rengifo",
      "photoUrl": "",
      "userId": "09845551813303536248"
     },
     "user_tz": 300
    },
    "id": "X-F75Q_3r4O9",
    "outputId": "463f0fb2-e933-486b-f2f3-6335daa20dd2"
   },
   "outputs": [],
   "source": [
    "df.describe()"
   ]
  },
  {
   "cell_type": "code",
   "execution_count": null,
   "metadata": {
    "colab": {
     "base_uri": "https://localhost:8080/",
     "height": 265
    },
    "executionInfo": {
     "elapsed": 568,
     "status": "ok",
     "timestamp": 1614119761006,
     "user": {
      "displayName": "Daniel Felipe Fragua Rengifo",
      "photoUrl": "",
      "userId": "09845551813303536248"
     },
     "user_tz": 300
    },
    "id": "SFCYJ578sZfa",
    "outputId": "35b5c70b-e40c-4d3c-c84f-ceadd9d1283e"
   },
   "outputs": [],
   "source": [
    "df['Potassium'].plot.hist(alpha = 0.5);\n",
    "#El punto y coma impide que se escriba en pantalla el objeto de Matplotlib."
   ]
  },
  {
   "cell_type": "code",
   "execution_count": null,
   "metadata": {
    "colab": {
     "base_uri": "https://localhost:8080/",
     "height": 265
    },
    "executionInfo": {
     "elapsed": 723,
     "status": "ok",
     "timestamp": 1614119763243,
     "user": {
      "displayName": "Daniel Felipe Fragua Rengifo",
      "photoUrl": "",
      "userId": "09845551813303536248"
     },
     "user_tz": 300
    },
    "id": "ENgvog32J7eu",
    "outputId": "e56ce51b-8106-4e57-eaef-401d4a862870"
   },
   "outputs": [],
   "source": [
    "# Nota: Esta forma de indexado se verá en detalle en la siguiente guía.\n",
    "df[['Potassium', 'Sodium', 'Vitamins and Minerals']].plot.hist(alpha = 0.5);"
   ]
  },
  {
   "cell_type": "markdown",
   "metadata": {
    "id": "YUQrT7MkAe6O"
   },
   "source": [
    "### **7.2. Gráfica de líneas**\n",
    "---\n",
    "Una **gráfica de líneas** es la representación de la evolución de una variable numérica en relación a otra variable ordenada, comúnmente, en el tiempo. Permite identificar patrones o tendencias en los datos y comparar la evolución de varias variables.\n",
    "\n",
    "Se puede generar una gráfica de líneas con el siguiente método:\n",
    "\n",
    "> **`df.plot.line(x, y)`**\n",
    "\n",
    "Las gráficas de líneas requieren de por lo menos dos variables numéricas que representen la posición de cada eje. Estas variables se pasan como argumento con el nombre de la etiqueta de sus columnas correspondientes. La primera corresponde al eje x. El segundo argumento acepta múltiples variables, en forma de lista o arreglo, que producirán líneas independientes superpuestas."
   ]
  },
  {
   "cell_type": "code",
   "execution_count": null,
   "metadata": {
    "colab": {
     "base_uri": "https://localhost:8080/",
     "height": 419
    },
    "executionInfo": {
     "elapsed": 387,
     "status": "ok",
     "timestamp": 1614119778511,
     "user": {
      "displayName": "Daniel Felipe Fragua Rengifo",
      "photoUrl": "",
      "userId": "09845551813303536248"
     },
     "user_tz": 300
    },
    "id": "UsH92FihIrJA",
    "outputId": "ad669928-52e0-4f5e-fcb8-cf3464daba00"
   },
   "outputs": [],
   "source": [
    "x = np.linspace(0, 1, 100)\n",
    "y = np.random.randn(100).cumsum()\n",
    "z = np.random.randn(100).cumsum()\n",
    "\n",
    "df_line = pd.DataFrame({'x': x,\n",
    "                   'y': y,\n",
    "                   'z': z})\n",
    "\n",
    "df_line"
   ]
  },
  {
   "cell_type": "code",
   "execution_count": null,
   "metadata": {
    "colab": {
     "base_uri": "https://localhost:8080/",
     "height": 279
    },
    "executionInfo": {
     "elapsed": 524,
     "status": "ok",
     "timestamp": 1614119778943,
     "user": {
      "displayName": "Daniel Felipe Fragua Rengifo",
      "photoUrl": "",
      "userId": "09845551813303536248"
     },
     "user_tz": 300
    },
    "id": "eWDvJ-DSJ4Ke",
    "outputId": "931f07e4-9afc-4845-dd93-e9e116253d50"
   },
   "outputs": [],
   "source": [
    "df_line.plot.line('x', ['y', 'z']);"
   ]
  },
  {
   "cell_type": "markdown",
   "metadata": {
    "id": "1Q_qQfoTAfB3"
   },
   "source": [
    "### **7.3. Gráfica de dispersión o *Scatter***\n",
    "---\n",
    "Un **diagrama de dispersión** (***scatter plot*** en inglés) es una representación espacial de la relación entre dos variables. Es usada principalmente para identificar e ilustrar relaciones lineales y no lineales entre variables cuantitativas.\n",
    "\n",
    "Se puede generar un diagrama de dispersión con el siguiente método:\n",
    "\n",
    "> **`df.plot.scatter(x, y, s, c)`**\n",
    "\n",
    "Las gráficas de dispersión requieren los mismos argumentos que las gráficas de líneas. El primer argumento se interpreta como el argumento de referencia usado en el eje x. El segundo argumento se interpreta como la variable que representa el eje vertical.\n",
    "\n",
    "El argumento **`s`** permite definir el radio de los círculos de cada punto.\n",
    "El argumento **`c`** permite definir el color de cada punto. Se puede usar una variable para codificar el radio o el color de los puntos. \n"
   ]
  },
  {
   "cell_type": "code",
   "execution_count": null,
   "metadata": {
    "colab": {
     "base_uri": "https://localhost:8080/",
     "height": 279
    },
    "executionInfo": {
     "elapsed": 543,
     "status": "ok",
     "timestamp": 1614119784909,
     "user": {
      "displayName": "Daniel Felipe Fragua Rengifo",
      "photoUrl": "",
      "userId": "09845551813303536248"
     },
     "user_tz": 300
    },
    "id": "hlRg0D6dLq9E",
    "outputId": "d8f0efc2-38ca-4abb-ec23-1bdbb19ae8e8"
   },
   "outputs": [],
   "source": [
    "df.plot.scatter('Dietary Fiber', 'Potassium');           "
   ]
  },
  {
   "cell_type": "code",
   "execution_count": null,
   "metadata": {
    "colab": {
     "base_uri": "https://localhost:8080/",
     "height": 279
    },
    "executionInfo": {
     "elapsed": 594,
     "status": "ok",
     "timestamp": 1614119791721,
     "user": {
      "displayName": "Daniel Felipe Fragua Rengifo",
      "photoUrl": "",
      "userId": "09845551813303536248"
     },
     "user_tz": 300
    },
    "id": "HATzEhUntn9b",
    "outputId": "54caea79-cfa4-4d5d-c0d4-3b47d8462f4c"
   },
   "outputs": [],
   "source": [
    "z = np.random.randint(10, 50, len(df))\n",
    "c = pd.Series(['red', 'blue', 'green']).sample(len(df), replace = True)\n",
    " \n",
    "df.plot.scatter('Dietary Fiber', 'Potassium',\n",
    "                 s = z, # Se pueden usar series/arreglos independientes como parámetros. \n",
    "                 c = c);"
   ]
  },
  {
   "cell_type": "markdown",
   "metadata": {
    "id": "pe1PZnyxAfH_"
   },
   "source": [
    "### **7.4. Gráfica de barras**\n",
    "---\n",
    "Una **gráfica de barras** es una representación de la frecuencia y distribución de variables categóricas. Se usa principalmente para hacer comparaciones de magnitud entre variables por cada categoría identificada.\n",
    "\n",
    "Se puede generar una gráfica de barras con el siguiente método:\n",
    "\n",
    "> **`df.plot.bar(x, y)`**\n",
    "\n",
    "En este caso, el primer argumento será interpretado como una variable categórica, donde cada categoría representa una barra distinta. Para el segundo argumento se permiten varias variables cuantitativas en forma de lista, que representarán la magnitud o longitud vertical de la barra.\n",
    "\n"
   ]
  },
  {
   "cell_type": "code",
   "execution_count": null,
   "metadata": {
    "colab": {
     "base_uri": "https://localhost:8080/",
     "height": 385
    },
    "executionInfo": {
     "elapsed": 389,
     "status": "ok",
     "timestamp": 1614119861920,
     "user": {
      "displayName": "Daniel Felipe Fragua Rengifo",
      "photoUrl": "",
      "userId": "09845551813303536248"
     },
     "user_tz": 300
    },
    "id": "8tpwva47uDcd",
    "outputId": "ccc3795c-b7cc-49a5-e7f9-27b145f98bca"
   },
   "outputs": [],
   "source": [
    "df_means = df.groupby('Manufacturer').mean()\n",
    "\n",
    "df_means"
   ]
  },
  {
   "cell_type": "code",
   "execution_count": null,
   "metadata": {
    "colab": {
     "base_uri": "https://localhost:8080/",
     "height": 422
    },
    "executionInfo": {
     "elapsed": 576,
     "status": "ok",
     "timestamp": 1614119870627,
     "user": {
      "displayName": "Daniel Felipe Fragua Rengifo",
      "photoUrl": "",
      "userId": "09845551813303536248"
     },
     "user_tz": 300
    },
    "id": "0kj9oc6oRJFd",
    "outputId": "9d9c5091-d877-40aa-fd5e-6c923d4c82bf"
   },
   "outputs": [],
   "source": [
    "#Si x no se indica, se usa el índice del DataFrame.\n",
    "\n",
    "df_means.plot.bar(y = ['Calories', 'Potassium', 'Sodium']);"
   ]
  },
  {
   "cell_type": "markdown",
   "metadata": {
    "id": "JNgipCt0AfMW"
   },
   "source": [
    "### **7.5. Diagrama de cajas**\n",
    "---\n",
    "\n",
    "Un **diagrama de cajas** es la representación que muestra a simple vista la mediana, los cuartiles, el mínimo, el máximo y el rango. También puede representar los valores atípicos.\n",
    "\n",
    "Se puede generar un diagrama de cajas con el siguiente método:\n",
    "\n",
    "> **`df.plot.box(by)`**\n",
    "\n",
    "El argumento **`by`** recibe las columnas que se van a usar para construir diagramas de cajas independientes. Cada variable cuantitativa en la lista tiene una representación propia.\n"
   ]
  },
  {
   "cell_type": "code",
   "execution_count": null,
   "metadata": {
    "colab": {
     "base_uri": "https://localhost:8080/",
     "height": 265
    },
    "executionInfo": {
     "elapsed": 353,
     "status": "ok",
     "timestamp": 1614119888136,
     "user": {
      "displayName": "Daniel Felipe Fragua Rengifo",
      "photoUrl": "",
      "userId": "09845551813303536248"
     },
     "user_tz": 300
    },
    "id": "aP8C2Qyud-1o",
    "outputId": "b29dceaa-6eeb-4778-e42e-3e9364e58747"
   },
   "outputs": [],
   "source": [
    "df['Sugars'].plot.box();"
   ]
  },
  {
   "cell_type": "code",
   "execution_count": null,
   "metadata": {
    "colab": {
     "base_uri": "https://localhost:8080/",
     "height": 265
    },
    "executionInfo": {
     "elapsed": 470,
     "status": "ok",
     "timestamp": 1614119892884,
     "user": {
      "displayName": "Daniel Felipe Fragua Rengifo",
      "photoUrl": "",
      "userId": "09845551813303536248"
     },
     "user_tz": 300
    },
    "id": "gjLLHWdvus8c",
    "outputId": "f50f27dc-608f-4704-ecaa-b2eb0205581d"
   },
   "outputs": [],
   "source": [
    "# Los puntos representan valores atípicos en la distribución.\n",
    "\n",
    "df[['Sodium', 'Calories', 'Potassium'] ].plot.box();"
   ]
  },
  {
   "cell_type": "markdown",
   "metadata": {
    "id": "VuSfa1DBAfPw"
   },
   "source": [
    "### **7.6. Gráfica circular**\n",
    "---\n",
    "\n",
    "Una **gráfica circular** o de torta es una representación de las proporciones o porcentajes de los valores en una variable categórica. Permite visualizar de forma sencilla la proporción numérica de los posibles valores de una variable. A pesar de ser muy popular, existen otras representaciones más efectivas para conseguir el objetivo deseado como los diagramas de barras.\n",
    "\n",
    "Se puede generar una gráfica circular con el siguiente método:\n",
    "\n",
    "> **`df.plot.pie(y)`**\n",
    "\n",
    "El argumento **`y`** recibe la columna a graficar. Con esta columna, se graficarán los segmentos de la gráfica por cada índice o registro en el objeto."
   ]
  },
  {
   "cell_type": "code",
   "execution_count": null,
   "metadata": {
    "colab": {
     "base_uri": "https://localhost:8080/",
     "height": 248
    },
    "executionInfo": {
     "elapsed": 1213,
     "status": "ok",
     "timestamp": 1614119907348,
     "user": {
      "displayName": "Daniel Felipe Fragua Rengifo",
      "photoUrl": "",
      "userId": "09845551813303536248"
     },
     "user_tz": 300
    },
    "id": "w-ZG1niIdB1P",
    "outputId": "3f3e2b11-f710-4b00-99dd-1f47bf57feb6"
   },
   "outputs": [],
   "source": [
    "df['Manufacturer'].value_counts().plot.pie();"
   ]
  },
  {
   "cell_type": "markdown",
   "metadata": {
    "id": "472IbuvlAfTG"
   },
   "source": [
    "### **7.7. Gráfica de áreas**\n",
    "---\n",
    "\n",
    "Una **gráfica de áreas** o de **áreas apiladas** es una representación de la proporción o magnitud de varias variables en relación a una variable ordenada, como el tiempo. Es usada para comparar la evolución y magnitud de variables.\n",
    "\n",
    "Se puede generar una gráfica de áreas con el siguiente método:\n",
    "\n",
    "> **`df.plot.area(x, y)`**\n",
    "\n",
    "Al igual que en las gráficas de líneas y de dispersión, las gráficas de áreas reciben como primer argumento una variable de control para el eje **x** y una o más variables como segundo argumento.\n"
   ]
  },
  {
   "cell_type": "code",
   "execution_count": null,
   "metadata": {
    "colab": {
     "base_uri": "https://localhost:8080/",
     "height": 419
    },
    "executionInfo": {
     "elapsed": 352,
     "status": "ok",
     "timestamp": 1614119927147,
     "user": {
      "displayName": "Daniel Felipe Fragua Rengifo",
      "photoUrl": "",
      "userId": "09845551813303536248"
     },
     "user_tz": 300
    },
    "id": "M55RIjLLfRPQ",
    "outputId": "3eab729c-c025-4e36-de89-b72b027fa988"
   },
   "outputs": [],
   "source": [
    "x = np.linspace(0, 1, 100)\n",
    "y = np.random.randint(0, 10, 100).cumsum()\n",
    "z = np.random.randint(0, 25, 100).cumsum()\n",
    "w = np.random.randint(0, 50, 100).cumsum()\n",
    "\n",
    "\n",
    "df_area = pd.DataFrame({'x': x,\n",
    "                   'y': y,\n",
    "                   'z': z,\n",
    "                   'w': w})\n",
    "\n",
    "df_area"
   ]
  },
  {
   "cell_type": "code",
   "execution_count": null,
   "metadata": {
    "colab": {
     "base_uri": "https://localhost:8080/",
     "height": 296
    },
    "executionInfo": {
     "elapsed": 789,
     "status": "ok",
     "timestamp": 1614119931196,
     "user": {
      "displayName": "Daniel Felipe Fragua Rengifo",
      "photoUrl": "",
      "userId": "09845551813303536248"
     },
     "user_tz": 300
    },
    "id": "DS5fF4QXfYfg",
    "outputId": "67ec0046-b211-4fe0-858d-a5c83e0f4994"
   },
   "outputs": [],
   "source": [
    "df_area.plot.area('x', ['y', 'z', 'w'])"
   ]
  },
  {
   "cell_type": "markdown",
   "metadata": {
    "id": "XDWVBdnUAfWx"
   },
   "source": [
    "### **7.8. Gráfica hexagonal**\n",
    "---\n",
    "Una **gráfica hexagonal** o ***hexagonal binning*** es una representación de la frecuencia de valores dentro de intervalos en dos variables distintas. Es considerada un histograma en un espacio bidimensional. Permite identificar concentraciones de valores asociados en dos variables. Es útil para datos con alta densidad.\n",
    "\n",
    "Se puede generar una gráfica hexagonal con el siguiente método:\n",
    "\n",
    "> **`df.plot.hexbin(x, y, gridsize)`**\n",
    "\n",
    "La gráfica hexagonal recibe dos argumentos. En este caso, ambos representan una columna o variable única. Además, se pueden definir funciones para la reducción de los valores de cada *bin*, o definir la cantidad de *bins* por eje con el argumento **`gridsize`**.\n"
   ]
  },
  {
   "cell_type": "code",
   "execution_count": null,
   "metadata": {
    "colab": {
     "base_uri": "https://localhost:8080/",
     "height": 419
    },
    "executionInfo": {
     "elapsed": 370,
     "status": "ok",
     "timestamp": 1614119968139,
     "user": {
      "displayName": "Daniel Felipe Fragua Rengifo",
      "photoUrl": "",
      "userId": "09845551813303536248"
     },
     "user_tz": 300
    },
    "id": "wSNP-YHfTmPG",
    "outputId": "d36b1b44-3f86-4953-a138-f9b858436b5a"
   },
   "outputs": [],
   "source": [
    "x = np.random.randn(1000) + 5\n",
    "y = 3 + 1.25 * x + 1.5 * np.random.randn(1000)\n",
    "\n",
    "\n",
    "df_hex = pd.DataFrame({'x': x,\n",
    "                   'y': y,})\n",
    "\n",
    "df_hex"
   ]
  },
  {
   "cell_type": "code",
   "execution_count": null,
   "metadata": {
    "colab": {
     "base_uri": "https://localhost:8080/",
     "height": 254
    },
    "executionInfo": {
     "elapsed": 920,
     "status": "ok",
     "timestamp": 1614120027019,
     "user": {
      "displayName": "Daniel Felipe Fragua Rengifo",
      "photoUrl": "",
      "userId": "09845551813303536248"
     },
     "user_tz": 300
    },
    "id": "Gy80yBZkg_Kq",
    "outputId": "b142579e-e9d1-4272-cca9-b2a539f39faa"
   },
   "outputs": [],
   "source": [
    "df_hex.plot.hexbin('x', 'y', gridsize=10);"
   ]
  },
  {
   "cell_type": "markdown",
   "metadata": {
    "id": "4r5hSQAz6d-g"
   },
   "source": [
    "data/cereal.csv## **Recursos adicionales**\n",
    "---\n",
    "\n",
    "En este material se consideran algunas de las funciones más comunes, pero quedan muchas otras fuera de alcance. Lo invitamos a que consulte la [documentación oficial](https://pandas.pydata.org/pandas-docs/stable/reference/index.html), y en especial la [Guía de usuario](https://pandas.pydata.org/pandas-docs/stable/user_guide/index.html) de *pandas*. \n",
    "\n",
    "Además, a continuación se presenta una lista de recursos adicionales que le podrán ser de utilidad:\n",
    "\n",
    "*  [University of California San Diego. Coursera - Machine Learning With Big Data](https://www.coursera.org/learn/big-data-machine-learning)\n",
    "*  [Data vedas - Exploración y preparación de los datos](https://www.datavedas.com/data-exploration-and-preparation/)\n",
    "*  [Kaggle - Pandas](https://www.kaggle.com/learn/pandas)\n",
    "*  [CodeCademy - Learn Data Analysis with Pandas](https://www.codecademy.com/learn/data-processing-pandas)\n",
    "*  [University of Michigan. Coursera - Applied Data Science with Python Specialization](https://www.coursera.org/specializations/data-science-python)"
   ]
  }
 ],
 "metadata": {
  "colab": {
   "collapsed_sections": [],
   "name": "Pandas - Entendimiento de los datos - Parte 2.ipynb",
   "provenance": [
    {
     "file_id": "1I7N3viEYRoXRDXOY859wu6EUYFVDDB97",
     "timestamp": 1614115346908
    }
   ],
   "toc_visible": true
  },
  "kernelspec": {
   "display_name": "Python 3 (ipykernel)",
   "language": "python",
   "name": "python3"
  },
  "language_info": {
   "codemirror_mode": {
    "name": "ipython",
    "version": 3
   },
   "file_extension": ".py",
   "mimetype": "text/x-python",
   "name": "python",
   "nbconvert_exporter": "python",
   "pygments_lexer": "ipython3",
   "version": "3.9.7"
  }
 },
 "nbformat": 4,
 "nbformat_minor": 4
}
