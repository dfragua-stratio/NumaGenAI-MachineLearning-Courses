{
 "cells": [
  {
   "cell_type": "markdown",
   "metadata": {
    "id": "kyyYqzShjxwL"
   },
   "source": [
    "# **Entendimiento de los datos con *pandas* II**\n",
    "---\n",
    "<img src = \"https://pandas.pydata.org/static/img/pandas.svg\" alt = \"pandas Logo\" width = \"70%\">  </img>\n",
    "\n",
    "\n",
    "\n",
    "En este material se explorarán las tareas de entendimiento de datos basadas en la descripción de conjuntos de datos. Para esto, se toma como referencia la exploración de conjuntos de datos mediante **estadística descriptiva** y **visualización básica de datos**, como complemento de las utilidades generales de descripción de *pandas*."
   ]
  },
  {
   "cell_type": "code",
   "execution_count": 1,
   "metadata": {
    "executionInfo": {
     "elapsed": 458,
     "status": "ok",
     "timestamp": 1614119340920,
     "user": {
      "displayName": "Daniel Felipe Fragua Rengifo",
      "photoUrl": "",
      "userId": "09845551813303536248"
     },
     "user_tz": 300
    },
    "id": "If9LYvdhSImI"
   },
   "outputs": [],
   "source": [
    "import numpy as np\n",
    "import pandas as pd"
   ]
  },
  {
   "cell_type": "markdown",
   "metadata": {
    "id": "LL1mNTOsTsJT"
   },
   "source": [
    "## **5. Descripciones generales**\n",
    "---\n",
    "\n",
    "Ya tenemos a nuestra disposición herramientas para cargar y generar conjuntos de datos tabulares en forma de objetos *DataFrame* y *Series*. Con ellos podemos realizar muchas tareas, pero antes de comenzar se recomienda siempre realizar un proceso de **exploración de los datos**. Esto se refiere al proceso que nos permite conocer y entender los datos de forma preliminar. Los atributos de los objetos son una herramienta maravillosa para empezar con esta tarea, pero son insuficientes para conocer el detalle de los datos, sobre todo en conjuntos grandes.\n",
    "\n",
    "*Pandas* ofrece herramientas para realizar esta exploración previa. Inicialmente, presentaremos las herramientas más generales y comunes en este proceso."
   ]
  },
  {
   "cell_type": "markdown",
   "metadata": {
    "id": "rNypXUMLfsJn"
   },
   "source": [
    "> El resto de este material se realizará tomando como referencia el [*dataset* de *Kaggle*](https://www.kaggle.com/crawford/80-cereals) correspondiente a la información nutricional de un listado de 80 cereales. "
   ]
  },
  {
   "cell_type": "code",
   "execution_count": 2,
   "metadata": {
    "executionInfo": {
     "elapsed": 899,
     "status": "ok",
     "timestamp": 1614119347300,
     "user": {
      "displayName": "Daniel Felipe Fragua Rengifo",
      "photoUrl": "",
      "userId": "09845551813303536248"
     },
     "user_tz": 300
    },
    "id": "oRsuAhahgChe"
   },
   "outputs": [],
   "source": [
    "df = pd.read_csv('data/cereal.csv')"
   ]
  },
  {
   "cell_type": "markdown",
   "metadata": {
    "id": "0HzRWeCPHUuq"
   },
   "source": [
    "* **`[df|series].info()`:** El método **`.info()`** se ajusta perfectamente a esta descripción pues permite generar un vistazo inicial a la información general del conjunto de datos de interés. Entre esta información se incluyen: \n",
    "\n",
    "  *  Nombre de las columnas.\n",
    "  *  Tipos de dato (**`dtypes`**) por columna.\n",
    "  *  Número de columnas y de filas.\n",
    "  *  Número de valores faltantes por columna.\n",
    "  *  Uso de memoria.\n",
    "\n"
   ]
  },
  {
   "cell_type": "code",
   "execution_count": 3,
   "metadata": {
    "colab": {
     "base_uri": "https://localhost:8080/"
    },
    "executionInfo": {
     "elapsed": 375,
     "status": "ok",
     "timestamp": 1614119362291,
     "user": {
      "displayName": "Daniel Felipe Fragua Rengifo",
      "photoUrl": "",
      "userId": "09845551813303536248"
     },
     "user_tz": 300
    },
    "id": "r_R_AuzHHUD5",
    "outputId": "7871cb0d-d92b-4770-e3e5-7a520be02ea7"
   },
   "outputs": [
    {
     "name": "stdout",
     "output_type": "stream",
     "text": [
      "<class 'pandas.core.frame.DataFrame'>\n",
      "RangeIndex: 74 entries, 0 to 73\n",
      "Data columns (total 15 columns):\n",
      " #   Column                 Non-Null Count  Dtype  \n",
      "---  ------                 --------------  -----  \n",
      " 0   Cereal Name            74 non-null     object \n",
      " 1   Manufacturer           74 non-null     object \n",
      " 2   Type                   74 non-null     object \n",
      " 3   Calories               74 non-null     int64  \n",
      " 4   Protein (g)            74 non-null     int64  \n",
      " 5   Fat                    74 non-null     int64  \n",
      " 6   Sodium                 74 non-null     int64  \n",
      " 7   Dietary Fiber          74 non-null     float64\n",
      " 8   Carbs                  74 non-null     float64\n",
      " 9   Sugars                 74 non-null     int64  \n",
      " 10  Display Shelf          74 non-null     int64  \n",
      " 11  Potassium              74 non-null     int64  \n",
      " 12  Vitamins and Minerals  74 non-null     int64  \n",
      " 13  Serving Size Weight    74 non-null     float64\n",
      " 14  Cups per Serving       74 non-null     float64\n",
      "dtypes: float64(4), int64(8), object(3)\n",
      "memory usage: 8.8+ KB\n"
     ]
    }
   ],
   "source": [
    "df.info()"
   ]
  },
  {
   "cell_type": "markdown",
   "metadata": {
    "id": "GuePgV5zMG1S"
   },
   "source": [
    "* **`[df|series].describe()`:** El método **`.describe()`** realiza un resumen de las estadísticas descriptivas más comunes por columna. La **estadística descriptiva** se verá en la siguiente sección. Estos son:\n",
    "\n",
    "  *  Conteo de valores no nulos. **`count`**\n",
    "  *  Media aritmética. **`mean`**\n",
    "  *  Desviación estándar. **`std`**\n",
    "  *  Máximo y mínimo. **`max`** | **`min`**\n",
    "  *  Cuartiles 1, 2 y 3. **`25%`** | **`50%`** | **`75%`**\n",
    "\n"
   ]
  },
  {
   "cell_type": "code",
   "execution_count": 4,
   "metadata": {
    "colab": {
     "base_uri": "https://localhost:8080/",
     "height": 351
    },
    "executionInfo": {
     "elapsed": 387,
     "status": "ok",
     "timestamp": 1614119372694,
     "user": {
      "displayName": "Daniel Felipe Fragua Rengifo",
      "photoUrl": "",
      "userId": "09845551813303536248"
     },
     "user_tz": 300
    },
    "id": "8PbmtQ1nMyN0",
    "outputId": "c4c87663-e27e-417f-8ec7-cfe4321f6c59"
   },
   "outputs": [
    {
     "data": {
      "text/html": [
       "<div>\n",
       "<style scoped>\n",
       "    .dataframe tbody tr th:only-of-type {\n",
       "        vertical-align: middle;\n",
       "    }\n",
       "\n",
       "    .dataframe tbody tr th {\n",
       "        vertical-align: top;\n",
       "    }\n",
       "\n",
       "    .dataframe thead th {\n",
       "        text-align: right;\n",
       "    }\n",
       "</style>\n",
       "<table border=\"1\" class=\"dataframe\">\n",
       "  <thead>\n",
       "    <tr style=\"text-align: right;\">\n",
       "      <th></th>\n",
       "      <th>Calories</th>\n",
       "      <th>Protein (g)</th>\n",
       "      <th>Fat</th>\n",
       "      <th>Sodium</th>\n",
       "      <th>Dietary Fiber</th>\n",
       "      <th>Carbs</th>\n",
       "      <th>Sugars</th>\n",
       "      <th>Display Shelf</th>\n",
       "      <th>Potassium</th>\n",
       "      <th>Vitamins and Minerals</th>\n",
       "      <th>Serving Size Weight</th>\n",
       "      <th>Cups per Serving</th>\n",
       "    </tr>\n",
       "  </thead>\n",
       "  <tbody>\n",
       "    <tr>\n",
       "      <th>count</th>\n",
       "      <td>74.000000</td>\n",
       "      <td>74.000000</td>\n",
       "      <td>74.000000</td>\n",
       "      <td>74.000000</td>\n",
       "      <td>74.000000</td>\n",
       "      <td>74.000000</td>\n",
       "      <td>74.000000</td>\n",
       "      <td>74.000000</td>\n",
       "      <td>74.000000</td>\n",
       "      <td>74.000000</td>\n",
       "      <td>74.000000</td>\n",
       "      <td>74.000000</td>\n",
       "    </tr>\n",
       "    <tr>\n",
       "      <th>mean</th>\n",
       "      <td>105.540541</td>\n",
       "      <td>2.500000</td>\n",
       "      <td>0.945946</td>\n",
       "      <td>160.675676</td>\n",
       "      <td>2.090541</td>\n",
       "      <td>14.594595</td>\n",
       "      <td>6.770270</td>\n",
       "      <td>2.175676</td>\n",
       "      <td>92.675676</td>\n",
       "      <td>28.378378</td>\n",
       "      <td>1.027432</td>\n",
       "      <td>0.629054</td>\n",
       "    </tr>\n",
       "    <tr>\n",
       "      <th>std</th>\n",
       "      <td>18.442201</td>\n",
       "      <td>1.088546</td>\n",
       "      <td>0.963610</td>\n",
       "      <td>85.188447</td>\n",
       "      <td>2.404002</td>\n",
       "      <td>4.349205</td>\n",
       "      <td>4.467684</td>\n",
       "      <td>0.833512</td>\n",
       "      <td>70.578065</td>\n",
       "      <td>22.787104</td>\n",
       "      <td>0.151260</td>\n",
       "      <td>0.576843</td>\n",
       "    </tr>\n",
       "    <tr>\n",
       "      <th>min</th>\n",
       "      <td>50.000000</td>\n",
       "      <td>1.000000</td>\n",
       "      <td>0.000000</td>\n",
       "      <td>0.000000</td>\n",
       "      <td>0.000000</td>\n",
       "      <td>-1.000000</td>\n",
       "      <td>-1.000000</td>\n",
       "      <td>1.000000</td>\n",
       "      <td>-1.000000</td>\n",
       "      <td>0.000000</td>\n",
       "      <td>0.500000</td>\n",
       "      <td>-1.000000</td>\n",
       "    </tr>\n",
       "    <tr>\n",
       "      <th>25%</th>\n",
       "      <td>100.000000</td>\n",
       "      <td>2.000000</td>\n",
       "      <td>0.000000</td>\n",
       "      <td>131.250000</td>\n",
       "      <td>0.250000</td>\n",
       "      <td>12.000000</td>\n",
       "      <td>3.000000</td>\n",
       "      <td>1.000000</td>\n",
       "      <td>40.000000</td>\n",
       "      <td>25.000000</td>\n",
       "      <td>1.000000</td>\n",
       "      <td>0.670000</td>\n",
       "    </tr>\n",
       "    <tr>\n",
       "      <th>50%</th>\n",
       "      <td>110.000000</td>\n",
       "      <td>2.000000</td>\n",
       "      <td>1.000000</td>\n",
       "      <td>180.000000</td>\n",
       "      <td>1.500000</td>\n",
       "      <td>14.000000</td>\n",
       "      <td>6.000000</td>\n",
       "      <td>2.000000</td>\n",
       "      <td>90.000000</td>\n",
       "      <td>25.000000</td>\n",
       "      <td>1.000000</td>\n",
       "      <td>0.750000</td>\n",
       "    </tr>\n",
       "    <tr>\n",
       "      <th>75%</th>\n",
       "      <td>110.000000</td>\n",
       "      <td>3.000000</td>\n",
       "      <td>1.000000</td>\n",
       "      <td>217.500000</td>\n",
       "      <td>3.000000</td>\n",
       "      <td>17.000000</td>\n",
       "      <td>10.750000</td>\n",
       "      <td>3.000000</td>\n",
       "      <td>113.750000</td>\n",
       "      <td>25.000000</td>\n",
       "      <td>1.000000</td>\n",
       "      <td>1.000000</td>\n",
       "    </tr>\n",
       "    <tr>\n",
       "      <th>max</th>\n",
       "      <td>160.000000</td>\n",
       "      <td>6.000000</td>\n",
       "      <td>5.000000</td>\n",
       "      <td>320.000000</td>\n",
       "      <td>14.000000</td>\n",
       "      <td>23.000000</td>\n",
       "      <td>15.000000</td>\n",
       "      <td>3.000000</td>\n",
       "      <td>330.000000</td>\n",
       "      <td>100.000000</td>\n",
       "      <td>1.500000</td>\n",
       "      <td>1.500000</td>\n",
       "    </tr>\n",
       "  </tbody>\n",
       "</table>\n",
       "</div>"
      ],
      "text/plain": [
       "         Calories  Protein (g)        Fat      Sodium  Dietary Fiber  \\\n",
       "count   74.000000    74.000000  74.000000   74.000000      74.000000   \n",
       "mean   105.540541     2.500000   0.945946  160.675676       2.090541   \n",
       "std     18.442201     1.088546   0.963610   85.188447       2.404002   \n",
       "min     50.000000     1.000000   0.000000    0.000000       0.000000   \n",
       "25%    100.000000     2.000000   0.000000  131.250000       0.250000   \n",
       "50%    110.000000     2.000000   1.000000  180.000000       1.500000   \n",
       "75%    110.000000     3.000000   1.000000  217.500000       3.000000   \n",
       "max    160.000000     6.000000   5.000000  320.000000      14.000000   \n",
       "\n",
       "           Carbs     Sugars  Display Shelf   Potassium  Vitamins and Minerals  \\\n",
       "count  74.000000  74.000000      74.000000   74.000000              74.000000   \n",
       "mean   14.594595   6.770270       2.175676   92.675676              28.378378   \n",
       "std     4.349205   4.467684       0.833512   70.578065              22.787104   \n",
       "min    -1.000000  -1.000000       1.000000   -1.000000               0.000000   \n",
       "25%    12.000000   3.000000       1.000000   40.000000              25.000000   \n",
       "50%    14.000000   6.000000       2.000000   90.000000              25.000000   \n",
       "75%    17.000000  10.750000       3.000000  113.750000              25.000000   \n",
       "max    23.000000  15.000000       3.000000  330.000000             100.000000   \n",
       "\n",
       "       Serving Size Weight  Cups per Serving  \n",
       "count            74.000000         74.000000  \n",
       "mean              1.027432          0.629054  \n",
       "std               0.151260          0.576843  \n",
       "min               0.500000         -1.000000  \n",
       "25%               1.000000          0.670000  \n",
       "50%               1.000000          0.750000  \n",
       "75%               1.000000          1.000000  \n",
       "max               1.500000          1.500000  "
      ]
     },
     "execution_count": 4,
     "metadata": {},
     "output_type": "execute_result"
    }
   ],
   "source": [
    "df.describe()"
   ]
  },
  {
   "cell_type": "markdown",
   "metadata": {
    "id": "wmXMrzJBPUaa"
   },
   "source": [
    "* **`[df|series].head(n)` | `[df|series].tail(n)`:** Cuando se realiza una exploración inicial, no es conveniente imprimir en pantalla todos los registros de un conjunto de datos. Para esto se dispone de las funciones **`head(n)`** y **`tail(n)`**, que retornan un subconjunto de los primeros (para **`head`**) o últimos (para **`tail`**) $n$ registros de un objeto *DataFrame* o *Series*. Por defecto, si no se pasa el argumento **`n`** se imprimen los primeros/últimos $5$ registros.\n"
   ]
  },
  {
   "cell_type": "code",
   "execution_count": 5,
   "metadata": {
    "colab": {
     "base_uri": "https://localhost:8080/",
     "height": 275
    },
    "executionInfo": {
     "elapsed": 433,
     "status": "ok",
     "timestamp": 1614119414732,
     "user": {
      "displayName": "Daniel Felipe Fragua Rengifo",
      "photoUrl": "",
      "userId": "09845551813303536248"
     },
     "user_tz": 300
    },
    "id": "JgJQOjHvOAqk",
    "outputId": "c31f6af0-ffc3-4203-abd4-9e1ab345f773"
   },
   "outputs": [
    {
     "data": {
      "text/html": [
       "<div>\n",
       "<style scoped>\n",
       "    .dataframe tbody tr th:only-of-type {\n",
       "        vertical-align: middle;\n",
       "    }\n",
       "\n",
       "    .dataframe tbody tr th {\n",
       "        vertical-align: top;\n",
       "    }\n",
       "\n",
       "    .dataframe thead th {\n",
       "        text-align: right;\n",
       "    }\n",
       "</style>\n",
       "<table border=\"1\" class=\"dataframe\">\n",
       "  <thead>\n",
       "    <tr style=\"text-align: right;\">\n",
       "      <th></th>\n",
       "      <th>Cereal Name</th>\n",
       "      <th>Manufacturer</th>\n",
       "      <th>Type</th>\n",
       "      <th>Calories</th>\n",
       "      <th>Protein (g)</th>\n",
       "      <th>Fat</th>\n",
       "      <th>Sodium</th>\n",
       "      <th>Dietary Fiber</th>\n",
       "      <th>Carbs</th>\n",
       "      <th>Sugars</th>\n",
       "      <th>Display Shelf</th>\n",
       "      <th>Potassium</th>\n",
       "      <th>Vitamins and Minerals</th>\n",
       "      <th>Serving Size Weight</th>\n",
       "      <th>Cups per Serving</th>\n",
       "    </tr>\n",
       "  </thead>\n",
       "  <tbody>\n",
       "    <tr>\n",
       "      <th>0</th>\n",
       "      <td>100%_Bran</td>\n",
       "      <td>Nabisco</td>\n",
       "      <td>C</td>\n",
       "      <td>70</td>\n",
       "      <td>4</td>\n",
       "      <td>1</td>\n",
       "      <td>130</td>\n",
       "      <td>10.0</td>\n",
       "      <td>5.0</td>\n",
       "      <td>6</td>\n",
       "      <td>3</td>\n",
       "      <td>280</td>\n",
       "      <td>25</td>\n",
       "      <td>1.0</td>\n",
       "      <td>0.33</td>\n",
       "    </tr>\n",
       "    <tr>\n",
       "      <th>1</th>\n",
       "      <td>100%_Natural_Bran</td>\n",
       "      <td>Quaker Oats</td>\n",
       "      <td>C</td>\n",
       "      <td>120</td>\n",
       "      <td>3</td>\n",
       "      <td>5</td>\n",
       "      <td>15</td>\n",
       "      <td>2.0</td>\n",
       "      <td>8.0</td>\n",
       "      <td>8</td>\n",
       "      <td>3</td>\n",
       "      <td>135</td>\n",
       "      <td>0</td>\n",
       "      <td>1.0</td>\n",
       "      <td>-1.00</td>\n",
       "    </tr>\n",
       "    <tr>\n",
       "      <th>2</th>\n",
       "      <td>All-Bran</td>\n",
       "      <td>Kelloggs</td>\n",
       "      <td>C</td>\n",
       "      <td>70</td>\n",
       "      <td>4</td>\n",
       "      <td>1</td>\n",
       "      <td>260</td>\n",
       "      <td>9.0</td>\n",
       "      <td>7.0</td>\n",
       "      <td>5</td>\n",
       "      <td>3</td>\n",
       "      <td>320</td>\n",
       "      <td>25</td>\n",
       "      <td>1.0</td>\n",
       "      <td>0.33</td>\n",
       "    </tr>\n",
       "    <tr>\n",
       "      <th>3</th>\n",
       "      <td>All-Bran_with_Extra_Fiber</td>\n",
       "      <td>Kelloggs</td>\n",
       "      <td>C</td>\n",
       "      <td>50</td>\n",
       "      <td>4</td>\n",
       "      <td>0</td>\n",
       "      <td>140</td>\n",
       "      <td>14.0</td>\n",
       "      <td>8.0</td>\n",
       "      <td>0</td>\n",
       "      <td>3</td>\n",
       "      <td>330</td>\n",
       "      <td>25</td>\n",
       "      <td>1.0</td>\n",
       "      <td>0.50</td>\n",
       "    </tr>\n",
       "    <tr>\n",
       "      <th>4</th>\n",
       "      <td>Almond_Delight</td>\n",
       "      <td>Ralston Purina</td>\n",
       "      <td>C</td>\n",
       "      <td>110</td>\n",
       "      <td>2</td>\n",
       "      <td>2</td>\n",
       "      <td>200</td>\n",
       "      <td>1.0</td>\n",
       "      <td>14.0</td>\n",
       "      <td>8</td>\n",
       "      <td>3</td>\n",
       "      <td>-1</td>\n",
       "      <td>25</td>\n",
       "      <td>1.0</td>\n",
       "      <td>0.75</td>\n",
       "    </tr>\n",
       "  </tbody>\n",
       "</table>\n",
       "</div>"
      ],
      "text/plain": [
       "                 Cereal Name    Manufacturer Type  Calories  Protein (g)  Fat  \\\n",
       "0                  100%_Bran         Nabisco    C        70            4    1   \n",
       "1          100%_Natural_Bran     Quaker Oats    C       120            3    5   \n",
       "2                   All-Bran        Kelloggs    C        70            4    1   \n",
       "3  All-Bran_with_Extra_Fiber        Kelloggs    C        50            4    0   \n",
       "4             Almond_Delight  Ralston Purina    C       110            2    2   \n",
       "\n",
       "   Sodium  Dietary Fiber  Carbs  Sugars  Display Shelf  Potassium  \\\n",
       "0     130           10.0    5.0       6              3        280   \n",
       "1      15            2.0    8.0       8              3        135   \n",
       "2     260            9.0    7.0       5              3        320   \n",
       "3     140           14.0    8.0       0              3        330   \n",
       "4     200            1.0   14.0       8              3         -1   \n",
       "\n",
       "   Vitamins and Minerals  Serving Size Weight  Cups per Serving  \n",
       "0                     25                  1.0              0.33  \n",
       "1                      0                  1.0             -1.00  \n",
       "2                     25                  1.0              0.33  \n",
       "3                     25                  1.0              0.50  \n",
       "4                     25                  1.0              0.75  "
      ]
     },
     "execution_count": 5,
     "metadata": {},
     "output_type": "execute_result"
    }
   ],
   "source": [
    "df.head()"
   ]
  },
  {
   "cell_type": "code",
   "execution_count": 6,
   "metadata": {
    "colab": {
     "base_uri": "https://localhost:8080/",
     "height": 165
    },
    "executionInfo": {
     "elapsed": 389,
     "status": "ok",
     "timestamp": 1614119415096,
     "user": {
      "displayName": "Daniel Felipe Fragua Rengifo",
      "photoUrl": "",
      "userId": "09845551813303536248"
     },
     "user_tz": 300
    },
    "id": "WZuMBv4JQFwp",
    "outputId": "295f97bf-8c36-42a5-cc0e-e5b0da73e3a2"
   },
   "outputs": [
    {
     "data": {
      "text/html": [
       "<div>\n",
       "<style scoped>\n",
       "    .dataframe tbody tr th:only-of-type {\n",
       "        vertical-align: middle;\n",
       "    }\n",
       "\n",
       "    .dataframe tbody tr th {\n",
       "        vertical-align: top;\n",
       "    }\n",
       "\n",
       "    .dataframe thead th {\n",
       "        text-align: right;\n",
       "    }\n",
       "</style>\n",
       "<table border=\"1\" class=\"dataframe\">\n",
       "  <thead>\n",
       "    <tr style=\"text-align: right;\">\n",
       "      <th></th>\n",
       "      <th>Cereal Name</th>\n",
       "      <th>Manufacturer</th>\n",
       "      <th>Type</th>\n",
       "      <th>Calories</th>\n",
       "      <th>Protein (g)</th>\n",
       "      <th>Fat</th>\n",
       "      <th>Sodium</th>\n",
       "      <th>Dietary Fiber</th>\n",
       "      <th>Carbs</th>\n",
       "      <th>Sugars</th>\n",
       "      <th>Display Shelf</th>\n",
       "      <th>Potassium</th>\n",
       "      <th>Vitamins and Minerals</th>\n",
       "      <th>Serving Size Weight</th>\n",
       "      <th>Cups per Serving</th>\n",
       "    </tr>\n",
       "  </thead>\n",
       "  <tbody>\n",
       "    <tr>\n",
       "      <th>0</th>\n",
       "      <td>100%_Bran</td>\n",
       "      <td>Nabisco</td>\n",
       "      <td>C</td>\n",
       "      <td>70</td>\n",
       "      <td>4</td>\n",
       "      <td>1</td>\n",
       "      <td>130</td>\n",
       "      <td>10.0</td>\n",
       "      <td>5.0</td>\n",
       "      <td>6</td>\n",
       "      <td>3</td>\n",
       "      <td>280</td>\n",
       "      <td>25</td>\n",
       "      <td>1.0</td>\n",
       "      <td>0.33</td>\n",
       "    </tr>\n",
       "    <tr>\n",
       "      <th>1</th>\n",
       "      <td>100%_Natural_Bran</td>\n",
       "      <td>Quaker Oats</td>\n",
       "      <td>C</td>\n",
       "      <td>120</td>\n",
       "      <td>3</td>\n",
       "      <td>5</td>\n",
       "      <td>15</td>\n",
       "      <td>2.0</td>\n",
       "      <td>8.0</td>\n",
       "      <td>8</td>\n",
       "      <td>3</td>\n",
       "      <td>135</td>\n",
       "      <td>0</td>\n",
       "      <td>1.0</td>\n",
       "      <td>-1.00</td>\n",
       "    </tr>\n",
       "  </tbody>\n",
       "</table>\n",
       "</div>"
      ],
      "text/plain": [
       "         Cereal Name Manufacturer Type  Calories  Protein (g)  Fat  Sodium  \\\n",
       "0          100%_Bran      Nabisco    C        70            4    1     130   \n",
       "1  100%_Natural_Bran  Quaker Oats    C       120            3    5      15   \n",
       "\n",
       "   Dietary Fiber  Carbs  Sugars  Display Shelf  Potassium  \\\n",
       "0           10.0    5.0       6              3        280   \n",
       "1            2.0    8.0       8              3        135   \n",
       "\n",
       "   Vitamins and Minerals  Serving Size Weight  Cups per Serving  \n",
       "0                     25                  1.0              0.33  \n",
       "1                      0                  1.0             -1.00  "
      ]
     },
     "execution_count": 6,
     "metadata": {},
     "output_type": "execute_result"
    }
   ],
   "source": [
    "df.head(2)"
   ]
  },
  {
   "cell_type": "code",
   "execution_count": 7,
   "metadata": {
    "colab": {
     "base_uri": "https://localhost:8080/",
     "height": 258
    },
    "executionInfo": {
     "elapsed": 375,
     "status": "ok",
     "timestamp": 1614119416373,
     "user": {
      "displayName": "Daniel Felipe Fragua Rengifo",
      "photoUrl": "",
      "userId": "09845551813303536248"
     },
     "user_tz": 300
    },
    "id": "112iPPHiQHVF",
    "outputId": "23678e4c-ecba-4f46-95cc-ba4016072b7b"
   },
   "outputs": [
    {
     "data": {
      "text/html": [
       "<div>\n",
       "<style scoped>\n",
       "    .dataframe tbody tr th:only-of-type {\n",
       "        vertical-align: middle;\n",
       "    }\n",
       "\n",
       "    .dataframe tbody tr th {\n",
       "        vertical-align: top;\n",
       "    }\n",
       "\n",
       "    .dataframe thead th {\n",
       "        text-align: right;\n",
       "    }\n",
       "</style>\n",
       "<table border=\"1\" class=\"dataframe\">\n",
       "  <thead>\n",
       "    <tr style=\"text-align: right;\">\n",
       "      <th></th>\n",
       "      <th>Cereal Name</th>\n",
       "      <th>Manufacturer</th>\n",
       "      <th>Type</th>\n",
       "      <th>Calories</th>\n",
       "      <th>Protein (g)</th>\n",
       "      <th>Fat</th>\n",
       "      <th>Sodium</th>\n",
       "      <th>Dietary Fiber</th>\n",
       "      <th>Carbs</th>\n",
       "      <th>Sugars</th>\n",
       "      <th>Display Shelf</th>\n",
       "      <th>Potassium</th>\n",
       "      <th>Vitamins and Minerals</th>\n",
       "      <th>Serving Size Weight</th>\n",
       "      <th>Cups per Serving</th>\n",
       "    </tr>\n",
       "  </thead>\n",
       "  <tbody>\n",
       "    <tr>\n",
       "      <th>69</th>\n",
       "      <td>Triples</td>\n",
       "      <td>General Mills</td>\n",
       "      <td>C</td>\n",
       "      <td>110</td>\n",
       "      <td>2</td>\n",
       "      <td>1</td>\n",
       "      <td>250</td>\n",
       "      <td>0.0</td>\n",
       "      <td>21.0</td>\n",
       "      <td>3</td>\n",
       "      <td>3</td>\n",
       "      <td>60</td>\n",
       "      <td>25</td>\n",
       "      <td>1.0</td>\n",
       "      <td>0.75</td>\n",
       "    </tr>\n",
       "    <tr>\n",
       "      <th>70</th>\n",
       "      <td>Trix</td>\n",
       "      <td>General Mills</td>\n",
       "      <td>C</td>\n",
       "      <td>110</td>\n",
       "      <td>1</td>\n",
       "      <td>1</td>\n",
       "      <td>140</td>\n",
       "      <td>0.0</td>\n",
       "      <td>13.0</td>\n",
       "      <td>12</td>\n",
       "      <td>2</td>\n",
       "      <td>25</td>\n",
       "      <td>25</td>\n",
       "      <td>1.0</td>\n",
       "      <td>1.00</td>\n",
       "    </tr>\n",
       "    <tr>\n",
       "      <th>71</th>\n",
       "      <td>Wheat_Chex</td>\n",
       "      <td>Ralston Purina</td>\n",
       "      <td>C</td>\n",
       "      <td>100</td>\n",
       "      <td>3</td>\n",
       "      <td>1</td>\n",
       "      <td>230</td>\n",
       "      <td>3.0</td>\n",
       "      <td>17.0</td>\n",
       "      <td>3</td>\n",
       "      <td>1</td>\n",
       "      <td>115</td>\n",
       "      <td>25</td>\n",
       "      <td>1.0</td>\n",
       "      <td>0.67</td>\n",
       "    </tr>\n",
       "    <tr>\n",
       "      <th>72</th>\n",
       "      <td>Wheaties</td>\n",
       "      <td>General Mills</td>\n",
       "      <td>C</td>\n",
       "      <td>100</td>\n",
       "      <td>3</td>\n",
       "      <td>1</td>\n",
       "      <td>200</td>\n",
       "      <td>3.0</td>\n",
       "      <td>17.0</td>\n",
       "      <td>3</td>\n",
       "      <td>1</td>\n",
       "      <td>110</td>\n",
       "      <td>25</td>\n",
       "      <td>1.0</td>\n",
       "      <td>1.00</td>\n",
       "    </tr>\n",
       "    <tr>\n",
       "      <th>73</th>\n",
       "      <td>Wheaties_Honey_Gold</td>\n",
       "      <td>General Mills</td>\n",
       "      <td>C</td>\n",
       "      <td>110</td>\n",
       "      <td>2</td>\n",
       "      <td>1</td>\n",
       "      <td>200</td>\n",
       "      <td>1.0</td>\n",
       "      <td>16.0</td>\n",
       "      <td>8</td>\n",
       "      <td>1</td>\n",
       "      <td>60</td>\n",
       "      <td>25</td>\n",
       "      <td>1.0</td>\n",
       "      <td>0.75</td>\n",
       "    </tr>\n",
       "  </tbody>\n",
       "</table>\n",
       "</div>"
      ],
      "text/plain": [
       "            Cereal Name    Manufacturer Type  Calories  Protein (g)  Fat  \\\n",
       "69              Triples   General Mills    C       110            2    1   \n",
       "70                 Trix   General Mills    C       110            1    1   \n",
       "71           Wheat_Chex  Ralston Purina    C       100            3    1   \n",
       "72             Wheaties   General Mills    C       100            3    1   \n",
       "73  Wheaties_Honey_Gold   General Mills    C       110            2    1   \n",
       "\n",
       "    Sodium  Dietary Fiber  Carbs  Sugars  Display Shelf  Potassium  \\\n",
       "69     250            0.0   21.0       3              3         60   \n",
       "70     140            0.0   13.0      12              2         25   \n",
       "71     230            3.0   17.0       3              1        115   \n",
       "72     200            3.0   17.0       3              1        110   \n",
       "73     200            1.0   16.0       8              1         60   \n",
       "\n",
       "    Vitamins and Minerals  Serving Size Weight  Cups per Serving  \n",
       "69                     25                  1.0              0.75  \n",
       "70                     25                  1.0              1.00  \n",
       "71                     25                  1.0              0.67  \n",
       "72                     25                  1.0              1.00  \n",
       "73                     25                  1.0              0.75  "
      ]
     },
     "execution_count": 7,
     "metadata": {},
     "output_type": "execute_result"
    }
   ],
   "source": [
    "df.tail()"
   ]
  },
  {
   "cell_type": "code",
   "execution_count": 8,
   "metadata": {
    "colab": {
     "base_uri": "https://localhost:8080/",
     "height": 413
    },
    "executionInfo": {
     "elapsed": 481,
     "status": "ok",
     "timestamp": 1614119416916,
     "user": {
      "displayName": "Daniel Felipe Fragua Rengifo",
      "photoUrl": "",
      "userId": "09845551813303536248"
     },
     "user_tz": 300
    },
    "id": "vdtgWWzQQIfo",
    "outputId": "4f123c31-77c4-431e-e6d5-8d2cb5fbee7d"
   },
   "outputs": [
    {
     "data": {
      "text/html": [
       "<div>\n",
       "<style scoped>\n",
       "    .dataframe tbody tr th:only-of-type {\n",
       "        vertical-align: middle;\n",
       "    }\n",
       "\n",
       "    .dataframe tbody tr th {\n",
       "        vertical-align: top;\n",
       "    }\n",
       "\n",
       "    .dataframe thead th {\n",
       "        text-align: right;\n",
       "    }\n",
       "</style>\n",
       "<table border=\"1\" class=\"dataframe\">\n",
       "  <thead>\n",
       "    <tr style=\"text-align: right;\">\n",
       "      <th></th>\n",
       "      <th>Cereal Name</th>\n",
       "      <th>Manufacturer</th>\n",
       "      <th>Type</th>\n",
       "      <th>Calories</th>\n",
       "      <th>Protein (g)</th>\n",
       "      <th>Fat</th>\n",
       "      <th>Sodium</th>\n",
       "      <th>Dietary Fiber</th>\n",
       "      <th>Carbs</th>\n",
       "      <th>Sugars</th>\n",
       "      <th>Display Shelf</th>\n",
       "      <th>Potassium</th>\n",
       "      <th>Vitamins and Minerals</th>\n",
       "      <th>Serving Size Weight</th>\n",
       "      <th>Cups per Serving</th>\n",
       "    </tr>\n",
       "  </thead>\n",
       "  <tbody>\n",
       "    <tr>\n",
       "      <th>64</th>\n",
       "      <td>Special_K</td>\n",
       "      <td>Kelloggs</td>\n",
       "      <td>C</td>\n",
       "      <td>110</td>\n",
       "      <td>6</td>\n",
       "      <td>0</td>\n",
       "      <td>230</td>\n",
       "      <td>1.0</td>\n",
       "      <td>16.0</td>\n",
       "      <td>3</td>\n",
       "      <td>1</td>\n",
       "      <td>55</td>\n",
       "      <td>25</td>\n",
       "      <td>1.0</td>\n",
       "      <td>1.00</td>\n",
       "    </tr>\n",
       "    <tr>\n",
       "      <th>65</th>\n",
       "      <td>Strawberry_Fruit_Wheats</td>\n",
       "      <td>Nabisco</td>\n",
       "      <td>C</td>\n",
       "      <td>90</td>\n",
       "      <td>2</td>\n",
       "      <td>0</td>\n",
       "      <td>15</td>\n",
       "      <td>3.0</td>\n",
       "      <td>15.0</td>\n",
       "      <td>5</td>\n",
       "      <td>2</td>\n",
       "      <td>90</td>\n",
       "      <td>25</td>\n",
       "      <td>1.0</td>\n",
       "      <td>-1.00</td>\n",
       "    </tr>\n",
       "    <tr>\n",
       "      <th>66</th>\n",
       "      <td>Total_Corn_Flakes</td>\n",
       "      <td>General Mills</td>\n",
       "      <td>C</td>\n",
       "      <td>110</td>\n",
       "      <td>2</td>\n",
       "      <td>1</td>\n",
       "      <td>200</td>\n",
       "      <td>0.0</td>\n",
       "      <td>21.0</td>\n",
       "      <td>3</td>\n",
       "      <td>3</td>\n",
       "      <td>35</td>\n",
       "      <td>100</td>\n",
       "      <td>1.0</td>\n",
       "      <td>1.00</td>\n",
       "    </tr>\n",
       "    <tr>\n",
       "      <th>67</th>\n",
       "      <td>Total_Raisin_Bran</td>\n",
       "      <td>General Mills</td>\n",
       "      <td>C</td>\n",
       "      <td>140</td>\n",
       "      <td>3</td>\n",
       "      <td>1</td>\n",
       "      <td>190</td>\n",
       "      <td>4.0</td>\n",
       "      <td>15.0</td>\n",
       "      <td>14</td>\n",
       "      <td>3</td>\n",
       "      <td>230</td>\n",
       "      <td>100</td>\n",
       "      <td>1.5</td>\n",
       "      <td>1.00</td>\n",
       "    </tr>\n",
       "    <tr>\n",
       "      <th>68</th>\n",
       "      <td>Total_Whole_Grain</td>\n",
       "      <td>General Mills</td>\n",
       "      <td>C</td>\n",
       "      <td>100</td>\n",
       "      <td>3</td>\n",
       "      <td>1</td>\n",
       "      <td>200</td>\n",
       "      <td>3.0</td>\n",
       "      <td>16.0</td>\n",
       "      <td>3</td>\n",
       "      <td>3</td>\n",
       "      <td>110</td>\n",
       "      <td>100</td>\n",
       "      <td>1.0</td>\n",
       "      <td>1.00</td>\n",
       "    </tr>\n",
       "    <tr>\n",
       "      <th>69</th>\n",
       "      <td>Triples</td>\n",
       "      <td>General Mills</td>\n",
       "      <td>C</td>\n",
       "      <td>110</td>\n",
       "      <td>2</td>\n",
       "      <td>1</td>\n",
       "      <td>250</td>\n",
       "      <td>0.0</td>\n",
       "      <td>21.0</td>\n",
       "      <td>3</td>\n",
       "      <td>3</td>\n",
       "      <td>60</td>\n",
       "      <td>25</td>\n",
       "      <td>1.0</td>\n",
       "      <td>0.75</td>\n",
       "    </tr>\n",
       "    <tr>\n",
       "      <th>70</th>\n",
       "      <td>Trix</td>\n",
       "      <td>General Mills</td>\n",
       "      <td>C</td>\n",
       "      <td>110</td>\n",
       "      <td>1</td>\n",
       "      <td>1</td>\n",
       "      <td>140</td>\n",
       "      <td>0.0</td>\n",
       "      <td>13.0</td>\n",
       "      <td>12</td>\n",
       "      <td>2</td>\n",
       "      <td>25</td>\n",
       "      <td>25</td>\n",
       "      <td>1.0</td>\n",
       "      <td>1.00</td>\n",
       "    </tr>\n",
       "    <tr>\n",
       "      <th>71</th>\n",
       "      <td>Wheat_Chex</td>\n",
       "      <td>Ralston Purina</td>\n",
       "      <td>C</td>\n",
       "      <td>100</td>\n",
       "      <td>3</td>\n",
       "      <td>1</td>\n",
       "      <td>230</td>\n",
       "      <td>3.0</td>\n",
       "      <td>17.0</td>\n",
       "      <td>3</td>\n",
       "      <td>1</td>\n",
       "      <td>115</td>\n",
       "      <td>25</td>\n",
       "      <td>1.0</td>\n",
       "      <td>0.67</td>\n",
       "    </tr>\n",
       "    <tr>\n",
       "      <th>72</th>\n",
       "      <td>Wheaties</td>\n",
       "      <td>General Mills</td>\n",
       "      <td>C</td>\n",
       "      <td>100</td>\n",
       "      <td>3</td>\n",
       "      <td>1</td>\n",
       "      <td>200</td>\n",
       "      <td>3.0</td>\n",
       "      <td>17.0</td>\n",
       "      <td>3</td>\n",
       "      <td>1</td>\n",
       "      <td>110</td>\n",
       "      <td>25</td>\n",
       "      <td>1.0</td>\n",
       "      <td>1.00</td>\n",
       "    </tr>\n",
       "    <tr>\n",
       "      <th>73</th>\n",
       "      <td>Wheaties_Honey_Gold</td>\n",
       "      <td>General Mills</td>\n",
       "      <td>C</td>\n",
       "      <td>110</td>\n",
       "      <td>2</td>\n",
       "      <td>1</td>\n",
       "      <td>200</td>\n",
       "      <td>1.0</td>\n",
       "      <td>16.0</td>\n",
       "      <td>8</td>\n",
       "      <td>1</td>\n",
       "      <td>60</td>\n",
       "      <td>25</td>\n",
       "      <td>1.0</td>\n",
       "      <td>0.75</td>\n",
       "    </tr>\n",
       "  </tbody>\n",
       "</table>\n",
       "</div>"
      ],
      "text/plain": [
       "                Cereal Name    Manufacturer Type  Calories  Protein (g)  Fat  \\\n",
       "64                Special_K        Kelloggs    C       110            6    0   \n",
       "65  Strawberry_Fruit_Wheats         Nabisco    C        90            2    0   \n",
       "66        Total_Corn_Flakes   General Mills    C       110            2    1   \n",
       "67        Total_Raisin_Bran   General Mills    C       140            3    1   \n",
       "68        Total_Whole_Grain   General Mills    C       100            3    1   \n",
       "69                  Triples   General Mills    C       110            2    1   \n",
       "70                     Trix   General Mills    C       110            1    1   \n",
       "71               Wheat_Chex  Ralston Purina    C       100            3    1   \n",
       "72                 Wheaties   General Mills    C       100            3    1   \n",
       "73      Wheaties_Honey_Gold   General Mills    C       110            2    1   \n",
       "\n",
       "    Sodium  Dietary Fiber  Carbs  Sugars  Display Shelf  Potassium  \\\n",
       "64     230            1.0   16.0       3              1         55   \n",
       "65      15            3.0   15.0       5              2         90   \n",
       "66     200            0.0   21.0       3              3         35   \n",
       "67     190            4.0   15.0      14              3        230   \n",
       "68     200            3.0   16.0       3              3        110   \n",
       "69     250            0.0   21.0       3              3         60   \n",
       "70     140            0.0   13.0      12              2         25   \n",
       "71     230            3.0   17.0       3              1        115   \n",
       "72     200            3.0   17.0       3              1        110   \n",
       "73     200            1.0   16.0       8              1         60   \n",
       "\n",
       "    Vitamins and Minerals  Serving Size Weight  Cups per Serving  \n",
       "64                     25                  1.0              1.00  \n",
       "65                     25                  1.0             -1.00  \n",
       "66                    100                  1.0              1.00  \n",
       "67                    100                  1.5              1.00  \n",
       "68                    100                  1.0              1.00  \n",
       "69                     25                  1.0              0.75  \n",
       "70                     25                  1.0              1.00  \n",
       "71                     25                  1.0              0.67  \n",
       "72                     25                  1.0              1.00  \n",
       "73                     25                  1.0              0.75  "
      ]
     },
     "execution_count": 8,
     "metadata": {},
     "output_type": "execute_result"
    }
   ],
   "source": [
    "df.tail(10)"
   ]
  },
  {
   "cell_type": "markdown",
   "metadata": {
    "id": "hF0z--mcQffq"
   },
   "source": [
    "* **`[df|series].sample(n)`:** Similar a los métodos **`head`** y **`tail`**, el método **`sample(n)`** genera un subconjunto de entradas aleatorias de los datos de tamaño **n**.\n"
   ]
  },
  {
   "cell_type": "code",
   "execution_count": 9,
   "metadata": {
    "colab": {
     "base_uri": "https://localhost:8080/",
     "height": 258
    },
    "executionInfo": {
     "elapsed": 366,
     "status": "ok",
     "timestamp": 1614119425627,
     "user": {
      "displayName": "Daniel Felipe Fragua Rengifo",
      "photoUrl": "",
      "userId": "09845551813303536248"
     },
     "user_tz": 300
    },
    "id": "McS1gWcaQzyq",
    "outputId": "3be29d84-aeea-4d62-d70a-3dde06904932"
   },
   "outputs": [
    {
     "data": {
      "text/html": [
       "<div>\n",
       "<style scoped>\n",
       "    .dataframe tbody tr th:only-of-type {\n",
       "        vertical-align: middle;\n",
       "    }\n",
       "\n",
       "    .dataframe tbody tr th {\n",
       "        vertical-align: top;\n",
       "    }\n",
       "\n",
       "    .dataframe thead th {\n",
       "        text-align: right;\n",
       "    }\n",
       "</style>\n",
       "<table border=\"1\" class=\"dataframe\">\n",
       "  <thead>\n",
       "    <tr style=\"text-align: right;\">\n",
       "      <th></th>\n",
       "      <th>Cereal Name</th>\n",
       "      <th>Manufacturer</th>\n",
       "      <th>Type</th>\n",
       "      <th>Calories</th>\n",
       "      <th>Protein (g)</th>\n",
       "      <th>Fat</th>\n",
       "      <th>Sodium</th>\n",
       "      <th>Dietary Fiber</th>\n",
       "      <th>Carbs</th>\n",
       "      <th>Sugars</th>\n",
       "      <th>Display Shelf</th>\n",
       "      <th>Potassium</th>\n",
       "      <th>Vitamins and Minerals</th>\n",
       "      <th>Serving Size Weight</th>\n",
       "      <th>Cups per Serving</th>\n",
       "    </tr>\n",
       "  </thead>\n",
       "  <tbody>\n",
       "    <tr>\n",
       "      <th>19</th>\n",
       "      <td>Cracklin'_Oat_Bran</td>\n",
       "      <td>Kelloggs</td>\n",
       "      <td>C</td>\n",
       "      <td>110</td>\n",
       "      <td>3</td>\n",
       "      <td>3</td>\n",
       "      <td>140</td>\n",
       "      <td>4.0</td>\n",
       "      <td>10.0</td>\n",
       "      <td>7</td>\n",
       "      <td>3</td>\n",
       "      <td>160</td>\n",
       "      <td>25</td>\n",
       "      <td>1.00</td>\n",
       "      <td>0.50</td>\n",
       "    </tr>\n",
       "    <tr>\n",
       "      <th>48</th>\n",
       "      <td>Oatmeal_Raisin_Crisp</td>\n",
       "      <td>General Mills</td>\n",
       "      <td>C</td>\n",
       "      <td>130</td>\n",
       "      <td>3</td>\n",
       "      <td>2</td>\n",
       "      <td>170</td>\n",
       "      <td>1.5</td>\n",
       "      <td>13.5</td>\n",
       "      <td>10</td>\n",
       "      <td>3</td>\n",
       "      <td>120</td>\n",
       "      <td>25</td>\n",
       "      <td>1.25</td>\n",
       "      <td>0.50</td>\n",
       "    </tr>\n",
       "    <tr>\n",
       "      <th>26</th>\n",
       "      <td>Frosted_Mini-Wheats</td>\n",
       "      <td>Kelloggs</td>\n",
       "      <td>C</td>\n",
       "      <td>100</td>\n",
       "      <td>3</td>\n",
       "      <td>0</td>\n",
       "      <td>0</td>\n",
       "      <td>3.0</td>\n",
       "      <td>14.0</td>\n",
       "      <td>7</td>\n",
       "      <td>2</td>\n",
       "      <td>100</td>\n",
       "      <td>25</td>\n",
       "      <td>1.00</td>\n",
       "      <td>0.80</td>\n",
       "    </tr>\n",
       "    <tr>\n",
       "      <th>54</th>\n",
       "      <td>Quaker_Oatmeal</td>\n",
       "      <td>Quaker Oats</td>\n",
       "      <td>H</td>\n",
       "      <td>100</td>\n",
       "      <td>5</td>\n",
       "      <td>2</td>\n",
       "      <td>0</td>\n",
       "      <td>2.7</td>\n",
       "      <td>-1.0</td>\n",
       "      <td>-1</td>\n",
       "      <td>1</td>\n",
       "      <td>110</td>\n",
       "      <td>0</td>\n",
       "      <td>1.00</td>\n",
       "      <td>0.67</td>\n",
       "    </tr>\n",
       "    <tr>\n",
       "      <th>50</th>\n",
       "      <td>Product_19</td>\n",
       "      <td>Kelloggs</td>\n",
       "      <td>C</td>\n",
       "      <td>100</td>\n",
       "      <td>3</td>\n",
       "      <td>0</td>\n",
       "      <td>320</td>\n",
       "      <td>1.0</td>\n",
       "      <td>20.0</td>\n",
       "      <td>3</td>\n",
       "      <td>3</td>\n",
       "      <td>45</td>\n",
       "      <td>100</td>\n",
       "      <td>1.00</td>\n",
       "      <td>1.00</td>\n",
       "    </tr>\n",
       "  </tbody>\n",
       "</table>\n",
       "</div>"
      ],
      "text/plain": [
       "             Cereal Name   Manufacturer Type  Calories  Protein (g)  Fat  \\\n",
       "19    Cracklin'_Oat_Bran       Kelloggs    C       110            3    3   \n",
       "48  Oatmeal_Raisin_Crisp  General Mills    C       130            3    2   \n",
       "26   Frosted_Mini-Wheats       Kelloggs    C       100            3    0   \n",
       "54        Quaker_Oatmeal    Quaker Oats    H       100            5    2   \n",
       "50            Product_19       Kelloggs    C       100            3    0   \n",
       "\n",
       "    Sodium  Dietary Fiber  Carbs  Sugars  Display Shelf  Potassium  \\\n",
       "19     140            4.0   10.0       7              3        160   \n",
       "48     170            1.5   13.5      10              3        120   \n",
       "26       0            3.0   14.0       7              2        100   \n",
       "54       0            2.7   -1.0      -1              1        110   \n",
       "50     320            1.0   20.0       3              3         45   \n",
       "\n",
       "    Vitamins and Minerals  Serving Size Weight  Cups per Serving  \n",
       "19                     25                 1.00              0.50  \n",
       "48                     25                 1.25              0.50  \n",
       "26                     25                 1.00              0.80  \n",
       "54                      0                 1.00              0.67  \n",
       "50                    100                 1.00              1.00  "
      ]
     },
     "execution_count": 9,
     "metadata": {},
     "output_type": "execute_result"
    }
   ],
   "source": [
    "df.sample(5)\n",
    "# Si ejecutamos esta celda varias veces, cada vez obtendremos una muestra diferente"
   ]
  },
  {
   "cell_type": "code",
   "execution_count": 10,
   "metadata": {
    "colab": {
     "base_uri": "https://localhost:8080/",
     "height": 289
    },
    "executionInfo": {
     "elapsed": 360,
     "status": "ok",
     "timestamp": 1614119426713,
     "user": {
      "displayName": "Daniel Felipe Fragua Rengifo",
      "photoUrl": "",
      "userId": "09845551813303536248"
     },
     "user_tz": 300
    },
    "id": "LKsiNeh3Q2Cg",
    "outputId": "6b6e88aa-fca1-4393-d372-ba80acca3dfd"
   },
   "outputs": [
    {
     "data": {
      "text/html": [
       "<div>\n",
       "<style scoped>\n",
       "    .dataframe tbody tr th:only-of-type {\n",
       "        vertical-align: middle;\n",
       "    }\n",
       "\n",
       "    .dataframe tbody tr th {\n",
       "        vertical-align: top;\n",
       "    }\n",
       "\n",
       "    .dataframe thead th {\n",
       "        text-align: right;\n",
       "    }\n",
       "</style>\n",
       "<table border=\"1\" class=\"dataframe\">\n",
       "  <thead>\n",
       "    <tr style=\"text-align: right;\">\n",
       "      <th></th>\n",
       "      <th>Cereal Name</th>\n",
       "      <th>Manufacturer</th>\n",
       "      <th>Type</th>\n",
       "      <th>Calories</th>\n",
       "      <th>Protein (g)</th>\n",
       "      <th>Fat</th>\n",
       "      <th>Sodium</th>\n",
       "      <th>Dietary Fiber</th>\n",
       "      <th>Carbs</th>\n",
       "      <th>Sugars</th>\n",
       "      <th>Display Shelf</th>\n",
       "      <th>Potassium</th>\n",
       "      <th>Vitamins and Minerals</th>\n",
       "      <th>Serving Size Weight</th>\n",
       "      <th>Cups per Serving</th>\n",
       "    </tr>\n",
       "  </thead>\n",
       "  <tbody>\n",
       "    <tr>\n",
       "      <th>67</th>\n",
       "      <td>Total_Raisin_Bran</td>\n",
       "      <td>General Mills</td>\n",
       "      <td>C</td>\n",
       "      <td>140</td>\n",
       "      <td>3</td>\n",
       "      <td>1</td>\n",
       "      <td>190</td>\n",
       "      <td>4.0</td>\n",
       "      <td>15.0</td>\n",
       "      <td>14</td>\n",
       "      <td>3</td>\n",
       "      <td>230</td>\n",
       "      <td>100</td>\n",
       "      <td>1.50</td>\n",
       "      <td>1.0</td>\n",
       "    </tr>\n",
       "    <tr>\n",
       "      <th>53</th>\n",
       "      <td>Quaker_Oat_Squares</td>\n",
       "      <td>Quaker Oats</td>\n",
       "      <td>C</td>\n",
       "      <td>100</td>\n",
       "      <td>4</td>\n",
       "      <td>1</td>\n",
       "      <td>135</td>\n",
       "      <td>2.0</td>\n",
       "      <td>14.0</td>\n",
       "      <td>6</td>\n",
       "      <td>3</td>\n",
       "      <td>110</td>\n",
       "      <td>25</td>\n",
       "      <td>1.00</td>\n",
       "      <td>0.5</td>\n",
       "    </tr>\n",
       "    <tr>\n",
       "      <th>60</th>\n",
       "      <td>Shredded_Wheat</td>\n",
       "      <td>Nabisco</td>\n",
       "      <td>C</td>\n",
       "      <td>80</td>\n",
       "      <td>2</td>\n",
       "      <td>0</td>\n",
       "      <td>0</td>\n",
       "      <td>3.0</td>\n",
       "      <td>16.0</td>\n",
       "      <td>0</td>\n",
       "      <td>1</td>\n",
       "      <td>95</td>\n",
       "      <td>0</td>\n",
       "      <td>0.83</td>\n",
       "      <td>-1.0</td>\n",
       "    </tr>\n",
       "    <tr>\n",
       "      <th>52</th>\n",
       "      <td>Puffed_Wheat</td>\n",
       "      <td>Quaker Oats</td>\n",
       "      <td>C</td>\n",
       "      <td>50</td>\n",
       "      <td>2</td>\n",
       "      <td>0</td>\n",
       "      <td>0</td>\n",
       "      <td>1.0</td>\n",
       "      <td>10.0</td>\n",
       "      <td>0</td>\n",
       "      <td>3</td>\n",
       "      <td>50</td>\n",
       "      <td>0</td>\n",
       "      <td>0.50</td>\n",
       "      <td>-1.0</td>\n",
       "    </tr>\n",
       "    <tr>\n",
       "      <th>51</th>\n",
       "      <td>Puffed_Rice</td>\n",
       "      <td>Quaker Oats</td>\n",
       "      <td>C</td>\n",
       "      <td>50</td>\n",
       "      <td>1</td>\n",
       "      <td>0</td>\n",
       "      <td>0</td>\n",
       "      <td>0.0</td>\n",
       "      <td>13.0</td>\n",
       "      <td>0</td>\n",
       "      <td>3</td>\n",
       "      <td>15</td>\n",
       "      <td>0</td>\n",
       "      <td>0.50</td>\n",
       "      <td>1.0</td>\n",
       "    </tr>\n",
       "    <tr>\n",
       "      <th>64</th>\n",
       "      <td>Special_K</td>\n",
       "      <td>Kelloggs</td>\n",
       "      <td>C</td>\n",
       "      <td>110</td>\n",
       "      <td>6</td>\n",
       "      <td>0</td>\n",
       "      <td>230</td>\n",
       "      <td>1.0</td>\n",
       "      <td>16.0</td>\n",
       "      <td>3</td>\n",
       "      <td>1</td>\n",
       "      <td>55</td>\n",
       "      <td>25</td>\n",
       "      <td>1.00</td>\n",
       "      <td>1.0</td>\n",
       "    </tr>\n",
       "  </tbody>\n",
       "</table>\n",
       "</div>"
      ],
      "text/plain": [
       "           Cereal Name   Manufacturer Type  Calories  Protein (g)  Fat  \\\n",
       "67   Total_Raisin_Bran  General Mills    C       140            3    1   \n",
       "53  Quaker_Oat_Squares    Quaker Oats    C       100            4    1   \n",
       "60      Shredded_Wheat        Nabisco    C        80            2    0   \n",
       "52        Puffed_Wheat    Quaker Oats    C        50            2    0   \n",
       "51         Puffed_Rice    Quaker Oats    C        50            1    0   \n",
       "64           Special_K       Kelloggs    C       110            6    0   \n",
       "\n",
       "    Sodium  Dietary Fiber  Carbs  Sugars  Display Shelf  Potassium  \\\n",
       "67     190            4.0   15.0      14              3        230   \n",
       "53     135            2.0   14.0       6              3        110   \n",
       "60       0            3.0   16.0       0              1         95   \n",
       "52       0            1.0   10.0       0              3         50   \n",
       "51       0            0.0   13.0       0              3         15   \n",
       "64     230            1.0   16.0       3              1         55   \n",
       "\n",
       "    Vitamins and Minerals  Serving Size Weight  Cups per Serving  \n",
       "67                    100                 1.50               1.0  \n",
       "53                     25                 1.00               0.5  \n",
       "60                      0                 0.83              -1.0  \n",
       "52                      0                 0.50              -1.0  \n",
       "51                      0                 0.50               1.0  \n",
       "64                     25                 1.00               1.0  "
      ]
     },
     "execution_count": 10,
     "metadata": {},
     "output_type": "execute_result"
    }
   ],
   "source": [
    "# Los números aleatorios son generados con el módulo random de NumPy.\n",
    "np.random.seed(123) # Cambiar la semilla afecta también a las funciones aleatorias de pandas.\n",
    "# Si plantamos una semilla, tendremos el mismo resultado al ejecutar esta celda varias veces.\n",
    "# Esto es muy útil para garantizar la reproducibilidad de resultados en algunos experimentos.\n",
    "df.sample(6)"
   ]
  },
  {
   "cell_type": "markdown",
   "metadata": {
    "id": "jgVaWNezZn_M"
   },
   "source": [
    "* **`[df|series].nlargest(n, columns)` | `[df|series].nsmallest(n, columns)`:** Además de las funciones mencionadas anteriormente, *pandas* ofrece los métodos **`nlargest`** y **`nsmallest`**, que permite obtener un subconjunto de los datos cuyos valores en determinada columna sean los mayores y menores, respectivamente. Se tiene que definir las columnas sobre las que realizar el cálculo.\n"
   ]
  },
  {
   "cell_type": "code",
   "execution_count": 11,
   "metadata": {
    "colab": {
     "base_uri": "https://localhost:8080/",
     "height": 306
    },
    "executionInfo": {
     "elapsed": 323,
     "status": "ok",
     "timestamp": 1614119503459,
     "user": {
      "displayName": "Daniel Felipe Fragua Rengifo",
      "photoUrl": "",
      "userId": "09845551813303536248"
     },
     "user_tz": 300
    },
    "id": "9YmtMCWebCTL",
    "outputId": "e4f0010c-7746-4295-fd8f-45f038669443"
   },
   "outputs": [
    {
     "data": {
      "text/html": [
       "<div>\n",
       "<style scoped>\n",
       "    .dataframe tbody tr th:only-of-type {\n",
       "        vertical-align: middle;\n",
       "    }\n",
       "\n",
       "    .dataframe tbody tr th {\n",
       "        vertical-align: top;\n",
       "    }\n",
       "\n",
       "    .dataframe thead th {\n",
       "        text-align: right;\n",
       "    }\n",
       "</style>\n",
       "<table border=\"1\" class=\"dataframe\">\n",
       "  <thead>\n",
       "    <tr style=\"text-align: right;\">\n",
       "      <th></th>\n",
       "      <th>Cereal Name</th>\n",
       "      <th>Manufacturer</th>\n",
       "      <th>Type</th>\n",
       "      <th>Calories</th>\n",
       "      <th>Protein (g)</th>\n",
       "      <th>Fat</th>\n",
       "      <th>Sodium</th>\n",
       "      <th>Dietary Fiber</th>\n",
       "      <th>Carbs</th>\n",
       "      <th>Sugars</th>\n",
       "      <th>Display Shelf</th>\n",
       "      <th>Potassium</th>\n",
       "      <th>Vitamins and Minerals</th>\n",
       "      <th>Serving Size Weight</th>\n",
       "      <th>Cups per Serving</th>\n",
       "    </tr>\n",
       "  </thead>\n",
       "  <tbody>\n",
       "    <tr>\n",
       "      <th>43</th>\n",
       "      <td>Mueslix_Crispy_Blend</td>\n",
       "      <td>Kelloggs</td>\n",
       "      <td>C</td>\n",
       "      <td>160</td>\n",
       "      <td>3</td>\n",
       "      <td>2</td>\n",
       "      <td>150</td>\n",
       "      <td>3.0</td>\n",
       "      <td>17.0</td>\n",
       "      <td>13</td>\n",
       "      <td>3</td>\n",
       "      <td>160</td>\n",
       "      <td>25</td>\n",
       "      <td>1.50</td>\n",
       "      <td>0.67</td>\n",
       "    </tr>\n",
       "    <tr>\n",
       "      <th>38</th>\n",
       "      <td>Just_Right_Fruit_&amp;_Nut</td>\n",
       "      <td>Kelloggs</td>\n",
       "      <td>C</td>\n",
       "      <td>140</td>\n",
       "      <td>3</td>\n",
       "      <td>1</td>\n",
       "      <td>170</td>\n",
       "      <td>2.0</td>\n",
       "      <td>20.0</td>\n",
       "      <td>9</td>\n",
       "      <td>3</td>\n",
       "      <td>95</td>\n",
       "      <td>100</td>\n",
       "      <td>1.30</td>\n",
       "      <td>0.75</td>\n",
       "    </tr>\n",
       "    <tr>\n",
       "      <th>46</th>\n",
       "      <td>Nutri-Grain_Almond-Raisin</td>\n",
       "      <td>Kelloggs</td>\n",
       "      <td>C</td>\n",
       "      <td>140</td>\n",
       "      <td>3</td>\n",
       "      <td>2</td>\n",
       "      <td>220</td>\n",
       "      <td>3.0</td>\n",
       "      <td>21.0</td>\n",
       "      <td>7</td>\n",
       "      <td>3</td>\n",
       "      <td>130</td>\n",
       "      <td>25</td>\n",
       "      <td>1.33</td>\n",
       "      <td>0.67</td>\n",
       "    </tr>\n",
       "    <tr>\n",
       "      <th>67</th>\n",
       "      <td>Total_Raisin_Bran</td>\n",
       "      <td>General Mills</td>\n",
       "      <td>C</td>\n",
       "      <td>140</td>\n",
       "      <td>3</td>\n",
       "      <td>1</td>\n",
       "      <td>190</td>\n",
       "      <td>4.0</td>\n",
       "      <td>15.0</td>\n",
       "      <td>14</td>\n",
       "      <td>3</td>\n",
       "      <td>230</td>\n",
       "      <td>100</td>\n",
       "      <td>1.50</td>\n",
       "      <td>1.00</td>\n",
       "    </tr>\n",
       "    <tr>\n",
       "      <th>7</th>\n",
       "      <td>Basic_4</td>\n",
       "      <td>General Mills</td>\n",
       "      <td>C</td>\n",
       "      <td>130</td>\n",
       "      <td>3</td>\n",
       "      <td>2</td>\n",
       "      <td>210</td>\n",
       "      <td>2.0</td>\n",
       "      <td>18.0</td>\n",
       "      <td>8</td>\n",
       "      <td>3</td>\n",
       "      <td>100</td>\n",
       "      <td>25</td>\n",
       "      <td>1.33</td>\n",
       "      <td>0.75</td>\n",
       "    </tr>\n",
       "    <tr>\n",
       "      <th>48</th>\n",
       "      <td>Oatmeal_Raisin_Crisp</td>\n",
       "      <td>General Mills</td>\n",
       "      <td>C</td>\n",
       "      <td>130</td>\n",
       "      <td>3</td>\n",
       "      <td>2</td>\n",
       "      <td>170</td>\n",
       "      <td>1.5</td>\n",
       "      <td>13.5</td>\n",
       "      <td>10</td>\n",
       "      <td>3</td>\n",
       "      <td>120</td>\n",
       "      <td>25</td>\n",
       "      <td>1.25</td>\n",
       "      <td>0.50</td>\n",
       "    </tr>\n",
       "  </tbody>\n",
       "</table>\n",
       "</div>"
      ],
      "text/plain": [
       "                  Cereal Name   Manufacturer Type  Calories  Protein (g)  Fat  \\\n",
       "43       Mueslix_Crispy_Blend       Kelloggs    C       160            3    2   \n",
       "38     Just_Right_Fruit_&_Nut       Kelloggs    C       140            3    1   \n",
       "46  Nutri-Grain_Almond-Raisin       Kelloggs    C       140            3    2   \n",
       "67          Total_Raisin_Bran  General Mills    C       140            3    1   \n",
       "7                     Basic_4  General Mills    C       130            3    2   \n",
       "48       Oatmeal_Raisin_Crisp  General Mills    C       130            3    2   \n",
       "\n",
       "    Sodium  Dietary Fiber  Carbs  Sugars  Display Shelf  Potassium  \\\n",
       "43     150            3.0   17.0      13              3        160   \n",
       "38     170            2.0   20.0       9              3         95   \n",
       "46     220            3.0   21.0       7              3        130   \n",
       "67     190            4.0   15.0      14              3        230   \n",
       "7      210            2.0   18.0       8              3        100   \n",
       "48     170            1.5   13.5      10              3        120   \n",
       "\n",
       "    Vitamins and Minerals  Serving Size Weight  Cups per Serving  \n",
       "43                     25                 1.50              0.67  \n",
       "38                    100                 1.30              0.75  \n",
       "46                     25                 1.33              0.67  \n",
       "67                    100                 1.50              1.00  \n",
       "7                      25                 1.33              0.75  \n",
       "48                     25                 1.25              0.50  "
      ]
     },
     "execution_count": 11,
     "metadata": {},
     "output_type": "execute_result"
    }
   ],
   "source": [
    "df.nlargest(6, 'Calories') # Sobre una única columna."
   ]
  },
  {
   "cell_type": "code",
   "execution_count": 12,
   "metadata": {
    "colab": {
     "base_uri": "https://localhost:8080/",
     "height": 306
    },
    "executionInfo": {
     "elapsed": 378,
     "status": "ok",
     "timestamp": 1614119509731,
     "user": {
      "displayName": "Daniel Felipe Fragua Rengifo",
      "photoUrl": "",
      "userId": "09845551813303536248"
     },
     "user_tz": 300
    },
    "id": "8OyPmRKAbSN1",
    "outputId": "d0c4b20b-f134-4416-829f-f0ed89c1a4a3"
   },
   "outputs": [
    {
     "data": {
      "text/html": [
       "<div>\n",
       "<style scoped>\n",
       "    .dataframe tbody tr th:only-of-type {\n",
       "        vertical-align: middle;\n",
       "    }\n",
       "\n",
       "    .dataframe tbody tr th {\n",
       "        vertical-align: top;\n",
       "    }\n",
       "\n",
       "    .dataframe thead th {\n",
       "        text-align: right;\n",
       "    }\n",
       "</style>\n",
       "<table border=\"1\" class=\"dataframe\">\n",
       "  <thead>\n",
       "    <tr style=\"text-align: right;\">\n",
       "      <th></th>\n",
       "      <th>Cereal Name</th>\n",
       "      <th>Manufacturer</th>\n",
       "      <th>Type</th>\n",
       "      <th>Calories</th>\n",
       "      <th>Protein (g)</th>\n",
       "      <th>Fat</th>\n",
       "      <th>Sodium</th>\n",
       "      <th>Dietary Fiber</th>\n",
       "      <th>Carbs</th>\n",
       "      <th>Sugars</th>\n",
       "      <th>Display Shelf</th>\n",
       "      <th>Potassium</th>\n",
       "      <th>Vitamins and Minerals</th>\n",
       "      <th>Serving Size Weight</th>\n",
       "      <th>Cups per Serving</th>\n",
       "    </tr>\n",
       "  </thead>\n",
       "  <tbody>\n",
       "    <tr>\n",
       "      <th>51</th>\n",
       "      <td>Puffed_Rice</td>\n",
       "      <td>Quaker Oats</td>\n",
       "      <td>C</td>\n",
       "      <td>50</td>\n",
       "      <td>1</td>\n",
       "      <td>0</td>\n",
       "      <td>0</td>\n",
       "      <td>0.0</td>\n",
       "      <td>13.0</td>\n",
       "      <td>0</td>\n",
       "      <td>3</td>\n",
       "      <td>15</td>\n",
       "      <td>0</td>\n",
       "      <td>0.50</td>\n",
       "      <td>1.00</td>\n",
       "    </tr>\n",
       "    <tr>\n",
       "      <th>52</th>\n",
       "      <td>Puffed_Wheat</td>\n",
       "      <td>Quaker Oats</td>\n",
       "      <td>C</td>\n",
       "      <td>50</td>\n",
       "      <td>2</td>\n",
       "      <td>0</td>\n",
       "      <td>0</td>\n",
       "      <td>1.0</td>\n",
       "      <td>10.0</td>\n",
       "      <td>0</td>\n",
       "      <td>3</td>\n",
       "      <td>50</td>\n",
       "      <td>0</td>\n",
       "      <td>0.50</td>\n",
       "      <td>-1.00</td>\n",
       "    </tr>\n",
       "    <tr>\n",
       "      <th>3</th>\n",
       "      <td>All-Bran_with_Extra_Fiber</td>\n",
       "      <td>Kelloggs</td>\n",
       "      <td>C</td>\n",
       "      <td>50</td>\n",
       "      <td>4</td>\n",
       "      <td>0</td>\n",
       "      <td>140</td>\n",
       "      <td>14.0</td>\n",
       "      <td>8.0</td>\n",
       "      <td>0</td>\n",
       "      <td>3</td>\n",
       "      <td>330</td>\n",
       "      <td>25</td>\n",
       "      <td>1.00</td>\n",
       "      <td>0.50</td>\n",
       "    </tr>\n",
       "    <tr>\n",
       "      <th>0</th>\n",
       "      <td>100%_Bran</td>\n",
       "      <td>Nabisco</td>\n",
       "      <td>C</td>\n",
       "      <td>70</td>\n",
       "      <td>4</td>\n",
       "      <td>1</td>\n",
       "      <td>130</td>\n",
       "      <td>10.0</td>\n",
       "      <td>5.0</td>\n",
       "      <td>6</td>\n",
       "      <td>3</td>\n",
       "      <td>280</td>\n",
       "      <td>25</td>\n",
       "      <td>1.00</td>\n",
       "      <td>0.33</td>\n",
       "    </tr>\n",
       "    <tr>\n",
       "      <th>2</th>\n",
       "      <td>All-Bran</td>\n",
       "      <td>Kelloggs</td>\n",
       "      <td>C</td>\n",
       "      <td>70</td>\n",
       "      <td>4</td>\n",
       "      <td>1</td>\n",
       "      <td>260</td>\n",
       "      <td>9.0</td>\n",
       "      <td>7.0</td>\n",
       "      <td>5</td>\n",
       "      <td>3</td>\n",
       "      <td>320</td>\n",
       "      <td>25</td>\n",
       "      <td>1.00</td>\n",
       "      <td>0.33</td>\n",
       "    </tr>\n",
       "    <tr>\n",
       "      <th>60</th>\n",
       "      <td>Shredded_Wheat</td>\n",
       "      <td>Nabisco</td>\n",
       "      <td>C</td>\n",
       "      <td>80</td>\n",
       "      <td>2</td>\n",
       "      <td>0</td>\n",
       "      <td>0</td>\n",
       "      <td>3.0</td>\n",
       "      <td>16.0</td>\n",
       "      <td>0</td>\n",
       "      <td>1</td>\n",
       "      <td>95</td>\n",
       "      <td>0</td>\n",
       "      <td>0.83</td>\n",
       "      <td>-1.00</td>\n",
       "    </tr>\n",
       "  </tbody>\n",
       "</table>\n",
       "</div>"
      ],
      "text/plain": [
       "                  Cereal Name Manufacturer Type  Calories  Protein (g)  Fat  \\\n",
       "51                Puffed_Rice  Quaker Oats    C        50            1    0   \n",
       "52               Puffed_Wheat  Quaker Oats    C        50            2    0   \n",
       "3   All-Bran_with_Extra_Fiber     Kelloggs    C        50            4    0   \n",
       "0                   100%_Bran      Nabisco    C        70            4    1   \n",
       "2                    All-Bran     Kelloggs    C        70            4    1   \n",
       "60             Shredded_Wheat      Nabisco    C        80            2    0   \n",
       "\n",
       "    Sodium  Dietary Fiber  Carbs  Sugars  Display Shelf  Potassium  \\\n",
       "51       0            0.0   13.0       0              3         15   \n",
       "52       0            1.0   10.0       0              3         50   \n",
       "3      140           14.0    8.0       0              3        330   \n",
       "0      130           10.0    5.0       6              3        280   \n",
       "2      260            9.0    7.0       5              3        320   \n",
       "60       0            3.0   16.0       0              1         95   \n",
       "\n",
       "    Vitamins and Minerals  Serving Size Weight  Cups per Serving  \n",
       "51                      0                 0.50              1.00  \n",
       "52                      0                 0.50             -1.00  \n",
       "3                      25                 1.00              0.50  \n",
       "0                      25                 1.00              0.33  \n",
       "2                      25                 1.00              0.33  \n",
       "60                      0                 0.83             -1.00  "
      ]
     },
     "execution_count": 12,
     "metadata": {},
     "output_type": "execute_result"
    }
   ],
   "source": [
    "df.nsmallest(6, ['Calories', 'Sodium']) # Las columnas pueden ser una lista de índices."
   ]
  },
  {
   "cell_type": "markdown",
   "metadata": {
    "id": "I4cwNHRHVuVM"
   },
   "source": [
    "* **`[df|series].idxmax(n)` | `[df|series].idxmin(n)`:** *Pandas* hereda muchos de los métodos de *NumPy* como **`max`** y **`min`**, que se discutirán más adelante en la sección de estadística descriptiva. Los equivalentes a los métodos **`argmax`** y **`argmin`** de *NumPy* en *pandas* son los métodos **`idxmax`** y **`idxmin`** que extienden su utilidad al permitir retornar el índice de *pandas*, que no es necesariamente numérico como en *NumPy*.\n"
   ]
  },
  {
   "cell_type": "code",
   "execution_count": 13,
   "metadata": {
    "colab": {
     "base_uri": "https://localhost:8080/"
    },
    "executionInfo": {
     "elapsed": 400,
     "status": "ok",
     "timestamp": 1614119547440,
     "user": {
      "displayName": "Daniel Felipe Fragua Rengifo",
      "photoUrl": "",
      "userId": "09845551813303536248"
     },
     "user_tz": 300
    },
    "id": "6nkEiM4-YfTL",
    "outputId": "973c00ff-71d1-4659-970b-c1252a4cbaf4"
   },
   "outputs": [
    {
     "data": {
      "text/plain": [
       "43"
      ]
     },
     "execution_count": 13,
     "metadata": {},
     "output_type": "execute_result"
    }
   ],
   "source": [
    "df['Calories'].idxmax() #Posición de los máximos por columna"
   ]
  },
  {
   "cell_type": "code",
   "execution_count": 14,
   "metadata": {
    "colab": {
     "base_uri": "https://localhost:8080/"
    },
    "executionInfo": {
     "elapsed": 358,
     "status": "ok",
     "timestamp": 1614119548385,
     "user": {
      "displayName": "Daniel Felipe Fragua Rengifo",
      "photoUrl": "",
      "userId": "09845551813303536248"
     },
     "user_tz": 300
    },
    "id": "kF51tHPNZugI",
    "outputId": "4aff1c62-a0a3-4302-a006-e22b3c64cc53"
   },
   "outputs": [
    {
     "data": {
      "text/plain": [
       "54"
      ]
     },
     "execution_count": 14,
     "metadata": {},
     "output_type": "execute_result"
    }
   ],
   "source": [
    "df['Sugars'].idxmin()  #Etiqueta del índice con el valor mínimo de la serie. "
   ]
  },
  {
   "cell_type": "markdown",
   "metadata": {
    "id": "YRUASdkqir5A"
   },
   "source": [
    "* **`[df|series].unique()` | `[df|series].nunique()` | `[df|series].value_counts()`:** Cuando se trata con variables categóricas, es necesario encontrar información acerca de las categorías posibles que puede tomar una variable. Para esto *pandas* dispone de métodos para identificar un arreglo con estas categorías (**`unique`**), identificar el número total de categorías posibles (**`nunique`**) o evaluar el conteo de valores por cada categoría (**`value_counts`**).\n"
   ]
  },
  {
   "cell_type": "code",
   "execution_count": 15,
   "metadata": {
    "colab": {
     "base_uri": "https://localhost:8080/"
    },
    "executionInfo": {
     "elapsed": 362,
     "status": "ok",
     "timestamp": 1614119556933,
     "user": {
      "displayName": "Daniel Felipe Fragua Rengifo",
      "photoUrl": "",
      "userId": "09845551813303536248"
     },
     "user_tz": 300
    },
    "id": "UhQqNUQi2Fgf",
    "outputId": "fbe5fa98-42eb-44e3-9cdb-6c4045707659"
   },
   "outputs": [
    {
     "data": {
      "text/plain": [
       "array(['Nabisco', 'Quaker Oats', 'Kelloggs', 'Ralston Purina',\n",
       "       'General Mills', 'Post', 'American Home Food Products'],\n",
       "      dtype=object)"
      ]
     },
     "execution_count": 15,
     "metadata": {},
     "output_type": "execute_result"
    }
   ],
   "source": [
    "df['Manufacturer'].unique()"
   ]
  },
  {
   "cell_type": "code",
   "execution_count": 16,
   "metadata": {
    "colab": {
     "base_uri": "https://localhost:8080/"
    },
    "executionInfo": {
     "elapsed": 343,
     "status": "ok",
     "timestamp": 1614119558151,
     "user": {
      "displayName": "Daniel Felipe Fragua Rengifo",
      "photoUrl": "",
      "userId": "09845551813303536248"
     },
     "user_tz": 300
    },
    "id": "0irRws6ljNL-",
    "outputId": "ba162412-4f9e-4342-fb07-e05bbe18a7aa"
   },
   "outputs": [
    {
     "data": {
      "text/plain": [
       "7"
      ]
     },
     "execution_count": 16,
     "metadata": {},
     "output_type": "execute_result"
    }
   ],
   "source": [
    "df['Manufacturer'].nunique()"
   ]
  },
  {
   "cell_type": "code",
   "execution_count": 17,
   "metadata": {
    "colab": {
     "base_uri": "https://localhost:8080/"
    },
    "executionInfo": {
     "elapsed": 444,
     "status": "ok",
     "timestamp": 1614119558700,
     "user": {
      "displayName": "Daniel Felipe Fragua Rengifo",
      "photoUrl": "",
      "userId": "09845551813303536248"
     },
     "user_tz": 300
    },
    "id": "ZpLkawYOjuT2",
    "outputId": "c566ae37-9840-4529-c3be-3e2df0902a76"
   },
   "outputs": [
    {
     "data": {
      "text/plain": [
       "Kelloggs                       23\n",
       "General Mills                  22\n",
       "Quaker Oats                     8\n",
       "Post                            8\n",
       "Nabisco                         6\n",
       "Ralston Purina                  6\n",
       "American Home Food Products     1\n",
       "Name: Manufacturer, dtype: int64"
      ]
     },
     "execution_count": 17,
     "metadata": {},
     "output_type": "execute_result"
    }
   ],
   "source": [
    "df['Manufacturer'].value_counts()"
   ]
  },
  {
   "cell_type": "markdown",
   "metadata": {
    "id": "yK3DfhWNxfp8"
   },
   "source": [
    "## **6. Estadística descriptiva**\n",
    "---\n",
    "La **estadística descriptiva** es el área de la estadística que se encarga de organizar, presentar y describir los datos de forma cuantitativa con el propósito de facilitar su uso. Con ella se cálculan medidas a partir de los datos, que buscan representar numéricamente características generales de los datos.\n",
    "\n",
    "*Pandas* ofrece la posibilidad de calcular algunas de estas estadísticas de manera directa, a partir de objetos *DataFrame* y *Series*. A continuación presentamos las funciones principales de medidas de estadística descriptiva que abarca *pandas*.\n"
   ]
  },
  {
   "cell_type": "markdown",
   "metadata": {
    "id": "B0EMlbSlcSJU"
   },
   "source": [
    "### **6.1. Medidas de posición**\n",
    "---\n",
    "\n",
    "Las medidas de posición son medidas estadísticas que caracterizan la posición y distribución general de los datos de manera cuantitativa. Consideramos dos categorías principales: medidas de tendencia central y cuantiles."
   ]
  },
  {
   "cell_type": "markdown",
   "metadata": {
    "id": "kMfYqaDpzIhu"
   },
   "source": [
    "#### **6.1.1. Medidas de tendencia central**\n",
    "---\n",
    "\n",
    "Estas medidas representan características generales y centrales en los datos. Las medidas de tendencia central más importantes, y aquellas que son descritas en conjunto usualmente son:\n",
    "* **Media aritmética o promedio.** Valor medio del conjunto, resultado de la suma de todos los valores dividido entre la cantidad total. No está definido en variables ordinales. \n",
    "> **`.mean()`**\n",
    "* **Moda.** Elemento o elementos que más se repiten en el conjunto.\n",
    "> **`.mode()`**\n",
    "* **Mediana.** Elemento central en el conjunto ordenado. \n",
    ">**`.median()`**"
   ]
  },
  {
   "cell_type": "code",
   "execution_count": 18,
   "metadata": {
    "colab": {
     "base_uri": "https://localhost:8080/"
    },
    "executionInfo": {
     "elapsed": 361,
     "status": "ok",
     "timestamp": 1614119564442,
     "user": {
      "displayName": "Daniel Felipe Fragua Rengifo",
      "photoUrl": "",
      "userId": "09845551813303536248"
     },
     "user_tz": 300
    },
    "id": "i2RdwOpfdlsz",
    "outputId": "30ea006d-1adb-4ee0-9dba-1c11182c98f1"
   },
   "outputs": [
    {
     "name": "stderr",
     "output_type": "stream",
     "text": [
      "/tmp/ipykernel_940234/1409972006.py:1: FutureWarning: Dropping of nuisance columns in DataFrame reductions (with 'numeric_only=None') is deprecated; in a future version this will raise TypeError.  Select only valid columns before calling the reduction.\n",
      "  df.mean()   #Media aritmética\n"
     ]
    },
    {
     "data": {
      "text/plain": [
       "Calories                 105.540541\n",
       "Protein (g)                2.500000\n",
       "Fat                        0.945946\n",
       "Sodium                   160.675676\n",
       "Dietary Fiber              2.090541\n",
       "Carbs                     14.594595\n",
       "Sugars                     6.770270\n",
       "Display Shelf              2.175676\n",
       "Potassium                 92.675676\n",
       "Vitamins and Minerals     28.378378\n",
       "Serving Size Weight        1.027432\n",
       "Cups per Serving           0.629054\n",
       "dtype: float64"
      ]
     },
     "execution_count": 18,
     "metadata": {},
     "output_type": "execute_result"
    }
   ],
   "source": [
    "df.mean()   #Media aritmética"
   ]
  },
  {
   "cell_type": "code",
   "execution_count": 19,
   "metadata": {
    "colab": {
     "base_uri": "https://localhost:8080/"
    },
    "executionInfo": {
     "elapsed": 289,
     "status": "ok",
     "timestamp": 1614119564806,
     "user": {
      "displayName": "Daniel Felipe Fragua Rengifo",
      "photoUrl": "",
      "userId": "09845551813303536248"
     },
     "user_tz": 300
    },
    "id": "27Exwn4Kdqlk",
    "outputId": "a2fc4b1e-475f-497c-cbd7-dc8be90a5a9f"
   },
   "outputs": [
    {
     "name": "stderr",
     "output_type": "stream",
     "text": [
      "/tmp/ipykernel_940234/3970125888.py:1: FutureWarning: Dropping of nuisance columns in DataFrame reductions (with 'numeric_only=None') is deprecated; in a future version this will raise TypeError.  Select only valid columns before calling the reduction.\n",
      "  df.median() #Mediana\n"
     ]
    },
    {
     "data": {
      "text/plain": [
       "Calories                 110.00\n",
       "Protein (g)                2.00\n",
       "Fat                        1.00\n",
       "Sodium                   180.00\n",
       "Dietary Fiber              1.50\n",
       "Carbs                     14.00\n",
       "Sugars                     6.00\n",
       "Display Shelf              2.00\n",
       "Potassium                 90.00\n",
       "Vitamins and Minerals     25.00\n",
       "Serving Size Weight        1.00\n",
       "Cups per Serving           0.75\n",
       "dtype: float64"
      ]
     },
     "execution_count": 19,
     "metadata": {},
     "output_type": "execute_result"
    }
   ],
   "source": [
    "df.median() #Mediana"
   ]
  },
  {
   "cell_type": "code",
   "execution_count": 20,
   "metadata": {
    "colab": {
     "base_uri": "https://localhost:8080/"
    },
    "executionInfo": {
     "elapsed": 368,
     "status": "ok",
     "timestamp": 1614119566924,
     "user": {
      "displayName": "Daniel Felipe Fragua Rengifo",
      "photoUrl": "",
      "userId": "09845551813303536248"
     },
     "user_tz": 300
    },
    "id": "UlkCoDSddqH_",
    "outputId": "f41bb68d-d02d-4e4e-989a-809188110a11"
   },
   "outputs": [
    {
     "data": {
      "text/plain": [
       "0    110\n",
       "Name: Calories, dtype: int64"
      ]
     },
     "execution_count": 20,
     "metadata": {},
     "output_type": "execute_result"
    }
   ],
   "source": [
    "df['Calories'].mode()   #Moda. Pueden ser varios valores."
   ]
  },
  {
   "cell_type": "markdown",
   "metadata": {
    "id": "pyAMx51Kefji"
   },
   "source": [
    "#### **6.1.2. Cuantiles**\n",
    "---\n",
    " Los cuantiles son medidas de posición no central que permiten ilustrar la división de una distribución entre un número de grupos equidistantes de muestras. Los cuartiles, los deciles y los percentiles son los cuantiles más comunes. Otra medida importante es el rango intercuartílico, que es la diferencia entre los cuartiles $1$ y $3$, es decir, el área central que contiene el $50\\%$ de los datos.\n",
    "\n",
    "  Es posible calcularlos con la función:\n",
    "\n",
    "  > **`.quantile(q)`**\n",
    "\n",
    "  El argumento **`q`** es la posición, entre 0 y 1, del cuantil o cuantiles a calcular. "
   ]
  },
  {
   "cell_type": "code",
   "execution_count": 21,
   "metadata": {
    "colab": {
     "base_uri": "https://localhost:8080/"
    },
    "executionInfo": {
     "elapsed": 423,
     "status": "ok",
     "timestamp": 1614119573309,
     "user": {
      "displayName": "Daniel Felipe Fragua Rengifo",
      "photoUrl": "",
      "userId": "09845551813303536248"
     },
     "user_tz": 300
    },
    "id": "rhoWiGpnfjMt",
    "outputId": "9e178fb2-d024-4ded-9a42-1f615d5a14e0"
   },
   "outputs": [
    {
     "data": {
      "text/plain": [
       "90.0"
      ]
     },
     "execution_count": 21,
     "metadata": {},
     "output_type": "execute_result"
    }
   ],
   "source": [
    "df['Potassium'].quantile(0.5) #Equivale a la mediana"
   ]
  },
  {
   "cell_type": "code",
   "execution_count": 22,
   "metadata": {
    "colab": {
     "base_uri": "https://localhost:8080/"
    },
    "executionInfo": {
     "elapsed": 498,
     "status": "ok",
     "timestamp": 1614119576175,
     "user": {
      "displayName": "Daniel Felipe Fragua Rengifo",
      "photoUrl": "",
      "userId": "09845551813303536248"
     },
     "user_tz": 300
    },
    "id": "o1fXxKigf3oO",
    "outputId": "62bf7e34-7fa4-4d89-87cd-77cbeb48abc2"
   },
   "outputs": [
    {
     "data": {
      "text/plain": [
       "0.25     40.00\n",
       "0.50     90.00\n",
       "0.75    113.75\n",
       "Name: Potassium, dtype: float64"
      ]
     },
     "execution_count": 22,
     "metadata": {},
     "output_type": "execute_result"
    }
   ],
   "source": [
    "df['Potassium'].quantile([0.25, 0.5, 0.75]) # Calcular varios cuantiles en un solo llamado."
   ]
  },
  {
   "cell_type": "markdown",
   "metadata": {
    "id": "z2av3NPlcXtZ"
   },
   "source": [
    "### **6.2. Medidas de forma**\n",
    "---\n",
    "\n",
    "Otro tipo de medida es aquella que busca describir numéricamente la forma de una distribución. Si se graficara la distribución de los datos ordenados (como se verá en la siguiente sección) se podría identificar patrones en la forma de la función que describen, significando concentraciones de datos comunes o tendencias."
   ]
  },
  {
   "cell_type": "markdown",
   "metadata": {
    "id": "bvJhs4HIhVN3"
   },
   "source": [
    "#### **6.2.1. Curtosis**\n",
    "---\n",
    " La curtosis es una medida cuantitativa que representa la forma de una distribución y, en particular, de su apuntamiento y el grosor de sus picos, que refleja la concentración de los valores cerca de la media. \n",
    "Al igual que antes, es posible calcularlo directamente al llamar el siguiente método:\n",
    "\n",
    "  > **`.kurt()`** | **`.kurtosis()`**"
   ]
  },
  {
   "cell_type": "code",
   "execution_count": 23,
   "metadata": {
    "colab": {
     "base_uri": "https://localhost:8080/"
    },
    "executionInfo": {
     "elapsed": 338,
     "status": "ok",
     "timestamp": 1614119593423,
     "user": {
      "displayName": "Daniel Felipe Fragua Rengifo",
      "photoUrl": "",
      "userId": "09845551813303536248"
     },
     "user_tz": 300
    },
    "id": "HLANF3STqkA9",
    "outputId": "b1eb0bbf-df9a-4e67-db57-927cbd1104d5"
   },
   "outputs": [
    {
     "data": {
      "text/plain": [
       "3.102958320064024"
      ]
     },
     "execution_count": 23,
     "metadata": {},
     "output_type": "execute_result"
    }
   ],
   "source": [
    "df['Fat'].kurt()"
   ]
  },
  {
   "cell_type": "code",
   "execution_count": 24,
   "metadata": {
    "colab": {
     "base_uri": "https://localhost:8080/"
    },
    "executionInfo": {
     "elapsed": 274,
     "status": "ok",
     "timestamp": 1614119593596,
     "user": {
      "displayName": "Daniel Felipe Fragua Rengifo",
      "photoUrl": "",
      "userId": "09845551813303536248"
     },
     "user_tz": 300
    },
    "id": "zPfnHtbdqrcg",
    "outputId": "32dd1980-562e-4c64-bab5-0e36b31d9958"
   },
   "outputs": [
    {
     "data": {
      "text/plain": [
       "3.102958320064024"
      ]
     },
     "execution_count": 24,
     "metadata": {},
     "output_type": "execute_result"
    }
   ],
   "source": [
    "df['Fat'].kurtosis() # Las dos funciones son equivalentes."
   ]
  },
  {
   "cell_type": "markdown",
   "metadata": {
    "id": "pGjKeKoEhVXv"
   },
   "source": [
    "#### **6.2.2. Asimetría o *skewness***\n",
    "---\n",
    " La asimetría o *skewness* es la medida que representa la concentración o sesgo de los datos centrales de una distribución en una dirección particular. Está estrechamente relacionada con el orden de las medidas de tendencia central. Si los valores se concentran a la izquierda de la media se considera una asimetría **positiva**; y si se concentran a la derecha, se considera una asimetría **negativa**. En datos simétricos, el valor de la medida de asimetría es cero.\n",
    "\n",
    "  > **`.skew()`**\n"
   ]
  },
  {
   "cell_type": "code",
   "execution_count": 25,
   "metadata": {
    "colab": {
     "base_uri": "https://localhost:8080/"
    },
    "executionInfo": {
     "elapsed": 353,
     "status": "ok",
     "timestamp": 1614119613191,
     "user": {
      "displayName": "Daniel Felipe Fragua Rengifo",
      "photoUrl": "",
      "userId": "09845551813303536248"
     },
     "user_tz": 300
    },
    "id": "Z6kzUZZdrWW4",
    "outputId": "c07bc2a3-68a6-41b3-f6a9-f0659ba5958b"
   },
   "outputs": [
    {
     "data": {
      "text/plain": [
       "-0.687461119816612"
      ]
     },
     "execution_count": 25,
     "metadata": {},
     "output_type": "execute_result"
    }
   ],
   "source": [
    "#Las calorías parecen estar concentradas en valores altos, cercanos al máximo.\n",
    "\n",
    "df['Calories'].skew()"
   ]
  },
  {
   "cell_type": "markdown",
   "metadata": {
    "id": "vvHB58iGcYEX"
   },
   "source": [
    "### **6.3. Medidas de dispersión**\n",
    "---\n",
    "\n",
    "Las medidas de dispersión son medidas que reflejan la distancia media de los valores de las medidas de tendencia central como la media aritmética. Si la dispersión de los valores es alta, los valores calculados de las medidas de tendencia central no pueden caracterizar correctamente, por sí solos, a todo el conjunto."
   ]
  },
  {
   "cell_type": "markdown",
   "metadata": {
    "id": "zlKJQJrVhf--"
   },
   "source": [
    "#### **6.3.1. Desviación estándar y varianza**\n",
    "---\n",
    " La desviación estándar y la varianza son las medidas principales de dispersión. Representan la variación o distancia de los datos de una distribución respecto a su media aritmética. La varianza es el cuadrado de la desviación estándar, que es ampliamente usada en el análisis de datos junto a la media.\n",
    "\n",
    "  Se pueden calcular directamente con los siguientes métodos:\n",
    "\n",
    "  **Varianza:**\n",
    "  > **`.var()`**\n",
    "\n",
    "  **Desviación estándar:**\n",
    "  > **`.std()`**"
   ]
  },
  {
   "cell_type": "code",
   "execution_count": 26,
   "metadata": {
    "colab": {
     "base_uri": "https://localhost:8080/"
    },
    "executionInfo": {
     "elapsed": 346,
     "status": "ok",
     "timestamp": 1614119617612,
     "user": {
      "displayName": "Daniel Felipe Fragua Rengifo",
      "photoUrl": "",
      "userId": "09845551813303536248"
     },
     "user_tz": 300
    },
    "id": "lhtBZ40rsvnj",
    "outputId": "fc310041-1c2b-4b26-989b-1440d54d0ff1"
   },
   "outputs": [
    {
     "name": "stderr",
     "output_type": "stream",
     "text": [
      "/tmp/ipykernel_940234/3390915376.py:1: FutureWarning: Dropping of nuisance columns in DataFrame reductions (with 'numeric_only=None') is deprecated; in a future version this will raise TypeError.  Select only valid columns before calling the reduction.\n",
      "  df.std()\n"
     ]
    },
    {
     "data": {
      "text/plain": [
       "Calories                 18.442201\n",
       "Protein (g)               1.088546\n",
       "Fat                       0.963610\n",
       "Sodium                   85.188447\n",
       "Dietary Fiber             2.404002\n",
       "Carbs                     4.349205\n",
       "Sugars                    4.467684\n",
       "Display Shelf             0.833512\n",
       "Potassium                70.578065\n",
       "Vitamins and Minerals    22.787104\n",
       "Serving Size Weight       0.151260\n",
       "Cups per Serving          0.576843\n",
       "dtype: float64"
      ]
     },
     "execution_count": 26,
     "metadata": {},
     "output_type": "execute_result"
    }
   ],
   "source": [
    "df.std()"
   ]
  },
  {
   "cell_type": "code",
   "execution_count": 27,
   "metadata": {
    "colab": {
     "base_uri": "https://localhost:8080/"
    },
    "executionInfo": {
     "elapsed": 252,
     "status": "ok",
     "timestamp": 1614119617783,
     "user": {
      "displayName": "Daniel Felipe Fragua Rengifo",
      "photoUrl": "",
      "userId": "09845551813303536248"
     },
     "user_tz": 300
    },
    "id": "kpR3X9jhsxCC",
    "outputId": "556fa5d5-1bce-4696-86aa-9f8fc959e0d5"
   },
   "outputs": [
    {
     "name": "stderr",
     "output_type": "stream",
     "text": [
      "/tmp/ipykernel_940234/1568254755.py:1: FutureWarning: Dropping of nuisance columns in DataFrame reductions (with 'numeric_only=None') is deprecated; in a future version this will raise TypeError.  Select only valid columns before calling the reduction.\n",
      "  df.var()\n"
     ]
    },
    {
     "data": {
      "text/plain": [
       "Calories                  340.114772\n",
       "Protein (g)                 1.184932\n",
       "Fat                         0.928545\n",
       "Sodium                   7257.071455\n",
       "Dietary Fiber               5.779224\n",
       "Carbs                      18.915587\n",
       "Sugars                     19.960200\n",
       "Display Shelf               0.694743\n",
       "Potassium                4981.263236\n",
       "Vitamins and Minerals     519.252129\n",
       "Serving Size Weight         0.022880\n",
       "Cups per Serving            0.332748\n",
       "dtype: float64"
      ]
     },
     "execution_count": 27,
     "metadata": {},
     "output_type": "execute_result"
    }
   ],
   "source": [
    "df.var()"
   ]
  },
  {
   "cell_type": "code",
   "execution_count": 28,
   "metadata": {
    "colab": {
     "base_uri": "https://localhost:8080/"
    },
    "executionInfo": {
     "elapsed": 348,
     "status": "ok",
     "timestamp": 1614119631057,
     "user": {
      "displayName": "Daniel Felipe Fragua Rengifo",
      "photoUrl": "",
      "userId": "09845551813303536248"
     },
     "user_tz": 300
    },
    "id": "vyZz_3GTsyZ2",
    "outputId": "e932b673-0153-42bc-f595-ae4e787d6059"
   },
   "outputs": [
    {
     "data": {
      "text/plain": [
       "7257.071455016661"
      ]
     },
     "execution_count": 28,
     "metadata": {},
     "output_type": "execute_result"
    }
   ],
   "source": [
    "df['Sodium'].std() ** 2 # La varianza es el cuadrado de la desviación estándar."
   ]
  },
  {
   "cell_type": "markdown",
   "metadata": {
    "id": "2rcbOUZbhgOm"
   },
   "source": [
    "#### **6.3.2. Rango, máximo y mínimo**\n",
    "---\n",
    " Otra forma de representar la dispersión de un conjunto de datos es considerando sus valores extremos. Para esto, se suele calcular la diferencia entre el valor máximo y el valor mínimo. Esta medida se llama **rango** y su magnitud refleja de cierta manera la dispersión de los datos. Este rango es similar al rango intercuartílico, que es más recomendado cuando los valores extremos pueden contener valores atípicos.\n",
    "\n",
    "  El rango no se calcula directamente con un método en *pandas*, pero puede calcularse fácilmente con el mínimo y máximo de un conjunto de datos. \n",
    "\n",
    "  **Mínimo:**\n",
    "  > **`.min()`**\n",
    "\n",
    "  **Máximo:**\n",
    "  > **`.min()`**\n",
    "\n",
    "Estas medidas son heredadas de *NumPy*."
   ]
  },
  {
   "cell_type": "code",
   "execution_count": 29,
   "metadata": {
    "colab": {
     "base_uri": "https://localhost:8080/"
    },
    "executionInfo": {
     "elapsed": 392,
     "status": "ok",
     "timestamp": 1614119647060,
     "user": {
      "displayName": "Daniel Felipe Fragua Rengifo",
      "photoUrl": "",
      "userId": "09845551813303536248"
     },
     "user_tz": 300
    },
    "id": "QctNPenItrd7",
    "outputId": "699b4922-df7f-4eb5-c43f-5122018994e0"
   },
   "outputs": [
    {
     "data": {
      "text/plain": [
       "50"
      ]
     },
     "execution_count": 29,
     "metadata": {},
     "output_type": "execute_result"
    }
   ],
   "source": [
    "df['Calories'].min()"
   ]
  },
  {
   "cell_type": "code",
   "execution_count": 30,
   "metadata": {
    "colab": {
     "base_uri": "https://localhost:8080/"
    },
    "executionInfo": {
     "elapsed": 316,
     "status": "ok",
     "timestamp": 1614119647223,
     "user": {
      "displayName": "Daniel Felipe Fragua Rengifo",
      "photoUrl": "",
      "userId": "09845551813303536248"
     },
     "user_tz": 300
    },
    "id": "VeaznWsnuKMx",
    "outputId": "f788474b-5110-4128-8ffa-f16a304ae584"
   },
   "outputs": [
    {
     "data": {
      "text/plain": [
       "160"
      ]
     },
     "execution_count": 30,
     "metadata": {},
     "output_type": "execute_result"
    }
   ],
   "source": [
    "df['Calories'].max()"
   ]
  },
  {
   "cell_type": "code",
   "execution_count": 31,
   "metadata": {
    "colab": {
     "base_uri": "https://localhost:8080/"
    },
    "executionInfo": {
     "elapsed": 363,
     "status": "ok",
     "timestamp": 1614119648706,
     "user": {
      "displayName": "Daniel Felipe Fragua Rengifo",
      "photoUrl": "",
      "userId": "09845551813303536248"
     },
     "user_tz": 300
    },
    "id": "okYzyH1cuK9y",
    "outputId": "621495a1-b6a0-4705-d852-3d918261485e"
   },
   "outputs": [
    {
     "data": {
      "text/plain": [
       "110"
      ]
     },
     "execution_count": 31,
     "metadata": {},
     "output_type": "execute_result"
    }
   ],
   "source": [
    "#Rango. Calculado a partir del máximo y mínimo.\n",
    "df['Calories'].max() - df['Calories'].min() "
   ]
  },
  {
   "cell_type": "markdown",
   "metadata": {
    "id": "dweemLkbloNg"
   },
   "source": [
    "Todas las funciones descritas están disponibles tanto para objetos *DataFrame*, *Series* y *GroupBy*. Son muy útiles para realizar operaciones de agregación en objetos agrupados."
   ]
  },
  {
   "cell_type": "code",
   "execution_count": 32,
   "metadata": {
    "colab": {
     "base_uri": "https://localhost:8080/",
     "height": 385
    },
    "executionInfo": {
     "elapsed": 367,
     "status": "ok",
     "timestamp": 1614119654229,
     "user": {
      "displayName": "Daniel Felipe Fragua Rengifo",
      "photoUrl": "",
      "userId": "09845551813303536248"
     },
     "user_tz": 300
    },
    "id": "aRbh4luTmel3",
    "outputId": "a4d03239-856f-4907-cc2f-12ee70a2c514"
   },
   "outputs": [
    {
     "data": {
      "text/html": [
       "<div>\n",
       "<style scoped>\n",
       "    .dataframe tbody tr th:only-of-type {\n",
       "        vertical-align: middle;\n",
       "    }\n",
       "\n",
       "    .dataframe tbody tr th {\n",
       "        vertical-align: top;\n",
       "    }\n",
       "\n",
       "    .dataframe thead th {\n",
       "        text-align: right;\n",
       "    }\n",
       "</style>\n",
       "<table border=\"1\" class=\"dataframe\">\n",
       "  <thead>\n",
       "    <tr style=\"text-align: right;\">\n",
       "      <th></th>\n",
       "      <th>Calories</th>\n",
       "      <th>Protein (g)</th>\n",
       "      <th>Fat</th>\n",
       "      <th>Sodium</th>\n",
       "      <th>Dietary Fiber</th>\n",
       "      <th>Carbs</th>\n",
       "      <th>Sugars</th>\n",
       "      <th>Display Shelf</th>\n",
       "      <th>Potassium</th>\n",
       "      <th>Vitamins and Minerals</th>\n",
       "      <th>Serving Size Weight</th>\n",
       "      <th>Cups per Serving</th>\n",
       "    </tr>\n",
       "    <tr>\n",
       "      <th>Manufacturer</th>\n",
       "      <th></th>\n",
       "      <th></th>\n",
       "      <th></th>\n",
       "      <th></th>\n",
       "      <th></th>\n",
       "      <th></th>\n",
       "      <th></th>\n",
       "      <th></th>\n",
       "      <th></th>\n",
       "      <th></th>\n",
       "      <th></th>\n",
       "      <th></th>\n",
       "    </tr>\n",
       "  </thead>\n",
       "  <tbody>\n",
       "    <tr>\n",
       "      <th>American Home Food Products</th>\n",
       "      <td>100.000000</td>\n",
       "      <td>4.000000</td>\n",
       "      <td>1.000000</td>\n",
       "      <td>0.000000</td>\n",
       "      <td>0.000000</td>\n",
       "      <td>16.000000</td>\n",
       "      <td>3.000000</td>\n",
       "      <td>2.000000</td>\n",
       "      <td>95.000000</td>\n",
       "      <td>25.000000</td>\n",
       "      <td>1.000000</td>\n",
       "      <td>-1.000000</td>\n",
       "    </tr>\n",
       "    <tr>\n",
       "      <th>General Mills</th>\n",
       "      <td>111.363636</td>\n",
       "      <td>2.318182</td>\n",
       "      <td>1.363636</td>\n",
       "      <td>200.454545</td>\n",
       "      <td>1.272727</td>\n",
       "      <td>14.727273</td>\n",
       "      <td>7.954545</td>\n",
       "      <td>2.136364</td>\n",
       "      <td>85.227273</td>\n",
       "      <td>35.227273</td>\n",
       "      <td>1.049091</td>\n",
       "      <td>0.875000</td>\n",
       "    </tr>\n",
       "    <tr>\n",
       "      <th>Kelloggs</th>\n",
       "      <td>108.695652</td>\n",
       "      <td>2.652174</td>\n",
       "      <td>0.608696</td>\n",
       "      <td>174.782609</td>\n",
       "      <td>2.739130</td>\n",
       "      <td>15.130435</td>\n",
       "      <td>7.565217</td>\n",
       "      <td>2.347826</td>\n",
       "      <td>103.043478</td>\n",
       "      <td>34.782609</td>\n",
       "      <td>1.077826</td>\n",
       "      <td>0.622174</td>\n",
       "    </tr>\n",
       "    <tr>\n",
       "      <th>Nabisco</th>\n",
       "      <td>86.666667</td>\n",
       "      <td>2.833333</td>\n",
       "      <td>0.166667</td>\n",
       "      <td>37.500000</td>\n",
       "      <td>4.000000</td>\n",
       "      <td>16.000000</td>\n",
       "      <td>1.833333</td>\n",
       "      <td>1.666667</td>\n",
       "      <td>120.666667</td>\n",
       "      <td>8.333333</td>\n",
       "      <td>0.971667</td>\n",
       "      <td>0.111667</td>\n",
       "    </tr>\n",
       "    <tr>\n",
       "      <th>Post</th>\n",
       "      <td>107.500000</td>\n",
       "      <td>2.375000</td>\n",
       "      <td>0.750000</td>\n",
       "      <td>144.375000</td>\n",
       "      <td>2.500000</td>\n",
       "      <td>13.375000</td>\n",
       "      <td>8.625000</td>\n",
       "      <td>2.375000</td>\n",
       "      <td>103.125000</td>\n",
       "      <td>25.000000</td>\n",
       "      <td>1.041250</td>\n",
       "      <td>0.720000</td>\n",
       "    </tr>\n",
       "    <tr>\n",
       "      <th>Quaker Oats</th>\n",
       "      <td>95.000000</td>\n",
       "      <td>2.625000</td>\n",
       "      <td>1.750000</td>\n",
       "      <td>92.500000</td>\n",
       "      <td>1.337500</td>\n",
       "      <td>10.000000</td>\n",
       "      <td>5.250000</td>\n",
       "      <td>2.375000</td>\n",
       "      <td>74.375000</td>\n",
       "      <td>12.500000</td>\n",
       "      <td>0.875000</td>\n",
       "      <td>0.323750</td>\n",
       "    </tr>\n",
       "    <tr>\n",
       "      <th>Ralston Purina</th>\n",
       "      <td>103.333333</td>\n",
       "      <td>2.000000</td>\n",
       "      <td>0.666667</td>\n",
       "      <td>223.333333</td>\n",
       "      <td>1.500000</td>\n",
       "      <td>18.166667</td>\n",
       "      <td>4.500000</td>\n",
       "      <td>1.666667</td>\n",
       "      <td>62.333333</td>\n",
       "      <td>25.000000</td>\n",
       "      <td>1.000000</td>\n",
       "      <td>0.828333</td>\n",
       "    </tr>\n",
       "  </tbody>\n",
       "</table>\n",
       "</div>"
      ],
      "text/plain": [
       "                               Calories  Protein (g)       Fat      Sodium  \\\n",
       "Manufacturer                                                                 \n",
       "American Home Food Products  100.000000     4.000000  1.000000    0.000000   \n",
       "General Mills                111.363636     2.318182  1.363636  200.454545   \n",
       "Kelloggs                     108.695652     2.652174  0.608696  174.782609   \n",
       "Nabisco                       86.666667     2.833333  0.166667   37.500000   \n",
       "Post                         107.500000     2.375000  0.750000  144.375000   \n",
       "Quaker Oats                   95.000000     2.625000  1.750000   92.500000   \n",
       "Ralston Purina               103.333333     2.000000  0.666667  223.333333   \n",
       "\n",
       "                             Dietary Fiber      Carbs    Sugars  \\\n",
       "Manufacturer                                                      \n",
       "American Home Food Products       0.000000  16.000000  3.000000   \n",
       "General Mills                     1.272727  14.727273  7.954545   \n",
       "Kelloggs                          2.739130  15.130435  7.565217   \n",
       "Nabisco                           4.000000  16.000000  1.833333   \n",
       "Post                              2.500000  13.375000  8.625000   \n",
       "Quaker Oats                       1.337500  10.000000  5.250000   \n",
       "Ralston Purina                    1.500000  18.166667  4.500000   \n",
       "\n",
       "                             Display Shelf   Potassium  Vitamins and Minerals  \\\n",
       "Manufacturer                                                                    \n",
       "American Home Food Products       2.000000   95.000000              25.000000   \n",
       "General Mills                     2.136364   85.227273              35.227273   \n",
       "Kelloggs                          2.347826  103.043478              34.782609   \n",
       "Nabisco                           1.666667  120.666667               8.333333   \n",
       "Post                              2.375000  103.125000              25.000000   \n",
       "Quaker Oats                       2.375000   74.375000              12.500000   \n",
       "Ralston Purina                    1.666667   62.333333              25.000000   \n",
       "\n",
       "                             Serving Size Weight  Cups per Serving  \n",
       "Manufacturer                                                        \n",
       "American Home Food Products             1.000000         -1.000000  \n",
       "General Mills                           1.049091          0.875000  \n",
       "Kelloggs                                1.077826          0.622174  \n",
       "Nabisco                                 0.971667          0.111667  \n",
       "Post                                    1.041250          0.720000  \n",
       "Quaker Oats                             0.875000          0.323750  \n",
       "Ralston Purina                          1.000000          0.828333  "
      ]
     },
     "execution_count": 32,
     "metadata": {},
     "output_type": "execute_result"
    }
   ],
   "source": [
    "df.groupby('Manufacturer').mean()"
   ]
  },
  {
   "cell_type": "code",
   "execution_count": 33,
   "metadata": {
    "colab": {
     "base_uri": "https://localhost:8080/",
     "height": 411
    },
    "executionInfo": {
     "elapsed": 494,
     "status": "ok",
     "timestamp": 1614119655782,
     "user": {
      "displayName": "Daniel Felipe Fragua Rengifo",
      "photoUrl": "",
      "userId": "09845551813303536248"
     },
     "user_tz": 300
    },
    "id": "nUJHx2trqqJn",
    "outputId": "c2fdf824-f9c2-426a-f68c-f2cd6c4f409a"
   },
   "outputs": [
    {
     "data": {
      "text/html": [
       "<div>\n",
       "<style scoped>\n",
       "    .dataframe tbody tr th:only-of-type {\n",
       "        vertical-align: middle;\n",
       "    }\n",
       "\n",
       "    .dataframe tbody tr th {\n",
       "        vertical-align: top;\n",
       "    }\n",
       "\n",
       "    .dataframe thead tr th {\n",
       "        text-align: left;\n",
       "    }\n",
       "\n",
       "    .dataframe thead tr:last-of-type th {\n",
       "        text-align: right;\n",
       "    }\n",
       "</style>\n",
       "<table border=\"1\" class=\"dataframe\">\n",
       "  <thead>\n",
       "    <tr>\n",
       "      <th></th>\n",
       "      <th colspan=\"8\" halign=\"left\">Calories</th>\n",
       "      <th colspan=\"2\" halign=\"left\">Protein (g)</th>\n",
       "      <th>...</th>\n",
       "      <th colspan=\"2\" halign=\"left\">Serving Size Weight</th>\n",
       "      <th colspan=\"8\" halign=\"left\">Cups per Serving</th>\n",
       "    </tr>\n",
       "    <tr>\n",
       "      <th></th>\n",
       "      <th>count</th>\n",
       "      <th>mean</th>\n",
       "      <th>std</th>\n",
       "      <th>min</th>\n",
       "      <th>25%</th>\n",
       "      <th>50%</th>\n",
       "      <th>75%</th>\n",
       "      <th>max</th>\n",
       "      <th>count</th>\n",
       "      <th>mean</th>\n",
       "      <th>...</th>\n",
       "      <th>75%</th>\n",
       "      <th>max</th>\n",
       "      <th>count</th>\n",
       "      <th>mean</th>\n",
       "      <th>std</th>\n",
       "      <th>min</th>\n",
       "      <th>25%</th>\n",
       "      <th>50%</th>\n",
       "      <th>75%</th>\n",
       "      <th>max</th>\n",
       "    </tr>\n",
       "    <tr>\n",
       "      <th>Manufacturer</th>\n",
       "      <th></th>\n",
       "      <th></th>\n",
       "      <th></th>\n",
       "      <th></th>\n",
       "      <th></th>\n",
       "      <th></th>\n",
       "      <th></th>\n",
       "      <th></th>\n",
       "      <th></th>\n",
       "      <th></th>\n",
       "      <th></th>\n",
       "      <th></th>\n",
       "      <th></th>\n",
       "      <th></th>\n",
       "      <th></th>\n",
       "      <th></th>\n",
       "      <th></th>\n",
       "      <th></th>\n",
       "      <th></th>\n",
       "      <th></th>\n",
       "      <th></th>\n",
       "    </tr>\n",
       "  </thead>\n",
       "  <tbody>\n",
       "    <tr>\n",
       "      <th>American Home Food Products</th>\n",
       "      <td>1.0</td>\n",
       "      <td>100.000000</td>\n",
       "      <td>NaN</td>\n",
       "      <td>100.0</td>\n",
       "      <td>100.0</td>\n",
       "      <td>100.0</td>\n",
       "      <td>100.0</td>\n",
       "      <td>100.0</td>\n",
       "      <td>1.0</td>\n",
       "      <td>4.000000</td>\n",
       "      <td>...</td>\n",
       "      <td>1.0</td>\n",
       "      <td>1.00</td>\n",
       "      <td>1.0</td>\n",
       "      <td>-1.000000</td>\n",
       "      <td>NaN</td>\n",
       "      <td>-1.00</td>\n",
       "      <td>-1.0000</td>\n",
       "      <td>-1.000</td>\n",
       "      <td>-1.0000</td>\n",
       "      <td>-1.00</td>\n",
       "    </tr>\n",
       "    <tr>\n",
       "      <th>General Mills</th>\n",
       "      <td>22.0</td>\n",
       "      <td>111.363636</td>\n",
       "      <td>10.371873</td>\n",
       "      <td>100.0</td>\n",
       "      <td>110.0</td>\n",
       "      <td>110.0</td>\n",
       "      <td>110.0</td>\n",
       "      <td>140.0</td>\n",
       "      <td>22.0</td>\n",
       "      <td>2.318182</td>\n",
       "      <td>...</td>\n",
       "      <td>1.0</td>\n",
       "      <td>1.50</td>\n",
       "      <td>22.0</td>\n",
       "      <td>0.875000</td>\n",
       "      <td>0.240906</td>\n",
       "      <td>0.50</td>\n",
       "      <td>0.7500</td>\n",
       "      <td>0.875</td>\n",
       "      <td>1.0000</td>\n",
       "      <td>1.50</td>\n",
       "    </tr>\n",
       "    <tr>\n",
       "      <th>Kelloggs</th>\n",
       "      <td>23.0</td>\n",
       "      <td>108.695652</td>\n",
       "      <td>22.218818</td>\n",
       "      <td>50.0</td>\n",
       "      <td>100.0</td>\n",
       "      <td>110.0</td>\n",
       "      <td>115.0</td>\n",
       "      <td>160.0</td>\n",
       "      <td>23.0</td>\n",
       "      <td>2.652174</td>\n",
       "      <td>...</td>\n",
       "      <td>1.0</td>\n",
       "      <td>1.50</td>\n",
       "      <td>23.0</td>\n",
       "      <td>0.622174</td>\n",
       "      <td>0.549429</td>\n",
       "      <td>-1.00</td>\n",
       "      <td>0.5850</td>\n",
       "      <td>0.750</td>\n",
       "      <td>1.0000</td>\n",
       "      <td>1.00</td>\n",
       "    </tr>\n",
       "    <tr>\n",
       "      <th>Nabisco</th>\n",
       "      <td>6.0</td>\n",
       "      <td>86.666667</td>\n",
       "      <td>10.327956</td>\n",
       "      <td>70.0</td>\n",
       "      <td>82.5</td>\n",
       "      <td>90.0</td>\n",
       "      <td>90.0</td>\n",
       "      <td>100.0</td>\n",
       "      <td>6.0</td>\n",
       "      <td>2.833333</td>\n",
       "      <td>...</td>\n",
       "      <td>1.0</td>\n",
       "      <td>1.00</td>\n",
       "      <td>6.0</td>\n",
       "      <td>0.111667</td>\n",
       "      <td>0.886779</td>\n",
       "      <td>-1.00</td>\n",
       "      <td>-0.6675</td>\n",
       "      <td>0.500</td>\n",
       "      <td>0.6700</td>\n",
       "      <td>1.00</td>\n",
       "    </tr>\n",
       "    <tr>\n",
       "      <th>Post</th>\n",
       "      <td>8.0</td>\n",
       "      <td>107.500000</td>\n",
       "      <td>10.350983</td>\n",
       "      <td>90.0</td>\n",
       "      <td>100.0</td>\n",
       "      <td>110.0</td>\n",
       "      <td>112.5</td>\n",
       "      <td>120.0</td>\n",
       "      <td>8.0</td>\n",
       "      <td>2.375000</td>\n",
       "      <td>...</td>\n",
       "      <td>1.0</td>\n",
       "      <td>1.33</td>\n",
       "      <td>8.0</td>\n",
       "      <td>0.720000</td>\n",
       "      <td>0.338526</td>\n",
       "      <td>0.25</td>\n",
       "      <td>0.5850</td>\n",
       "      <td>0.710</td>\n",
       "      <td>0.8800</td>\n",
       "      <td>1.33</td>\n",
       "    </tr>\n",
       "    <tr>\n",
       "      <th>Quaker Oats</th>\n",
       "      <td>8.0</td>\n",
       "      <td>95.000000</td>\n",
       "      <td>29.277002</td>\n",
       "      <td>50.0</td>\n",
       "      <td>87.5</td>\n",
       "      <td>100.0</td>\n",
       "      <td>120.0</td>\n",
       "      <td>120.0</td>\n",
       "      <td>8.0</td>\n",
       "      <td>2.625000</td>\n",
       "      <td>...</td>\n",
       "      <td>1.0</td>\n",
       "      <td>1.00</td>\n",
       "      <td>8.0</td>\n",
       "      <td>0.323750</td>\n",
       "      <td>0.834248</td>\n",
       "      <td>-1.00</td>\n",
       "      <td>0.1250</td>\n",
       "      <td>0.670</td>\n",
       "      <td>0.8125</td>\n",
       "      <td>1.00</td>\n",
       "    </tr>\n",
       "    <tr>\n",
       "      <th>Ralston Purina</th>\n",
       "      <td>6.0</td>\n",
       "      <td>103.333333</td>\n",
       "      <td>8.164966</td>\n",
       "      <td>90.0</td>\n",
       "      <td>100.0</td>\n",
       "      <td>105.0</td>\n",
       "      <td>110.0</td>\n",
       "      <td>110.0</td>\n",
       "      <td>6.0</td>\n",
       "      <td>2.000000</td>\n",
       "      <td>...</td>\n",
       "      <td>1.0</td>\n",
       "      <td>1.00</td>\n",
       "      <td>6.0</td>\n",
       "      <td>0.828333</td>\n",
       "      <td>0.191250</td>\n",
       "      <td>0.67</td>\n",
       "      <td>0.6900</td>\n",
       "      <td>0.750</td>\n",
       "      <td>0.9375</td>\n",
       "      <td>1.13</td>\n",
       "    </tr>\n",
       "  </tbody>\n",
       "</table>\n",
       "<p>7 rows × 96 columns</p>\n",
       "</div>"
      ],
      "text/plain": [
       "                            Calories                                       \\\n",
       "                               count        mean        std    min    25%   \n",
       "Manufacturer                                                                \n",
       "American Home Food Products      1.0  100.000000        NaN  100.0  100.0   \n",
       "General Mills                   22.0  111.363636  10.371873  100.0  110.0   \n",
       "Kelloggs                        23.0  108.695652  22.218818   50.0  100.0   \n",
       "Nabisco                          6.0   86.666667  10.327956   70.0   82.5   \n",
       "Post                             8.0  107.500000  10.350983   90.0  100.0   \n",
       "Quaker Oats                      8.0   95.000000  29.277002   50.0   87.5   \n",
       "Ralston Purina                   6.0  103.333333   8.164966   90.0  100.0   \n",
       "\n",
       "                                                 Protein (g)            ...  \\\n",
       "                               50%    75%    max       count      mean  ...   \n",
       "Manufacturer                                                            ...   \n",
       "American Home Food Products  100.0  100.0  100.0         1.0  4.000000  ...   \n",
       "General Mills                110.0  110.0  140.0        22.0  2.318182  ...   \n",
       "Kelloggs                     110.0  115.0  160.0        23.0  2.652174  ...   \n",
       "Nabisco                       90.0   90.0  100.0         6.0  2.833333  ...   \n",
       "Post                         110.0  112.5  120.0         8.0  2.375000  ...   \n",
       "Quaker Oats                  100.0  120.0  120.0         8.0  2.625000  ...   \n",
       "Ralston Purina               105.0  110.0  110.0         6.0  2.000000  ...   \n",
       "\n",
       "                            Serving Size Weight       Cups per Serving  \\\n",
       "                                            75%   max            count   \n",
       "Manufacturer                                                             \n",
       "American Home Food Products                 1.0  1.00              1.0   \n",
       "General Mills                               1.0  1.50             22.0   \n",
       "Kelloggs                                    1.0  1.50             23.0   \n",
       "Nabisco                                     1.0  1.00              6.0   \n",
       "Post                                        1.0  1.33              8.0   \n",
       "Quaker Oats                                 1.0  1.00              8.0   \n",
       "Ralston Purina                              1.0  1.00              6.0   \n",
       "\n",
       "                                                                              \\\n",
       "                                 mean       std   min     25%    50%     75%   \n",
       "Manufacturer                                                                   \n",
       "American Home Food Products -1.000000       NaN -1.00 -1.0000 -1.000 -1.0000   \n",
       "General Mills                0.875000  0.240906  0.50  0.7500  0.875  1.0000   \n",
       "Kelloggs                     0.622174  0.549429 -1.00  0.5850  0.750  1.0000   \n",
       "Nabisco                      0.111667  0.886779 -1.00 -0.6675  0.500  0.6700   \n",
       "Post                         0.720000  0.338526  0.25  0.5850  0.710  0.8800   \n",
       "Quaker Oats                  0.323750  0.834248 -1.00  0.1250  0.670  0.8125   \n",
       "Ralston Purina               0.828333  0.191250  0.67  0.6900  0.750  0.9375   \n",
       "\n",
       "                                   \n",
       "                              max  \n",
       "Manufacturer                       \n",
       "American Home Food Products -1.00  \n",
       "General Mills                1.50  \n",
       "Kelloggs                     1.00  \n",
       "Nabisco                      1.00  \n",
       "Post                         1.33  \n",
       "Quaker Oats                  1.00  \n",
       "Ralston Purina               1.13  \n",
       "\n",
       "[7 rows x 96 columns]"
      ]
     },
     "execution_count": 33,
     "metadata": {},
     "output_type": "execute_result"
    }
   ],
   "source": [
    "df.groupby('Manufacturer').describe()"
   ]
  },
  {
   "cell_type": "code",
   "execution_count": 34,
   "metadata": {
    "colab": {
     "base_uri": "https://localhost:8080/",
     "height": 385
    },
    "executionInfo": {
     "elapsed": 333,
     "status": "ok",
     "timestamp": 1614119659242,
     "user": {
      "displayName": "Daniel Felipe Fragua Rengifo",
      "photoUrl": "",
      "userId": "09845551813303536248"
     },
     "user_tz": 300
    },
    "id": "WP3NqOMtqw47",
    "outputId": "ee704e8b-f7e0-4854-9b26-a40e0075f0be"
   },
   "outputs": [
    {
     "data": {
      "text/html": [
       "<div>\n",
       "<style scoped>\n",
       "    .dataframe tbody tr th:only-of-type {\n",
       "        vertical-align: middle;\n",
       "    }\n",
       "\n",
       "    .dataframe tbody tr th {\n",
       "        vertical-align: top;\n",
       "    }\n",
       "\n",
       "    .dataframe thead th {\n",
       "        text-align: right;\n",
       "    }\n",
       "</style>\n",
       "<table border=\"1\" class=\"dataframe\">\n",
       "  <thead>\n",
       "    <tr style=\"text-align: right;\">\n",
       "      <th></th>\n",
       "      <th>Cereal Name</th>\n",
       "      <th>Type</th>\n",
       "      <th>Calories</th>\n",
       "      <th>Protein (g)</th>\n",
       "      <th>Fat</th>\n",
       "      <th>Sodium</th>\n",
       "      <th>Dietary Fiber</th>\n",
       "      <th>Carbs</th>\n",
       "      <th>Sugars</th>\n",
       "      <th>Display Shelf</th>\n",
       "      <th>Potassium</th>\n",
       "      <th>Vitamins and Minerals</th>\n",
       "      <th>Serving Size Weight</th>\n",
       "      <th>Cups per Serving</th>\n",
       "    </tr>\n",
       "    <tr>\n",
       "      <th>Manufacturer</th>\n",
       "      <th></th>\n",
       "      <th></th>\n",
       "      <th></th>\n",
       "      <th></th>\n",
       "      <th></th>\n",
       "      <th></th>\n",
       "      <th></th>\n",
       "      <th></th>\n",
       "      <th></th>\n",
       "      <th></th>\n",
       "      <th></th>\n",
       "      <th></th>\n",
       "      <th></th>\n",
       "      <th></th>\n",
       "    </tr>\n",
       "  </thead>\n",
       "  <tbody>\n",
       "    <tr>\n",
       "      <th>American Home Food Products</th>\n",
       "      <td>1</td>\n",
       "      <td>1</td>\n",
       "      <td>1</td>\n",
       "      <td>1</td>\n",
       "      <td>1</td>\n",
       "      <td>1</td>\n",
       "      <td>1</td>\n",
       "      <td>1</td>\n",
       "      <td>1</td>\n",
       "      <td>1</td>\n",
       "      <td>1</td>\n",
       "      <td>1</td>\n",
       "      <td>1</td>\n",
       "      <td>1</td>\n",
       "    </tr>\n",
       "    <tr>\n",
       "      <th>General Mills</th>\n",
       "      <td>22</td>\n",
       "      <td>22</td>\n",
       "      <td>22</td>\n",
       "      <td>22</td>\n",
       "      <td>22</td>\n",
       "      <td>22</td>\n",
       "      <td>22</td>\n",
       "      <td>22</td>\n",
       "      <td>22</td>\n",
       "      <td>22</td>\n",
       "      <td>22</td>\n",
       "      <td>22</td>\n",
       "      <td>22</td>\n",
       "      <td>22</td>\n",
       "    </tr>\n",
       "    <tr>\n",
       "      <th>Kelloggs</th>\n",
       "      <td>23</td>\n",
       "      <td>23</td>\n",
       "      <td>23</td>\n",
       "      <td>23</td>\n",
       "      <td>23</td>\n",
       "      <td>23</td>\n",
       "      <td>23</td>\n",
       "      <td>23</td>\n",
       "      <td>23</td>\n",
       "      <td>23</td>\n",
       "      <td>23</td>\n",
       "      <td>23</td>\n",
       "      <td>23</td>\n",
       "      <td>23</td>\n",
       "    </tr>\n",
       "    <tr>\n",
       "      <th>Nabisco</th>\n",
       "      <td>6</td>\n",
       "      <td>6</td>\n",
       "      <td>6</td>\n",
       "      <td>6</td>\n",
       "      <td>6</td>\n",
       "      <td>6</td>\n",
       "      <td>6</td>\n",
       "      <td>6</td>\n",
       "      <td>6</td>\n",
       "      <td>6</td>\n",
       "      <td>6</td>\n",
       "      <td>6</td>\n",
       "      <td>6</td>\n",
       "      <td>6</td>\n",
       "    </tr>\n",
       "    <tr>\n",
       "      <th>Post</th>\n",
       "      <td>8</td>\n",
       "      <td>8</td>\n",
       "      <td>8</td>\n",
       "      <td>8</td>\n",
       "      <td>8</td>\n",
       "      <td>8</td>\n",
       "      <td>8</td>\n",
       "      <td>8</td>\n",
       "      <td>8</td>\n",
       "      <td>8</td>\n",
       "      <td>8</td>\n",
       "      <td>8</td>\n",
       "      <td>8</td>\n",
       "      <td>8</td>\n",
       "    </tr>\n",
       "    <tr>\n",
       "      <th>Quaker Oats</th>\n",
       "      <td>8</td>\n",
       "      <td>8</td>\n",
       "      <td>8</td>\n",
       "      <td>8</td>\n",
       "      <td>8</td>\n",
       "      <td>8</td>\n",
       "      <td>8</td>\n",
       "      <td>8</td>\n",
       "      <td>8</td>\n",
       "      <td>8</td>\n",
       "      <td>8</td>\n",
       "      <td>8</td>\n",
       "      <td>8</td>\n",
       "      <td>8</td>\n",
       "    </tr>\n",
       "    <tr>\n",
       "      <th>Ralston Purina</th>\n",
       "      <td>6</td>\n",
       "      <td>6</td>\n",
       "      <td>6</td>\n",
       "      <td>6</td>\n",
       "      <td>6</td>\n",
       "      <td>6</td>\n",
       "      <td>6</td>\n",
       "      <td>6</td>\n",
       "      <td>6</td>\n",
       "      <td>6</td>\n",
       "      <td>6</td>\n",
       "      <td>6</td>\n",
       "      <td>6</td>\n",
       "      <td>6</td>\n",
       "    </tr>\n",
       "  </tbody>\n",
       "</table>\n",
       "</div>"
      ],
      "text/plain": [
       "                             Cereal Name  Type  Calories  Protein (g)  Fat  \\\n",
       "Manufacturer                                                                 \n",
       "American Home Food Products            1     1         1            1    1   \n",
       "General Mills                         22    22        22           22   22   \n",
       "Kelloggs                              23    23        23           23   23   \n",
       "Nabisco                                6     6         6            6    6   \n",
       "Post                                   8     8         8            8    8   \n",
       "Quaker Oats                            8     8         8            8    8   \n",
       "Ralston Purina                         6     6         6            6    6   \n",
       "\n",
       "                             Sodium  Dietary Fiber  Carbs  Sugars  \\\n",
       "Manufacturer                                                        \n",
       "American Home Food Products       1              1      1       1   \n",
       "General Mills                    22             22     22      22   \n",
       "Kelloggs                         23             23     23      23   \n",
       "Nabisco                           6              6      6       6   \n",
       "Post                              8              8      8       8   \n",
       "Quaker Oats                       8              8      8       8   \n",
       "Ralston Purina                    6              6      6       6   \n",
       "\n",
       "                             Display Shelf  Potassium  Vitamins and Minerals  \\\n",
       "Manufacturer                                                                   \n",
       "American Home Food Products              1          1                      1   \n",
       "General Mills                           22         22                     22   \n",
       "Kelloggs                                23         23                     23   \n",
       "Nabisco                                  6          6                      6   \n",
       "Post                                     8          8                      8   \n",
       "Quaker Oats                              8          8                      8   \n",
       "Ralston Purina                           6          6                      6   \n",
       "\n",
       "                             Serving Size Weight  Cups per Serving  \n",
       "Manufacturer                                                        \n",
       "American Home Food Products                    1                 1  \n",
       "General Mills                                 22                22  \n",
       "Kelloggs                                      23                23  \n",
       "Nabisco                                        6                 6  \n",
       "Post                                           8                 8  \n",
       "Quaker Oats                                    8                 8  \n",
       "Ralston Purina                                 6                 6  "
      ]
     },
     "execution_count": 34,
     "metadata": {},
     "output_type": "execute_result"
    }
   ],
   "source": [
    "df.groupby('Manufacturer').count() #Este argumento permite contar el número de apariciones de cada valor, similar a value_counts."
   ]
  },
  {
   "cell_type": "code",
   "execution_count": 35,
   "metadata": {
    "colab": {
     "base_uri": "https://localhost:8080/",
     "height": 385
    },
    "executionInfo": {
     "elapsed": 381,
     "status": "ok",
     "timestamp": 1614119715727,
     "user": {
      "displayName": "Daniel Felipe Fragua Rengifo",
      "photoUrl": "",
      "userId": "09845551813303536248"
     },
     "user_tz": 300
    },
    "id": "bymkeOJPmi-t",
    "outputId": "ad290a52-4330-4d64-8258-307419e98f02"
   },
   "outputs": [
    {
     "data": {
      "text/html": [
       "<div>\n",
       "<style scoped>\n",
       "    .dataframe tbody tr th:only-of-type {\n",
       "        vertical-align: middle;\n",
       "    }\n",
       "\n",
       "    .dataframe tbody tr th {\n",
       "        vertical-align: top;\n",
       "    }\n",
       "\n",
       "    .dataframe thead th {\n",
       "        text-align: right;\n",
       "    }\n",
       "</style>\n",
       "<table border=\"1\" class=\"dataframe\">\n",
       "  <thead>\n",
       "    <tr style=\"text-align: right;\">\n",
       "      <th></th>\n",
       "      <th>Calories</th>\n",
       "      <th>Protein (g)</th>\n",
       "      <th>Fat</th>\n",
       "      <th>Sodium</th>\n",
       "      <th>Dietary Fiber</th>\n",
       "      <th>Carbs</th>\n",
       "      <th>Sugars</th>\n",
       "      <th>Display Shelf</th>\n",
       "      <th>Potassium</th>\n",
       "      <th>Vitamins and Minerals</th>\n",
       "      <th>Serving Size Weight</th>\n",
       "      <th>Cups per Serving</th>\n",
       "    </tr>\n",
       "    <tr>\n",
       "      <th>Manufacturer</th>\n",
       "      <th></th>\n",
       "      <th></th>\n",
       "      <th></th>\n",
       "      <th></th>\n",
       "      <th></th>\n",
       "      <th></th>\n",
       "      <th></th>\n",
       "      <th></th>\n",
       "      <th></th>\n",
       "      <th></th>\n",
       "      <th></th>\n",
       "      <th></th>\n",
       "    </tr>\n",
       "  </thead>\n",
       "  <tbody>\n",
       "    <tr>\n",
       "      <th>American Home Food Products</th>\n",
       "      <td>NaN</td>\n",
       "      <td>NaN</td>\n",
       "      <td>NaN</td>\n",
       "      <td>NaN</td>\n",
       "      <td>NaN</td>\n",
       "      <td>NaN</td>\n",
       "      <td>NaN</td>\n",
       "      <td>NaN</td>\n",
       "      <td>NaN</td>\n",
       "      <td>NaN</td>\n",
       "      <td>NaN</td>\n",
       "      <td>NaN</td>\n",
       "    </tr>\n",
       "    <tr>\n",
       "      <th>General Mills</th>\n",
       "      <td>10.371873</td>\n",
       "      <td>1.129111</td>\n",
       "      <td>0.581087</td>\n",
       "      <td>44.021345</td>\n",
       "      <td>1.241421</td>\n",
       "      <td>3.347804</td>\n",
       "      <td>3.872704</td>\n",
       "      <td>0.833550</td>\n",
       "      <td>45.682060</td>\n",
       "      <td>26.343756</td>\n",
       "      <td>0.132446</td>\n",
       "      <td>0.240906</td>\n",
       "    </tr>\n",
       "    <tr>\n",
       "      <th>Kelloggs</th>\n",
       "      <td>22.218818</td>\n",
       "      <td>1.070628</td>\n",
       "      <td>0.838783</td>\n",
       "      <td>84.132988</td>\n",
       "      <td>3.193991</td>\n",
       "      <td>4.465060</td>\n",
       "      <td>4.500768</td>\n",
       "      <td>0.775107</td>\n",
       "      <td>91.982448</td>\n",
       "      <td>25.826267</td>\n",
       "      <td>0.154830</td>\n",
       "      <td>0.549429</td>\n",
       "    </tr>\n",
       "    <tr>\n",
       "      <th>Nabisco</th>\n",
       "      <td>10.327956</td>\n",
       "      <td>0.752773</td>\n",
       "      <td>0.408248</td>\n",
       "      <td>54.931776</td>\n",
       "      <td>3.098387</td>\n",
       "      <td>5.865151</td>\n",
       "      <td>2.857738</td>\n",
       "      <td>0.816497</td>\n",
       "      <td>91.829552</td>\n",
       "      <td>12.909944</td>\n",
       "      <td>0.069402</td>\n",
       "      <td>0.886779</td>\n",
       "    </tr>\n",
       "    <tr>\n",
       "      <th>Post</th>\n",
       "      <td>10.350983</td>\n",
       "      <td>0.916125</td>\n",
       "      <td>1.035098</td>\n",
       "      <td>58.702488</td>\n",
       "      <td>2.329929</td>\n",
       "      <td>1.995531</td>\n",
       "      <td>4.867898</td>\n",
       "      <td>0.916125</td>\n",
       "      <td>82.285978</td>\n",
       "      <td>0.000000</td>\n",
       "      <td>0.116673</td>\n",
       "      <td>0.338526</td>\n",
       "    </tr>\n",
       "    <tr>\n",
       "      <th>Quaker Oats</th>\n",
       "      <td>29.277002</td>\n",
       "      <td>1.597990</td>\n",
       "      <td>1.581139</td>\n",
       "      <td>99.498744</td>\n",
       "      <td>0.998481</td>\n",
       "      <td>4.810702</td>\n",
       "      <td>5.092011</td>\n",
       "      <td>0.744024</td>\n",
       "      <td>43.378525</td>\n",
       "      <td>13.363062</td>\n",
       "      <td>0.231455</td>\n",
       "      <td>0.834248</td>\n",
       "    </tr>\n",
       "    <tr>\n",
       "      <th>Ralston Purina</th>\n",
       "      <td>8.164966</td>\n",
       "      <td>0.632456</td>\n",
       "      <td>0.816497</td>\n",
       "      <td>33.862467</td>\n",
       "      <td>1.643168</td>\n",
       "      <td>3.656045</td>\n",
       "      <td>2.258318</td>\n",
       "      <td>1.032796</td>\n",
       "      <td>51.890911</td>\n",
       "      <td>0.000000</td>\n",
       "      <td>0.000000</td>\n",
       "      <td>0.191250</td>\n",
       "    </tr>\n",
       "  </tbody>\n",
       "</table>\n",
       "</div>"
      ],
      "text/plain": [
       "                              Calories  Protein (g)       Fat     Sodium  \\\n",
       "Manufacturer                                                               \n",
       "American Home Food Products        NaN          NaN       NaN        NaN   \n",
       "General Mills                10.371873     1.129111  0.581087  44.021345   \n",
       "Kelloggs                     22.218818     1.070628  0.838783  84.132988   \n",
       "Nabisco                      10.327956     0.752773  0.408248  54.931776   \n",
       "Post                         10.350983     0.916125  1.035098  58.702488   \n",
       "Quaker Oats                  29.277002     1.597990  1.581139  99.498744   \n",
       "Ralston Purina                8.164966     0.632456  0.816497  33.862467   \n",
       "\n",
       "                             Dietary Fiber     Carbs    Sugars  Display Shelf  \\\n",
       "Manufacturer                                                                    \n",
       "American Home Food Products            NaN       NaN       NaN            NaN   \n",
       "General Mills                     1.241421  3.347804  3.872704       0.833550   \n",
       "Kelloggs                          3.193991  4.465060  4.500768       0.775107   \n",
       "Nabisco                           3.098387  5.865151  2.857738       0.816497   \n",
       "Post                              2.329929  1.995531  4.867898       0.916125   \n",
       "Quaker Oats                       0.998481  4.810702  5.092011       0.744024   \n",
       "Ralston Purina                    1.643168  3.656045  2.258318       1.032796   \n",
       "\n",
       "                             Potassium  Vitamins and Minerals  \\\n",
       "Manufacturer                                                    \n",
       "American Home Food Products        NaN                    NaN   \n",
       "General Mills                45.682060              26.343756   \n",
       "Kelloggs                     91.982448              25.826267   \n",
       "Nabisco                      91.829552              12.909944   \n",
       "Post                         82.285978               0.000000   \n",
       "Quaker Oats                  43.378525              13.363062   \n",
       "Ralston Purina               51.890911               0.000000   \n",
       "\n",
       "                             Serving Size Weight  Cups per Serving  \n",
       "Manufacturer                                                        \n",
       "American Home Food Products                  NaN               NaN  \n",
       "General Mills                           0.132446          0.240906  \n",
       "Kelloggs                                0.154830          0.549429  \n",
       "Nabisco                                 0.069402          0.886779  \n",
       "Post                                    0.116673          0.338526  \n",
       "Quaker Oats                             0.231455          0.834248  \n",
       "Ralston Purina                          0.000000          0.191250  "
      ]
     },
     "execution_count": 35,
     "metadata": {},
     "output_type": "execute_result"
    }
   ],
   "source": [
    "#La desviación estándar no está definida si hay menos de dos elementos en el conjunto.\n",
    "df.groupby('Manufacturer').std()"
   ]
  },
  {
   "cell_type": "markdown",
   "metadata": {
    "id": "OhMgiLCmcfAd"
   },
   "source": [
    "### **6.4. Medidas multivariadas**\n",
    "---\n",
    "\n",
    "Las medidas descritas hasta el momento solo son calculadas independientemente en cada variable. Es así, que al evaluar estos métodos en objetos *DataFrame* se genera una serie con el valor calculado por cada columna o variable.\n",
    "\n",
    "Para sacar un mejor provecho de las capacidades computacionales de *pandas* se consideran métodos y herramientas matemáticas para calcular medidas que caractericen la relación entre dos o más variables, representadas como las columnas de un *DataFrame*."
   ]
  },
  {
   "cell_type": "markdown",
   "metadata": {
    "id": "7j8idz_ThqKU"
   },
   "source": [
    "#### **6.4.1. Correlación y covarianza**\n",
    "---\n",
    "\n",
    "Una manera de caracterizar numéricamente relaciones entre los datos es mediante las medidas multivariadas de la **covarianza** y de los **coeficientes de correlación**. Estas, representan la dependencia y variación conjunta de dos variables numéricas continuas. Son importantes para identificar relaciones ocultas entre características de los datos de interés.\n",
    "\n",
    "  Se calculan con los siguientes métodos:\n",
    "\n",
    "  **Covarianza:**\n",
    "\n",
    "  > **`.cov()`**\n",
    "\n",
    "  **Coeficientes de correlación**\n",
    "\n",
    "  > **`.corr(method)`**\n",
    "\n",
    "  El argumento **`method`** define el tipo de coeficiente que se desea calcular.\n",
    "\n",
    "> **Nota:** Los coeficientes de correlación se explorarán en detalle en la **Unidad 3**."
   ]
  },
  {
   "cell_type": "code",
   "execution_count": 36,
   "metadata": {
    "colab": {
     "base_uri": "https://localhost:8080/",
     "height": 594
    },
    "executionInfo": {
     "elapsed": 374,
     "status": "ok",
     "timestamp": 1614119734843,
     "user": {
      "displayName": "Daniel Felipe Fragua Rengifo",
      "photoUrl": "",
      "userId": "09845551813303536248"
     },
     "user_tz": 300
    },
    "id": "BT5lDLi6xNK7",
    "outputId": "49c10b8d-c4d8-47a9-bd5b-166c900b2f82"
   },
   "outputs": [
    {
     "data": {
      "text/html": [
       "<div>\n",
       "<style scoped>\n",
       "    .dataframe tbody tr th:only-of-type {\n",
       "        vertical-align: middle;\n",
       "    }\n",
       "\n",
       "    .dataframe tbody tr th {\n",
       "        vertical-align: top;\n",
       "    }\n",
       "\n",
       "    .dataframe thead th {\n",
       "        text-align: right;\n",
       "    }\n",
       "</style>\n",
       "<table border=\"1\" class=\"dataframe\">\n",
       "  <thead>\n",
       "    <tr style=\"text-align: right;\">\n",
       "      <th></th>\n",
       "      <th>Calories</th>\n",
       "      <th>Protein (g)</th>\n",
       "      <th>Fat</th>\n",
       "      <th>Sodium</th>\n",
       "      <th>Dietary Fiber</th>\n",
       "      <th>Carbs</th>\n",
       "      <th>Sugars</th>\n",
       "      <th>Display Shelf</th>\n",
       "      <th>Potassium</th>\n",
       "      <th>Vitamins and Minerals</th>\n",
       "      <th>Serving Size Weight</th>\n",
       "      <th>Cups per Serving</th>\n",
       "    </tr>\n",
       "  </thead>\n",
       "  <tbody>\n",
       "    <tr>\n",
       "      <th>Calories</th>\n",
       "      <td>340.114772</td>\n",
       "      <td>-1.438356</td>\n",
       "      <td>7.563865</td>\n",
       "      <td>556.479082</td>\n",
       "      <td>-15.782488</td>\n",
       "      <td>20.564606</td>\n",
       "      <td>45.125879</td>\n",
       "      <td>0.520178</td>\n",
       "      <td>-206.945576</td>\n",
       "      <td>124.861163</td>\n",
       "      <td>2.117160</td>\n",
       "      <td>2.929970</td>\n",
       "    </tr>\n",
       "    <tr>\n",
       "      <th>Protein (g)</th>\n",
       "      <td>-1.438356</td>\n",
       "      <td>1.184932</td>\n",
       "      <td>0.150685</td>\n",
       "      <td>-3.698630</td>\n",
       "      <td>1.304795</td>\n",
       "      <td>-0.678082</td>\n",
       "      <td>-1.856164</td>\n",
       "      <td>0.089041</td>\n",
       "      <td>40.890411</td>\n",
       "      <td>0.342466</td>\n",
       "      <td>0.036781</td>\n",
       "      <td>-0.084863</td>\n",
       "    </tr>\n",
       "    <tr>\n",
       "      <th>Fat</th>\n",
       "      <td>7.563865</td>\n",
       "      <td>0.150685</td>\n",
       "      <td>0.928545</td>\n",
       "      <td>1.612366</td>\n",
       "      <td>-0.047094</td>\n",
       "      <td>-1.467419</td>\n",
       "      <td>0.987412</td>\n",
       "      <td>0.174010</td>\n",
       "      <td>8.776749</td>\n",
       "      <td>-0.499815</td>\n",
       "      <td>0.032325</td>\n",
       "      <td>-0.061148</td>\n",
       "    </tr>\n",
       "    <tr>\n",
       "      <th>Sodium</th>\n",
       "      <td>556.479082</td>\n",
       "      <td>-3.698630</td>\n",
       "      <td>1.612366</td>\n",
       "      <td>7257.071455</td>\n",
       "      <td>-13.788041</td>\n",
       "      <td>134.387264</td>\n",
       "      <td>43.650500</td>\n",
       "      <td>-4.229915</td>\n",
       "      <td>-124.572381</td>\n",
       "      <td>701.453165</td>\n",
       "      <td>4.023676</td>\n",
       "      <td>23.293799</td>\n",
       "    </tr>\n",
       "    <tr>\n",
       "      <th>Dietary Fiber</th>\n",
       "      <td>-15.782488</td>\n",
       "      <td>1.304795</td>\n",
       "      <td>-0.047094</td>\n",
       "      <td>-13.788041</td>\n",
       "      <td>5.779224</td>\n",
       "      <td>-3.712107</td>\n",
       "      <td>-1.781655</td>\n",
       "      <td>0.563328</td>\n",
       "      <td>153.809219</td>\n",
       "      <td>-1.577194</td>\n",
       "      <td>0.084263</td>\n",
       "      <td>-0.249941</td>\n",
       "    </tr>\n",
       "    <tr>\n",
       "      <th>Carbs</th>\n",
       "      <td>20.564606</td>\n",
       "      <td>-0.678082</td>\n",
       "      <td>-1.467419</td>\n",
       "      <td>134.387264</td>\n",
       "      <td>-3.712107</td>\n",
       "      <td>18.915587</td>\n",
       "      <td>-6.614957</td>\n",
       "      <td>-0.379859</td>\n",
       "      <td>-110.201777</td>\n",
       "      <td>25.703443</td>\n",
       "      <td>0.099561</td>\n",
       "      <td>0.424269</td>\n",
       "    </tr>\n",
       "    <tr>\n",
       "      <th>Sugars</th>\n",
       "      <td>45.125879</td>\n",
       "      <td>-1.856164</td>\n",
       "      <td>0.987412</td>\n",
       "      <td>43.650500</td>\n",
       "      <td>-1.781655</td>\n",
       "      <td>-6.614957</td>\n",
       "      <td>19.960200</td>\n",
       "      <td>0.260089</td>\n",
       "      <td>-6.007034</td>\n",
       "      <td>13.457979</td>\n",
       "      <td>0.307484</td>\n",
       "      <td>0.591971</td>\n",
       "    </tr>\n",
       "    <tr>\n",
       "      <th>Display Shelf</th>\n",
       "      <td>0.520178</td>\n",
       "      <td>0.089041</td>\n",
       "      <td>0.174010</td>\n",
       "      <td>-4.229915</td>\n",
       "      <td>0.563328</td>\n",
       "      <td>-0.379859</td>\n",
       "      <td>0.260089</td>\n",
       "      <td>0.694743</td>\n",
       "      <td>19.441318</td>\n",
       "      <td>5.905220</td>\n",
       "      <td>0.023060</td>\n",
       "      <td>-0.118462</td>\n",
       "    </tr>\n",
       "    <tr>\n",
       "      <th>Potassium</th>\n",
       "      <td>-206.945576</td>\n",
       "      <td>40.890411</td>\n",
       "      <td>8.776749</td>\n",
       "      <td>-124.572381</td>\n",
       "      <td>153.809219</td>\n",
       "      <td>-110.201777</td>\n",
       "      <td>-6.007034</td>\n",
       "      <td>19.441318</td>\n",
       "      <td>4981.263236</td>\n",
       "      <td>45.973713</td>\n",
       "      <td>4.387923</td>\n",
       "      <td>-7.785653</td>\n",
       "    </tr>\n",
       "    <tr>\n",
       "      <th>Vitamins and Minerals</th>\n",
       "      <td>124.861163</td>\n",
       "      <td>0.342466</td>\n",
       "      <td>-0.499815</td>\n",
       "      <td>701.453165</td>\n",
       "      <td>-1.577194</td>\n",
       "      <td>25.703443</td>\n",
       "      <td>13.457979</td>\n",
       "      <td>5.905220</td>\n",
       "      <td>45.973713</td>\n",
       "      <td>519.252129</td>\n",
       "      <td>1.128656</td>\n",
       "      <td>1.352555</td>\n",
       "    </tr>\n",
       "    <tr>\n",
       "      <th>Serving Size Weight</th>\n",
       "      <td>2.117160</td>\n",
       "      <td>0.036781</td>\n",
       "      <td>0.032325</td>\n",
       "      <td>4.023676</td>\n",
       "      <td>0.084263</td>\n",
       "      <td>0.099561</td>\n",
       "      <td>0.307484</td>\n",
       "      <td>0.023060</td>\n",
       "      <td>4.387923</td>\n",
       "      <td>1.128656</td>\n",
       "      <td>0.022880</td>\n",
       "      <td>0.016936</td>\n",
       "    </tr>\n",
       "    <tr>\n",
       "      <th>Cups per Serving</th>\n",
       "      <td>2.929970</td>\n",
       "      <td>-0.084863</td>\n",
       "      <td>-0.061148</td>\n",
       "      <td>23.293799</td>\n",
       "      <td>-0.249941</td>\n",
       "      <td>0.424269</td>\n",
       "      <td>0.591971</td>\n",
       "      <td>-0.118462</td>\n",
       "      <td>-7.785653</td>\n",
       "      <td>1.352555</td>\n",
       "      <td>0.016936</td>\n",
       "      <td>0.332748</td>\n",
       "    </tr>\n",
       "  </tbody>\n",
       "</table>\n",
       "</div>"
      ],
      "text/plain": [
       "                         Calories  Protein (g)       Fat       Sodium  \\\n",
       "Calories               340.114772    -1.438356  7.563865   556.479082   \n",
       "Protein (g)             -1.438356     1.184932  0.150685    -3.698630   \n",
       "Fat                      7.563865     0.150685  0.928545     1.612366   \n",
       "Sodium                 556.479082    -3.698630  1.612366  7257.071455   \n",
       "Dietary Fiber          -15.782488     1.304795 -0.047094   -13.788041   \n",
       "Carbs                   20.564606    -0.678082 -1.467419   134.387264   \n",
       "Sugars                  45.125879    -1.856164  0.987412    43.650500   \n",
       "Display Shelf            0.520178     0.089041  0.174010    -4.229915   \n",
       "Potassium             -206.945576    40.890411  8.776749  -124.572381   \n",
       "Vitamins and Minerals  124.861163     0.342466 -0.499815   701.453165   \n",
       "Serving Size Weight      2.117160     0.036781  0.032325     4.023676   \n",
       "Cups per Serving         2.929970    -0.084863 -0.061148    23.293799   \n",
       "\n",
       "                       Dietary Fiber       Carbs     Sugars  Display Shelf  \\\n",
       "Calories                  -15.782488   20.564606  45.125879       0.520178   \n",
       "Protein (g)                 1.304795   -0.678082  -1.856164       0.089041   \n",
       "Fat                        -0.047094   -1.467419   0.987412       0.174010   \n",
       "Sodium                    -13.788041  134.387264  43.650500      -4.229915   \n",
       "Dietary Fiber               5.779224   -3.712107  -1.781655       0.563328   \n",
       "Carbs                      -3.712107   18.915587  -6.614957      -0.379859   \n",
       "Sugars                     -1.781655   -6.614957  19.960200       0.260089   \n",
       "Display Shelf               0.563328   -0.379859   0.260089       0.694743   \n",
       "Potassium                 153.809219 -110.201777  -6.007034      19.441318   \n",
       "Vitamins and Minerals      -1.577194   25.703443  13.457979       5.905220   \n",
       "Serving Size Weight         0.084263    0.099561   0.307484       0.023060   \n",
       "Cups per Serving           -0.249941    0.424269   0.591971      -0.118462   \n",
       "\n",
       "                         Potassium  Vitamins and Minerals  \\\n",
       "Calories               -206.945576             124.861163   \n",
       "Protein (g)              40.890411               0.342466   \n",
       "Fat                       8.776749              -0.499815   \n",
       "Sodium                 -124.572381             701.453165   \n",
       "Dietary Fiber           153.809219              -1.577194   \n",
       "Carbs                  -110.201777              25.703443   \n",
       "Sugars                   -6.007034              13.457979   \n",
       "Display Shelf            19.441318               5.905220   \n",
       "Potassium              4981.263236              45.973713   \n",
       "Vitamins and Minerals    45.973713             519.252129   \n",
       "Serving Size Weight       4.387923               1.128656   \n",
       "Cups per Serving         -7.785653               1.352555   \n",
       "\n",
       "                       Serving Size Weight  Cups per Serving  \n",
       "Calories                          2.117160          2.929970  \n",
       "Protein (g)                       0.036781         -0.084863  \n",
       "Fat                               0.032325         -0.061148  \n",
       "Sodium                            4.023676         23.293799  \n",
       "Dietary Fiber                     0.084263         -0.249941  \n",
       "Carbs                             0.099561          0.424269  \n",
       "Sugars                            0.307484          0.591971  \n",
       "Display Shelf                     0.023060         -0.118462  \n",
       "Potassium                         4.387923         -7.785653  \n",
       "Vitamins and Minerals             1.128656          1.352555  \n",
       "Serving Size Weight               0.022880          0.016936  \n",
       "Cups per Serving                  0.016936          0.332748  "
      ]
     },
     "execution_count": 36,
     "metadata": {},
     "output_type": "execute_result"
    }
   ],
   "source": [
    "df.cov() # Matriz de covarianza entre cada variable. "
   ]
  },
  {
   "cell_type": "code",
   "execution_count": 37,
   "metadata": {
    "colab": {
     "base_uri": "https://localhost:8080/",
     "height": 594
    },
    "executionInfo": {
     "elapsed": 311,
     "status": "ok",
     "timestamp": 1614119735027,
     "user": {
      "displayName": "Daniel Felipe Fragua Rengifo",
      "photoUrl": "",
      "userId": "09845551813303536248"
     },
     "user_tz": 300
    },
    "id": "bmaGbb4uxQHS",
    "outputId": "41bdbf14-006d-4dbc-dde2-f25845254133"
   },
   "outputs": [
    {
     "data": {
      "text/html": [
       "<div>\n",
       "<style scoped>\n",
       "    .dataframe tbody tr th:only-of-type {\n",
       "        vertical-align: middle;\n",
       "    }\n",
       "\n",
       "    .dataframe tbody tr th {\n",
       "        vertical-align: top;\n",
       "    }\n",
       "\n",
       "    .dataframe thead th {\n",
       "        text-align: right;\n",
       "    }\n",
       "</style>\n",
       "<table border=\"1\" class=\"dataframe\">\n",
       "  <thead>\n",
       "    <tr style=\"text-align: right;\">\n",
       "      <th></th>\n",
       "      <th>Calories</th>\n",
       "      <th>Protein (g)</th>\n",
       "      <th>Fat</th>\n",
       "      <th>Sodium</th>\n",
       "      <th>Dietary Fiber</th>\n",
       "      <th>Carbs</th>\n",
       "      <th>Sugars</th>\n",
       "      <th>Display Shelf</th>\n",
       "      <th>Potassium</th>\n",
       "      <th>Vitamins and Minerals</th>\n",
       "      <th>Serving Size Weight</th>\n",
       "      <th>Cups per Serving</th>\n",
       "    </tr>\n",
       "  </thead>\n",
       "  <tbody>\n",
       "    <tr>\n",
       "      <th>Calories</th>\n",
       "      <td>1.000000</td>\n",
       "      <td>-0.071648</td>\n",
       "      <td>0.425627</td>\n",
       "      <td>0.354206</td>\n",
       "      <td>-0.355982</td>\n",
       "      <td>0.256388</td>\n",
       "      <td>0.547685</td>\n",
       "      <td>0.033840</td>\n",
       "      <td>-0.158991</td>\n",
       "      <td>0.297116</td>\n",
       "      <td>0.758956</td>\n",
       "      <td>0.275418</td>\n",
       "    </tr>\n",
       "    <tr>\n",
       "      <th>Protein (g)</th>\n",
       "      <td>-0.071648</td>\n",
       "      <td>1.000000</td>\n",
       "      <td>0.143655</td>\n",
       "      <td>-0.039885</td>\n",
       "      <td>0.498610</td>\n",
       "      <td>-0.143227</td>\n",
       "      <td>-0.381669</td>\n",
       "      <td>0.098137</td>\n",
       "      <td>0.532237</td>\n",
       "      <td>0.013806</td>\n",
       "      <td>0.223383</td>\n",
       "      <td>-0.135149</td>\n",
       "    </tr>\n",
       "    <tr>\n",
       "      <th>Fat</th>\n",
       "      <td>0.425627</td>\n",
       "      <td>0.143655</td>\n",
       "      <td>1.000000</td>\n",
       "      <td>0.019642</td>\n",
       "      <td>-0.020329</td>\n",
       "      <td>-0.350141</td>\n",
       "      <td>0.229358</td>\n",
       "      <td>0.216651</td>\n",
       "      <td>0.129051</td>\n",
       "      <td>-0.022762</td>\n",
       "      <td>0.221775</td>\n",
       "      <td>-0.110007</td>\n",
       "    </tr>\n",
       "    <tr>\n",
       "      <th>Sodium</th>\n",
       "      <td>0.354206</td>\n",
       "      <td>-0.039885</td>\n",
       "      <td>0.019642</td>\n",
       "      <td>1.000000</td>\n",
       "      <td>-0.067327</td>\n",
       "      <td>0.362717</td>\n",
       "      <td>0.114690</td>\n",
       "      <td>-0.059572</td>\n",
       "      <td>-0.020719</td>\n",
       "      <td>0.361351</td>\n",
       "      <td>0.312261</td>\n",
       "      <td>0.474025</td>\n",
       "    </tr>\n",
       "    <tr>\n",
       "      <th>Dietary Fiber</th>\n",
       "      <td>-0.355982</td>\n",
       "      <td>0.498610</td>\n",
       "      <td>-0.020329</td>\n",
       "      <td>-0.067327</td>\n",
       "      <td>1.000000</td>\n",
       "      <td>-0.355039</td>\n",
       "      <td>-0.165885</td>\n",
       "      <td>0.281135</td>\n",
       "      <td>0.906521</td>\n",
       "      <td>-0.028791</td>\n",
       "      <td>0.231728</td>\n",
       "      <td>-0.180237</td>\n",
       "    </tr>\n",
       "    <tr>\n",
       "      <th>Carbs</th>\n",
       "      <td>0.256388</td>\n",
       "      <td>-0.143227</td>\n",
       "      <td>-0.350141</td>\n",
       "      <td>0.362717</td>\n",
       "      <td>-0.355039</td>\n",
       "      <td>1.000000</td>\n",
       "      <td>-0.340435</td>\n",
       "      <td>-0.104785</td>\n",
       "      <td>-0.359012</td>\n",
       "      <td>0.259354</td>\n",
       "      <td>0.151341</td>\n",
       "      <td>0.169112</td>\n",
       "    </tr>\n",
       "    <tr>\n",
       "      <th>Sugars</th>\n",
       "      <td>0.547685</td>\n",
       "      <td>-0.381669</td>\n",
       "      <td>0.229358</td>\n",
       "      <td>0.114690</td>\n",
       "      <td>-0.165885</td>\n",
       "      <td>-0.340435</td>\n",
       "      <td>1.000000</td>\n",
       "      <td>0.069844</td>\n",
       "      <td>-0.019051</td>\n",
       "      <td>0.132193</td>\n",
       "      <td>0.455005</td>\n",
       "      <td>0.229700</td>\n",
       "    </tr>\n",
       "    <tr>\n",
       "      <th>Display Shelf</th>\n",
       "      <td>0.033840</td>\n",
       "      <td>0.098137</td>\n",
       "      <td>0.216651</td>\n",
       "      <td>-0.059572</td>\n",
       "      <td>0.281135</td>\n",
       "      <td>-0.104785</td>\n",
       "      <td>0.069844</td>\n",
       "      <td>1.000000</td>\n",
       "      <td>0.330479</td>\n",
       "      <td>0.310910</td>\n",
       "      <td>0.182904</td>\n",
       "      <td>-0.246381</td>\n",
       "    </tr>\n",
       "    <tr>\n",
       "      <th>Potassium</th>\n",
       "      <td>-0.158991</td>\n",
       "      <td>0.532237</td>\n",
       "      <td>0.129051</td>\n",
       "      <td>-0.020719</td>\n",
       "      <td>0.906521</td>\n",
       "      <td>-0.359012</td>\n",
       "      <td>-0.019051</td>\n",
       "      <td>0.330479</td>\n",
       "      <td>1.000000</td>\n",
       "      <td>0.028586</td>\n",
       "      <td>0.411022</td>\n",
       "      <td>-0.191235</td>\n",
       "    </tr>\n",
       "    <tr>\n",
       "      <th>Vitamins and Minerals</th>\n",
       "      <td>0.297116</td>\n",
       "      <td>0.013806</td>\n",
       "      <td>-0.022762</td>\n",
       "      <td>0.361351</td>\n",
       "      <td>-0.028791</td>\n",
       "      <td>0.259354</td>\n",
       "      <td>0.132193</td>\n",
       "      <td>0.310910</td>\n",
       "      <td>0.028586</td>\n",
       "      <td>1.000000</td>\n",
       "      <td>0.327452</td>\n",
       "      <td>0.102898</td>\n",
       "    </tr>\n",
       "    <tr>\n",
       "      <th>Serving Size Weight</th>\n",
       "      <td>0.758956</td>\n",
       "      <td>0.223383</td>\n",
       "      <td>0.221775</td>\n",
       "      <td>0.312261</td>\n",
       "      <td>0.231728</td>\n",
       "      <td>0.151341</td>\n",
       "      <td>0.455005</td>\n",
       "      <td>0.182904</td>\n",
       "      <td>0.411022</td>\n",
       "      <td>0.327452</td>\n",
       "      <td>1.000000</td>\n",
       "      <td>0.194100</td>\n",
       "    </tr>\n",
       "    <tr>\n",
       "      <th>Cups per Serving</th>\n",
       "      <td>0.275418</td>\n",
       "      <td>-0.135149</td>\n",
       "      <td>-0.110007</td>\n",
       "      <td>0.474025</td>\n",
       "      <td>-0.180237</td>\n",
       "      <td>0.169112</td>\n",
       "      <td>0.229700</td>\n",
       "      <td>-0.246381</td>\n",
       "      <td>-0.191235</td>\n",
       "      <td>0.102898</td>\n",
       "      <td>0.194100</td>\n",
       "      <td>1.000000</td>\n",
       "    </tr>\n",
       "  </tbody>\n",
       "</table>\n",
       "</div>"
      ],
      "text/plain": [
       "                       Calories  Protein (g)       Fat    Sodium  \\\n",
       "Calories               1.000000    -0.071648  0.425627  0.354206   \n",
       "Protein (g)           -0.071648     1.000000  0.143655 -0.039885   \n",
       "Fat                    0.425627     0.143655  1.000000  0.019642   \n",
       "Sodium                 0.354206    -0.039885  0.019642  1.000000   \n",
       "Dietary Fiber         -0.355982     0.498610 -0.020329 -0.067327   \n",
       "Carbs                  0.256388    -0.143227 -0.350141  0.362717   \n",
       "Sugars                 0.547685    -0.381669  0.229358  0.114690   \n",
       "Display Shelf          0.033840     0.098137  0.216651 -0.059572   \n",
       "Potassium             -0.158991     0.532237  0.129051 -0.020719   \n",
       "Vitamins and Minerals  0.297116     0.013806 -0.022762  0.361351   \n",
       "Serving Size Weight    0.758956     0.223383  0.221775  0.312261   \n",
       "Cups per Serving       0.275418    -0.135149 -0.110007  0.474025   \n",
       "\n",
       "                       Dietary Fiber     Carbs    Sugars  Display Shelf  \\\n",
       "Calories                   -0.355982  0.256388  0.547685       0.033840   \n",
       "Protein (g)                 0.498610 -0.143227 -0.381669       0.098137   \n",
       "Fat                        -0.020329 -0.350141  0.229358       0.216651   \n",
       "Sodium                     -0.067327  0.362717  0.114690      -0.059572   \n",
       "Dietary Fiber               1.000000 -0.355039 -0.165885       0.281135   \n",
       "Carbs                      -0.355039  1.000000 -0.340435      -0.104785   \n",
       "Sugars                     -0.165885 -0.340435  1.000000       0.069844   \n",
       "Display Shelf               0.281135 -0.104785  0.069844       1.000000   \n",
       "Potassium                   0.906521 -0.359012 -0.019051       0.330479   \n",
       "Vitamins and Minerals      -0.028791  0.259354  0.132193       0.310910   \n",
       "Serving Size Weight         0.231728  0.151341  0.455005       0.182904   \n",
       "Cups per Serving           -0.180237  0.169112  0.229700      -0.246381   \n",
       "\n",
       "                       Potassium  Vitamins and Minerals  Serving Size Weight  \\\n",
       "Calories               -0.158991               0.297116             0.758956   \n",
       "Protein (g)             0.532237               0.013806             0.223383   \n",
       "Fat                     0.129051              -0.022762             0.221775   \n",
       "Sodium                 -0.020719               0.361351             0.312261   \n",
       "Dietary Fiber           0.906521              -0.028791             0.231728   \n",
       "Carbs                  -0.359012               0.259354             0.151341   \n",
       "Sugars                 -0.019051               0.132193             0.455005   \n",
       "Display Shelf           0.330479               0.310910             0.182904   \n",
       "Potassium               1.000000               0.028586             0.411022   \n",
       "Vitamins and Minerals   0.028586               1.000000             0.327452   \n",
       "Serving Size Weight     0.411022               0.327452             1.000000   \n",
       "Cups per Serving       -0.191235               0.102898             0.194100   \n",
       "\n",
       "                       Cups per Serving  \n",
       "Calories                       0.275418  \n",
       "Protein (g)                   -0.135149  \n",
       "Fat                           -0.110007  \n",
       "Sodium                         0.474025  \n",
       "Dietary Fiber                 -0.180237  \n",
       "Carbs                          0.169112  \n",
       "Sugars                         0.229700  \n",
       "Display Shelf                 -0.246381  \n",
       "Potassium                     -0.191235  \n",
       "Vitamins and Minerals          0.102898  \n",
       "Serving Size Weight            0.194100  \n",
       "Cups per Serving               1.000000  "
      ]
     },
     "execution_count": 37,
     "metadata": {},
     "output_type": "execute_result"
    }
   ],
   "source": [
    "df.corr() # Matriz de correlación entre cada variable."
   ]
  },
  {
   "cell_type": "markdown",
   "metadata": {
    "id": "JF_hnYQghqce"
   },
   "source": [
    "#### **6.4.2. Tablas de contingencia**\n",
    "---\n",
    " Las tablas de contingencia son un método más tradicional usado para representar la relación entre dos variables, comúnmente, cualitativas o categóricas. En esta tabla se caracterizan los conjuntos que comparten propiedades con cálculos como la frecuencia o la media aritmética.\n",
    "\n",
    "  Se calcula con el método:\n",
    "\n",
    "  > **`pd.crosstab(index, columns, ...)`**\n"
   ]
  },
  {
   "cell_type": "markdown",
   "metadata": {
    "id": "gwyZPgq42jIh"
   },
   "source": [
    "Por defecto se usa la frecuencia. Es decir, la cantidad de registros cuyo valor corresponda a ambas categorías. El argumento **`margins`** permite calcular un resumen general por filas y columnas."
   ]
  },
  {
   "cell_type": "code",
   "execution_count": 38,
   "metadata": {
    "colab": {
     "base_uri": "https://localhost:8080/",
     "height": 328
    },
    "executionInfo": {
     "elapsed": 401,
     "status": "ok",
     "timestamp": 1614119750545,
     "user": {
      "displayName": "Daniel Felipe Fragua Rengifo",
      "photoUrl": "",
      "userId": "09845551813303536248"
     },
     "user_tz": 300
    },
    "id": "QQTIZ9442T4z",
    "outputId": "4f85467e-5036-4639-d760-2c7b9c3e2a2c"
   },
   "outputs": [
    {
     "data": {
      "text/html": [
       "<div>\n",
       "<style scoped>\n",
       "    .dataframe tbody tr th:only-of-type {\n",
       "        vertical-align: middle;\n",
       "    }\n",
       "\n",
       "    .dataframe tbody tr th {\n",
       "        vertical-align: top;\n",
       "    }\n",
       "\n",
       "    .dataframe thead th {\n",
       "        text-align: right;\n",
       "    }\n",
       "</style>\n",
       "<table border=\"1\" class=\"dataframe\">\n",
       "  <thead>\n",
       "    <tr style=\"text-align: right;\">\n",
       "      <th>Calories</th>\n",
       "      <th>50</th>\n",
       "      <th>70</th>\n",
       "      <th>80</th>\n",
       "      <th>90</th>\n",
       "      <th>100</th>\n",
       "      <th>110</th>\n",
       "      <th>120</th>\n",
       "      <th>130</th>\n",
       "      <th>140</th>\n",
       "      <th>160</th>\n",
       "      <th>All</th>\n",
       "    </tr>\n",
       "    <tr>\n",
       "      <th>Manufacturer</th>\n",
       "      <th></th>\n",
       "      <th></th>\n",
       "      <th></th>\n",
       "      <th></th>\n",
       "      <th></th>\n",
       "      <th></th>\n",
       "      <th></th>\n",
       "      <th></th>\n",
       "      <th></th>\n",
       "      <th></th>\n",
       "      <th></th>\n",
       "    </tr>\n",
       "  </thead>\n",
       "  <tbody>\n",
       "    <tr>\n",
       "      <th>American Home Food Products</th>\n",
       "      <td>0</td>\n",
       "      <td>0</td>\n",
       "      <td>0</td>\n",
       "      <td>0</td>\n",
       "      <td>1</td>\n",
       "      <td>0</td>\n",
       "      <td>0</td>\n",
       "      <td>0</td>\n",
       "      <td>0</td>\n",
       "      <td>0</td>\n",
       "      <td>1</td>\n",
       "    </tr>\n",
       "    <tr>\n",
       "      <th>General Mills</th>\n",
       "      <td>0</td>\n",
       "      <td>0</td>\n",
       "      <td>0</td>\n",
       "      <td>0</td>\n",
       "      <td>5</td>\n",
       "      <td>13</td>\n",
       "      <td>1</td>\n",
       "      <td>2</td>\n",
       "      <td>1</td>\n",
       "      <td>0</td>\n",
       "      <td>22</td>\n",
       "    </tr>\n",
       "    <tr>\n",
       "      <th>Kelloggs</th>\n",
       "      <td>1</td>\n",
       "      <td>1</td>\n",
       "      <td>0</td>\n",
       "      <td>2</td>\n",
       "      <td>3</td>\n",
       "      <td>10</td>\n",
       "      <td>3</td>\n",
       "      <td>0</td>\n",
       "      <td>2</td>\n",
       "      <td>1</td>\n",
       "      <td>23</td>\n",
       "    </tr>\n",
       "    <tr>\n",
       "      <th>Nabisco</th>\n",
       "      <td>0</td>\n",
       "      <td>1</td>\n",
       "      <td>1</td>\n",
       "      <td>3</td>\n",
       "      <td>1</td>\n",
       "      <td>0</td>\n",
       "      <td>0</td>\n",
       "      <td>0</td>\n",
       "      <td>0</td>\n",
       "      <td>0</td>\n",
       "      <td>6</td>\n",
       "    </tr>\n",
       "    <tr>\n",
       "      <th>Post</th>\n",
       "      <td>0</td>\n",
       "      <td>0</td>\n",
       "      <td>0</td>\n",
       "      <td>1</td>\n",
       "      <td>2</td>\n",
       "      <td>3</td>\n",
       "      <td>2</td>\n",
       "      <td>0</td>\n",
       "      <td>0</td>\n",
       "      <td>0</td>\n",
       "      <td>8</td>\n",
       "    </tr>\n",
       "    <tr>\n",
       "      <th>Quaker Oats</th>\n",
       "      <td>2</td>\n",
       "      <td>0</td>\n",
       "      <td>0</td>\n",
       "      <td>0</td>\n",
       "      <td>3</td>\n",
       "      <td>0</td>\n",
       "      <td>3</td>\n",
       "      <td>0</td>\n",
       "      <td>0</td>\n",
       "      <td>0</td>\n",
       "      <td>8</td>\n",
       "    </tr>\n",
       "    <tr>\n",
       "      <th>Ralston Purina</th>\n",
       "      <td>0</td>\n",
       "      <td>0</td>\n",
       "      <td>0</td>\n",
       "      <td>1</td>\n",
       "      <td>2</td>\n",
       "      <td>3</td>\n",
       "      <td>0</td>\n",
       "      <td>0</td>\n",
       "      <td>0</td>\n",
       "      <td>0</td>\n",
       "      <td>6</td>\n",
       "    </tr>\n",
       "    <tr>\n",
       "      <th>All</th>\n",
       "      <td>3</td>\n",
       "      <td>2</td>\n",
       "      <td>1</td>\n",
       "      <td>7</td>\n",
       "      <td>17</td>\n",
       "      <td>29</td>\n",
       "      <td>9</td>\n",
       "      <td>2</td>\n",
       "      <td>3</td>\n",
       "      <td>1</td>\n",
       "      <td>74</td>\n",
       "    </tr>\n",
       "  </tbody>\n",
       "</table>\n",
       "</div>"
      ],
      "text/plain": [
       "Calories                     50  70  80  90  100  110  120  130  140  160  All\n",
       "Manufacturer                                                                  \n",
       "American Home Food Products   0   0   0   0    1    0    0    0    0    0    1\n",
       "General Mills                 0   0   0   0    5   13    1    2    1    0   22\n",
       "Kelloggs                      1   1   0   2    3   10    3    0    2    1   23\n",
       "Nabisco                       0   1   1   3    1    0    0    0    0    0    6\n",
       "Post                          0   0   0   1    2    3    2    0    0    0    8\n",
       "Quaker Oats                   2   0   0   0    3    0    3    0    0    0    8\n",
       "Ralston Purina                0   0   0   1    2    3    0    0    0    0    6\n",
       "All                           3   2   1   7   17   29    9    2    3    1   74"
      ]
     },
     "execution_count": 38,
     "metadata": {},
     "output_type": "execute_result"
    }
   ],
   "source": [
    "pd.crosstab(df['Manufacturer'], df['Calories'], margins = True)"
   ]
  },
  {
   "cell_type": "markdown",
   "metadata": {
    "id": "29aG49sM3MSP"
   },
   "source": [
    "También se pueden definir funciones de agregación para las categorías que correspondan. Una función de agregación es un cálculo proveniente de todos los datos, como el máximo, la suma o el producto. Se específica con una función en el argumento **`aggfunc`**. Cuando se define, se tiene que definir la variable sobre la cual hacer la agregación en el argumento **`values`**."
   ]
  },
  {
   "cell_type": "code",
   "execution_count": 39,
   "metadata": {
    "colab": {
     "base_uri": "https://localhost:8080/",
     "height": 328
    },
    "executionInfo": {
     "elapsed": 397,
     "status": "ok",
     "timestamp": 1614119752426,
     "user": {
      "displayName": "Daniel Felipe Fragua Rengifo",
      "photoUrl": "",
      "userId": "09845551813303536248"
     },
     "user_tz": 300
    },
    "id": "qnw_5wgR3LuT",
    "outputId": "174ba30b-b308-4bc9-92e7-027d3eb7cdb3"
   },
   "outputs": [
    {
     "data": {
      "text/html": [
       "<div>\n",
       "<style scoped>\n",
       "    .dataframe tbody tr th:only-of-type {\n",
       "        vertical-align: middle;\n",
       "    }\n",
       "\n",
       "    .dataframe tbody tr th {\n",
       "        vertical-align: top;\n",
       "    }\n",
       "\n",
       "    .dataframe thead th {\n",
       "        text-align: right;\n",
       "    }\n",
       "</style>\n",
       "<table border=\"1\" class=\"dataframe\">\n",
       "  <thead>\n",
       "    <tr style=\"text-align: right;\">\n",
       "      <th>Calories</th>\n",
       "      <th>50</th>\n",
       "      <th>70</th>\n",
       "      <th>80</th>\n",
       "      <th>90</th>\n",
       "      <th>100</th>\n",
       "      <th>110</th>\n",
       "      <th>120</th>\n",
       "      <th>130</th>\n",
       "      <th>140</th>\n",
       "      <th>160</th>\n",
       "      <th>All</th>\n",
       "    </tr>\n",
       "    <tr>\n",
       "      <th>Manufacturer</th>\n",
       "      <th></th>\n",
       "      <th></th>\n",
       "      <th></th>\n",
       "      <th></th>\n",
       "      <th></th>\n",
       "      <th></th>\n",
       "      <th></th>\n",
       "      <th></th>\n",
       "      <th></th>\n",
       "      <th></th>\n",
       "      <th></th>\n",
       "    </tr>\n",
       "  </thead>\n",
       "  <tbody>\n",
       "    <tr>\n",
       "      <th>American Home Food Products</th>\n",
       "      <td>NaN</td>\n",
       "      <td>NaN</td>\n",
       "      <td>NaN</td>\n",
       "      <td>NaN</td>\n",
       "      <td>25.000000</td>\n",
       "      <td>NaN</td>\n",
       "      <td>NaN</td>\n",
       "      <td>NaN</td>\n",
       "      <td>NaN</td>\n",
       "      <td>NaN</td>\n",
       "      <td>25.000000</td>\n",
       "    </tr>\n",
       "    <tr>\n",
       "      <th>General Mills</th>\n",
       "      <td>NaN</td>\n",
       "      <td>NaN</td>\n",
       "      <td>NaN</td>\n",
       "      <td>NaN</td>\n",
       "      <td>40.000000</td>\n",
       "      <td>30.769231</td>\n",
       "      <td>25.000000</td>\n",
       "      <td>25.0</td>\n",
       "      <td>100.0</td>\n",
       "      <td>NaN</td>\n",
       "      <td>35.227273</td>\n",
       "    </tr>\n",
       "    <tr>\n",
       "      <th>Kelloggs</th>\n",
       "      <td>25.000000</td>\n",
       "      <td>25.0</td>\n",
       "      <td>NaN</td>\n",
       "      <td>25.000000</td>\n",
       "      <td>50.000000</td>\n",
       "      <td>32.500000</td>\n",
       "      <td>25.000000</td>\n",
       "      <td>NaN</td>\n",
       "      <td>62.5</td>\n",
       "      <td>25.0</td>\n",
       "      <td>34.782609</td>\n",
       "    </tr>\n",
       "    <tr>\n",
       "      <th>Nabisco</th>\n",
       "      <td>NaN</td>\n",
       "      <td>25.0</td>\n",
       "      <td>0.0</td>\n",
       "      <td>8.333333</td>\n",
       "      <td>0.000000</td>\n",
       "      <td>NaN</td>\n",
       "      <td>NaN</td>\n",
       "      <td>NaN</td>\n",
       "      <td>NaN</td>\n",
       "      <td>NaN</td>\n",
       "      <td>8.333333</td>\n",
       "    </tr>\n",
       "    <tr>\n",
       "      <th>Post</th>\n",
       "      <td>NaN</td>\n",
       "      <td>NaN</td>\n",
       "      <td>NaN</td>\n",
       "      <td>25.000000</td>\n",
       "      <td>25.000000</td>\n",
       "      <td>25.000000</td>\n",
       "      <td>25.000000</td>\n",
       "      <td>NaN</td>\n",
       "      <td>NaN</td>\n",
       "      <td>NaN</td>\n",
       "      <td>25.000000</td>\n",
       "    </tr>\n",
       "    <tr>\n",
       "      <th>Quaker Oats</th>\n",
       "      <td>0.000000</td>\n",
       "      <td>NaN</td>\n",
       "      <td>NaN</td>\n",
       "      <td>NaN</td>\n",
       "      <td>16.666667</td>\n",
       "      <td>NaN</td>\n",
       "      <td>16.666667</td>\n",
       "      <td>NaN</td>\n",
       "      <td>NaN</td>\n",
       "      <td>NaN</td>\n",
       "      <td>12.500000</td>\n",
       "    </tr>\n",
       "    <tr>\n",
       "      <th>Ralston Purina</th>\n",
       "      <td>NaN</td>\n",
       "      <td>NaN</td>\n",
       "      <td>NaN</td>\n",
       "      <td>25.000000</td>\n",
       "      <td>25.000000</td>\n",
       "      <td>25.000000</td>\n",
       "      <td>NaN</td>\n",
       "      <td>NaN</td>\n",
       "      <td>NaN</td>\n",
       "      <td>NaN</td>\n",
       "      <td>25.000000</td>\n",
       "    </tr>\n",
       "    <tr>\n",
       "      <th>All</th>\n",
       "      <td>8.333333</td>\n",
       "      <td>25.0</td>\n",
       "      <td>0.0</td>\n",
       "      <td>17.857143</td>\n",
       "      <td>30.882353</td>\n",
       "      <td>30.172414</td>\n",
       "      <td>22.222222</td>\n",
       "      <td>25.0</td>\n",
       "      <td>75.0</td>\n",
       "      <td>25.0</td>\n",
       "      <td>28.378378</td>\n",
       "    </tr>\n",
       "  </tbody>\n",
       "</table>\n",
       "</div>"
      ],
      "text/plain": [
       "Calories                            50    70   80         90        100  \\\n",
       "Manufacturer                                                              \n",
       "American Home Food Products        NaN   NaN  NaN        NaN  25.000000   \n",
       "General Mills                      NaN   NaN  NaN        NaN  40.000000   \n",
       "Kelloggs                     25.000000  25.0  NaN  25.000000  50.000000   \n",
       "Nabisco                            NaN  25.0  0.0   8.333333   0.000000   \n",
       "Post                               NaN   NaN  NaN  25.000000  25.000000   \n",
       "Quaker Oats                   0.000000   NaN  NaN        NaN  16.666667   \n",
       "Ralston Purina                     NaN   NaN  NaN  25.000000  25.000000   \n",
       "All                           8.333333  25.0  0.0  17.857143  30.882353   \n",
       "\n",
       "Calories                           110        120   130    140   160  \\\n",
       "Manufacturer                                                           \n",
       "American Home Food Products        NaN        NaN   NaN    NaN   NaN   \n",
       "General Mills                30.769231  25.000000  25.0  100.0   NaN   \n",
       "Kelloggs                     32.500000  25.000000   NaN   62.5  25.0   \n",
       "Nabisco                            NaN        NaN   NaN    NaN   NaN   \n",
       "Post                         25.000000  25.000000   NaN    NaN   NaN   \n",
       "Quaker Oats                        NaN  16.666667   NaN    NaN   NaN   \n",
       "Ralston Purina               25.000000        NaN   NaN    NaN   NaN   \n",
       "All                          30.172414  22.222222  25.0   75.0  25.0   \n",
       "\n",
       "Calories                           All  \n",
       "Manufacturer                            \n",
       "American Home Food Products  25.000000  \n",
       "General Mills                35.227273  \n",
       "Kelloggs                     34.782609  \n",
       "Nabisco                       8.333333  \n",
       "Post                         25.000000  \n",
       "Quaker Oats                  12.500000  \n",
       "Ralston Purina               25.000000  \n",
       "All                          28.378378  "
      ]
     },
     "execution_count": 39,
     "metadata": {},
     "output_type": "execute_result"
    }
   ],
   "source": [
    "pd.crosstab(df['Manufacturer'], df['Calories'], \n",
    "            margins = True,\n",
    "            aggfunc = np.mean, #Función de agregación. En este caso se busca la media aritmética.\n",
    "            values = df['Vitamins and Minerals'] #Variable (o serie) sobre la cual evaluar la agregación.\n",
    "            )\n",
    "\n",
    "#Si no hay parejas que cumplan ambas condiciones, el valor es NaN"
   ]
  },
  {
   "cell_type": "markdown",
   "metadata": {
    "id": "q1WCMC0H49HP"
   },
   "source": [
    "En este caso, para las parejas de elementos que no tenían coincidencias no era posible calcular la media (el promedio de un conjunto vacío no está definido) por lo que *pandas* y *NumPy* asignan el valor **NaN** en estas celdas. Estos valores no son tenidos en cuenta en el cálculo del promedio en los márgenes.\n",
    "\n",
    "Otro tipo de tabla de contingencia es el creado a partir de **tablas pivote**. Este es un método muy similar al descrito previamente. Mientras que el método **`crosstab`** recibe como entrada dos o tres series del mismo tamaño, en las que se calcula correspondencia en el mismo índice, con **`pivot_table`** el cálculo se realiza dentro de un *DataFrame* y las filas y columnas representadas se definen con el nombre de sus columnas. "
   ]
  },
  {
   "cell_type": "code",
   "execution_count": 40,
   "metadata": {
    "colab": {
     "base_uri": "https://localhost:8080/",
     "height": 328
    },
    "executionInfo": {
     "elapsed": 372,
     "status": "ok",
     "timestamp": 1614119754757,
     "user": {
      "displayName": "Daniel Felipe Fragua Rengifo",
      "photoUrl": "",
      "userId": "09845551813303536248"
     },
     "user_tz": 300
    },
    "id": "SkjNGhIl-XX5",
    "outputId": "c8374420-22d5-4461-9d5b-31bfeb879822"
   },
   "outputs": [
    {
     "data": {
      "text/html": [
       "<div>\n",
       "<style scoped>\n",
       "    .dataframe tbody tr th:only-of-type {\n",
       "        vertical-align: middle;\n",
       "    }\n",
       "\n",
       "    .dataframe tbody tr th {\n",
       "        vertical-align: top;\n",
       "    }\n",
       "\n",
       "    .dataframe thead th {\n",
       "        text-align: right;\n",
       "    }\n",
       "</style>\n",
       "<table border=\"1\" class=\"dataframe\">\n",
       "  <thead>\n",
       "    <tr style=\"text-align: right;\">\n",
       "      <th>Calories</th>\n",
       "      <th>50</th>\n",
       "      <th>70</th>\n",
       "      <th>80</th>\n",
       "      <th>90</th>\n",
       "      <th>100</th>\n",
       "      <th>110</th>\n",
       "      <th>120</th>\n",
       "      <th>130</th>\n",
       "      <th>140</th>\n",
       "      <th>160</th>\n",
       "      <th>All</th>\n",
       "    </tr>\n",
       "    <tr>\n",
       "      <th>Manufacturer</th>\n",
       "      <th></th>\n",
       "      <th></th>\n",
       "      <th></th>\n",
       "      <th></th>\n",
       "      <th></th>\n",
       "      <th></th>\n",
       "      <th></th>\n",
       "      <th></th>\n",
       "      <th></th>\n",
       "      <th></th>\n",
       "      <th></th>\n",
       "    </tr>\n",
       "  </thead>\n",
       "  <tbody>\n",
       "    <tr>\n",
       "      <th>American Home Food Products</th>\n",
       "      <td>NaN</td>\n",
       "      <td>NaN</td>\n",
       "      <td>NaN</td>\n",
       "      <td>NaN</td>\n",
       "      <td>25.000000</td>\n",
       "      <td>NaN</td>\n",
       "      <td>NaN</td>\n",
       "      <td>NaN</td>\n",
       "      <td>NaN</td>\n",
       "      <td>NaN</td>\n",
       "      <td>25.000000</td>\n",
       "    </tr>\n",
       "    <tr>\n",
       "      <th>General Mills</th>\n",
       "      <td>NaN</td>\n",
       "      <td>NaN</td>\n",
       "      <td>NaN</td>\n",
       "      <td>NaN</td>\n",
       "      <td>40.000000</td>\n",
       "      <td>30.769231</td>\n",
       "      <td>25.000000</td>\n",
       "      <td>25.0</td>\n",
       "      <td>100.0</td>\n",
       "      <td>NaN</td>\n",
       "      <td>35.227273</td>\n",
       "    </tr>\n",
       "    <tr>\n",
       "      <th>Kelloggs</th>\n",
       "      <td>25.000000</td>\n",
       "      <td>25.0</td>\n",
       "      <td>NaN</td>\n",
       "      <td>25.000000</td>\n",
       "      <td>50.000000</td>\n",
       "      <td>32.500000</td>\n",
       "      <td>25.000000</td>\n",
       "      <td>NaN</td>\n",
       "      <td>62.5</td>\n",
       "      <td>25.0</td>\n",
       "      <td>34.782609</td>\n",
       "    </tr>\n",
       "    <tr>\n",
       "      <th>Nabisco</th>\n",
       "      <td>NaN</td>\n",
       "      <td>25.0</td>\n",
       "      <td>0.0</td>\n",
       "      <td>8.333333</td>\n",
       "      <td>0.000000</td>\n",
       "      <td>NaN</td>\n",
       "      <td>NaN</td>\n",
       "      <td>NaN</td>\n",
       "      <td>NaN</td>\n",
       "      <td>NaN</td>\n",
       "      <td>8.333333</td>\n",
       "    </tr>\n",
       "    <tr>\n",
       "      <th>Post</th>\n",
       "      <td>NaN</td>\n",
       "      <td>NaN</td>\n",
       "      <td>NaN</td>\n",
       "      <td>25.000000</td>\n",
       "      <td>25.000000</td>\n",
       "      <td>25.000000</td>\n",
       "      <td>25.000000</td>\n",
       "      <td>NaN</td>\n",
       "      <td>NaN</td>\n",
       "      <td>NaN</td>\n",
       "      <td>25.000000</td>\n",
       "    </tr>\n",
       "    <tr>\n",
       "      <th>Quaker Oats</th>\n",
       "      <td>0.000000</td>\n",
       "      <td>NaN</td>\n",
       "      <td>NaN</td>\n",
       "      <td>NaN</td>\n",
       "      <td>16.666667</td>\n",
       "      <td>NaN</td>\n",
       "      <td>16.666667</td>\n",
       "      <td>NaN</td>\n",
       "      <td>NaN</td>\n",
       "      <td>NaN</td>\n",
       "      <td>12.500000</td>\n",
       "    </tr>\n",
       "    <tr>\n",
       "      <th>Ralston Purina</th>\n",
       "      <td>NaN</td>\n",
       "      <td>NaN</td>\n",
       "      <td>NaN</td>\n",
       "      <td>25.000000</td>\n",
       "      <td>25.000000</td>\n",
       "      <td>25.000000</td>\n",
       "      <td>NaN</td>\n",
       "      <td>NaN</td>\n",
       "      <td>NaN</td>\n",
       "      <td>NaN</td>\n",
       "      <td>25.000000</td>\n",
       "    </tr>\n",
       "    <tr>\n",
       "      <th>All</th>\n",
       "      <td>8.333333</td>\n",
       "      <td>25.0</td>\n",
       "      <td>0.0</td>\n",
       "      <td>17.857143</td>\n",
       "      <td>30.882353</td>\n",
       "      <td>30.172414</td>\n",
       "      <td>22.222222</td>\n",
       "      <td>25.0</td>\n",
       "      <td>75.0</td>\n",
       "      <td>25.0</td>\n",
       "      <td>28.378378</td>\n",
       "    </tr>\n",
       "  </tbody>\n",
       "</table>\n",
       "</div>"
      ],
      "text/plain": [
       "Calories                            50    70   80         90        100  \\\n",
       "Manufacturer                                                              \n",
       "American Home Food Products        NaN   NaN  NaN        NaN  25.000000   \n",
       "General Mills                      NaN   NaN  NaN        NaN  40.000000   \n",
       "Kelloggs                     25.000000  25.0  NaN  25.000000  50.000000   \n",
       "Nabisco                            NaN  25.0  0.0   8.333333   0.000000   \n",
       "Post                               NaN   NaN  NaN  25.000000  25.000000   \n",
       "Quaker Oats                   0.000000   NaN  NaN        NaN  16.666667   \n",
       "Ralston Purina                     NaN   NaN  NaN  25.000000  25.000000   \n",
       "All                           8.333333  25.0  0.0  17.857143  30.882353   \n",
       "\n",
       "Calories                           110        120   130    140   160  \\\n",
       "Manufacturer                                                           \n",
       "American Home Food Products        NaN        NaN   NaN    NaN   NaN   \n",
       "General Mills                30.769231  25.000000  25.0  100.0   NaN   \n",
       "Kelloggs                     32.500000  25.000000   NaN   62.5  25.0   \n",
       "Nabisco                            NaN        NaN   NaN    NaN   NaN   \n",
       "Post                         25.000000  25.000000   NaN    NaN   NaN   \n",
       "Quaker Oats                        NaN  16.666667   NaN    NaN   NaN   \n",
       "Ralston Purina               25.000000        NaN   NaN    NaN   NaN   \n",
       "All                          30.172414  22.222222  25.0   75.0  25.0   \n",
       "\n",
       "Calories                           All  \n",
       "Manufacturer                            \n",
       "American Home Food Products  25.000000  \n",
       "General Mills                35.227273  \n",
       "Kelloggs                     34.782609  \n",
       "Nabisco                       8.333333  \n",
       "Post                         25.000000  \n",
       "Quaker Oats                  12.500000  \n",
       "Ralston Purina               25.000000  \n",
       "All                          28.378378  "
      ]
     },
     "execution_count": 40,
     "metadata": {},
     "output_type": "execute_result"
    }
   ],
   "source": [
    "df.pivot_table(\n",
    "      index = 'Manufacturer', \n",
    "      columns = 'Calories',\n",
    "      margins = True,\n",
    "      aggfunc = np.mean,\n",
    "      values = 'Vitamins and Minerals'\n",
    ")"
   ]
  },
  {
   "cell_type": "markdown",
   "metadata": {
    "id": "6hCO0BMQxfxP"
   },
   "source": [
    "## **7. Visualización básica de datos**\n",
    "---\n",
    "\n",
    "La visualización de información es, en sí mismo, un campo entero de la ciencia de datos, que busca representar de manera gráfica la naturaleza de los datos a los que referencia. *Pandas* ofrece la posibilidad de generar de manera directa visualizaciones comunes a partir de *DataFrames* o *Series*. \n",
    "\n",
    "Las visualizaciones en *pandas* giran en torno del módulo **`plot`** de sus estructuras de datos, desde el cual se hacen los llamados de todas las visualizaciones descritas. En este material se describirán estas visualizaciones tomando como referencia el objeto *DataFrame*. \n",
    "\n",
    "Por defecto, *pandas* realiza estas visualizaciones usando la librería de visualización ***matplotlib***. Esta librería se estudiará en detalle la **Unidad 4**."
   ]
  },
  {
   "cell_type": "markdown",
   "metadata": {
    "id": "6tUx10hmAYGt"
   },
   "source": [
    "### **7.1. Histograma**\n",
    "---\n",
    "Un **histograma** es la representación de la distribución de variables numéricas en intervalos discretos. Es útil para identificar valores atípicos, tendencias generales y representar la forma que tiene la distribución de los datos.\n",
    "\n",
    "Se puede generar un histograma con el siguiente método:\n",
    "\n",
    "> **`df.plot.hist(bins)`**\n",
    "\n",
    "El argumento **`bins`** define la cantidad de intervalos de clase o *bins* usados para generar el histograma.\n",
    "\n",
    "Cuando se usan múltiples histogramas en una misma visualización, se recomienda utilizar el argumento **`alpha`** de *Matplotlib* que define la transparencia de los histogramas.\n",
    "\n",
    "\n"
   ]
  },
  {
   "cell_type": "code",
   "execution_count": 41,
   "metadata": {
    "colab": {
     "base_uri": "https://localhost:8080/",
     "height": 351
    },
    "executionInfo": {
     "elapsed": 361,
     "status": "ok",
     "timestamp": 1614119758826,
     "user": {
      "displayName": "Daniel Felipe Fragua Rengifo",
      "photoUrl": "",
      "userId": "09845551813303536248"
     },
     "user_tz": 300
    },
    "id": "X-F75Q_3r4O9",
    "outputId": "463f0fb2-e933-486b-f2f3-6335daa20dd2"
   },
   "outputs": [
    {
     "data": {
      "text/html": [
       "<div>\n",
       "<style scoped>\n",
       "    .dataframe tbody tr th:only-of-type {\n",
       "        vertical-align: middle;\n",
       "    }\n",
       "\n",
       "    .dataframe tbody tr th {\n",
       "        vertical-align: top;\n",
       "    }\n",
       "\n",
       "    .dataframe thead th {\n",
       "        text-align: right;\n",
       "    }\n",
       "</style>\n",
       "<table border=\"1\" class=\"dataframe\">\n",
       "  <thead>\n",
       "    <tr style=\"text-align: right;\">\n",
       "      <th></th>\n",
       "      <th>Calories</th>\n",
       "      <th>Protein (g)</th>\n",
       "      <th>Fat</th>\n",
       "      <th>Sodium</th>\n",
       "      <th>Dietary Fiber</th>\n",
       "      <th>Carbs</th>\n",
       "      <th>Sugars</th>\n",
       "      <th>Display Shelf</th>\n",
       "      <th>Potassium</th>\n",
       "      <th>Vitamins and Minerals</th>\n",
       "      <th>Serving Size Weight</th>\n",
       "      <th>Cups per Serving</th>\n",
       "    </tr>\n",
       "  </thead>\n",
       "  <tbody>\n",
       "    <tr>\n",
       "      <th>count</th>\n",
       "      <td>74.000000</td>\n",
       "      <td>74.000000</td>\n",
       "      <td>74.000000</td>\n",
       "      <td>74.000000</td>\n",
       "      <td>74.000000</td>\n",
       "      <td>74.000000</td>\n",
       "      <td>74.000000</td>\n",
       "      <td>74.000000</td>\n",
       "      <td>74.000000</td>\n",
       "      <td>74.000000</td>\n",
       "      <td>74.000000</td>\n",
       "      <td>74.000000</td>\n",
       "    </tr>\n",
       "    <tr>\n",
       "      <th>mean</th>\n",
       "      <td>105.540541</td>\n",
       "      <td>2.500000</td>\n",
       "      <td>0.945946</td>\n",
       "      <td>160.675676</td>\n",
       "      <td>2.090541</td>\n",
       "      <td>14.594595</td>\n",
       "      <td>6.770270</td>\n",
       "      <td>2.175676</td>\n",
       "      <td>92.675676</td>\n",
       "      <td>28.378378</td>\n",
       "      <td>1.027432</td>\n",
       "      <td>0.629054</td>\n",
       "    </tr>\n",
       "    <tr>\n",
       "      <th>std</th>\n",
       "      <td>18.442201</td>\n",
       "      <td>1.088546</td>\n",
       "      <td>0.963610</td>\n",
       "      <td>85.188447</td>\n",
       "      <td>2.404002</td>\n",
       "      <td>4.349205</td>\n",
       "      <td>4.467684</td>\n",
       "      <td>0.833512</td>\n",
       "      <td>70.578065</td>\n",
       "      <td>22.787104</td>\n",
       "      <td>0.151260</td>\n",
       "      <td>0.576843</td>\n",
       "    </tr>\n",
       "    <tr>\n",
       "      <th>min</th>\n",
       "      <td>50.000000</td>\n",
       "      <td>1.000000</td>\n",
       "      <td>0.000000</td>\n",
       "      <td>0.000000</td>\n",
       "      <td>0.000000</td>\n",
       "      <td>-1.000000</td>\n",
       "      <td>-1.000000</td>\n",
       "      <td>1.000000</td>\n",
       "      <td>-1.000000</td>\n",
       "      <td>0.000000</td>\n",
       "      <td>0.500000</td>\n",
       "      <td>-1.000000</td>\n",
       "    </tr>\n",
       "    <tr>\n",
       "      <th>25%</th>\n",
       "      <td>100.000000</td>\n",
       "      <td>2.000000</td>\n",
       "      <td>0.000000</td>\n",
       "      <td>131.250000</td>\n",
       "      <td>0.250000</td>\n",
       "      <td>12.000000</td>\n",
       "      <td>3.000000</td>\n",
       "      <td>1.000000</td>\n",
       "      <td>40.000000</td>\n",
       "      <td>25.000000</td>\n",
       "      <td>1.000000</td>\n",
       "      <td>0.670000</td>\n",
       "    </tr>\n",
       "    <tr>\n",
       "      <th>50%</th>\n",
       "      <td>110.000000</td>\n",
       "      <td>2.000000</td>\n",
       "      <td>1.000000</td>\n",
       "      <td>180.000000</td>\n",
       "      <td>1.500000</td>\n",
       "      <td>14.000000</td>\n",
       "      <td>6.000000</td>\n",
       "      <td>2.000000</td>\n",
       "      <td>90.000000</td>\n",
       "      <td>25.000000</td>\n",
       "      <td>1.000000</td>\n",
       "      <td>0.750000</td>\n",
       "    </tr>\n",
       "    <tr>\n",
       "      <th>75%</th>\n",
       "      <td>110.000000</td>\n",
       "      <td>3.000000</td>\n",
       "      <td>1.000000</td>\n",
       "      <td>217.500000</td>\n",
       "      <td>3.000000</td>\n",
       "      <td>17.000000</td>\n",
       "      <td>10.750000</td>\n",
       "      <td>3.000000</td>\n",
       "      <td>113.750000</td>\n",
       "      <td>25.000000</td>\n",
       "      <td>1.000000</td>\n",
       "      <td>1.000000</td>\n",
       "    </tr>\n",
       "    <tr>\n",
       "      <th>max</th>\n",
       "      <td>160.000000</td>\n",
       "      <td>6.000000</td>\n",
       "      <td>5.000000</td>\n",
       "      <td>320.000000</td>\n",
       "      <td>14.000000</td>\n",
       "      <td>23.000000</td>\n",
       "      <td>15.000000</td>\n",
       "      <td>3.000000</td>\n",
       "      <td>330.000000</td>\n",
       "      <td>100.000000</td>\n",
       "      <td>1.500000</td>\n",
       "      <td>1.500000</td>\n",
       "    </tr>\n",
       "  </tbody>\n",
       "</table>\n",
       "</div>"
      ],
      "text/plain": [
       "         Calories  Protein (g)        Fat      Sodium  Dietary Fiber  \\\n",
       "count   74.000000    74.000000  74.000000   74.000000      74.000000   \n",
       "mean   105.540541     2.500000   0.945946  160.675676       2.090541   \n",
       "std     18.442201     1.088546   0.963610   85.188447       2.404002   \n",
       "min     50.000000     1.000000   0.000000    0.000000       0.000000   \n",
       "25%    100.000000     2.000000   0.000000  131.250000       0.250000   \n",
       "50%    110.000000     2.000000   1.000000  180.000000       1.500000   \n",
       "75%    110.000000     3.000000   1.000000  217.500000       3.000000   \n",
       "max    160.000000     6.000000   5.000000  320.000000      14.000000   \n",
       "\n",
       "           Carbs     Sugars  Display Shelf   Potassium  Vitamins and Minerals  \\\n",
       "count  74.000000  74.000000      74.000000   74.000000              74.000000   \n",
       "mean   14.594595   6.770270       2.175676   92.675676              28.378378   \n",
       "std     4.349205   4.467684       0.833512   70.578065              22.787104   \n",
       "min    -1.000000  -1.000000       1.000000   -1.000000               0.000000   \n",
       "25%    12.000000   3.000000       1.000000   40.000000              25.000000   \n",
       "50%    14.000000   6.000000       2.000000   90.000000              25.000000   \n",
       "75%    17.000000  10.750000       3.000000  113.750000              25.000000   \n",
       "max    23.000000  15.000000       3.000000  330.000000             100.000000   \n",
       "\n",
       "       Serving Size Weight  Cups per Serving  \n",
       "count            74.000000         74.000000  \n",
       "mean              1.027432          0.629054  \n",
       "std               0.151260          0.576843  \n",
       "min               0.500000         -1.000000  \n",
       "25%               1.000000          0.670000  \n",
       "50%               1.000000          0.750000  \n",
       "75%               1.000000          1.000000  \n",
       "max               1.500000          1.500000  "
      ]
     },
     "execution_count": 41,
     "metadata": {},
     "output_type": "execute_result"
    }
   ],
   "source": [
    "df.describe()"
   ]
  },
  {
   "cell_type": "code",
   "execution_count": 42,
   "metadata": {
    "colab": {
     "base_uri": "https://localhost:8080/",
     "height": 265
    },
    "executionInfo": {
     "elapsed": 568,
     "status": "ok",
     "timestamp": 1614119761006,
     "user": {
      "displayName": "Daniel Felipe Fragua Rengifo",
      "photoUrl": "",
      "userId": "09845551813303536248"
     },
     "user_tz": 300
    },
    "id": "SFCYJ578sZfa",
    "outputId": "35b5c70b-e40c-4d3c-c84f-ceadd9d1283e"
   },
   "outputs": [
    {
     "data": {
      "image/png": "[encoded data removed]",
      "text/plain": [
       "<Figure size 432x288 with 1 Axes>"
      ]
     },
     "metadata": {
      "needs_background": "light"
     },
     "output_type": "display_data"
    }
   ],
   "source": [
    "df['Potassium'].plot.hist(alpha = 0.5);\n",
    "#El punto y coma impide que se escriba en pantalla el objeto de Matplotlib."
   ]
  },
  {
   "cell_type": "code",
   "execution_count": 43,
   "metadata": {
    "colab": {
     "base_uri": "https://localhost:8080/",
     "height": 265
    },
    "executionInfo": {
     "elapsed": 723,
     "status": "ok",
     "timestamp": 1614119763243,
     "user": {
      "displayName": "Daniel Felipe Fragua Rengifo",
      "photoUrl": "",
      "userId": "09845551813303536248"
     },
     "user_tz": 300
    },
    "id": "ENgvog32J7eu",
    "outputId": "e56ce51b-8106-4e57-eaef-401d4a862870"
   },
   "outputs": [
    {
     "data": {
      "image/png": "[encoded data removed]",
      "text/plain": [
       "<Figure size 432x288 with 1 Axes>"
      ]
     },
     "metadata": {
      "needs_background": "light"
     },
     "output_type": "display_data"
    }
   ],
   "source": [
    "# Nota: Esta forma de indexado se verá en detalle en la siguiente guía.\n",
    "df[['Potassium', 'Sodium', 'Vitamins and Minerals']].plot.hist(alpha = 0.5);"
   ]
  },
  {
   "cell_type": "markdown",
   "metadata": {
    "id": "YUQrT7MkAe6O"
   },
   "source": [
    "### **7.2. Gráfica de líneas**\n",
    "---\n",
    "Una **gráfica de líneas** es la representación de la evolución de una variable numérica en relación a otra variable ordenada, comúnmente, en el tiempo. Permite identificar patrones o tendencias en los datos y comparar la evolución de varias variables.\n",
    "\n",
    "Se puede generar una gráfica de líneas con el siguiente método:\n",
    "\n",
    "> **`df.plot.line(x, y)`**\n",
    "\n",
    "Las gráficas de líneas requieren de por lo menos dos variables numéricas que representen la posición de cada eje. Estas variables se pasan como argumento con el nombre de la etiqueta de sus columnas correspondientes. La primera corresponde al eje x. El segundo argumento acepta múltiples variables, en forma de lista o arreglo, que producirán líneas independientes superpuestas."
   ]
  },
  {
   "cell_type": "code",
   "execution_count": 44,
   "metadata": {
    "colab": {
     "base_uri": "https://localhost:8080/",
     "height": 419
    },
    "executionInfo": {
     "elapsed": 387,
     "status": "ok",
     "timestamp": 1614119778511,
     "user": {
      "displayName": "Daniel Felipe Fragua Rengifo",
      "photoUrl": "",
      "userId": "09845551813303536248"
     },
     "user_tz": 300
    },
    "id": "UsH92FihIrJA",
    "outputId": "ad669928-52e0-4f5e-fcb8-cf3464daba00"
   },
   "outputs": [
    {
     "data": {
      "text/html": [
       "<div>\n",
       "<style scoped>\n",
       "    .dataframe tbody tr th:only-of-type {\n",
       "        vertical-align: middle;\n",
       "    }\n",
       "\n",
       "    .dataframe tbody tr th {\n",
       "        vertical-align: top;\n",
       "    }\n",
       "\n",
       "    .dataframe thead th {\n",
       "        text-align: right;\n",
       "    }\n",
       "</style>\n",
       "<table border=\"1\" class=\"dataframe\">\n",
       "  <thead>\n",
       "    <tr style=\"text-align: right;\">\n",
       "      <th></th>\n",
       "      <th>x</th>\n",
       "      <th>y</th>\n",
       "      <th>z</th>\n",
       "    </tr>\n",
       "  </thead>\n",
       "  <tbody>\n",
       "    <tr>\n",
       "      <th>0</th>\n",
       "      <td>0.000000</td>\n",
       "      <td>-1.294085</td>\n",
       "      <td>0.253816</td>\n",
       "    </tr>\n",
       "    <tr>\n",
       "      <th>1</th>\n",
       "      <td>0.010101</td>\n",
       "      <td>-2.332874</td>\n",
       "      <td>0.537542</td>\n",
       "    </tr>\n",
       "    <tr>\n",
       "      <th>2</th>\n",
       "      <td>0.020202</td>\n",
       "      <td>-0.589161</td>\n",
       "      <td>-0.874347</td>\n",
       "    </tr>\n",
       "    <tr>\n",
       "      <th>3</th>\n",
       "      <td>0.030303</td>\n",
       "      <td>-1.387224</td>\n",
       "      <td>-2.751216</td>\n",
       "    </tr>\n",
       "    <tr>\n",
       "      <th>4</th>\n",
       "      <td>0.040404</td>\n",
       "      <td>-1.357541</td>\n",
       "      <td>-3.770871</td>\n",
       "    </tr>\n",
       "    <tr>\n",
       "      <th>...</th>\n",
       "      <td>...</td>\n",
       "      <td>...</td>\n",
       "      <td>...</td>\n",
       "    </tr>\n",
       "    <tr>\n",
       "      <th>95</th>\n",
       "      <td>0.959596</td>\n",
       "      <td>6.101073</td>\n",
       "      <td>-11.199438</td>\n",
       "    </tr>\n",
       "    <tr>\n",
       "      <th>96</th>\n",
       "      <td>0.969697</td>\n",
       "      <td>6.557344</td>\n",
       "      <td>-10.568950</td>\n",
       "    </tr>\n",
       "    <tr>\n",
       "      <th>97</th>\n",
       "      <td>0.979798</td>\n",
       "      <td>8.101888</td>\n",
       "      <td>-12.721443</td>\n",
       "    </tr>\n",
       "    <tr>\n",
       "      <th>98</th>\n",
       "      <td>0.989899</td>\n",
       "      <td>7.862219</td>\n",
       "      <td>-14.186559</td>\n",
       "    </tr>\n",
       "    <tr>\n",
       "      <th>99</th>\n",
       "      <td>1.000000</td>\n",
       "      <td>8.005527</td>\n",
       "      <td>-13.823114</td>\n",
       "    </tr>\n",
       "  </tbody>\n",
       "</table>\n",
       "<p>100 rows × 3 columns</p>\n",
       "</div>"
      ],
      "text/plain": [
       "           x         y          z\n",
       "0   0.000000 -1.294085   0.253816\n",
       "1   0.010101 -2.332874   0.537542\n",
       "2   0.020202 -0.589161  -0.874347\n",
       "3   0.030303 -1.387224  -2.751216\n",
       "4   0.040404 -1.357541  -3.770871\n",
       "..       ...       ...        ...\n",
       "95  0.959596  6.101073 -11.199438\n",
       "96  0.969697  6.557344 -10.568950\n",
       "97  0.979798  8.101888 -12.721443\n",
       "98  0.989899  7.862219 -14.186559\n",
       "99  1.000000  8.005527 -13.823114\n",
       "\n",
       "[100 rows x 3 columns]"
      ]
     },
     "execution_count": 44,
     "metadata": {},
     "output_type": "execute_result"
    }
   ],
   "source": [
    "x = np.linspace(0, 1, 100)\n",
    "y = np.random.randn(100).cumsum()\n",
    "z = np.random.randn(100).cumsum()\n",
    "\n",
    "df_line = pd.DataFrame({'x': x,\n",
    "                   'y': y,\n",
    "                   'z': z})\n",
    "\n",
    "df_line"
   ]
  },
  {
   "cell_type": "code",
   "execution_count": 45,
   "metadata": {
    "colab": {
     "base_uri": "https://localhost:8080/",
     "height": 279
    },
    "executionInfo": {
     "elapsed": 524,
     "status": "ok",
     "timestamp": 1614119778943,
     "user": {
      "displayName": "Daniel Felipe Fragua Rengifo",
      "photoUrl": "",
      "userId": "09845551813303536248"
     },
     "user_tz": 300
    },
    "id": "eWDvJ-DSJ4Ke",
    "outputId": "931f07e4-9afc-4845-dd93-e9e116253d50"
   },
   "outputs": [
    {
     "data": {
      "image/png": "[encoded data removed]",
      "text/plain": [
       "<Figure size 432x288 with 1 Axes>"
      ]
     },
     "metadata": {
      "needs_background": "light"
     },
     "output_type": "display_data"
    }
   ],
   "source": [
    "df_line.plot.line('x', ['y', 'z']);"
   ]
  },
  {
   "cell_type": "markdown",
   "metadata": {
    "id": "1Q_qQfoTAfB3"
   },
   "source": [
    "### **7.3. Gráfica de dispersión o *Scatter***\n",
    "---\n",
    "Un **diagrama de dispersión** (***scatter plot*** en inglés) es una representación espacial de la relación entre dos variables. Es usada principalmente para identificar e ilustrar relaciones lineales y no lineales entre variables cuantitativas.\n",
    "\n",
    "Se puede generar un diagrama de dispersión con el siguiente método:\n",
    "\n",
    "> **`df.plot.scatter(x, y, s, c)`**\n",
    "\n",
    "Las gráficas de dispersión requieren los mismos argumentos que las gráficas de líneas. El primer argumento se interpreta como el argumento de referencia usado en el eje x. El segundo argumento se interpreta como la variable que representa el eje vertical.\n",
    "\n",
    "El argumento **`s`** permite definir el radio de los círculos de cada punto.\n",
    "El argumento **`c`** permite definir el color de cada punto. Se puede usar una variable para codificar el radio o el color de los puntos. \n"
   ]
  },
  {
   "cell_type": "code",
   "execution_count": 46,
   "metadata": {
    "colab": {
     "base_uri": "https://localhost:8080/",
     "height": 279
    },
    "executionInfo": {
     "elapsed": 543,
     "status": "ok",
     "timestamp": 1614119784909,
     "user": {
      "displayName": "Daniel Felipe Fragua Rengifo",
      "photoUrl": "",
      "userId": "09845551813303536248"
     },
     "user_tz": 300
    },
    "id": "hlRg0D6dLq9E",
    "outputId": "d8f0efc2-38ca-4abb-ec23-1bdbb19ae8e8"
   },
   "outputs": [
    {
     "data": {
      "image/png": "[encoded data removed]",
      "text/plain": [
       "<Figure size 432x288 with 1 Axes>"
      ]
     },
     "metadata": {
      "needs_background": "light"
     },
     "output_type": "display_data"
    }
   ],
   "source": [
    "df.plot.scatter('Dietary Fiber', 'Potassium');           "
   ]
  },
  {
   "cell_type": "code",
   "execution_count": 47,
   "metadata": {
    "colab": {
     "base_uri": "https://localhost:8080/",
     "height": 279
    },
    "executionInfo": {
     "elapsed": 594,
     "status": "ok",
     "timestamp": 1614119791721,
     "user": {
      "displayName": "Daniel Felipe Fragua Rengifo",
      "photoUrl": "",
      "userId": "09845551813303536248"
     },
     "user_tz": 300
    },
    "id": "HATzEhUntn9b",
    "outputId": "54caea79-cfa4-4d5d-c0d4-3b47d8462f4c"
   },
   "outputs": [
    {
     "data": {
      "image/png": "[encoded data removed]",
      "text/plain": [
       "<Figure size 432x288 with 1 Axes>"
      ]
     },
     "metadata": {
      "needs_background": "light"
     },
     "output_type": "display_data"
    }
   ],
   "source": [
    "z = np.random.randint(10, 50, len(df))\n",
    "c = pd.Series(['red', 'blue', 'green']).sample(len(df), replace = True)\n",
    " \n",
    "df.plot.scatter('Dietary Fiber', 'Potassium',\n",
    "                 s = z, # Se pueden usar series/arreglos independientes como parámetros. \n",
    "                 c = c);"
   ]
  },
  {
   "cell_type": "markdown",
   "metadata": {
    "id": "pe1PZnyxAfH_"
   },
   "source": [
    "### **7.4. Gráfica de barras**\n",
    "---\n",
    "Una **gráfica de barras** es una representación de la frecuencia y distribución de variables categóricas. Se usa principalmente para hacer comparaciones de magnitud entre variables por cada categoría identificada.\n",
    "\n",
    "Se puede generar una gráfica de barras con el siguiente método:\n",
    "\n",
    "> **`df.plot.bar(x, y)`**\n",
    "\n",
    "En este caso, el primer argumento será interpretado como una variable categórica, donde cada categoría representa una barra distinta. Para el segundo argumento se permiten varias variables cuantitativas en forma de lista, que representarán la magnitud o longitud vertical de la barra.\n",
    "\n"
   ]
  },
  {
   "cell_type": "code",
   "execution_count": 48,
   "metadata": {
    "colab": {
     "base_uri": "https://localhost:8080/",
     "height": 385
    },
    "executionInfo": {
     "elapsed": 389,
     "status": "ok",
     "timestamp": 1614119861920,
     "user": {
      "displayName": "Daniel Felipe Fragua Rengifo",
      "photoUrl": "",
      "userId": "09845551813303536248"
     },
     "user_tz": 300
    },
    "id": "8tpwva47uDcd",
    "outputId": "ccc3795c-b7cc-49a5-e7f9-27b145f98bca"
   },
   "outputs": [
    {
     "data": {
      "text/html": [
       "<div>\n",
       "<style scoped>\n",
       "    .dataframe tbody tr th:only-of-type {\n",
       "        vertical-align: middle;\n",
       "    }\n",
       "\n",
       "    .dataframe tbody tr th {\n",
       "        vertical-align: top;\n",
       "    }\n",
       "\n",
       "    .dataframe thead th {\n",
       "        text-align: right;\n",
       "    }\n",
       "</style>\n",
       "<table border=\"1\" class=\"dataframe\">\n",
       "  <thead>\n",
       "    <tr style=\"text-align: right;\">\n",
       "      <th></th>\n",
       "      <th>Calories</th>\n",
       "      <th>Protein (g)</th>\n",
       "      <th>Fat</th>\n",
       "      <th>Sodium</th>\n",
       "      <th>Dietary Fiber</th>\n",
       "      <th>Carbs</th>\n",
       "      <th>Sugars</th>\n",
       "      <th>Display Shelf</th>\n",
       "      <th>Potassium</th>\n",
       "      <th>Vitamins and Minerals</th>\n",
       "      <th>Serving Size Weight</th>\n",
       "      <th>Cups per Serving</th>\n",
       "    </tr>\n",
       "    <tr>\n",
       "      <th>Manufacturer</th>\n",
       "      <th></th>\n",
       "      <th></th>\n",
       "      <th></th>\n",
       "      <th></th>\n",
       "      <th></th>\n",
       "      <th></th>\n",
       "      <th></th>\n",
       "      <th></th>\n",
       "      <th></th>\n",
       "      <th></th>\n",
       "      <th></th>\n",
       "      <th></th>\n",
       "    </tr>\n",
       "  </thead>\n",
       "  <tbody>\n",
       "    <tr>\n",
       "      <th>American Home Food Products</th>\n",
       "      <td>100.000000</td>\n",
       "      <td>4.000000</td>\n",
       "      <td>1.000000</td>\n",
       "      <td>0.000000</td>\n",
       "      <td>0.000000</td>\n",
       "      <td>16.000000</td>\n",
       "      <td>3.000000</td>\n",
       "      <td>2.000000</td>\n",
       "      <td>95.000000</td>\n",
       "      <td>25.000000</td>\n",
       "      <td>1.000000</td>\n",
       "      <td>-1.000000</td>\n",
       "    </tr>\n",
       "    <tr>\n",
       "      <th>General Mills</th>\n",
       "      <td>111.363636</td>\n",
       "      <td>2.318182</td>\n",
       "      <td>1.363636</td>\n",
       "      <td>200.454545</td>\n",
       "      <td>1.272727</td>\n",
       "      <td>14.727273</td>\n",
       "      <td>7.954545</td>\n",
       "      <td>2.136364</td>\n",
       "      <td>85.227273</td>\n",
       "      <td>35.227273</td>\n",
       "      <td>1.049091</td>\n",
       "      <td>0.875000</td>\n",
       "    </tr>\n",
       "    <tr>\n",
       "      <th>Kelloggs</th>\n",
       "      <td>108.695652</td>\n",
       "      <td>2.652174</td>\n",
       "      <td>0.608696</td>\n",
       "      <td>174.782609</td>\n",
       "      <td>2.739130</td>\n",
       "      <td>15.130435</td>\n",
       "      <td>7.565217</td>\n",
       "      <td>2.347826</td>\n",
       "      <td>103.043478</td>\n",
       "      <td>34.782609</td>\n",
       "      <td>1.077826</td>\n",
       "      <td>0.622174</td>\n",
       "    </tr>\n",
       "    <tr>\n",
       "      <th>Nabisco</th>\n",
       "      <td>86.666667</td>\n",
       "      <td>2.833333</td>\n",
       "      <td>0.166667</td>\n",
       "      <td>37.500000</td>\n",
       "      <td>4.000000</td>\n",
       "      <td>16.000000</td>\n",
       "      <td>1.833333</td>\n",
       "      <td>1.666667</td>\n",
       "      <td>120.666667</td>\n",
       "      <td>8.333333</td>\n",
       "      <td>0.971667</td>\n",
       "      <td>0.111667</td>\n",
       "    </tr>\n",
       "    <tr>\n",
       "      <th>Post</th>\n",
       "      <td>107.500000</td>\n",
       "      <td>2.375000</td>\n",
       "      <td>0.750000</td>\n",
       "      <td>144.375000</td>\n",
       "      <td>2.500000</td>\n",
       "      <td>13.375000</td>\n",
       "      <td>8.625000</td>\n",
       "      <td>2.375000</td>\n",
       "      <td>103.125000</td>\n",
       "      <td>25.000000</td>\n",
       "      <td>1.041250</td>\n",
       "      <td>0.720000</td>\n",
       "    </tr>\n",
       "    <tr>\n",
       "      <th>Quaker Oats</th>\n",
       "      <td>95.000000</td>\n",
       "      <td>2.625000</td>\n",
       "      <td>1.750000</td>\n",
       "      <td>92.500000</td>\n",
       "      <td>1.337500</td>\n",
       "      <td>10.000000</td>\n",
       "      <td>5.250000</td>\n",
       "      <td>2.375000</td>\n",
       "      <td>74.375000</td>\n",
       "      <td>12.500000</td>\n",
       "      <td>0.875000</td>\n",
       "      <td>0.323750</td>\n",
       "    </tr>\n",
       "    <tr>\n",
       "      <th>Ralston Purina</th>\n",
       "      <td>103.333333</td>\n",
       "      <td>2.000000</td>\n",
       "      <td>0.666667</td>\n",
       "      <td>223.333333</td>\n",
       "      <td>1.500000</td>\n",
       "      <td>18.166667</td>\n",
       "      <td>4.500000</td>\n",
       "      <td>1.666667</td>\n",
       "      <td>62.333333</td>\n",
       "      <td>25.000000</td>\n",
       "      <td>1.000000</td>\n",
       "      <td>0.828333</td>\n",
       "    </tr>\n",
       "  </tbody>\n",
       "</table>\n",
       "</div>"
      ],
      "text/plain": [
       "                               Calories  Protein (g)       Fat      Sodium  \\\n",
       "Manufacturer                                                                 \n",
       "American Home Food Products  100.000000     4.000000  1.000000    0.000000   \n",
       "General Mills                111.363636     2.318182  1.363636  200.454545   \n",
       "Kelloggs                     108.695652     2.652174  0.608696  174.782609   \n",
       "Nabisco                       86.666667     2.833333  0.166667   37.500000   \n",
       "Post                         107.500000     2.375000  0.750000  144.375000   \n",
       "Quaker Oats                   95.000000     2.625000  1.750000   92.500000   \n",
       "Ralston Purina               103.333333     2.000000  0.666667  223.333333   \n",
       "\n",
       "                             Dietary Fiber      Carbs    Sugars  \\\n",
       "Manufacturer                                                      \n",
       "American Home Food Products       0.000000  16.000000  3.000000   \n",
       "General Mills                     1.272727  14.727273  7.954545   \n",
       "Kelloggs                          2.739130  15.130435  7.565217   \n",
       "Nabisco                           4.000000  16.000000  1.833333   \n",
       "Post                              2.500000  13.375000  8.625000   \n",
       "Quaker Oats                       1.337500  10.000000  5.250000   \n",
       "Ralston Purina                    1.500000  18.166667  4.500000   \n",
       "\n",
       "                             Display Shelf   Potassium  Vitamins and Minerals  \\\n",
       "Manufacturer                                                                    \n",
       "American Home Food Products       2.000000   95.000000              25.000000   \n",
       "General Mills                     2.136364   85.227273              35.227273   \n",
       "Kelloggs                          2.347826  103.043478              34.782609   \n",
       "Nabisco                           1.666667  120.666667               8.333333   \n",
       "Post                              2.375000  103.125000              25.000000   \n",
       "Quaker Oats                       2.375000   74.375000              12.500000   \n",
       "Ralston Purina                    1.666667   62.333333              25.000000   \n",
       "\n",
       "                             Serving Size Weight  Cups per Serving  \n",
       "Manufacturer                                                        \n",
       "American Home Food Products             1.000000         -1.000000  \n",
       "General Mills                           1.049091          0.875000  \n",
       "Kelloggs                                1.077826          0.622174  \n",
       "Nabisco                                 0.971667          0.111667  \n",
       "Post                                    1.041250          0.720000  \n",
       "Quaker Oats                             0.875000          0.323750  \n",
       "Ralston Purina                          1.000000          0.828333  "
      ]
     },
     "execution_count": 48,
     "metadata": {},
     "output_type": "execute_result"
    }
   ],
   "source": [
    "df_means = df.groupby('Manufacturer').mean()\n",
    "\n",
    "df_means"
   ]
  },
  {
   "cell_type": "code",
   "execution_count": 49,
   "metadata": {
    "colab": {
     "base_uri": "https://localhost:8080/",
     "height": 422
    },
    "executionInfo": {
     "elapsed": 576,
     "status": "ok",
     "timestamp": 1614119870627,
     "user": {
      "displayName": "Daniel Felipe Fragua Rengifo",
      "photoUrl": "",
      "userId": "09845551813303536248"
     },
     "user_tz": 300
    },
    "id": "0kj9oc6oRJFd",
    "outputId": "9d9c5091-d877-40aa-fd5e-6c923d4c82bf"
   },
   "outputs": [
    {
     "data": {
      "image/png": "[encoded data removed]",
      "text/plain": [
       "<Figure size 432x288 with 1 Axes>"
      ]
     },
     "metadata": {
      "needs_background": "light"
     },
     "output_type": "display_data"
    }
   ],
   "source": [
    "#Si x no se indica, se usa el índice del DataFrame.\n",
    "\n",
    "df_means.plot.bar(y = ['Calories', 'Potassium', 'Sodium']);"
   ]
  },
  {
   "cell_type": "markdown",
   "metadata": {
    "id": "JNgipCt0AfMW"
   },
   "source": [
    "### **7.5. Diagrama de cajas**\n",
    "---\n",
    "\n",
    "Un **diagrama de cajas** es la representación que muestra a simple vista la mediana, los cuartiles, el mínimo, el máximo y el rango. También puede representar los valores atípicos.\n",
    "\n",
    "Se puede generar un diagrama de cajas con el siguiente método:\n",
    "\n",
    "> **`df.plot.box(by)`**\n",
    "\n",
    "El argumento **`by`** recibe las columnas que se van a usar para construir diagramas de cajas independientes. Cada variable cuantitativa en la lista tiene una representación propia.\n"
   ]
  },
  {
   "cell_type": "code",
   "execution_count": 50,
   "metadata": {
    "colab": {
     "base_uri": "https://localhost:8080/",
     "height": 265
    },
    "executionInfo": {
     "elapsed": 353,
     "status": "ok",
     "timestamp": 1614119888136,
     "user": {
      "displayName": "Daniel Felipe Fragua Rengifo",
      "photoUrl": "",
      "userId": "09845551813303536248"
     },
     "user_tz": 300
    },
    "id": "aP8C2Qyud-1o",
    "outputId": "b29dceaa-6eeb-4778-e42e-3e9364e58747"
   },
   "outputs": [
    {
     "data": {
      "image/png": "[encoded data removed]",
      "text/plain": [
       "<Figure size 432x288 with 1 Axes>"
      ]
     },
     "metadata": {
      "needs_background": "light"
     },
     "output_type": "display_data"
    }
   ],
   "source": [
    "df['Sugars'].plot.box();"
   ]
  },
  {
   "cell_type": "code",
   "execution_count": 51,
   "metadata": {
    "colab": {
     "base_uri": "https://localhost:8080/",
     "height": 265
    },
    "executionInfo": {
     "elapsed": 470,
     "status": "ok",
     "timestamp": 1614119892884,
     "user": {
      "displayName": "Daniel Felipe Fragua Rengifo",
      "photoUrl": "",
      "userId": "09845551813303536248"
     },
     "user_tz": 300
    },
    "id": "gjLLHWdvus8c",
    "outputId": "f50f27dc-608f-4704-ecaa-b2eb0205581d"
   },
   "outputs": [
    {
     "data": {
      "image/png": "[encoded data removed]",
      "text/plain": [
       "<Figure size 432x288 with 1 Axes>"
      ]
     },
     "metadata": {
      "needs_background": "light"
     },
     "output_type": "display_data"
    }
   ],
   "source": [
    "# Los puntos representan valores atípicos en la distribución.\n",
    "\n",
    "df[['Sodium', 'Calories', 'Potassium'] ].plot.box();"
   ]
  },
  {
   "cell_type": "markdown",
   "metadata": {
    "id": "VuSfa1DBAfPw"
   },
   "source": [
    "### **7.6. Gráfica circular**\n",
    "---\n",
    "\n",
    "Una **gráfica circular** o de torta es una representación de las proporciones o porcentajes de los valores en una variable categórica. Permite visualizar de forma sencilla la proporción numérica de los posibles valores de una variable. A pesar de ser muy popular, existen otras representaciones más efectivas para conseguir el objetivo deseado como los diagramas de barras.\n",
    "\n",
    "Se puede generar una gráfica circular con el siguiente método:\n",
    "\n",
    "> **`df.plot.pie(y)`**\n",
    "\n",
    "El argumento **`y`** recibe la columna a graficar. Con esta columna, se graficarán los segmentos de la gráfica por cada índice o registro en el objeto."
   ]
  },
  {
   "cell_type": "code",
   "execution_count": 52,
   "metadata": {
    "colab": {
     "base_uri": "https://localhost:8080/",
     "height": 248
    },
    "executionInfo": {
     "elapsed": 1213,
     "status": "ok",
     "timestamp": 1614119907348,
     "user": {
      "displayName": "Daniel Felipe Fragua Rengifo",
      "photoUrl": "",
      "userId": "09845551813303536248"
     },
     "user_tz": 300
    },
    "id": "w-ZG1niIdB1P",
    "outputId": "3f3e2b11-f710-4b00-99dd-1f47bf57feb6"
   },
   "outputs": [
    {
     "data": {
      "image/png": "[encoded data removed]",
      "text/plain": [
       "<Figure size 432x288 with 1 Axes>"
      ]
     },
     "metadata": {},
     "output_type": "display_data"
    }
   ],
   "source": [
    "df['Manufacturer'].value_counts().plot.pie();"
   ]
  },
  {
   "cell_type": "markdown",
   "metadata": {
    "id": "472IbuvlAfTG"
   },
   "source": [
    "### **7.7. Gráfica de áreas**\n",
    "---\n",
    "\n",
    "Una **gráfica de áreas** o de **áreas apiladas** es una representación de la proporción o magnitud de varias variables en relación a una variable ordenada, como el tiempo. Es usada para comparar la evolución y magnitud de variables.\n",
    "\n",
    "Se puede generar una gráfica de áreas con el siguiente método:\n",
    "\n",
    "> **`df.plot.area(x, y)`**\n",
    "\n",
    "Al igual que en las gráficas de líneas y de dispersión, las gráficas de áreas reciben como primer argumento una variable de control para el eje **x** y una o más variables como segundo argumento.\n"
   ]
  },
  {
   "cell_type": "code",
   "execution_count": 53,
   "metadata": {
    "colab": {
     "base_uri": "https://localhost:8080/",
     "height": 419
    },
    "executionInfo": {
     "elapsed": 352,
     "status": "ok",
     "timestamp": 1614119927147,
     "user": {
      "displayName": "Daniel Felipe Fragua Rengifo",
      "photoUrl": "",
      "userId": "09845551813303536248"
     },
     "user_tz": 300
    },
    "id": "M55RIjLLfRPQ",
    "outputId": "3eab729c-c025-4e36-de89-b72b027fa988"
   },
   "outputs": [
    {
     "data": {
      "text/html": [
       "<div>\n",
       "<style scoped>\n",
       "    .dataframe tbody tr th:only-of-type {\n",
       "        vertical-align: middle;\n",
       "    }\n",
       "\n",
       "    .dataframe tbody tr th {\n",
       "        vertical-align: top;\n",
       "    }\n",
       "\n",
       "    .dataframe thead th {\n",
       "        text-align: right;\n",
       "    }\n",
       "</style>\n",
       "<table border=\"1\" class=\"dataframe\">\n",
       "  <thead>\n",
       "    <tr style=\"text-align: right;\">\n",
       "      <th></th>\n",
       "      <th>x</th>\n",
       "      <th>y</th>\n",
       "      <th>z</th>\n",
       "      <th>w</th>\n",
       "    </tr>\n",
       "  </thead>\n",
       "  <tbody>\n",
       "    <tr>\n",
       "      <th>0</th>\n",
       "      <td>0.000000</td>\n",
       "      <td>9</td>\n",
       "      <td>11</td>\n",
       "      <td>40</td>\n",
       "    </tr>\n",
       "    <tr>\n",
       "      <th>1</th>\n",
       "      <td>0.010101</td>\n",
       "      <td>15</td>\n",
       "      <td>28</td>\n",
       "      <td>72</td>\n",
       "    </tr>\n",
       "    <tr>\n",
       "      <th>2</th>\n",
       "      <td>0.020202</td>\n",
       "      <td>20</td>\n",
       "      <td>29</td>\n",
       "      <td>103</td>\n",
       "    </tr>\n",
       "    <tr>\n",
       "      <th>3</th>\n",
       "      <td>0.030303</td>\n",
       "      <td>27</td>\n",
       "      <td>40</td>\n",
       "      <td>133</td>\n",
       "    </tr>\n",
       "    <tr>\n",
       "      <th>4</th>\n",
       "      <td>0.040404</td>\n",
       "      <td>30</td>\n",
       "      <td>62</td>\n",
       "      <td>147</td>\n",
       "    </tr>\n",
       "    <tr>\n",
       "      <th>...</th>\n",
       "      <td>...</td>\n",
       "      <td>...</td>\n",
       "      <td>...</td>\n",
       "      <td>...</td>\n",
       "    </tr>\n",
       "    <tr>\n",
       "      <th>95</th>\n",
       "      <td>0.959596</td>\n",
       "      <td>446</td>\n",
       "      <td>1232</td>\n",
       "      <td>2703</td>\n",
       "    </tr>\n",
       "    <tr>\n",
       "      <th>96</th>\n",
       "      <td>0.969697</td>\n",
       "      <td>448</td>\n",
       "      <td>1251</td>\n",
       "      <td>2730</td>\n",
       "    </tr>\n",
       "    <tr>\n",
       "      <th>97</th>\n",
       "      <td>0.979798</td>\n",
       "      <td>450</td>\n",
       "      <td>1265</td>\n",
       "      <td>2733</td>\n",
       "    </tr>\n",
       "    <tr>\n",
       "      <th>98</th>\n",
       "      <td>0.989899</td>\n",
       "      <td>451</td>\n",
       "      <td>1288</td>\n",
       "      <td>2738</td>\n",
       "    </tr>\n",
       "    <tr>\n",
       "      <th>99</th>\n",
       "      <td>1.000000</td>\n",
       "      <td>451</td>\n",
       "      <td>1292</td>\n",
       "      <td>2756</td>\n",
       "    </tr>\n",
       "  </tbody>\n",
       "</table>\n",
       "<p>100 rows × 4 columns</p>\n",
       "</div>"
      ],
      "text/plain": [
       "           x    y     z     w\n",
       "0   0.000000    9    11    40\n",
       "1   0.010101   15    28    72\n",
       "2   0.020202   20    29   103\n",
       "3   0.030303   27    40   133\n",
       "4   0.040404   30    62   147\n",
       "..       ...  ...   ...   ...\n",
       "95  0.959596  446  1232  2703\n",
       "96  0.969697  448  1251  2730\n",
       "97  0.979798  450  1265  2733\n",
       "98  0.989899  451  1288  2738\n",
       "99  1.000000  451  1292  2756\n",
       "\n",
       "[100 rows x 4 columns]"
      ]
     },
     "execution_count": 53,
     "metadata": {},
     "output_type": "execute_result"
    }
   ],
   "source": [
    "x = np.linspace(0, 1, 100)\n",
    "y = np.random.randint(0, 10, 100).cumsum()\n",
    "z = np.random.randint(0, 25, 100).cumsum()\n",
    "w = np.random.randint(0, 50, 100).cumsum()\n",
    "\n",
    "\n",
    "df_area = pd.DataFrame({'x': x,\n",
    "                   'y': y,\n",
    "                   'z': z,\n",
    "                   'w': w})\n",
    "\n",
    "df_area"
   ]
  },
  {
   "cell_type": "code",
   "execution_count": 54,
   "metadata": {
    "colab": {
     "base_uri": "https://localhost:8080/",
     "height": 296
    },
    "executionInfo": {
     "elapsed": 789,
     "status": "ok",
     "timestamp": 1614119931196,
     "user": {
      "displayName": "Daniel Felipe Fragua Rengifo",
      "photoUrl": "",
      "userId": "09845551813303536248"
     },
     "user_tz": 300
    },
    "id": "DS5fF4QXfYfg",
    "outputId": "67ec0046-b211-4fe0-858d-a5c83e0f4994"
   },
   "outputs": [
    {
     "data": {
      "text/plain": [
       "<AxesSubplot:xlabel='x'>"
      ]
     },
     "execution_count": 54,
     "metadata": {},
     "output_type": "execute_result"
    },
    {
     "data": {
      "image/png": "[encoded data removed]",
      "text/plain": [
       "<Figure size 432x288 with 1 Axes>"
      ]
     },
     "metadata": {
      "needs_background": "light"
     },
     "output_type": "display_data"
    }
   ],
   "source": [
    "df_area.plot.area('x', ['y', 'z', 'w'])"
   ]
  },
  {
   "cell_type": "markdown",
   "metadata": {
    "id": "XDWVBdnUAfWx"
   },
   "source": [
    "### **7.8. Gráfica hexagonal**\n",
    "---\n",
    "Una **gráfica hexagonal** o ***hexagonal binning*** es una representación de la frecuencia de valores dentro de intervalos en dos variables distintas. Es considerada un histograma en un espacio bidimensional. Permite identificar concentraciones de valores asociados en dos variables. Es útil para datos con alta densidad.\n",
    "\n",
    "Se puede generar una gráfica hexagonal con el siguiente método:\n",
    "\n",
    "> **`df.plot.hexbin(x, y, gridsize)`**\n",
    "\n",
    "La gráfica hexagonal recibe dos argumentos. En este caso, ambos representan una columna o variable única. Además, se pueden definir funciones para la reducción de los valores de cada *bin*, o definir la cantidad de *bins* por eje con el argumento **`gridsize`**.\n"
   ]
  },
  {
   "cell_type": "code",
   "execution_count": 55,
   "metadata": {
    "colab": {
     "base_uri": "https://localhost:8080/",
     "height": 419
    },
    "executionInfo": {
     "elapsed": 370,
     "status": "ok",
     "timestamp": 1614119968139,
     "user": {
      "displayName": "Daniel Felipe Fragua Rengifo",
      "photoUrl": "",
      "userId": "09845551813303536248"
     },
     "user_tz": 300
    },
    "id": "wSNP-YHfTmPG",
    "outputId": "d36b1b44-3f86-4953-a138-f9b858436b5a"
   },
   "outputs": [
    {
     "data": {
      "text/html": [
       "<div>\n",
       "<style scoped>\n",
       "    .dataframe tbody tr th:only-of-type {\n",
       "        vertical-align: middle;\n",
       "    }\n",
       "\n",
       "    .dataframe tbody tr th {\n",
       "        vertical-align: top;\n",
       "    }\n",
       "\n",
       "    .dataframe thead th {\n",
       "        text-align: right;\n",
       "    }\n",
       "</style>\n",
       "<table border=\"1\" class=\"dataframe\">\n",
       "  <thead>\n",
       "    <tr style=\"text-align: right;\">\n",
       "      <th></th>\n",
       "      <th>x</th>\n",
       "      <th>y</th>\n",
       "    </tr>\n",
       "  </thead>\n",
       "  <tbody>\n",
       "    <tr>\n",
       "      <th>0</th>\n",
       "      <td>4.656922</td>\n",
       "      <td>9.540250</td>\n",
       "    </tr>\n",
       "    <tr>\n",
       "      <th>1</th>\n",
       "      <td>6.405311</td>\n",
       "      <td>10.780032</td>\n",
       "    </tr>\n",
       "    <tr>\n",
       "      <th>2</th>\n",
       "      <td>4.652848</td>\n",
       "      <td>9.420691</td>\n",
       "    </tr>\n",
       "    <tr>\n",
       "      <th>3</th>\n",
       "      <td>4.492217</td>\n",
       "      <td>7.940391</td>\n",
       "    </tr>\n",
       "    <tr>\n",
       "      <th>4</th>\n",
       "      <td>6.906119</td>\n",
       "      <td>11.587387</td>\n",
       "    </tr>\n",
       "    <tr>\n",
       "      <th>...</th>\n",
       "      <td>...</td>\n",
       "      <td>...</td>\n",
       "    </tr>\n",
       "    <tr>\n",
       "      <th>995</th>\n",
       "      <td>4.795905</td>\n",
       "      <td>11.675573</td>\n",
       "    </tr>\n",
       "    <tr>\n",
       "      <th>996</th>\n",
       "      <td>4.429617</td>\n",
       "      <td>8.729089</td>\n",
       "    </tr>\n",
       "    <tr>\n",
       "      <th>997</th>\n",
       "      <td>6.008036</td>\n",
       "      <td>11.344181</td>\n",
       "    </tr>\n",
       "    <tr>\n",
       "      <th>998</th>\n",
       "      <td>4.303140</td>\n",
       "      <td>11.631288</td>\n",
       "    </tr>\n",
       "    <tr>\n",
       "      <th>999</th>\n",
       "      <td>6.192012</td>\n",
       "      <td>12.738050</td>\n",
       "    </tr>\n",
       "  </tbody>\n",
       "</table>\n",
       "<p>1000 rows × 2 columns</p>\n",
       "</div>"
      ],
      "text/plain": [
       "            x          y\n",
       "0    4.656922   9.540250\n",
       "1    6.405311  10.780032\n",
       "2    4.652848   9.420691\n",
       "3    4.492217   7.940391\n",
       "4    6.906119  11.587387\n",
       "..        ...        ...\n",
       "995  4.795905  11.675573\n",
       "996  4.429617   8.729089\n",
       "997  6.008036  11.344181\n",
       "998  4.303140  11.631288\n",
       "999  6.192012  12.738050\n",
       "\n",
       "[1000 rows x 2 columns]"
      ]
     },
     "execution_count": 55,
     "metadata": {},
     "output_type": "execute_result"
    }
   ],
   "source": [
    "x = np.random.randn(1000) + 5\n",
    "y = 3 + 1.25 * x + 1.5 * np.random.randn(1000)\n",
    "\n",
    "\n",
    "df_hex = pd.DataFrame({'x': x,\n",
    "                   'y': y,})\n",
    "\n",
    "df_hex"
   ]
  },
  {
   "cell_type": "code",
   "execution_count": 56,
   "metadata": {
    "colab": {
     "base_uri": "https://localhost:8080/",
     "height": 254
    },
    "executionInfo": {
     "elapsed": 920,
     "status": "ok",
     "timestamp": 1614120027019,
     "user": {
      "displayName": "Daniel Felipe Fragua Rengifo",
      "photoUrl": "",
      "userId": "09845551813303536248"
     },
     "user_tz": 300
    },
    "id": "Gy80yBZkg_Kq",
    "outputId": "b142579e-e9d1-4272-cca9-b2a539f39faa"
   },
   "outputs": [
    {
     "data": {
      "image/png": "[encoded data removed]",
      "text/plain": [
       "<Figure size 432x288 with 2 Axes>"
      ]
     },
     "metadata": {
      "needs_background": "light"
     },
     "output_type": "display_data"
    }
   ],
   "source": [
    "df_hex.plot.hexbin('x', 'y', gridsize=10);"
   ]
  },
  {
   "cell_type": "markdown",
   "metadata": {
    "id": "4r5hSQAz6d-g"
   },
   "source": [
    "data/cereal.csv## **Recursos adicionales**\n",
    "---\n",
    "\n",
    "En este material se consideran algunas de las funciones más comunes, pero quedan muchas otras fuera de alcance. Lo invitamos a que consulte la [documentación oficial](https://pandas.pydata.org/pandas-docs/stable/reference/index.html), y en especial la [Guía de usuario](https://pandas.pydata.org/pandas-docs/stable/user_guide/index.html) de *pandas*. \n",
    "\n",
    "Además, a continuación se presenta una lista de recursos adicionales que le podrán ser de utilidad:\n",
    "\n",
    "*  [University of California San Diego. Coursera - Machine Learning With Big Data](https://www.coursera.org/learn/big-data-machine-learning)\n",
    "*  [Data vedas - Exploración y preparación de los datos](https://www.datavedas.com/data-exploration-and-preparation/)\n",
    "*  [Kaggle - Pandas](https://www.kaggle.com/learn/pandas)\n",
    "*  [CodeCademy - Learn Data Analysis with Pandas](https://www.codecademy.com/learn/data-processing-pandas)\n",
    "*  [University of Michigan. Coursera - Applied Data Science with Python Specialization](https://www.coursera.org/specializations/data-science-python)"
   ]
  }
 ],
 "metadata": {
  "colab": {
   "collapsed_sections": [],
   "name": "Pandas - Entendimiento de los datos - Parte 2.ipynb",
   "provenance": [
    {
     "file_id": "1I7N3viEYRoXRDXOY859wu6EUYFVDDB97",
     "timestamp": 1614115346908
    }
   ],
   "toc_visible": true
  },
  "kernelspec": {
   "display_name": "Python 3 (ipykernel)",
   "language": "python",
   "name": "python3"
  },
  "language_info": {
   "codemirror_mode": {
    "name": "ipython",
    "version": 3
   },
   "file_extension": ".py",
   "mimetype": "text/x-python",
   "name": "python",
   "nbconvert_exporter": "python",
   "pygments_lexer": "ipython3",
   "version": "3.9.7"
  }
 },
 "nbformat": 4,
 "nbformat_minor": 4
}
