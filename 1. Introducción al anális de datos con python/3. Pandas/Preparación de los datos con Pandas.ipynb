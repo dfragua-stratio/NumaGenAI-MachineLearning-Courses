{
 "cells": [
  {
   "cell_type": "markdown",
   "metadata": {
    "id": "kyyYqzShjxwL"
   },
   "source": [
    "# **Preparación de los datos con *pandas***\n",
    "---\n",
    "<img src = \"https://pandas.pydata.org/static/img/pandas.svg\" alt = \"pandas Logo\" width = \"70%\">  </img>\n",
    "\n",
    "En este material se discutirán las actividades propias de la fase de preparación de datos en un proyecto de análisis de datos, utilizando la librería de *Python* para el análisis y manipulación de datos ***pandas***. En las guías anteriores se discutió el proceso de entendimiento de datos, en el que se presentaron formas de obtener y explorar conjuntos de datos. Si bien se discutió el proceso de combinación y exploración de datos, esto se puede realizar iterativamente con las actividades de limpieza y preprocesamiento de los conjuntos de datos que serán discutidas en la presente guía."
   ]
  },
  {
   "cell_type": "code",
   "execution_count": null,
   "metadata": {
    "id": "If9LYvdhSImI"
   },
   "outputs": [],
   "source": [
    "import numpy as np\n",
    "import pandas as pd"
   ]
  },
  {
   "cell_type": "markdown",
   "metadata": {
    "id": "Uo2yi9iop-Xn"
   },
   "source": [
    "### **1.1. Datos**\n",
    "---\n",
    "En varios ejemplos de este material se trabajará usando como referencia el [*dataset* de *Kaggle*](https://www.kaggle.com/crawford/80-cereals) correspondiente a la información nutricional de un listado de 80 cereales. En varios ejemplos de este material se trabajará usando como referencia el [*dataset* de *Kaggle*](https://www.kaggle.com/crawford/80-cereals) correspondiente a la información nutricional de un listado de 80 cereales."
   ]
  },
  {
   "cell_type": "code",
   "execution_count": null,
   "metadata": {
    "id": "oRsuAhahgChe"
   },
   "outputs": [],
   "source": [
    "df = pd.read_csv('data/cereal.csv')"
   ]
  },
  {
   "cell_type": "markdown",
   "metadata": {
    "id": "1S1ckVw_iYpf"
   },
   "source": [
    "## **2. Selección y modificación de datos**\n",
    "---\n",
    "\n",
    "*Pandas* distingue entre dos tipos de índices usados para la selección de datos. Estas son las etiquetas y las posiciones de los objetos. Cada objeto en *pandas* (tanto las *Series* como los *DataFrame*) son objetos ordenados de datos asociados a un objeto de tipo **Index** cuyas etiquetas corresponden a cada fila o columna. Los índices son usados para poder acceder velozmente a los datos y para alinear tablas de gran tamaño. A continuación se discutirán las distintas formas permitidas de utilizar para seleccionar un subconjunto de los datos."
   ]
  },
  {
   "cell_type": "markdown",
   "metadata": {
    "id": "7yhX8k8Fi0oF"
   },
   "source": [
    "### **2.1. Selección y modificación básica**\n",
    "---\n",
    "\n",
    "Los objetos de *pandas* heredan la notación de llaves cuadradas para la selección de objetos. Esta funciona como en los diccionarios de *Python*.\n",
    "\n",
    "En los objetos *Series* el valor retornado con la selección básica corresponde al valor asociado a la etiqueta."
   ]
  },
  {
   "cell_type": "code",
   "execution_count": null,
   "metadata": {
    "colab": {
     "base_uri": "https://localhost:8080/"
    },
    "executionInfo": {
     "elapsed": 617,
     "status": "ok",
     "timestamp": 1614120753785,
     "user": {
      "displayName": "Daniel Felipe Fragua Rengifo",
      "photoUrl": "",
      "userId": "09845551813303536248"
     },
     "user_tz": 300
    },
    "id": "Ndk5U702N3uu",
    "outputId": "f10a96cd-f488-4546-de7b-3f266b896d92"
   },
   "outputs": [],
   "source": [
    "ser = pd.Series([1, 2, 3], index = ['a', 'b', 'c'])\n",
    "ser"
   ]
  },
  {
   "cell_type": "code",
   "execution_count": null,
   "metadata": {
    "colab": {
     "base_uri": "https://localhost:8080/"
    },
    "executionInfo": {
     "elapsed": 443,
     "status": "ok",
     "timestamp": 1614120754412,
     "user": {
      "displayName": "Daniel Felipe Fragua Rengifo",
      "photoUrl": "",
      "userId": "09845551813303536248"
     },
     "user_tz": 300
    },
    "id": "qQPbtyXaeziJ",
    "outputId": "c2508c20-0994-482a-f5b9-c6b52088f138"
   },
   "outputs": [],
   "source": [
    "ser['a']"
   ]
  },
  {
   "cell_type": "code",
   "execution_count": null,
   "metadata": {
    "colab": {
     "base_uri": "https://localhost:8080/"
    },
    "executionInfo": {
     "elapsed": 335,
     "status": "ok",
     "timestamp": 1614120755075,
     "user": {
      "displayName": "Daniel Felipe Fragua Rengifo",
      "photoUrl": "",
      "userId": "09845551813303536248"
     },
     "user_tz": 300
    },
    "id": "0CIY8UGzOGYq",
    "outputId": "ffc52fb9-6f72-444a-9946-c05d9a53967a"
   },
   "outputs": [],
   "source": [
    "# También se puede modificar directamente el contenido de los datos.\n",
    "\n",
    "ser['a'] = 0\n",
    "ser"
   ]
  },
  {
   "cell_type": "markdown",
   "metadata": {
    "id": "isse0SteOZUK"
   },
   "source": [
    "Este tipo de selección se basa en el contenido del objeto **`Index`**. Ubicar con posición no es válido con esta notación."
   ]
  },
  {
   "cell_type": "code",
   "execution_count": null,
   "metadata": {
    "colab": {
     "base_uri": "https://localhost:8080/"
    },
    "executionInfo": {
     "elapsed": 518,
     "status": "ok",
     "timestamp": 1614120757541,
     "user": {
      "displayName": "Daniel Felipe Fragua Rengifo",
      "photoUrl": "",
      "userId": "09845551813303536248"
     },
     "user_tz": 300
    },
    "id": "73GleIGCOPk2",
    "outputId": "cd9c4edd-bf11-4ebe-a350-d135ba95d3a7"
   },
   "outputs": [],
   "source": [
    "ser = pd.Series([100, 200, 300], index = [2, 3, 4])\n",
    "\n",
    "ser"
   ]
  },
  {
   "cell_type": "code",
   "execution_count": null,
   "metadata": {
    "colab": {
     "base_uri": "https://localhost:8080/"
    },
    "executionInfo": {
     "elapsed": 361,
     "status": "ok",
     "timestamp": 1614120758094,
     "user": {
      "displayName": "Daniel Felipe Fragua Rengifo",
      "photoUrl": "",
      "userId": "09845551813303536248"
     },
     "user_tz": 300
    },
    "id": "Al4RBuwPfUYm",
    "outputId": "4f8aa76e-4c0a-4282-a306-a3d8f58ab93c"
   },
   "outputs": [],
   "source": [
    "ser[2]  # Etiqueta 2, posición 0.\n",
    "\n",
    "# ser[0] # Si ejecutamos esta instrucción retornaría un error porque no existe la etiqueta 0 dentro de esta Serie."
   ]
  },
  {
   "cell_type": "markdown",
   "metadata": {
    "id": "xXNDvP3iPcJ7"
   },
   "source": [
    "Se pueden usar listas de etiquetas para obtener esos valores, en un objeto *Series* en el mismo orden en que se pasan."
   ]
  },
  {
   "cell_type": "code",
   "execution_count": null,
   "metadata": {
    "colab": {
     "base_uri": "https://localhost:8080/"
    },
    "executionInfo": {
     "elapsed": 405,
     "status": "ok",
     "timestamp": 1614120761240,
     "user": {
      "displayName": "Daniel Felipe Fragua Rengifo",
      "photoUrl": "",
      "userId": "09845551813303536248"
     },
     "user_tz": 300
    },
    "id": "7uXzW06_PZUZ",
    "outputId": "c28c753c-6d0f-40fd-ab98-b55cead472c2"
   },
   "outputs": [],
   "source": [
    "ser[[2,3]]"
   ]
  },
  {
   "cell_type": "code",
   "execution_count": null,
   "metadata": {
    "colab": {
     "base_uri": "https://localhost:8080/"
    },
    "executionInfo": {
     "elapsed": 258,
     "status": "ok",
     "timestamp": 1614120761438,
     "user": {
      "displayName": "Daniel Felipe Fragua Rengifo",
      "photoUrl": "",
      "userId": "09845551813303536248"
     },
     "user_tz": 300
    },
    "id": "cne6M0mmfd7s",
    "outputId": "137e2102-19eb-4b5f-961a-73e25f6b6081"
   },
   "outputs": [],
   "source": [
    "ser[[4,2]]"
   ]
  },
  {
   "cell_type": "markdown",
   "metadata": {
    "id": "uNZNz_DcOsSd"
   },
   "source": [
    "En los objetos de tipo *DataFrame* esta notación sirve para obtener los objetos *Series* en los que la etiqueta corresponda con el nombre de la **columna**. Las filas de un *DataFrame* no pueden ser accedidas con esta notación."
   ]
  },
  {
   "cell_type": "code",
   "execution_count": null,
   "metadata": {
    "colab": {
     "base_uri": "https://localhost:8080/",
     "height": 275
    },
    "executionInfo": {
     "elapsed": 455,
     "status": "ok",
     "timestamp": 1614120800823,
     "user": {
      "displayName": "Daniel Felipe Fragua Rengifo",
      "photoUrl": "",
      "userId": "09845551813303536248"
     },
     "user_tz": 300
    },
    "id": "p3DqBxP1O9P0",
    "outputId": "fdc40fe9-507a-4062-ea97-17a5d4540c41"
   },
   "outputs": [],
   "source": [
    "# Al igual que en las Series, los índices también podrían ser números.\n",
    "df.head()"
   ]
  },
  {
   "cell_type": "code",
   "execution_count": null,
   "metadata": {
    "colab": {
     "base_uri": "https://localhost:8080/"
    },
    "executionInfo": {
     "elapsed": 449,
     "status": "ok",
     "timestamp": 1614120801014,
     "user": {
      "displayName": "Daniel Felipe Fragua Rengifo",
      "photoUrl": "",
      "userId": "09845551813303536248"
     },
     "user_tz": 300
    },
    "id": "SfVklkD9PNKY",
    "outputId": "7d1d62d8-a6bf-40b4-f79f-b45b16a0295f"
   },
   "outputs": [],
   "source": [
    "df['Calories'] # Columna con etiqueta."
   ]
  },
  {
   "cell_type": "code",
   "execution_count": null,
   "metadata": {
    "colab": {
     "base_uri": "https://localhost:8080/",
     "height": 275
    },
    "executionInfo": {
     "elapsed": 355,
     "status": "ok",
     "timestamp": 1614120802669,
     "user": {
      "displayName": "Daniel Felipe Fragua Rengifo",
      "photoUrl": "",
      "userId": "09845551813303536248"
     },
     "user_tz": 300
    },
    "id": "OepBg8staHvE",
    "outputId": "6484fd18-b398-4c62-9fe6-31dd574146e4"
   },
   "outputs": [],
   "source": [
    "df['Dietary Fiber'] = -1 # Se pueden reasignar columnas enteras. Los valores aceptados son varios, y se discutirán en las siguientes secciones.\n",
    "\n",
    "df.head()"
   ]
  },
  {
   "cell_type": "code",
   "execution_count": null,
   "metadata": {
    "colab": {
     "base_uri": "https://localhost:8080/",
     "height": 275
    },
    "executionInfo": {
     "elapsed": 372,
     "status": "ok",
     "timestamp": 1614120822309,
     "user": {
      "displayName": "Daniel Felipe Fragua Rengifo",
      "photoUrl": "",
      "userId": "09845551813303536248"
     },
     "user_tz": 300
    },
    "id": "0c8LhmDTZ8CJ",
    "outputId": "916cfc83-8c10-417a-88e7-a71d531cf861"
   },
   "outputs": [],
   "source": [
    "#Se pueden crear columnas nuevas si al asignar no existe ninguna etiqueta que corresponda.\n",
    "\n",
    "df['Nueva'] = 100\n",
    "\n",
    "df.head() # Desplazar la barra de scroll para ver la columna nueva al final del dataset."
   ]
  },
  {
   "cell_type": "markdown",
   "metadata": {
    "id": "EPJJh70rP19y"
   },
   "source": [
    "En este caso, se pueden pasar como argumento listas de etiquetas que correspondan a las columnas que se desee obtener, en el mismo orden especificado."
   ]
  },
  {
   "cell_type": "code",
   "execution_count": null,
   "metadata": {
    "colab": {
     "base_uri": "https://localhost:8080/",
     "height": 419
    },
    "executionInfo": {
     "elapsed": 384,
     "status": "ok",
     "timestamp": 1614120824129,
     "user": {
      "displayName": "Daniel Felipe Fragua Rengifo",
      "photoUrl": "",
      "userId": "09845551813303536248"
     },
     "user_tz": 300
    },
    "id": "nRskh4B8PpCD",
    "outputId": "8d1f9c48-b716-49a7-fb05-9cc055f7b183"
   },
   "outputs": [],
   "source": [
    "cols = ['Calories', 'Nueva', 'Sugars']\n",
    "df[cols] # Devuelve un nuevo DataFrame con las columnas deseadas en el orden especificado.\n",
    "# En este caso no lo estamos asignando a ningún objeto."
   ]
  },
  {
   "cell_type": "markdown",
   "metadata": {
    "id": "02WyskbQQNin"
   },
   "source": [
    "En algunas ocasiones, si las etiquetas cumplen con las condiciones de nombrado de variables y funciones en *Python*, *pandas* crea las columnas o valores de un objeto en forma de atributos para su acceso directo de la forma **`df.<nombre_columna>`**. Sin embargo, esta alternativa no es tan recomendada porque podría llegar a ocasionar problemas como los que se muestran a continuación. Úsela con precaución."
   ]
  },
  {
   "cell_type": "code",
   "execution_count": null,
   "metadata": {
    "colab": {
     "base_uri": "https://localhost:8080/",
     "height": 173
    },
    "executionInfo": {
     "elapsed": 373,
     "status": "ok",
     "timestamp": 1614120826817,
     "user": {
      "displayName": "Daniel Felipe Fragua Rengifo",
      "photoUrl": "",
      "userId": "09845551813303536248"
     },
     "user_tz": 300
    },
    "id": "1_nwYMgGQnWh",
    "outputId": "7fc49aa0-dbc3-4b1d-e573-27e0325dc071"
   },
   "outputs": [],
   "source": [
    "df2 = pd.DataFrame({'x' : [0.1, 0.2, 0.3, 0.4],\n",
    "                   'y' : [10, -15, 20, -25],\n",
    "                   '3d': [0, 0, 0, 0],\n",
    "                   'min':[0, 0, 0, 0]})\n",
    "df2"
   ]
  },
  {
   "cell_type": "code",
   "execution_count": null,
   "metadata": {
    "colab": {
     "base_uri": "https://localhost:8080/"
    },
    "executionInfo": {
     "elapsed": 283,
     "status": "ok",
     "timestamp": 1614120826974,
     "user": {
      "displayName": "Daniel Felipe Fragua Rengifo",
      "photoUrl": "",
      "userId": "09845551813303536248"
     },
     "user_tz": 300
    },
    "id": "UVXgjFuqQ3NQ",
    "outputId": "c2d6c91f-51d2-4c85-8df3-42f74f23afc8"
   },
   "outputs": [],
   "source": [
    "df2.x #Acceso a la columna x\n",
    "# df2['x']  # Notación recomendada y equivalente a la anterior"
   ]
  },
  {
   "cell_type": "code",
   "execution_count": null,
   "metadata": {
    "colab": {
     "base_uri": "https://localhost:8080/"
    },
    "executionInfo": {
     "elapsed": 380,
     "status": "ok",
     "timestamp": 1614120834300,
     "user": {
      "displayName": "Daniel Felipe Fragua Rengifo",
      "photoUrl": "",
      "userId": "09845551813303536248"
     },
     "user_tz": 300
    },
    "id": "p7It8avVRarY",
    "outputId": "33cc0020-436e-4d34-d67f-a2c492d7c4fe"
   },
   "outputs": [],
   "source": [
    "df2['3d'] # Notación recomendada para acceder a la columna '3d'.\n",
    "#df2.3d #Si usáramos la notación df.3d saldría un error porque el nombre '3d' no respeta las convenciones en el nombrado de identificadores de Python."
   ]
  },
  {
   "cell_type": "markdown",
   "metadata": {
    "id": "_z62NCGmRYW6"
   },
   "source": [
    "Esto tampoco funciona si el nombre de la columna es una palabra reservada, como un método del objeto o una secuencia de control."
   ]
  },
  {
   "cell_type": "code",
   "execution_count": null,
   "metadata": {
    "colab": {
     "base_uri": "https://localhost:8080/"
    },
    "executionInfo": {
     "elapsed": 227,
     "status": "ok",
     "timestamp": 1614120834875,
     "user": {
      "displayName": "Daniel Felipe Fragua Rengifo",
      "photoUrl": "",
      "userId": "09845551813303536248"
     },
     "user_tz": 300
    },
    "id": "D5QV4tvqR4vx",
    "outputId": "8518ed01-d938-4869-b859-98f5c1f11056"
   },
   "outputs": [],
   "source": [
    "df2.min # Método min del DataFrame, no su columna del mismo nombre."
   ]
  },
  {
   "cell_type": "code",
   "execution_count": null,
   "metadata": {
    "colab": {
     "base_uri": "https://localhost:8080/"
    },
    "executionInfo": {
     "elapsed": 391,
     "status": "ok",
     "timestamp": 1614120837471,
     "user": {
      "displayName": "Daniel Felipe Fragua Rengifo",
      "photoUrl": "",
      "userId": "09845551813303536248"
     },
     "user_tz": 300
    },
    "id": "vzhzJ7cVj8-A",
    "outputId": "bcc451da-cbd7-4b93-90e2-3fc1d4a53a8c"
   },
   "outputs": [],
   "source": [
    "#En ese caso, usando la notación recomendada no habría problema para acceder a la columna 'min'.\n",
    "df2['min']"
   ]
  },
  {
   "cell_type": "markdown",
   "metadata": {
    "id": "WPibyzZkTSWH"
   },
   "source": [
    "Por otra parte, el indexado de rangos **SÍ** corresponde a las **posiciones** de los **filas** (registros). Este es equivalente al usado en listas de *Python* y en arreglos de *NumPy*."
   ]
  },
  {
   "cell_type": "code",
   "execution_count": null,
   "metadata": {
    "colab": {
     "base_uri": "https://localhost:8080/"
    },
    "executionInfo": {
     "elapsed": 353,
     "status": "ok",
     "timestamp": 1614120959052,
     "user": {
      "displayName": "Daniel Felipe Fragua Rengifo",
      "photoUrl": "",
      "userId": "09845551813303536248"
     },
     "user_tz": 300
    },
    "id": "Aahdx220Svx7",
    "outputId": "14b2a5ed-a018-485e-9778-9cddb866d958"
   },
   "outputs": [],
   "source": [
    "ser = pd.Series([10, 20, 30, 40, 50], index = ['a', 'b', 'c', 'e', 'd'])\n",
    "\n",
    "ser[:2] # Primeros 2 registros."
   ]
  },
  {
   "cell_type": "markdown",
   "metadata": {
    "id": "CYyuxR_XT96I"
   },
   "source": [
    "> **Importante:** Para los objetos *DataFrame* este indexado de posición es usado en las **FILAS** en vez de en las columnas. Este comportamiento es algo extraño e impredecible y es importante que lo tenga en cuenta para evitar errores futuros."
   ]
  },
  {
   "cell_type": "code",
   "execution_count": null,
   "metadata": {
    "colab": {
     "base_uri": "https://localhost:8080/",
     "height": 275
    },
    "executionInfo": {
     "elapsed": 346,
     "status": "ok",
     "timestamp": 1614120961863,
     "user": {
      "displayName": "Daniel Felipe Fragua Rengifo",
      "photoUrl": "",
      "userId": "09845551813303536248"
     },
     "user_tz": 300
    },
    "id": "AMgvuvdkUNGu",
    "outputId": "c50b0e4e-8f81-4c47-eb04-d8053705983b"
   },
   "outputs": [],
   "source": [
    "df.head()"
   ]
  },
  {
   "cell_type": "code",
   "execution_count": null,
   "metadata": {
    "colab": {
     "base_uri": "https://localhost:8080/",
     "height": 289
    },
    "executionInfo": {
     "elapsed": 354,
     "status": "ok",
     "timestamp": 1614120965053,
     "user": {
      "displayName": "Daniel Felipe Fragua Rengifo",
      "photoUrl": "",
      "userId": "09845551813303536248"
     },
     "user_tz": 300
    },
    "id": "hsNMRAMsUjab",
    "outputId": "e4db497d-b2b1-43b8-cd16-fa26b4838c32"
   },
   "outputs": [],
   "source": [
    "df[10::-2] #Registros invertidos (a partir de la con índice 10) y cada 2 filas."
   ]
  },
  {
   "cell_type": "code",
   "execution_count": null,
   "metadata": {
    "colab": {
     "base_uri": "https://localhost:8080/",
     "height": 473
    },
    "executionInfo": {
     "elapsed": 350,
     "status": "ok",
     "timestamp": 1614120966525,
     "user": {
      "displayName": "Daniel Felipe Fragua Rengifo",
      "photoUrl": "",
      "userId": "09845551813303536248"
     },
     "user_tz": 300
    },
    "id": "j8E60mANYAI3",
    "outputId": "8444a1d8-e978-4561-ac5b-8f75eca14b70"
   },
   "outputs": [],
   "source": [
    "df[0:5] = 0 #Se permite asignar valores nuevos con esta asignación, tal como se hacía con NumPy.\n",
    "df # Lo anterior deja en 0 todas las columnas de los primeros 5 registros del dataset"
   ]
  },
  {
   "cell_type": "markdown",
   "metadata": {
    "id": "kg7AmIGYUrIl"
   },
   "source": [
    "A continuación se presentarán métodos optimizados en etiquetas y posiciones. Sin embargo, se tiene que discutir antes de una mala práctica común a la hora de obtener valores de filas y columnas específicas de un *DataFrame*."
   ]
  },
  {
   "cell_type": "code",
   "execution_count": null,
   "metadata": {
    "colab": {
     "base_uri": "https://localhost:8080/"
    },
    "executionInfo": {
     "elapsed": 358,
     "status": "ok",
     "timestamp": 1614120984359,
     "user": {
      "displayName": "Daniel Felipe Fragua Rengifo",
      "photoUrl": "",
      "userId": "09845551813303536248"
     },
     "user_tz": 300
    },
    "id": "ksr50_GAUqic",
    "outputId": "1835061d-ab00-46ac-efa7-a6adc2eea86e"
   },
   "outputs": [],
   "source": [
    "df['Calories'][[20, 70]]"
   ]
  },
  {
   "cell_type": "markdown",
   "metadata": {
    "id": "Z1pIPq-4VQid"
   },
   "source": [
    "El código anterior, aún retornando el resultado correcto es considerado una mala práctica en la mayoría de casos y **debería ser evitado**. Este es llamado **asignación en cadena** y puede producir problemas si se realizan modificaciones en el objeto original. En la siguiente sección se presentarán alternativas más apropiadas para tratar con este tipo de escenarios."
   ]
  },
  {
   "cell_type": "markdown",
   "metadata": {
    "id": "_e16eN18i5j4"
   },
   "source": [
    "### **2.2. Selección por índice `.loc`**\n",
    "---\n",
    "\n",
    "*Pandas* implementa una serie de herramientas de acceso al contenido de sus objetos de manera que sea más robusto frente a problemas comunes, intuitivo y con un alto desempeño. La primera herramienta es la **selección por índice o etiqueta**, que se consigue con el atributo **`.loc`**.\n",
    "\n",
    "Este método de acceso no se realiza por medio de llamados a métodos o funciones internas del objeto, sino con el uso de un objeto especial que funciona de vista para la obtención de datos. Es por esto que se usa la siguiente sintaxis, en vez de la sintaxis esperada de paréntesis **`(`** y **`)`**:\n",
    "\n",
    "> **`df.loc[fila, columna]`** y **`s.loc[etiqueta]`**\n",
    "\n",
    "Los objetos **`fila`**, **`columna`** y **`etiqueta`** corresponden al tipo de dato del índice correspondiente a la fila, columna u objeto *Series* en el que se realiza la evaluación."
   ]
  },
  {
   "cell_type": "code",
   "execution_count": null,
   "metadata": {
    "colab": {
     "base_uri": "https://localhost:8080/"
    },
    "executionInfo": {
     "elapsed": 349,
     "status": "ok",
     "timestamp": 1614121007025,
     "user": {
      "displayName": "Daniel Felipe Fragua Rengifo",
      "photoUrl": "",
      "userId": "09845551813303536248"
     },
     "user_tz": 300
    },
    "id": "hUknnD48XIoT",
    "outputId": "6726868e-191e-4121-bb7f-e33ef4b07abc"
   },
   "outputs": [],
   "source": [
    "s = pd.Series({'a': 0, 'b': 1, 'c': 2, 'd': 3 })\n",
    "s"
   ]
  },
  {
   "cell_type": "code",
   "execution_count": null,
   "metadata": {
    "colab": {
     "base_uri": "https://localhost:8080/"
    },
    "executionInfo": {
     "elapsed": 398,
     "status": "ok",
     "timestamp": 1614121008631,
     "user": {
      "displayName": "Daniel Felipe Fragua Rengifo",
      "photoUrl": "",
      "userId": "09845551813303536248"
     },
     "user_tz": 300
    },
    "id": "ig342V9_XfLH",
    "outputId": "0af87ed2-73c7-4e5c-9701-08ce8c380a8d"
   },
   "outputs": [],
   "source": [
    "s.loc['c']"
   ]
  },
  {
   "cell_type": "markdown",
   "metadata": {
    "id": "ctDEw-1_Xil1"
   },
   "source": [
    "Al igual que antes, se pueden usar secuencias de etiquetas para seleccionar varios valores al mismo tiempo."
   ]
  },
  {
   "cell_type": "code",
   "execution_count": null,
   "metadata": {
    "colab": {
     "base_uri": "https://localhost:8080/"
    },
    "executionInfo": {
     "elapsed": 366,
     "status": "ok",
     "timestamp": 1614121011587,
     "user": {
      "displayName": "Daniel Felipe Fragua Rengifo",
      "photoUrl": "",
      "userId": "09845551813303536248"
     },
     "user_tz": 300
    },
    "id": "vIkBfPIuXrFv",
    "outputId": "7e2d4016-a03b-44dd-bd98-6ac2413b2af5"
   },
   "outputs": [],
   "source": [
    "s.loc[['a', 'c', 'a']] # Incluso se pueden repetir etiquetas."
   ]
  },
  {
   "cell_type": "markdown",
   "metadata": {
    "id": "f9RlWv9lYO9R"
   },
   "source": [
    "Con ***DataFrame***:\n",
    "\n",
    "Primero volvemos a cargar los datos de cereales:"
   ]
  },
  {
   "cell_type": "code",
   "execution_count": null,
   "metadata": {
    "colab": {
     "base_uri": "https://localhost:8080/",
     "height": 275
    },
    "executionInfo": {
     "elapsed": 703,
     "status": "ok",
     "timestamp": 1614121013420,
     "user": {
      "displayName": "Daniel Felipe Fragua Rengifo",
      "photoUrl": "",
      "userId": "09845551813303536248"
     },
     "user_tz": 300
    },
    "id": "UPMuxLhbYRIs",
    "outputId": "5fb6ea7a-cfa9-4975-ce97-cb68dec7ee83"
   },
   "outputs": [],
   "source": [
    "url = 'https://drive.google.com/uc?export=download&id=1cVDBakqy6tSwCwgzAtf08hNvjHk8a6hv'\n",
    "\n",
    "df = pd.read_csv(url)\n",
    "df.head()"
   ]
  },
  {
   "cell_type": "code",
   "execution_count": null,
   "metadata": {
    "colab": {
     "base_uri": "https://localhost:8080/",
     "height": 111
    },
    "executionInfo": {
     "elapsed": 406,
     "status": "ok",
     "timestamp": 1614121015011,
     "user": {
      "displayName": "Daniel Felipe Fragua Rengifo",
      "photoUrl": "",
      "userId": "09845551813303536248"
     },
     "user_tz": 300
    },
    "id": "BMC1MBjFYVW_",
    "outputId": "38eddc7b-0542-40bb-d70f-4cbb1e8a82a2"
   },
   "outputs": [],
   "source": [
    "df.loc[[0, 4], ['Manufacturer', 'Calories']] # El orden es [filas, columnas]."
   ]
  },
  {
   "cell_type": "markdown",
   "metadata": {
    "id": "nQVKfe29YrrQ"
   },
   "source": [
    "Con el atributo **`.loc`** se puede reasignar el valor de las filas. Esto se puede hacer de varias maneras:"
   ]
  },
  {
   "cell_type": "code",
   "execution_count": null,
   "metadata": {
    "colab": {
     "base_uri": "https://localhost:8080/",
     "height": 258
    },
    "executionInfo": {
     "elapsed": 360,
     "status": "ok",
     "timestamp": 1614121017893,
     "user": {
      "displayName": "Daniel Felipe Fragua Rengifo",
      "photoUrl": "",
      "userId": "09845551813303536248"
     },
     "user_tz": 300
    },
    "id": "bS7MJ7Z7ZY6T",
    "outputId": "3873029c-1819-433d-e075-613903e77c0b"
   },
   "outputs": [],
   "source": [
    "# Usando Series. Las columnas asignadas son aquellas que correspondan entre los índices de la serie y las columnas del DataFrame.\n",
    "df.loc[74] = pd.Series([1,2,3], index = ['Cereal Name','Calories','Fat'])\n",
    "\n",
    "#Si la etiqueta no existía antes, se crea un registro nuevo al final.\n",
    "df.tail()"
   ]
  },
  {
   "cell_type": "code",
   "execution_count": null,
   "metadata": {
    "colab": {
     "base_uri": "https://localhost:8080/"
    },
    "executionInfo": {
     "elapsed": 364,
     "status": "ok",
     "timestamp": 1614121019470,
     "user": {
      "displayName": "Daniel Felipe Fragua Rengifo",
      "photoUrl": "",
      "userId": "09845551813303536248"
     },
     "user_tz": 300
    },
    "id": "sL6T63WpbOl3",
    "outputId": "fdc53167-0858-49be-bf7f-1276878d83b9"
   },
   "outputs": [],
   "source": [
    "# EVITAR ESTE TIPO DE EXPRESIONES\n",
    "df['Cereal Name'][[0, 5, 10]]"
   ]
  },
  {
   "cell_type": "code",
   "execution_count": null,
   "metadata": {
    "colab": {
     "base_uri": "https://localhost:8080/"
    },
    "executionInfo": {
     "elapsed": 334,
     "status": "ok",
     "timestamp": 1614121020706,
     "user": {
      "displayName": "Daniel Felipe Fragua Rengifo",
      "photoUrl": "",
      "userId": "09845551813303536248"
     },
     "user_tz": 300
    },
    "id": "NOKi09hOYVO-",
    "outputId": "9eedeacf-ac44-42bf-d4ec-5be2b8c7376a"
   },
   "outputs": [],
   "source": [
    "#Este es el equivalente recomendado de df['Cereal Name'][[0, 5, 10]]\n",
    "df.loc[[0, 5, 10], 'Cereal Name']"
   ]
  },
  {
   "cell_type": "code",
   "execution_count": null,
   "metadata": {
    "colab": {
     "base_uri": "https://localhost:8080/"
    },
    "executionInfo": {
     "elapsed": 338,
     "status": "ok",
     "timestamp": 1614121022057,
     "user": {
      "displayName": "Daniel Felipe Fragua Rengifo",
      "photoUrl": "",
      "userId": "09845551813303536248"
     },
     "user_tz": 300
    },
    "id": "8AlEjoEXbKTU",
    "outputId": "dd1d51ac-0f0c-4126-bb6b-0dbc0e58a2cc"
   },
   "outputs": [],
   "source": [
    "#Se puede usar el símbolo \":\" para indicar que se desean todos los elementos de una columna.\n",
    "df.loc[:, 'Calories']"
   ]
  },
  {
   "cell_type": "code",
   "execution_count": null,
   "metadata": {
    "colab": {
     "base_uri": "https://localhost:8080/"
    },
    "executionInfo": {
     "elapsed": 402,
     "status": "ok",
     "timestamp": 1614121023878,
     "user": {
      "displayName": "Daniel Felipe Fragua Rengifo",
      "photoUrl": "",
      "userId": "09845551813303536248"
     },
     "user_tz": 300
    },
    "id": "tCugSIF7bfAY",
    "outputId": "5ad7ec68-3a44-48a4-e1a4-1d531356067c"
   },
   "outputs": [],
   "source": [
    "# Se pueden usar algunas formas simples de indexado como en listas.\n",
    "df.loc[::-1, 'Fat'] # Elementos de la columna Fat en orden inverso."
   ]
  },
  {
   "cell_type": "markdown",
   "metadata": {
    "id": "9qfH3drxb3kJ"
   },
   "source": [
    "A diferencia del indexado de listas y arreglos, los elementos en el final\n",
    "de un rango **SÍ son incluidos** en la selección final. *Pandas* puede inferir el orden de varios tipos de dato cuando se usan este tipo de indexados."
   ]
  },
  {
   "cell_type": "code",
   "execution_count": null,
   "metadata": {
    "id": "YAXNlV1DSgF5"
   },
   "outputs": [],
   "source": [
    "df.loc[0:6]"
   ]
  },
  {
   "cell_type": "code",
   "execution_count": null,
   "metadata": {
    "id": "CRzTh_aDcdLj"
   },
   "outputs": [],
   "source": [
    "df.loc[0:10:2] # El valor asignado al paso es interpretado numéricamente."
   ]
  },
  {
   "cell_type": "code",
   "execution_count": null,
   "metadata": {
    "id": "qcpe3ea6cphY"
   },
   "outputs": [],
   "source": [
    "df.loc[0::10,'Manufacturer':'Display Shelf':3]  # Se pueden hacer indexados en ambos ejes en la misma expresión.\n",
    "# Nótese que el inicio del rango y el final pueden ser cadenas si las etiquetas están de esta manera como aquí"
   ]
  },
  {
   "cell_type": "code",
   "execution_count": null,
   "metadata": {
    "id": "LJfGGbbcfoW9"
   },
   "outputs": [],
   "source": [
    "#Se pueden hacer asignaciones de valores escalares con expresiones de este tipo.\n",
    "df.loc[0:2, 'Fat':] = 1000   # Modifica todas las columnas después de Fat.\n",
    "df.head()"
   ]
  },
  {
   "cell_type": "markdown",
   "metadata": {
    "id": "dnVOgok-i53Q"
   },
   "source": [
    "### **2.3. Selección por posición `.iloc`**\n",
    "---\n",
    "\n",
    "El atributo **`.iloc`** es el equivalente de **`.loc`** para la **selección por posición** usando números enteros. Este método de selección permite ser más flexible en el manejo de rangos, y es recomendable cuando no es relevante la etiqueta de los valores de la tabla sino su posición. La sintaxis usada, similar a la descrita anteriormente, es la siguiente:\n",
    "\n",
    "\n",
    "> **`df.iloc[fila, columna]`** y **`s.iloc[posición]`**\n",
    "\n",
    "Los valores **`fila`**, **`columna`** y **`posición`** corresponden a números enteros o expresiones de indexado como las usadas en filas y columnas."
   ]
  },
  {
   "cell_type": "code",
   "execution_count": null,
   "metadata": {
    "id": "jN-CEbDJgRQT"
   },
   "outputs": [],
   "source": [
    "s = pd.Series(list('abcdefghij'), index = 9 - np.arange(10))\n",
    "s"
   ]
  },
  {
   "cell_type": "code",
   "execution_count": null,
   "metadata": {
    "id": "2aGkxe_Sggrg"
   },
   "outputs": [],
   "source": [
    "#Usando .loc el valor ingresado se interpreta como una etiqueta, retornando el último valor.\n",
    "s.loc[0]"
   ]
  },
  {
   "cell_type": "code",
   "execution_count": null,
   "metadata": {
    "id": "uhUVpSzFg9HO"
   },
   "outputs": [],
   "source": [
    "# Con .iloc el valor corresponde a su posición. (De arriba a abajo y de izquierda a derecha, iniciando en 0)\n",
    "s.iloc[0]"
   ]
  },
  {
   "cell_type": "code",
   "execution_count": null,
   "metadata": {
    "id": "uQLTVLRKhGYi"
   },
   "outputs": [],
   "source": [
    "# En este caso el último valor del paso no se tiene en cuenta en la selección.\n",
    "s.iloc[0:4]"
   ]
  },
  {
   "cell_type": "code",
   "execution_count": null,
   "metadata": {
    "id": "BNL5HQ7ImVvh"
   },
   "outputs": [],
   "source": [
    "s.iloc[[0,2,2,0]]"
   ]
  },
  {
   "cell_type": "code",
   "execution_count": null,
   "metadata": {
    "id": "_3KqsZYzhTEX"
   },
   "outputs": [],
   "source": [
    "# Todas las reglas discutidas para listas y arreglos aplican con este método.\n",
    "s.iloc[-2]  # Penúltimo registro."
   ]
  },
  {
   "cell_type": "code",
   "execution_count": null,
   "metadata": {
    "id": "RvPeX_CIheqe"
   },
   "outputs": [],
   "source": [
    "s.iloc[-1:3:-2] # Valores en orden inverso cada 2 pasos hasta la posición 3. (No se incluye)"
   ]
  },
  {
   "cell_type": "markdown",
   "metadata": {
    "id": "pNmIIh9hh6V_"
   },
   "source": [
    "Con ***DataFrame***:\n",
    "\n",
    "Recuperamos el conjunto de datos:"
   ]
  },
  {
   "cell_type": "code",
   "execution_count": null,
   "metadata": {
    "id": "LeJykESkgN6h"
   },
   "outputs": [],
   "source": [
    "url = 'https://drive.google.com/uc?export=download&id=1cVDBakqy6tSwCwgzAtf08hNvjHk8a6hv'\n",
    "\n",
    "df = pd.read_csv(url)\n",
    "df.head()"
   ]
  },
  {
   "cell_type": "code",
   "execution_count": null,
   "metadata": {
    "id": "O7R0--D8h68r"
   },
   "outputs": [],
   "source": [
    "#Elementos desde el registro 10 hasta antes del 20.\n",
    "df.iloc[10:20]"
   ]
  },
  {
   "cell_type": "code",
   "execution_count": null,
   "metadata": {
    "id": "PN-KCbXQmguA"
   },
   "outputs": [],
   "source": [
    "# Se permite una lista de enteros con la posición de los objetos, incluso repetidos.\n",
    "\n",
    "df.iloc[[0,1,-1]]"
   ]
  },
  {
   "cell_type": "code",
   "execution_count": null,
   "metadata": {
    "id": "6rAfTfpkihzw"
   },
   "outputs": [],
   "source": [
    "# Expresiones de indexado específicas para filas y columnas en la misma expresión.\n",
    "\n",
    "df.iloc[2:7:2, 1::3]"
   ]
  },
  {
   "cell_type": "markdown",
   "metadata": {
    "id": "C_AjLRHri5_E"
   },
   "source": [
    "### **2.4. Selección de celdas `.at` | `.iat`**\n",
    "---\n",
    "\n",
    "Además de los dos métodos mencionados anteriormente para la selección por índice **(`.loc`)** y por posición **(`.iloc`)**, *Pandas* ofrece la posibilidad de retornar valores escalares ubicados en celdas específicas con dos métodos optimizados para esta tarea. Estos son:\n",
    "\n",
    "*  **`.at`**: Selección de celda por índice/etiqueta.\n",
    "*  **`.iat`**: Selección de celda por posición.\n",
    "\n",
    "También son atributos de los objetos *Series* y *DataFrame* y son operados de esta forma:\n",
    "\n",
    "> **`df.at[fila, columna]`** y **`s.at[etiqueta]`** | **`df.iat[fila, columna]`** y **`s.iat[posición]`**\n",
    "\n",
    "A diferencia de los métodos anteriores, los atributos de selección de celdas solo aceptan posiciones o etiquetas únicas que correspondan a posiciones de valores escalares. No puede retornar objetos complejos como *Series* o *DataFrame*, solo un valor contenido en una celda específica.\n"
   ]
  },
  {
   "cell_type": "code",
   "execution_count": null,
   "metadata": {
    "colab": {
     "base_uri": "https://localhost:8080/"
    },
    "executionInfo": {
     "elapsed": 393,
     "status": "ok",
     "timestamp": 1614121971083,
     "user": {
      "displayName": "Daniel Felipe Fragua Rengifo",
      "photoUrl": "",
      "userId": "09845551813303536248"
     },
     "user_tz": 300
    },
    "id": "HBYxGu50qnXp",
    "outputId": "aaf1aca4-16e2-4572-9e25-d47ac7f02d8d"
   },
   "outputs": [],
   "source": [
    "# Construimos una serie con 150000 datos aleatorios para el ejemplo\n",
    "\n",
    "index = list(map(lambda x : f'i_{x}', np.arange(0, 150000, dtype = 'object')))\n",
    "ser = pd.Series(np.random.rand(len(index)), index = index)\n",
    "\n",
    "ser"
   ]
  },
  {
   "cell_type": "markdown",
   "metadata": {
    "id": "MVX0X_Nhr83s"
   },
   "source": [
    "Usaremos el comando *magic* de *IPython* [**`timeit`**](https://ipython.readthedocs.io/en/stable/interactive/magics.html#magic-timeit), que permite medir el tiempo empleado en una celda al realizar una cantidad determinada de ejecuciones."
   ]
  },
  {
   "cell_type": "code",
   "execution_count": null,
   "metadata": {
    "colab": {
     "base_uri": "https://localhost:8080/"
    },
    "executionInfo": {
     "elapsed": 367,
     "status": "ok",
     "timestamp": 1614121973467,
     "user": {
      "displayName": "Daniel Felipe Fragua Rengifo",
      "photoUrl": "",
      "userId": "09845551813303536248"
     },
     "user_tz": 300
    },
    "id": "daGyHKneq1GO",
    "outputId": "04024dbd-0737-453b-9cb4-0f94b6777a91"
   },
   "outputs": [],
   "source": [
    "%%timeit -n 1000\n",
    "ser['i_150']  # Este método puede ser incluso más rápido que .at en algunas condiciones."
   ]
  },
  {
   "cell_type": "code",
   "execution_count": null,
   "metadata": {
    "colab": {
     "base_uri": "https://localhost:8080/"
    },
    "executionInfo": {
     "elapsed": 346,
     "status": "ok",
     "timestamp": 1614121976332,
     "user": {
      "displayName": "Daniel Felipe Fragua Rengifo",
      "photoUrl": "",
      "userId": "09845551813303536248"
     },
     "user_tz": 300
    },
    "id": "cp92E8fAq8Rn",
    "outputId": "03334b96-73da-47b9-da1b-3d935c0345f0"
   },
   "outputs": [],
   "source": [
    "%%timeit -n 1000\n",
    "ser.loc['i_150']  # El método .loc consume más tiempo por su flexibilidad y valores posibles."
   ]
  },
  {
   "cell_type": "code",
   "execution_count": null,
   "metadata": {
    "colab": {
     "base_uri": "https://localhost:8080/"
    },
    "executionInfo": {
     "elapsed": 391,
     "status": "ok",
     "timestamp": 1614121977886,
     "user": {
      "displayName": "Daniel Felipe Fragua Rengifo",
      "photoUrl": "",
      "userId": "09845551813303536248"
     },
     "user_tz": 300
    },
    "id": "EvXJ2HR8q_rF",
    "outputId": "e9346a20-0005-4180-beb5-a20edd026bf4"
   },
   "outputs": [],
   "source": [
    "%%timeit -n 1000\n",
    "ser.at['i_150'] # Mucho mejor que usar .loc"
   ]
  },
  {
   "cell_type": "markdown",
   "metadata": {
    "id": "n-JP4eC3uHNX"
   },
   "source": [
    "Con **`.iat`**:"
   ]
  },
  {
   "cell_type": "code",
   "execution_count": null,
   "metadata": {
    "colab": {
     "base_uri": "https://localhost:8080/"
    },
    "executionInfo": {
     "elapsed": 630,
     "status": "ok",
     "timestamp": 1614121984411,
     "user": {
      "displayName": "Daniel Felipe Fragua Rengifo",
      "photoUrl": "",
      "userId": "09845551813303536248"
     },
     "user_tz": 300
    },
    "id": "2GxEBxHjuLMr",
    "outputId": "d1c58603-7d44-4f94-da3f-559ed5c94737"
   },
   "outputs": [],
   "source": [
    "%%timeit -n 10000\n",
    "ser.iloc[2000]  # El método .iloc es más eficiente que .loc, pero sigue consumiendo de más al inferir el tipo de índice."
   ]
  },
  {
   "cell_type": "code",
   "execution_count": null,
   "metadata": {
    "colab": {
     "base_uri": "https://localhost:8080/"
    },
    "executionInfo": {
     "elapsed": 535,
     "status": "ok",
     "timestamp": 1614121992030,
     "user": {
      "displayName": "Daniel Felipe Fragua Rengifo",
      "photoUrl": "",
      "userId": "09845551813303536248"
     },
     "user_tz": 300
    },
    "id": "2_cbImVsuLMt",
    "outputId": "23f1ecd1-0e1e-4dad-bd8a-2df3260bb33f"
   },
   "outputs": [],
   "source": [
    "%%timeit -n 10000\n",
    "ser.iat[2000] # Mucho mejor que usar .iloc"
   ]
  },
  {
   "cell_type": "markdown",
   "metadata": {
    "id": "70mP4WyPkPjN"
   },
   "source": [
    "### **2.5. Selección condicional**\n",
    "---\n",
    "\n",
    "En *Pandas* la selección condicional también está permitida, y funciona de forma similar a la permitida en arreglos de *NumPy*. Si al usar los métodos de selección **`[]`** o **`loc[]`** se introduce un arreglo u objeto *Series* o *DataFrame* con valores booleanos, se retorna una selección de los objetos cuyo valor sea verdadero."
   ]
  },
  {
   "cell_type": "code",
   "execution_count": null,
   "metadata": {
    "id": "X7Y2_RmswDAE"
   },
   "outputs": [],
   "source": [
    "s = pd.Series(np.random.rand(100))\n",
    "s"
   ]
  },
  {
   "cell_type": "code",
   "execution_count": null,
   "metadata": {
    "id": "KM_3sau2xecj"
   },
   "outputs": [],
   "source": [
    "s < 0.5      # En las siguientes secciones se discutirán las operaciones en objetos de Pandas."
   ]
  },
  {
   "cell_type": "code",
   "execution_count": null,
   "metadata": {
    "id": "13tTCQ_sw0v3"
   },
   "outputs": [],
   "source": [
    "s[s < 0.1]"
   ]
  },
  {
   "cell_type": "code",
   "execution_count": null,
   "metadata": {
    "id": "Xsb9rKYXxa1l"
   },
   "outputs": [],
   "source": [
    "s[(s > 0.3) & (s < 0.4)] # Valores entre 0.3 y 0.4."
   ]
  },
  {
   "cell_type": "code",
   "execution_count": null,
   "metadata": {
    "id": "STXXqpmvx_vD"
   },
   "outputs": [],
   "source": [
    "# También funciona con el atributo .loc\n",
    "s.loc[(s > 0.3) & (s < 0.4)]"
   ]
  },
  {
   "cell_type": "markdown",
   "metadata": {
    "id": "2Ro993Jg0cl5"
   },
   "source": [
    "**Con DataFrame:**\n"
   ]
  },
  {
   "cell_type": "code",
   "execution_count": null,
   "metadata": {
    "id": "-0RyTkZgyPC6"
   },
   "outputs": [],
   "source": [
    "df.head()"
   ]
  },
  {
   "cell_type": "code",
   "execution_count": null,
   "metadata": {
    "id": "3NJKdXDVyknd"
   },
   "outputs": [],
   "source": [
    "df[df['Calories'] < 80]"
   ]
  },
  {
   "cell_type": "code",
   "execution_count": null,
   "metadata": {
    "colab": {
     "base_uri": "https://localhost:8080/",
     "height": 213
    },
    "executionInfo": {
     "elapsed": 363,
     "status": "ok",
     "timestamp": 1614122039976,
     "user": {
      "displayName": "Daniel Felipe Fragua Rengifo",
      "photoUrl": "",
      "userId": "09845551813303536248"
     },
     "user_tz": 300
    },
    "id": "AzS6iMYNytIi",
    "outputId": "c1a35c48-88a0-4561-93bc-48c518742ba4"
   },
   "outputs": [],
   "source": [
    "df[(df['Calories'] < 80) & (df['Fat'] < 1)] # Condiciones compuestas."
   ]
  },
  {
   "cell_type": "markdown",
   "metadata": {
    "id": "R63uJ-rDzDTv"
   },
   "source": [
    "#### **2.5.1. Selección condicional con `isin`**\n",
    "---\n",
    "\n",
    "El método **`isin`** permite evaluar si en un objeto cada registro o fila/columna pertenece a una colección pasada como argumento. Este método retorna un objeto del mismo tipo (*Series* o *DataFrame*) del objeto que llama compuesto por valores booleanos, lo que lo hace especialmente útil para realizar selección condicional."
   ]
  },
  {
   "cell_type": "code",
   "execution_count": null,
   "metadata": {
    "colab": {
     "base_uri": "https://localhost:8080/"
    },
    "executionInfo": {
     "elapsed": 524,
     "status": "ok",
     "timestamp": 1614122043666,
     "user": {
      "displayName": "Daniel Felipe Fragua Rengifo",
      "photoUrl": "",
      "userId": "09845551813303536248"
     },
     "user_tz": 300
    },
    "id": "e6FRTCLXz9Na",
    "outputId": "22b0801d-4d56-4cf7-b658-61de4e31d1f3"
   },
   "outputs": [],
   "source": [
    "s = pd.Series(np.random.randint(0, 10, 100))\n",
    "s"
   ]
  },
  {
   "cell_type": "code",
   "execution_count": null,
   "metadata": {
    "colab": {
     "base_uri": "https://localhost:8080/"
    },
    "executionInfo": {
     "elapsed": 436,
     "status": "ok",
     "timestamp": 1614122043836,
     "user": {
      "displayName": "Daniel Felipe Fragua Rengifo",
      "photoUrl": "",
      "userId": "09845551813303536248"
     },
     "user_tz": 300
    },
    "id": "zzqT9DMFzg_R",
    "outputId": "08ce2681-fe8e-4198-8597-aec4d483a34d"
   },
   "outputs": [],
   "source": [
    "s.isin([1,5])"
   ]
  },
  {
   "cell_type": "code",
   "execution_count": null,
   "metadata": {
    "colab": {
     "base_uri": "https://localhost:8080/"
    },
    "executionInfo": {
     "elapsed": 380,
     "status": "ok",
     "timestamp": 1614122043995,
     "user": {
      "displayName": "Daniel Felipe Fragua Rengifo",
      "photoUrl": "",
      "userId": "09845551813303536248"
     },
     "user_tz": 300
    },
    "id": "cuUkcdw20F3N",
    "outputId": "62b50f99-ae4c-44e0-f6a5-74f0e205ae3a"
   },
   "outputs": [],
   "source": [
    "s[s.isin([1,5])] #Valores que corresponden a los valores deseados."
   ]
  },
  {
   "cell_type": "markdown",
   "metadata": {
    "id": "JZWmL8Kq45BV"
   },
   "source": [
    "**Con DataFrame:**\n"
   ]
  },
  {
   "cell_type": "code",
   "execution_count": null,
   "metadata": {
    "colab": {
     "base_uri": "https://localhost:8080/",
     "height": 275
    },
    "executionInfo": {
     "elapsed": 338,
     "status": "ok",
     "timestamp": 1614122047665,
     "user": {
      "displayName": "Daniel Felipe Fragua Rengifo",
      "photoUrl": "",
      "userId": "09845551813303536248"
     },
     "user_tz": 300
    },
    "id": "WJbIlpFR0dnQ",
    "outputId": "a8eb3be0-b92f-4c5c-c16f-aac2ac5c6799"
   },
   "outputs": [],
   "source": [
    "df.head()"
   ]
  },
  {
   "cell_type": "code",
   "execution_count": null,
   "metadata": {
    "colab": {
     "base_uri": "https://localhost:8080/",
     "height": 473
    },
    "executionInfo": {
     "elapsed": 368,
     "status": "ok",
     "timestamp": 1614122048946,
     "user": {
      "displayName": "Daniel Felipe Fragua Rengifo",
      "photoUrl": "",
      "userId": "09845551813303536248"
     },
     "user_tz": 300
    },
    "id": "uogcX1w60pRk",
    "outputId": "d07d1b3f-75ed-4442-bdc9-dc05b6eb3b21"
   },
   "outputs": [],
   "source": [
    "df.isin({1,'Kelloggs',100, 70, 4}) # Se pueden usar otras colecciones que soporten el operador in, como los conjuntos."
   ]
  },
  {
   "cell_type": "code",
   "execution_count": null,
   "metadata": {
    "colab": {
     "base_uri": "https://localhost:8080/",
     "height": 258
    },
    "executionInfo": {
     "elapsed": 367,
     "status": "ok",
     "timestamp": 1614122050645,
     "user": {
      "displayName": "Daniel Felipe Fragua Rengifo",
      "photoUrl": "",
      "userId": "09845551813303536248"
     },
     "user_tz": 300
    },
    "id": "35Hdqwpo05Qz",
    "outputId": "cd3b840f-5bb0-484c-93c2-f986b2dbf75f"
   },
   "outputs": [],
   "source": [
    "df[df.isin({1,'Kelloggs',100, 70, 4})].head() # El DataFrame resultante es del mismo tamaño, con valores NaN en donde la condición no se cumpla."
   ]
  },
  {
   "cell_type": "code",
   "execution_count": null,
   "metadata": {
    "colab": {
     "base_uri": "https://localhost:8080/"
    },
    "executionInfo": {
     "elapsed": 360,
     "status": "ok",
     "timestamp": 1614122127705,
     "user": {
      "displayName": "Daniel Felipe Fragua Rengifo",
      "photoUrl": "",
      "userId": "09845551813303536248"
     },
     "user_tz": 300
    },
    "id": "0M7lFJxA1jx6",
    "outputId": "091d467b-d60c-44ab-bf94-c2d3ef95d8b1"
   },
   "outputs": [],
   "source": [
    "#También se puede usar un diccionario, con los valores que se deben buscar por cada columna.\n",
    "\n",
    "df_isin = df.isin({\n",
    "    'Calories' : [50, 70, 80],\n",
    "    'Fat' : [0, 5]\n",
    "})\n",
    "\n",
    "df_isin.any(axis = 1) # Podemos usar el método any y all para reducir los valores a filas o columnas."
   ]
  },
  {
   "cell_type": "code",
   "execution_count": null,
   "metadata": {
    "colab": {
     "base_uri": "https://localhost:8080/",
     "height": 473
    },
    "executionInfo": {
     "elapsed": 370,
     "status": "ok",
     "timestamp": 1614122135606,
     "user": {
      "displayName": "Daniel Felipe Fragua Rengifo",
      "photoUrl": "",
      "userId": "09845551813303536248"
     },
     "user_tz": 300
    },
    "id": "YbbAXaCa2ivo",
    "outputId": "2f4dae5e-334f-4c64-a15a-41e8cd3cd8b1"
   },
   "outputs": [],
   "source": [
    "#Sin la reducción\n",
    "df[df_isin]"
   ]
  },
  {
   "cell_type": "code",
   "execution_count": null,
   "metadata": {
    "colab": {
     "base_uri": "https://localhost:8080/",
     "height": 979
    },
    "executionInfo": {
     "elapsed": 424,
     "status": "ok",
     "timestamp": 1614122147076,
     "user": {
      "displayName": "Daniel Felipe Fragua Rengifo",
      "photoUrl": "",
      "userId": "09845551813303536248"
     },
     "user_tz": 300
    },
    "id": "PBX-bCVw1wU2",
    "outputId": "8af79c9c-82ac-44a5-d9d5-4706c7851810"
   },
   "outputs": [],
   "source": [
    "#Con la reducción en cada eje.\n",
    "\n",
    "df.loc[df_isin.any(axis = 1), df_isin.any(axis = 0)]"
   ]
  },
  {
   "cell_type": "markdown",
   "metadata": {
    "id": "eRnrUSWS21wn"
   },
   "source": [
    "#### **2.5.2. Selección condicional con `where` y `mask`**\n",
    "---\n",
    "\n",
    "Las dimensiones de los objetos usados son un detalle muy importante a tener en cuenta. Cuando se realiza una selección condicional, como se ha mencionado hasta ahora, se reduce el tamaño del objeto al tamaño que cumpla la condición. *Pandas* ofrece dos métodos enfocados en la selección condicional que mantienen las dimensiones del objeto original. Estos son los métodos **`where`** y su opuesto **`mask`**.\n",
    "\n",
    "Ambos métodos funcionan prácticamente iguales. La única diferencia es que el método **`mask`** evalúa la condición opuesta. Para ambos, si se pasa un argumento se puede realizar una asignación directa de los nuevos valores."
   ]
  },
  {
   "cell_type": "code",
   "execution_count": null,
   "metadata": {
    "colab": {
     "base_uri": "https://localhost:8080/"
    },
    "executionInfo": {
     "elapsed": 371,
     "status": "ok",
     "timestamp": 1614122192168,
     "user": {
      "displayName": "Daniel Felipe Fragua Rengifo",
      "photoUrl": "",
      "userId": "09845551813303536248"
     },
     "user_tz": 300
    },
    "id": "rQhnx2WA-SxJ",
    "outputId": "e6ce8391-def4-44df-86e2-e26caa19e45a"
   },
   "outputs": [],
   "source": [
    "s = pd.Series(np.arange(10))\n",
    "\n",
    "s"
   ]
  },
  {
   "cell_type": "code",
   "execution_count": null,
   "metadata": {
    "colab": {
     "base_uri": "https://localhost:8080/"
    },
    "executionInfo": {
     "elapsed": 363,
     "status": "ok",
     "timestamp": 1614122195052,
     "user": {
      "displayName": "Daniel Felipe Fragua Rengifo",
      "photoUrl": "",
      "userId": "09845551813303536248"
     },
     "user_tz": 300
    },
    "id": "KzLKvXDr9xwK",
    "outputId": "8e312e41-1012-4635-c4b1-6ba64b8a9aa4"
   },
   "outputs": [],
   "source": [
    "s.where(s > 5) # El resultado tiene el mismo tamaño del arreglo original."
   ]
  },
  {
   "cell_type": "code",
   "execution_count": null,
   "metadata": {
    "colab": {
     "base_uri": "https://localhost:8080/"
    },
    "executionInfo": {
     "elapsed": 376,
     "status": "ok",
     "timestamp": 1614122198965,
     "user": {
      "displayName": "Daniel Felipe Fragua Rengifo",
      "photoUrl": "",
      "userId": "09845551813303536248"
     },
     "user_tz": 300
    },
    "id": "5SrPAQVU-oWG",
    "outputId": "94ca2c62-820e-4304-9eff-c182466ec022"
   },
   "outputs": [],
   "source": [
    "s.mask(s > 5) # Con mask se resaltan los elementos opuestos con la misma condición."
   ]
  },
  {
   "cell_type": "markdown",
   "metadata": {
    "id": "779QgqHZ5dcY"
   },
   "source": [
    "**Con DataFrame:**\n"
   ]
  },
  {
   "cell_type": "code",
   "execution_count": null,
   "metadata": {
    "colab": {
     "base_uri": "https://localhost:8080/",
     "height": 275
    },
    "executionInfo": {
     "elapsed": 389,
     "status": "ok",
     "timestamp": 1614122204636,
     "user": {
      "displayName": "Daniel Felipe Fragua Rengifo",
      "photoUrl": "",
      "userId": "09845551813303536248"
     },
     "user_tz": 300
    },
    "id": "1hSp-D302Z8m",
    "outputId": "1540a686-3a0d-43d2-8704-1fc9186bde0c"
   },
   "outputs": [],
   "source": [
    "df.head()"
   ]
  },
  {
   "cell_type": "code",
   "execution_count": null,
   "metadata": {
    "colab": {
     "base_uri": "https://localhost:8080/",
     "height": 490
    },
    "executionInfo": {
     "elapsed": 352,
     "status": "ok",
     "timestamp": 1614122207689,
     "user": {
      "displayName": "Daniel Felipe Fragua Rengifo",
      "photoUrl": "",
      "userId": "09845551813303536248"
     },
     "user_tz": 300
    },
    "id": "l9A1m9WL-d5C",
    "outputId": "af9159ae-ec37-4819-d8bf-9f22b63f99c0"
   },
   "outputs": [],
   "source": [
    "df.where(df['Sodium'] < 150) # El resultado tiene el mismo tamaño del arreglo original."
   ]
  },
  {
   "cell_type": "code",
   "execution_count": null,
   "metadata": {
    "colab": {
     "base_uri": "https://localhost:8080/",
     "height": 473
    },
    "executionInfo": {
     "elapsed": 396,
     "status": "ok",
     "timestamp": 1614122219439,
     "user": {
      "displayName": "Daniel Felipe Fragua Rengifo",
      "photoUrl": "",
      "userId": "09845551813303536248"
     },
     "user_tz": 300
    },
    "id": "uUMT_bev212W",
    "outputId": "2e4836e7-7201-4212-f646-325768de3ee9"
   },
   "outputs": [],
   "source": [
    "df.mask(df['Sodium'] < 150) # Con mask se resaltan los elementos opuestos con la misma condición."
   ]
  },
  {
   "cell_type": "code",
   "execution_count": null,
   "metadata": {
    "colab": {
     "base_uri": "https://localhost:8080/",
     "height": 490
    },
    "executionInfo": {
     "elapsed": 352,
     "status": "ok",
     "timestamp": 1614122220993,
     "user": {
      "displayName": "Daniel Felipe Fragua Rengifo",
      "photoUrl": "",
      "userId": "09845551813303536248"
     },
     "user_tz": 300
    },
    "id": "bwc3Dzbi2ma-",
    "outputId": "38519dc3-78bc-4303-f918-d34bd19ef4a1"
   },
   "outputs": [],
   "source": [
    "df.where(df['Sodium'] < 150, 100) # Todos los valores que no cumplan la condición toman el valor del segundo parámetro."
   ]
  },
  {
   "cell_type": "code",
   "execution_count": null,
   "metadata": {
    "colab": {
     "base_uri": "https://localhost:8080/"
    },
    "executionInfo": {
     "elapsed": 357,
     "status": "ok",
     "timestamp": 1614122245659,
     "user": {
      "displayName": "Daniel Felipe Fragua Rengifo",
      "photoUrl": "",
      "userId": "09845551813303536248"
     },
     "user_tz": 300
    },
    "id": "7GK57YE_-xGT",
    "outputId": "8d4aca53-84b3-44dc-f0c3-3085cd6fe841"
   },
   "outputs": [],
   "source": [
    "# Ejemplo con la serie s.\n",
    "s.mask(s >= 5, s % 5) # El argumento puede ser un objeto del mismo tamaño."
   ]
  },
  {
   "cell_type": "markdown",
   "metadata": {
    "id": "BeVXPzAR_EY3"
   },
   "source": [
    "#### **2.5.3. Selección condicional con `query`**\n",
    "---\n",
    "\n",
    "Finalmente, *pandas* dispone del método **`query`**, que permite realizar selección condicional por medio de expresiones en cadenas de texto, usando operaciones en nombres de columnas. Es especialmente útil pues expresiones muy largas pueden ser confusas y difíciles de depurar.\n",
    "\n",
    "Si se quiere usar el índice en la expresión se usa la palabra reservada **`index`**.\n"
   ]
  },
  {
   "cell_type": "code",
   "execution_count": null,
   "metadata": {
    "id": "BWNOw0FYANn0"
   },
   "outputs": [],
   "source": [
    "df = pd.read_csv(\"data/cereal.csv\")\n",
    "df.head()"
   ]
  },
  {
   "cell_type": "code",
   "execution_count": null,
   "metadata": {
    "colab": {
     "base_uri": "https://localhost:8080/",
     "height": 320
    },
    "executionInfo": {
     "elapsed": 407,
     "status": "ok",
     "timestamp": 1614122278846,
     "user": {
      "displayName": "Daniel Felipe Fragua Rengifo",
      "photoUrl": "",
      "userId": "09845551813303536248"
     },
     "user_tz": 300
    },
    "id": "T9k9icHyAV3o",
    "outputId": "142e9e97-52ed-451c-ad53-bbe2f9d482da"
   },
   "outputs": [],
   "source": [
    "#Expresión usando selección condicional tradicional.\n",
    "df[((df['Calories'] > 100) & (df['Fat'] + df['Sugars']  > 14)) | (df.index < 3)]"
   ]
  },
  {
   "cell_type": "code",
   "execution_count": null,
   "metadata": {
    "colab": {
     "base_uri": "https://localhost:8080/",
     "height": 320
    },
    "executionInfo": {
     "elapsed": 438,
     "status": "ok",
     "timestamp": 1614122290390,
     "user": {
      "displayName": "Daniel Felipe Fragua Rengifo",
      "photoUrl": "",
      "userId": "09845551813303536248"
     },
     "user_tz": 300
    },
    "id": "glcMzbSqA7jG",
    "outputId": "18b143c5-f4d7-445c-e5c4-bf61317846c5"
   },
   "outputs": [],
   "source": [
    "#Usando query, con una sintaxis más limpia.\n",
    "\n",
    "df.query('((Calories > 100) and (Fat + Sugars > 14)) or (index < 3)')"
   ]
  },
  {
   "cell_type": "markdown",
   "metadata": {
    "id": "U0aVP2kXjknY"
   },
   "source": [
    "### **2.6. Manipulación de índices**\n",
    "---\n",
    "Los índices de filas y columnas en *pandas* son unos objetos especiales, que funcionan de manera similar a los conjuntos de *Python*. Si bien en la mayoría de los casos *pandas* infiere un índice por defecto a partir de los datos de entrada a los argumentos **`index`** y **`columns`**, en ocasiones puede ser necesario modificarlos o crear alguno con propiedades específicas.\n",
    "\n",
    "Esto se puede hacer de la siguiente manera:\n"
   ]
  },
  {
   "cell_type": "code",
   "execution_count": null,
   "metadata": {
    "colab": {
     "base_uri": "https://localhost:8080/"
    },
    "executionInfo": {
     "elapsed": 510,
     "status": "ok",
     "timestamp": 1614122302864,
     "user": {
      "displayName": "Daniel Felipe Fragua Rengifo",
      "photoUrl": "",
      "userId": "09845551813303536248"
     },
     "user_tz": 300
    },
    "id": "J6CmYGboC_K9",
    "outputId": "34c1bf76-d6f0-4a51-cd18-b4b3a0eddd4a"
   },
   "outputs": [],
   "source": [
    "#Constructor pd.Index\n",
    "\n",
    "index = pd.Index(np.arange(10, 4, -1))\n",
    "\n",
    "index"
   ]
  },
  {
   "cell_type": "markdown",
   "metadata": {
    "id": "nUMsiI_MDNEk"
   },
   "source": [
    "Los objetos de este tipo son muy flexibles y cuentan con una variedad de subclases, con funcionalidad específica para cada escenario. Se puede definir un nombre para un objeto **`Index`** en la declaración con el atributo **`name`**. Esto es importante si se desea cambiar la columna usada como índice."
   ]
  },
  {
   "cell_type": "code",
   "execution_count": null,
   "metadata": {
    "colab": {
     "base_uri": "https://localhost:8080/",
     "height": 35
    },
    "executionInfo": {
     "elapsed": 401,
     "status": "ok",
     "timestamp": 1614122304250,
     "user": {
      "displayName": "Daniel Felipe Fragua Rengifo",
      "photoUrl": "",
      "userId": "09845551813303536248"
     },
     "user_tz": 300
    },
    "id": "KDV5SqvXDoIj",
    "outputId": "34a8cc5b-9b99-452d-dbc0-b232cc91b5ff"
   },
   "outputs": [],
   "source": [
    "index = pd.Index(np.arange(10, 4, -1), name = 'Mi índice')\n",
    "index.name"
   ]
  },
  {
   "cell_type": "markdown",
   "metadata": {
    "id": "KoYZF1lUDxOD"
   },
   "source": [
    "Con el método **`reset_index`** se puede crear un nuevo índice de números enteros por defecto y convertir el índice o multiíndice en columnas del *DataFrame*."
   ]
  },
  {
   "cell_type": "code",
   "execution_count": null,
   "metadata": {
    "colab": {
     "base_uri": "https://localhost:8080/",
     "height": 173
    },
    "executionInfo": {
     "elapsed": 368,
     "status": "ok",
     "timestamp": 1614122314970,
     "user": {
      "displayName": "Daniel Felipe Fragua Rengifo",
      "photoUrl": "",
      "userId": "09845551813303536248"
     },
     "user_tz": 300
    },
    "id": "qEol1hDuEBRE",
    "outputId": "13056619-df36-436d-e7cc-3f2f76df0af2"
   },
   "outputs": [],
   "source": [
    "df2 = pd.DataFrame(np.eye(3),\n",
    "                  index = pd.Index(list('abc'), name = 'abc'),\n",
    "                  columns = pd.Index(list('xyz'), name = 'xyz')\n",
    "                  )\n",
    "df2 # DataFrame con índices nombrados."
   ]
  },
  {
   "cell_type": "code",
   "execution_count": null,
   "metadata": {
    "colab": {
     "base_uri": "https://localhost:8080/",
     "height": 142
    },
    "executionInfo": {
     "elapsed": 341,
     "status": "ok",
     "timestamp": 1614122316993,
     "user": {
      "displayName": "Daniel Felipe Fragua Rengifo",
      "photoUrl": "",
      "userId": "09845551813303536248"
     },
     "user_tz": 300
    },
    "id": "KfQrQkzyEXu1",
    "outputId": "5cb7e608-8a82-494a-bdf5-be7da81b55d6"
   },
   "outputs": [],
   "source": [
    "df2.reset_index() # El índice se vuelve una columna y se crea un índice por defecto."
   ]
  },
  {
   "cell_type": "code",
   "execution_count": null,
   "metadata": {
    "id": "aRh1JMnBEjmn"
   },
   "outputs": [],
   "source": [
    "df2 #El DataFrame original no se ve alterado. Se tiene que reasignar."
   ]
  },
  {
   "cell_type": "code",
   "execution_count": null,
   "metadata": {
    "id": "AEDfA_tMEsQW"
   },
   "outputs": [],
   "source": [
    "df2.reset_index(inplace= True) # El argumento inplace permite alterar el objeto original"
   ]
  },
  {
   "cell_type": "code",
   "execution_count": null,
   "metadata": {
    "colab": {
     "base_uri": "https://localhost:8080/",
     "height": 142
    },
    "executionInfo": {
     "elapsed": 282,
     "status": "ok",
     "timestamp": 1614122340848,
     "user": {
      "displayName": "Daniel Felipe Fragua Rengifo",
      "photoUrl": "",
      "userId": "09845551813303536248"
     },
     "user_tz": 300
    },
    "id": "yq-GM4XOExY-",
    "outputId": "dc1e6c05-62a1-4696-9f9e-f6571c5696ad"
   },
   "outputs": [],
   "source": [
    "df2.reset_index() # Si el índice no tenía nombre se llamará \"index\""
   ]
  },
  {
   "cell_type": "markdown",
   "metadata": {
    "id": "KJF_sHbsE6WG"
   },
   "source": [
    "Con el método **`set_index`** se puede elegir una nueva columna sobre la cual indexar el *DataFrame*."
   ]
  },
  {
   "cell_type": "code",
   "execution_count": null,
   "metadata": {
    "colab": {
     "base_uri": "https://localhost:8080/",
     "height": 173
    },
    "executionInfo": {
     "elapsed": 418,
     "status": "ok",
     "timestamp": 1614122342659,
     "user": {
      "displayName": "Daniel Felipe Fragua Rengifo",
      "photoUrl": "",
      "userId": "09845551813303536248"
     },
     "user_tz": 300
    },
    "id": "QHXmXRazFGJv",
    "outputId": "1d7cfb15-66ba-4cc7-8002-6808c676feab"
   },
   "outputs": [],
   "source": [
    "df2.set_index('x') # Esta operación tampoco modifica el objeto original."
   ]
  },
  {
   "cell_type": "code",
   "execution_count": null,
   "metadata": {
    "colab": {
     "base_uri": "https://localhost:8080/",
     "height": 173
    },
    "executionInfo": {
     "elapsed": 272,
     "status": "ok",
     "timestamp": 1614122342884,
     "user": {
      "displayName": "Daniel Felipe Fragua Rengifo",
      "photoUrl": "",
      "userId": "09845551813303536248"
     },
     "user_tz": 300
    },
    "id": "aATp2VFdFp70",
    "outputId": "b81c4da4-39a0-4a6c-aa3e-590444cc7480"
   },
   "outputs": [],
   "source": [
    "df2.set_index('x', drop = False) # El argumento drop impide que la columna usada se pierda."
   ]
  },
  {
   "cell_type": "code",
   "execution_count": null,
   "metadata": {
    "colab": {
     "base_uri": "https://localhost:8080/",
     "height": 173
    },
    "executionInfo": {
     "elapsed": 441,
     "status": "ok",
     "timestamp": 1614122343309,
     "user": {
      "displayName": "Daniel Felipe Fragua Rengifo",
      "photoUrl": "",
      "userId": "09845551813303536248"
     },
     "user_tz": 300
    },
    "id": "rNVvReC-GHzz",
    "outputId": "1a78f291-34c4-49d6-9401-f14afcfc7eb1"
   },
   "outputs": [],
   "source": [
    "df2.set_index('x', append = True) # El argumento append permite conservar también el índice original."
   ]
  },
  {
   "cell_type": "markdown",
   "metadata": {
    "id": "nTN_I4uxFSWv"
   },
   "source": [
    "Como en el ejemplo anterior, es posible utilizar varias columnas como el índice de nuestros objetos. Esto se conoce como **indexado jerárquico** y funciona con una extensión del tipo de dato **`Index`**. Este es el objeto **`MultiIndex`** y una forma de crearlo es con el método **`set_index`** pasando como argumento una lista de etiquetas de columnas."
   ]
  },
  {
   "cell_type": "code",
   "execution_count": null,
   "metadata": {
    "colab": {
     "base_uri": "https://localhost:8080/",
     "height": 173
    },
    "executionInfo": {
     "elapsed": 391,
     "status": "ok",
     "timestamp": 1614122345245,
     "user": {
      "displayName": "Daniel Felipe Fragua Rengifo",
      "photoUrl": "",
      "userId": "09845551813303536248"
     },
     "user_tz": 300
    },
    "id": "ONNKKeHmFKTL",
    "outputId": "ae35ae4a-3800-4ca1-d7f3-6c7976e26280"
   },
   "outputs": [],
   "source": [
    "#Múltiples columnas como índice.\n",
    "df2.set_index(['abc', 'x'], inplace = True)\n",
    "\n",
    "df2"
   ]
  },
  {
   "cell_type": "markdown",
   "metadata": {
    "id": "Uy3birBbHTJh"
   },
   "source": [
    "Con estos objetos, el índice corresponde a la tupla de índices de cada fila. Si los índices están ordenados las etiquetas se muestran de una forma jerárquica."
   ]
  },
  {
   "cell_type": "code",
   "execution_count": null,
   "metadata": {
    "colab": {
     "base_uri": "https://localhost:8080/",
     "height": 235
    },
    "executionInfo": {
     "elapsed": 359,
     "status": "ok",
     "timestamp": 1614122353397,
     "user": {
      "displayName": "Daniel Felipe Fragua Rengifo",
      "photoUrl": "",
      "userId": "09845551813303536248"
     },
     "user_tz": 300
    },
    "id": "G-XIEzVAHS2l",
    "outputId": "2bea5192-10a4-4927-c428-8eee3b159dd8"
   },
   "outputs": [],
   "source": [
    "df2 = pd.DataFrame(\n",
    "    {\n",
    "     'a' : ['rojo', 'rojo', 'azul', 'rojo', 'verde', 'azul'],\n",
    "     'b' : ['001' ,  '002',  '001',  '003',   '001',  '002'],\n",
    "     'c' : np.arange(0,60,10),\n",
    "     'd' : np.random.rand(6)\n",
    "    })\n",
    "df2"
   ]
  },
  {
   "cell_type": "code",
   "execution_count": null,
   "metadata": {
    "colab": {
     "base_uri": "https://localhost:8080/",
     "height": 266
    },
    "executionInfo": {
     "elapsed": 340,
     "status": "ok",
     "timestamp": 1614122355880,
     "user": {
      "displayName": "Daniel Felipe Fragua Rengifo",
      "photoUrl": "",
      "userId": "09845551813303536248"
     },
     "user_tz": 300
    },
    "id": "ajMUDIFwI4-v",
    "outputId": "a097ca50-c510-4334-eb0b-9cbb77baa745"
   },
   "outputs": [],
   "source": [
    "df2 = df2.set_index(['a', 'b'])\n",
    "df2"
   ]
  },
  {
   "cell_type": "code",
   "execution_count": null,
   "metadata": {
    "colab": {
     "base_uri": "https://localhost:8080/"
    },
    "executionInfo": {
     "elapsed": 397,
     "status": "ok",
     "timestamp": 1614122369945,
     "user": {
      "displayName": "Daniel Felipe Fragua Rengifo",
      "photoUrl": "",
      "userId": "09845551813303536248"
     },
     "user_tz": 300
    },
    "id": "t0gv-cT1HN0Y",
    "outputId": "8d842d71-a26a-4201-8c55-8846db21e604"
   },
   "outputs": [],
   "source": [
    "df2.index #Objeto de tipo MultiIndex."
   ]
  },
  {
   "cell_type": "markdown",
   "metadata": {
    "id": "rXSO_ue8JCTR"
   },
   "source": [
    "Se pueden ordenar los índices de un objeto *DataFrame* o *Series* con el método **`sort_index`**."
   ]
  },
  {
   "cell_type": "code",
   "execution_count": null,
   "metadata": {
    "colab": {
     "base_uri": "https://localhost:8080/",
     "height": 266
    },
    "executionInfo": {
     "elapsed": 381,
     "status": "ok",
     "timestamp": 1614122371086,
     "user": {
      "displayName": "Daniel Felipe Fragua Rengifo",
      "photoUrl": "",
      "userId": "09845551813303536248"
     },
     "user_tz": 300
    },
    "id": "pgYqFX07JMRV",
    "outputId": "27ee1a26-00fd-4365-ec0b-a86618734857"
   },
   "outputs": [],
   "source": [
    "df2.sort_index()"
   ]
  },
  {
   "cell_type": "markdown",
   "metadata": {
    "id": "e1Dy-PmrkVaW"
   },
   "source": [
    "> **Nota:** Para ordenar con respecto a otras columnas use el método **`sort_values`**."
   ]
  },
  {
   "cell_type": "code",
   "execution_count": null,
   "metadata": {
    "colab": {
     "base_uri": "https://localhost:8080/",
     "height": 266
    },
    "executionInfo": {
     "elapsed": 413,
     "status": "ok",
     "timestamp": 1614122381669,
     "user": {
      "displayName": "Daniel Felipe Fragua Rengifo",
      "photoUrl": "",
      "userId": "09845551813303536248"
     },
     "user_tz": 300
    },
    "id": "n_iBw2gKkc9n",
    "outputId": "2e5ff916-0187-47f1-cd38-d2f21a478608"
   },
   "outputs": [],
   "source": [
    "df2.sort_values('c')"
   ]
  },
  {
   "cell_type": "markdown",
   "metadata": {
    "id": "a8W6-FpXj_W6"
   },
   "source": [
    "## **3. Selección de características**\n",
    "---\n",
    "\n",
    "En muchas ocasiones es conveniente seleccionar un grupo reducido de características o variables de un conjunto de datos para simplificar y optimizar tareas propias del modelado sin renunciar a la expresividad del conjunto.\n",
    "\n",
    "En *pandas* esta es una tarea común, y se dispone de herramientas para la creación, eliminación, división y combinación de características, representadas por las columnas de un conjunto de datos, y preparar los datos para actividades de procesamiento más complejas."
   ]
  },
  {
   "cell_type": "markdown",
   "metadata": {
    "id": "_-r7XF6KbIiC"
   },
   "source": [
    "### **3.1. Añadir características**\n",
    "---\n",
    "Si deseamos crear nuevas características a partir de los datos originales, debemos entender cómo funciona la operación entre objetos de *pandas*. Nuevamente, la funcionalidad de *pandas* está construida en torno a *NumPy*, y debido a ello la operación de objetos es igual de simple y directa."
   ]
  },
  {
   "cell_type": "code",
   "execution_count": null,
   "metadata": {
    "id": "r7QS2GSIboOb"
   },
   "outputs": [],
   "source": [
    "df = pd.read_csv(\"data/cereal.csv\")\n",
    "df.head()"
   ]
  },
  {
   "cell_type": "markdown",
   "metadata": {
    "id": "gLugVvKqb6QA"
   },
   "source": [
    "Se puede crear nuevas columnas como se crearían entradas en un diccionario, declarando su contenido aún si no existe una entrada previa con la etiqueta indicada."
   ]
  },
  {
   "cell_type": "code",
   "execution_count": null,
   "metadata": {
    "id": "f825FQxXb3K3"
   },
   "outputs": [],
   "source": [
    "# Creando una nueva columna. El broadcasting aplica también en pandas.\n",
    "\n",
    "df['NUEVA'] = 0\n",
    "df.head() # Desplace la barra hasta el final del dataframe para ver la columna nueva."
   ]
  },
  {
   "cell_type": "markdown",
   "metadata": {
    "id": "QFxN6XPlcQJJ"
   },
   "source": [
    "Al igual que en *NumPy*, los operadores numéricos, lógicos y a nivel de bits pueden realizarse en objetos *Series* y *DataFrame* dando como resultado una operación directa. Lo aconsejable es operar columnas en un *DataFrame* que considere necesarias para generar información nueva."
   ]
  },
  {
   "cell_type": "code",
   "execution_count": null,
   "metadata": {
    "id": "dW_4VlD_cOPS"
   },
   "outputs": [],
   "source": [
    "#Creación de una columna nueva como resultado de una operación entre columnas.\n",
    "\n",
    "df['Calories-Sugars-Fat'] = df['Calories'] * df['Sugars'] * df['Fat']\n",
    "\n",
    "df.head() # Desplace la barra hasta el final del dataframe para ver la columna nueva."
   ]
  },
  {
   "cell_type": "markdown",
   "metadata": {
    "id": "YCB_VymCcS5N"
   },
   "source": [
    "### **3.2. Eliminar características**\n",
    "---\n",
    "\n",
    "La eliminación de columnas es tan sencilla como utilizar un subconjunto de las características que son realmente importantes para nuestro análisis. Si bien recuerda, en la sección anterior se discutió la selección y modificación de objetos en *pandas*, y con ella la subselección de columnas."
   ]
  },
  {
   "cell_type": "code",
   "execution_count": null,
   "metadata": {
    "colab": {
     "base_uri": "https://localhost:8080/",
     "height": 275
    },
    "executionInfo": {
     "elapsed": 821,
     "status": "ok",
     "timestamp": 1614122420516,
     "user": {
      "displayName": "Daniel Felipe Fragua Rengifo",
      "photoUrl": "",
      "userId": "09845551813303536248"
     },
     "user_tz": 300
    },
    "id": "gdKv2tDbfPPh",
    "outputId": "c82df2fd-45ee-48d0-ab2a-2dbc613f6d92"
   },
   "outputs": [],
   "source": [
    "df = pd.read_csv('data/cereal.csv')\n",
    "df.head()"
   ]
  },
  {
   "cell_type": "code",
   "execution_count": null,
   "metadata": {
    "colab": {
     "base_uri": "https://localhost:8080/",
     "height": 204
    },
    "executionInfo": {
     "elapsed": 556,
     "status": "ok",
     "timestamp": 1614122420519,
     "user": {
      "displayName": "Daniel Felipe Fragua Rengifo",
      "photoUrl": "",
      "userId": "09845551813303536248"
     },
     "user_tz": 300
    },
    "id": "ejchxPoQfeTJ",
    "outputId": "2967633d-1427-4c60-d007-56e36eb4d932"
   },
   "outputs": [],
   "source": [
    "#Subselección de columnas de interés\n",
    "\n",
    "columns = ['Cereal Name', 'Manufacturer',\n",
    "           'Calories', 'Fat', 'Carbs', 'Dietary Fiber']\n",
    "\n",
    "df[columns].head()"
   ]
  },
  {
   "cell_type": "markdown",
   "metadata": {
    "id": "fqUg1nX5f9is"
   },
   "source": [
    "De esta manera las columnas no deseadas se filtrarán y no se muestran. Sin embargo, el objeto sigue intacto:"
   ]
  },
  {
   "cell_type": "code",
   "execution_count": null,
   "metadata": {
    "colab": {
     "base_uri": "https://localhost:8080/",
     "height": 275
    },
    "executionInfo": {
     "elapsed": 387,
     "status": "ok",
     "timestamp": 1614122424792,
     "user": {
      "displayName": "Daniel Felipe Fragua Rengifo",
      "photoUrl": "",
      "userId": "09845551813303536248"
     },
     "user_tz": 300
    },
    "id": "IKKX7SeQ8Qge",
    "outputId": "a4a094fe-9e30-4593-ac1c-e72eb4534280"
   },
   "outputs": [],
   "source": [
    "df.head()"
   ]
  },
  {
   "cell_type": "markdown",
   "metadata": {
    "id": "Kkvf2ge68S0V"
   },
   "source": [
    "Si queremos eliminar las columnas definitivamente, debemos reasignar el resultado de las columnas filtradas al mismo nombre del *DataFrame*:"
   ]
  },
  {
   "cell_type": "code",
   "execution_count": null,
   "metadata": {
    "colab": {
     "base_uri": "https://localhost:8080/",
     "height": 204
    },
    "executionInfo": {
     "elapsed": 377,
     "status": "ok",
     "timestamp": 1614122430026,
     "user": {
      "displayName": "Daniel Felipe Fragua Rengifo",
      "photoUrl": "",
      "userId": "09845551813303536248"
     },
     "user_tz": 300
    },
    "id": "NghunRwe8eq0",
    "outputId": "f31f95e4-af88-40c4-d50a-a5f4b726d662"
   },
   "outputs": [],
   "source": [
    "df = df[columns]\n",
    "df.head()"
   ]
  },
  {
   "cell_type": "markdown",
   "metadata": {
    "id": "tVPL5bnn8lG5"
   },
   "source": [
    "También, para eliminar una única columna se puede usar la palabra reservada **`del`**:"
   ]
  },
  {
   "cell_type": "code",
   "execution_count": null,
   "metadata": {
    "colab": {
     "base_uri": "https://localhost:8080/",
     "height": 204
    },
    "executionInfo": {
     "elapsed": 372,
     "status": "ok",
     "timestamp": 1614122436421,
     "user": {
      "displayName": "Daniel Felipe Fragua Rengifo",
      "photoUrl": "",
      "userId": "09845551813303536248"
     },
     "user_tz": 300
    },
    "id": "gRdcEOV8e7at",
    "outputId": "abc11684-f360-4b5e-fb8c-742150225daa"
   },
   "outputs": [],
   "source": [
    "del df['Dietary Fiber']\n",
    "df.head()"
   ]
  },
  {
   "cell_type": "markdown",
   "metadata": {
    "id": "1jF1aih6gcdu"
   },
   "source": [
    "Otra alternativa es utilizar el método **`df.pop`**, que da el mismo resultado."
   ]
  },
  {
   "cell_type": "code",
   "execution_count": null,
   "metadata": {
    "colab": {
     "base_uri": "https://localhost:8080/",
     "height": 204
    },
    "executionInfo": {
     "elapsed": 381,
     "status": "ok",
     "timestamp": 1614122440742,
     "user": {
      "displayName": "Daniel Felipe Fragua Rengifo",
      "photoUrl": "",
      "userId": "09845551813303536248"
     },
     "user_tz": 300
    },
    "id": "SM_djr0xgkYj",
    "outputId": "c11061de-6d36-4787-e5de-ddd933294c3f"
   },
   "outputs": [],
   "source": [
    "df.pop('Fat')\n",
    "df.head()"
   ]
  },
  {
   "cell_type": "markdown",
   "metadata": {
    "id": "nFxD5yE-hkpb"
   },
   "source": [
    "### **3.3. Combinar características**\n",
    "---\n",
    "\n",
    "La combinación de características se puede obtener como resultado de múltiples\n",
    "operaciones entre las columnas."
   ]
  },
  {
   "cell_type": "code",
   "execution_count": null,
   "metadata": {
    "colab": {
     "base_uri": "https://localhost:8080/",
     "height": 204
    },
    "executionInfo": {
     "elapsed": 369,
     "status": "ok",
     "timestamp": 1614122443666,
     "user": {
      "displayName": "Daniel Felipe Fragua Rengifo",
      "photoUrl": "",
      "userId": "09845551813303536248"
     },
     "user_tz": 300
    },
    "id": "ul1JhBldh9t0",
    "outputId": "461242f5-73d8-4d85-ec56-d62f2eff512b"
   },
   "outputs": [],
   "source": [
    "#Combinación de dos columnas por medio de una operación\n",
    "df['Cereal Name and Manufacturer'] = df['Cereal Name'] + ' - ' + df['Manufacturer']\n",
    "df.head()"
   ]
  },
  {
   "cell_type": "code",
   "execution_count": null,
   "metadata": {
    "colab": {
     "base_uri": "https://localhost:8080/",
     "height": 204
    },
    "executionInfo": {
     "elapsed": 380,
     "status": "ok",
     "timestamp": 1614122446198,
     "user": {
      "displayName": "Daniel Felipe Fragua Rengifo",
      "photoUrl": "",
      "userId": "09845551813303536248"
     },
     "user_tz": 300
    },
    "id": "VRRuKLKmi4-z",
    "outputId": "1f1aa657-b028-4445-e031-fb0e3998f5a8"
   },
   "outputs": [],
   "source": [
    "#Combinación de dos columnas por medio de una operación\n",
    "\n",
    "df['Calories per carbs'] = df['Calories'] / df['Carbs']\n",
    "df.head()"
   ]
  },
  {
   "cell_type": "markdown",
   "metadata": {
    "id": "eWDh7TEU_s0r"
   },
   "source": [
    "### **3.4. Dividir características**\n",
    "---\n",
    "\n",
    "En muchas ocasiones sucede lo contrario, en una sola columna se tiene un dato que es necesario procesar para generar múltiples características. Por ejemplo, si tenemos una columna de fechas en el formato **`AAAA-MM-DD`**, podría ser necesario dividir esta columna en múltiples características como día, mes y año."
   ]
  },
  {
   "cell_type": "code",
   "execution_count": null,
   "metadata": {
    "colab": {
     "base_uri": "https://localhost:8080/",
     "height": 204
    },
    "executionInfo": {
     "elapsed": 413,
     "status": "ok",
     "timestamp": 1614122454779,
     "user": {
      "displayName": "Daniel Felipe Fragua Rengifo",
      "photoUrl": "",
      "userId": "09845551813303536248"
     },
     "user_tz": 300
    },
    "id": "oKFsinG-CYB-",
    "outputId": "02a38dc7-c693-4f17-b87b-eeda4b0599b6"
   },
   "outputs": [],
   "source": [
    "# Crear una col con un valor fijo.\n",
    "import datetime\n",
    "\n",
    "df['Date'] = datetime.date.today()\n",
    "df.head()"
   ]
  },
  {
   "cell_type": "markdown",
   "metadata": {
    "id": "XvmouDEVIUg3"
   },
   "source": [
    "Dividir características:"
   ]
  },
  {
   "cell_type": "code",
   "execution_count": null,
   "metadata": {
    "colab": {
     "base_uri": "https://localhost:8080/",
     "height": 204
    },
    "executionInfo": {
     "elapsed": 369,
     "status": "ok",
     "timestamp": 1614122480123,
     "user": {
      "displayName": "Daniel Felipe Fragua Rengifo",
      "photoUrl": "",
      "userId": "09845551813303536248"
     },
     "user_tz": 300
    },
    "id": "_7eoGKodIUg5",
    "outputId": "ee5a6720-4345-4b02-f059-e3a4e9451697"
   },
   "outputs": [],
   "source": [
    "df['Year'] = df['Date'].apply(lambda fecha: str(fecha).split(\"-\")[0])\n",
    "df['Month'] = df['Date'].apply(lambda fecha: str(fecha).split(\"-\")[1])\n",
    "df['Day'] = df['Date'].apply(lambda fecha: str(fecha).split(\"-\")[2])\n",
    "\n",
    "df.head()"
   ]
  },
  {
   "cell_type": "markdown",
   "metadata": {
    "id": "I1X-dpY2CdaK"
   },
   "source": [
    "Ahora, supongamos que el *dataset* con el que estamos trabajando no tiene la información de **`Cereal Name`** y **`Manufacturer`**:"
   ]
  },
  {
   "cell_type": "code",
   "execution_count": null,
   "metadata": {
    "colab": {
     "base_uri": "https://localhost:8080/",
     "height": 204
    },
    "executionInfo": {
     "elapsed": 387,
     "status": "ok",
     "timestamp": 1614122476742,
     "user": {
      "displayName": "Daniel Felipe Fragua Rengifo",
      "photoUrl": "",
      "userId": "09845551813303536248"
     },
     "user_tz": 300
    },
    "id": "XhbwfGjxAZzO",
    "outputId": "17f2d7bd-6f85-46fd-ef59-6a64f743d6ed"
   },
   "outputs": [],
   "source": [
    "del df['Cereal Name']\n",
    "del df['Manufacturer']\n",
    "df.head()"
   ]
  },
  {
   "cell_type": "markdown",
   "metadata": {
    "id": "cHbwePdBAlE4"
   },
   "source": [
    "Si necesitáramos realizar análisis de acuerdo al fabricante, sería necesario conocer dicha información por separado. En la forma actual del *dataset*, este dato está disponible en la columna **`Nombre y fabricante`**. Por lo tanto, vamos a dividir esta característica de interés:"
   ]
  },
  {
   "cell_type": "code",
   "execution_count": null,
   "metadata": {
    "colab": {
     "base_uri": "https://localhost:8080/",
     "height": 204
    },
    "executionInfo": {
     "elapsed": 426,
     "status": "ok",
     "timestamp": 1614122484141,
     "user": {
      "displayName": "Daniel Felipe Fragua Rengifo",
      "photoUrl": "",
      "userId": "09845551813303536248"
     },
     "user_tz": 300
    },
    "id": "whYDBP2DBBJz",
    "outputId": "d44f969e-e4b5-4759-cdf7-f087901c3212"
   },
   "outputs": [],
   "source": [
    "df['Manufacturer'] = df['Cereal Name and Manufacturer'].apply(lambda cad: cad.split(\" - \")[-1])\n",
    "df.head()"
   ]
  },
  {
   "cell_type": "markdown",
   "metadata": {
    "id": "J5x499xfj_PI"
   },
   "source": [
    "## **4. Limpieza de datos**\n",
    "---\n",
    "\n",
    "Antes de procesar o modelar un conjunto de datos es importante detectar y corregir problemas que influyan en la calidad de los datos de interés. Si no se hace este proceso los resultados del análisis pueden verse afectados negativamente.\n",
    "\n",
    "Este proceso empieza incluso desde el momento de la adquisición de los datos, en donde el formato y características de dominio toman una importancia fundamental en la detección de problemas. Como se vio en la guía anterior, muchas de las funciones de carga y generación de archivos permiten personalizar estas características del formato, como las convenciones usadas en fechas, números y valores faltantes.\n",
    "\n",
    "En esta sección se discutirán herramientas que ofrece *pandas* para lidiar con problemas típicos en datos ya cargados."
   ]
  },
  {
   "cell_type": "markdown",
   "metadata": {
    "id": "_CudGQxNkJTo"
   },
   "source": [
    "### **4.1. Valores faltantes**\n",
    "---\n",
    "En la recolección de datos se suelen definir variables que son de carácter no obligatorio, y que no se capturan en una observación. De acuerdo a los criterios del negocio y las necesidades del problema, puede ser necesario eliminar toda la fila, o también, imputar datos para completar los faltantes, usualmente con medidas como la media aritmética de los datos presentes.\n",
    "\n",
    "En *Python* valores como **`None`** y **`NaN`** son valores faltantes."
   ]
  },
  {
   "cell_type": "code",
   "execution_count": null,
   "metadata": {
    "colab": {
     "base_uri": "https://localhost:8080/",
     "height": 266
    },
    "executionInfo": {
     "elapsed": 521,
     "status": "ok",
     "timestamp": 1614122505660,
     "user": {
      "displayName": "Daniel Felipe Fragua Rengifo",
      "photoUrl": "",
      "userId": "09845551813303536248"
     },
     "user_tz": 300
    },
    "id": "44fdBGp9kLZV",
    "outputId": "b2c76f8b-b9c6-4c21-f5f0-b0da54cf365f"
   },
   "outputs": [],
   "source": [
    "df = pd.DataFrame({\n",
    "    'a' : np.random.rand(7),\n",
    "    'b' : np.append(np.random.rand(5), [np.NaN, np.NaN]),\n",
    "    'c' : np.random.rand(7),\n",
    "\n",
    "})\n",
    "df.loc[ [2,4] ,'a'] = np.nan\n",
    "\n",
    "df"
   ]
  },
  {
   "cell_type": "code",
   "execution_count": null,
   "metadata": {
    "colab": {
     "base_uri": "https://localhost:8080/",
     "height": 266
    },
    "executionInfo": {
     "elapsed": 268,
     "status": "ok",
     "timestamp": 1614122505660,
     "user": {
      "displayName": "Daniel Felipe Fragua Rengifo",
      "photoUrl": "",
      "userId": "09845551813303536248"
     },
     "user_tz": 300
    },
    "id": "qwKPGnIvnpyz",
    "outputId": "e446b69e-a543-47a5-ab0a-8e688eb6b22f"
   },
   "outputs": [],
   "source": [
    "#Verificar los registros con datos faltantes con .isna\n",
    "\n",
    "df.isna()"
   ]
  },
  {
   "cell_type": "code",
   "execution_count": null,
   "metadata": {
    "colab": {
     "base_uri": "https://localhost:8080/",
     "height": 266
    },
    "executionInfo": {
     "elapsed": 395,
     "status": "ok",
     "timestamp": 1614122508810,
     "user": {
      "displayName": "Daniel Felipe Fragua Rengifo",
      "photoUrl": "",
      "userId": "09845551813303536248"
     },
     "user_tz": 300
    },
    "id": "K1LlWYIRoPQM",
    "outputId": "ab94615c-a91c-4235-e350-16a9d340e46d"
   },
   "outputs": [],
   "source": [
    "#Verificar los registros cuyos datos NO son faltantes con .notna\n",
    "\n",
    "df.notna()"
   ]
  },
  {
   "cell_type": "markdown",
   "metadata": {
    "id": "L2ok0B1Jnqo-"
   },
   "source": [
    "**Opción 1: Eliminar los registros/características con datos faltantes:**"
   ]
  },
  {
   "cell_type": "code",
   "execution_count": null,
   "metadata": {
    "colab": {
     "base_uri": "https://localhost:8080/",
     "height": 204
    },
    "executionInfo": {
     "elapsed": 454,
     "status": "ok",
     "timestamp": 1614122513194,
     "user": {
      "displayName": "Daniel Felipe Fragua Rengifo",
      "photoUrl": "",
      "userId": "09845551813303536248"
     },
     "user_tz": 300
    },
    "id": "ANribirdp5fp",
    "outputId": "eddf4c58-c2a7-47e1-a3b1-09a5ed8fd3fd"
   },
   "outputs": [],
   "source": [
    "#Filtrar los datos faltantes en cada columna.\n",
    "df[df['b'].notna()]"
   ]
  },
  {
   "cell_type": "code",
   "execution_count": null,
   "metadata": {
    "colab": {
     "base_uri": "https://localhost:8080/",
     "height": 142
    },
    "executionInfo": {
     "elapsed": 395,
     "status": "ok",
     "timestamp": 1614122515999,
     "user": {
      "displayName": "Daniel Felipe Fragua Rengifo",
      "photoUrl": "",
      "userId": "09845551813303536248"
     },
     "user_tz": 300
    },
    "id": "lIBlTESRtM-K",
    "outputId": "da7c582a-b429-4f6c-e20e-46edfc0b5adf"
   },
   "outputs": [],
   "source": [
    "#Usando selección condicional con expresiones compuestas.\n",
    "df[df['a'].notna() & df['b'].notna()]"
   ]
  },
  {
   "cell_type": "markdown",
   "metadata": {
    "id": "AqRBvv2Urd5D"
   },
   "source": [
    "Esto se puede lograr más rápido y breve con el método **`dropna`**."
   ]
  },
  {
   "cell_type": "code",
   "execution_count": null,
   "metadata": {
    "colab": {
     "base_uri": "https://localhost:8080/",
     "height": 142
    },
    "executionInfo": {
     "elapsed": 336,
     "status": "ok",
     "timestamp": 1614122519374,
     "user": {
      "displayName": "Daniel Felipe Fragua Rengifo",
      "photoUrl": "",
      "userId": "09845551813303536248"
     },
     "user_tz": 300
    },
    "id": "U3EtF1_zro06",
    "outputId": "5e723a68-b1f9-43f9-e500-cca0bc4b9227"
   },
   "outputs": [],
   "source": [
    "df.dropna() #Por defecto se filtran los registros con valores faltantes."
   ]
  },
  {
   "cell_type": "code",
   "execution_count": null,
   "metadata": {
    "colab": {
     "base_uri": "https://localhost:8080/",
     "height": 266
    },
    "executionInfo": {
     "elapsed": 278,
     "status": "ok",
     "timestamp": 1614122519792,
     "user": {
      "displayName": "Daniel Felipe Fragua Rengifo",
      "photoUrl": "",
      "userId": "09845551813303536248"
     },
     "user_tz": 300
    },
    "id": "pARIeZdXr0ot",
    "outputId": "35764270-264a-4ff8-acf2-98c928435389"
   },
   "outputs": [],
   "source": [
    "df.dropna(axis = 1) #También se pueden filtrar columnas enteras con valores faltantes"
   ]
  },
  {
   "cell_type": "code",
   "execution_count": null,
   "metadata": {
    "colab": {
     "base_uri": "https://localhost:8080/",
     "height": 142
    },
    "executionInfo": {
     "elapsed": 354,
     "status": "ok",
     "timestamp": 1614122521493,
     "user": {
      "displayName": "Daniel Felipe Fragua Rengifo",
      "photoUrl": "",
      "userId": "09845551813303536248"
     },
     "user_tz": 300
    },
    "id": "GobSiFfLHFja",
    "outputId": "7f7aba2e-1a00-4d59-d1a6-0cea7842e808"
   },
   "outputs": [],
   "source": [
    "df.dropna(axis = 0) #También se pueden filtrar filas enteras con valores faltantes. Esto es lo más común."
   ]
  },
  {
   "cell_type": "code",
   "execution_count": null,
   "metadata": {
    "colab": {
     "base_uri": "https://localhost:8080/",
     "height": 266
    },
    "executionInfo": {
     "elapsed": 358,
     "status": "ok",
     "timestamp": 1614122558659,
     "user": {
      "displayName": "Daniel Felipe Fragua Rengifo",
      "photoUrl": "",
      "userId": "09845551813303536248"
     },
     "user_tz": 300
    },
    "id": "j5UIIma3GwvH",
    "outputId": "9aa4ac96-c842-49cd-98bd-0dd1c47a8646"
   },
   "outputs": [],
   "source": [
    "# Nótese que no se modifica el DataFrame original.\n",
    "\n",
    "df"
   ]
  },
  {
   "cell_type": "code",
   "execution_count": null,
   "metadata": {
    "colab": {
     "base_uri": "https://localhost:8080/",
     "height": 142
    },
    "executionInfo": {
     "elapsed": 379,
     "status": "ok",
     "timestamp": 1614122561902,
     "user": {
      "displayName": "Daniel Felipe Fragua Rengifo",
      "photoUrl": "",
      "userId": "09845551813303536248"
     },
     "user_tz": 300
    },
    "id": "Wg7tCc8YHRhy",
    "outputId": "82291f46-a41e-49ca-ee51-ccea7a39b472"
   },
   "outputs": [],
   "source": [
    "# Para modificarlo debemos usar el parámetro inplace=True\n",
    "df.dropna(axis = 0, inplace=True)\n",
    "df"
   ]
  },
  {
   "cell_type": "markdown",
   "metadata": {
    "id": "6bPN0jfArHff"
   },
   "source": [
    "**Opción 2: Imputar datos en los registros con datos faltantes con valores calculados:**"
   ]
  },
  {
   "cell_type": "code",
   "execution_count": null,
   "metadata": {
    "colab": {
     "base_uri": "https://localhost:8080/",
     "height": 266
    },
    "executionInfo": {
     "elapsed": 369,
     "status": "ok",
     "timestamp": 1614122564178,
     "user": {
      "displayName": "Daniel Felipe Fragua Rengifo",
      "photoUrl": "",
      "userId": "09845551813303536248"
     },
     "user_tz": 300
    },
    "id": "Rl8g8KIaIW10",
    "outputId": "cbbf23e3-f0f3-433b-c045-e93316d09345"
   },
   "outputs": [],
   "source": [
    "df = pd.DataFrame({\n",
    "    'a' : np.random.rand(7),\n",
    "    'b' : np.append(np.random.rand(5), [np.NaN, np.NaN]),\n",
    "    'c' : np.random.rand(7),\n",
    "\n",
    "})\n",
    "df.loc[ [2,4] ,'a'] = np.nan\n",
    "\n",
    "df"
   ]
  },
  {
   "cell_type": "markdown",
   "metadata": {
    "id": "m3G-OFYJopYE"
   },
   "source": [
    "> **NOTA:** Tenga en cuenta que al imputar datos se están creando datos sintéticos. Debe asegurarse de estar haciendo lo correcto para no terminar sesgando los resultados de los análisis y modelos.\n",
    "\n",
    "Las expresiones obtenidas con **`isna`** y **`notna`** pueden usarse como una máscara en métodos como **`where`** y **`mask`**."
   ]
  },
  {
   "cell_type": "code",
   "execution_count": null,
   "metadata": {
    "colab": {
     "base_uri": "https://localhost:8080/",
     "height": 266
    },
    "executionInfo": {
     "elapsed": 600,
     "status": "ok",
     "timestamp": 1614122568803,
     "user": {
      "displayName": "Daniel Felipe Fragua Rengifo",
      "photoUrl": "",
      "userId": "09845551813303536248"
     },
     "user_tz": 300
    },
    "id": "8wyNx_xso7pS",
    "outputId": "e88d0a33-2e04-415f-c82a-c849f17dabca"
   },
   "outputs": [],
   "source": [
    "# Reemplazando valores faltantes con la etiqueta \"Ns/Nr\"\n",
    "df.where(df.notna(), 'Ns/Nr')"
   ]
  },
  {
   "cell_type": "code",
   "execution_count": null,
   "metadata": {
    "colab": {
     "base_uri": "https://localhost:8080/"
    },
    "executionInfo": {
     "elapsed": 391,
     "status": "ok",
     "timestamp": 1614122586399,
     "user": {
      "displayName": "Daniel Felipe Fragua Rengifo",
      "photoUrl": "",
      "userId": "09845551813303536248"
     },
     "user_tz": 300
    },
    "id": "VK4TAlkSsIlj",
    "outputId": "05f23057-ab99-4827-d9e0-c52b693aa801"
   },
   "outputs": [],
   "source": [
    "# Imputando con la media de una columna.\n",
    "df['b'].mask(df['b'].isna(), df['b'].mean())"
   ]
  },
  {
   "cell_type": "markdown",
   "metadata": {
    "id": "lBNqHf28sVg0"
   },
   "source": [
    "También se puede usar el método **`fillna`** para cambiar los valores faltantes por valores definidos."
   ]
  },
  {
   "cell_type": "code",
   "execution_count": null,
   "metadata": {
    "colab": {
     "base_uri": "https://localhost:8080/"
    },
    "executionInfo": {
     "elapsed": 388,
     "status": "ok",
     "timestamp": 1614122591992,
     "user": {
      "displayName": "Daniel Felipe Fragua Rengifo",
      "photoUrl": "",
      "userId": "09845551813303536248"
     },
     "user_tz": 300
    },
    "id": "f2iUFA7PsqXL",
    "outputId": "eebca164-1924-4b37-bdea-e8e3df16b7a9"
   },
   "outputs": [],
   "source": [
    "df['a'].fillna(df['a'].mean())"
   ]
  },
  {
   "cell_type": "markdown",
   "metadata": {
    "id": "mKyfF6evIwW1"
   },
   "source": [
    "Para modificar el dataframe recuerde usar el parámetro **`inplace = True`**."
   ]
  },
  {
   "cell_type": "code",
   "execution_count": null,
   "metadata": {
    "colab": {
     "base_uri": "https://localhost:8080/",
     "height": 266
    },
    "executionInfo": {
     "elapsed": 405,
     "status": "ok",
     "timestamp": 1614122606087,
     "user": {
      "displayName": "Daniel Felipe Fragua Rengifo",
      "photoUrl": "",
      "userId": "09845551813303536248"
     },
     "user_tz": 300
    },
    "id": "H5RHnXwsJHxh",
    "outputId": "000581eb-760b-413e-9fd9-a2a2ed0503e7"
   },
   "outputs": [],
   "source": [
    "df"
   ]
  },
  {
   "cell_type": "markdown",
   "metadata": {
    "id": "bcRjZ2EGtuXG"
   },
   "source": [
    "El método **`fillna`** también recibe el argumento **`method`**, que permite realizar la imputación de forma automática siguiendo algunos métodos conocidos."
   ]
  },
  {
   "cell_type": "code",
   "execution_count": null,
   "metadata": {
    "colab": {
     "base_uri": "https://localhost:8080/",
     "height": 266
    },
    "executionInfo": {
     "elapsed": 350,
     "status": "ok",
     "timestamp": 1614122622495,
     "user": {
      "displayName": "Daniel Felipe Fragua Rengifo",
      "photoUrl": "",
      "userId": "09845551813303536248"
     },
     "user_tz": 300
    },
    "id": "pI6npwsZuLrV",
    "outputId": "32971768-144b-4e1f-d9c9-b4854575eb2e"
   },
   "outputs": [],
   "source": [
    "# Realizar \"padding\", usando los datos desde el inicio para reemplazar los datos faltantes que le siguen.\n",
    "\n",
    "df.fillna(method= 'pad') #También sirve \"ffill\""
   ]
  },
  {
   "cell_type": "code",
   "execution_count": null,
   "metadata": {
    "colab": {
     "base_uri": "https://localhost:8080/",
     "height": 266
    },
    "executionInfo": {
     "elapsed": 373,
     "status": "ok",
     "timestamp": 1614122649287,
     "user": {
      "displayName": "Daniel Felipe Fragua Rengifo",
      "photoUrl": "",
      "userId": "09845551813303536248"
     },
     "user_tz": 300
    },
    "id": "_KGKdqnAtogA",
    "outputId": "2ab5837d-678f-4262-cc25-8ac35204f99e"
   },
   "outputs": [],
   "source": [
    "# Realizar \"backfill\", usando los datos desde el final para reemplazar valores faltantes.\n",
    "\n",
    "df.fillna(method= 'backfill') #También sirve \"bfill\""
   ]
  },
  {
   "cell_type": "markdown",
   "metadata": {
    "id": "x7n-nvvKukVD"
   },
   "source": [
    "Ambos métodos de imputación tienen un método asociado en objetos *Series* y *DataFrame*."
   ]
  },
  {
   "cell_type": "code",
   "execution_count": null,
   "metadata": {
    "colab": {
     "base_uri": "https://localhost:8080/",
     "height": 266
    },
    "executionInfo": {
     "elapsed": 364,
     "status": "ok",
     "timestamp": 1614122667407,
     "user": {
      "displayName": "Daniel Felipe Fragua Rengifo",
      "photoUrl": "",
      "userId": "09845551813303536248"
     },
     "user_tz": 300
    },
    "id": "yn8iuBWJujY2",
    "outputId": "eed5902e-d2e2-4a9a-8c2c-63c65bae948d"
   },
   "outputs": [],
   "source": [
    "df.ffill() # Igual que df.fillna(method= 'ffill')"
   ]
  },
  {
   "cell_type": "code",
   "execution_count": null,
   "metadata": {
    "colab": {
     "base_uri": "https://localhost:8080/",
     "height": 266
    },
    "executionInfo": {
     "elapsed": 327,
     "status": "ok",
     "timestamp": 1614122667870,
     "user": {
      "displayName": "Daniel Felipe Fragua Rengifo",
      "photoUrl": "",
      "userId": "09845551813303536248"
     },
     "user_tz": 300
    },
    "id": "bJXcv6P8uviy",
    "outputId": "d0b5b416-932d-448c-bdf8-7c0f3ae823f6"
   },
   "outputs": [],
   "source": [
    "df.bfill() # Igual que df.fillna(method= 'bfill')"
   ]
  },
  {
   "cell_type": "markdown",
   "metadata": {
    "id": "DsETeFskmomX"
   },
   "source": [
    "### **4.2. Datos duplicados**\n",
    "---\n",
    "\n",
    "En ocasiones es posible encontrar datos que están o aparentan estar duplicados en un conjunto de datos. Estos datos pueden eliminarse fácilmente (si se considera apropiado en relación a las necesidades de nuestro análisis) con algunos métodos que ofrece *pandas*.\n",
    "\n",
    "En primer lugar, es posible verificar qué datos están duplicados en un objeto *Series* o *DataFrame* con el método **`duplicated`**.\n"
   ]
  },
  {
   "cell_type": "code",
   "execution_count": null,
   "metadata": {
    "colab": {
     "base_uri": "https://localhost:8080/",
     "height": 359
    },
    "executionInfo": {
     "elapsed": 370,
     "status": "ok",
     "timestamp": 1614122678354,
     "user": {
      "displayName": "Daniel Felipe Fragua Rengifo",
      "photoUrl": "",
      "userId": "09845551813303536248"
     },
     "user_tz": 300
    },
    "id": "SMK_hjWSyALO",
    "outputId": "cdfe98e5-ab6c-4ac2-c43e-9bf5f7af5af7"
   },
   "outputs": [],
   "source": [
    "df = pd.DataFrame({'a': np.random.randint(0,5, 10),\n",
    "                   'b': np.random.randint(0,5, 10)\n",
    "                   })\n",
    "df"
   ]
  },
  {
   "cell_type": "code",
   "execution_count": null,
   "metadata": {
    "colab": {
     "base_uri": "https://localhost:8080/"
    },
    "executionInfo": {
     "elapsed": 369,
     "status": "ok",
     "timestamp": 1614122682467,
     "user": {
      "displayName": "Daniel Felipe Fragua Rengifo",
      "photoUrl": "",
      "userId": "09845551813303536248"
     },
     "user_tz": 300
    },
    "id": "saoWDYNvx7Pz",
    "outputId": "ba46773b-805c-4c97-a8f7-a10f198fae12"
   },
   "outputs": [],
   "source": [
    "df.duplicated() # Evalúa filas completamente duplicadas. Es preferible hacerlo en las columnas que nos interesen."
   ]
  },
  {
   "cell_type": "code",
   "execution_count": null,
   "metadata": {},
   "outputs": [],
   "source": [
    "df[df.duplicated()]"
   ]
  },
  {
   "cell_type": "code",
   "execution_count": null,
   "metadata": {
    "colab": {
     "base_uri": "https://localhost:8080/"
    },
    "executionInfo": {
     "elapsed": 420,
     "status": "ok",
     "timestamp": 1614122712111,
     "user": {
      "displayName": "Daniel Felipe Fragua Rengifo",
      "photoUrl": "",
      "userId": "09845551813303536248"
     },
     "user_tz": 300
    },
    "id": "J9P4XJ2NybBm",
    "outputId": "79d1fc14-1df0-43d3-ca7d-6c1246c538c7"
   },
   "outputs": [],
   "source": [
    "df['a'].duplicated()"
   ]
  },
  {
   "cell_type": "code",
   "execution_count": null,
   "metadata": {},
   "outputs": [],
   "source": [
    "df[df['a'].duplicated()]"
   ]
  },
  {
   "cell_type": "markdown",
   "metadata": {
    "id": "MIaF473iypBO"
   },
   "source": [
    "Por otra parte, se pueden eliminar directamente registros con duplicados con el método **`drop_duplicates`**."
   ]
  },
  {
   "cell_type": "code",
   "execution_count": null,
   "metadata": {
    "colab": {
     "base_uri": "https://localhost:8080/",
     "height": 204
    },
    "executionInfo": {
     "elapsed": 383,
     "status": "ok",
     "timestamp": 1614122742067,
     "user": {
      "displayName": "Daniel Felipe Fragua Rengifo",
      "photoUrl": "",
      "userId": "09845551813303536248"
     },
     "user_tz": 300
    },
    "id": "Gmnf1D9fynNF",
    "outputId": "da7f03bf-30d3-4bea-8305-27ebd7495ee4"
   },
   "outputs": [],
   "source": [
    "df.drop_duplicates('a') # Se eliminan las filas repetidas en la columna deseada. Por defecto se conserva el primer registro."
   ]
  },
  {
   "cell_type": "markdown",
   "metadata": {
    "id": "gw_Y36awy5G7"
   },
   "source": [
    "El resultado deseado puede cambiar con el argumento **`keep`**, que define los elementos que se desean conservar de entre todos los valores duplicados. Las opciones son conservar el primer elemento (**`first`**) o conservar el último elemento (**`last`**) de entre todos los valores repetidos.\n"
   ]
  },
  {
   "cell_type": "code",
   "execution_count": null,
   "metadata": {
    "colab": {
     "base_uri": "https://localhost:8080/",
     "height": 204
    },
    "executionInfo": {
     "elapsed": 364,
     "status": "ok",
     "timestamp": 1614122747114,
     "user": {
      "displayName": "Daniel Felipe Fragua Rengifo",
      "photoUrl": "",
      "userId": "09845551813303536248"
     },
     "user_tz": 300
    },
    "id": "0j90L8-szg8T",
    "outputId": "cb6c1afe-2533-436f-a906-f2d853b2f04d"
   },
   "outputs": [],
   "source": [
    "df.drop_duplicates('a', keep = 'last')"
   ]
  },
  {
   "cell_type": "markdown",
   "metadata": {
    "id": "QojovNfZmo4b"
   },
   "source": [
    "### **4.3. Reemplazar datos**\n",
    "---\n",
    "Finalmente, se pueden considerar muchas tareas de limpieza de datos que no involucren eliminar registros sino convertir su formato en uno común a aquel que tienen otros conjuntos de datos que nos interesa combinar, o con componentes de ruido innecesario proveniente de su manejo en el dominio. Para esto puede ser necesario reemplazar (**`replace`**) valores o renombrar (**`rename`**) etiquetas de filas y columnas.\n",
    "\n",
    "En primer lugar tenemos el método (**`replace`**), que permite, como su nombre lo indica, reemplazar valores según se indique en sus argumentos. Estos pueden ser de varios tipos:\n",
    "\n"
   ]
  },
  {
   "cell_type": "code",
   "execution_count": null,
   "metadata": {
    "colab": {
     "base_uri": "https://localhost:8080/",
     "height": 204
    },
    "executionInfo": {
     "elapsed": 385,
     "status": "ok",
     "timestamp": 1614122753420,
     "user": {
      "displayName": "Daniel Felipe Fragua Rengifo",
      "photoUrl": "",
      "userId": "09845551813303536248"
     },
     "user_tz": 300
    },
    "id": "rLfa735cvGQZ",
    "outputId": "44f44f2d-18a9-472a-9895-34c213cbb4e9"
   },
   "outputs": [],
   "source": [
    "df = pd.DataFrame({\n",
    "    'a': ['red', 'blue', 'red', 'green', 'green'],\n",
    "    'b': ['1.2 ms', '2.3 ms', '4.5 ms', '2.3 ms', '5.4 ms']\n",
    "})\n",
    "\n",
    "df"
   ]
  },
  {
   "cell_type": "code",
   "execution_count": null,
   "metadata": {
    "colab": {
     "base_uri": "https://localhost:8080/",
     "height": 204
    },
    "executionInfo": {
     "elapsed": 377,
     "status": "ok",
     "timestamp": 1614122754003,
     "user": {
      "displayName": "Daniel Felipe Fragua Rengifo",
      "photoUrl": "",
      "userId": "09845551813303536248"
     },
     "user_tz": 300
    },
    "id": "-ZUecQ-9vyXf",
    "outputId": "4140ea40-91a6-46cb-85bb-80ab50c246eb"
   },
   "outputs": [],
   "source": [
    "# Reemplazar valores sueltos\n",
    "\n",
    "df.replace('red', 'rojo')"
   ]
  },
  {
   "cell_type": "code",
   "execution_count": null,
   "metadata": {
    "colab": {
     "base_uri": "https://localhost:8080/"
    },
    "executionInfo": {
     "elapsed": 401,
     "status": "ok",
     "timestamp": 1614122755626,
     "user": {
      "displayName": "Daniel Felipe Fragua Rengifo",
      "photoUrl": "",
      "userId": "09845551813303536248"
     },
     "user_tz": 300
    },
    "id": "GISb01OZwGT1",
    "outputId": "e6f7b214-42d2-4eef-9835-5c8fff1b8fa5"
   },
   "outputs": [],
   "source": [
    "#También es válido en objetos Series.\n",
    "\n",
    "df['a'].replace('red', 'rojo')"
   ]
  },
  {
   "cell_type": "code",
   "execution_count": null,
   "metadata": {
    "colab": {
     "base_uri": "https://localhost:8080/",
     "height": 204
    },
    "executionInfo": {
     "elapsed": 361,
     "status": "ok",
     "timestamp": 1614122757087,
     "user": {
      "displayName": "Daniel Felipe Fragua Rengifo",
      "photoUrl": "",
      "userId": "09845551813303536248"
     },
     "user_tz": 300
    },
    "id": "qyuHrUOJwK3H",
    "outputId": "d744da43-764b-473e-b01b-1c98b29c1ec9"
   },
   "outputs": [],
   "source": [
    "# Se pueden reemplazar múltiples valores usando listas. Las posiciones corresponden en los valores a cambiar.\n",
    "\n",
    "df.replace(['red', 'blue', 'green'], ['rojo', 'azul', 'verde'])"
   ]
  },
  {
   "cell_type": "code",
   "execution_count": null,
   "metadata": {
    "colab": {
     "base_uri": "https://localhost:8080/",
     "height": 204
    },
    "executionInfo": {
     "elapsed": 393,
     "status": "ok",
     "timestamp": 1614122758595,
     "user": {
      "displayName": "Daniel Felipe Fragua Rengifo",
      "photoUrl": "",
      "userId": "09845551813303536248"
     },
     "user_tz": 300
    },
    "id": "kIpDSHCAwcnv",
    "outputId": "db212039-8278-4368-b75f-57999c289693"
   },
   "outputs": [],
   "source": [
    "#Se puede obtener el mismo resultado con diccionarios.\n",
    "\n",
    "df.replace({'red'   : 'rojo',\n",
    "            'blue'  : 'azul',\n",
    "            'green' : 'verde'})"
   ]
  },
  {
   "cell_type": "markdown",
   "metadata": {
    "id": "v_Vqj6DcxWKG"
   },
   "source": [
    "Dentro de los valores permitidos para la definición de estos reemplazamientos está el uso de [**expresiones regulares**](https://docs.python.org/3/library/re.html), usadas para buscar e identificar patrones léxicos en el texto usadas cuando no se puede definir puntualmente cada valor a reemplazar. Si desea conocer más lo invitamos a visitar la documentación oficial del método [**`replace`**](https://pandas.pydata.org/pandas-docs/stable/reference/api/pandas.DataFrame.replace.html) en donde se indican ejemplos e ideas sobre cómo usar este tipo de expresiones."
   ]
  },
  {
   "cell_type": "code",
   "execution_count": null,
   "metadata": {
    "colab": {
     "base_uri": "https://localhost:8080/"
    },
    "executionInfo": {
     "elapsed": 395,
     "status": "ok",
     "timestamp": 1614122783135,
     "user": {
      "displayName": "Daniel Felipe Fragua Rengifo",
      "photoUrl": "",
      "userId": "09845551813303536248"
     },
     "user_tz": 300
    },
    "id": "4MCkz91Nzzeu",
    "outputId": "034b38a3-fe34-4668-b063-06ea25225759"
   },
   "outputs": [],
   "source": [
    "# Expresión regular para eliminar el texto 'ms' de las variables.\n",
    "\n",
    "df['b'].replace(r'(ms)', r'', regex = True).astype(float) # El método astype permite cambiar el tipo de dato de una columna."
   ]
  },
  {
   "cell_type": "code",
   "execution_count": null,
   "metadata": {
    "colab": {
     "base_uri": "https://localhost:8080/"
    },
    "executionInfo": {
     "elapsed": 385,
     "status": "ok",
     "timestamp": 1614122797367,
     "user": {
      "displayName": "Daniel Felipe Fragua Rengifo",
      "photoUrl": "",
      "userId": "09845551813303536248"
     },
     "user_tz": 300
    },
    "id": "u0Af-ce3NzOu",
    "outputId": "366614e9-a645-4238-c327-9c2a7de3f315"
   },
   "outputs": [],
   "source": [
    "df['b'].replace('(ms)', '', regex = True).astype(float) # El método astype permite cambiar el tipo de dato de una columna."
   ]
  },
  {
   "cell_type": "markdown",
   "metadata": {
    "id": "tYW46k101dA2"
   },
   "source": [
    "> **Nota:** El método **`replace`** también se puede usar para reemplazar valores faltantes."
   ]
  },
  {
   "cell_type": "code",
   "execution_count": null,
   "metadata": {
    "id": "JJJ1kcp71jVw"
   },
   "outputs": [],
   "source": [
    "ser = pd.Series([0, 1, np.NaN, 3])\n",
    "ser.replace(np.NaN, 2)"
   ]
  },
  {
   "cell_type": "markdown",
   "metadata": {
    "id": "_0DF0BlA1sTS"
   },
   "source": [
    "El segundo método utilizado para cumplir esta tarea es **`rename`**. Este método es usado para cambiar el nombre de las etiquetas de los índices de filas y columnas de los objetos de *pandas*. El comportamiento básico es prácticamente el mismo que el de **`replace`**."
   ]
  },
  {
   "cell_type": "code",
   "execution_count": null,
   "metadata": {
    "id": "KnuR9DGn2Tbg"
   },
   "outputs": [],
   "source": [
    "df = pd.DataFrame({\n",
    "    'Area'      : [17125192,  9525067,   100210,    242495,   640679],\n",
    "    'Population': [146748590, 330149353, 51780579, 66796807, 67098000]\n",
    "\n",
    "\n",
    "}, index = ['Russia', 'United States', 'South Korea', 'United Kingdom', 'France'])\n",
    "\n",
    "df"
   ]
  },
  {
   "cell_type": "code",
   "execution_count": null,
   "metadata": {
    "id": "jTZNS_fXAVMa"
   },
   "outputs": [],
   "source": [
    "#Se puede usar un diccionario.\n",
    "\n",
    "df.rename({\n",
    "    'Russia' : 'Rusia',\n",
    "    'United States' : 'Estados Unidos',\n",
    "    'South Korea' : 'Corea del Sur',\n",
    "    'United Kingdom' : 'Reino Unido',\n",
    "    'France' : 'Francia'\n",
    "    },\n",
    "    inplace = True) #Modificar el DataFrame original\n",
    "\n",
    "df"
   ]
  },
  {
   "cell_type": "code",
   "execution_count": null,
   "metadata": {
    "id": "PJSjjeFwCPrD"
   },
   "outputs": [],
   "source": [
    "#También se pueden renombrar las columnas.\n",
    "\n",
    "df.rename({\n",
    "    'Area' : 'Área (km^2)',\n",
    "    'Population' : 'Población',\n",
    "    },\n",
    "    axis = 1, # Modificar columnas en vez de filas\n",
    "    inplace = True) #Modificar el DataFrame original\n",
    "\n",
    "df"
   ]
  },
  {
   "cell_type": "markdown",
   "metadata": {
    "id": "IYfumcIF1igO"
   },
   "source": [
    "Además de diccionarios, se pueden definir los nombres nuevos por medio de funciones, que toman cada nombre y retornan el valor correspondiente a la nueva etiqueta."
   ]
  },
  {
   "cell_type": "code",
   "execution_count": null,
   "metadata": {
    "id": "VlayOlEXDVdt"
   },
   "outputs": [],
   "source": [
    "#Usando funciones (expresión lambda) para realizar el renombrado.\n",
    "df.rename(lambda s: f'[{s.upper()}]')"
   ]
  },
  {
   "cell_type": "markdown",
   "metadata": {
    "id": "tb5kvzpAtf_f"
   },
   "source": [
    "## **5. Preprocesamiento y transformación**\n",
    "---\n",
    "Al preparar los datos para el modelado es necesario realizar tareas previas de transformación. Con *pandas* es posible realizar este tipo de tareas, realizando operaciones y selección de características, que permitan derivar nuevos datos preprocesados y preparados para el modelado.\n",
    "\n",
    "A continuación se presentan algunas de las tareas más comunes:\n",
    "\n",
    "\n",
    "* **Normalización:** Esta es una tarea de redimensionado en la que se transforman los datos para que correspondan a una distribución normal estándar, con media aritmética centrada en 0 y desviación estándar de 1.\n"
   ]
  },
  {
   "cell_type": "code",
   "execution_count": null,
   "metadata": {
    "colab": {
     "base_uri": "https://localhost:8080/",
     "height": 419
    },
    "executionInfo": {
     "elapsed": 389,
     "status": "ok",
     "timestamp": 1614122966671,
     "user": {
      "displayName": "Daniel Felipe Fragua Rengifo",
      "photoUrl": "",
      "userId": "09845551813303536248"
     },
     "user_tz": 300
    },
    "id": "s9c_vgiyHV03",
    "outputId": "6db29867-0ccf-45bf-f151-390186537362"
   },
   "outputs": [],
   "source": [
    "df = pd.DataFrame(np.random.normal(5, 3, (100,2)), columns = ['x', 'y'] )\n",
    "df"
   ]
  },
  {
   "cell_type": "code",
   "execution_count": null,
   "metadata": {
    "colab": {
     "base_uri": "https://localhost:8080/",
     "height": 279
    },
    "executionInfo": {
     "elapsed": 726,
     "status": "ok",
     "timestamp": 1614122971283,
     "user": {
      "displayName": "Daniel Felipe Fragua Rengifo",
      "photoUrl": "",
      "userId": "09845551813303536248"
     },
     "user_tz": 300
    },
    "id": "rVlRvSBhP59N",
    "outputId": "8c5adf8f-d6a5-49cc-d894-1964c3172cec"
   },
   "outputs": [],
   "source": [
    "df.plot.scatter('x', 'y');\n",
    "# Nótese dónde está ubicado el origen (0,0)"
   ]
  },
  {
   "cell_type": "markdown",
   "metadata": {
    "id": "k6z1vwEPQEU7"
   },
   "source": [
    "Para normalizar una variable se puede recurrir a la siguiente formula:\n",
    "\n",
    "$$X_{norm} = \\frac{X - \\mu}{\\sigma}$$"
   ]
  },
  {
   "cell_type": "code",
   "execution_count": null,
   "metadata": {
    "colab": {
     "base_uri": "https://localhost:8080/",
     "height": 419
    },
    "executionInfo": {
     "elapsed": 401,
     "status": "ok",
     "timestamp": 1614122981496,
     "user": {
      "displayName": "Daniel Felipe Fragua Rengifo",
      "photoUrl": "",
      "userId": "09845551813303536248"
     },
     "user_tz": 300
    },
    "id": "KJGvQfXmQDIY",
    "outputId": "5747fece-5fd8-4789-e580-607186ef6d4a"
   },
   "outputs": [],
   "source": [
    "#Usando operadores numéricos en los datos para crear transformar las variables en sus versiones normalizadas.\n",
    "#NOTA: Tenga cuidado de usar solo variables numéricas en las operaciones matemáticas.\n",
    "\n",
    "df_norm =(df - df.mean())/df.std()\n",
    "\n",
    "df_norm"
   ]
  },
  {
   "cell_type": "code",
   "execution_count": null,
   "metadata": {
    "colab": {
     "base_uri": "https://localhost:8080/"
    },
    "executionInfo": {
     "elapsed": 364,
     "status": "ok",
     "timestamp": 1614122989761,
     "user": {
      "displayName": "Daniel Felipe Fragua Rengifo",
      "photoUrl": "",
      "userId": "09845551813303536248"
     },
     "user_tz": 300
    },
    "id": "P_MjFZH3Ql-T",
    "outputId": "8a8cb6d4-183e-4e39-fbbe-b765941f114d"
   },
   "outputs": [],
   "source": [
    "# Valores del DataFrame normalizado.\n",
    "\n",
    "df_norm.mean() #Aproximadamente 0."
   ]
  },
  {
   "cell_type": "code",
   "execution_count": null,
   "metadata": {
    "colab": {
     "base_uri": "https://localhost:8080/"
    },
    "executionInfo": {
     "elapsed": 383,
     "status": "ok",
     "timestamp": 1614122994957,
     "user": {
      "displayName": "Daniel Felipe Fragua Rengifo",
      "photoUrl": "",
      "userId": "09845551813303536248"
     },
     "user_tz": 300
    },
    "id": "sQRpL0Z5Qxaj",
    "outputId": "a1b765d7-84f3-407c-df79-1e4046a23f96"
   },
   "outputs": [],
   "source": [
    "df_norm.std()"
   ]
  },
  {
   "cell_type": "code",
   "execution_count": null,
   "metadata": {
    "colab": {
     "base_uri": "https://localhost:8080/",
     "height": 279
    },
    "executionInfo": {
     "elapsed": 562,
     "status": "ok",
     "timestamp": 1614122997799,
     "user": {
      "displayName": "Daniel Felipe Fragua Rengifo",
      "photoUrl": "",
      "userId": "09845551813303536248"
     },
     "user_tz": 300
    },
    "id": "MmnX2DxSWW2e",
    "outputId": "4bcc7197-f0ac-4e09-8ee9-8dba621fe78b"
   },
   "outputs": [],
   "source": [
    "df_norm.plot.scatter('x', 'y'); # Misma forma, diferente posición y rango.\n",
    "# Nótese dónde está ubicado el origen ahora (0,0)"
   ]
  },
  {
   "cell_type": "markdown",
   "metadata": {
    "id": "DiobzJxzTHn-"
   },
   "source": [
    "De igual manera, mediante operaciones con Series y DataFrames es posible llevar a cabo otras tareas comunes de preprocesamiento y transformación de datos. Algunas de ellas son:\n",
    "\n",
    "*  **Codificación:** Cambiar la representación o tipo de una variable a otra, como en la discretización.\n",
    "*  **Reescalado:** Modificar en conjunto la forma y dimensión de un conjunto de datos para obtener un rango coincidente entre variables.\n",
    "*  **Centrado:** Modificación de todos los datos de forma que sus medidas de tendencia central se desplacen a un punto de referencia nuevo.\n",
    "*  **Filtrado:** Eliminación de los componentes de ruido de un conjunto de datos con métodos de limpieza de señales.\n",
    "\n",
    "No obstante, otras tareas más complejas de preprocesamiento y transformación de datos podrían requerir de módulos especializados de *Python*. Uno de los módulos más populares es el módulo [**`preprocessing`**](https://scikit-learn.org/stable/modules/preprocessing.html) de la librería para aprendizaje de máquina **_scikit-learn_** que se discutirá en el **Módulo 2**."
   ]
  },
  {
   "cell_type": "markdown",
   "metadata": {
    "id": "4r5hSQAz6d-g"
   },
   "source": [
    "## **Recursos adicionales**\n",
    "---\n",
    "\n",
    "Si desea profundizar en los temas estudiados en esta guía, le invitamos consultar la [documentación oficial](https://pandas.pydata.org/pandas-docs/stable/reference/index.html), y en especial la [Guía de usuario](https://pandas.pydata.org/pandas-docs/stable/user_guide/index.html) de *pandas*.\n",
    "\n",
    "Además, a continuación se presenta una lista de recursos adicionales que le serán de utilidad:\n",
    "\n",
    "*  [University of California San Diego. Coursera - Machine Learning With Big Data](https://www.coursera.org/learn/big-data-machine-learning)\n",
    "*  [Data vedas - Exploración y preparación de los datos](https://www.datavedas.com/data-exploration-and-preparation/)\n",
    "*  [Kaggle - Pandas](https://www.kaggle.com/learn/pandas)\n",
    "*  [CodeCademy - Learn Data Analysis with Pandas](https://www.codecademy.com/learn/data-processing-pandas)\n",
    "*  [University of Michigan. Coursera - Applied Data Science with Python Specialization](https://www.coursera.org/specializations/data-science-python)"
   ]
  }
 ],
 "metadata": {
  "colab": {
   "provenance": [
    {
     "file_id": "1I6CcBVnH6T9cKEIpbGh94sPfP8WygGa_",
     "timestamp": 1614115612715
    }
   ]
  },
  "kernelspec": {
   "display_name": "Python 3 (ipykernel)",
   "language": "python",
   "name": "python3"
  },
  "language_info": {
   "codemirror_mode": {
    "name": "ipython",
    "version": 3
   },
   "file_extension": ".py",
   "mimetype": "text/x-python",
   "name": "python",
   "nbconvert_exporter": "python",
   "pygments_lexer": "ipython3",
   "version": "3.9.7"
  }
 },
 "nbformat": 4,
 "nbformat_minor": 4
}
