{
 "cells": [
  {
   "cell_type": "markdown",
   "metadata": {
    "id": "IonuYotBN6_Y"
   },
   "source": [
    "# **Practica 3 - Introducción al análisis de datos: *Python* y *NumPy***\n",
    "---\n",
    "Este notebook le permitirá practicar y aplicar las habilidades adquiridas para la escritura de código en el lenguaje de programación *Python* y su librería de numérica *NumPy*."
   ]
  },
  {
   "cell_type": "code",
   "execution_count": 1,
   "metadata": {
    "id": "puqicAezq-ra"
   },
   "outputs": [],
   "source": [
    "import numpy as np"
   ]
  },
  {
   "cell_type": "markdown",
   "metadata": {
    "id": "_iPmsk70gfdf"
   },
   "source": [
    "## **1. Conteo de pedidos**\n",
    "---\n",
    "\n",
    "Usted es responsable de la recepción de pedidos en un pequeño negocio en crecimiento. Un día, se produce una gran e inusual cantidad de pedidos por lo que decide usar sus habilidades de programación para realizar esta tarea de una manera más eficiente y automática. Para esto, le asigna a cada uno de los $n$ productos distintos del negocio un código con un número entero de $0$ a $n - 1$ como identificador (ID).\n",
    "\n",
    "Una de las tareas iniciales que desea realizar en su sistema es tomar la lista de pedidos, que cuidadosamente logró convertir y cargar en un formato digital, y conocer la cantidad total de pedidos que se realizó por cada producto. De esta forma, podrá realizar la solicitud respectiva a sus proveedores.\n",
    "\n",
    "Suponga que, gracias a la codificación de productos realizada, usted puede obtener una lista con todos los IDs de los productos solicitados fácilmente. A continuación, deberá implementar la función **`conteo_pedidos`**. Esta función debe cumplir con la siguiente especificación:\n",
    "\n",
    "* La función recibirá como argumento la lista original de IDs de todos los productos pedidos: **`pedidos`**.\n",
    "* Debe generar y retornar un arreglo con el conteo de veces que se realizó el pedido de cada uno de los productos. El número de pedidos del producto con ID $i$ se debe almacenar en la posición $i$ en el arreglo creado.\n",
    "\n",
    "Tenga en cuenta que el tamaño del arreglo resultante debe corresponder con el identificador con el número mayor en la lista de **`pedidos`**. \n",
    "\n",
    "\n",
    "> **Nota:** En este ejercicio se garantiza que la lista ingresada en el momento de la calificación esté compuesta exclusivamente por números enteros entre $0$ y $n - 1$. No obstante, en un escenario real se considera buena práctica validar las posibles entradas del sistema y realizar un análisis de los flujos alternativos que su problema deberá realizar en cada caso posible.\n",
    "\n",
    "Considere los siguientes ejemplos de ejecución de la función:\n",
    "\n",
    "```\n",
    ">>> print(conteo_pedidos(np.array([2, 2, 3, 4, 2, 2])))\n",
    "[0. 0. 4. 1. 1.]\n",
    "\n",
    ">>> print(conteo_pedidos(np.array([1, 2, 3])))\n",
    "[0. 1. 1. 1.]\n",
    "\n",
    ">>> print(conteo_pedidos(np.array([0])))\n",
    "[1.]\n",
    "```"
   ]
  },
  {
   "cell_type": "markdown",
   "metadata": {
    "id": "VEwjASRh7pTc"
   },
   "source": [
    "<details>    \n",
    "<summary>\n",
    "    <font size=\"3\" color=\"darkgreen\"><b>Pistas</b></font>\n",
    "</summary>\n",
    "\n",
    "* Se puede calcular el máximo de un arreglo **`x`** llamando a la función **`np.max(x)`**.\n",
    "* La función **`np.zeros`** devuelve un arreglo inicializado con ceros.\n",
    "* Una opción recomendada es recorrer (iterar) el arreglo de **`pedidos`** a medida que construye el arreglo con el conteo.\n"
   ]
  },
  {
   "cell_type": "code",
   "execution_count": 2,
   "metadata": {
    "id": "6sNDkXB-M26B"
   },
   "outputs": [],
   "source": [
    "# FUNCIÓN CALIFICADA: conteo_pedidos(pedidos)\n",
    "def conteo_pedidos(pedidos):\n",
    "    \"\"\"\n",
    "    pedidos: un arreglo de NumPy con valores enteros no negativos. Contiene IDs de productos pedidos, pueden estar repetidos.\n",
    "\n",
    "    Retorna un arreglo con el conteo de los IDs del arreglo de pedidos. \n",
    "    El arreglo resultante codifica cada conteo en su posición de ID correspondiente.\n",
    "    \"\"\"\n",
    "    ### ESCRIBA SU CÓDIGO AQUÍ ###  \n",
    "    # Reemplace la palabra None por el código correspondiente\n",
    "    # ~ 6 líneas de código\n",
    "\n",
    "    # Obtenga el valor máximo del arreglo 'pedidos'\n",
    "    máximo = None\n",
    "\n",
    "    # Calcule el tamaño del arreglo resultante \n",
    "    tamaño = None\n",
    "\n",
    "    # Cree un arreglo de ceros con ese tamaño para la guardar su respuesta\n",
    "    conteos = None\n",
    "\n",
    "    # Recorra cada ID en el arreglo de 'pedidos' e incremente en 1 la cantidad \n",
    "    # correspondiente a ese ID en el arreglo de 'conteos' en cada iteración\n",
    "\n",
    "    ### FIN DEL CÓDIGO ###\n",
    "\n",
    "    return conteos"
   ]
  },
  {
   "cell_type": "code",
   "execution_count": null,
   "metadata": {
    "colab": {
     "base_uri": "https://localhost:8080/"
    },
    "executionInfo": {
     "elapsed": 410,
     "status": "ok",
     "timestamp": 1613839642311,
     "user": {
      "displayName": "Santiago Toledo Cortes",
      "photoUrl": "https://lh3.googleusercontent.com/a-/AOh14GjQwqDnvMGBuN_TJMvwEgNFRGHcqi20NEn7MGQR5w=s64",
      "userId": "15259730956199930039"
     },
     "user_tz": 300
    },
    "id": "yQV8yJKVgET3",
    "outputId": "f4653b10-3c7c-428b-9123-7c8222ba3de9"
   },
   "outputs": [
    {
     "name": "stdout",
     "output_type": "stream",
     "text": [
      "[0. 0. 0. 0. 0. 0. 0.]\n",
      "[0. 0. 0. 0. 0.]\n",
      "[0. 0. 0. 0.]\n"
     ]
    }
   ],
   "source": [
    "# CELDA DE PRUEBAS \n",
    "print(conteo_pedidos(np.array([1, 2, 3, 3, 3, 5, 5, 6])))\n",
    "\n",
    "print(conteo_pedidos(np.array([2, 2, 3, 4])))\n",
    "\n",
    "print(conteo_pedidos(np.array([1, 2, 3])))"
   ]
  },
  {
   "cell_type": "markdown",
   "metadata": {
    "id": "sXvJcptSgpD8"
   },
   "source": [
    "La salida de la celda anterior debería ser:\n",
    "```\n",
    "[0. 1. 1. 3. 0. 2. 1.]\n",
    "[0. 0. 2. 1. 1.]\n",
    "[0. 1. 1. 1.]\n",
    "```"
   ]
  },
  {
   "cell_type": "markdown",
   "metadata": {
    "id": "e3ZfWKJiusgf"
   },
   "source": [
    "## **2. Cantidad de material**\n",
    "---\n",
    "Cada producto fabricado en su empresa requiere de una cierta cantidad de unidades de materias primas $M_j$. Usted posee una tabla con la cantidad de unidades de cada material $M_j$ que se requiere para la fabricación de cada producto $P_i$. Al igual que con los productos, cada una de las $m$ materias primas están identificadas con números enteros $j$ entre $0$  y $m - 1$ que corresponden a la posición del arreglo. Usted decide calcular automáticamente la cantidad de materia prima requerida para cumplir con un pedido determinado.\n",
    "\n",
    "Considere el siguiente ejemplo de un pedido:\n",
    "\n",
    "* Cantidad de unidades por producto:\n",
    "\n",
    "| $P_0$ | $P_1$ | $P_2$ | $P_3$ |\n",
    "|-----|-----|-----|-----|\n",
    "| 2   | 5   | 7   | 8   |\n",
    "\n",
    "* Cantidad de material $M_j$ necesario para fabricar el producto $P_i$:\n",
    "\n",
    "|       | $P_0$ | $P_1$ | $P_2$ | $P_3$ |\n",
    "|-------|-------|-------|-------|-------|\n",
    "| $M_0$ | 2     | 0     | 2     | 1     |\n",
    "| $M_1$ | 1     | 1     | 1     | 0     |\n",
    "| $M_2$ | 2     | 2     | 0     | 2     |\n",
    "\n",
    "\n",
    "Por ejemplo, para cumplir con este pedido se requiere el siguiente número de unidades del material $M_0$:\n",
    "* $4$ unidades del material $M_0$ para fabricar $2$ unidades de $P_0$.\n",
    "* $14$ unidades del material $M_0$ para fabricar $7$ unidades de $P_2$.\n",
    "* $8$ unidades del material $M_0$ para fabricar $8$ unidades de $P_3$.\n",
    "\n",
    "Para un total de $26$ unidades de material $M_0$. Si se repite el proceso para los demás materiales el total de materiales que se deben adquirir para este pedido son:\n",
    "\n",
    "\n",
    "| $M_0$ | $M_1$ | $M_2$ |\n",
    "|-----|-----|-----|\n",
    "| 26   | 14   | 30  |\n",
    "\n",
    "Para esta actividad deberá implementar la función **`cantidad_material`**, que recibe como argumento:\n",
    "* Lista de cantidad de unidades por producto: **`productos`**.\n",
    "* Tabla de cantidades de material por producto **`cantidades`**. \n",
    "\n",
    "A partir de estos $2$ arreglos de *NumPy* la función debe retornar el arreglo con la cantidad de cada material del pedido.\n",
    "\n",
    "Considere el caso anterior en el ejemplo de ejecución de la función:\n",
    "\n",
    "```\n",
    ">>> productos = np.array([2, 5, 7, 8])\n",
    ">>> cantidades = np.array(\n",
    "    [[2, 0, 2, 1,],\n",
    "    [1, 1, 1, 0],\n",
    "    [2, 2, 0, 2]]  \n",
    "  )\n",
    ">>> cantidad_material(productos, cantidades)\n",
    "array([26, 14, 30])\n",
    "```"
   ]
  },
  {
   "cell_type": "markdown",
   "metadata": {
    "id": "OhY7IFzIiXvk"
   },
   "source": [
    "<details>    \n",
    "<summary>\n",
    "    <font size=\"3\" color=\"darkgreen\"><b>Pistas</b></font>\n",
    "</summary>\n",
    "\n",
    "* Tómese su tiempo para comprender el problema. Este problema puede solucionarse de varias formas. Una de ellas es mediante operaciones de **álgebra lineal**. Para más información, considere el uso de operaciones como la **multiplicación matricial** (operador **`@`**) y el **producto punto** (**`np.dot`**) y aplique la solución usando los conceptos vistos en el taller guiado de *NumPy*.\n",
    "\n",
    "* Otra solución puede ser mediante operaciones entre vectores y agregaciones como la suma con **`np.sum(axis = ?)`**, definiendo como argumento el eje por el cual se debe realizar la suma (0 para filas, 1 para columnas).\n",
    "\n"
   ]
  },
  {
   "cell_type": "code",
   "execution_count": 3,
   "metadata": {
    "id": "6pp7NisfTWqd"
   },
   "outputs": [],
   "source": [
    "# FUNCIÓN CALIFICADA: cantidad_material(productos, cantidades)\n",
    "def cantidad_material(productos, cantidades):\n",
    "    \"\"\"\n",
    "    productos: un arreglo de NumPy con dimensión (n,) con valores enteros no negativos.\n",
    "             Contiene la cantidad pedida de cada uno de los productos.\n",
    "    cantidades: un arreglo de NumPy con dimensión (m, n) con valores enteros no negativos.\n",
    "              Contiene las unidades de materia prima (filas) necesarias para la \n",
    "              fabricación de cada producto (columnas)\n",
    "\n",
    "    Retorna un arreglo con dimensión (m,) con la cantidad de unidades de materia prima \n",
    "    requeridas en el pedido.\n",
    "    \"\"\"\n",
    "    ### ESCRIBA SU CÓDIGO AQUÍ ###  \n",
    "    # Reemplace la palabra None por el código correspondiente\n",
    "    # ~ 1-5 líneas de código\n",
    "\n",
    "    # Opere las matrices de entrada para obtener el valor requerido.\n",
    "    # Tenga en cuenta la dimensión de los arreglos a la hora de realizar las operaciones\n",
    "    materiales = None\n",
    "    ### FIN DEL CÓDIGO ###\n",
    "\n",
    "    return materiales"
   ]
  },
  {
   "cell_type": "code",
   "execution_count": 4,
   "metadata": {
    "id": "B8lWKRZ6iQJa"
   },
   "outputs": [],
   "source": [
    "# CELDA DE PRUEBAS \n",
    "productos = np.array([0, 5, 1, 2])\n",
    "\n",
    "cantidades = np.array(\n",
    "  [[2, 0, 2, 1,],\n",
    "  [1, 5, 1, 0],\n",
    "  [3, 2, 0, 0],\n",
    "  [2, 2, 0, 2]]  \n",
    ")\n",
    "\n",
    "cantidad_material(productos, cantidades)"
   ]
  },
  {
   "cell_type": "markdown",
   "metadata": {
    "id": "IJJg18zQiQJc"
   },
   "source": [
    "La salida de la celda anterior debería ser:\n",
    "```\n",
    "array([ 4,  26, 10, 14])\n",
    "```"
   ]
  },
  {
   "cell_type": "markdown",
   "metadata": {
    "id": "zhQLW7Stik6Y"
   },
   "source": [
    "## **3. Cálculo de costos**\n",
    "---\n",
    "¡Buen trabajo! Con la ayuda de *NumPy* logró obtener el conteo de pedidos por cada producto y la cantidad de material necesario para fabricarlos. Ahora, para fabricar el producto $P_i$ debe realizar un pedido al proveedor de las materias primas necesarias para construirlo. \n",
    "\n",
    "La empresa tiene un convenio con el proveedor por medio del cual se aplica un descuento de un porcentaje $D$ en materiales cuando se adquieren por lo menos $L$ unidades.\n",
    "\n",
    "Por ejemplo, retomando uno de los ejemplos anteriores, teníamos la cantidad de materiales que solicitar al proveedor:\n",
    "\n",
    "| $M_0$ | $M_1$ | $M_2$ |\n",
    "|-----|-----|-----|\n",
    "| 26   | 14   | 30  |\n",
    "\n",
    "Ahora también conocemos una lista de precios del proveedor por cada material:\n",
    "\n",
    "| $M_0$ | $M_1$ | $M_2$ |\n",
    "|-----|-----|-----|\n",
    "| \\$5.0   | \\$3.0   | \\$4.5  |\n",
    "\n",
    "En este caso, el valor estipulado en el convenio para $L$ es 15 y el de $D$ de $0.2$ ($20\\%$).\n",
    "\n",
    "Entonces, el costo total del $M_0 = 5.0 \\cdot 26 = \\$130$. Adicionalmente, dado que se pidieron más de $15$ unidades aplica el descuento del $20\\%$ de descuento, para un valor final de \\$$104$.\n",
    "\n",
    "Repetimos el proceso para los demás materiales y obtenemos el siguiente resultado:\n",
    "\n",
    "| $M_0$ | $M_1$ | $M_2$ |\n",
    "|-----|-----|-----|\n",
    "| 104.0   | 42.0   | 108.0  |\n",
    "\n",
    "Por lo tanto, el costo total del pedido es de \\$$254.0$\n",
    "\n",
    "Su tarea es implementar la función **`costo_pedido`**, que recibe como argumento:\n",
    "\n",
    "* Lista original de pedidos individuales **`pedidos`**.\n",
    "* Tabla de cantidades de material por producto **`cantidades`**.\n",
    "* Lista de costos por material **`costos`**. \n",
    "* Descuento $D$ **`descuento`**. (Número real entre $0.0$ y $1.0$)\n",
    "* Mínimo de tamaño del lote $L$ **`lote`**. (Número entero mayor o igual que $0$)\n",
    "\n",
    "A partir de esto deberá calcular el **costo total** del pedido.\n",
    "\n",
    "Considere el siguiente ejemplo de ejecución de la función:\n",
    "\n",
    "```\n",
    ">>> pedidos = np.array([0, 0, 1, 2, 2, 2, 2, 2, 3])\n",
    ">>> cantidades = np.array(\n",
    "      [[2, 0, 2, 1,],\n",
    "      [1, 1, 1, 0],\n",
    "      [2, 2, 0, 2]]  \n",
    "    )\n",
    "\n",
    ">>> costos = np.array([5.0, 3.0, 4.5])\n",
    ">>> coste_pedido(pedidos, cantidades, costos, 0.1, 5)\n",
    "121.5\n",
    "```"
   ]
  },
  {
   "cell_type": "markdown",
   "metadata": {
    "id": "w0eFU9tjnHlM"
   },
   "source": [
    "<details>    \n",
    "<summary>\n",
    "    <font size=\"3\" color=\"darkgreen\"><b>Pistas</b></font>\n",
    "</summary>\n",
    "\n",
    "* Utilice las funciones **`conteo_pedidos`** y **`cantidad_material`** realizadas en los puntos anteriores.\n",
    "* Recuerde que con *NumPy* puede realizar multiplicación matricial (con **`@`**) y multiplicación elemento a elemento (con **`*`**).\n",
    "* Puede utilizar selección condicional para realizar operaciones únicamente en los elementos de un arreglo que cumplan una determinada condición.\n",
    "* La selección condicional sólo requiere que el arreglo tenga la misma dimensión que en el que se realiza la operación. No es necesario que la condición realizada sea con el mismo arreglo.\n",
    "* El descuento $D$ es un número entre $0.0$ y $1.0$ que se tiene que descontar del total del precio de un material.\n",
    "\n"
   ]
  },
  {
   "cell_type": "code",
   "execution_count": 5,
   "metadata": {
    "id": "PmNQFvJIUy-F"
   },
   "outputs": [],
   "source": [
    "# FUNCIÓN CALIFICADA: costo_pedido(pedidos, cantidades, costos, descuento, lote)\n",
    "def costo_pedido(pedidos, cantidades, costos, descuento, lote):\n",
    "    \"\"\"\n",
    "    pedidos: un arreglo de NumPy con valores enteros no negativos entre 0 y n - 1.\n",
    "    cantidades: un arreglo de NumPy con dimensión (m, n) con valores enteros no negativos.\n",
    "    costos: un arreglo de NumPy con dimensión (m, ) con valores reales no negativos.\n",
    "    descuento: un número real entre 0.0 y 1.0\n",
    "    lote: un número entero no negativo.\n",
    "\n",
    "    Retorna un número real no negativo con el costo total del pedido.\n",
    "    \"\"\"\n",
    "    ### ESCRIBA SU CÓDIGO AQUÍ ###  \n",
    "    # Reemplace la palabra None por el código correspondiente\n",
    "    # ~ 5-7 líneas de código\n",
    "\n",
    "    productos = None # Genere el arreglo de conteo de productos.\n",
    "    materiales = None # Genere el arreglo de cantidad de unidades por material.\n",
    "    costos_pedido = None # Opere las matrices para obtener el costo total por material.\n",
    "    # Realice la operación de descuento utilizando la condición de lote mínimo.\n",
    "\n",
    "\n",
    "    costo_total = None # Calcule el costo total del pedido con los descuentos aplicados.\n",
    "    ### FIN DEL CÓDIGO ###\n",
    "    return costo_total"
   ]
  },
  {
   "cell_type": "code",
   "execution_count": 6,
   "metadata": {
    "id": "srbdDwYlRtno"
   },
   "outputs": [],
   "source": [
    "# CELDA DE PRUEBAS \n",
    "pedidos = np.array([0, 0, 1, 2, 2, 2, 2])\n",
    "cantidades = np.array(\n",
    "    [[2, 3, 2],\n",
    "    [1, 5, 1]]  \n",
    "  )\n",
    "costos = np.array([5.0, 3.0])\n",
    "\n",
    "costo_pedido(pedidos, cantidades, costos, 0.2, 15)"
   ]
  },
  {
   "cell_type": "markdown",
   "metadata": {
    "id": "yRZRVPH8m1PR"
   },
   "source": [
    "La salida de la celda anterior debería ser:\n",
    "```\n",
    "93.0\n",
    "```"
   ]
  }
 ],
 "metadata": {
  "colab": {
   "collapsed_sections": [],
   "name": "Copia de NBK - Tarea_1.ipynb",
   "provenance": [
    {
     "file_id": "1HlK2wuR3I0pF6vyJW7Un1e2-o6GdMgMA",
     "timestamp": 1614116107552
    }
   ]
  },
  "kernelspec": {
   "display_name": "Python 3 (ipykernel)",
   "language": "python",
   "name": "python3"
  },
  "language_info": {
   "codemirror_mode": {
    "name": "ipython",
    "version": 3
   },
   "file_extension": ".py",
   "mimetype": "text/x-python",
   "name": "python",
   "nbconvert_exporter": "python",
   "pygments_lexer": "ipython3",
   "version": "3.9.7"
  }
 },
 "nbformat": 4,
 "nbformat_minor": 4
}
