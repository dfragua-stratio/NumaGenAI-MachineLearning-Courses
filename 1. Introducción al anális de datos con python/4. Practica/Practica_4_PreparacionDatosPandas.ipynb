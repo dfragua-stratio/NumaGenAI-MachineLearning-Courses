{
 "cells": [
  {
   "cell_type": "markdown",
   "metadata": {
    "id": "4P-aXUSffVPX"
   },
   "source": [
    "# **Practica 4 - Preparación de los datos con *Pandas***\n",
    "---\n",
    "\n",
    "Este no tebook es para practicar las habilidades adquiridas usando *pandas* en el proceso de manipulación, limpieza y preprocesamiento de conjuntos de datos. Nuevamente utilizaremos el [dataset Titanic](https://www.kaggle.com/c/titanic) disponible en *Kaggle*.\n",
    "\n",
    "El conjunto de datos del Titanic cuenta con múltiples variables de la tragedia:\n",
    "\n",
    "| Variable | Definición\t| Valores | \n",
    "| --- | --- | --- |\n",
    "| survival | \tSupervivencia  | \t0 = No, 1 = Sí |\n",
    "| pclass \t| Clase del tiquete | \t1 = 1ra, 2 = 2da, 3 = 3ra\n",
    "| sex \t| Sexo \t| |\n",
    "| Age |\tEdad en años \t| |\n",
    "| sibsp |\t# de hermanos / cónyuge abordo del Titanic \t| |\n",
    "| parch |\t# de padres / hijos abordo del Titanic \t| |\n",
    "| ticket |\tNúmero del ticket | |\t\n",
    "| fare \t| Costo del ticket | |\t\n",
    "| cabin |\tNúmero de la cabina \t| |\n",
    "| embarked |\tPuerto de embarque |\tC = Cherbourg, Q = Queenstown, S = Southampton |\n",
    "\n",
    "En este quiz usted debe realizar un proceso de limpieza y pre-procesamiento de los datos usando *Pandas* con el objetivo de practicar los conceptos y sus habilidades en la preparación los datos."
   ]
  },
  {
   "cell_type": "markdown",
   "metadata": {
    "id": "YpOHUKChjoH-"
   },
   "source": [
    "Ejecute la siguiente celda para importar *pandas*."
   ]
  },
  {
   "cell_type": "code",
   "execution_count": 5,
   "metadata": {
    "id": "rimXJXmbLmt4"
   },
   "outputs": [],
   "source": [
    "# Importar pandas\n",
    "import pandas as pd"
   ]
  },
  {
   "cell_type": "code",
   "execution_count": 4,
   "metadata": {
    "id": "t3pxZF9vjtJm"
   },
   "outputs": [],
   "source": [
    "full_df = pd.read_csv('data/titanic.csv')"
   ]
  },
  {
   "cell_type": "markdown",
   "metadata": {
    "id": "U_KDETTPFOWt"
   },
   "source": [
    "No se preocupe por el archivo del dataset en ***UNCode***, el ambiente de calificación ya cuenta con este archivo para calificar sus ejercicios."
   ]
  },
  {
   "cell_type": "markdown",
   "metadata": {
    "id": "UQLr6FKQcFT4"
   },
   "source": [
    "## **1.  Eliminación de registros con valores faltantes**\n",
    "---\n",
    "\n",
    "El conjunto de datos *Titanic* cuenta con varias filas y columnas con valores faltantes. Una alternativa para limpiar el *dataset* es eliminar los registros (filas) que tengan al menos una variable faltante o eliminar las variables (columnas) que tengan al menos un valor faltante.  \n",
    "\n",
    "Utilizando *pandas*:\n",
    "1. Guarde en el *DataFrame* **`non_null_rows_df`** el conjunto de datos luego de ser eliminadas las filas con valores faltantes.\n",
    "2. Almacene en el *DataFrame* **`non_null_cols_df`** el conjunto de datos luego de ser eliminadas las columnas con valores faltantes. \n",
    "  \n",
    "**IMPORTANTE**: Tenga cuidado de no sobreescribir ni modificar el *Dataframe* original **`full_df`**. En caso que por error lo modifique, deberá cargarlo nuevamente.\n"
   ]
  },
  {
   "cell_type": "markdown",
   "metadata": {
    "id": "-nfnlYZYCjHa"
   },
   "source": [
    "<details>    \n",
    "<summary>\n",
    "    <font size=\"3\" color=\"darkgreen\"><b>Pistas</b></font>\n",
    "</summary>\n",
    "\n",
    "* *Pandas* tiene varias funciones para tratar con valores faltantes como **`fillna`**, **`dropna`**, **`isna`** y **`notna`**, que permiten realizar distintas tareas con este tipo de valores.\n",
    "* En *pandas*, al igual que en *NumPy*, es posible usar en varias funciones el argumento **`axis`**. Es muy útil cuando se quiere distinguir entre filas y columnas para realizar una operación determinada. Verifique que la dimensión en la que realiza la operación sea la correcta.\n"
   ]
  },
  {
   "cell_type": "markdown",
   "metadata": {
    "id": "WtYIImkkgwgS"
   },
   "source": [
    "### **1.1.  Eliminación de filas con valores faltantes**\n"
   ]
  },
  {
   "cell_type": "code",
   "execution_count": null,
   "metadata": {
    "id": "rycp6oBHcH84"
   },
   "outputs": [],
   "source": [
    "# VARIABLE CALIFICADA non_null_rows_df\n",
    "\n",
    "### ESCRIBA SU CÓDIGO AQUÍ ### (~ 1 línea de código)\n",
    "non_null_rows_df = pd.DataFrame() # Reemplace el DataFrame vacío por la respuesta correcta.\n",
    "### FIN DEL CÓDIGO ###"
   ]
  },
  {
   "cell_type": "code",
   "execution_count": null,
   "metadata": {
    "id": "1I50wz4GGqNc"
   },
   "outputs": [],
   "source": [
    "#TEST_CELL\n",
    "non_null_rows_df.count()"
   ]
  },
  {
   "cell_type": "markdown",
   "metadata": {
    "id": "R5oOYEBE5gMr"
   },
   "source": [
    "**Salida esperada:**\n",
    "\n",
    "```python\n",
    "PassengerId    183\n",
    "Survived       183\n",
    "Pclass         183\n",
    "Name           183\n",
    "Sex            183\n",
    "Age            183\n",
    "SibSp          183\n",
    "Parch          183\n",
    "Ticket         183\n",
    "Fare           183\n",
    "Cabin          183\n",
    "Embarked       183\n",
    "dtype: int64\n",
    "```"
   ]
  },
  {
   "cell_type": "markdown",
   "metadata": {
    "id": "NtQ3XJEIg65R"
   },
   "source": [
    "### **1.2.  Eliminación de columnas con valores faltantes**\n"
   ]
  },
  {
   "cell_type": "code",
   "execution_count": null,
   "metadata": {
    "id": "rQrCspCrBIQQ"
   },
   "outputs": [],
   "source": [
    "# VARIABLE CALIFICADA non_null_cols_df \n",
    "\n",
    "### ESCRIBA SU CÓDIGO AQUÍ ### (~ 1 línea de código)\n",
    "non_null_cols_df = pd.DataFrame() # Reemplace el DataFrame vacío por la respuesta correcta.\n",
    "### FIN DEL CÓDIGO ###"
   ]
  },
  {
   "cell_type": "code",
   "execution_count": null,
   "metadata": {
    "id": "qDs6oBSSGXoa"
   },
   "outputs": [],
   "source": [
    "#TEST_CELL\n",
    "non_null_cols_df.count()"
   ]
  },
  {
   "cell_type": "markdown",
   "metadata": {
    "id": "VvlcNVasHAQc"
   },
   "source": [
    "**Salida esperada:**\n",
    "\n",
    "```python\n",
    "PassengerId    891\n",
    "Survived       891\n",
    "Pclass         891\n",
    "Name           891\n",
    "Sex            891\n",
    "SibSp          891\n",
    "Parch          891\n",
    "Ticket         891\n",
    "Fare           891\n",
    "dtype: int64\n",
    "```"
   ]
  },
  {
   "cell_type": "markdown",
   "metadata": {
    "id": "rjfVzL2DhDaa"
   },
   "source": [
    "## **2. Capacidad de almacenamiento**\n",
    "---\n"
   ]
  },
  {
   "cell_type": "markdown",
   "metadata": {
    "id": "SQYexz7fjJtv"
   },
   "source": [
    "Dada la dimensión del *dataset* original de $891$ filas y $12$ columnas, éste tenía una capacidad original para almacenar $10692$ datos (aunque algunos fueran vacíos). Realizar la eliminación de variables o registros debido a un formato erróneo o información faltante es un compromiso entre cantidad y calidad en el conjunto de datos.\n",
    "\n",
    "¿Cuántos valores o celdas tienen los nuevos conjuntos de datos creados con la eliminación de datos faltantes?"
   ]
  },
  {
   "cell_type": "markdown",
   "metadata": {
    "id": "86rO3o7njOAm"
   },
   "source": [
    "<details>    \n",
    "<summary>\n",
    "    <font size=\"3\" color=\"darkgreen\"><b>Pistas</b></font>\n",
    "</summary>\n",
    "\n",
    "* Los objetos *DataFrame* de *Pandas* poseen propiedades que nos revelan características interesantes. Muchas veces es necesario utilizar estas propiedades. Algunas de ellas son: **`index`**, **`dtypes`**, **`ndim`**, **`size`**, **`shape`**, entre otras.\n"
   ]
  },
  {
   "cell_type": "markdown",
   "metadata": {
    "id": "fbnMjN-ngD_Z"
   },
   "source": [
    "### **2.1.  ¿Cuál es la capacidad del DataFrame `non_null_rows_df`?**"
   ]
  },
  {
   "cell_type": "code",
   "execution_count": null,
   "metadata": {
    "id": "uJ1iFrh-iPtJ"
   },
   "outputs": [],
   "source": [
    "# VARIABLE CALIFICADA full_rows \n",
    "\n",
    "### ESCRIBA SU CÓDIGO AQUÍ ### (~ 1 línea de código)\n",
    "full_rows = None\n",
    "### FIN DEL CÓDIGO ###\n",
    "\n",
    "full_rows"
   ]
  },
  {
   "cell_type": "markdown",
   "metadata": {
    "id": "t5N6Cm31h73D"
   },
   "source": [
    "### **2.2.  ¿Cuál es la capacidad del DataFrame `non_null_cols_df`?**"
   ]
  },
  {
   "cell_type": "code",
   "execution_count": null,
   "metadata": {
    "id": "mdkKzNp8CHr3"
   },
   "outputs": [],
   "source": [
    "# VARIABLE CALIFICADA full_cols \n",
    "\n",
    "### ESCRIBA SU CÓDIGO AQUÍ ### (~ 1 línea de código)\n",
    "full_cols = None\n",
    "### FIN DEL CÓDIGO ###\n",
    "\n",
    "full_cols"
   ]
  },
  {
   "cell_type": "markdown",
   "metadata": {
    "id": "78zlj4-AkOhF"
   },
   "source": [
    "Teniendo en cuenta el número resultante de registros con cada opción, ya sea eliminar columnas o eliminar filas: ¿qué funcionaría mejor para una tarea de análisis de datos? ¿por qué?"
   ]
  },
  {
   "cell_type": "markdown",
   "metadata": {
    "id": "sBb8icvCiSR-"
   },
   "source": [
    "**Escriba aquí sus respuestas con sus propias palabras (no calificable):** ...\n"
   ]
  },
  {
   "cell_type": "markdown",
   "metadata": {
    "id": "VuFVtcJWn4qP"
   },
   "source": [
    "## **3.  Imputación de edades**\n",
    "---\n",
    "Muchas veces no es deseable eliminar columnas enteras, aunque contengan algunos pocos registros con valores faltantes, pues puede implicar perder muchos otros datos valiosos. \n",
    "\n",
    "En algunos casos, al realizar la limpieza de datos, se puede optar por llevar a cabo un procedimiento de [**imputación de datos**](https://es.wikipedia.org/wiki/Imputaci%C3%B3n_(estad%C3%ADstica)). Esto consiste en reemplazar los valores faltantes por otros valores específicos. Por ejemplo, la media para variables numéricas, o el valor más frecuente en caso de variables categóricas.\n",
    "\n",
    "> **IMPORTANTE: Este tipo de procedimientos debe ser validado con los expertos del negocio o dominio para no sesgar los datos de alguna manera, pues implica la creación de datos artificiales que pueden no corresponder con la realidad.**\n"
   ]
  },
  {
   "cell_type": "markdown",
   "metadata": {
    "id": "DW0nhA5ZFj7o"
   },
   "source": [
    "En la siguiente celda podrá crear una copia del *DataFrame* original. Esta copia se modificará para tener la respuesta completa en los siguientes puntos."
   ]
  },
  {
   "cell_type": "code",
   "execution_count": null,
   "metadata": {
    "id": "46q1j1PSriJa"
   },
   "outputs": [],
   "source": [
    "### NO MODIFICAR ESTA CELDA\n",
    "# Crear copia de full_df\n",
    "imputed_cols_df = full_df.copy()"
   ]
  },
  {
   "cell_type": "markdown",
   "metadata": {
    "id": "-JyvNvj_TcM7"
   },
   "source": [
    "<details>    \n",
    "<summary>\n",
    "    <font size=\"3\" color=\"darkgreen\"><b>Pistas</b></font>\n",
    "</summary>\n",
    "\n",
    "* *Pandas* tiene varias funciones para tratar con valores faltantes como **`fillna`**, **`dropna`**, **`isna`** y **`notna`**, que permiten realizar distintas tareas con este tipo de valores.\n",
    "* Verifique en sus notas o en los recursos previos las funciones necesarias para hacer operaciones como la sumatoria, el promedio o hallar el máximo de un objeto en *pandas*, y aplique las que sean necesarias para este ejercicio. \n"
   ]
  },
  {
   "cell_type": "markdown",
   "metadata": {
    "id": "uBshprHArPw1"
   },
   "source": [
    "Utilizando *pandas* guarde en **`imputed_cols_df`** el *DataFrame* que resulte luego de reemplazar los valores faltantes en la columna **`Age`** con el valor medio de esa variable. Tenga cuidado de no sobreescribir el *DataFrame* original **`full_df`**. \n",
    "\n",
    "Aunque podríamos realizar este procedimiento en una sola línea de código, lo haremos en $2$ partes:"
   ]
  },
  {
   "cell_type": "markdown",
   "metadata": {
    "id": "BFRdq8Knk5aU"
   },
   "source": [
    "### **3.1. Encuentre la media de la variable `Age`**"
   ]
  },
  {
   "cell_type": "code",
   "execution_count": null,
   "metadata": {
    "id": "FnqoD1yUxcKb"
   },
   "outputs": [],
   "source": [
    "# VARIABLE CALIFICADA: age_mean\n",
    "\n",
    "### ESCRIBA SU CÓDIGO AQUÍ ### (~ 1 línea de código)\n",
    "age_mean = None\n",
    "### FIN DEL CÓDIGO ###\n"
   ]
  },
  {
   "cell_type": "markdown",
   "metadata": {
    "id": "K22X0uMPleMY"
   },
   "source": [
    "### **3.2. Asigne a los valores faltantes de la columna `Age` el valor medio**"
   ]
  },
  {
   "cell_type": "markdown",
   "metadata": {
    "id": "1ZoAzqR4xgfu"
   },
   "source": [
    "Asigne a los valores faltantes de la columna **`Age`** el valor medio de esa variable en el dataframe **`imputed_cols_df`**:"
   ]
  },
  {
   "cell_type": "code",
   "execution_count": null,
   "metadata": {
    "id": "hTXwN0Ekjz7f"
   },
   "outputs": [],
   "source": [
    "# VARIABLE CALIFICADA: imputed_cols_df['Age']\n",
    "\n",
    "### ESCRIBA SU CÓDIGO AQUÍ ### (~ 1 línea de código)\n",
    "imputed_cols_df['Age'] = full_df['Age'] # Modifique esta línea\n",
    "### FIN DEL CÓDIGO ###"
   ]
  },
  {
   "cell_type": "code",
   "execution_count": null,
   "metadata": {
    "id": "lo0yxWBHH8Lk"
   },
   "outputs": [],
   "source": [
    "#TEST_CELL\n",
    "# Verificamos que no queden valores faltantes:\n",
    "imputed_cols_df['Age'].isna().sum()"
   ]
  },
  {
   "cell_type": "markdown",
   "metadata": {
    "id": "mdi8mxcusJWv"
   },
   "source": [
    "La salida de la celda anterior debería ser: \n",
    "```python\n",
    "0\n",
    "```"
   ]
  },
  {
   "cell_type": "markdown",
   "metadata": {
    "id": "fuWsGg_k030y"
   },
   "source": [
    "## **4.  Creación de la característica `Family`**\n",
    "---\n",
    "El conjunto de datos cuenta con las variables **`SibSp`** y **`Parch`** para el registro de familiares a bordo del navío. **`SibSp`** corresponde al número de tripulantes que son hermanos o cónyuge del pasajero. Por su parte, **`Parch`** representa el número de padres (o abuelos) e hijos (o nietos). \n",
    "\n",
    "Para condensar esta información en una única variable se pueden sumar para obtener el tamaño de la familia de cada tripulante.\n",
    "\n",
    "Cree una nueva columna llamada **`Family`** que almacene la suma de las columnas **`SibSp`** y **`Parch`**. Use y modifique el *DataFrame* **`imputed_cols_df`**. \n"
   ]
  },
  {
   "cell_type": "markdown",
   "metadata": {
    "id": "AizvxnUIT6iG"
   },
   "source": [
    "<details>    \n",
    "<summary>\n",
    "    <font size=\"3\" color=\"darkgreen\"><b>Pistas</b></font>\n",
    "</summary>\n",
    "\n",
    "* *Pandas* permite utilizar operadores como la suma y multiplicación entre sus objetos, respetando las reglas de *NumPy*. \n",
    "* Asegúrese de usar el nombre correcto de la nueva columna y las columnas originales, y de no modificar el *dataset* original para prevenir errores en la calificación.\n"
   ]
  },
  {
   "cell_type": "code",
   "execution_count": null,
   "metadata": {
    "id": "iCeG967q16IJ"
   },
   "outputs": [],
   "source": [
    "# VARIABLE CALIFICADA: imputed_cols_df['Family']\n",
    "\n",
    "### ESCRIBA SU CÓDIGO AQUÍ ### (~ 1 línea de código)\n",
    "imputed_cols_df['Family'] = 0\n",
    "### FIN DEL CÓDIGO ###"
   ]
  },
  {
   "cell_type": "code",
   "execution_count": null,
   "metadata": {
    "id": "R72OpNOkL_-3"
   },
   "outputs": [],
   "source": [
    "#TEST_CELL\n",
    "imputed_cols_df['Family'].head(10)"
   ]
  },
  {
   "cell_type": "markdown",
   "metadata": {
    "id": "5XLfSHwRMPuA"
   },
   "source": [
    "La salida de la celda anterior debería ser: \n",
    "```python\n",
    "0    1\n",
    "1    1\n",
    "2    0\n",
    "3    1\n",
    "4    0\n",
    "5    0\n",
    "6    0\n",
    "7    4\n",
    "8    2\n",
    "9    1\n",
    "Name: Family, dtype: int64\n",
    "```"
   ]
  }
 ],
 "metadata": {
  "colab": {
   "collapsed_sections": [],
   "name": "Quiz 4 - Pandas - Preparación de los datos.ipynb",
   "provenance": [
    {
     "file_id": "1Jtxvwe2eoJPxASThzh2xUsxq17VJXMkw",
     "timestamp": 1614123149351
    },
    {
     "file_id": "1iS2xHlZHYF9LpeAahP0GLS3fAHakUz2I",
     "timestamp": 1598034869592
    }
   ],
   "toc_visible": true
  },
  "kernelspec": {
   "display_name": "Python 3 (ipykernel)",
   "language": "python",
   "name": "python3"
  },
  "language_info": {
   "codemirror_mode": {
    "name": "ipython",
    "version": 3
   },
   "file_extension": ".py",
   "mimetype": "text/x-python",
   "name": "python",
   "nbconvert_exporter": "python",
   "pygments_lexer": "ipython3",
   "version": "3.9.7"
  }
 },
 "nbformat": 4,
 "nbformat_minor": 4
}
