{
 "cells": [
  {
   "cell_type": "markdown",
   "metadata": {
    "id": "pkkvyA6UFg96"
   },
   "source": [
    "# **Practica 2 - Librería numérica de *Python*: *NumPy***\n",
    "---\n",
    "\n",
    "Este notebook le servirá para practicar las habilidades adquiridas usando la librería numérica *NumPy*, en el manejo de arreglos y uso de funciones de computación científica."
   ]
  },
  {
   "cell_type": "markdown",
   "metadata": {
    "id": "eJJykxh8MyBY"
   },
   "source": [
    "Ejecute la siguiente celda para importar *NumPy*."
   ]
  },
  {
   "cell_type": "code",
   "execution_count": 1,
   "metadata": {
    "id": "6g1JOpy23_m8"
   },
   "outputs": [],
   "source": [
    "import numpy as np"
   ]
  },
  {
   "cell_type": "markdown",
   "metadata": {
    "id": "kQIkVlaHtDyS"
   },
   "source": [
    "> **IMPORTANTE:** Se le recomienda resolver estos ejercicios **sin** usar estructuras de control como **`if`** o **`for`**. Con *NumPy* y *Python* se pueden obtener soluciones muy concisas. Si está acostumbrado a trabajar en lenguajes de programación como *Java* o *C*, se recomienda hacer el esfuerzo de pensar cómo se puede llegar a una solución **sin** usar estructuras de control para sacar un mejor provecho de la conveniente sintaxis de *Python* y sus librerías."
   ]
  },
  {
   "cell_type": "markdown",
   "metadata": {
    "id": "cYvNm9BH46tg"
   },
   "source": [
    "## **1. Normalización**\n",
    "---\n",
    "\n",
    "La normalización es una operación muy común en el análisis de datos y el aprendizaje computacional con el cual se pretende obtener una escala y rango común para conjuntos de datos numéricos. \n",
    "\n",
    "Uno de los métodos de normalización más comunes es la **normalización estándar**, donde se calcula el puntaje estándar (o puntaje $z$) para cada valor y se usa para representar la posición de cada dato con respecto al conjunto. Esta normalización se obtiene al restar la media aritmética a cada dato (centrando los datos) y dividiendo este resultado entre la desviación estándar (reescalando).\n",
    "\n",
    "\n",
    "> **Nota:** La media aritmética y la desviación estándar son conceptos de estadística descriptiva básica. \n",
    "\n",
    "La normalización estándar se puede definir mediante la siguiente fórmula:\n",
    "\n",
    "$$z_i = \\frac{x_i - \\mu}{\\sigma}$$\n",
    "\n",
    "Donde $\\mu$ es la media y $\\sigma$ es la desviación estándar de los datos.\n",
    "\n",
    "En este ejercicio usted deberá implementar la función **`normalizacion`**, que reciba como argumento un arreglo de *NumPy* **`X`** con dimensión **`(n,)`** y retorne un arreglo normalizado con la misma dimensión.\n",
    "\n",
    "\n"
   ]
  },
  {
   "cell_type": "markdown",
   "metadata": {
    "id": "xKYMkTRz7-dQ"
   },
   "source": [
    "<details>    \n",
    "<summary>\n",
    "    <font size=\"3\" color=\"darkgreen\"><b>Pistas</b></font>\n",
    "</summary>\n",
    "\n",
    "* Puede calcular la media de un arreglo de *NumPy* con la función **`.mean()`**. \n",
    "* Puede calcular la desviación estándar de un arreglo de *NumPy* con la función **`.std()`**.\n",
    "* Recuerde que en *NumPy* los vectores, matrices y valores escalares se pueden operar entre sí directamente usando operadores matemáticos como **`*`** y **`+`**.\n"
   ]
  },
  {
   "cell_type": "code",
   "execution_count": 2,
   "metadata": {
    "id": "UQrwNRoH48Mx"
   },
   "outputs": [],
   "source": [
    "# FUNCIÓN CALIFICADA: normalizacion(X)\n",
    "def normalizacion(X):\n",
    "    \"\"\"\n",
    "    X: un arreglo de NumPy con dimensión (n,)\n",
    "\n",
    "    Retorna el arreglo X normalizado con dimensión (n,)\n",
    "    \"\"\"\n",
    "    ### ESCRIBA SU CÓDIGO AQUÍ ### \n",
    "    # Reemplace la palabra None por el código correspondiente\n",
    "    # ~ 4 líneas de código\n",
    "    # Obtenga la media de los datos.\n",
    "    media = None\n",
    "    # Obtenga la desviación estándar de los datos.\n",
    "    desv = None\n",
    "    # Calcule la normalización.\n",
    "    X_normalizado = None\n",
    "    ### FIN DEL CÓDIGO ### \n",
    "    return X_normalizado"
   ]
  },
  {
   "cell_type": "code",
   "execution_count": null,
   "metadata": {
    "id": "2SZCmcwwaDmY"
   },
   "outputs": [],
   "source": [
    "# CELDA DE PRUEBAS \n",
    "X0 = np.array([4.8, 4.0, 4.2, 4.0, 5.0])\n",
    "\n",
    "normalizacion(X0)"
   ]
  },
  {
   "cell_type": "markdown",
   "metadata": {
    "id": "yYnpYiufaBNg"
   },
   "source": [
    "La salida de la celda anterior debería ser:\n",
    "```\n",
    "array([ 0.95346259, -0.95346259, -0.47673129, -0.95346259,  1.43019388])\n",
    "```"
   ]
  },
  {
   "cell_type": "code",
   "execution_count": null,
   "metadata": {
    "id": "EhgX1Y9ug1mk"
   },
   "outputs": [],
   "source": [
    "# CELDA DE PRUEBAS \n",
    "X1 = np.arange(5)\n",
    "\n",
    "normalizacion(X1)"
   ]
  },
  {
   "cell_type": "markdown",
   "metadata": {
    "id": "czofk93nh24v"
   },
   "source": [
    "La salida de la celda anterior debería ser:\n",
    "```\n",
    "array([-1.41421356, -0.70710678,  0.        ,  0.70710678,  1.41421356])\n",
    "```"
   ]
  },
  {
   "cell_type": "markdown",
   "metadata": {
    "id": "FH73plrpFJMO"
   },
   "source": [
    "## **2. Matriz diagonal**\n",
    "---\n",
    "En el área de ciencia de datos es muy importante realizar operaciones de álgebra lineal para manipular adecuadamente vectores y matrices de gran tamaño. *NumPy* es una herramienta muy importante para la conceptualización y automatización de este tipo de operaciones.\n",
    "\n",
    "En este ejercicio deberá implementar la función **`matriz_diagonal`**, que toma una matriz (un arreglo de *NumPy* de $2$ dimensiones) de tamaño $N \\times M$ y genera una matriz diagonal con los elementos de su diagonal principal.\n",
    "\n",
    "> Una matriz diagonal es una matriz cuadrada (misma cantidad de filas que de columnas) que tiene valores nulos ($0$) en todas sus entradas salvo aquellas de la diagonal principal (los elementos cuya fila y columna corresponden).\n",
    "\n",
    "La matriz a generar debe tener tamaño $L \\times L$, donde $L$ es el valor menor entre $N$ y $M$, y deberá ser un arreglo de *NumPy* con dimensiones **`(L, L)`**.\n",
    "\n",
    "\n",
    "Por ejemplo, para las siguientes matrices el resultado debería ser el siguiente:\n",
    "\n",
    "* **Para $N$ < $M$**\n",
    "$$\\begin{bmatrix}\n",
    "1 & 0 & 2 & 9 & 2\\\\ \n",
    "9 & 2 & 6 & 5 & 7\\\\ \n",
    "6 & 4 & 3 & 4 & 7\n",
    "\\end{bmatrix} \\rightarrow\n",
    "\\begin{bmatrix}\n",
    "\\mathbf{1} & 0 & 0 \\\\ \n",
    "0 & \\mathbf{2 }& 0 \\\\ \n",
    "0 & 0 & \\boldsymbol{\\mathbf{}3 }\n",
    "\\end{bmatrix}$$\n",
    "\n",
    "* **Para $N$ > $M$**\n",
    "$$\\begin{bmatrix}\n",
    "1 & 0 & 2\\\\ \n",
    "9 & 2 & 6 \\\\ \n",
    "6 & 4 & 3 \\\\ \n",
    "1 & 0 & 5\n",
    "\\end{bmatrix} \\rightarrow\n",
    "\\begin{bmatrix}\n",
    "\\mathbf{1} & 0 & 0 \\\\ \n",
    "0 & \\mathbf{2 }& 0 \\\\ \n",
    "0 & 0 & \\boldsymbol{\\mathbf{}3 }\n",
    "\\end{bmatrix}$$\n",
    "\n"
   ]
  },
  {
   "cell_type": "markdown",
   "metadata": {
    "id": "EgYdzb6XP4Ft"
   },
   "source": [
    "<details>    \n",
    "<summary>\n",
    "    <font size=\"3\" color=\"darkgreen\"><b>Pistas</b></font>\n",
    "</summary>\n",
    "\n",
    "* El tamaño de la matriz de entrada puede ser obtenido con su atributo **`.shape`**.\n",
    "* Con la función **`np.eye(n,m)`** puede generar matrices identidad: matrices cuya diagonal tiene el valor de $1$ y el resto de posiciones son $0$.\n",
    "* Para mantener únicamente los valores originales de la matriz diagonal y dejar los demás valores en $0$, podría realizar operaciones como el producto valor a valor entre la matriz original y una matriz identidad.\n",
    "* Recuerde que el resultado final de la función debe ser una matriz cuadrada. \n",
    "* Puede recortar una matriz usando indexado con intervalos.\n",
    "* A la hora de recortar la matriz debe tener varias cosas en cuenta: \n",
    "  * ¿Debería cortar el principio o el final?\n",
    "  * ¿Debería cortar columnas, filas, o ambas? ¿bajo qué condiciones?"
   ]
  },
  {
   "cell_type": "code",
   "execution_count": null,
   "metadata": {
    "id": "vRdi9UUKORTU"
   },
   "outputs": [],
   "source": [
    "# FUNCIÓN CALIFICADA: matriz_diagonal(X)\n",
    "def matriz_diagonal(X):\n",
    "    \"\"\"\n",
    "    X: un arreglo de NumPy con dimensión (n, m)\n",
    "\n",
    "    Retorna un arreglo Y con dimensión (n, n) para n < m, ó (m, m) en caso contrario.\n",
    "    \"\"\"\n",
    "    ### ESCRIBA SU CÓDIGO AQUÍ ### \n",
    "    # Reemplace la palabra None por el código correspondiente\n",
    "    # ~ 4-5 líneas de código\n",
    "    # Obtenga el tamaño del arreglo (ancho y alto).\n",
    "    N, M = None, None\n",
    "    # Obtenga el tamaño del lado de la matriz a generar.\n",
    "    L = None\n",
    "\n",
    "    # Realice operaciones en la matriz para generar Y.\n",
    "    Y = None\n",
    "\n",
    "    ### FIN DEL CÓDIGO ### \n",
    "    return Y"
   ]
  },
  {
   "cell_type": "code",
   "execution_count": null,
   "metadata": {
    "id": "en8hPWjNMtNK"
   },
   "outputs": [],
   "source": [
    "# CELDA DE PRUEBAS \n",
    "X0 = np.array([\n",
    "    [1, 0, 2, 9, 2],\n",
    "    [9, 2, 6, 5, 7],\n",
    "    [6, 4, 3, 4, 7]\n",
    "    \n",
    "])\n",
    "\n",
    "matriz_diagonal(X0)"
   ]
  },
  {
   "cell_type": "markdown",
   "metadata": {
    "id": "bEi_fcZVghiI"
   },
   "source": [
    "La salida de la celda anterior debería ser:\n",
    "```\n",
    "array([[1., 0., 0.],\n",
    "       [0., 2., 0.],\n",
    "       [0., 0., 3.]])\n",
    "```"
   ]
  },
  {
   "cell_type": "code",
   "execution_count": null,
   "metadata": {
    "id": "J5aYz8ozgJIZ"
   },
   "outputs": [],
   "source": [
    "# CELDA DE PRUEBAS \n",
    "X1 = np.array([\n",
    "    [4, 0, 2],\n",
    "    [9, 5, 6],\n",
    "    [1, 9, 6],\n",
    "    [3, 0, 5]\n",
    "    \n",
    "])\n",
    "\n",
    "matriz_diagonal(X1)"
   ]
  },
  {
   "cell_type": "markdown",
   "metadata": {
    "id": "Ml72W3GtgiEP"
   },
   "source": [
    "La salida de la celda anterior debería ser:\n",
    "```\n",
    "array([[4., 0., 0.],\n",
    "       [0., 5., 0.],\n",
    "       [0., 0., 6.]])\n",
    "```"
   ]
  }
 ],
 "metadata": {
  "colab": {
   "collapsed_sections": [],
   "name": "Copia de NBK - Quiz_2_Numpy.ipynb",
   "provenance": [
    {
     "file_id": "1Hl57iKAGtRLKmFCpkoOsADmhLDrquLYH",
     "timestamp": 1614116100320
    }
   ],
   "toc_visible": true
  },
  "kernelspec": {
   "display_name": "Python 3 (ipykernel)",
   "language": "python",
   "name": "python3"
  },
  "language_info": {
   "codemirror_mode": {
    "name": "ipython",
    "version": 3
   },
   "file_extension": ".py",
   "mimetype": "text/x-python",
   "name": "python",
   "nbconvert_exporter": "python",
   "pygments_lexer": "ipython3",
   "version": "3.9.7"
  }
 },
 "nbformat": 4,
 "nbformat_minor": 4
}
